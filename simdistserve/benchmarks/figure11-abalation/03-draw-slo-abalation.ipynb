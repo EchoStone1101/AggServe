{
 "cells": [
  {
   "cell_type": "code",
   "outputs": [],
   "source": [
    "is_notebook_mode = 'get_ipython' in globals()"
   ],
   "metadata": {
    "collapsed": false,
    "ExecuteTime": {
     "end_time": "2024-04-24T04:12:45.186808Z",
     "start_time": "2024-04-24T04:12:45.178562Z"
    }
   },
   "id": "533190508e943b59",
   "execution_count": 23
  },
  {
   "cell_type": "code",
   "outputs": [],
   "source": [
    "from pathlib import Path\n",
    "Path(\"figure\").mkdir(exist_ok=True)\n",
    "Path(\"visual\").mkdir(exist_ok=True)"
   ],
   "metadata": {
    "collapsed": false,
    "ExecuteTime": {
     "end_time": "2024-04-24T04:12:45.366831Z",
     "start_time": "2024-04-24T04:12:45.190136Z"
    }
   },
   "id": "49b872cc8303da3d",
   "execution_count": 24
  },
  {
   "cell_type": "code",
   "execution_count": 25,
   "id": "initial_id",
   "metadata": {
    "collapsed": true,
    "ExecuteTime": {
     "end_time": "2024-04-24T04:12:45.455626Z",
     "start_time": "2024-04-24T04:12:45.370954Z"
    }
   },
   "outputs": [],
   "source": [
    "import os\n",
    "from argparse import Namespace\n",
    "from pathlib import Path\n",
    "\n",
    "import pandas as pd\n",
    "\n",
    "assert Namespace\n",
    "\n",
    "\n",
    "\n",
    "# Get all files with format '*.latency.csv' from root_dir\n",
    "# root_dir = Path(\"fig11-abalation-log\")\n",
    "root_dir = Path(\"result\")\n",
    "latency_file_paths = sorted(list(root_dir.glob(\"*.latency.csv\")))\n",
    "experiment_log_paths = sorted(list(root_dir.glob(\"*.log\")))\n",
    "columns = ['backend', 'rate', 'target', 'attainment', 'latency']"
   ]
  },
  {
   "cell_type": "code",
   "outputs": [],
   "source": [
    "dfs = []\n",
    "namespaces = []\n",
    "for latency_file_path, experiment_log_path in zip(latency_file_paths, experiment_log_paths):\n",
    "    # read experiment_log_path and log the namespace\n",
    "    # with open(experiment_log_path, 'r') as f:\n",
    "    #     exp_args = f.read()\n",
    "    #     exp_args = eval(exp_args)\n",
    "    #     namespaces.append(exp_args)\n",
    "\n",
    "    try:\n",
    "        df = pd.read_csv(latency_file_path)\n",
    "    except pd.errors.EmptyDataError:\n",
    "        pass\n",
    "    dfs.append(df)"
   ],
   "metadata": {
    "collapsed": false,
    "ExecuteTime": {
     "end_time": "2024-04-24T04:12:45.729545Z",
     "start_time": "2024-04-24T04:12:45.458534Z"
    }
   },
   "id": "22b627c101c9f43e",
   "execution_count": 26
  },
  {
   "cell_type": "code",
   "outputs": [],
   "source": [
    "big_df = pd.concat(dfs, ignore_index=True)\n",
    "big_df['ngpu'] = big_df['tp_prefill'] * big_df['pp_prefill'] + big_df['tp_decode'] * big_df['pp_decode']\n",
    "big_df['per_gpu_rate'] = big_df['rate'] / big_df['ngpu']\n",
    "big_df['goodput@90'] = big_df.apply(\n",
    "    lambda x: x['rate'] / x['ngpu'] if x['attainment'] >= 90 else 0,\n",
    "    axis=1,\n",
    ")\n",
    "big_df['target'] = big_df['target'].apply(eval)\n",
    "chosen_per_gpu_rate = 1\n",
    "big_df = big_df[big_df['per_gpu_rate'] == chosen_per_gpu_rate]"
   ],
   "metadata": {
    "collapsed": false,
    "ExecuteTime": {
     "end_time": "2024-04-24T04:12:45.879221Z",
     "start_time": "2024-04-24T04:12:45.780732Z"
    }
   },
   "id": "996bdee6b0402f1f",
   "execution_count": 27
  },
  {
   "cell_type": "code",
   "outputs": [
    {
     "data": {
      "text/plain": "        backend model_type       pd  rate          target  attainment  \\\n175   distserve    OPT-13B  prefill  12.0           200.0    9.083333   \n176   distserve    OPT-13B   decode  12.0           100.0   65.083333   \n177   distserve    OPT-13B     both  12.0  (200.0, 100.0)    5.666667   \n178   distserve    OPT-13B  prefill  12.0            80.0    2.750000   \n179   distserve    OPT-13B   decode  12.0            40.0    6.000000   \n...         ...        ...      ...   ...             ...         ...   \n5820       vllm    OPT-13B   decode   8.0      371.657531   95.000000   \n5821       vllm    OPT-13B  prefill   8.0      508.697275   98.000000   \n5822       vllm    OPT-13B   decode   8.0      432.904646   98.000000   \n5823       vllm    OPT-13B  prefill   8.0      613.994735   99.000000   \n5824       vllm    OPT-13B   decode   8.0      470.410056   99.000000   \n\n      tp_prefill  pp_prefill  tp_decode  pp_decode  ngpu  per_gpu_rate  \\\n175            1           1          1          2     3           4.0   \n176            1           1          1          2     3           4.0   \n177            1           1          1          2     3           4.0   \n178            1           1          1          2     3           4.0   \n179            1           1          1          2     3           4.0   \n...          ...         ...        ...        ...   ...           ...   \n5820           2           1          0          0     2           4.0   \n5821           2           1          0          0     2           4.0   \n5822           2           1          0          0     2           4.0   \n5823           2           1          0          0     2           4.0   \n5824           2           1          0          0     2           4.0   \n\n      goodput@90  \n175          0.0  \n176          0.0  \n177          0.0  \n178          0.0  \n179          0.0  \n...          ...  \n5820         4.0  \n5821         4.0  \n5822         4.0  \n5823         4.0  \n5824         4.0  \n\n[1175 rows x 13 columns]",
      "text/html": "<div>\n<style scoped>\n    .dataframe tbody tr th:only-of-type {\n        vertical-align: middle;\n    }\n\n    .dataframe tbody tr th {\n        vertical-align: top;\n    }\n\n    .dataframe thead th {\n        text-align: right;\n    }\n</style>\n<table border=\"1\" class=\"dataframe\">\n  <thead>\n    <tr style=\"text-align: right;\">\n      <th></th>\n      <th>backend</th>\n      <th>model_type</th>\n      <th>pd</th>\n      <th>rate</th>\n      <th>target</th>\n      <th>attainment</th>\n      <th>tp_prefill</th>\n      <th>pp_prefill</th>\n      <th>tp_decode</th>\n      <th>pp_decode</th>\n      <th>ngpu</th>\n      <th>per_gpu_rate</th>\n      <th>goodput@90</th>\n    </tr>\n  </thead>\n  <tbody>\n    <tr>\n      <th>175</th>\n      <td>distserve</td>\n      <td>OPT-13B</td>\n      <td>prefill</td>\n      <td>12.0</td>\n      <td>200.0</td>\n      <td>9.083333</td>\n      <td>1</td>\n      <td>1</td>\n      <td>1</td>\n      <td>2</td>\n      <td>3</td>\n      <td>4.0</td>\n      <td>0.0</td>\n    </tr>\n    <tr>\n      <th>176</th>\n      <td>distserve</td>\n      <td>OPT-13B</td>\n      <td>decode</td>\n      <td>12.0</td>\n      <td>100.0</td>\n      <td>65.083333</td>\n      <td>1</td>\n      <td>1</td>\n      <td>1</td>\n      <td>2</td>\n      <td>3</td>\n      <td>4.0</td>\n      <td>0.0</td>\n    </tr>\n    <tr>\n      <th>177</th>\n      <td>distserve</td>\n      <td>OPT-13B</td>\n      <td>both</td>\n      <td>12.0</td>\n      <td>(200.0, 100.0)</td>\n      <td>5.666667</td>\n      <td>1</td>\n      <td>1</td>\n      <td>1</td>\n      <td>2</td>\n      <td>3</td>\n      <td>4.0</td>\n      <td>0.0</td>\n    </tr>\n    <tr>\n      <th>178</th>\n      <td>distserve</td>\n      <td>OPT-13B</td>\n      <td>prefill</td>\n      <td>12.0</td>\n      <td>80.0</td>\n      <td>2.750000</td>\n      <td>1</td>\n      <td>1</td>\n      <td>1</td>\n      <td>2</td>\n      <td>3</td>\n      <td>4.0</td>\n      <td>0.0</td>\n    </tr>\n    <tr>\n      <th>179</th>\n      <td>distserve</td>\n      <td>OPT-13B</td>\n      <td>decode</td>\n      <td>12.0</td>\n      <td>40.0</td>\n      <td>6.000000</td>\n      <td>1</td>\n      <td>1</td>\n      <td>1</td>\n      <td>2</td>\n      <td>3</td>\n      <td>4.0</td>\n      <td>0.0</td>\n    </tr>\n    <tr>\n      <th>...</th>\n      <td>...</td>\n      <td>...</td>\n      <td>...</td>\n      <td>...</td>\n      <td>...</td>\n      <td>...</td>\n      <td>...</td>\n      <td>...</td>\n      <td>...</td>\n      <td>...</td>\n      <td>...</td>\n      <td>...</td>\n      <td>...</td>\n    </tr>\n    <tr>\n      <th>5820</th>\n      <td>vllm</td>\n      <td>OPT-13B</td>\n      <td>decode</td>\n      <td>8.0</td>\n      <td>371.657531</td>\n      <td>95.000000</td>\n      <td>2</td>\n      <td>1</td>\n      <td>0</td>\n      <td>0</td>\n      <td>2</td>\n      <td>4.0</td>\n      <td>4.0</td>\n    </tr>\n    <tr>\n      <th>5821</th>\n      <td>vllm</td>\n      <td>OPT-13B</td>\n      <td>prefill</td>\n      <td>8.0</td>\n      <td>508.697275</td>\n      <td>98.000000</td>\n      <td>2</td>\n      <td>1</td>\n      <td>0</td>\n      <td>0</td>\n      <td>2</td>\n      <td>4.0</td>\n      <td>4.0</td>\n    </tr>\n    <tr>\n      <th>5822</th>\n      <td>vllm</td>\n      <td>OPT-13B</td>\n      <td>decode</td>\n      <td>8.0</td>\n      <td>432.904646</td>\n      <td>98.000000</td>\n      <td>2</td>\n      <td>1</td>\n      <td>0</td>\n      <td>0</td>\n      <td>2</td>\n      <td>4.0</td>\n      <td>4.0</td>\n    </tr>\n    <tr>\n      <th>5823</th>\n      <td>vllm</td>\n      <td>OPT-13B</td>\n      <td>prefill</td>\n      <td>8.0</td>\n      <td>613.994735</td>\n      <td>99.000000</td>\n      <td>2</td>\n      <td>1</td>\n      <td>0</td>\n      <td>0</td>\n      <td>2</td>\n      <td>4.0</td>\n      <td>4.0</td>\n    </tr>\n    <tr>\n      <th>5824</th>\n      <td>vllm</td>\n      <td>OPT-13B</td>\n      <td>decode</td>\n      <td>8.0</td>\n      <td>470.410056</td>\n      <td>99.000000</td>\n      <td>2</td>\n      <td>1</td>\n      <td>0</td>\n      <td>0</td>\n      <td>2</td>\n      <td>4.0</td>\n      <td>4.0</td>\n    </tr>\n  </tbody>\n</table>\n<p>1175 rows × 13 columns</p>\n</div>"
     },
     "execution_count": 28,
     "metadata": {},
     "output_type": "execute_result"
    }
   ],
   "source": [
    "big_df"
   ],
   "metadata": {
    "collapsed": false,
    "ExecuteTime": {
     "end_time": "2024-04-24T04:12:45.880080Z",
     "start_time": "2024-04-24T04:12:45.862326Z"
    }
   },
   "id": "33128238c56688d6",
   "execution_count": 28
  },
  {
   "cell_type": "code",
   "outputs": [],
   "source": [
    "slos = [0.4, 0.6, 0.8, 1, 1.2]\n",
    "targets = [\n",
    "    (200 * slo, 100 * slo)\n",
    "    for slo in slos\n",
    "]\n",
    "target_to_slo = {\n",
    "    target: slo\n",
    "    for target, slo in zip(targets, slos)\n",
    "}"
   ],
   "metadata": {
    "collapsed": false,
    "ExecuteTime": {
     "end_time": "2024-04-24T04:12:45.880447Z",
     "start_time": "2024-04-24T04:12:45.866908Z"
    }
   },
   "id": "df2ec8ee4315f2ea",
   "execution_count": 29
  },
  {
   "cell_type": "code",
   "outputs": [],
   "source": [
    "big_df = big_df[big_df['target'].isin(targets)]\n",
    "big_df = big_df.copy()"
   ],
   "metadata": {
    "collapsed": false,
    "ExecuteTime": {
     "end_time": "2024-04-24T04:12:45.880783Z",
     "start_time": "2024-04-24T04:12:45.870521Z"
    }
   },
   "id": "26ed0cc448ceb755",
   "execution_count": 30
  },
  {
   "cell_type": "code",
   "outputs": [],
   "source": [
    "big_df['slo'] = big_df['target'].apply(lambda x: target_to_slo[x])"
   ],
   "metadata": {
    "collapsed": false,
    "ExecuteTime": {
     "end_time": "2024-04-24T04:12:45.910257Z",
     "start_time": "2024-04-24T04:12:45.873645Z"
    }
   },
   "id": "189a817ce7c13400",
   "execution_count": 31
  },
  {
   "cell_type": "code",
   "outputs": [],
   "source": [
    "max_machine = 4\n",
    "max_gpu_per_node = 8\n",
    "\n",
    "\n",
    "def can_fit_low_affinity_distserve(x):\n",
    "    a, b, c, d = x['tp_prefill'], x['pp_prefill'], x['tp_decode'], x['pp_decode']\n",
    "    for pp_common in range(1, max_machine + 1):\n",
    "        bp = b / pp_common\n",
    "        dp = d / pp_common\n",
    "        # If either bp or dp is not int, skip\n",
    "        if int(bp) != bp or int(dp) != dp:\n",
    "            continue\n",
    "        # Check if the segment can be placed inside a node\n",
    "        if a * bp + c * dp <= max_gpu_per_node:\n",
    "            return True\n",
    "        pass\n",
    "    return False\n",
    "\n",
    "\n",
    "def can_fit_low_affinity(x):\n",
    "    if x['backend'] == 'distserve':\n",
    "        return can_fit_low_affinity_distserve(x)\n",
    "    else:\n",
    "        return True\n",
    "    pass\n",
    "\n",
    "\n",
    "big_df['low_affin'] = big_df.apply(can_fit_low_affinity, axis=1)"
   ],
   "metadata": {
    "collapsed": false,
    "ExecuteTime": {
     "end_time": "2024-04-24T04:12:45.923750Z",
     "start_time": "2024-04-24T04:12:45.881828Z"
    }
   },
   "id": "10acf2dc7e6d444f",
   "execution_count": 32
  },
  {
   "cell_type": "code",
   "outputs": [
    {
     "data": {
      "text/plain": "        backend model_type    pd  rate          target  attainment  \\\n177   distserve    OPT-13B  both  12.0  (200.0, 100.0)    5.666667   \n180   distserve    OPT-13B  both  12.0    (80.0, 40.0)    0.416667   \n183   distserve    OPT-13B  both  12.0   (120.0, 60.0)    0.750000   \n186   distserve    OPT-13B  both  12.0   (160.0, 80.0)    2.416667   \n189   distserve    OPT-13B  both  12.0  (240.0, 120.0)   11.916667   \n...         ...        ...   ...   ...             ...         ...   \n5802       vllm    OPT-13B  both   8.0  (200.0, 100.0)    9.750000   \n5805       vllm    OPT-13B  both   8.0    (80.0, 40.0)    0.375000   \n5808       vllm    OPT-13B  both   8.0   (120.0, 60.0)    2.000000   \n5811       vllm    OPT-13B  both   8.0   (160.0, 80.0)    4.750000   \n5814       vllm    OPT-13B  both   8.0  (240.0, 120.0)   15.750000   \n\n      tp_prefill  pp_prefill  tp_decode  pp_decode  ngpu  per_gpu_rate  \\\n177            1           1          1          2     3           4.0   \n180            1           1          1          2     3           4.0   \n183            1           1          1          2     3           4.0   \n186            1           1          1          2     3           4.0   \n189            1           1          1          2     3           4.0   \n...          ...         ...        ...        ...   ...           ...   \n5802           2           1          0          0     2           4.0   \n5805           2           1          0          0     2           4.0   \n5808           2           1          0          0     2           4.0   \n5811           2           1          0          0     2           4.0   \n5814           2           1          0          0     2           4.0   \n\n      goodput@90  slo  low_affin  \n177          0.0  1.0       True  \n180          0.0  0.4       True  \n183          0.0  0.6       True  \n186          0.0  0.8       True  \n189          0.0  1.2       True  \n...          ...  ...        ...  \n5802         0.0  1.0       True  \n5805         0.0  0.4       True  \n5808         0.0  0.6       True  \n5811         0.0  0.8       True  \n5814         0.0  1.2       True  \n\n[235 rows x 15 columns]",
      "text/html": "<div>\n<style scoped>\n    .dataframe tbody tr th:only-of-type {\n        vertical-align: middle;\n    }\n\n    .dataframe tbody tr th {\n        vertical-align: top;\n    }\n\n    .dataframe thead th {\n        text-align: right;\n    }\n</style>\n<table border=\"1\" class=\"dataframe\">\n  <thead>\n    <tr style=\"text-align: right;\">\n      <th></th>\n      <th>backend</th>\n      <th>model_type</th>\n      <th>pd</th>\n      <th>rate</th>\n      <th>target</th>\n      <th>attainment</th>\n      <th>tp_prefill</th>\n      <th>pp_prefill</th>\n      <th>tp_decode</th>\n      <th>pp_decode</th>\n      <th>ngpu</th>\n      <th>per_gpu_rate</th>\n      <th>goodput@90</th>\n      <th>slo</th>\n      <th>low_affin</th>\n    </tr>\n  </thead>\n  <tbody>\n    <tr>\n      <th>177</th>\n      <td>distserve</td>\n      <td>OPT-13B</td>\n      <td>both</td>\n      <td>12.0</td>\n      <td>(200.0, 100.0)</td>\n      <td>5.666667</td>\n      <td>1</td>\n      <td>1</td>\n      <td>1</td>\n      <td>2</td>\n      <td>3</td>\n      <td>4.0</td>\n      <td>0.0</td>\n      <td>1.0</td>\n      <td>True</td>\n    </tr>\n    <tr>\n      <th>180</th>\n      <td>distserve</td>\n      <td>OPT-13B</td>\n      <td>both</td>\n      <td>12.0</td>\n      <td>(80.0, 40.0)</td>\n      <td>0.416667</td>\n      <td>1</td>\n      <td>1</td>\n      <td>1</td>\n      <td>2</td>\n      <td>3</td>\n      <td>4.0</td>\n      <td>0.0</td>\n      <td>0.4</td>\n      <td>True</td>\n    </tr>\n    <tr>\n      <th>183</th>\n      <td>distserve</td>\n      <td>OPT-13B</td>\n      <td>both</td>\n      <td>12.0</td>\n      <td>(120.0, 60.0)</td>\n      <td>0.750000</td>\n      <td>1</td>\n      <td>1</td>\n      <td>1</td>\n      <td>2</td>\n      <td>3</td>\n      <td>4.0</td>\n      <td>0.0</td>\n      <td>0.6</td>\n      <td>True</td>\n    </tr>\n    <tr>\n      <th>186</th>\n      <td>distserve</td>\n      <td>OPT-13B</td>\n      <td>both</td>\n      <td>12.0</td>\n      <td>(160.0, 80.0)</td>\n      <td>2.416667</td>\n      <td>1</td>\n      <td>1</td>\n      <td>1</td>\n      <td>2</td>\n      <td>3</td>\n      <td>4.0</td>\n      <td>0.0</td>\n      <td>0.8</td>\n      <td>True</td>\n    </tr>\n    <tr>\n      <th>189</th>\n      <td>distserve</td>\n      <td>OPT-13B</td>\n      <td>both</td>\n      <td>12.0</td>\n      <td>(240.0, 120.0)</td>\n      <td>11.916667</td>\n      <td>1</td>\n      <td>1</td>\n      <td>1</td>\n      <td>2</td>\n      <td>3</td>\n      <td>4.0</td>\n      <td>0.0</td>\n      <td>1.2</td>\n      <td>True</td>\n    </tr>\n    <tr>\n      <th>...</th>\n      <td>...</td>\n      <td>...</td>\n      <td>...</td>\n      <td>...</td>\n      <td>...</td>\n      <td>...</td>\n      <td>...</td>\n      <td>...</td>\n      <td>...</td>\n      <td>...</td>\n      <td>...</td>\n      <td>...</td>\n      <td>...</td>\n      <td>...</td>\n      <td>...</td>\n    </tr>\n    <tr>\n      <th>5802</th>\n      <td>vllm</td>\n      <td>OPT-13B</td>\n      <td>both</td>\n      <td>8.0</td>\n      <td>(200.0, 100.0)</td>\n      <td>9.750000</td>\n      <td>2</td>\n      <td>1</td>\n      <td>0</td>\n      <td>0</td>\n      <td>2</td>\n      <td>4.0</td>\n      <td>0.0</td>\n      <td>1.0</td>\n      <td>True</td>\n    </tr>\n    <tr>\n      <th>5805</th>\n      <td>vllm</td>\n      <td>OPT-13B</td>\n      <td>both</td>\n      <td>8.0</td>\n      <td>(80.0, 40.0)</td>\n      <td>0.375000</td>\n      <td>2</td>\n      <td>1</td>\n      <td>0</td>\n      <td>0</td>\n      <td>2</td>\n      <td>4.0</td>\n      <td>0.0</td>\n      <td>0.4</td>\n      <td>True</td>\n    </tr>\n    <tr>\n      <th>5808</th>\n      <td>vllm</td>\n      <td>OPT-13B</td>\n      <td>both</td>\n      <td>8.0</td>\n      <td>(120.0, 60.0)</td>\n      <td>2.000000</td>\n      <td>2</td>\n      <td>1</td>\n      <td>0</td>\n      <td>0</td>\n      <td>2</td>\n      <td>4.0</td>\n      <td>0.0</td>\n      <td>0.6</td>\n      <td>True</td>\n    </tr>\n    <tr>\n      <th>5811</th>\n      <td>vllm</td>\n      <td>OPT-13B</td>\n      <td>both</td>\n      <td>8.0</td>\n      <td>(160.0, 80.0)</td>\n      <td>4.750000</td>\n      <td>2</td>\n      <td>1</td>\n      <td>0</td>\n      <td>0</td>\n      <td>2</td>\n      <td>4.0</td>\n      <td>0.0</td>\n      <td>0.8</td>\n      <td>True</td>\n    </tr>\n    <tr>\n      <th>5814</th>\n      <td>vllm</td>\n      <td>OPT-13B</td>\n      <td>both</td>\n      <td>8.0</td>\n      <td>(240.0, 120.0)</td>\n      <td>15.750000</td>\n      <td>2</td>\n      <td>1</td>\n      <td>0</td>\n      <td>0</td>\n      <td>2</td>\n      <td>4.0</td>\n      <td>0.0</td>\n      <td>1.2</td>\n      <td>True</td>\n    </tr>\n  </tbody>\n</table>\n<p>235 rows × 15 columns</p>\n</div>"
     },
     "execution_count": 33,
     "metadata": {},
     "output_type": "execute_result"
    }
   ],
   "source": [
    "big_df"
   ],
   "metadata": {
    "collapsed": false,
    "ExecuteTime": {
     "end_time": "2024-04-24T04:12:45.924461Z",
     "start_time": "2024-04-24T04:12:45.893140Z"
    }
   },
   "id": "d26c6849c7b34fb0",
   "execution_count": 33
  },
  {
   "cell_type": "code",
   "outputs": [],
   "source": [
    "figure_11_right_df = big_df.copy()"
   ],
   "metadata": {
    "collapsed": false,
    "ExecuteTime": {
     "end_time": "2024-04-24T04:12:45.924799Z",
     "start_time": "2024-04-24T04:12:45.896360Z"
    }
   },
   "id": "bbe34e36a43d0c88",
   "execution_count": 34
  },
  {
   "cell_type": "code",
   "outputs": [],
   "source": [
    "figure_11_distserve_high = figure_11_right_df[\n",
    "    (figure_11_right_df['backend'] == 'distserve')\n",
    "]\n",
    "figure_11_distserve_low = figure_11_right_df[\n",
    "    (figure_11_right_df['backend'] == 'distserve') & (figure_11_right_df['low_affin'])\n",
    "]\n",
    "figure_11_vllm_high = figure_11_right_df[\n",
    "    (figure_11_right_df['backend'] == 'vllm')\n",
    "]\n",
    "figure_11_vllm_low = figure_11_right_df[\n",
    "    (figure_11_right_df['backend'] == 'vllm') & (figure_11_right_df['low_affin'])\n",
    "]"
   ],
   "metadata": {
    "collapsed": false,
    "ExecuteTime": {
     "end_time": "2024-04-24T04:12:45.925122Z",
     "start_time": "2024-04-24T04:12:45.901987Z"
    }
   },
   "id": "f4982c52dbfcdd20",
   "execution_count": 35
  },
  {
   "cell_type": "code",
   "outputs": [],
   "source": [
    "def get_top_config(df):\n",
    "    strictest_slo = min(slos)\n",
    "    r = df[df['slo'] == strictest_slo].sort_values(\n",
    "        by=['goodput@90', 'attainment'],\n",
    "        ascending=False,\n",
    "    ).iloc[0][[\n",
    "        \"tp_prefill\",\n",
    "        \"pp_prefill\",\n",
    "        \"tp_decode\",\n",
    "        \"pp_decode\",\n",
    "    ]]\n",
    "    return r"
   ],
   "metadata": {
    "collapsed": false,
    "ExecuteTime": {
     "end_time": "2024-04-24T04:12:45.977172Z",
     "start_time": "2024-04-24T04:12:45.920391Z"
    }
   },
   "id": "5f8e72e625583bbe",
   "execution_count": 36
  },
  {
   "cell_type": "code",
   "outputs": [],
   "source": [
    "big_df = big_df.sort_values(by=['per_gpu_rate', 'slo', ], ascending=False)"
   ],
   "metadata": {
    "collapsed": false,
    "ExecuteTime": {
     "end_time": "2024-04-24T04:12:46.046821Z",
     "start_time": "2024-04-24T04:12:45.958955Z"
    }
   },
   "id": "935bfb650ab31b58",
   "execution_count": 37
  },
  {
   "cell_type": "code",
   "outputs": [
    {
     "data": {
      "application/vnd.plotly.v1+json": {
       "data": [
        {
         "mode": "lines+markers",
         "name": "p1112-distserve",
         "x": [
          1.2,
          1.0,
          0.8,
          0.6,
          0.4
         ],
         "y": [
          11.916666666666668,
          5.666666666666666,
          2.4166666666666665,
          0.75,
          0.4166666666666667
         ],
         "type": "scatter"
        },
        {
         "mode": "lines+markers",
         "name": "p1121-distserve",
         "x": [
          1.2,
          1.0,
          0.8,
          0.6,
          0.4
         ],
         "y": [
          2.25,
          1.3333333333333337,
          1.0,
          0.6666666666666667,
          0.4166666666666667
         ],
         "type": "scatter"
        },
        {
         "mode": "lines+markers",
         "name": "p1211-distserve",
         "x": [
          1.2,
          1.0,
          0.8,
          0.6,
          0.4
         ],
         "y": [
          12.166666666666668,
          9.25,
          5.75,
          2.4166666666666665,
          1.0
         ],
         "type": "scatter"
        },
        {
         "mode": "lines+markers",
         "name": "p2111-distserve",
         "x": [
          1.2,
          1.0,
          0.8,
          0.6,
          0.4
         ],
         "y": [
          31.833333333333336,
          22.75,
          13.5,
          7.583333333333334,
          2.5
         ],
         "type": "scatter"
        },
        {
         "mode": "lines+markers",
         "name": "p1212-distserve",
         "x": [
          1.2,
          1.0,
          0.8,
          0.6,
          0.4
         ],
         "y": [
          21.0625,
          12.5,
          5.0625,
          1.625,
          0.375
         ],
         "type": "scatter"
        },
        {
         "mode": "lines+markers",
         "name": "p1221-distserve",
         "x": [
          1.2,
          1.0,
          0.8,
          0.6,
          0.4
         ],
         "y": [
          6.4375,
          4.6875,
          2.5625,
          0.8125,
          0.25
         ],
         "type": "scatter"
        },
        {
         "mode": "lines+markers",
         "name": "p2112-distserve",
         "x": [
          1.2,
          1.0,
          0.8,
          0.6,
          0.4
         ],
         "y": [
          51.24999999999999,
          43.25,
          34.6875,
          7.4375,
          1.25
         ],
         "type": "scatter"
        },
        {
         "mode": "lines+markers",
         "name": "p2121-distserve",
         "x": [
          1.2,
          1.0,
          0.8,
          0.6,
          0.4
         ],
         "y": [
          16.1875,
          10.0,
          5.4375,
          2.0,
          0.75
         ],
         "type": "scatter"
        },
        {
         "mode": "lines+markers",
         "name": "p1114-distserve",
         "x": [
          1.2,
          1.0,
          0.8,
          0.6,
          0.4
         ],
         "y": [
          0.05,
          0.05,
          0.05,
          0.0,
          0.0
         ],
         "type": "scatter"
        },
        {
         "mode": "lines+markers",
         "name": "p1122-distserve",
         "x": [
          1.2,
          1.0,
          0.8,
          0.6,
          0.4
         ],
         "y": [
          0.05,
          0.05,
          0.05,
          0.0,
          0.0
         ],
         "type": "scatter"
        },
        {
         "mode": "lines+markers",
         "name": "p1141-distserve",
         "x": [
          1.2,
          1.0,
          0.8,
          0.6,
          0.4
         ],
         "y": [
          0.05,
          0.05,
          0.05,
          0.0,
          0.0
         ],
         "type": "scatter"
        },
        {
         "mode": "lines+markers",
         "name": "p1411-distserve",
         "x": [
          1.2,
          1.0,
          0.8,
          0.6,
          0.4
         ],
         "y": [
          6.15,
          4.6,
          2.55,
          0.8500000000000001,
          0.25
         ],
         "type": "scatter"
        },
        {
         "mode": "lines+markers",
         "name": "p2211-distserve",
         "x": [
          1.2,
          1.0,
          0.8,
          0.6,
          0.4
         ],
         "y": [
          10.65,
          8.15,
          6.15,
          3.75,
          0.8999999999999999
         ],
         "type": "scatter"
        },
        {
         "mode": "lines+markers",
         "name": "p4111-distserve",
         "x": [
          1.2,
          1.0,
          0.8,
          0.6,
          0.4
         ],
         "y": [
          29.65,
          22.3,
          15.55,
          9.0,
          4.5
         ],
         "type": "scatter"
        },
        {
         "mode": "lines+markers",
         "name": "p1214-distserve",
         "x": [
          1.2,
          1.0,
          0.8,
          0.6,
          0.4
         ],
         "y": [
          2.5416666666666665,
          0.9583333333333331,
          0.5833333333333334,
          0.25,
          0.0833333333333333
         ],
         "type": "scatter"
        },
        {
         "mode": "lines+markers",
         "name": "p1222-distserve",
         "x": [
          1.2,
          1.0,
          0.8,
          0.6,
          0.4
         ],
         "y": [
          0.8333333333333334,
          0.7083333333333333,
          0.4583333333333333,
          0.25,
          0.0833333333333333
         ],
         "type": "scatter"
        },
        {
         "mode": "lines+markers",
         "name": "p1241-distserve",
         "x": [
          1.2,
          1.0,
          0.8,
          0.6,
          0.4
         ],
         "y": [
          0.75,
          0.6666666666666667,
          0.4583333333333333,
          0.25,
          0.0833333333333333
         ],
         "type": "scatter"
        },
        {
         "mode": "lines+markers",
         "name": "p1412-distserve",
         "x": [
          1.2,
          1.0,
          0.8,
          0.6,
          0.4
         ],
         "y": [
          11.125,
          7.416666666666667,
          3.4166666666666665,
          1.0416666666666663,
          0.1666666666666666
         ],
         "type": "scatter"
        },
        {
         "mode": "lines+markers",
         "name": "p1421-distserve",
         "x": [
          1.2,
          1.0,
          0.8,
          0.6,
          0.4
         ],
         "y": [
          4.25,
          3.25,
          1.625,
          0.4166666666666667,
          0.125
         ],
         "type": "scatter"
        },
        {
         "mode": "lines+markers",
         "name": "p2114-distserve",
         "x": [
          1.2,
          1.0,
          0.8,
          0.6,
          0.4
         ],
         "y": [
          1.0,
          0.5416666666666667,
          0.4583333333333333,
          0.25,
          0.0833333333333333
         ],
         "type": "scatter"
        },
        {
         "mode": "lines+markers",
         "name": "p2122-distserve",
         "x": [
          1.2,
          1.0,
          0.8,
          0.6,
          0.4
         ],
         "y": [
          1.0,
          0.5416666666666667,
          0.4583333333333333,
          0.25,
          0.0833333333333333
         ],
         "type": "scatter"
        },
        {
         "mode": "lines+markers",
         "name": "p2141-distserve",
         "x": [
          1.2,
          1.0,
          0.8,
          0.6,
          0.4
         ],
         "y": [
          1.0,
          0.5416666666666667,
          0.4583333333333333,
          0.2083333333333333,
          0.0833333333333333
         ],
         "type": "scatter"
        },
        {
         "mode": "lines+markers",
         "name": "p2212-distserve",
         "x": [
          1.2,
          1.0,
          0.8,
          0.6,
          0.4
         ],
         "y": [
          34.66666666666667,
          19.20833333333333,
          11.5,
          4.458333333333334,
          0.9583333333333331
         ],
         "type": "scatter"
        },
        {
         "mode": "lines+markers",
         "name": "p2221-distserve",
         "x": [
          1.2,
          1.0,
          0.8,
          0.6,
          0.4
         ],
         "y": [
          10.083333333333332,
          6.791666666666667,
          4.458333333333334,
          2.5416666666666665,
          0.5
         ],
         "type": "scatter"
        },
        {
         "mode": "lines+markers",
         "name": "p4112-distserve",
         "x": [
          1.2,
          1.0,
          0.8,
          0.6,
          0.4
         ],
         "y": [
          90.04166666666666,
          84.0,
          73.83333333333333,
          21.083333333333336,
          5.416666666666667
         ],
         "type": "scatter"
        },
        {
         "mode": "lines+markers",
         "name": "p4121-distserve",
         "x": [
          1.2,
          1.0,
          0.8,
          0.6,
          0.4
         ],
         "y": [
          29.33333333333333,
          21.416666666666668,
          14.083333333333334,
          7.166666666666667,
          2.7916666666666665
         ],
         "type": "scatter"
        },
        {
         "mode": "lines+markers",
         "name": "p1414-distserve",
         "x": [
          1.2,
          1.0,
          0.8,
          0.6,
          0.4
         ],
         "y": [
          9.25,
          4.9375,
          1.59375,
          0.34375,
          0.0625
         ],
         "type": "scatter"
        },
        {
         "mode": "lines+markers",
         "name": "p1422-distserve",
         "x": [
          1.2,
          1.0,
          0.8,
          0.6,
          0.4
         ],
         "y": [
          3.4687500000000004,
          2.28125,
          1.0,
          0.25,
          0.0625
         ],
         "type": "scatter"
        },
        {
         "mode": "lines+markers",
         "name": "p1441-distserve",
         "x": [
          1.2,
          1.0,
          0.8,
          0.6,
          0.4
         ],
         "y": [
          1.7812499999999998,
          1.25,
          0.4375,
          0.15625,
          0.0625
         ],
         "type": "scatter"
        },
        {
         "mode": "lines+markers",
         "name": "p2214-distserve",
         "x": [
          1.2,
          1.0,
          0.8,
          0.6,
          0.4
         ],
         "y": [
          35.8125,
          18.25,
          5.21875,
          1.46875,
          0.25
         ],
         "type": "scatter"
        },
        {
         "mode": "lines+markers",
         "name": "p2222-distserve",
         "x": [
          1.2,
          1.0,
          0.8,
          0.6,
          0.4
         ],
         "y": [
          7.843749999999999,
          4.3125,
          1.96875,
          0.625,
          0.21875
         ],
         "type": "scatter"
        },
        {
         "mode": "lines+markers",
         "name": "p2241-distserve",
         "x": [
          1.2,
          1.0,
          0.8,
          0.6,
          0.4
         ],
         "y": [
          2.8125,
          1.9375,
          1.03125,
          0.5,
          0.21875
         ],
         "type": "scatter"
        },
        {
         "mode": "lines+markers",
         "name": "p4114-distserve",
         "x": [
          1.2,
          1.0,
          0.8,
          0.6,
          0.4
         ],
         "y": [
          55.3125,
          46.6875,
          35.0625,
          13.593749999999998,
          1.28125
         ],
         "type": "scatter"
        },
        {
         "mode": "lines+markers",
         "name": "p4122-distserve",
         "x": [
          1.2,
          1.0,
          0.8,
          0.6,
          0.4
         ],
         "y": [
          40.40625,
          22.8125,
          8.0625,
          3.4062500000000004,
          0.625
         ],
         "type": "scatter"
        },
        {
         "mode": "lines+markers",
         "name": "p4141-distserve",
         "x": [
          1.2,
          1.0,
          0.8,
          0.6,
          0.4
         ],
         "y": [
          9.4375,
          6.09375,
          3.15625,
          1.65625,
          0.5
         ],
         "type": "scatter"
        },
        {
         "mode": "lines+markers",
         "name": "p1118-distserve",
         "x": [
          1.2,
          1.0,
          0.8,
          0.6,
          0.4
         ],
         "y": [
          0.0277777777777777,
          0.0277777777777777,
          0.0277777777777777,
          0.0,
          0.0
         ],
         "type": "scatter"
        },
        {
         "mode": "lines+markers",
         "name": "p1124-distserve",
         "x": [
          1.2,
          1.0,
          0.8,
          0.6,
          0.4
         ],
         "y": [
          0.0277777777777777,
          0.0277777777777777,
          0.0277777777777777,
          0.0,
          0.0
         ],
         "type": "scatter"
        },
        {
         "mode": "lines+markers",
         "name": "p1111-distserve",
         "x": [
          1.2,
          1.0,
          0.8,
          0.6,
          0.4
         ],
         "y": [
          22.875,
          15.125,
          8.875,
          3.875,
          1.5
         ],
         "type": "scatter"
        }
       ],
       "layout": {
        "template": {
         "data": {
          "histogram2dcontour": [
           {
            "type": "histogram2dcontour",
            "colorbar": {
             "outlinewidth": 0,
             "ticks": ""
            },
            "colorscale": [
             [
              0.0,
              "#0d0887"
             ],
             [
              0.1111111111111111,
              "#46039f"
             ],
             [
              0.2222222222222222,
              "#7201a8"
             ],
             [
              0.3333333333333333,
              "#9c179e"
             ],
             [
              0.4444444444444444,
              "#bd3786"
             ],
             [
              0.5555555555555556,
              "#d8576b"
             ],
             [
              0.6666666666666666,
              "#ed7953"
             ],
             [
              0.7777777777777778,
              "#fb9f3a"
             ],
             [
              0.8888888888888888,
              "#fdca26"
             ],
             [
              1.0,
              "#f0f921"
             ]
            ]
           }
          ],
          "choropleth": [
           {
            "type": "choropleth",
            "colorbar": {
             "outlinewidth": 0,
             "ticks": ""
            }
           }
          ],
          "histogram2d": [
           {
            "type": "histogram2d",
            "colorbar": {
             "outlinewidth": 0,
             "ticks": ""
            },
            "colorscale": [
             [
              0.0,
              "#0d0887"
             ],
             [
              0.1111111111111111,
              "#46039f"
             ],
             [
              0.2222222222222222,
              "#7201a8"
             ],
             [
              0.3333333333333333,
              "#9c179e"
             ],
             [
              0.4444444444444444,
              "#bd3786"
             ],
             [
              0.5555555555555556,
              "#d8576b"
             ],
             [
              0.6666666666666666,
              "#ed7953"
             ],
             [
              0.7777777777777778,
              "#fb9f3a"
             ],
             [
              0.8888888888888888,
              "#fdca26"
             ],
             [
              1.0,
              "#f0f921"
             ]
            ]
           }
          ],
          "heatmap": [
           {
            "type": "heatmap",
            "colorbar": {
             "outlinewidth": 0,
             "ticks": ""
            },
            "colorscale": [
             [
              0.0,
              "#0d0887"
             ],
             [
              0.1111111111111111,
              "#46039f"
             ],
             [
              0.2222222222222222,
              "#7201a8"
             ],
             [
              0.3333333333333333,
              "#9c179e"
             ],
             [
              0.4444444444444444,
              "#bd3786"
             ],
             [
              0.5555555555555556,
              "#d8576b"
             ],
             [
              0.6666666666666666,
              "#ed7953"
             ],
             [
              0.7777777777777778,
              "#fb9f3a"
             ],
             [
              0.8888888888888888,
              "#fdca26"
             ],
             [
              1.0,
              "#f0f921"
             ]
            ]
           }
          ],
          "heatmapgl": [
           {
            "type": "heatmapgl",
            "colorbar": {
             "outlinewidth": 0,
             "ticks": ""
            },
            "colorscale": [
             [
              0.0,
              "#0d0887"
             ],
             [
              0.1111111111111111,
              "#46039f"
             ],
             [
              0.2222222222222222,
              "#7201a8"
             ],
             [
              0.3333333333333333,
              "#9c179e"
             ],
             [
              0.4444444444444444,
              "#bd3786"
             ],
             [
              0.5555555555555556,
              "#d8576b"
             ],
             [
              0.6666666666666666,
              "#ed7953"
             ],
             [
              0.7777777777777778,
              "#fb9f3a"
             ],
             [
              0.8888888888888888,
              "#fdca26"
             ],
             [
              1.0,
              "#f0f921"
             ]
            ]
           }
          ],
          "contourcarpet": [
           {
            "type": "contourcarpet",
            "colorbar": {
             "outlinewidth": 0,
             "ticks": ""
            }
           }
          ],
          "contour": [
           {
            "type": "contour",
            "colorbar": {
             "outlinewidth": 0,
             "ticks": ""
            },
            "colorscale": [
             [
              0.0,
              "#0d0887"
             ],
             [
              0.1111111111111111,
              "#46039f"
             ],
             [
              0.2222222222222222,
              "#7201a8"
             ],
             [
              0.3333333333333333,
              "#9c179e"
             ],
             [
              0.4444444444444444,
              "#bd3786"
             ],
             [
              0.5555555555555556,
              "#d8576b"
             ],
             [
              0.6666666666666666,
              "#ed7953"
             ],
             [
              0.7777777777777778,
              "#fb9f3a"
             ],
             [
              0.8888888888888888,
              "#fdca26"
             ],
             [
              1.0,
              "#f0f921"
             ]
            ]
           }
          ],
          "surface": [
           {
            "type": "surface",
            "colorbar": {
             "outlinewidth": 0,
             "ticks": ""
            },
            "colorscale": [
             [
              0.0,
              "#0d0887"
             ],
             [
              0.1111111111111111,
              "#46039f"
             ],
             [
              0.2222222222222222,
              "#7201a8"
             ],
             [
              0.3333333333333333,
              "#9c179e"
             ],
             [
              0.4444444444444444,
              "#bd3786"
             ],
             [
              0.5555555555555556,
              "#d8576b"
             ],
             [
              0.6666666666666666,
              "#ed7953"
             ],
             [
              0.7777777777777778,
              "#fb9f3a"
             ],
             [
              0.8888888888888888,
              "#fdca26"
             ],
             [
              1.0,
              "#f0f921"
             ]
            ]
           }
          ],
          "mesh3d": [
           {
            "type": "mesh3d",
            "colorbar": {
             "outlinewidth": 0,
             "ticks": ""
            }
           }
          ],
          "scatter": [
           {
            "marker": {
             "line": {
              "color": "#283442"
             }
            },
            "type": "scatter"
           }
          ],
          "parcoords": [
           {
            "type": "parcoords",
            "line": {
             "colorbar": {
              "outlinewidth": 0,
              "ticks": ""
             }
            }
           }
          ],
          "scatterpolargl": [
           {
            "type": "scatterpolargl",
            "marker": {
             "colorbar": {
              "outlinewidth": 0,
              "ticks": ""
             }
            }
           }
          ],
          "bar": [
           {
            "error_x": {
             "color": "#f2f5fa"
            },
            "error_y": {
             "color": "#f2f5fa"
            },
            "marker": {
             "line": {
              "color": "rgb(17,17,17)",
              "width": 0.5
             },
             "pattern": {
              "fillmode": "overlay",
              "size": 10,
              "solidity": 0.2
             }
            },
            "type": "bar"
           }
          ],
          "scattergeo": [
           {
            "type": "scattergeo",
            "marker": {
             "colorbar": {
              "outlinewidth": 0,
              "ticks": ""
             }
            }
           }
          ],
          "scatterpolar": [
           {
            "type": "scatterpolar",
            "marker": {
             "colorbar": {
              "outlinewidth": 0,
              "ticks": ""
             }
            }
           }
          ],
          "histogram": [
           {
            "marker": {
             "pattern": {
              "fillmode": "overlay",
              "size": 10,
              "solidity": 0.2
             }
            },
            "type": "histogram"
           }
          ],
          "scattergl": [
           {
            "marker": {
             "line": {
              "color": "#283442"
             }
            },
            "type": "scattergl"
           }
          ],
          "scatter3d": [
           {
            "type": "scatter3d",
            "line": {
             "colorbar": {
              "outlinewidth": 0,
              "ticks": ""
             }
            },
            "marker": {
             "colorbar": {
              "outlinewidth": 0,
              "ticks": ""
             }
            }
           }
          ],
          "scattermapbox": [
           {
            "type": "scattermapbox",
            "marker": {
             "colorbar": {
              "outlinewidth": 0,
              "ticks": ""
             }
            }
           }
          ],
          "scatterternary": [
           {
            "type": "scatterternary",
            "marker": {
             "colorbar": {
              "outlinewidth": 0,
              "ticks": ""
             }
            }
           }
          ],
          "scattercarpet": [
           {
            "type": "scattercarpet",
            "marker": {
             "colorbar": {
              "outlinewidth": 0,
              "ticks": ""
             }
            }
           }
          ],
          "carpet": [
           {
            "aaxis": {
             "endlinecolor": "#A2B1C6",
             "gridcolor": "#506784",
             "linecolor": "#506784",
             "minorgridcolor": "#506784",
             "startlinecolor": "#A2B1C6"
            },
            "baxis": {
             "endlinecolor": "#A2B1C6",
             "gridcolor": "#506784",
             "linecolor": "#506784",
             "minorgridcolor": "#506784",
             "startlinecolor": "#A2B1C6"
            },
            "type": "carpet"
           }
          ],
          "table": [
           {
            "cells": {
             "fill": {
              "color": "#506784"
             },
             "line": {
              "color": "rgb(17,17,17)"
             }
            },
            "header": {
             "fill": {
              "color": "#2a3f5f"
             },
             "line": {
              "color": "rgb(17,17,17)"
             }
            },
            "type": "table"
           }
          ],
          "barpolar": [
           {
            "marker": {
             "line": {
              "color": "rgb(17,17,17)",
              "width": 0.5
             },
             "pattern": {
              "fillmode": "overlay",
              "size": 10,
              "solidity": 0.2
             }
            },
            "type": "barpolar"
           }
          ],
          "pie": [
           {
            "automargin": true,
            "type": "pie"
           }
          ]
         },
         "layout": {
          "autotypenumbers": "strict",
          "colorway": [
           "#636efa",
           "#EF553B",
           "#00cc96",
           "#ab63fa",
           "#FFA15A",
           "#19d3f3",
           "#FF6692",
           "#B6E880",
           "#FF97FF",
           "#FECB52"
          ],
          "font": {
           "color": "#f2f5fa"
          },
          "hovermode": "closest",
          "hoverlabel": {
           "align": "left"
          },
          "paper_bgcolor": "rgb(17,17,17)",
          "plot_bgcolor": "rgb(17,17,17)",
          "polar": {
           "bgcolor": "rgb(17,17,17)",
           "angularaxis": {
            "gridcolor": "#506784",
            "linecolor": "#506784",
            "ticks": ""
           },
           "radialaxis": {
            "gridcolor": "#506784",
            "linecolor": "#506784",
            "ticks": ""
           }
          },
          "ternary": {
           "bgcolor": "rgb(17,17,17)",
           "aaxis": {
            "gridcolor": "#506784",
            "linecolor": "#506784",
            "ticks": ""
           },
           "baxis": {
            "gridcolor": "#506784",
            "linecolor": "#506784",
            "ticks": ""
           },
           "caxis": {
            "gridcolor": "#506784",
            "linecolor": "#506784",
            "ticks": ""
           }
          },
          "coloraxis": {
           "colorbar": {
            "outlinewidth": 0,
            "ticks": ""
           }
          },
          "colorscale": {
           "sequential": [
            [
             0.0,
             "#0d0887"
            ],
            [
             0.1111111111111111,
             "#46039f"
            ],
            [
             0.2222222222222222,
             "#7201a8"
            ],
            [
             0.3333333333333333,
             "#9c179e"
            ],
            [
             0.4444444444444444,
             "#bd3786"
            ],
            [
             0.5555555555555556,
             "#d8576b"
            ],
            [
             0.6666666666666666,
             "#ed7953"
            ],
            [
             0.7777777777777778,
             "#fb9f3a"
            ],
            [
             0.8888888888888888,
             "#fdca26"
            ],
            [
             1.0,
             "#f0f921"
            ]
           ],
           "sequentialminus": [
            [
             0.0,
             "#0d0887"
            ],
            [
             0.1111111111111111,
             "#46039f"
            ],
            [
             0.2222222222222222,
             "#7201a8"
            ],
            [
             0.3333333333333333,
             "#9c179e"
            ],
            [
             0.4444444444444444,
             "#bd3786"
            ],
            [
             0.5555555555555556,
             "#d8576b"
            ],
            [
             0.6666666666666666,
             "#ed7953"
            ],
            [
             0.7777777777777778,
             "#fb9f3a"
            ],
            [
             0.8888888888888888,
             "#fdca26"
            ],
            [
             1.0,
             "#f0f921"
            ]
           ],
           "diverging": [
            [
             0,
             "#8e0152"
            ],
            [
             0.1,
             "#c51b7d"
            ],
            [
             0.2,
             "#de77ae"
            ],
            [
             0.3,
             "#f1b6da"
            ],
            [
             0.4,
             "#fde0ef"
            ],
            [
             0.5,
             "#f7f7f7"
            ],
            [
             0.6,
             "#e6f5d0"
            ],
            [
             0.7,
             "#b8e186"
            ],
            [
             0.8,
             "#7fbc41"
            ],
            [
             0.9,
             "#4d9221"
            ],
            [
             1,
             "#276419"
            ]
           ]
          },
          "xaxis": {
           "gridcolor": "#283442",
           "linecolor": "#506784",
           "ticks": "",
           "title": {
            "standoff": 15
           },
           "zerolinecolor": "#283442",
           "automargin": true,
           "zerolinewidth": 2
          },
          "yaxis": {
           "gridcolor": "#283442",
           "linecolor": "#506784",
           "ticks": "",
           "title": {
            "standoff": 15
           },
           "zerolinecolor": "#283442",
           "automargin": true,
           "zerolinewidth": 2
          },
          "scene": {
           "xaxis": {
            "backgroundcolor": "rgb(17,17,17)",
            "gridcolor": "#506784",
            "linecolor": "#506784",
            "showbackground": true,
            "ticks": "",
            "zerolinecolor": "#C8D4E3",
            "gridwidth": 2
           },
           "yaxis": {
            "backgroundcolor": "rgb(17,17,17)",
            "gridcolor": "#506784",
            "linecolor": "#506784",
            "showbackground": true,
            "ticks": "",
            "zerolinecolor": "#C8D4E3",
            "gridwidth": 2
           },
           "zaxis": {
            "backgroundcolor": "rgb(17,17,17)",
            "gridcolor": "#506784",
            "linecolor": "#506784",
            "showbackground": true,
            "ticks": "",
            "zerolinecolor": "#C8D4E3",
            "gridwidth": 2
           }
          },
          "shapedefaults": {
           "line": {
            "color": "#f2f5fa"
           }
          },
          "annotationdefaults": {
           "arrowcolor": "#f2f5fa",
           "arrowhead": 0,
           "arrowwidth": 1
          },
          "geo": {
           "bgcolor": "rgb(17,17,17)",
           "landcolor": "rgb(17,17,17)",
           "subunitcolor": "#506784",
           "showland": true,
           "showlakes": true,
           "lakecolor": "rgb(17,17,17)"
          },
          "title": {
           "x": 0.05
          },
          "updatemenudefaults": {
           "bgcolor": "#506784",
           "borderwidth": 0
          },
          "sliderdefaults": {
           "bgcolor": "#C8D4E3",
           "borderwidth": 1,
           "bordercolor": "rgb(17,17,17)",
           "tickwidth": 0
          },
          "mapbox": {
           "style": "dark"
          }
         }
        },
        "title": {
         "text": "DistServe"
        },
        "xaxis": {
         "title": {
          "text": "Per-GPU Rate (tokens/s)"
         },
         "range": [
          1.2,
          0.4
         ]
        },
        "yaxis": {
         "title": {
          "text": "Attainment (%)"
         }
        },
        "legend": {
         "title": {
          "text": "Configuration"
         }
        }
       },
       "config": {
        "plotlyServerURL": "https://plot.ly"
       }
      },
      "text/html": "<div>                            <div id=\"dc730986-d8e9-42b6-8381-d1ebc8404606\" class=\"plotly-graph-div\" style=\"height:525px; width:100%;\"></div>            <script type=\"text/javascript\">                require([\"plotly\"], function(Plotly) {                    window.PLOTLYENV=window.PLOTLYENV || {};                                    if (document.getElementById(\"dc730986-d8e9-42b6-8381-d1ebc8404606\")) {                    Plotly.newPlot(                        \"dc730986-d8e9-42b6-8381-d1ebc8404606\",                        [{\"mode\":\"lines+markers\",\"name\":\"p1112-distserve\",\"x\":[1.2,1.0,0.8,0.6,0.4],\"y\":[11.916666666666668,5.666666666666666,2.4166666666666665,0.75,0.4166666666666667],\"type\":\"scatter\"},{\"mode\":\"lines+markers\",\"name\":\"p1121-distserve\",\"x\":[1.2,1.0,0.8,0.6,0.4],\"y\":[2.25,1.3333333333333337,1.0,0.6666666666666667,0.4166666666666667],\"type\":\"scatter\"},{\"mode\":\"lines+markers\",\"name\":\"p1211-distserve\",\"x\":[1.2,1.0,0.8,0.6,0.4],\"y\":[12.166666666666668,9.25,5.75,2.4166666666666665,1.0],\"type\":\"scatter\"},{\"mode\":\"lines+markers\",\"name\":\"p2111-distserve\",\"x\":[1.2,1.0,0.8,0.6,0.4],\"y\":[31.833333333333336,22.75,13.5,7.583333333333334,2.5],\"type\":\"scatter\"},{\"mode\":\"lines+markers\",\"name\":\"p1212-distserve\",\"x\":[1.2,1.0,0.8,0.6,0.4],\"y\":[21.0625,12.5,5.0625,1.625,0.375],\"type\":\"scatter\"},{\"mode\":\"lines+markers\",\"name\":\"p1221-distserve\",\"x\":[1.2,1.0,0.8,0.6,0.4],\"y\":[6.4375,4.6875,2.5625,0.8125,0.25],\"type\":\"scatter\"},{\"mode\":\"lines+markers\",\"name\":\"p2112-distserve\",\"x\":[1.2,1.0,0.8,0.6,0.4],\"y\":[51.24999999999999,43.25,34.6875,7.4375,1.25],\"type\":\"scatter\"},{\"mode\":\"lines+markers\",\"name\":\"p2121-distserve\",\"x\":[1.2,1.0,0.8,0.6,0.4],\"y\":[16.1875,10.0,5.4375,2.0,0.75],\"type\":\"scatter\"},{\"mode\":\"lines+markers\",\"name\":\"p1114-distserve\",\"x\":[1.2,1.0,0.8,0.6,0.4],\"y\":[0.05,0.05,0.05,0.0,0.0],\"type\":\"scatter\"},{\"mode\":\"lines+markers\",\"name\":\"p1122-distserve\",\"x\":[1.2,1.0,0.8,0.6,0.4],\"y\":[0.05,0.05,0.05,0.0,0.0],\"type\":\"scatter\"},{\"mode\":\"lines+markers\",\"name\":\"p1141-distserve\",\"x\":[1.2,1.0,0.8,0.6,0.4],\"y\":[0.05,0.05,0.05,0.0,0.0],\"type\":\"scatter\"},{\"mode\":\"lines+markers\",\"name\":\"p1411-distserve\",\"x\":[1.2,1.0,0.8,0.6,0.4],\"y\":[6.15,4.6,2.55,0.8500000000000001,0.25],\"type\":\"scatter\"},{\"mode\":\"lines+markers\",\"name\":\"p2211-distserve\",\"x\":[1.2,1.0,0.8,0.6,0.4],\"y\":[10.65,8.15,6.15,3.75,0.8999999999999999],\"type\":\"scatter\"},{\"mode\":\"lines+markers\",\"name\":\"p4111-distserve\",\"x\":[1.2,1.0,0.8,0.6,0.4],\"y\":[29.65,22.3,15.55,9.0,4.5],\"type\":\"scatter\"},{\"mode\":\"lines+markers\",\"name\":\"p1214-distserve\",\"x\":[1.2,1.0,0.8,0.6,0.4],\"y\":[2.5416666666666665,0.9583333333333331,0.5833333333333334,0.25,0.0833333333333333],\"type\":\"scatter\"},{\"mode\":\"lines+markers\",\"name\":\"p1222-distserve\",\"x\":[1.2,1.0,0.8,0.6,0.4],\"y\":[0.8333333333333334,0.7083333333333333,0.4583333333333333,0.25,0.0833333333333333],\"type\":\"scatter\"},{\"mode\":\"lines+markers\",\"name\":\"p1241-distserve\",\"x\":[1.2,1.0,0.8,0.6,0.4],\"y\":[0.75,0.6666666666666667,0.4583333333333333,0.25,0.0833333333333333],\"type\":\"scatter\"},{\"mode\":\"lines+markers\",\"name\":\"p1412-distserve\",\"x\":[1.2,1.0,0.8,0.6,0.4],\"y\":[11.125,7.416666666666667,3.4166666666666665,1.0416666666666663,0.1666666666666666],\"type\":\"scatter\"},{\"mode\":\"lines+markers\",\"name\":\"p1421-distserve\",\"x\":[1.2,1.0,0.8,0.6,0.4],\"y\":[4.25,3.25,1.625,0.4166666666666667,0.125],\"type\":\"scatter\"},{\"mode\":\"lines+markers\",\"name\":\"p2114-distserve\",\"x\":[1.2,1.0,0.8,0.6,0.4],\"y\":[1.0,0.5416666666666667,0.4583333333333333,0.25,0.0833333333333333],\"type\":\"scatter\"},{\"mode\":\"lines+markers\",\"name\":\"p2122-distserve\",\"x\":[1.2,1.0,0.8,0.6,0.4],\"y\":[1.0,0.5416666666666667,0.4583333333333333,0.25,0.0833333333333333],\"type\":\"scatter\"},{\"mode\":\"lines+markers\",\"name\":\"p2141-distserve\",\"x\":[1.2,1.0,0.8,0.6,0.4],\"y\":[1.0,0.5416666666666667,0.4583333333333333,0.2083333333333333,0.0833333333333333],\"type\":\"scatter\"},{\"mode\":\"lines+markers\",\"name\":\"p2212-distserve\",\"x\":[1.2,1.0,0.8,0.6,0.4],\"y\":[34.66666666666667,19.20833333333333,11.5,4.458333333333334,0.9583333333333331],\"type\":\"scatter\"},{\"mode\":\"lines+markers\",\"name\":\"p2221-distserve\",\"x\":[1.2,1.0,0.8,0.6,0.4],\"y\":[10.083333333333332,6.791666666666667,4.458333333333334,2.5416666666666665,0.5],\"type\":\"scatter\"},{\"mode\":\"lines+markers\",\"name\":\"p4112-distserve\",\"x\":[1.2,1.0,0.8,0.6,0.4],\"y\":[90.04166666666666,84.0,73.83333333333333,21.083333333333336,5.416666666666667],\"type\":\"scatter\"},{\"mode\":\"lines+markers\",\"name\":\"p4121-distserve\",\"x\":[1.2,1.0,0.8,0.6,0.4],\"y\":[29.33333333333333,21.416666666666668,14.083333333333334,7.166666666666667,2.7916666666666665],\"type\":\"scatter\"},{\"mode\":\"lines+markers\",\"name\":\"p1414-distserve\",\"x\":[1.2,1.0,0.8,0.6,0.4],\"y\":[9.25,4.9375,1.59375,0.34375,0.0625],\"type\":\"scatter\"},{\"mode\":\"lines+markers\",\"name\":\"p1422-distserve\",\"x\":[1.2,1.0,0.8,0.6,0.4],\"y\":[3.4687500000000004,2.28125,1.0,0.25,0.0625],\"type\":\"scatter\"},{\"mode\":\"lines+markers\",\"name\":\"p1441-distserve\",\"x\":[1.2,1.0,0.8,0.6,0.4],\"y\":[1.7812499999999998,1.25,0.4375,0.15625,0.0625],\"type\":\"scatter\"},{\"mode\":\"lines+markers\",\"name\":\"p2214-distserve\",\"x\":[1.2,1.0,0.8,0.6,0.4],\"y\":[35.8125,18.25,5.21875,1.46875,0.25],\"type\":\"scatter\"},{\"mode\":\"lines+markers\",\"name\":\"p2222-distserve\",\"x\":[1.2,1.0,0.8,0.6,0.4],\"y\":[7.843749999999999,4.3125,1.96875,0.625,0.21875],\"type\":\"scatter\"},{\"mode\":\"lines+markers\",\"name\":\"p2241-distserve\",\"x\":[1.2,1.0,0.8,0.6,0.4],\"y\":[2.8125,1.9375,1.03125,0.5,0.21875],\"type\":\"scatter\"},{\"mode\":\"lines+markers\",\"name\":\"p4114-distserve\",\"x\":[1.2,1.0,0.8,0.6,0.4],\"y\":[55.3125,46.6875,35.0625,13.593749999999998,1.28125],\"type\":\"scatter\"},{\"mode\":\"lines+markers\",\"name\":\"p4122-distserve\",\"x\":[1.2,1.0,0.8,0.6,0.4],\"y\":[40.40625,22.8125,8.0625,3.4062500000000004,0.625],\"type\":\"scatter\"},{\"mode\":\"lines+markers\",\"name\":\"p4141-distserve\",\"x\":[1.2,1.0,0.8,0.6,0.4],\"y\":[9.4375,6.09375,3.15625,1.65625,0.5],\"type\":\"scatter\"},{\"mode\":\"lines+markers\",\"name\":\"p1118-distserve\",\"x\":[1.2,1.0,0.8,0.6,0.4],\"y\":[0.0277777777777777,0.0277777777777777,0.0277777777777777,0.0,0.0],\"type\":\"scatter\"},{\"mode\":\"lines+markers\",\"name\":\"p1124-distserve\",\"x\":[1.2,1.0,0.8,0.6,0.4],\"y\":[0.0277777777777777,0.0277777777777777,0.0277777777777777,0.0,0.0],\"type\":\"scatter\"},{\"mode\":\"lines+markers\",\"name\":\"p1111-distserve\",\"x\":[1.2,1.0,0.8,0.6,0.4],\"y\":[22.875,15.125,8.875,3.875,1.5],\"type\":\"scatter\"}],                        {\"template\":{\"data\":{\"histogram2dcontour\":[{\"type\":\"histogram2dcontour\",\"colorbar\":{\"outlinewidth\":0,\"ticks\":\"\"},\"colorscale\":[[0.0,\"#0d0887\"],[0.1111111111111111,\"#46039f\"],[0.2222222222222222,\"#7201a8\"],[0.3333333333333333,\"#9c179e\"],[0.4444444444444444,\"#bd3786\"],[0.5555555555555556,\"#d8576b\"],[0.6666666666666666,\"#ed7953\"],[0.7777777777777778,\"#fb9f3a\"],[0.8888888888888888,\"#fdca26\"],[1.0,\"#f0f921\"]]}],\"choropleth\":[{\"type\":\"choropleth\",\"colorbar\":{\"outlinewidth\":0,\"ticks\":\"\"}}],\"histogram2d\":[{\"type\":\"histogram2d\",\"colorbar\":{\"outlinewidth\":0,\"ticks\":\"\"},\"colorscale\":[[0.0,\"#0d0887\"],[0.1111111111111111,\"#46039f\"],[0.2222222222222222,\"#7201a8\"],[0.3333333333333333,\"#9c179e\"],[0.4444444444444444,\"#bd3786\"],[0.5555555555555556,\"#d8576b\"],[0.6666666666666666,\"#ed7953\"],[0.7777777777777778,\"#fb9f3a\"],[0.8888888888888888,\"#fdca26\"],[1.0,\"#f0f921\"]]}],\"heatmap\":[{\"type\":\"heatmap\",\"colorbar\":{\"outlinewidth\":0,\"ticks\":\"\"},\"colorscale\":[[0.0,\"#0d0887\"],[0.1111111111111111,\"#46039f\"],[0.2222222222222222,\"#7201a8\"],[0.3333333333333333,\"#9c179e\"],[0.4444444444444444,\"#bd3786\"],[0.5555555555555556,\"#d8576b\"],[0.6666666666666666,\"#ed7953\"],[0.7777777777777778,\"#fb9f3a\"],[0.8888888888888888,\"#fdca26\"],[1.0,\"#f0f921\"]]}],\"heatmapgl\":[{\"type\":\"heatmapgl\",\"colorbar\":{\"outlinewidth\":0,\"ticks\":\"\"},\"colorscale\":[[0.0,\"#0d0887\"],[0.1111111111111111,\"#46039f\"],[0.2222222222222222,\"#7201a8\"],[0.3333333333333333,\"#9c179e\"],[0.4444444444444444,\"#bd3786\"],[0.5555555555555556,\"#d8576b\"],[0.6666666666666666,\"#ed7953\"],[0.7777777777777778,\"#fb9f3a\"],[0.8888888888888888,\"#fdca26\"],[1.0,\"#f0f921\"]]}],\"contourcarpet\":[{\"type\":\"contourcarpet\",\"colorbar\":{\"outlinewidth\":0,\"ticks\":\"\"}}],\"contour\":[{\"type\":\"contour\",\"colorbar\":{\"outlinewidth\":0,\"ticks\":\"\"},\"colorscale\":[[0.0,\"#0d0887\"],[0.1111111111111111,\"#46039f\"],[0.2222222222222222,\"#7201a8\"],[0.3333333333333333,\"#9c179e\"],[0.4444444444444444,\"#bd3786\"],[0.5555555555555556,\"#d8576b\"],[0.6666666666666666,\"#ed7953\"],[0.7777777777777778,\"#fb9f3a\"],[0.8888888888888888,\"#fdca26\"],[1.0,\"#f0f921\"]]}],\"surface\":[{\"type\":\"surface\",\"colorbar\":{\"outlinewidth\":0,\"ticks\":\"\"},\"colorscale\":[[0.0,\"#0d0887\"],[0.1111111111111111,\"#46039f\"],[0.2222222222222222,\"#7201a8\"],[0.3333333333333333,\"#9c179e\"],[0.4444444444444444,\"#bd3786\"],[0.5555555555555556,\"#d8576b\"],[0.6666666666666666,\"#ed7953\"],[0.7777777777777778,\"#fb9f3a\"],[0.8888888888888888,\"#fdca26\"],[1.0,\"#f0f921\"]]}],\"mesh3d\":[{\"type\":\"mesh3d\",\"colorbar\":{\"outlinewidth\":0,\"ticks\":\"\"}}],\"scatter\":[{\"marker\":{\"line\":{\"color\":\"#283442\"}},\"type\":\"scatter\"}],\"parcoords\":[{\"type\":\"parcoords\",\"line\":{\"colorbar\":{\"outlinewidth\":0,\"ticks\":\"\"}}}],\"scatterpolargl\":[{\"type\":\"scatterpolargl\",\"marker\":{\"colorbar\":{\"outlinewidth\":0,\"ticks\":\"\"}}}],\"bar\":[{\"error_x\":{\"color\":\"#f2f5fa\"},\"error_y\":{\"color\":\"#f2f5fa\"},\"marker\":{\"line\":{\"color\":\"rgb(17,17,17)\",\"width\":0.5},\"pattern\":{\"fillmode\":\"overlay\",\"size\":10,\"solidity\":0.2}},\"type\":\"bar\"}],\"scattergeo\":[{\"type\":\"scattergeo\",\"marker\":{\"colorbar\":{\"outlinewidth\":0,\"ticks\":\"\"}}}],\"scatterpolar\":[{\"type\":\"scatterpolar\",\"marker\":{\"colorbar\":{\"outlinewidth\":0,\"ticks\":\"\"}}}],\"histogram\":[{\"marker\":{\"pattern\":{\"fillmode\":\"overlay\",\"size\":10,\"solidity\":0.2}},\"type\":\"histogram\"}],\"scattergl\":[{\"marker\":{\"line\":{\"color\":\"#283442\"}},\"type\":\"scattergl\"}],\"scatter3d\":[{\"type\":\"scatter3d\",\"line\":{\"colorbar\":{\"outlinewidth\":0,\"ticks\":\"\"}},\"marker\":{\"colorbar\":{\"outlinewidth\":0,\"ticks\":\"\"}}}],\"scattermapbox\":[{\"type\":\"scattermapbox\",\"marker\":{\"colorbar\":{\"outlinewidth\":0,\"ticks\":\"\"}}}],\"scatterternary\":[{\"type\":\"scatterternary\",\"marker\":{\"colorbar\":{\"outlinewidth\":0,\"ticks\":\"\"}}}],\"scattercarpet\":[{\"type\":\"scattercarpet\",\"marker\":{\"colorbar\":{\"outlinewidth\":0,\"ticks\":\"\"}}}],\"carpet\":[{\"aaxis\":{\"endlinecolor\":\"#A2B1C6\",\"gridcolor\":\"#506784\",\"linecolor\":\"#506784\",\"minorgridcolor\":\"#506784\",\"startlinecolor\":\"#A2B1C6\"},\"baxis\":{\"endlinecolor\":\"#A2B1C6\",\"gridcolor\":\"#506784\",\"linecolor\":\"#506784\",\"minorgridcolor\":\"#506784\",\"startlinecolor\":\"#A2B1C6\"},\"type\":\"carpet\"}],\"table\":[{\"cells\":{\"fill\":{\"color\":\"#506784\"},\"line\":{\"color\":\"rgb(17,17,17)\"}},\"header\":{\"fill\":{\"color\":\"#2a3f5f\"},\"line\":{\"color\":\"rgb(17,17,17)\"}},\"type\":\"table\"}],\"barpolar\":[{\"marker\":{\"line\":{\"color\":\"rgb(17,17,17)\",\"width\":0.5},\"pattern\":{\"fillmode\":\"overlay\",\"size\":10,\"solidity\":0.2}},\"type\":\"barpolar\"}],\"pie\":[{\"automargin\":true,\"type\":\"pie\"}]},\"layout\":{\"autotypenumbers\":\"strict\",\"colorway\":[\"#636efa\",\"#EF553B\",\"#00cc96\",\"#ab63fa\",\"#FFA15A\",\"#19d3f3\",\"#FF6692\",\"#B6E880\",\"#FF97FF\",\"#FECB52\"],\"font\":{\"color\":\"#f2f5fa\"},\"hovermode\":\"closest\",\"hoverlabel\":{\"align\":\"left\"},\"paper_bgcolor\":\"rgb(17,17,17)\",\"plot_bgcolor\":\"rgb(17,17,17)\",\"polar\":{\"bgcolor\":\"rgb(17,17,17)\",\"angularaxis\":{\"gridcolor\":\"#506784\",\"linecolor\":\"#506784\",\"ticks\":\"\"},\"radialaxis\":{\"gridcolor\":\"#506784\",\"linecolor\":\"#506784\",\"ticks\":\"\"}},\"ternary\":{\"bgcolor\":\"rgb(17,17,17)\",\"aaxis\":{\"gridcolor\":\"#506784\",\"linecolor\":\"#506784\",\"ticks\":\"\"},\"baxis\":{\"gridcolor\":\"#506784\",\"linecolor\":\"#506784\",\"ticks\":\"\"},\"caxis\":{\"gridcolor\":\"#506784\",\"linecolor\":\"#506784\",\"ticks\":\"\"}},\"coloraxis\":{\"colorbar\":{\"outlinewidth\":0,\"ticks\":\"\"}},\"colorscale\":{\"sequential\":[[0.0,\"#0d0887\"],[0.1111111111111111,\"#46039f\"],[0.2222222222222222,\"#7201a8\"],[0.3333333333333333,\"#9c179e\"],[0.4444444444444444,\"#bd3786\"],[0.5555555555555556,\"#d8576b\"],[0.6666666666666666,\"#ed7953\"],[0.7777777777777778,\"#fb9f3a\"],[0.8888888888888888,\"#fdca26\"],[1.0,\"#f0f921\"]],\"sequentialminus\":[[0.0,\"#0d0887\"],[0.1111111111111111,\"#46039f\"],[0.2222222222222222,\"#7201a8\"],[0.3333333333333333,\"#9c179e\"],[0.4444444444444444,\"#bd3786\"],[0.5555555555555556,\"#d8576b\"],[0.6666666666666666,\"#ed7953\"],[0.7777777777777778,\"#fb9f3a\"],[0.8888888888888888,\"#fdca26\"],[1.0,\"#f0f921\"]],\"diverging\":[[0,\"#8e0152\"],[0.1,\"#c51b7d\"],[0.2,\"#de77ae\"],[0.3,\"#f1b6da\"],[0.4,\"#fde0ef\"],[0.5,\"#f7f7f7\"],[0.6,\"#e6f5d0\"],[0.7,\"#b8e186\"],[0.8,\"#7fbc41\"],[0.9,\"#4d9221\"],[1,\"#276419\"]]},\"xaxis\":{\"gridcolor\":\"#283442\",\"linecolor\":\"#506784\",\"ticks\":\"\",\"title\":{\"standoff\":15},\"zerolinecolor\":\"#283442\",\"automargin\":true,\"zerolinewidth\":2},\"yaxis\":{\"gridcolor\":\"#283442\",\"linecolor\":\"#506784\",\"ticks\":\"\",\"title\":{\"standoff\":15},\"zerolinecolor\":\"#283442\",\"automargin\":true,\"zerolinewidth\":2},\"scene\":{\"xaxis\":{\"backgroundcolor\":\"rgb(17,17,17)\",\"gridcolor\":\"#506784\",\"linecolor\":\"#506784\",\"showbackground\":true,\"ticks\":\"\",\"zerolinecolor\":\"#C8D4E3\",\"gridwidth\":2},\"yaxis\":{\"backgroundcolor\":\"rgb(17,17,17)\",\"gridcolor\":\"#506784\",\"linecolor\":\"#506784\",\"showbackground\":true,\"ticks\":\"\",\"zerolinecolor\":\"#C8D4E3\",\"gridwidth\":2},\"zaxis\":{\"backgroundcolor\":\"rgb(17,17,17)\",\"gridcolor\":\"#506784\",\"linecolor\":\"#506784\",\"showbackground\":true,\"ticks\":\"\",\"zerolinecolor\":\"#C8D4E3\",\"gridwidth\":2}},\"shapedefaults\":{\"line\":{\"color\":\"#f2f5fa\"}},\"annotationdefaults\":{\"arrowcolor\":\"#f2f5fa\",\"arrowhead\":0,\"arrowwidth\":1},\"geo\":{\"bgcolor\":\"rgb(17,17,17)\",\"landcolor\":\"rgb(17,17,17)\",\"subunitcolor\":\"#506784\",\"showland\":true,\"showlakes\":true,\"lakecolor\":\"rgb(17,17,17)\"},\"title\":{\"x\":0.05},\"updatemenudefaults\":{\"bgcolor\":\"#506784\",\"borderwidth\":0},\"sliderdefaults\":{\"bgcolor\":\"#C8D4E3\",\"borderwidth\":1,\"bordercolor\":\"rgb(17,17,17)\",\"tickwidth\":0},\"mapbox\":{\"style\":\"dark\"}}},\"title\":{\"text\":\"DistServe\"},\"xaxis\":{\"title\":{\"text\":\"Per-GPU Rate (tokens\\u002fs)\"},\"range\":[1.2,0.4]},\"yaxis\":{\"title\":{\"text\":\"Attainment (%)\"}},\"legend\":{\"title\":{\"text\":\"Configuration\"}}},                        {\"responsive\": true}                    ).then(function(){\n                            \nvar gd = document.getElementById('dc730986-d8e9-42b6-8381-d1ebc8404606');\nvar x = new MutationObserver(function (mutations, observer) {{\n        var display = window.getComputedStyle(gd).display;\n        if (!display || display === 'none') {{\n            console.log([gd, 'removed!']);\n            Plotly.purge(gd);\n            observer.disconnect();\n        }}\n}});\n\n// Listen for the removal of the full notebook cells\nvar notebookContainer = gd.closest('#notebook-container');\nif (notebookContainer) {{\n    x.observe(notebookContainer, {childList: true});\n}}\n\n// Listen for the clearing of the current output cell\nvar outputEl = gd.closest('.output');\nif (outputEl) {{\n    x.observe(outputEl, {childList: true});\n}}\n\n                        })                };                });            </script>        </div>"
     },
     "metadata": {},
     "output_type": "display_data"
    }
   ],
   "source": [
    "import plotly.graph_objects as go\n",
    "\n",
    "fig = go.Figure()\n",
    "configs = figure_11_distserve_high[['tp_prefill', 'pp_prefill', 'tp_decode', 'pp_decode']].drop_duplicates()\n",
    "slo_vals = list(big_df['slo'].unique())\n",
    "\n",
    "df = figure_11_distserve_high\n",
    "for tp_prefill, pp_prefill, tp_decode, pp_decode in configs.values:\n",
    "    config_df = df[\n",
    "        (df['tp_prefill'] == tp_prefill) & (df['pp_prefill'] == pp_prefill) &\n",
    "        (df['tp_decode'] == tp_decode) & (df['pp_decode'] == pp_decode)\n",
    "        ]\n",
    "    config_df = config_df.sort_values(by=['slo'], ascending=False)\n",
    "    # plot this inside a plotly plot\n",
    "    fig.add_trace(go.Scatter(\n",
    "        x=config_df['slo'], y=config_df['attainment'],\n",
    "        mode='lines+markers', name=f\"p{tp_prefill}{pp_prefill}{tp_decode}{pp_decode}-distserve\"\n",
    "    ))\n",
    "\n",
    "# fig add title\n",
    "fig.update_layout(\n",
    "    title=\"DistServe\",\n",
    "    xaxis_title=\"Per-GPU Rate (tokens/s)\",\n",
    "    yaxis_title=\"Attainment (%)\",\n",
    "    legend_title=\"Configuration\"\n",
    ")\n",
    "fig.update_layout(\n",
    "    xaxis=dict(range=[max(slo_vals), min(slo_vals)]),\n",
    ")  # Set the range manually\n",
    "\n",
    "# Export to html\n",
    "fig.write_html(\"visual/figure_11_distserve_high.slo.html\")\n",
    "if is_notebook_mode:\n",
    "    fig.show()"
   ],
   "metadata": {
    "collapsed": false,
    "ExecuteTime": {
     "end_time": "2024-04-24T04:12:46.153523Z",
     "start_time": "2024-04-24T04:12:46.057131Z"
    }
   },
   "id": "d5e24bd563b123b2",
   "execution_count": 38
  },
  {
   "cell_type": "code",
   "outputs": [
    {
     "data": {
      "application/vnd.plotly.v1+json": {
       "data": [
        {
         "mode": "lines+markers",
         "name": "p14-vLLM",
         "x": [
          1.2,
          1.0,
          0.8,
          0.6,
          0.4
         ],
         "y": [
          4.125,
          2.0,
          0.8125,
          0.3125,
          0.0
         ],
         "type": "scatter"
        },
        {
         "mode": "lines+markers",
         "name": "p22-vLLM",
         "x": [
          1.2,
          1.0,
          0.8,
          0.6,
          0.4
         ],
         "y": [
          4.0625,
          2.5625,
          1.3125,
          0.5625,
          0.1875
         ],
         "type": "scatter"
        },
        {
         "mode": "lines+markers",
         "name": "p41-vLLM",
         "x": [
          1.2,
          1.0,
          0.8,
          0.6,
          0.4
         ],
         "y": [
          3.875,
          2.3125,
          1.25,
          0.75,
          0.0
         ],
         "type": "scatter"
        },
        {
         "mode": "lines+markers",
         "name": "p18-vLLM",
         "x": [
          1.2,
          1.0,
          0.8,
          0.6,
          0.4
         ],
         "y": [
          0.15625,
          0.09375,
          0.0,
          0.0,
          0.0
         ],
         "type": "scatter"
        },
        {
         "mode": "lines+markers",
         "name": "p24-vLLM",
         "x": [
          1.2,
          1.0,
          0.8,
          0.6,
          0.4
         ],
         "y": [
          0.46875,
          0.21875,
          0.0625,
          0.03125,
          0.0
         ],
         "type": "scatter"
        },
        {
         "mode": "lines+markers",
         "name": "p42-vLLM",
         "x": [
          1.2,
          1.0,
          0.8,
          0.6,
          0.4
         ],
         "y": [
          0.78125,
          0.4375,
          0.1875,
          0.09375,
          0.0625
         ],
         "type": "scatter"
        },
        {
         "mode": "lines+markers",
         "name": "p11-vLLM",
         "x": [
          1.2,
          1.0,
          0.8,
          0.6,
          0.4
         ],
         "y": [
          71.5,
          51.74999999999999,
          23.25,
          8.0,
          2.0
         ],
         "type": "scatter"
        },
        {
         "mode": "lines+markers",
         "name": "p12-vLLM",
         "x": [
          1.2,
          1.0,
          0.8,
          0.6,
          0.4
         ],
         "y": [
          28.75,
          14.124999999999998,
          4.375,
          1.7500000000000002,
          0.5
         ],
         "type": "scatter"
        },
        {
         "mode": "lines+markers",
         "name": "p21-vLLM",
         "x": [
          1.2,
          1.0,
          0.8,
          0.6,
          0.4
         ],
         "y": [
          15.75,
          9.75,
          4.75,
          2.0,
          0.375
         ],
         "type": "scatter"
        }
       ],
       "layout": {
        "template": {
         "data": {
          "histogram2dcontour": [
           {
            "type": "histogram2dcontour",
            "colorbar": {
             "outlinewidth": 0,
             "ticks": ""
            },
            "colorscale": [
             [
              0.0,
              "#0d0887"
             ],
             [
              0.1111111111111111,
              "#46039f"
             ],
             [
              0.2222222222222222,
              "#7201a8"
             ],
             [
              0.3333333333333333,
              "#9c179e"
             ],
             [
              0.4444444444444444,
              "#bd3786"
             ],
             [
              0.5555555555555556,
              "#d8576b"
             ],
             [
              0.6666666666666666,
              "#ed7953"
             ],
             [
              0.7777777777777778,
              "#fb9f3a"
             ],
             [
              0.8888888888888888,
              "#fdca26"
             ],
             [
              1.0,
              "#f0f921"
             ]
            ]
           }
          ],
          "choropleth": [
           {
            "type": "choropleth",
            "colorbar": {
             "outlinewidth": 0,
             "ticks": ""
            }
           }
          ],
          "histogram2d": [
           {
            "type": "histogram2d",
            "colorbar": {
             "outlinewidth": 0,
             "ticks": ""
            },
            "colorscale": [
             [
              0.0,
              "#0d0887"
             ],
             [
              0.1111111111111111,
              "#46039f"
             ],
             [
              0.2222222222222222,
              "#7201a8"
             ],
             [
              0.3333333333333333,
              "#9c179e"
             ],
             [
              0.4444444444444444,
              "#bd3786"
             ],
             [
              0.5555555555555556,
              "#d8576b"
             ],
             [
              0.6666666666666666,
              "#ed7953"
             ],
             [
              0.7777777777777778,
              "#fb9f3a"
             ],
             [
              0.8888888888888888,
              "#fdca26"
             ],
             [
              1.0,
              "#f0f921"
             ]
            ]
           }
          ],
          "heatmap": [
           {
            "type": "heatmap",
            "colorbar": {
             "outlinewidth": 0,
             "ticks": ""
            },
            "colorscale": [
             [
              0.0,
              "#0d0887"
             ],
             [
              0.1111111111111111,
              "#46039f"
             ],
             [
              0.2222222222222222,
              "#7201a8"
             ],
             [
              0.3333333333333333,
              "#9c179e"
             ],
             [
              0.4444444444444444,
              "#bd3786"
             ],
             [
              0.5555555555555556,
              "#d8576b"
             ],
             [
              0.6666666666666666,
              "#ed7953"
             ],
             [
              0.7777777777777778,
              "#fb9f3a"
             ],
             [
              0.8888888888888888,
              "#fdca26"
             ],
             [
              1.0,
              "#f0f921"
             ]
            ]
           }
          ],
          "heatmapgl": [
           {
            "type": "heatmapgl",
            "colorbar": {
             "outlinewidth": 0,
             "ticks": ""
            },
            "colorscale": [
             [
              0.0,
              "#0d0887"
             ],
             [
              0.1111111111111111,
              "#46039f"
             ],
             [
              0.2222222222222222,
              "#7201a8"
             ],
             [
              0.3333333333333333,
              "#9c179e"
             ],
             [
              0.4444444444444444,
              "#bd3786"
             ],
             [
              0.5555555555555556,
              "#d8576b"
             ],
             [
              0.6666666666666666,
              "#ed7953"
             ],
             [
              0.7777777777777778,
              "#fb9f3a"
             ],
             [
              0.8888888888888888,
              "#fdca26"
             ],
             [
              1.0,
              "#f0f921"
             ]
            ]
           }
          ],
          "contourcarpet": [
           {
            "type": "contourcarpet",
            "colorbar": {
             "outlinewidth": 0,
             "ticks": ""
            }
           }
          ],
          "contour": [
           {
            "type": "contour",
            "colorbar": {
             "outlinewidth": 0,
             "ticks": ""
            },
            "colorscale": [
             [
              0.0,
              "#0d0887"
             ],
             [
              0.1111111111111111,
              "#46039f"
             ],
             [
              0.2222222222222222,
              "#7201a8"
             ],
             [
              0.3333333333333333,
              "#9c179e"
             ],
             [
              0.4444444444444444,
              "#bd3786"
             ],
             [
              0.5555555555555556,
              "#d8576b"
             ],
             [
              0.6666666666666666,
              "#ed7953"
             ],
             [
              0.7777777777777778,
              "#fb9f3a"
             ],
             [
              0.8888888888888888,
              "#fdca26"
             ],
             [
              1.0,
              "#f0f921"
             ]
            ]
           }
          ],
          "surface": [
           {
            "type": "surface",
            "colorbar": {
             "outlinewidth": 0,
             "ticks": ""
            },
            "colorscale": [
             [
              0.0,
              "#0d0887"
             ],
             [
              0.1111111111111111,
              "#46039f"
             ],
             [
              0.2222222222222222,
              "#7201a8"
             ],
             [
              0.3333333333333333,
              "#9c179e"
             ],
             [
              0.4444444444444444,
              "#bd3786"
             ],
             [
              0.5555555555555556,
              "#d8576b"
             ],
             [
              0.6666666666666666,
              "#ed7953"
             ],
             [
              0.7777777777777778,
              "#fb9f3a"
             ],
             [
              0.8888888888888888,
              "#fdca26"
             ],
             [
              1.0,
              "#f0f921"
             ]
            ]
           }
          ],
          "mesh3d": [
           {
            "type": "mesh3d",
            "colorbar": {
             "outlinewidth": 0,
             "ticks": ""
            }
           }
          ],
          "scatter": [
           {
            "marker": {
             "line": {
              "color": "#283442"
             }
            },
            "type": "scatter"
           }
          ],
          "parcoords": [
           {
            "type": "parcoords",
            "line": {
             "colorbar": {
              "outlinewidth": 0,
              "ticks": ""
             }
            }
           }
          ],
          "scatterpolargl": [
           {
            "type": "scatterpolargl",
            "marker": {
             "colorbar": {
              "outlinewidth": 0,
              "ticks": ""
             }
            }
           }
          ],
          "bar": [
           {
            "error_x": {
             "color": "#f2f5fa"
            },
            "error_y": {
             "color": "#f2f5fa"
            },
            "marker": {
             "line": {
              "color": "rgb(17,17,17)",
              "width": 0.5
             },
             "pattern": {
              "fillmode": "overlay",
              "size": 10,
              "solidity": 0.2
             }
            },
            "type": "bar"
           }
          ],
          "scattergeo": [
           {
            "type": "scattergeo",
            "marker": {
             "colorbar": {
              "outlinewidth": 0,
              "ticks": ""
             }
            }
           }
          ],
          "scatterpolar": [
           {
            "type": "scatterpolar",
            "marker": {
             "colorbar": {
              "outlinewidth": 0,
              "ticks": ""
             }
            }
           }
          ],
          "histogram": [
           {
            "marker": {
             "pattern": {
              "fillmode": "overlay",
              "size": 10,
              "solidity": 0.2
             }
            },
            "type": "histogram"
           }
          ],
          "scattergl": [
           {
            "marker": {
             "line": {
              "color": "#283442"
             }
            },
            "type": "scattergl"
           }
          ],
          "scatter3d": [
           {
            "type": "scatter3d",
            "line": {
             "colorbar": {
              "outlinewidth": 0,
              "ticks": ""
             }
            },
            "marker": {
             "colorbar": {
              "outlinewidth": 0,
              "ticks": ""
             }
            }
           }
          ],
          "scattermapbox": [
           {
            "type": "scattermapbox",
            "marker": {
             "colorbar": {
              "outlinewidth": 0,
              "ticks": ""
             }
            }
           }
          ],
          "scatterternary": [
           {
            "type": "scatterternary",
            "marker": {
             "colorbar": {
              "outlinewidth": 0,
              "ticks": ""
             }
            }
           }
          ],
          "scattercarpet": [
           {
            "type": "scattercarpet",
            "marker": {
             "colorbar": {
              "outlinewidth": 0,
              "ticks": ""
             }
            }
           }
          ],
          "carpet": [
           {
            "aaxis": {
             "endlinecolor": "#A2B1C6",
             "gridcolor": "#506784",
             "linecolor": "#506784",
             "minorgridcolor": "#506784",
             "startlinecolor": "#A2B1C6"
            },
            "baxis": {
             "endlinecolor": "#A2B1C6",
             "gridcolor": "#506784",
             "linecolor": "#506784",
             "minorgridcolor": "#506784",
             "startlinecolor": "#A2B1C6"
            },
            "type": "carpet"
           }
          ],
          "table": [
           {
            "cells": {
             "fill": {
              "color": "#506784"
             },
             "line": {
              "color": "rgb(17,17,17)"
             }
            },
            "header": {
             "fill": {
              "color": "#2a3f5f"
             },
             "line": {
              "color": "rgb(17,17,17)"
             }
            },
            "type": "table"
           }
          ],
          "barpolar": [
           {
            "marker": {
             "line": {
              "color": "rgb(17,17,17)",
              "width": 0.5
             },
             "pattern": {
              "fillmode": "overlay",
              "size": 10,
              "solidity": 0.2
             }
            },
            "type": "barpolar"
           }
          ],
          "pie": [
           {
            "automargin": true,
            "type": "pie"
           }
          ]
         },
         "layout": {
          "autotypenumbers": "strict",
          "colorway": [
           "#636efa",
           "#EF553B",
           "#00cc96",
           "#ab63fa",
           "#FFA15A",
           "#19d3f3",
           "#FF6692",
           "#B6E880",
           "#FF97FF",
           "#FECB52"
          ],
          "font": {
           "color": "#f2f5fa"
          },
          "hovermode": "closest",
          "hoverlabel": {
           "align": "left"
          },
          "paper_bgcolor": "rgb(17,17,17)",
          "plot_bgcolor": "rgb(17,17,17)",
          "polar": {
           "bgcolor": "rgb(17,17,17)",
           "angularaxis": {
            "gridcolor": "#506784",
            "linecolor": "#506784",
            "ticks": ""
           },
           "radialaxis": {
            "gridcolor": "#506784",
            "linecolor": "#506784",
            "ticks": ""
           }
          },
          "ternary": {
           "bgcolor": "rgb(17,17,17)",
           "aaxis": {
            "gridcolor": "#506784",
            "linecolor": "#506784",
            "ticks": ""
           },
           "baxis": {
            "gridcolor": "#506784",
            "linecolor": "#506784",
            "ticks": ""
           },
           "caxis": {
            "gridcolor": "#506784",
            "linecolor": "#506784",
            "ticks": ""
           }
          },
          "coloraxis": {
           "colorbar": {
            "outlinewidth": 0,
            "ticks": ""
           }
          },
          "colorscale": {
           "sequential": [
            [
             0.0,
             "#0d0887"
            ],
            [
             0.1111111111111111,
             "#46039f"
            ],
            [
             0.2222222222222222,
             "#7201a8"
            ],
            [
             0.3333333333333333,
             "#9c179e"
            ],
            [
             0.4444444444444444,
             "#bd3786"
            ],
            [
             0.5555555555555556,
             "#d8576b"
            ],
            [
             0.6666666666666666,
             "#ed7953"
            ],
            [
             0.7777777777777778,
             "#fb9f3a"
            ],
            [
             0.8888888888888888,
             "#fdca26"
            ],
            [
             1.0,
             "#f0f921"
            ]
           ],
           "sequentialminus": [
            [
             0.0,
             "#0d0887"
            ],
            [
             0.1111111111111111,
             "#46039f"
            ],
            [
             0.2222222222222222,
             "#7201a8"
            ],
            [
             0.3333333333333333,
             "#9c179e"
            ],
            [
             0.4444444444444444,
             "#bd3786"
            ],
            [
             0.5555555555555556,
             "#d8576b"
            ],
            [
             0.6666666666666666,
             "#ed7953"
            ],
            [
             0.7777777777777778,
             "#fb9f3a"
            ],
            [
             0.8888888888888888,
             "#fdca26"
            ],
            [
             1.0,
             "#f0f921"
            ]
           ],
           "diverging": [
            [
             0,
             "#8e0152"
            ],
            [
             0.1,
             "#c51b7d"
            ],
            [
             0.2,
             "#de77ae"
            ],
            [
             0.3,
             "#f1b6da"
            ],
            [
             0.4,
             "#fde0ef"
            ],
            [
             0.5,
             "#f7f7f7"
            ],
            [
             0.6,
             "#e6f5d0"
            ],
            [
             0.7,
             "#b8e186"
            ],
            [
             0.8,
             "#7fbc41"
            ],
            [
             0.9,
             "#4d9221"
            ],
            [
             1,
             "#276419"
            ]
           ]
          },
          "xaxis": {
           "gridcolor": "#283442",
           "linecolor": "#506784",
           "ticks": "",
           "title": {
            "standoff": 15
           },
           "zerolinecolor": "#283442",
           "automargin": true,
           "zerolinewidth": 2
          },
          "yaxis": {
           "gridcolor": "#283442",
           "linecolor": "#506784",
           "ticks": "",
           "title": {
            "standoff": 15
           },
           "zerolinecolor": "#283442",
           "automargin": true,
           "zerolinewidth": 2
          },
          "scene": {
           "xaxis": {
            "backgroundcolor": "rgb(17,17,17)",
            "gridcolor": "#506784",
            "linecolor": "#506784",
            "showbackground": true,
            "ticks": "",
            "zerolinecolor": "#C8D4E3",
            "gridwidth": 2
           },
           "yaxis": {
            "backgroundcolor": "rgb(17,17,17)",
            "gridcolor": "#506784",
            "linecolor": "#506784",
            "showbackground": true,
            "ticks": "",
            "zerolinecolor": "#C8D4E3",
            "gridwidth": 2
           },
           "zaxis": {
            "backgroundcolor": "rgb(17,17,17)",
            "gridcolor": "#506784",
            "linecolor": "#506784",
            "showbackground": true,
            "ticks": "",
            "zerolinecolor": "#C8D4E3",
            "gridwidth": 2
           }
          },
          "shapedefaults": {
           "line": {
            "color": "#f2f5fa"
           }
          },
          "annotationdefaults": {
           "arrowcolor": "#f2f5fa",
           "arrowhead": 0,
           "arrowwidth": 1
          },
          "geo": {
           "bgcolor": "rgb(17,17,17)",
           "landcolor": "rgb(17,17,17)",
           "subunitcolor": "#506784",
           "showland": true,
           "showlakes": true,
           "lakecolor": "rgb(17,17,17)"
          },
          "title": {
           "x": 0.05
          },
          "updatemenudefaults": {
           "bgcolor": "#506784",
           "borderwidth": 0
          },
          "sliderdefaults": {
           "bgcolor": "#C8D4E3",
           "borderwidth": 1,
           "bordercolor": "rgb(17,17,17)",
           "tickwidth": 0
          },
          "mapbox": {
           "style": "dark"
          }
         }
        },
        "title": {
         "text": "vLLM"
        },
        "xaxis": {
         "title": {
          "text": "Per-GPU Rate (tokens/s)"
         },
         "range": [
          1.2,
          0.4
         ]
        },
        "yaxis": {
         "title": {
          "text": "Attainment (%)"
         }
        },
        "legend": {
         "title": {
          "text": "Configuration"
         }
        }
       },
       "config": {
        "plotlyServerURL": "https://plot.ly"
       }
      },
      "text/html": "<div>                            <div id=\"d1a6c217-04c7-4a71-98d8-aeb55fd46708\" class=\"plotly-graph-div\" style=\"height:525px; width:100%;\"></div>            <script type=\"text/javascript\">                require([\"plotly\"], function(Plotly) {                    window.PLOTLYENV=window.PLOTLYENV || {};                                    if (document.getElementById(\"d1a6c217-04c7-4a71-98d8-aeb55fd46708\")) {                    Plotly.newPlot(                        \"d1a6c217-04c7-4a71-98d8-aeb55fd46708\",                        [{\"mode\":\"lines+markers\",\"name\":\"p14-vLLM\",\"x\":[1.2,1.0,0.8,0.6,0.4],\"y\":[4.125,2.0,0.8125,0.3125,0.0],\"type\":\"scatter\"},{\"mode\":\"lines+markers\",\"name\":\"p22-vLLM\",\"x\":[1.2,1.0,0.8,0.6,0.4],\"y\":[4.0625,2.5625,1.3125,0.5625,0.1875],\"type\":\"scatter\"},{\"mode\":\"lines+markers\",\"name\":\"p41-vLLM\",\"x\":[1.2,1.0,0.8,0.6,0.4],\"y\":[3.875,2.3125,1.25,0.75,0.0],\"type\":\"scatter\"},{\"mode\":\"lines+markers\",\"name\":\"p18-vLLM\",\"x\":[1.2,1.0,0.8,0.6,0.4],\"y\":[0.15625,0.09375,0.0,0.0,0.0],\"type\":\"scatter\"},{\"mode\":\"lines+markers\",\"name\":\"p24-vLLM\",\"x\":[1.2,1.0,0.8,0.6,0.4],\"y\":[0.46875,0.21875,0.0625,0.03125,0.0],\"type\":\"scatter\"},{\"mode\":\"lines+markers\",\"name\":\"p42-vLLM\",\"x\":[1.2,1.0,0.8,0.6,0.4],\"y\":[0.78125,0.4375,0.1875,0.09375,0.0625],\"type\":\"scatter\"},{\"mode\":\"lines+markers\",\"name\":\"p11-vLLM\",\"x\":[1.2,1.0,0.8,0.6,0.4],\"y\":[71.5,51.74999999999999,23.25,8.0,2.0],\"type\":\"scatter\"},{\"mode\":\"lines+markers\",\"name\":\"p12-vLLM\",\"x\":[1.2,1.0,0.8,0.6,0.4],\"y\":[28.75,14.124999999999998,4.375,1.7500000000000002,0.5],\"type\":\"scatter\"},{\"mode\":\"lines+markers\",\"name\":\"p21-vLLM\",\"x\":[1.2,1.0,0.8,0.6,0.4],\"y\":[15.75,9.75,4.75,2.0,0.375],\"type\":\"scatter\"}],                        {\"template\":{\"data\":{\"histogram2dcontour\":[{\"type\":\"histogram2dcontour\",\"colorbar\":{\"outlinewidth\":0,\"ticks\":\"\"},\"colorscale\":[[0.0,\"#0d0887\"],[0.1111111111111111,\"#46039f\"],[0.2222222222222222,\"#7201a8\"],[0.3333333333333333,\"#9c179e\"],[0.4444444444444444,\"#bd3786\"],[0.5555555555555556,\"#d8576b\"],[0.6666666666666666,\"#ed7953\"],[0.7777777777777778,\"#fb9f3a\"],[0.8888888888888888,\"#fdca26\"],[1.0,\"#f0f921\"]]}],\"choropleth\":[{\"type\":\"choropleth\",\"colorbar\":{\"outlinewidth\":0,\"ticks\":\"\"}}],\"histogram2d\":[{\"type\":\"histogram2d\",\"colorbar\":{\"outlinewidth\":0,\"ticks\":\"\"},\"colorscale\":[[0.0,\"#0d0887\"],[0.1111111111111111,\"#46039f\"],[0.2222222222222222,\"#7201a8\"],[0.3333333333333333,\"#9c179e\"],[0.4444444444444444,\"#bd3786\"],[0.5555555555555556,\"#d8576b\"],[0.6666666666666666,\"#ed7953\"],[0.7777777777777778,\"#fb9f3a\"],[0.8888888888888888,\"#fdca26\"],[1.0,\"#f0f921\"]]}],\"heatmap\":[{\"type\":\"heatmap\",\"colorbar\":{\"outlinewidth\":0,\"ticks\":\"\"},\"colorscale\":[[0.0,\"#0d0887\"],[0.1111111111111111,\"#46039f\"],[0.2222222222222222,\"#7201a8\"],[0.3333333333333333,\"#9c179e\"],[0.4444444444444444,\"#bd3786\"],[0.5555555555555556,\"#d8576b\"],[0.6666666666666666,\"#ed7953\"],[0.7777777777777778,\"#fb9f3a\"],[0.8888888888888888,\"#fdca26\"],[1.0,\"#f0f921\"]]}],\"heatmapgl\":[{\"type\":\"heatmapgl\",\"colorbar\":{\"outlinewidth\":0,\"ticks\":\"\"},\"colorscale\":[[0.0,\"#0d0887\"],[0.1111111111111111,\"#46039f\"],[0.2222222222222222,\"#7201a8\"],[0.3333333333333333,\"#9c179e\"],[0.4444444444444444,\"#bd3786\"],[0.5555555555555556,\"#d8576b\"],[0.6666666666666666,\"#ed7953\"],[0.7777777777777778,\"#fb9f3a\"],[0.8888888888888888,\"#fdca26\"],[1.0,\"#f0f921\"]]}],\"contourcarpet\":[{\"type\":\"contourcarpet\",\"colorbar\":{\"outlinewidth\":0,\"ticks\":\"\"}}],\"contour\":[{\"type\":\"contour\",\"colorbar\":{\"outlinewidth\":0,\"ticks\":\"\"},\"colorscale\":[[0.0,\"#0d0887\"],[0.1111111111111111,\"#46039f\"],[0.2222222222222222,\"#7201a8\"],[0.3333333333333333,\"#9c179e\"],[0.4444444444444444,\"#bd3786\"],[0.5555555555555556,\"#d8576b\"],[0.6666666666666666,\"#ed7953\"],[0.7777777777777778,\"#fb9f3a\"],[0.8888888888888888,\"#fdca26\"],[1.0,\"#f0f921\"]]}],\"surface\":[{\"type\":\"surface\",\"colorbar\":{\"outlinewidth\":0,\"ticks\":\"\"},\"colorscale\":[[0.0,\"#0d0887\"],[0.1111111111111111,\"#46039f\"],[0.2222222222222222,\"#7201a8\"],[0.3333333333333333,\"#9c179e\"],[0.4444444444444444,\"#bd3786\"],[0.5555555555555556,\"#d8576b\"],[0.6666666666666666,\"#ed7953\"],[0.7777777777777778,\"#fb9f3a\"],[0.8888888888888888,\"#fdca26\"],[1.0,\"#f0f921\"]]}],\"mesh3d\":[{\"type\":\"mesh3d\",\"colorbar\":{\"outlinewidth\":0,\"ticks\":\"\"}}],\"scatter\":[{\"marker\":{\"line\":{\"color\":\"#283442\"}},\"type\":\"scatter\"}],\"parcoords\":[{\"type\":\"parcoords\",\"line\":{\"colorbar\":{\"outlinewidth\":0,\"ticks\":\"\"}}}],\"scatterpolargl\":[{\"type\":\"scatterpolargl\",\"marker\":{\"colorbar\":{\"outlinewidth\":0,\"ticks\":\"\"}}}],\"bar\":[{\"error_x\":{\"color\":\"#f2f5fa\"},\"error_y\":{\"color\":\"#f2f5fa\"},\"marker\":{\"line\":{\"color\":\"rgb(17,17,17)\",\"width\":0.5},\"pattern\":{\"fillmode\":\"overlay\",\"size\":10,\"solidity\":0.2}},\"type\":\"bar\"}],\"scattergeo\":[{\"type\":\"scattergeo\",\"marker\":{\"colorbar\":{\"outlinewidth\":0,\"ticks\":\"\"}}}],\"scatterpolar\":[{\"type\":\"scatterpolar\",\"marker\":{\"colorbar\":{\"outlinewidth\":0,\"ticks\":\"\"}}}],\"histogram\":[{\"marker\":{\"pattern\":{\"fillmode\":\"overlay\",\"size\":10,\"solidity\":0.2}},\"type\":\"histogram\"}],\"scattergl\":[{\"marker\":{\"line\":{\"color\":\"#283442\"}},\"type\":\"scattergl\"}],\"scatter3d\":[{\"type\":\"scatter3d\",\"line\":{\"colorbar\":{\"outlinewidth\":0,\"ticks\":\"\"}},\"marker\":{\"colorbar\":{\"outlinewidth\":0,\"ticks\":\"\"}}}],\"scattermapbox\":[{\"type\":\"scattermapbox\",\"marker\":{\"colorbar\":{\"outlinewidth\":0,\"ticks\":\"\"}}}],\"scatterternary\":[{\"type\":\"scatterternary\",\"marker\":{\"colorbar\":{\"outlinewidth\":0,\"ticks\":\"\"}}}],\"scattercarpet\":[{\"type\":\"scattercarpet\",\"marker\":{\"colorbar\":{\"outlinewidth\":0,\"ticks\":\"\"}}}],\"carpet\":[{\"aaxis\":{\"endlinecolor\":\"#A2B1C6\",\"gridcolor\":\"#506784\",\"linecolor\":\"#506784\",\"minorgridcolor\":\"#506784\",\"startlinecolor\":\"#A2B1C6\"},\"baxis\":{\"endlinecolor\":\"#A2B1C6\",\"gridcolor\":\"#506784\",\"linecolor\":\"#506784\",\"minorgridcolor\":\"#506784\",\"startlinecolor\":\"#A2B1C6\"},\"type\":\"carpet\"}],\"table\":[{\"cells\":{\"fill\":{\"color\":\"#506784\"},\"line\":{\"color\":\"rgb(17,17,17)\"}},\"header\":{\"fill\":{\"color\":\"#2a3f5f\"},\"line\":{\"color\":\"rgb(17,17,17)\"}},\"type\":\"table\"}],\"barpolar\":[{\"marker\":{\"line\":{\"color\":\"rgb(17,17,17)\",\"width\":0.5},\"pattern\":{\"fillmode\":\"overlay\",\"size\":10,\"solidity\":0.2}},\"type\":\"barpolar\"}],\"pie\":[{\"automargin\":true,\"type\":\"pie\"}]},\"layout\":{\"autotypenumbers\":\"strict\",\"colorway\":[\"#636efa\",\"#EF553B\",\"#00cc96\",\"#ab63fa\",\"#FFA15A\",\"#19d3f3\",\"#FF6692\",\"#B6E880\",\"#FF97FF\",\"#FECB52\"],\"font\":{\"color\":\"#f2f5fa\"},\"hovermode\":\"closest\",\"hoverlabel\":{\"align\":\"left\"},\"paper_bgcolor\":\"rgb(17,17,17)\",\"plot_bgcolor\":\"rgb(17,17,17)\",\"polar\":{\"bgcolor\":\"rgb(17,17,17)\",\"angularaxis\":{\"gridcolor\":\"#506784\",\"linecolor\":\"#506784\",\"ticks\":\"\"},\"radialaxis\":{\"gridcolor\":\"#506784\",\"linecolor\":\"#506784\",\"ticks\":\"\"}},\"ternary\":{\"bgcolor\":\"rgb(17,17,17)\",\"aaxis\":{\"gridcolor\":\"#506784\",\"linecolor\":\"#506784\",\"ticks\":\"\"},\"baxis\":{\"gridcolor\":\"#506784\",\"linecolor\":\"#506784\",\"ticks\":\"\"},\"caxis\":{\"gridcolor\":\"#506784\",\"linecolor\":\"#506784\",\"ticks\":\"\"}},\"coloraxis\":{\"colorbar\":{\"outlinewidth\":0,\"ticks\":\"\"}},\"colorscale\":{\"sequential\":[[0.0,\"#0d0887\"],[0.1111111111111111,\"#46039f\"],[0.2222222222222222,\"#7201a8\"],[0.3333333333333333,\"#9c179e\"],[0.4444444444444444,\"#bd3786\"],[0.5555555555555556,\"#d8576b\"],[0.6666666666666666,\"#ed7953\"],[0.7777777777777778,\"#fb9f3a\"],[0.8888888888888888,\"#fdca26\"],[1.0,\"#f0f921\"]],\"sequentialminus\":[[0.0,\"#0d0887\"],[0.1111111111111111,\"#46039f\"],[0.2222222222222222,\"#7201a8\"],[0.3333333333333333,\"#9c179e\"],[0.4444444444444444,\"#bd3786\"],[0.5555555555555556,\"#d8576b\"],[0.6666666666666666,\"#ed7953\"],[0.7777777777777778,\"#fb9f3a\"],[0.8888888888888888,\"#fdca26\"],[1.0,\"#f0f921\"]],\"diverging\":[[0,\"#8e0152\"],[0.1,\"#c51b7d\"],[0.2,\"#de77ae\"],[0.3,\"#f1b6da\"],[0.4,\"#fde0ef\"],[0.5,\"#f7f7f7\"],[0.6,\"#e6f5d0\"],[0.7,\"#b8e186\"],[0.8,\"#7fbc41\"],[0.9,\"#4d9221\"],[1,\"#276419\"]]},\"xaxis\":{\"gridcolor\":\"#283442\",\"linecolor\":\"#506784\",\"ticks\":\"\",\"title\":{\"standoff\":15},\"zerolinecolor\":\"#283442\",\"automargin\":true,\"zerolinewidth\":2},\"yaxis\":{\"gridcolor\":\"#283442\",\"linecolor\":\"#506784\",\"ticks\":\"\",\"title\":{\"standoff\":15},\"zerolinecolor\":\"#283442\",\"automargin\":true,\"zerolinewidth\":2},\"scene\":{\"xaxis\":{\"backgroundcolor\":\"rgb(17,17,17)\",\"gridcolor\":\"#506784\",\"linecolor\":\"#506784\",\"showbackground\":true,\"ticks\":\"\",\"zerolinecolor\":\"#C8D4E3\",\"gridwidth\":2},\"yaxis\":{\"backgroundcolor\":\"rgb(17,17,17)\",\"gridcolor\":\"#506784\",\"linecolor\":\"#506784\",\"showbackground\":true,\"ticks\":\"\",\"zerolinecolor\":\"#C8D4E3\",\"gridwidth\":2},\"zaxis\":{\"backgroundcolor\":\"rgb(17,17,17)\",\"gridcolor\":\"#506784\",\"linecolor\":\"#506784\",\"showbackground\":true,\"ticks\":\"\",\"zerolinecolor\":\"#C8D4E3\",\"gridwidth\":2}},\"shapedefaults\":{\"line\":{\"color\":\"#f2f5fa\"}},\"annotationdefaults\":{\"arrowcolor\":\"#f2f5fa\",\"arrowhead\":0,\"arrowwidth\":1},\"geo\":{\"bgcolor\":\"rgb(17,17,17)\",\"landcolor\":\"rgb(17,17,17)\",\"subunitcolor\":\"#506784\",\"showland\":true,\"showlakes\":true,\"lakecolor\":\"rgb(17,17,17)\"},\"title\":{\"x\":0.05},\"updatemenudefaults\":{\"bgcolor\":\"#506784\",\"borderwidth\":0},\"sliderdefaults\":{\"bgcolor\":\"#C8D4E3\",\"borderwidth\":1,\"bordercolor\":\"rgb(17,17,17)\",\"tickwidth\":0},\"mapbox\":{\"style\":\"dark\"}}},\"title\":{\"text\":\"vLLM\"},\"xaxis\":{\"title\":{\"text\":\"Per-GPU Rate (tokens\\u002fs)\"},\"range\":[1.2,0.4]},\"yaxis\":{\"title\":{\"text\":\"Attainment (%)\"}},\"legend\":{\"title\":{\"text\":\"Configuration\"}}},                        {\"responsive\": true}                    ).then(function(){\n                            \nvar gd = document.getElementById('d1a6c217-04c7-4a71-98d8-aeb55fd46708');\nvar x = new MutationObserver(function (mutations, observer) {{\n        var display = window.getComputedStyle(gd).display;\n        if (!display || display === 'none') {{\n            console.log([gd, 'removed!']);\n            Plotly.purge(gd);\n            observer.disconnect();\n        }}\n}});\n\n// Listen for the removal of the full notebook cells\nvar notebookContainer = gd.closest('#notebook-container');\nif (notebookContainer) {{\n    x.observe(notebookContainer, {childList: true});\n}}\n\n// Listen for the clearing of the current output cell\nvar outputEl = gd.closest('.output');\nif (outputEl) {{\n    x.observe(outputEl, {childList: true});\n}}\n\n                        })                };                });            </script>        </div>"
     },
     "metadata": {},
     "output_type": "display_data"
    }
   ],
   "source": [
    "import plotly.graph_objects as go\n",
    "\n",
    "fig = go.Figure()\n",
    "configs = figure_11_vllm_high[['tp_prefill', 'pp_prefill']].drop_duplicates()\n",
    "slo_vals = list(big_df['slo'].unique())\n",
    "\n",
    "df = figure_11_vllm_high\n",
    "for tp_prefill, pp_prefill in configs.values:\n",
    "    config_df = df[\n",
    "        (df['tp_prefill'] == tp_prefill) & (df['pp_prefill'] == pp_prefill)\n",
    "        ]\n",
    "    config_df = config_df.sort_values(by=['slo'], ascending=False)\n",
    "    # plot this inside a plotly plot\n",
    "    fig.add_trace(go.Scatter(\n",
    "        x=config_df['slo'], y=config_df['attainment'],\n",
    "        mode='lines+markers', name=f\"p{tp_prefill}{pp_prefill}-vLLM\"\n",
    "    ))\n",
    "\n",
    "# fig add title\n",
    "fig.update_layout(\n",
    "    title=\"vLLM\",\n",
    "    xaxis_title=\"Per-GPU Rate (tokens/s)\",\n",
    "    yaxis_title=\"Attainment (%)\",\n",
    "    legend_title=\"Configuration\"\n",
    ")\n",
    "fig.update_layout(\n",
    "    xaxis=dict(range=[max(slo_vals), min(slo_vals)]),\n",
    ")  # Set the range manually\n",
    "\n",
    "fig.write_html(\"visual/figure_11_vllm_high.slo.html\")\n",
    "if is_notebook_mode:\n",
    "    fig.show()\n",
    "# Export to html"
   ],
   "metadata": {
    "collapsed": false,
    "ExecuteTime": {
     "end_time": "2024-04-24T04:12:46.169584Z",
     "start_time": "2024-04-24T04:12:46.111355Z"
    }
   },
   "id": "54465eb607a48af7",
   "execution_count": 39
  },
  {
   "cell_type": "code",
   "outputs": [
    {
     "data": {
      "application/vnd.plotly.v1+json": {
       "data": [
        {
         "mode": "lines+markers",
         "name": "p1112-distserve",
         "x": [
          1.2,
          1.0,
          0.8,
          0.6,
          0.4
         ],
         "y": [
          11.916666666666668,
          5.666666666666666,
          2.4166666666666665,
          0.75,
          0.4166666666666667
         ],
         "type": "scatter"
        },
        {
         "mode": "lines+markers",
         "name": "p1121-distserve",
         "x": [
          1.2,
          1.0,
          0.8,
          0.6,
          0.4
         ],
         "y": [
          2.25,
          1.3333333333333337,
          1.0,
          0.6666666666666667,
          0.4166666666666667
         ],
         "type": "scatter"
        },
        {
         "mode": "lines+markers",
         "name": "p1211-distserve",
         "x": [
          1.2,
          1.0,
          0.8,
          0.6,
          0.4
         ],
         "y": [
          12.166666666666668,
          9.25,
          5.75,
          2.4166666666666665,
          1.0
         ],
         "type": "scatter"
        },
        {
         "mode": "lines+markers",
         "name": "p2111-distserve",
         "x": [
          1.2,
          1.0,
          0.8,
          0.6,
          0.4
         ],
         "y": [
          31.833333333333336,
          22.75,
          13.5,
          7.583333333333334,
          2.5
         ],
         "type": "scatter"
        },
        {
         "mode": "lines+markers",
         "name": "p1212-distserve",
         "x": [
          1.2,
          1.0,
          0.8,
          0.6,
          0.4
         ],
         "y": [
          21.0625,
          12.5,
          5.0625,
          1.625,
          0.375
         ],
         "type": "scatter"
        },
        {
         "mode": "lines+markers",
         "name": "p1221-distserve",
         "x": [
          1.2,
          1.0,
          0.8,
          0.6,
          0.4
         ],
         "y": [
          6.4375,
          4.6875,
          2.5625,
          0.8125,
          0.25
         ],
         "type": "scatter"
        },
        {
         "mode": "lines+markers",
         "name": "p2112-distserve",
         "x": [
          1.2,
          1.0,
          0.8,
          0.6,
          0.4
         ],
         "y": [
          51.24999999999999,
          43.25,
          34.6875,
          7.4375,
          1.25
         ],
         "type": "scatter"
        },
        {
         "mode": "lines+markers",
         "name": "p2121-distserve",
         "x": [
          1.2,
          1.0,
          0.8,
          0.6,
          0.4
         ],
         "y": [
          16.1875,
          10.0,
          5.4375,
          2.0,
          0.75
         ],
         "type": "scatter"
        },
        {
         "mode": "lines+markers",
         "name": "p1114-distserve",
         "x": [
          1.2,
          1.0,
          0.8,
          0.6,
          0.4
         ],
         "y": [
          0.05,
          0.05,
          0.05,
          0.0,
          0.0
         ],
         "type": "scatter"
        },
        {
         "mode": "lines+markers",
         "name": "p1122-distserve",
         "x": [
          1.2,
          1.0,
          0.8,
          0.6,
          0.4
         ],
         "y": [
          0.05,
          0.05,
          0.05,
          0.0,
          0.0
         ],
         "type": "scatter"
        },
        {
         "mode": "lines+markers",
         "name": "p1141-distserve",
         "x": [
          1.2,
          1.0,
          0.8,
          0.6,
          0.4
         ],
         "y": [
          0.05,
          0.05,
          0.05,
          0.0,
          0.0
         ],
         "type": "scatter"
        },
        {
         "mode": "lines+markers",
         "name": "p1411-distserve",
         "x": [
          1.2,
          1.0,
          0.8,
          0.6,
          0.4
         ],
         "y": [
          6.15,
          4.6,
          2.55,
          0.8500000000000001,
          0.25
         ],
         "type": "scatter"
        },
        {
         "mode": "lines+markers",
         "name": "p2211-distserve",
         "x": [
          1.2,
          1.0,
          0.8,
          0.6,
          0.4
         ],
         "y": [
          10.65,
          8.15,
          6.15,
          3.75,
          0.8999999999999999
         ],
         "type": "scatter"
        },
        {
         "mode": "lines+markers",
         "name": "p4111-distserve",
         "x": [
          1.2,
          1.0,
          0.8,
          0.6,
          0.4
         ],
         "y": [
          29.65,
          22.3,
          15.55,
          9.0,
          4.5
         ],
         "type": "scatter"
        },
        {
         "mode": "lines+markers",
         "name": "p1214-distserve",
         "x": [
          1.2,
          1.0,
          0.8,
          0.6,
          0.4
         ],
         "y": [
          2.5416666666666665,
          0.9583333333333331,
          0.5833333333333334,
          0.25,
          0.0833333333333333
         ],
         "type": "scatter"
        },
        {
         "mode": "lines+markers",
         "name": "p1222-distserve",
         "x": [
          1.2,
          1.0,
          0.8,
          0.6,
          0.4
         ],
         "y": [
          0.8333333333333334,
          0.7083333333333333,
          0.4583333333333333,
          0.25,
          0.0833333333333333
         ],
         "type": "scatter"
        },
        {
         "mode": "lines+markers",
         "name": "p1241-distserve",
         "x": [
          1.2,
          1.0,
          0.8,
          0.6,
          0.4
         ],
         "y": [
          0.75,
          0.6666666666666667,
          0.4583333333333333,
          0.25,
          0.0833333333333333
         ],
         "type": "scatter"
        },
        {
         "mode": "lines+markers",
         "name": "p1412-distserve",
         "x": [
          1.2,
          1.0,
          0.8,
          0.6,
          0.4
         ],
         "y": [
          11.125,
          7.416666666666667,
          3.4166666666666665,
          1.0416666666666663,
          0.1666666666666666
         ],
         "type": "scatter"
        },
        {
         "mode": "lines+markers",
         "name": "p1421-distserve",
         "x": [
          1.2,
          1.0,
          0.8,
          0.6,
          0.4
         ],
         "y": [
          4.25,
          3.25,
          1.625,
          0.4166666666666667,
          0.125
         ],
         "type": "scatter"
        },
        {
         "mode": "lines+markers",
         "name": "p2114-distserve",
         "x": [
          1.2,
          1.0,
          0.8,
          0.6,
          0.4
         ],
         "y": [
          1.0,
          0.5416666666666667,
          0.4583333333333333,
          0.25,
          0.0833333333333333
         ],
         "type": "scatter"
        },
        {
         "mode": "lines+markers",
         "name": "p2122-distserve",
         "x": [
          1.2,
          1.0,
          0.8,
          0.6,
          0.4
         ],
         "y": [
          1.0,
          0.5416666666666667,
          0.4583333333333333,
          0.25,
          0.0833333333333333
         ],
         "type": "scatter"
        },
        {
         "mode": "lines+markers",
         "name": "p2141-distserve",
         "x": [
          1.2,
          1.0,
          0.8,
          0.6,
          0.4
         ],
         "y": [
          1.0,
          0.5416666666666667,
          0.4583333333333333,
          0.2083333333333333,
          0.0833333333333333
         ],
         "type": "scatter"
        },
        {
         "mode": "lines+markers",
         "name": "p2212-distserve",
         "x": [
          1.2,
          1.0,
          0.8,
          0.6,
          0.4
         ],
         "y": [
          34.66666666666667,
          19.20833333333333,
          11.5,
          4.458333333333334,
          0.9583333333333331
         ],
         "type": "scatter"
        },
        {
         "mode": "lines+markers",
         "name": "p2221-distserve",
         "x": [
          1.2,
          1.0,
          0.8,
          0.6,
          0.4
         ],
         "y": [
          10.083333333333332,
          6.791666666666667,
          4.458333333333334,
          2.5416666666666665,
          0.5
         ],
         "type": "scatter"
        },
        {
         "mode": "lines+markers",
         "name": "p4112-distserve",
         "x": [
          1.2,
          1.0,
          0.8,
          0.6,
          0.4
         ],
         "y": [
          90.04166666666666,
          84.0,
          73.83333333333333,
          21.083333333333336,
          5.416666666666667
         ],
         "type": "scatter"
        },
        {
         "mode": "lines+markers",
         "name": "p4121-distserve",
         "x": [
          1.2,
          1.0,
          0.8,
          0.6,
          0.4
         ],
         "y": [
          29.33333333333333,
          21.416666666666668,
          14.083333333333334,
          7.166666666666667,
          2.7916666666666665
         ],
         "type": "scatter"
        },
        {
         "mode": "lines+markers",
         "name": "p1414-distserve",
         "x": [
          1.2,
          1.0,
          0.8,
          0.6,
          0.4
         ],
         "y": [
          9.25,
          4.9375,
          1.59375,
          0.34375,
          0.0625
         ],
         "type": "scatter"
        },
        {
         "mode": "lines+markers",
         "name": "p1422-distserve",
         "x": [
          1.2,
          1.0,
          0.8,
          0.6,
          0.4
         ],
         "y": [
          3.4687500000000004,
          2.28125,
          1.0,
          0.25,
          0.0625
         ],
         "type": "scatter"
        },
        {
         "mode": "lines+markers",
         "name": "p1441-distserve",
         "x": [
          1.2,
          1.0,
          0.8,
          0.6,
          0.4
         ],
         "y": [
          1.7812499999999998,
          1.25,
          0.4375,
          0.15625,
          0.0625
         ],
         "type": "scatter"
        },
        {
         "mode": "lines+markers",
         "name": "p2214-distserve",
         "x": [
          1.2,
          1.0,
          0.8,
          0.6,
          0.4
         ],
         "y": [
          35.8125,
          18.25,
          5.21875,
          1.46875,
          0.25
         ],
         "type": "scatter"
        },
        {
         "mode": "lines+markers",
         "name": "p2222-distserve",
         "x": [
          1.2,
          1.0,
          0.8,
          0.6,
          0.4
         ],
         "y": [
          7.843749999999999,
          4.3125,
          1.96875,
          0.625,
          0.21875
         ],
         "type": "scatter"
        },
        {
         "mode": "lines+markers",
         "name": "p2241-distserve",
         "x": [
          1.2,
          1.0,
          0.8,
          0.6,
          0.4
         ],
         "y": [
          2.8125,
          1.9375,
          1.03125,
          0.5,
          0.21875
         ],
         "type": "scatter"
        },
        {
         "mode": "lines+markers",
         "name": "p4114-distserve",
         "x": [
          1.2,
          1.0,
          0.8,
          0.6,
          0.4
         ],
         "y": [
          55.3125,
          46.6875,
          35.0625,
          13.593749999999998,
          1.28125
         ],
         "type": "scatter"
        },
        {
         "mode": "lines+markers",
         "name": "p4122-distserve",
         "x": [
          1.2,
          1.0,
          0.8,
          0.6,
          0.4
         ],
         "y": [
          40.40625,
          22.8125,
          8.0625,
          3.4062500000000004,
          0.625
         ],
         "type": "scatter"
        },
        {
         "mode": "lines+markers",
         "name": "p4141-distserve",
         "x": [
          1.2,
          1.0,
          0.8,
          0.6,
          0.4
         ],
         "y": [
          9.4375,
          6.09375,
          3.15625,
          1.65625,
          0.5
         ],
         "type": "scatter"
        },
        {
         "mode": "lines+markers",
         "name": "p1118-distserve",
         "x": [
          1.2,
          1.0,
          0.8,
          0.6,
          0.4
         ],
         "y": [
          0.0277777777777777,
          0.0277777777777777,
          0.0277777777777777,
          0.0,
          0.0
         ],
         "type": "scatter"
        },
        {
         "mode": "lines+markers",
         "name": "p1124-distserve",
         "x": [
          1.2,
          1.0,
          0.8,
          0.6,
          0.4
         ],
         "y": [
          0.0277777777777777,
          0.0277777777777777,
          0.0277777777777777,
          0.0,
          0.0
         ],
         "type": "scatter"
        },
        {
         "mode": "lines+markers",
         "name": "p1111-distserve",
         "x": [
          1.2,
          1.0,
          0.8,
          0.6,
          0.4
         ],
         "y": [
          22.875,
          15.125,
          8.875,
          3.875,
          1.5
         ],
         "type": "scatter"
        },
        {
         "mode": "lines+markers",
         "name": "p14-vLLM",
         "x": [
          1.2,
          1.0,
          0.8,
          0.6,
          0.4
         ],
         "y": [
          4.125,
          2.0,
          0.8125,
          0.3125,
          0.0
         ],
         "type": "scatter"
        },
        {
         "mode": "lines+markers",
         "name": "p22-vLLM",
         "x": [
          1.2,
          1.0,
          0.8,
          0.6,
          0.4
         ],
         "y": [
          4.0625,
          2.5625,
          1.3125,
          0.5625,
          0.1875
         ],
         "type": "scatter"
        },
        {
         "mode": "lines+markers",
         "name": "p41-vLLM",
         "x": [
          1.2,
          1.0,
          0.8,
          0.6,
          0.4
         ],
         "y": [
          3.875,
          2.3125,
          1.25,
          0.75,
          0.0
         ],
         "type": "scatter"
        },
        {
         "mode": "lines+markers",
         "name": "p18-vLLM",
         "x": [
          1.2,
          1.0,
          0.8,
          0.6,
          0.4
         ],
         "y": [
          0.15625,
          0.09375,
          0.0,
          0.0,
          0.0
         ],
         "type": "scatter"
        },
        {
         "mode": "lines+markers",
         "name": "p24-vLLM",
         "x": [
          1.2,
          1.0,
          0.8,
          0.6,
          0.4
         ],
         "y": [
          0.46875,
          0.21875,
          0.0625,
          0.03125,
          0.0
         ],
         "type": "scatter"
        },
        {
         "mode": "lines+markers",
         "name": "p42-vLLM",
         "x": [
          1.2,
          1.0,
          0.8,
          0.6,
          0.4
         ],
         "y": [
          0.78125,
          0.4375,
          0.1875,
          0.09375,
          0.0625
         ],
         "type": "scatter"
        },
        {
         "mode": "lines+markers",
         "name": "p11-vLLM",
         "x": [
          1.2,
          1.0,
          0.8,
          0.6,
          0.4
         ],
         "y": [
          71.5,
          51.74999999999999,
          23.25,
          8.0,
          2.0
         ],
         "type": "scatter"
        },
        {
         "mode": "lines+markers",
         "name": "p12-vLLM",
         "x": [
          1.2,
          1.0,
          0.8,
          0.6,
          0.4
         ],
         "y": [
          28.75,
          14.124999999999998,
          4.375,
          1.7500000000000002,
          0.5
         ],
         "type": "scatter"
        },
        {
         "mode": "lines+markers",
         "name": "p21-vLLM",
         "x": [
          1.2,
          1.0,
          0.8,
          0.6,
          0.4
         ],
         "y": [
          15.75,
          9.75,
          4.75,
          2.0,
          0.375
         ],
         "type": "scatter"
        }
       ],
       "layout": {
        "template": {
         "data": {
          "histogram2dcontour": [
           {
            "type": "histogram2dcontour",
            "colorbar": {
             "outlinewidth": 0,
             "ticks": ""
            },
            "colorscale": [
             [
              0.0,
              "#0d0887"
             ],
             [
              0.1111111111111111,
              "#46039f"
             ],
             [
              0.2222222222222222,
              "#7201a8"
             ],
             [
              0.3333333333333333,
              "#9c179e"
             ],
             [
              0.4444444444444444,
              "#bd3786"
             ],
             [
              0.5555555555555556,
              "#d8576b"
             ],
             [
              0.6666666666666666,
              "#ed7953"
             ],
             [
              0.7777777777777778,
              "#fb9f3a"
             ],
             [
              0.8888888888888888,
              "#fdca26"
             ],
             [
              1.0,
              "#f0f921"
             ]
            ]
           }
          ],
          "choropleth": [
           {
            "type": "choropleth",
            "colorbar": {
             "outlinewidth": 0,
             "ticks": ""
            }
           }
          ],
          "histogram2d": [
           {
            "type": "histogram2d",
            "colorbar": {
             "outlinewidth": 0,
             "ticks": ""
            },
            "colorscale": [
             [
              0.0,
              "#0d0887"
             ],
             [
              0.1111111111111111,
              "#46039f"
             ],
             [
              0.2222222222222222,
              "#7201a8"
             ],
             [
              0.3333333333333333,
              "#9c179e"
             ],
             [
              0.4444444444444444,
              "#bd3786"
             ],
             [
              0.5555555555555556,
              "#d8576b"
             ],
             [
              0.6666666666666666,
              "#ed7953"
             ],
             [
              0.7777777777777778,
              "#fb9f3a"
             ],
             [
              0.8888888888888888,
              "#fdca26"
             ],
             [
              1.0,
              "#f0f921"
             ]
            ]
           }
          ],
          "heatmap": [
           {
            "type": "heatmap",
            "colorbar": {
             "outlinewidth": 0,
             "ticks": ""
            },
            "colorscale": [
             [
              0.0,
              "#0d0887"
             ],
             [
              0.1111111111111111,
              "#46039f"
             ],
             [
              0.2222222222222222,
              "#7201a8"
             ],
             [
              0.3333333333333333,
              "#9c179e"
             ],
             [
              0.4444444444444444,
              "#bd3786"
             ],
             [
              0.5555555555555556,
              "#d8576b"
             ],
             [
              0.6666666666666666,
              "#ed7953"
             ],
             [
              0.7777777777777778,
              "#fb9f3a"
             ],
             [
              0.8888888888888888,
              "#fdca26"
             ],
             [
              1.0,
              "#f0f921"
             ]
            ]
           }
          ],
          "heatmapgl": [
           {
            "type": "heatmapgl",
            "colorbar": {
             "outlinewidth": 0,
             "ticks": ""
            },
            "colorscale": [
             [
              0.0,
              "#0d0887"
             ],
             [
              0.1111111111111111,
              "#46039f"
             ],
             [
              0.2222222222222222,
              "#7201a8"
             ],
             [
              0.3333333333333333,
              "#9c179e"
             ],
             [
              0.4444444444444444,
              "#bd3786"
             ],
             [
              0.5555555555555556,
              "#d8576b"
             ],
             [
              0.6666666666666666,
              "#ed7953"
             ],
             [
              0.7777777777777778,
              "#fb9f3a"
             ],
             [
              0.8888888888888888,
              "#fdca26"
             ],
             [
              1.0,
              "#f0f921"
             ]
            ]
           }
          ],
          "contourcarpet": [
           {
            "type": "contourcarpet",
            "colorbar": {
             "outlinewidth": 0,
             "ticks": ""
            }
           }
          ],
          "contour": [
           {
            "type": "contour",
            "colorbar": {
             "outlinewidth": 0,
             "ticks": ""
            },
            "colorscale": [
             [
              0.0,
              "#0d0887"
             ],
             [
              0.1111111111111111,
              "#46039f"
             ],
             [
              0.2222222222222222,
              "#7201a8"
             ],
             [
              0.3333333333333333,
              "#9c179e"
             ],
             [
              0.4444444444444444,
              "#bd3786"
             ],
             [
              0.5555555555555556,
              "#d8576b"
             ],
             [
              0.6666666666666666,
              "#ed7953"
             ],
             [
              0.7777777777777778,
              "#fb9f3a"
             ],
             [
              0.8888888888888888,
              "#fdca26"
             ],
             [
              1.0,
              "#f0f921"
             ]
            ]
           }
          ],
          "surface": [
           {
            "type": "surface",
            "colorbar": {
             "outlinewidth": 0,
             "ticks": ""
            },
            "colorscale": [
             [
              0.0,
              "#0d0887"
             ],
             [
              0.1111111111111111,
              "#46039f"
             ],
             [
              0.2222222222222222,
              "#7201a8"
             ],
             [
              0.3333333333333333,
              "#9c179e"
             ],
             [
              0.4444444444444444,
              "#bd3786"
             ],
             [
              0.5555555555555556,
              "#d8576b"
             ],
             [
              0.6666666666666666,
              "#ed7953"
             ],
             [
              0.7777777777777778,
              "#fb9f3a"
             ],
             [
              0.8888888888888888,
              "#fdca26"
             ],
             [
              1.0,
              "#f0f921"
             ]
            ]
           }
          ],
          "mesh3d": [
           {
            "type": "mesh3d",
            "colorbar": {
             "outlinewidth": 0,
             "ticks": ""
            }
           }
          ],
          "scatter": [
           {
            "marker": {
             "line": {
              "color": "#283442"
             }
            },
            "type": "scatter"
           }
          ],
          "parcoords": [
           {
            "type": "parcoords",
            "line": {
             "colorbar": {
              "outlinewidth": 0,
              "ticks": ""
             }
            }
           }
          ],
          "scatterpolargl": [
           {
            "type": "scatterpolargl",
            "marker": {
             "colorbar": {
              "outlinewidth": 0,
              "ticks": ""
             }
            }
           }
          ],
          "bar": [
           {
            "error_x": {
             "color": "#f2f5fa"
            },
            "error_y": {
             "color": "#f2f5fa"
            },
            "marker": {
             "line": {
              "color": "rgb(17,17,17)",
              "width": 0.5
             },
             "pattern": {
              "fillmode": "overlay",
              "size": 10,
              "solidity": 0.2
             }
            },
            "type": "bar"
           }
          ],
          "scattergeo": [
           {
            "type": "scattergeo",
            "marker": {
             "colorbar": {
              "outlinewidth": 0,
              "ticks": ""
             }
            }
           }
          ],
          "scatterpolar": [
           {
            "type": "scatterpolar",
            "marker": {
             "colorbar": {
              "outlinewidth": 0,
              "ticks": ""
             }
            }
           }
          ],
          "histogram": [
           {
            "marker": {
             "pattern": {
              "fillmode": "overlay",
              "size": 10,
              "solidity": 0.2
             }
            },
            "type": "histogram"
           }
          ],
          "scattergl": [
           {
            "marker": {
             "line": {
              "color": "#283442"
             }
            },
            "type": "scattergl"
           }
          ],
          "scatter3d": [
           {
            "type": "scatter3d",
            "line": {
             "colorbar": {
              "outlinewidth": 0,
              "ticks": ""
             }
            },
            "marker": {
             "colorbar": {
              "outlinewidth": 0,
              "ticks": ""
             }
            }
           }
          ],
          "scattermapbox": [
           {
            "type": "scattermapbox",
            "marker": {
             "colorbar": {
              "outlinewidth": 0,
              "ticks": ""
             }
            }
           }
          ],
          "scatterternary": [
           {
            "type": "scatterternary",
            "marker": {
             "colorbar": {
              "outlinewidth": 0,
              "ticks": ""
             }
            }
           }
          ],
          "scattercarpet": [
           {
            "type": "scattercarpet",
            "marker": {
             "colorbar": {
              "outlinewidth": 0,
              "ticks": ""
             }
            }
           }
          ],
          "carpet": [
           {
            "aaxis": {
             "endlinecolor": "#A2B1C6",
             "gridcolor": "#506784",
             "linecolor": "#506784",
             "minorgridcolor": "#506784",
             "startlinecolor": "#A2B1C6"
            },
            "baxis": {
             "endlinecolor": "#A2B1C6",
             "gridcolor": "#506784",
             "linecolor": "#506784",
             "minorgridcolor": "#506784",
             "startlinecolor": "#A2B1C6"
            },
            "type": "carpet"
           }
          ],
          "table": [
           {
            "cells": {
             "fill": {
              "color": "#506784"
             },
             "line": {
              "color": "rgb(17,17,17)"
             }
            },
            "header": {
             "fill": {
              "color": "#2a3f5f"
             },
             "line": {
              "color": "rgb(17,17,17)"
             }
            },
            "type": "table"
           }
          ],
          "barpolar": [
           {
            "marker": {
             "line": {
              "color": "rgb(17,17,17)",
              "width": 0.5
             },
             "pattern": {
              "fillmode": "overlay",
              "size": 10,
              "solidity": 0.2
             }
            },
            "type": "barpolar"
           }
          ],
          "pie": [
           {
            "automargin": true,
            "type": "pie"
           }
          ]
         },
         "layout": {
          "autotypenumbers": "strict",
          "colorway": [
           "#636efa",
           "#EF553B",
           "#00cc96",
           "#ab63fa",
           "#FFA15A",
           "#19d3f3",
           "#FF6692",
           "#B6E880",
           "#FF97FF",
           "#FECB52"
          ],
          "font": {
           "color": "#f2f5fa"
          },
          "hovermode": "closest",
          "hoverlabel": {
           "align": "left"
          },
          "paper_bgcolor": "rgb(17,17,17)",
          "plot_bgcolor": "rgb(17,17,17)",
          "polar": {
           "bgcolor": "rgb(17,17,17)",
           "angularaxis": {
            "gridcolor": "#506784",
            "linecolor": "#506784",
            "ticks": ""
           },
           "radialaxis": {
            "gridcolor": "#506784",
            "linecolor": "#506784",
            "ticks": ""
           }
          },
          "ternary": {
           "bgcolor": "rgb(17,17,17)",
           "aaxis": {
            "gridcolor": "#506784",
            "linecolor": "#506784",
            "ticks": ""
           },
           "baxis": {
            "gridcolor": "#506784",
            "linecolor": "#506784",
            "ticks": ""
           },
           "caxis": {
            "gridcolor": "#506784",
            "linecolor": "#506784",
            "ticks": ""
           }
          },
          "coloraxis": {
           "colorbar": {
            "outlinewidth": 0,
            "ticks": ""
           }
          },
          "colorscale": {
           "sequential": [
            [
             0.0,
             "#0d0887"
            ],
            [
             0.1111111111111111,
             "#46039f"
            ],
            [
             0.2222222222222222,
             "#7201a8"
            ],
            [
             0.3333333333333333,
             "#9c179e"
            ],
            [
             0.4444444444444444,
             "#bd3786"
            ],
            [
             0.5555555555555556,
             "#d8576b"
            ],
            [
             0.6666666666666666,
             "#ed7953"
            ],
            [
             0.7777777777777778,
             "#fb9f3a"
            ],
            [
             0.8888888888888888,
             "#fdca26"
            ],
            [
             1.0,
             "#f0f921"
            ]
           ],
           "sequentialminus": [
            [
             0.0,
             "#0d0887"
            ],
            [
             0.1111111111111111,
             "#46039f"
            ],
            [
             0.2222222222222222,
             "#7201a8"
            ],
            [
             0.3333333333333333,
             "#9c179e"
            ],
            [
             0.4444444444444444,
             "#bd3786"
            ],
            [
             0.5555555555555556,
             "#d8576b"
            ],
            [
             0.6666666666666666,
             "#ed7953"
            ],
            [
             0.7777777777777778,
             "#fb9f3a"
            ],
            [
             0.8888888888888888,
             "#fdca26"
            ],
            [
             1.0,
             "#f0f921"
            ]
           ],
           "diverging": [
            [
             0,
             "#8e0152"
            ],
            [
             0.1,
             "#c51b7d"
            ],
            [
             0.2,
             "#de77ae"
            ],
            [
             0.3,
             "#f1b6da"
            ],
            [
             0.4,
             "#fde0ef"
            ],
            [
             0.5,
             "#f7f7f7"
            ],
            [
             0.6,
             "#e6f5d0"
            ],
            [
             0.7,
             "#b8e186"
            ],
            [
             0.8,
             "#7fbc41"
            ],
            [
             0.9,
             "#4d9221"
            ],
            [
             1,
             "#276419"
            ]
           ]
          },
          "xaxis": {
           "gridcolor": "#283442",
           "linecolor": "#506784",
           "ticks": "",
           "title": {
            "standoff": 15
           },
           "zerolinecolor": "#283442",
           "automargin": true,
           "zerolinewidth": 2
          },
          "yaxis": {
           "gridcolor": "#283442",
           "linecolor": "#506784",
           "ticks": "",
           "title": {
            "standoff": 15
           },
           "zerolinecolor": "#283442",
           "automargin": true,
           "zerolinewidth": 2
          },
          "scene": {
           "xaxis": {
            "backgroundcolor": "rgb(17,17,17)",
            "gridcolor": "#506784",
            "linecolor": "#506784",
            "showbackground": true,
            "ticks": "",
            "zerolinecolor": "#C8D4E3",
            "gridwidth": 2
           },
           "yaxis": {
            "backgroundcolor": "rgb(17,17,17)",
            "gridcolor": "#506784",
            "linecolor": "#506784",
            "showbackground": true,
            "ticks": "",
            "zerolinecolor": "#C8D4E3",
            "gridwidth": 2
           },
           "zaxis": {
            "backgroundcolor": "rgb(17,17,17)",
            "gridcolor": "#506784",
            "linecolor": "#506784",
            "showbackground": true,
            "ticks": "",
            "zerolinecolor": "#C8D4E3",
            "gridwidth": 2
           }
          },
          "shapedefaults": {
           "line": {
            "color": "#f2f5fa"
           }
          },
          "annotationdefaults": {
           "arrowcolor": "#f2f5fa",
           "arrowhead": 0,
           "arrowwidth": 1
          },
          "geo": {
           "bgcolor": "rgb(17,17,17)",
           "landcolor": "rgb(17,17,17)",
           "subunitcolor": "#506784",
           "showland": true,
           "showlakes": true,
           "lakecolor": "rgb(17,17,17)"
          },
          "title": {
           "x": 0.05
          },
          "updatemenudefaults": {
           "bgcolor": "#506784",
           "borderwidth": 0
          },
          "sliderdefaults": {
           "bgcolor": "#C8D4E3",
           "borderwidth": 1,
           "bordercolor": "rgb(17,17,17)",
           "tickwidth": 0
          },
          "mapbox": {
           "style": "dark"
          }
         }
        },
        "title": {
         "text": "DistServe and vLLM"
        },
        "xaxis": {
         "title": {
          "text": "Per-GPU Rate (tokens/s)"
         },
         "range": [
          1.2,
          0.4
         ]
        },
        "yaxis": {
         "title": {
          "text": "Attainment (%)"
         }
        },
        "legend": {
         "title": {
          "text": "Configuration"
         }
        }
       },
       "config": {
        "plotlyServerURL": "https://plot.ly"
       }
      },
      "text/html": "<div>                            <div id=\"02285cf3-0ad1-4b99-8d31-665b1e4979d4\" class=\"plotly-graph-div\" style=\"height:525px; width:100%;\"></div>            <script type=\"text/javascript\">                require([\"plotly\"], function(Plotly) {                    window.PLOTLYENV=window.PLOTLYENV || {};                                    if (document.getElementById(\"02285cf3-0ad1-4b99-8d31-665b1e4979d4\")) {                    Plotly.newPlot(                        \"02285cf3-0ad1-4b99-8d31-665b1e4979d4\",                        [{\"mode\":\"lines+markers\",\"name\":\"p1112-distserve\",\"x\":[1.2,1.0,0.8,0.6,0.4],\"y\":[11.916666666666668,5.666666666666666,2.4166666666666665,0.75,0.4166666666666667],\"type\":\"scatter\"},{\"mode\":\"lines+markers\",\"name\":\"p1121-distserve\",\"x\":[1.2,1.0,0.8,0.6,0.4],\"y\":[2.25,1.3333333333333337,1.0,0.6666666666666667,0.4166666666666667],\"type\":\"scatter\"},{\"mode\":\"lines+markers\",\"name\":\"p1211-distserve\",\"x\":[1.2,1.0,0.8,0.6,0.4],\"y\":[12.166666666666668,9.25,5.75,2.4166666666666665,1.0],\"type\":\"scatter\"},{\"mode\":\"lines+markers\",\"name\":\"p2111-distserve\",\"x\":[1.2,1.0,0.8,0.6,0.4],\"y\":[31.833333333333336,22.75,13.5,7.583333333333334,2.5],\"type\":\"scatter\"},{\"mode\":\"lines+markers\",\"name\":\"p1212-distserve\",\"x\":[1.2,1.0,0.8,0.6,0.4],\"y\":[21.0625,12.5,5.0625,1.625,0.375],\"type\":\"scatter\"},{\"mode\":\"lines+markers\",\"name\":\"p1221-distserve\",\"x\":[1.2,1.0,0.8,0.6,0.4],\"y\":[6.4375,4.6875,2.5625,0.8125,0.25],\"type\":\"scatter\"},{\"mode\":\"lines+markers\",\"name\":\"p2112-distserve\",\"x\":[1.2,1.0,0.8,0.6,0.4],\"y\":[51.24999999999999,43.25,34.6875,7.4375,1.25],\"type\":\"scatter\"},{\"mode\":\"lines+markers\",\"name\":\"p2121-distserve\",\"x\":[1.2,1.0,0.8,0.6,0.4],\"y\":[16.1875,10.0,5.4375,2.0,0.75],\"type\":\"scatter\"},{\"mode\":\"lines+markers\",\"name\":\"p1114-distserve\",\"x\":[1.2,1.0,0.8,0.6,0.4],\"y\":[0.05,0.05,0.05,0.0,0.0],\"type\":\"scatter\"},{\"mode\":\"lines+markers\",\"name\":\"p1122-distserve\",\"x\":[1.2,1.0,0.8,0.6,0.4],\"y\":[0.05,0.05,0.05,0.0,0.0],\"type\":\"scatter\"},{\"mode\":\"lines+markers\",\"name\":\"p1141-distserve\",\"x\":[1.2,1.0,0.8,0.6,0.4],\"y\":[0.05,0.05,0.05,0.0,0.0],\"type\":\"scatter\"},{\"mode\":\"lines+markers\",\"name\":\"p1411-distserve\",\"x\":[1.2,1.0,0.8,0.6,0.4],\"y\":[6.15,4.6,2.55,0.8500000000000001,0.25],\"type\":\"scatter\"},{\"mode\":\"lines+markers\",\"name\":\"p2211-distserve\",\"x\":[1.2,1.0,0.8,0.6,0.4],\"y\":[10.65,8.15,6.15,3.75,0.8999999999999999],\"type\":\"scatter\"},{\"mode\":\"lines+markers\",\"name\":\"p4111-distserve\",\"x\":[1.2,1.0,0.8,0.6,0.4],\"y\":[29.65,22.3,15.55,9.0,4.5],\"type\":\"scatter\"},{\"mode\":\"lines+markers\",\"name\":\"p1214-distserve\",\"x\":[1.2,1.0,0.8,0.6,0.4],\"y\":[2.5416666666666665,0.9583333333333331,0.5833333333333334,0.25,0.0833333333333333],\"type\":\"scatter\"},{\"mode\":\"lines+markers\",\"name\":\"p1222-distserve\",\"x\":[1.2,1.0,0.8,0.6,0.4],\"y\":[0.8333333333333334,0.7083333333333333,0.4583333333333333,0.25,0.0833333333333333],\"type\":\"scatter\"},{\"mode\":\"lines+markers\",\"name\":\"p1241-distserve\",\"x\":[1.2,1.0,0.8,0.6,0.4],\"y\":[0.75,0.6666666666666667,0.4583333333333333,0.25,0.0833333333333333],\"type\":\"scatter\"},{\"mode\":\"lines+markers\",\"name\":\"p1412-distserve\",\"x\":[1.2,1.0,0.8,0.6,0.4],\"y\":[11.125,7.416666666666667,3.4166666666666665,1.0416666666666663,0.1666666666666666],\"type\":\"scatter\"},{\"mode\":\"lines+markers\",\"name\":\"p1421-distserve\",\"x\":[1.2,1.0,0.8,0.6,0.4],\"y\":[4.25,3.25,1.625,0.4166666666666667,0.125],\"type\":\"scatter\"},{\"mode\":\"lines+markers\",\"name\":\"p2114-distserve\",\"x\":[1.2,1.0,0.8,0.6,0.4],\"y\":[1.0,0.5416666666666667,0.4583333333333333,0.25,0.0833333333333333],\"type\":\"scatter\"},{\"mode\":\"lines+markers\",\"name\":\"p2122-distserve\",\"x\":[1.2,1.0,0.8,0.6,0.4],\"y\":[1.0,0.5416666666666667,0.4583333333333333,0.25,0.0833333333333333],\"type\":\"scatter\"},{\"mode\":\"lines+markers\",\"name\":\"p2141-distserve\",\"x\":[1.2,1.0,0.8,0.6,0.4],\"y\":[1.0,0.5416666666666667,0.4583333333333333,0.2083333333333333,0.0833333333333333],\"type\":\"scatter\"},{\"mode\":\"lines+markers\",\"name\":\"p2212-distserve\",\"x\":[1.2,1.0,0.8,0.6,0.4],\"y\":[34.66666666666667,19.20833333333333,11.5,4.458333333333334,0.9583333333333331],\"type\":\"scatter\"},{\"mode\":\"lines+markers\",\"name\":\"p2221-distserve\",\"x\":[1.2,1.0,0.8,0.6,0.4],\"y\":[10.083333333333332,6.791666666666667,4.458333333333334,2.5416666666666665,0.5],\"type\":\"scatter\"},{\"mode\":\"lines+markers\",\"name\":\"p4112-distserve\",\"x\":[1.2,1.0,0.8,0.6,0.4],\"y\":[90.04166666666666,84.0,73.83333333333333,21.083333333333336,5.416666666666667],\"type\":\"scatter\"},{\"mode\":\"lines+markers\",\"name\":\"p4121-distserve\",\"x\":[1.2,1.0,0.8,0.6,0.4],\"y\":[29.33333333333333,21.416666666666668,14.083333333333334,7.166666666666667,2.7916666666666665],\"type\":\"scatter\"},{\"mode\":\"lines+markers\",\"name\":\"p1414-distserve\",\"x\":[1.2,1.0,0.8,0.6,0.4],\"y\":[9.25,4.9375,1.59375,0.34375,0.0625],\"type\":\"scatter\"},{\"mode\":\"lines+markers\",\"name\":\"p1422-distserve\",\"x\":[1.2,1.0,0.8,0.6,0.4],\"y\":[3.4687500000000004,2.28125,1.0,0.25,0.0625],\"type\":\"scatter\"},{\"mode\":\"lines+markers\",\"name\":\"p1441-distserve\",\"x\":[1.2,1.0,0.8,0.6,0.4],\"y\":[1.7812499999999998,1.25,0.4375,0.15625,0.0625],\"type\":\"scatter\"},{\"mode\":\"lines+markers\",\"name\":\"p2214-distserve\",\"x\":[1.2,1.0,0.8,0.6,0.4],\"y\":[35.8125,18.25,5.21875,1.46875,0.25],\"type\":\"scatter\"},{\"mode\":\"lines+markers\",\"name\":\"p2222-distserve\",\"x\":[1.2,1.0,0.8,0.6,0.4],\"y\":[7.843749999999999,4.3125,1.96875,0.625,0.21875],\"type\":\"scatter\"},{\"mode\":\"lines+markers\",\"name\":\"p2241-distserve\",\"x\":[1.2,1.0,0.8,0.6,0.4],\"y\":[2.8125,1.9375,1.03125,0.5,0.21875],\"type\":\"scatter\"},{\"mode\":\"lines+markers\",\"name\":\"p4114-distserve\",\"x\":[1.2,1.0,0.8,0.6,0.4],\"y\":[55.3125,46.6875,35.0625,13.593749999999998,1.28125],\"type\":\"scatter\"},{\"mode\":\"lines+markers\",\"name\":\"p4122-distserve\",\"x\":[1.2,1.0,0.8,0.6,0.4],\"y\":[40.40625,22.8125,8.0625,3.4062500000000004,0.625],\"type\":\"scatter\"},{\"mode\":\"lines+markers\",\"name\":\"p4141-distserve\",\"x\":[1.2,1.0,0.8,0.6,0.4],\"y\":[9.4375,6.09375,3.15625,1.65625,0.5],\"type\":\"scatter\"},{\"mode\":\"lines+markers\",\"name\":\"p1118-distserve\",\"x\":[1.2,1.0,0.8,0.6,0.4],\"y\":[0.0277777777777777,0.0277777777777777,0.0277777777777777,0.0,0.0],\"type\":\"scatter\"},{\"mode\":\"lines+markers\",\"name\":\"p1124-distserve\",\"x\":[1.2,1.0,0.8,0.6,0.4],\"y\":[0.0277777777777777,0.0277777777777777,0.0277777777777777,0.0,0.0],\"type\":\"scatter\"},{\"mode\":\"lines+markers\",\"name\":\"p1111-distserve\",\"x\":[1.2,1.0,0.8,0.6,0.4],\"y\":[22.875,15.125,8.875,3.875,1.5],\"type\":\"scatter\"},{\"mode\":\"lines+markers\",\"name\":\"p14-vLLM\",\"x\":[1.2,1.0,0.8,0.6,0.4],\"y\":[4.125,2.0,0.8125,0.3125,0.0],\"type\":\"scatter\"},{\"mode\":\"lines+markers\",\"name\":\"p22-vLLM\",\"x\":[1.2,1.0,0.8,0.6,0.4],\"y\":[4.0625,2.5625,1.3125,0.5625,0.1875],\"type\":\"scatter\"},{\"mode\":\"lines+markers\",\"name\":\"p41-vLLM\",\"x\":[1.2,1.0,0.8,0.6,0.4],\"y\":[3.875,2.3125,1.25,0.75,0.0],\"type\":\"scatter\"},{\"mode\":\"lines+markers\",\"name\":\"p18-vLLM\",\"x\":[1.2,1.0,0.8,0.6,0.4],\"y\":[0.15625,0.09375,0.0,0.0,0.0],\"type\":\"scatter\"},{\"mode\":\"lines+markers\",\"name\":\"p24-vLLM\",\"x\":[1.2,1.0,0.8,0.6,0.4],\"y\":[0.46875,0.21875,0.0625,0.03125,0.0],\"type\":\"scatter\"},{\"mode\":\"lines+markers\",\"name\":\"p42-vLLM\",\"x\":[1.2,1.0,0.8,0.6,0.4],\"y\":[0.78125,0.4375,0.1875,0.09375,0.0625],\"type\":\"scatter\"},{\"mode\":\"lines+markers\",\"name\":\"p11-vLLM\",\"x\":[1.2,1.0,0.8,0.6,0.4],\"y\":[71.5,51.74999999999999,23.25,8.0,2.0],\"type\":\"scatter\"},{\"mode\":\"lines+markers\",\"name\":\"p12-vLLM\",\"x\":[1.2,1.0,0.8,0.6,0.4],\"y\":[28.75,14.124999999999998,4.375,1.7500000000000002,0.5],\"type\":\"scatter\"},{\"mode\":\"lines+markers\",\"name\":\"p21-vLLM\",\"x\":[1.2,1.0,0.8,0.6,0.4],\"y\":[15.75,9.75,4.75,2.0,0.375],\"type\":\"scatter\"}],                        {\"template\":{\"data\":{\"histogram2dcontour\":[{\"type\":\"histogram2dcontour\",\"colorbar\":{\"outlinewidth\":0,\"ticks\":\"\"},\"colorscale\":[[0.0,\"#0d0887\"],[0.1111111111111111,\"#46039f\"],[0.2222222222222222,\"#7201a8\"],[0.3333333333333333,\"#9c179e\"],[0.4444444444444444,\"#bd3786\"],[0.5555555555555556,\"#d8576b\"],[0.6666666666666666,\"#ed7953\"],[0.7777777777777778,\"#fb9f3a\"],[0.8888888888888888,\"#fdca26\"],[1.0,\"#f0f921\"]]}],\"choropleth\":[{\"type\":\"choropleth\",\"colorbar\":{\"outlinewidth\":0,\"ticks\":\"\"}}],\"histogram2d\":[{\"type\":\"histogram2d\",\"colorbar\":{\"outlinewidth\":0,\"ticks\":\"\"},\"colorscale\":[[0.0,\"#0d0887\"],[0.1111111111111111,\"#46039f\"],[0.2222222222222222,\"#7201a8\"],[0.3333333333333333,\"#9c179e\"],[0.4444444444444444,\"#bd3786\"],[0.5555555555555556,\"#d8576b\"],[0.6666666666666666,\"#ed7953\"],[0.7777777777777778,\"#fb9f3a\"],[0.8888888888888888,\"#fdca26\"],[1.0,\"#f0f921\"]]}],\"heatmap\":[{\"type\":\"heatmap\",\"colorbar\":{\"outlinewidth\":0,\"ticks\":\"\"},\"colorscale\":[[0.0,\"#0d0887\"],[0.1111111111111111,\"#46039f\"],[0.2222222222222222,\"#7201a8\"],[0.3333333333333333,\"#9c179e\"],[0.4444444444444444,\"#bd3786\"],[0.5555555555555556,\"#d8576b\"],[0.6666666666666666,\"#ed7953\"],[0.7777777777777778,\"#fb9f3a\"],[0.8888888888888888,\"#fdca26\"],[1.0,\"#f0f921\"]]}],\"heatmapgl\":[{\"type\":\"heatmapgl\",\"colorbar\":{\"outlinewidth\":0,\"ticks\":\"\"},\"colorscale\":[[0.0,\"#0d0887\"],[0.1111111111111111,\"#46039f\"],[0.2222222222222222,\"#7201a8\"],[0.3333333333333333,\"#9c179e\"],[0.4444444444444444,\"#bd3786\"],[0.5555555555555556,\"#d8576b\"],[0.6666666666666666,\"#ed7953\"],[0.7777777777777778,\"#fb9f3a\"],[0.8888888888888888,\"#fdca26\"],[1.0,\"#f0f921\"]]}],\"contourcarpet\":[{\"type\":\"contourcarpet\",\"colorbar\":{\"outlinewidth\":0,\"ticks\":\"\"}}],\"contour\":[{\"type\":\"contour\",\"colorbar\":{\"outlinewidth\":0,\"ticks\":\"\"},\"colorscale\":[[0.0,\"#0d0887\"],[0.1111111111111111,\"#46039f\"],[0.2222222222222222,\"#7201a8\"],[0.3333333333333333,\"#9c179e\"],[0.4444444444444444,\"#bd3786\"],[0.5555555555555556,\"#d8576b\"],[0.6666666666666666,\"#ed7953\"],[0.7777777777777778,\"#fb9f3a\"],[0.8888888888888888,\"#fdca26\"],[1.0,\"#f0f921\"]]}],\"surface\":[{\"type\":\"surface\",\"colorbar\":{\"outlinewidth\":0,\"ticks\":\"\"},\"colorscale\":[[0.0,\"#0d0887\"],[0.1111111111111111,\"#46039f\"],[0.2222222222222222,\"#7201a8\"],[0.3333333333333333,\"#9c179e\"],[0.4444444444444444,\"#bd3786\"],[0.5555555555555556,\"#d8576b\"],[0.6666666666666666,\"#ed7953\"],[0.7777777777777778,\"#fb9f3a\"],[0.8888888888888888,\"#fdca26\"],[1.0,\"#f0f921\"]]}],\"mesh3d\":[{\"type\":\"mesh3d\",\"colorbar\":{\"outlinewidth\":0,\"ticks\":\"\"}}],\"scatter\":[{\"marker\":{\"line\":{\"color\":\"#283442\"}},\"type\":\"scatter\"}],\"parcoords\":[{\"type\":\"parcoords\",\"line\":{\"colorbar\":{\"outlinewidth\":0,\"ticks\":\"\"}}}],\"scatterpolargl\":[{\"type\":\"scatterpolargl\",\"marker\":{\"colorbar\":{\"outlinewidth\":0,\"ticks\":\"\"}}}],\"bar\":[{\"error_x\":{\"color\":\"#f2f5fa\"},\"error_y\":{\"color\":\"#f2f5fa\"},\"marker\":{\"line\":{\"color\":\"rgb(17,17,17)\",\"width\":0.5},\"pattern\":{\"fillmode\":\"overlay\",\"size\":10,\"solidity\":0.2}},\"type\":\"bar\"}],\"scattergeo\":[{\"type\":\"scattergeo\",\"marker\":{\"colorbar\":{\"outlinewidth\":0,\"ticks\":\"\"}}}],\"scatterpolar\":[{\"type\":\"scatterpolar\",\"marker\":{\"colorbar\":{\"outlinewidth\":0,\"ticks\":\"\"}}}],\"histogram\":[{\"marker\":{\"pattern\":{\"fillmode\":\"overlay\",\"size\":10,\"solidity\":0.2}},\"type\":\"histogram\"}],\"scattergl\":[{\"marker\":{\"line\":{\"color\":\"#283442\"}},\"type\":\"scattergl\"}],\"scatter3d\":[{\"type\":\"scatter3d\",\"line\":{\"colorbar\":{\"outlinewidth\":0,\"ticks\":\"\"}},\"marker\":{\"colorbar\":{\"outlinewidth\":0,\"ticks\":\"\"}}}],\"scattermapbox\":[{\"type\":\"scattermapbox\",\"marker\":{\"colorbar\":{\"outlinewidth\":0,\"ticks\":\"\"}}}],\"scatterternary\":[{\"type\":\"scatterternary\",\"marker\":{\"colorbar\":{\"outlinewidth\":0,\"ticks\":\"\"}}}],\"scattercarpet\":[{\"type\":\"scattercarpet\",\"marker\":{\"colorbar\":{\"outlinewidth\":0,\"ticks\":\"\"}}}],\"carpet\":[{\"aaxis\":{\"endlinecolor\":\"#A2B1C6\",\"gridcolor\":\"#506784\",\"linecolor\":\"#506784\",\"minorgridcolor\":\"#506784\",\"startlinecolor\":\"#A2B1C6\"},\"baxis\":{\"endlinecolor\":\"#A2B1C6\",\"gridcolor\":\"#506784\",\"linecolor\":\"#506784\",\"minorgridcolor\":\"#506784\",\"startlinecolor\":\"#A2B1C6\"},\"type\":\"carpet\"}],\"table\":[{\"cells\":{\"fill\":{\"color\":\"#506784\"},\"line\":{\"color\":\"rgb(17,17,17)\"}},\"header\":{\"fill\":{\"color\":\"#2a3f5f\"},\"line\":{\"color\":\"rgb(17,17,17)\"}},\"type\":\"table\"}],\"barpolar\":[{\"marker\":{\"line\":{\"color\":\"rgb(17,17,17)\",\"width\":0.5},\"pattern\":{\"fillmode\":\"overlay\",\"size\":10,\"solidity\":0.2}},\"type\":\"barpolar\"}],\"pie\":[{\"automargin\":true,\"type\":\"pie\"}]},\"layout\":{\"autotypenumbers\":\"strict\",\"colorway\":[\"#636efa\",\"#EF553B\",\"#00cc96\",\"#ab63fa\",\"#FFA15A\",\"#19d3f3\",\"#FF6692\",\"#B6E880\",\"#FF97FF\",\"#FECB52\"],\"font\":{\"color\":\"#f2f5fa\"},\"hovermode\":\"closest\",\"hoverlabel\":{\"align\":\"left\"},\"paper_bgcolor\":\"rgb(17,17,17)\",\"plot_bgcolor\":\"rgb(17,17,17)\",\"polar\":{\"bgcolor\":\"rgb(17,17,17)\",\"angularaxis\":{\"gridcolor\":\"#506784\",\"linecolor\":\"#506784\",\"ticks\":\"\"},\"radialaxis\":{\"gridcolor\":\"#506784\",\"linecolor\":\"#506784\",\"ticks\":\"\"}},\"ternary\":{\"bgcolor\":\"rgb(17,17,17)\",\"aaxis\":{\"gridcolor\":\"#506784\",\"linecolor\":\"#506784\",\"ticks\":\"\"},\"baxis\":{\"gridcolor\":\"#506784\",\"linecolor\":\"#506784\",\"ticks\":\"\"},\"caxis\":{\"gridcolor\":\"#506784\",\"linecolor\":\"#506784\",\"ticks\":\"\"}},\"coloraxis\":{\"colorbar\":{\"outlinewidth\":0,\"ticks\":\"\"}},\"colorscale\":{\"sequential\":[[0.0,\"#0d0887\"],[0.1111111111111111,\"#46039f\"],[0.2222222222222222,\"#7201a8\"],[0.3333333333333333,\"#9c179e\"],[0.4444444444444444,\"#bd3786\"],[0.5555555555555556,\"#d8576b\"],[0.6666666666666666,\"#ed7953\"],[0.7777777777777778,\"#fb9f3a\"],[0.8888888888888888,\"#fdca26\"],[1.0,\"#f0f921\"]],\"sequentialminus\":[[0.0,\"#0d0887\"],[0.1111111111111111,\"#46039f\"],[0.2222222222222222,\"#7201a8\"],[0.3333333333333333,\"#9c179e\"],[0.4444444444444444,\"#bd3786\"],[0.5555555555555556,\"#d8576b\"],[0.6666666666666666,\"#ed7953\"],[0.7777777777777778,\"#fb9f3a\"],[0.8888888888888888,\"#fdca26\"],[1.0,\"#f0f921\"]],\"diverging\":[[0,\"#8e0152\"],[0.1,\"#c51b7d\"],[0.2,\"#de77ae\"],[0.3,\"#f1b6da\"],[0.4,\"#fde0ef\"],[0.5,\"#f7f7f7\"],[0.6,\"#e6f5d0\"],[0.7,\"#b8e186\"],[0.8,\"#7fbc41\"],[0.9,\"#4d9221\"],[1,\"#276419\"]]},\"xaxis\":{\"gridcolor\":\"#283442\",\"linecolor\":\"#506784\",\"ticks\":\"\",\"title\":{\"standoff\":15},\"zerolinecolor\":\"#283442\",\"automargin\":true,\"zerolinewidth\":2},\"yaxis\":{\"gridcolor\":\"#283442\",\"linecolor\":\"#506784\",\"ticks\":\"\",\"title\":{\"standoff\":15},\"zerolinecolor\":\"#283442\",\"automargin\":true,\"zerolinewidth\":2},\"scene\":{\"xaxis\":{\"backgroundcolor\":\"rgb(17,17,17)\",\"gridcolor\":\"#506784\",\"linecolor\":\"#506784\",\"showbackground\":true,\"ticks\":\"\",\"zerolinecolor\":\"#C8D4E3\",\"gridwidth\":2},\"yaxis\":{\"backgroundcolor\":\"rgb(17,17,17)\",\"gridcolor\":\"#506784\",\"linecolor\":\"#506784\",\"showbackground\":true,\"ticks\":\"\",\"zerolinecolor\":\"#C8D4E3\",\"gridwidth\":2},\"zaxis\":{\"backgroundcolor\":\"rgb(17,17,17)\",\"gridcolor\":\"#506784\",\"linecolor\":\"#506784\",\"showbackground\":true,\"ticks\":\"\",\"zerolinecolor\":\"#C8D4E3\",\"gridwidth\":2}},\"shapedefaults\":{\"line\":{\"color\":\"#f2f5fa\"}},\"annotationdefaults\":{\"arrowcolor\":\"#f2f5fa\",\"arrowhead\":0,\"arrowwidth\":1},\"geo\":{\"bgcolor\":\"rgb(17,17,17)\",\"landcolor\":\"rgb(17,17,17)\",\"subunitcolor\":\"#506784\",\"showland\":true,\"showlakes\":true,\"lakecolor\":\"rgb(17,17,17)\"},\"title\":{\"x\":0.05},\"updatemenudefaults\":{\"bgcolor\":\"#506784\",\"borderwidth\":0},\"sliderdefaults\":{\"bgcolor\":\"#C8D4E3\",\"borderwidth\":1,\"bordercolor\":\"rgb(17,17,17)\",\"tickwidth\":0},\"mapbox\":{\"style\":\"dark\"}}},\"title\":{\"text\":\"DistServe and vLLM\"},\"xaxis\":{\"title\":{\"text\":\"Per-GPU Rate (tokens\\u002fs)\"},\"range\":[1.2,0.4]},\"yaxis\":{\"title\":{\"text\":\"Attainment (%)\"}},\"legend\":{\"title\":{\"text\":\"Configuration\"}}},                        {\"responsive\": true}                    ).then(function(){\n                            \nvar gd = document.getElementById('02285cf3-0ad1-4b99-8d31-665b1e4979d4');\nvar x = new MutationObserver(function (mutations, observer) {{\n        var display = window.getComputedStyle(gd).display;\n        if (!display || display === 'none') {{\n            console.log([gd, 'removed!']);\n            Plotly.purge(gd);\n            observer.disconnect();\n        }}\n}});\n\n// Listen for the removal of the full notebook cells\nvar notebookContainer = gd.closest('#notebook-container');\nif (notebookContainer) {{\n    x.observe(notebookContainer, {childList: true});\n}}\n\n// Listen for the clearing of the current output cell\nvar outputEl = gd.closest('.output');\nif (outputEl) {{\n    x.observe(outputEl, {childList: true});\n}}\n\n                        })                };                });            </script>        </div>"
     },
     "metadata": {},
     "output_type": "display_data"
    }
   ],
   "source": [
    "import plotly.graph_objects as go\n",
    "\n",
    "fig = go.Figure()\n",
    "configs = figure_11_distserve_high[['tp_prefill', 'pp_prefill', 'tp_decode', 'pp_decode']].drop_duplicates()\n",
    "slo_vals = list(big_df['slo'].unique())\n",
    "\n",
    "df = figure_11_distserve_high\n",
    "for tp_prefill, pp_prefill, tp_decode, pp_decode in configs.values:\n",
    "    config_df = df[\n",
    "        (df['tp_prefill'] == tp_prefill) & (df['pp_prefill'] == pp_prefill) &\n",
    "        (df['tp_decode'] == tp_decode) & (df['pp_decode'] == pp_decode)\n",
    "        ]\n",
    "    config_df = config_df.sort_values(by=['slo'], ascending=False)\n",
    "    # plot this inside a plotly plot\n",
    "    fig.add_trace(go.Scatter(\n",
    "        x=config_df['slo'], y=config_df['attainment'],\n",
    "        mode='lines+markers', name=f\"p{tp_prefill}{pp_prefill}{tp_decode}{pp_decode}-distserve\"\n",
    "    ))\n",
    "\n",
    "configs = figure_11_vllm_high[['tp_prefill', 'pp_prefill']].drop_duplicates()\n",
    "slo_vals = list(big_df['slo'].unique())\n",
    "\n",
    "df = figure_11_vllm_high\n",
    "for tp_prefill, pp_prefill in configs.values:\n",
    "    config_df = df[\n",
    "        (df['tp_prefill'] == tp_prefill) & (df['pp_prefill'] == pp_prefill)\n",
    "        ]\n",
    "    config_df = config_df.sort_values(by=['slo'], ascending=False)\n",
    "    # plot this inside a plotly plot\n",
    "    fig.add_trace(go.Scatter(\n",
    "        x=config_df['slo'], y=config_df['attainment'],\n",
    "        mode='lines+markers', name=f\"p{tp_prefill}{pp_prefill}-vLLM\"\n",
    "    ))\n",
    "\n",
    "# fig add title\n",
    "fig.update_layout(\n",
    "    title=\"DistServe and vLLM\",\n",
    "    xaxis_title=\"Per-GPU Rate (tokens/s)\",\n",
    "    yaxis_title=\"Attainment (%)\",\n",
    "    legend_title=\"Configuration\"\n",
    ")\n",
    "fig.update_layout(\n",
    "    xaxis=dict(range=[max(slo_vals), min(slo_vals)]),\n",
    ")  # Set the range manually\n",
    "fig.write_html(\"visual/figure_11_distserve_vllm_high.slo.html\")\n",
    "if is_notebook_mode:\n",
    "    fig.show()\n",
    "# Export to html"
   ],
   "metadata": {
    "collapsed": false,
    "ExecuteTime": {
     "end_time": "2024-04-24T04:12:46.237940Z",
     "start_time": "2024-04-24T04:12:46.191213Z"
    }
   },
   "id": "8ce99128f937cd93",
   "execution_count": 40
  },
  {
   "cell_type": "code",
   "outputs": [],
   "source": [
    "def get_top_config(df):\n",
    "    strictest_slo = min(slos)\n",
    "    r = df[df['slo'] == strictest_slo].sort_values(\n",
    "        by=['goodput@90', 'attainment'],\n",
    "        ascending=False,\n",
    "    ).iloc[0][[\n",
    "        \"tp_prefill\",\n",
    "        \"pp_prefill\",\n",
    "        \"tp_decode\",\n",
    "        \"pp_decode\",\n",
    "    ]]\n",
    "    return r\n",
    "\n",
    "def add_plotly_trace(fig, df: 'DataFrame', trace: str):\n",
    "    tp_prefill, pp_prefill, tp_decode, pp_decode = get_top_config(df)\n",
    "    config_df = df[\n",
    "        (df['tp_prefill'] == tp_prefill) & (df['pp_prefill'] == pp_prefill) &\n",
    "        (df['tp_decode'] == tp_decode) & (df['pp_decode'] == pp_decode)\n",
    "        ]\n",
    "    config_df = config_df.sort_values(by=['slo'], ascending=False)\n",
    "    if 'vllm' in trace:\n",
    "        name = f\"{trace}-p{tp_prefill}{pp_prefill}\"\n",
    "        pass\n",
    "    else:\n",
    "        name = f\"{trace}-p{tp_prefill}{pp_prefill}{tp_decode}{pp_decode}\"\n",
    "        pass\n",
    "\n",
    "    fig.add_trace(go.Scatter(\n",
    "        x=config_df['slo'], y=config_df['attainment'],\n",
    "        mode='lines+markers', name=name,\n",
    "    ))\n",
    "    return"
   ],
   "metadata": {
    "collapsed": false,
    "ExecuteTime": {
     "end_time": "2024-04-24T04:12:46.250695Z",
     "start_time": "2024-04-24T04:12:46.244032Z"
    }
   },
   "id": "6ad2d887f80c96e3",
   "execution_count": 41
  },
  {
   "cell_type": "code",
   "outputs": [
    {
     "data": {
      "application/vnd.plotly.v1+json": {
       "data": [
        {
         "mode": "lines+markers",
         "name": "disthigh-p4112",
         "x": [
          1.2,
          1.0,
          0.8,
          0.6,
          0.4
         ],
         "y": [
          90.04166666666666,
          84.0,
          73.83333333333333,
          21.083333333333336,
          5.416666666666667
         ],
         "type": "scatter"
        },
        {
         "mode": "lines+markers",
         "name": "distlow-p4112",
         "x": [
          1.2,
          1.0,
          0.8,
          0.6,
          0.4
         ],
         "y": [
          90.04166666666666,
          84.0,
          73.83333333333333,
          21.083333333333336,
          5.416666666666667
         ],
         "type": "scatter"
        },
        {
         "mode": "lines+markers",
         "name": "vllm++-p11",
         "x": [
          1.2,
          1.0,
          0.8,
          0.6,
          0.4
         ],
         "y": [
          71.5,
          51.74999999999999,
          23.25,
          8.0,
          2.0
         ],
         "type": "scatter"
        },
        {
         "mode": "lines+markers",
         "name": "vllm-p11",
         "x": [
          1.2,
          1.0,
          0.8,
          0.6,
          0.4
         ],
         "y": [
          71.5,
          51.74999999999999,
          23.25,
          8.0,
          2.0
         ],
         "type": "scatter"
        }
       ],
       "layout": {
        "template": {
         "data": {
          "histogram2dcontour": [
           {
            "type": "histogram2dcontour",
            "colorbar": {
             "outlinewidth": 0,
             "ticks": ""
            },
            "colorscale": [
             [
              0.0,
              "#0d0887"
             ],
             [
              0.1111111111111111,
              "#46039f"
             ],
             [
              0.2222222222222222,
              "#7201a8"
             ],
             [
              0.3333333333333333,
              "#9c179e"
             ],
             [
              0.4444444444444444,
              "#bd3786"
             ],
             [
              0.5555555555555556,
              "#d8576b"
             ],
             [
              0.6666666666666666,
              "#ed7953"
             ],
             [
              0.7777777777777778,
              "#fb9f3a"
             ],
             [
              0.8888888888888888,
              "#fdca26"
             ],
             [
              1.0,
              "#f0f921"
             ]
            ]
           }
          ],
          "choropleth": [
           {
            "type": "choropleth",
            "colorbar": {
             "outlinewidth": 0,
             "ticks": ""
            }
           }
          ],
          "histogram2d": [
           {
            "type": "histogram2d",
            "colorbar": {
             "outlinewidth": 0,
             "ticks": ""
            },
            "colorscale": [
             [
              0.0,
              "#0d0887"
             ],
             [
              0.1111111111111111,
              "#46039f"
             ],
             [
              0.2222222222222222,
              "#7201a8"
             ],
             [
              0.3333333333333333,
              "#9c179e"
             ],
             [
              0.4444444444444444,
              "#bd3786"
             ],
             [
              0.5555555555555556,
              "#d8576b"
             ],
             [
              0.6666666666666666,
              "#ed7953"
             ],
             [
              0.7777777777777778,
              "#fb9f3a"
             ],
             [
              0.8888888888888888,
              "#fdca26"
             ],
             [
              1.0,
              "#f0f921"
             ]
            ]
           }
          ],
          "heatmap": [
           {
            "type": "heatmap",
            "colorbar": {
             "outlinewidth": 0,
             "ticks": ""
            },
            "colorscale": [
             [
              0.0,
              "#0d0887"
             ],
             [
              0.1111111111111111,
              "#46039f"
             ],
             [
              0.2222222222222222,
              "#7201a8"
             ],
             [
              0.3333333333333333,
              "#9c179e"
             ],
             [
              0.4444444444444444,
              "#bd3786"
             ],
             [
              0.5555555555555556,
              "#d8576b"
             ],
             [
              0.6666666666666666,
              "#ed7953"
             ],
             [
              0.7777777777777778,
              "#fb9f3a"
             ],
             [
              0.8888888888888888,
              "#fdca26"
             ],
             [
              1.0,
              "#f0f921"
             ]
            ]
           }
          ],
          "heatmapgl": [
           {
            "type": "heatmapgl",
            "colorbar": {
             "outlinewidth": 0,
             "ticks": ""
            },
            "colorscale": [
             [
              0.0,
              "#0d0887"
             ],
             [
              0.1111111111111111,
              "#46039f"
             ],
             [
              0.2222222222222222,
              "#7201a8"
             ],
             [
              0.3333333333333333,
              "#9c179e"
             ],
             [
              0.4444444444444444,
              "#bd3786"
             ],
             [
              0.5555555555555556,
              "#d8576b"
             ],
             [
              0.6666666666666666,
              "#ed7953"
             ],
             [
              0.7777777777777778,
              "#fb9f3a"
             ],
             [
              0.8888888888888888,
              "#fdca26"
             ],
             [
              1.0,
              "#f0f921"
             ]
            ]
           }
          ],
          "contourcarpet": [
           {
            "type": "contourcarpet",
            "colorbar": {
             "outlinewidth": 0,
             "ticks": ""
            }
           }
          ],
          "contour": [
           {
            "type": "contour",
            "colorbar": {
             "outlinewidth": 0,
             "ticks": ""
            },
            "colorscale": [
             [
              0.0,
              "#0d0887"
             ],
             [
              0.1111111111111111,
              "#46039f"
             ],
             [
              0.2222222222222222,
              "#7201a8"
             ],
             [
              0.3333333333333333,
              "#9c179e"
             ],
             [
              0.4444444444444444,
              "#bd3786"
             ],
             [
              0.5555555555555556,
              "#d8576b"
             ],
             [
              0.6666666666666666,
              "#ed7953"
             ],
             [
              0.7777777777777778,
              "#fb9f3a"
             ],
             [
              0.8888888888888888,
              "#fdca26"
             ],
             [
              1.0,
              "#f0f921"
             ]
            ]
           }
          ],
          "surface": [
           {
            "type": "surface",
            "colorbar": {
             "outlinewidth": 0,
             "ticks": ""
            },
            "colorscale": [
             [
              0.0,
              "#0d0887"
             ],
             [
              0.1111111111111111,
              "#46039f"
             ],
             [
              0.2222222222222222,
              "#7201a8"
             ],
             [
              0.3333333333333333,
              "#9c179e"
             ],
             [
              0.4444444444444444,
              "#bd3786"
             ],
             [
              0.5555555555555556,
              "#d8576b"
             ],
             [
              0.6666666666666666,
              "#ed7953"
             ],
             [
              0.7777777777777778,
              "#fb9f3a"
             ],
             [
              0.8888888888888888,
              "#fdca26"
             ],
             [
              1.0,
              "#f0f921"
             ]
            ]
           }
          ],
          "mesh3d": [
           {
            "type": "mesh3d",
            "colorbar": {
             "outlinewidth": 0,
             "ticks": ""
            }
           }
          ],
          "scatter": [
           {
            "marker": {
             "line": {
              "color": "#283442"
             }
            },
            "type": "scatter"
           }
          ],
          "parcoords": [
           {
            "type": "parcoords",
            "line": {
             "colorbar": {
              "outlinewidth": 0,
              "ticks": ""
             }
            }
           }
          ],
          "scatterpolargl": [
           {
            "type": "scatterpolargl",
            "marker": {
             "colorbar": {
              "outlinewidth": 0,
              "ticks": ""
             }
            }
           }
          ],
          "bar": [
           {
            "error_x": {
             "color": "#f2f5fa"
            },
            "error_y": {
             "color": "#f2f5fa"
            },
            "marker": {
             "line": {
              "color": "rgb(17,17,17)",
              "width": 0.5
             },
             "pattern": {
              "fillmode": "overlay",
              "size": 10,
              "solidity": 0.2
             }
            },
            "type": "bar"
           }
          ],
          "scattergeo": [
           {
            "type": "scattergeo",
            "marker": {
             "colorbar": {
              "outlinewidth": 0,
              "ticks": ""
             }
            }
           }
          ],
          "scatterpolar": [
           {
            "type": "scatterpolar",
            "marker": {
             "colorbar": {
              "outlinewidth": 0,
              "ticks": ""
             }
            }
           }
          ],
          "histogram": [
           {
            "marker": {
             "pattern": {
              "fillmode": "overlay",
              "size": 10,
              "solidity": 0.2
             }
            },
            "type": "histogram"
           }
          ],
          "scattergl": [
           {
            "marker": {
             "line": {
              "color": "#283442"
             }
            },
            "type": "scattergl"
           }
          ],
          "scatter3d": [
           {
            "type": "scatter3d",
            "line": {
             "colorbar": {
              "outlinewidth": 0,
              "ticks": ""
             }
            },
            "marker": {
             "colorbar": {
              "outlinewidth": 0,
              "ticks": ""
             }
            }
           }
          ],
          "scattermapbox": [
           {
            "type": "scattermapbox",
            "marker": {
             "colorbar": {
              "outlinewidth": 0,
              "ticks": ""
             }
            }
           }
          ],
          "scatterternary": [
           {
            "type": "scatterternary",
            "marker": {
             "colorbar": {
              "outlinewidth": 0,
              "ticks": ""
             }
            }
           }
          ],
          "scattercarpet": [
           {
            "type": "scattercarpet",
            "marker": {
             "colorbar": {
              "outlinewidth": 0,
              "ticks": ""
             }
            }
           }
          ],
          "carpet": [
           {
            "aaxis": {
             "endlinecolor": "#A2B1C6",
             "gridcolor": "#506784",
             "linecolor": "#506784",
             "minorgridcolor": "#506784",
             "startlinecolor": "#A2B1C6"
            },
            "baxis": {
             "endlinecolor": "#A2B1C6",
             "gridcolor": "#506784",
             "linecolor": "#506784",
             "minorgridcolor": "#506784",
             "startlinecolor": "#A2B1C6"
            },
            "type": "carpet"
           }
          ],
          "table": [
           {
            "cells": {
             "fill": {
              "color": "#506784"
             },
             "line": {
              "color": "rgb(17,17,17)"
             }
            },
            "header": {
             "fill": {
              "color": "#2a3f5f"
             },
             "line": {
              "color": "rgb(17,17,17)"
             }
            },
            "type": "table"
           }
          ],
          "barpolar": [
           {
            "marker": {
             "line": {
              "color": "rgb(17,17,17)",
              "width": 0.5
             },
             "pattern": {
              "fillmode": "overlay",
              "size": 10,
              "solidity": 0.2
             }
            },
            "type": "barpolar"
           }
          ],
          "pie": [
           {
            "automargin": true,
            "type": "pie"
           }
          ]
         },
         "layout": {
          "autotypenumbers": "strict",
          "colorway": [
           "#636efa",
           "#EF553B",
           "#00cc96",
           "#ab63fa",
           "#FFA15A",
           "#19d3f3",
           "#FF6692",
           "#B6E880",
           "#FF97FF",
           "#FECB52"
          ],
          "font": {
           "color": "#f2f5fa"
          },
          "hovermode": "closest",
          "hoverlabel": {
           "align": "left"
          },
          "paper_bgcolor": "rgb(17,17,17)",
          "plot_bgcolor": "rgb(17,17,17)",
          "polar": {
           "bgcolor": "rgb(17,17,17)",
           "angularaxis": {
            "gridcolor": "#506784",
            "linecolor": "#506784",
            "ticks": ""
           },
           "radialaxis": {
            "gridcolor": "#506784",
            "linecolor": "#506784",
            "ticks": ""
           }
          },
          "ternary": {
           "bgcolor": "rgb(17,17,17)",
           "aaxis": {
            "gridcolor": "#506784",
            "linecolor": "#506784",
            "ticks": ""
           },
           "baxis": {
            "gridcolor": "#506784",
            "linecolor": "#506784",
            "ticks": ""
           },
           "caxis": {
            "gridcolor": "#506784",
            "linecolor": "#506784",
            "ticks": ""
           }
          },
          "coloraxis": {
           "colorbar": {
            "outlinewidth": 0,
            "ticks": ""
           }
          },
          "colorscale": {
           "sequential": [
            [
             0.0,
             "#0d0887"
            ],
            [
             0.1111111111111111,
             "#46039f"
            ],
            [
             0.2222222222222222,
             "#7201a8"
            ],
            [
             0.3333333333333333,
             "#9c179e"
            ],
            [
             0.4444444444444444,
             "#bd3786"
            ],
            [
             0.5555555555555556,
             "#d8576b"
            ],
            [
             0.6666666666666666,
             "#ed7953"
            ],
            [
             0.7777777777777778,
             "#fb9f3a"
            ],
            [
             0.8888888888888888,
             "#fdca26"
            ],
            [
             1.0,
             "#f0f921"
            ]
           ],
           "sequentialminus": [
            [
             0.0,
             "#0d0887"
            ],
            [
             0.1111111111111111,
             "#46039f"
            ],
            [
             0.2222222222222222,
             "#7201a8"
            ],
            [
             0.3333333333333333,
             "#9c179e"
            ],
            [
             0.4444444444444444,
             "#bd3786"
            ],
            [
             0.5555555555555556,
             "#d8576b"
            ],
            [
             0.6666666666666666,
             "#ed7953"
            ],
            [
             0.7777777777777778,
             "#fb9f3a"
            ],
            [
             0.8888888888888888,
             "#fdca26"
            ],
            [
             1.0,
             "#f0f921"
            ]
           ],
           "diverging": [
            [
             0,
             "#8e0152"
            ],
            [
             0.1,
             "#c51b7d"
            ],
            [
             0.2,
             "#de77ae"
            ],
            [
             0.3,
             "#f1b6da"
            ],
            [
             0.4,
             "#fde0ef"
            ],
            [
             0.5,
             "#f7f7f7"
            ],
            [
             0.6,
             "#e6f5d0"
            ],
            [
             0.7,
             "#b8e186"
            ],
            [
             0.8,
             "#7fbc41"
            ],
            [
             0.9,
             "#4d9221"
            ],
            [
             1,
             "#276419"
            ]
           ]
          },
          "xaxis": {
           "gridcolor": "#283442",
           "linecolor": "#506784",
           "ticks": "",
           "title": {
            "standoff": 15
           },
           "zerolinecolor": "#283442",
           "automargin": true,
           "zerolinewidth": 2
          },
          "yaxis": {
           "gridcolor": "#283442",
           "linecolor": "#506784",
           "ticks": "",
           "title": {
            "standoff": 15
           },
           "zerolinecolor": "#283442",
           "automargin": true,
           "zerolinewidth": 2
          },
          "scene": {
           "xaxis": {
            "backgroundcolor": "rgb(17,17,17)",
            "gridcolor": "#506784",
            "linecolor": "#506784",
            "showbackground": true,
            "ticks": "",
            "zerolinecolor": "#C8D4E3",
            "gridwidth": 2
           },
           "yaxis": {
            "backgroundcolor": "rgb(17,17,17)",
            "gridcolor": "#506784",
            "linecolor": "#506784",
            "showbackground": true,
            "ticks": "",
            "zerolinecolor": "#C8D4E3",
            "gridwidth": 2
           },
           "zaxis": {
            "backgroundcolor": "rgb(17,17,17)",
            "gridcolor": "#506784",
            "linecolor": "#506784",
            "showbackground": true,
            "ticks": "",
            "zerolinecolor": "#C8D4E3",
            "gridwidth": 2
           }
          },
          "shapedefaults": {
           "line": {
            "color": "#f2f5fa"
           }
          },
          "annotationdefaults": {
           "arrowcolor": "#f2f5fa",
           "arrowhead": 0,
           "arrowwidth": 1
          },
          "geo": {
           "bgcolor": "rgb(17,17,17)",
           "landcolor": "rgb(17,17,17)",
           "subunitcolor": "#506784",
           "showland": true,
           "showlakes": true,
           "lakecolor": "rgb(17,17,17)"
          },
          "title": {
           "x": 0.05
          },
          "updatemenudefaults": {
           "bgcolor": "#506784",
           "borderwidth": 0
          },
          "sliderdefaults": {
           "bgcolor": "#C8D4E3",
           "borderwidth": 1,
           "bordercolor": "rgb(17,17,17)",
           "tickwidth": 0
          },
          "mapbox": {
           "style": "dark"
          }
         }
        },
        "xaxis": {
         "title": {
          "text": "Per-GPU Rate (tokens/s)"
         },
         "range": [
          1.2,
          0.4
         ]
        },
        "title": {
         "text": "Figure 11: Abalation Study - SLO with per-GPU rate = 4<br><sup>The figure shows that DistHigh > DistLow > vLLM++ > vLLM (vLLM++ and vLLM overlaps) </sup>"
        },
        "yaxis": {
         "title": {
          "text": "Attainment (%)"
         }
        },
        "legend": {
         "title": {
          "text": "Configuration"
         }
        }
       },
       "config": {
        "plotlyServerURL": "https://plot.ly"
       }
      },
      "text/html": "<div>                            <div id=\"50f22e0f-eab9-4257-b80c-934ffcdb09ba\" class=\"plotly-graph-div\" style=\"height:525px; width:100%;\"></div>            <script type=\"text/javascript\">                require([\"plotly\"], function(Plotly) {                    window.PLOTLYENV=window.PLOTLYENV || {};                                    if (document.getElementById(\"50f22e0f-eab9-4257-b80c-934ffcdb09ba\")) {                    Plotly.newPlot(                        \"50f22e0f-eab9-4257-b80c-934ffcdb09ba\",                        [{\"mode\":\"lines+markers\",\"name\":\"disthigh-p4112\",\"x\":[1.2,1.0,0.8,0.6,0.4],\"y\":[90.04166666666666,84.0,73.83333333333333,21.083333333333336,5.416666666666667],\"type\":\"scatter\"},{\"mode\":\"lines+markers\",\"name\":\"distlow-p4112\",\"x\":[1.2,1.0,0.8,0.6,0.4],\"y\":[90.04166666666666,84.0,73.83333333333333,21.083333333333336,5.416666666666667],\"type\":\"scatter\"},{\"mode\":\"lines+markers\",\"name\":\"vllm++-p11\",\"x\":[1.2,1.0,0.8,0.6,0.4],\"y\":[71.5,51.74999999999999,23.25,8.0,2.0],\"type\":\"scatter\"},{\"mode\":\"lines+markers\",\"name\":\"vllm-p11\",\"x\":[1.2,1.0,0.8,0.6,0.4],\"y\":[71.5,51.74999999999999,23.25,8.0,2.0],\"type\":\"scatter\"}],                        {\"template\":{\"data\":{\"histogram2dcontour\":[{\"type\":\"histogram2dcontour\",\"colorbar\":{\"outlinewidth\":0,\"ticks\":\"\"},\"colorscale\":[[0.0,\"#0d0887\"],[0.1111111111111111,\"#46039f\"],[0.2222222222222222,\"#7201a8\"],[0.3333333333333333,\"#9c179e\"],[0.4444444444444444,\"#bd3786\"],[0.5555555555555556,\"#d8576b\"],[0.6666666666666666,\"#ed7953\"],[0.7777777777777778,\"#fb9f3a\"],[0.8888888888888888,\"#fdca26\"],[1.0,\"#f0f921\"]]}],\"choropleth\":[{\"type\":\"choropleth\",\"colorbar\":{\"outlinewidth\":0,\"ticks\":\"\"}}],\"histogram2d\":[{\"type\":\"histogram2d\",\"colorbar\":{\"outlinewidth\":0,\"ticks\":\"\"},\"colorscale\":[[0.0,\"#0d0887\"],[0.1111111111111111,\"#46039f\"],[0.2222222222222222,\"#7201a8\"],[0.3333333333333333,\"#9c179e\"],[0.4444444444444444,\"#bd3786\"],[0.5555555555555556,\"#d8576b\"],[0.6666666666666666,\"#ed7953\"],[0.7777777777777778,\"#fb9f3a\"],[0.8888888888888888,\"#fdca26\"],[1.0,\"#f0f921\"]]}],\"heatmap\":[{\"type\":\"heatmap\",\"colorbar\":{\"outlinewidth\":0,\"ticks\":\"\"},\"colorscale\":[[0.0,\"#0d0887\"],[0.1111111111111111,\"#46039f\"],[0.2222222222222222,\"#7201a8\"],[0.3333333333333333,\"#9c179e\"],[0.4444444444444444,\"#bd3786\"],[0.5555555555555556,\"#d8576b\"],[0.6666666666666666,\"#ed7953\"],[0.7777777777777778,\"#fb9f3a\"],[0.8888888888888888,\"#fdca26\"],[1.0,\"#f0f921\"]]}],\"heatmapgl\":[{\"type\":\"heatmapgl\",\"colorbar\":{\"outlinewidth\":0,\"ticks\":\"\"},\"colorscale\":[[0.0,\"#0d0887\"],[0.1111111111111111,\"#46039f\"],[0.2222222222222222,\"#7201a8\"],[0.3333333333333333,\"#9c179e\"],[0.4444444444444444,\"#bd3786\"],[0.5555555555555556,\"#d8576b\"],[0.6666666666666666,\"#ed7953\"],[0.7777777777777778,\"#fb9f3a\"],[0.8888888888888888,\"#fdca26\"],[1.0,\"#f0f921\"]]}],\"contourcarpet\":[{\"type\":\"contourcarpet\",\"colorbar\":{\"outlinewidth\":0,\"ticks\":\"\"}}],\"contour\":[{\"type\":\"contour\",\"colorbar\":{\"outlinewidth\":0,\"ticks\":\"\"},\"colorscale\":[[0.0,\"#0d0887\"],[0.1111111111111111,\"#46039f\"],[0.2222222222222222,\"#7201a8\"],[0.3333333333333333,\"#9c179e\"],[0.4444444444444444,\"#bd3786\"],[0.5555555555555556,\"#d8576b\"],[0.6666666666666666,\"#ed7953\"],[0.7777777777777778,\"#fb9f3a\"],[0.8888888888888888,\"#fdca26\"],[1.0,\"#f0f921\"]]}],\"surface\":[{\"type\":\"surface\",\"colorbar\":{\"outlinewidth\":0,\"ticks\":\"\"},\"colorscale\":[[0.0,\"#0d0887\"],[0.1111111111111111,\"#46039f\"],[0.2222222222222222,\"#7201a8\"],[0.3333333333333333,\"#9c179e\"],[0.4444444444444444,\"#bd3786\"],[0.5555555555555556,\"#d8576b\"],[0.6666666666666666,\"#ed7953\"],[0.7777777777777778,\"#fb9f3a\"],[0.8888888888888888,\"#fdca26\"],[1.0,\"#f0f921\"]]}],\"mesh3d\":[{\"type\":\"mesh3d\",\"colorbar\":{\"outlinewidth\":0,\"ticks\":\"\"}}],\"scatter\":[{\"marker\":{\"line\":{\"color\":\"#283442\"}},\"type\":\"scatter\"}],\"parcoords\":[{\"type\":\"parcoords\",\"line\":{\"colorbar\":{\"outlinewidth\":0,\"ticks\":\"\"}}}],\"scatterpolargl\":[{\"type\":\"scatterpolargl\",\"marker\":{\"colorbar\":{\"outlinewidth\":0,\"ticks\":\"\"}}}],\"bar\":[{\"error_x\":{\"color\":\"#f2f5fa\"},\"error_y\":{\"color\":\"#f2f5fa\"},\"marker\":{\"line\":{\"color\":\"rgb(17,17,17)\",\"width\":0.5},\"pattern\":{\"fillmode\":\"overlay\",\"size\":10,\"solidity\":0.2}},\"type\":\"bar\"}],\"scattergeo\":[{\"type\":\"scattergeo\",\"marker\":{\"colorbar\":{\"outlinewidth\":0,\"ticks\":\"\"}}}],\"scatterpolar\":[{\"type\":\"scatterpolar\",\"marker\":{\"colorbar\":{\"outlinewidth\":0,\"ticks\":\"\"}}}],\"histogram\":[{\"marker\":{\"pattern\":{\"fillmode\":\"overlay\",\"size\":10,\"solidity\":0.2}},\"type\":\"histogram\"}],\"scattergl\":[{\"marker\":{\"line\":{\"color\":\"#283442\"}},\"type\":\"scattergl\"}],\"scatter3d\":[{\"type\":\"scatter3d\",\"line\":{\"colorbar\":{\"outlinewidth\":0,\"ticks\":\"\"}},\"marker\":{\"colorbar\":{\"outlinewidth\":0,\"ticks\":\"\"}}}],\"scattermapbox\":[{\"type\":\"scattermapbox\",\"marker\":{\"colorbar\":{\"outlinewidth\":0,\"ticks\":\"\"}}}],\"scatterternary\":[{\"type\":\"scatterternary\",\"marker\":{\"colorbar\":{\"outlinewidth\":0,\"ticks\":\"\"}}}],\"scattercarpet\":[{\"type\":\"scattercarpet\",\"marker\":{\"colorbar\":{\"outlinewidth\":0,\"ticks\":\"\"}}}],\"carpet\":[{\"aaxis\":{\"endlinecolor\":\"#A2B1C6\",\"gridcolor\":\"#506784\",\"linecolor\":\"#506784\",\"minorgridcolor\":\"#506784\",\"startlinecolor\":\"#A2B1C6\"},\"baxis\":{\"endlinecolor\":\"#A2B1C6\",\"gridcolor\":\"#506784\",\"linecolor\":\"#506784\",\"minorgridcolor\":\"#506784\",\"startlinecolor\":\"#A2B1C6\"},\"type\":\"carpet\"}],\"table\":[{\"cells\":{\"fill\":{\"color\":\"#506784\"},\"line\":{\"color\":\"rgb(17,17,17)\"}},\"header\":{\"fill\":{\"color\":\"#2a3f5f\"},\"line\":{\"color\":\"rgb(17,17,17)\"}},\"type\":\"table\"}],\"barpolar\":[{\"marker\":{\"line\":{\"color\":\"rgb(17,17,17)\",\"width\":0.5},\"pattern\":{\"fillmode\":\"overlay\",\"size\":10,\"solidity\":0.2}},\"type\":\"barpolar\"}],\"pie\":[{\"automargin\":true,\"type\":\"pie\"}]},\"layout\":{\"autotypenumbers\":\"strict\",\"colorway\":[\"#636efa\",\"#EF553B\",\"#00cc96\",\"#ab63fa\",\"#FFA15A\",\"#19d3f3\",\"#FF6692\",\"#B6E880\",\"#FF97FF\",\"#FECB52\"],\"font\":{\"color\":\"#f2f5fa\"},\"hovermode\":\"closest\",\"hoverlabel\":{\"align\":\"left\"},\"paper_bgcolor\":\"rgb(17,17,17)\",\"plot_bgcolor\":\"rgb(17,17,17)\",\"polar\":{\"bgcolor\":\"rgb(17,17,17)\",\"angularaxis\":{\"gridcolor\":\"#506784\",\"linecolor\":\"#506784\",\"ticks\":\"\"},\"radialaxis\":{\"gridcolor\":\"#506784\",\"linecolor\":\"#506784\",\"ticks\":\"\"}},\"ternary\":{\"bgcolor\":\"rgb(17,17,17)\",\"aaxis\":{\"gridcolor\":\"#506784\",\"linecolor\":\"#506784\",\"ticks\":\"\"},\"baxis\":{\"gridcolor\":\"#506784\",\"linecolor\":\"#506784\",\"ticks\":\"\"},\"caxis\":{\"gridcolor\":\"#506784\",\"linecolor\":\"#506784\",\"ticks\":\"\"}},\"coloraxis\":{\"colorbar\":{\"outlinewidth\":0,\"ticks\":\"\"}},\"colorscale\":{\"sequential\":[[0.0,\"#0d0887\"],[0.1111111111111111,\"#46039f\"],[0.2222222222222222,\"#7201a8\"],[0.3333333333333333,\"#9c179e\"],[0.4444444444444444,\"#bd3786\"],[0.5555555555555556,\"#d8576b\"],[0.6666666666666666,\"#ed7953\"],[0.7777777777777778,\"#fb9f3a\"],[0.8888888888888888,\"#fdca26\"],[1.0,\"#f0f921\"]],\"sequentialminus\":[[0.0,\"#0d0887\"],[0.1111111111111111,\"#46039f\"],[0.2222222222222222,\"#7201a8\"],[0.3333333333333333,\"#9c179e\"],[0.4444444444444444,\"#bd3786\"],[0.5555555555555556,\"#d8576b\"],[0.6666666666666666,\"#ed7953\"],[0.7777777777777778,\"#fb9f3a\"],[0.8888888888888888,\"#fdca26\"],[1.0,\"#f0f921\"]],\"diverging\":[[0,\"#8e0152\"],[0.1,\"#c51b7d\"],[0.2,\"#de77ae\"],[0.3,\"#f1b6da\"],[0.4,\"#fde0ef\"],[0.5,\"#f7f7f7\"],[0.6,\"#e6f5d0\"],[0.7,\"#b8e186\"],[0.8,\"#7fbc41\"],[0.9,\"#4d9221\"],[1,\"#276419\"]]},\"xaxis\":{\"gridcolor\":\"#283442\",\"linecolor\":\"#506784\",\"ticks\":\"\",\"title\":{\"standoff\":15},\"zerolinecolor\":\"#283442\",\"automargin\":true,\"zerolinewidth\":2},\"yaxis\":{\"gridcolor\":\"#283442\",\"linecolor\":\"#506784\",\"ticks\":\"\",\"title\":{\"standoff\":15},\"zerolinecolor\":\"#283442\",\"automargin\":true,\"zerolinewidth\":2},\"scene\":{\"xaxis\":{\"backgroundcolor\":\"rgb(17,17,17)\",\"gridcolor\":\"#506784\",\"linecolor\":\"#506784\",\"showbackground\":true,\"ticks\":\"\",\"zerolinecolor\":\"#C8D4E3\",\"gridwidth\":2},\"yaxis\":{\"backgroundcolor\":\"rgb(17,17,17)\",\"gridcolor\":\"#506784\",\"linecolor\":\"#506784\",\"showbackground\":true,\"ticks\":\"\",\"zerolinecolor\":\"#C8D4E3\",\"gridwidth\":2},\"zaxis\":{\"backgroundcolor\":\"rgb(17,17,17)\",\"gridcolor\":\"#506784\",\"linecolor\":\"#506784\",\"showbackground\":true,\"ticks\":\"\",\"zerolinecolor\":\"#C8D4E3\",\"gridwidth\":2}},\"shapedefaults\":{\"line\":{\"color\":\"#f2f5fa\"}},\"annotationdefaults\":{\"arrowcolor\":\"#f2f5fa\",\"arrowhead\":0,\"arrowwidth\":1},\"geo\":{\"bgcolor\":\"rgb(17,17,17)\",\"landcolor\":\"rgb(17,17,17)\",\"subunitcolor\":\"#506784\",\"showland\":true,\"showlakes\":true,\"lakecolor\":\"rgb(17,17,17)\"},\"title\":{\"x\":0.05},\"updatemenudefaults\":{\"bgcolor\":\"#506784\",\"borderwidth\":0},\"sliderdefaults\":{\"bgcolor\":\"#C8D4E3\",\"borderwidth\":1,\"bordercolor\":\"rgb(17,17,17)\",\"tickwidth\":0},\"mapbox\":{\"style\":\"dark\"}}},\"xaxis\":{\"title\":{\"text\":\"Per-GPU Rate (tokens\\u002fs)\"},\"range\":[1.2,0.4]},\"title\":{\"text\":\"Figure 11: Abalation Study - SLO with per-GPU rate = 4\\u003cbr\\u003e\\u003csup\\u003eThe figure shows that DistHigh \\u003e DistLow \\u003e vLLM++ \\u003e vLLM (vLLM++ and vLLM overlaps) \\u003c\\u002fsup\\u003e\"},\"yaxis\":{\"title\":{\"text\":\"Attainment (%)\"}},\"legend\":{\"title\":{\"text\":\"Configuration\"}}},                        {\"responsive\": true}                    ).then(function(){\n                            \nvar gd = document.getElementById('50f22e0f-eab9-4257-b80c-934ffcdb09ba');\nvar x = new MutationObserver(function (mutations, observer) {{\n        var display = window.getComputedStyle(gd).display;\n        if (!display || display === 'none') {{\n            console.log([gd, 'removed!']);\n            Plotly.purge(gd);\n            observer.disconnect();\n        }}\n}});\n\n// Listen for the removal of the full notebook cells\nvar notebookContainer = gd.closest('#notebook-container');\nif (notebookContainer) {{\n    x.observe(notebookContainer, {childList: true});\n}}\n\n// Listen for the clearing of the current output cell\nvar outputEl = gd.closest('.output');\nif (outputEl) {{\n    x.observe(outputEl, {childList: true});\n}}\n\n                        })                };                });            </script>        </div>"
     },
     "metadata": {},
     "output_type": "display_data"
    }
   ],
   "source": [
    "import plotly.graph_objects as go\n",
    "\n",
    "fig = go.Figure()\n",
    "add_plotly_trace(fig, figure_11_distserve_high, \"disthigh\")\n",
    "add_plotly_trace(fig, figure_11_distserve_low, \"distlow\")\n",
    "add_plotly_trace(fig, figure_11_vllm_high, \"vllm++\")\n",
    "add_plotly_trace(fig, figure_11_vllm_low, \"vllm\")\n",
    "fig.update_layout(\n",
    "    title=f\"Figure 11: Abalation Study - SLO with per-GPU rate = {chosen_per_gpu_rate}\"\n",
    "          f\"<br>\"\n",
    "          f\"<sup>\"\n",
    "          f\"The figure shows that DistHigh > DistLow > vLLM++ > vLLM (vLLM++ and vLLM overlaps) </sup>\",\n",
    "    xaxis_title=\"Per-GPU Rate (tokens/s)\",\n",
    "    yaxis_title=\"Attainment (%)\",\n",
    "    xaxis=dict(range=[max(slo_vals), min(slo_vals)]),\n",
    "    legend_title=\"Configuration\"\n",
    ")\n",
    "fig.write_html(\"visual/figure_11b.html\")\n",
    "if is_notebook_mode:\n",
    "    fig.show()"
   ],
   "metadata": {
    "collapsed": false,
    "ExecuteTime": {
     "end_time": "2024-04-24T04:12:46.293776Z",
     "start_time": "2024-04-24T04:12:46.255793Z"
    }
   },
   "id": "2204f11fe4992ef4",
   "execution_count": 42
  },
  {
   "cell_type": "code",
   "outputs": [],
   "source": [
    "\n",
    "def add_matplotlib_trace(fig, df: 'DataFrame', trace: str):\n",
    "    tp_prefill, pp_prefill, tp_decode, pp_decode = get_top_config(df)\n",
    "    config_df = df[\n",
    "        (df['tp_prefill'] == tp_prefill) & (df['pp_prefill'] == pp_prefill) &\n",
    "        (df['tp_decode'] == tp_decode) & (df['pp_decode'] == pp_decode)\n",
    "        ]\n",
    "    config_df = config_df.sort_values(by=['slo'], ascending=False)\n",
    "    if 'vllm' in trace:\n",
    "        name = f\"{trace}-p{tp_prefill}{pp_prefill}\"\n",
    "        pass\n",
    "    else:\n",
    "        name = f\"{trace}-p{tp_prefill}{pp_prefill}{tp_decode}{pp_decode}\"\n",
    "        pass\n",
    "\n",
    "    fig.plot(\n",
    "        config_df['slo'], \n",
    "        config_df['attainment'],\n",
    "        label=name,\n",
    "        marker='o',\n",
    "    )\n",
    "    return config_df['attainment'].tolist()"
   ],
   "metadata": {
    "collapsed": false,
    "ExecuteTime": {
     "end_time": "2024-04-24T04:12:46.301853Z",
     "start_time": "2024-04-24T04:12:46.297913Z"
    }
   },
   "id": "1a657fa69fd55453",
   "execution_count": 43
  },
  {
   "cell_type": "code",
   "outputs": [
    {
     "data": {
      "text/plain": "<Figure size 640x480 with 1 Axes>",
      "image/png": "[encoded data removed]"
     },
     "metadata": {},
     "output_type": "display_data"
    }
   ],
   "source": [
    "import matplotlib.pyplot as plt\n",
    "\n",
    "# Plot a line chart with 4 curves\n",
    "# x-axis: per_gpu_rate\n",
    "# y-axis: attainment\n",
    "\n",
    "fig, ax = plt.subplots()\n",
    "a = add_matplotlib_trace(ax, figure_11_distserve_high, \"disthigh\")\n",
    "b = add_matplotlib_trace(ax, figure_11_distserve_low, \"distlow\")\n",
    "c = add_matplotlib_trace(ax, figure_11_vllm_high, \"vllm++\")\n",
    "d = add_matplotlib_trace(ax, figure_11_vllm_low, \"vllm\")\n",
    "plt.title(\"Figure 11: Abalation Study (DistServe and vLLM)\")\n",
    "plt.xlabel(\"Per-GPU Rate (req/s)\")\n",
    "plt.ylabel(\"SLO Attainment (%)\")\n",
    "plt.xticks(slos)\n",
    "plt.gca().invert_xaxis()\n",
    "plt.legend()\n",
    "\n",
    "# save the plot \n",
    "fig.savefig(\"figure/figure_11b.png\")\n",
    "\n",
    "if is_notebook_mode:\n",
    "    plt.show()"
   ],
   "metadata": {
    "collapsed": false,
    "ExecuteTime": {
     "end_time": "2024-04-24T04:12:46.532082Z",
     "start_time": "2024-04-24T04:12:46.344520Z"
    }
   },
   "id": "c042fc9c69a7a17d",
   "execution_count": 44
  },
  {
   "cell_type": "code",
   "outputs": [],
   "source": [
    "data_points = {\n",
    "    \"dist++\": a,\n",
    "    \"dist\": b,\n",
    "    \"vllm++\": c,\n",
    "    \"vllm\": d,\n",
    "}\n",
    "with open(\"figure/figure_11b.json\", \"w\") as f:\n",
    "    import json\n",
    "\n",
    "    json.dump(data_points, f)"
   ],
   "metadata": {
    "collapsed": false,
    "ExecuteTime": {
     "end_time": "2024-04-24T04:12:46.540669Z",
     "start_time": "2024-04-24T04:12:46.534948Z"
    }
   },
   "id": "a0d3cfe78bc32bb9",
   "execution_count": 45
  }
 ],
 "metadata": {
  "kernelspec": {
   "display_name": "Python 3",
   "language": "python",
   "name": "python3"
  },
  "language_info": {
   "codemirror_mode": {
    "name": "ipython",
    "version": 2
   },
   "file_extension": ".py",
   "mimetype": "text/x-python",
   "name": "python",
   "nbconvert_exporter": "python",
   "pygments_lexer": "ipython2",
   "version": "2.7.6"
  }
 },
 "nbformat": 4,
 "nbformat_minor": 5
}
