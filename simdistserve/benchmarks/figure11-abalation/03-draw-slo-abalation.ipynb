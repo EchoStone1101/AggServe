{
 "cells": [
  {
   "cell_type": "code",
   "outputs": [],
   "source": [
    "target = (200, 100)\n",
    "chosen_per_gpu_rate = 1\n",
    "is_notebook_mode = 'get_ipython' in globals()\n",
    "\n",
    "import argparse\n",
    "def parse_args(args_=None):\n",
    "    parser = argparse.ArgumentParser()\n",
    "    parser.add_argument(\"--target\", type=str, default=target)\n",
    "    parser.add_argument(\"--per_gpu_rate\", type=float, default=chosen_per_gpu_rate)\n",
    "    args = parser.parse_args(args_)\n",
    "    return args\n",
    "\n",
    "if not is_notebook_mode:\n",
    "    args = parse_args()\n",
    "    chosen_per_gpu_rate = args.per_gpu_rate\n",
    "    if args.target:\n",
    "        target = eval(args.target)"
   ],
   "metadata": {
    "collapsed": false
   },
   "id": "533190508e943b59",
   "execution_count": null
  },
  {
   "cell_type": "code",
   "outputs": [],
   "source": [
    "from pathlib import Path\n",
    "Path(\"figure\").mkdir(exist_ok=True)\n",
    "Path(\"visual\").mkdir(exist_ok=True)"
   ],
   "metadata": {
    "collapsed": false
   },
   "id": "49b872cc8303da3d",
   "execution_count": null
  },
  {
   "cell_type": "code",
   "execution_count": null,
   "id": "initial_id",
   "metadata": {
    "collapsed": true
   },
   "outputs": [],
   "source": [
    "import os\n",
    "from argparse import Namespace\n",
    "from pathlib import Path\n",
    "\n",
    "import pandas as pd\n",
    "\n",
    "assert Namespace\n",
    "\n",
    "\n",
    "\n",
    "# Get all files with format '*.latency.csv' from root_dir\n",
    "# root_dir = Path(\"fig11-abalation-log\")\n",
    "root_dir = Path(\"result\")\n",
    "latency_file_paths = sorted(list(root_dir.glob(\"*.latency.csv\")))\n",
    "experiment_log_paths = sorted(list(root_dir.glob(\"*.log\")))\n",
    "columns = ['backend', 'rate', 'target', 'attainment', 'latency']"
   ]
  },
  {
   "cell_type": "code",
   "outputs": [],
   "source": [
    "dfs = []\n",
    "namespaces = []\n",
    "for latency_file_path, experiment_log_path in zip(latency_file_paths, experiment_log_paths):\n",
    "    # read experiment_log_path and log the namespace\n",
    "    # with open(experiment_log_path, 'r') as f:\n",
    "    #     exp_args = f.read()\n",
    "    #     exp_args = eval(exp_args)\n",
    "    #     namespaces.append(exp_args)\n",
    "\n",
    "    try:\n",
    "        df = pd.read_csv(latency_file_path)\n",
    "    except pd.errors.EmptyDataError:\n",
    "        pass\n",
    "    dfs.append(df)"
   ],
   "metadata": {
    "collapsed": false
   },
   "id": "22b627c101c9f43e",
   "execution_count": null
  },
  {
   "cell_type": "code",
   "outputs": [],
   "source": [
    "big_df = pd.concat(dfs, ignore_index=True)\n",
    "big_df['ngpu'] = big_df['tp_prefill'] * big_df['pp_prefill'] + big_df['tp_decode'] * big_df['pp_decode']\n",
    "big_df['per_gpu_rate'] = big_df['rate'] / big_df['ngpu']\n",
    "big_df['goodput@90'] = big_df.apply(\n",
    "    lambda x: x['rate'] / x['ngpu'] if x['attainment'] >= 90 else 0,\n",
    "    axis=1,\n",
    ")\n",
    "big_df['target'] = big_df['target'].apply(eval)\n",
    "big_df = big_df[big_df['per_gpu_rate'] == chosen_per_gpu_rate]"
   ],
   "metadata": {
    "collapsed": false
   },
   "id": "996bdee6b0402f1f",
   "execution_count": null
  },
  {
   "cell_type": "code",
   "outputs": [],
   "source": [
    "big_df"
   ],
   "metadata": {
    "collapsed": false
   },
   "id": "33128238c56688d6",
   "execution_count": null
  },
  {
   "cell_type": "code",
   "outputs": [],
   "source": [
    "slos = [0.4, 0.6, 0.8, 1, 1.2]\n",
    "targets = [\n",
    "    (target[0] * slo, target[1] * slo)\n",
    "    for slo in slos\n",
    "]\n",
    "target_to_slo = {\n",
    "    target: slo\n",
    "    for target, slo in zip(targets, slos)\n",
    "}"
   ],
   "metadata": {
    "collapsed": false
   },
   "id": "df2ec8ee4315f2ea",
   "execution_count": null
  },
  {
   "cell_type": "code",
   "outputs": [],
   "source": [
    "big_df = big_df[big_df['target'].isin(targets)]\n",
    "big_df = big_df.copy()"
   ],
   "metadata": {
    "collapsed": false
   },
   "id": "26ed0cc448ceb755",
   "execution_count": null
  },
  {
   "cell_type": "code",
   "outputs": [],
   "source": [
    "big_df['slo'] = big_df['target'].apply(lambda x: target_to_slo[x])"
   ],
   "metadata": {
    "collapsed": false
   },
   "id": "189a817ce7c13400",
   "execution_count": null
  },
  {
   "cell_type": "code",
   "outputs": [],
   "source": [
    "max_machine = 4\n",
    "max_gpu_per_node = 8\n",
    "\n",
    "\n",
    "def can_fit_low_affinity_distserve(x):\n",
    "    a, b, c, d = x['tp_prefill'], x['pp_prefill'], x['tp_decode'], x['pp_decode']\n",
    "    for pp_common in range(1, max_machine + 1):\n",
    "        bp = b / pp_common\n",
    "        dp = d / pp_common\n",
    "        # If either bp or dp is not int, skip\n",
    "        if int(bp) != bp or int(dp) != dp:\n",
    "            continue\n",
    "        # Check if the segment can be placed inside a node\n",
    "        if a * bp + c * dp <= max_gpu_per_node:\n",
    "            return True\n",
    "        pass\n",
    "    return False\n",
    "\n",
    "\n",
    "def can_fit_low_affinity(x):\n",
    "    if x['backend'] == 'distserve':\n",
    "        return can_fit_low_affinity_distserve(x)\n",
    "    else:\n",
    "        return True\n",
    "    pass\n",
    "\n",
    "\n",
    "big_df['low_affin'] = big_df.apply(can_fit_low_affinity, axis=1)"
   ],
   "metadata": {
    "collapsed": false
   },
   "id": "10acf2dc7e6d444f",
   "execution_count": null
  },
  {
   "cell_type": "code",
   "outputs": [],
   "source": [
    "big_df"
   ],
   "metadata": {
    "collapsed": false
   },
   "id": "d26c6849c7b34fb0",
   "execution_count": null
  },
  {
   "cell_type": "code",
   "outputs": [],
   "source": [
    "figure_11_right_df = big_df.copy()"
   ],
   "metadata": {
    "collapsed": false
   },
   "id": "bbe34e36a43d0c88",
   "execution_count": null
  },
  {
   "cell_type": "code",
   "outputs": [],
   "source": [
    "figure_11_distserve_high = figure_11_right_df[\n",
    "    (figure_11_right_df['backend'] == 'distserve')\n",
    "]\n",
    "figure_11_distserve_low = figure_11_right_df[\n",
    "    (figure_11_right_df['backend'] == 'distserve') & (figure_11_right_df['low_affin'])\n",
    "]\n",
    "figure_11_vllm_high = figure_11_right_df[\n",
    "    (figure_11_right_df['backend'] == 'vllm')\n",
    "]\n",
    "figure_11_vllm_low = figure_11_right_df[\n",
    "    (figure_11_right_df['backend'] == 'vllm') & (figure_11_right_df['low_affin'])\n",
    "]"
   ],
   "metadata": {
    "collapsed": false
   },
   "id": "f4982c52dbfcdd20",
   "execution_count": null
  },
  {
   "cell_type": "code",
   "outputs": [],
   "source": [
    "def get_top_config(df):\n",
    "    strictest_slo = min(slos)\n",
    "    r = df[df['slo'] == strictest_slo].sort_values(\n",
    "        by=['goodput@90', 'attainment'],\n",
    "        ascending=False,\n",
    "    ).iloc[0][[\n",
    "        \"tp_prefill\",\n",
    "        \"pp_prefill\",\n",
    "        \"tp_decode\",\n",
    "        \"pp_decode\",\n",
    "    ]]\n",
    "    return r"
   ],
   "metadata": {
    "collapsed": false
   },
   "id": "5f8e72e625583bbe",
   "execution_count": null
  },
  {
   "cell_type": "code",
   "outputs": [],
   "source": [
    "big_df = big_df.sort_values(by=['per_gpu_rate', 'slo', ], ascending=False)"
   ],
   "metadata": {
    "collapsed": false
   },
   "id": "935bfb650ab31b58",
   "execution_count": null
  },
  {
   "cell_type": "code",
   "outputs": [],
   "source": [
    "import plotly.graph_objects as go\n",
    "\n",
    "fig = go.Figure()\n",
    "configs = figure_11_distserve_high[['tp_prefill', 'pp_prefill', 'tp_decode', 'pp_decode']].drop_duplicates()\n",
    "slo_vals = list(big_df['slo'].unique())\n",
    "\n",
    "df = figure_11_distserve_high\n",
    "for tp_prefill, pp_prefill, tp_decode, pp_decode in configs.values:\n",
    "    config_df = df[\n",
    "        (df['tp_prefill'] == tp_prefill) & (df['pp_prefill'] == pp_prefill) &\n",
    "        (df['tp_decode'] == tp_decode) & (df['pp_decode'] == pp_decode)\n",
    "        ]\n",
    "    config_df = config_df.sort_values(by=['slo'], ascending=False)\n",
    "    # plot this inside a plotly plot\n",
    "    fig.add_trace(go.Scatter(\n",
    "        x=config_df['slo'], y=config_df['attainment'],\n",
    "        mode='lines+markers', name=f\"p{tp_prefill}{pp_prefill}{tp_decode}{pp_decode}-distserve\"\n",
    "    ))\n",
    "\n",
    "# fig add title\n",
    "fig.update_layout(\n",
    "    title=\"DistServe\",\n",
    "    xaxis_title=\"Per-GPU Rate (tokens/s)\",\n",
    "    yaxis_title=\"Attainment (%)\",\n",
    "    legend_title=\"Configuration\"\n",
    ")\n",
    "fig.update_layout(\n",
    "    xaxis=dict(range=[max(slo_vals), min(slo_vals)]),\n",
    ")  # Set the range manually\n",
    "\n",
    "# Export to html\n",
    "fig.write_html(\"visual/figure_11_distserve_high.slo.html\")\n",
    "if is_notebook_mode:\n",
    "    fig.show()"
   ],
   "metadata": {
    "collapsed": false
   },
   "id": "d5e24bd563b123b2",
   "execution_count": null
  },
  {
   "cell_type": "code",
   "outputs": [],
   "source": [
    "import plotly.graph_objects as go\n",
    "\n",
    "fig = go.Figure()\n",
    "configs = figure_11_vllm_high[['tp_prefill', 'pp_prefill']].drop_duplicates()\n",
    "slo_vals = list(big_df['slo'].unique())\n",
    "\n",
    "df = figure_11_vllm_high\n",
    "for tp_prefill, pp_prefill in configs.values:\n",
    "    config_df = df[\n",
    "        (df['tp_prefill'] == tp_prefill) & (df['pp_prefill'] == pp_prefill)\n",
    "        ]\n",
    "    config_df = config_df.sort_values(by=['slo'], ascending=False)\n",
    "    # plot this inside a plotly plot\n",
    "    fig.add_trace(go.Scatter(\n",
    "        x=config_df['slo'], y=config_df['attainment'],\n",
    "        mode='lines+markers', name=f\"p{tp_prefill}{pp_prefill}-vLLM\"\n",
    "    ))\n",
    "\n",
    "# fig add title\n",
    "fig.update_layout(\n",
    "    title=\"vLLM\",\n",
    "    xaxis_title=\"Per-GPU Rate (tokens/s)\",\n",
    "    yaxis_title=\"Attainment (%)\",\n",
    "    legend_title=\"Configuration\"\n",
    ")\n",
    "fig.update_layout(\n",
    "    xaxis=dict(range=[max(slo_vals), min(slo_vals)]),\n",
    ")  # Set the range manually\n",
    "\n",
    "fig.write_html(\"visual/figure_11_vllm_high.slo.html\")\n",
    "if is_notebook_mode:\n",
    "    fig.show()\n",
    "# Export to html"
   ],
   "metadata": {
    "collapsed": false
   },
   "id": "54465eb607a48af7",
   "execution_count": null
  },
  {
   "cell_type": "code",
   "outputs": [],
   "source": [
    "import plotly.graph_objects as go\n",
    "\n",
    "fig = go.Figure()\n",
    "configs = figure_11_distserve_high[['tp_prefill', 'pp_prefill', 'tp_decode', 'pp_decode']].drop_duplicates()\n",
    "slo_vals = list(big_df['slo'].unique())\n",
    "\n",
    "df = figure_11_distserve_high\n",
    "for tp_prefill, pp_prefill, tp_decode, pp_decode in configs.values:\n",
    "    config_df = df[\n",
    "        (df['tp_prefill'] == tp_prefill) & (df['pp_prefill'] == pp_prefill) &\n",
    "        (df['tp_decode'] == tp_decode) & (df['pp_decode'] == pp_decode)\n",
    "        ]\n",
    "    config_df = config_df.sort_values(by=['slo'], ascending=False)\n",
    "    # plot this inside a plotly plot\n",
    "    fig.add_trace(go.Scatter(\n",
    "        x=config_df['slo'], y=config_df['attainment'],\n",
    "        mode='lines+markers', name=f\"p{tp_prefill}{pp_prefill}{tp_decode}{pp_decode}-distserve\"\n",
    "    ))\n",
    "\n",
    "configs = figure_11_vllm_high[['tp_prefill', 'pp_prefill']].drop_duplicates()\n",
    "slo_vals = list(big_df['slo'].unique())\n",
    "\n",
    "df = figure_11_vllm_high\n",
    "for tp_prefill, pp_prefill in configs.values:\n",
    "    config_df = df[\n",
    "        (df['tp_prefill'] == tp_prefill) & (df['pp_prefill'] == pp_prefill)\n",
    "        ]\n",
    "    config_df = config_df.sort_values(by=['slo'], ascending=False)\n",
    "    # plot this inside a plotly plot\n",
    "    fig.add_trace(go.Scatter(\n",
    "        x=config_df['slo'], y=config_df['attainment'],\n",
    "        mode='lines+markers', name=f\"p{tp_prefill}{pp_prefill}-vLLM\"\n",
    "    ))\n",
    "\n",
    "# fig add title\n",
    "fig.update_layout(\n",
    "    title=\"DistServe and vLLM\",\n",
    "    xaxis_title=\"Per-GPU Rate (tokens/s)\",\n",
    "    yaxis_title=\"Attainment (%)\",\n",
    "    legend_title=\"Configuration\"\n",
    ")\n",
    "fig.update_layout(\n",
    "    xaxis=dict(range=[max(slo_vals), min(slo_vals)]),\n",
    ")  # Set the range manually\n",
    "fig.write_html(\"visual/figure_11_distserve_vllm_high.slo.html\")\n",
    "if is_notebook_mode:\n",
    "    fig.show()\n",
    "# Export to html"
   ],
   "metadata": {
    "collapsed": false
   },
   "id": "8ce99128f937cd93",
   "execution_count": null
  },
  {
   "cell_type": "code",
   "outputs": [],
   "source": [
    "def get_top_config(df):\n",
    "    strictest_slo = min(slos)\n",
    "    r = df[df['slo'] == strictest_slo].sort_values(\n",
    "        by=['goodput@90', 'attainment'],\n",
    "        ascending=False,\n",
    "    ).iloc[0][[\n",
    "        \"tp_prefill\",\n",
    "        \"pp_prefill\",\n",
    "        \"tp_decode\",\n",
    "        \"pp_decode\",\n",
    "    ]]\n",
    "    return r\n",
    "\n",
    "def add_plotly_trace(fig, df: 'DataFrame', trace: str):\n",
    "    tp_prefill, pp_prefill, tp_decode, pp_decode = get_top_config(df)\n",
    "    config_df = df[\n",
    "        (df['tp_prefill'] == tp_prefill) & (df['pp_prefill'] == pp_prefill) &\n",
    "        (df['tp_decode'] == tp_decode) & (df['pp_decode'] == pp_decode)\n",
    "        ]\n",
    "    config_df = config_df.sort_values(by=['slo'], ascending=False)\n",
    "    if 'vllm' in trace:\n",
    "        name = f\"{trace}-p{tp_prefill}{pp_prefill}\"\n",
    "        pass\n",
    "    else:\n",
    "        name = f\"{trace}-p{tp_prefill}{pp_prefill}{tp_decode}{pp_decode}\"\n",
    "        pass\n",
    "\n",
    "    fig.add_trace(go.Scatter(\n",
    "        x=config_df['slo'], y=config_df['attainment'],\n",
    "        mode='lines+markers', name=name,\n",
    "    ))\n",
    "    return"
   ],
   "metadata": {
    "collapsed": false
   },
   "id": "6ad2d887f80c96e3",
   "execution_count": null
  },
  {
   "cell_type": "code",
   "outputs": [],
   "source": [
    "import plotly.graph_objects as go\n",
    "\n",
    "fig = go.Figure()\n",
    "add_plotly_trace(fig, figure_11_distserve_high, \"disthigh\")\n",
    "add_plotly_trace(fig, figure_11_distserve_low, \"distlow\")\n",
    "add_plotly_trace(fig, figure_11_vllm_high, \"vllm++\")\n",
    "add_plotly_trace(fig, figure_11_vllm_low, \"vllm\")\n",
    "fig.update_layout(\n",
    "    title=f\"Figure 11: Abalation Study - SLO with per-GPU rate = {chosen_per_gpu_rate}\"\n",
    "          f\"<br>\"\n",
    "          f\"<sup>\"\n",
    "          f\"The figure shows that DistHigh > DistLow > vLLM++ > vLLM (vLLM++ and vLLM overlaps) </sup>\",\n",
    "    xaxis_title=\"Per-GPU Rate (tokens/s)\",\n",
    "    yaxis_title=\"Attainment (%)\",\n",
    "    xaxis=dict(range=[max(slo_vals), min(slo_vals)]),\n",
    "    legend_title=\"Configuration\"\n",
    ")\n",
    "fig.write_html(\"visual/figure_11b.html\")\n",
    "if is_notebook_mode:\n",
    "    fig.show()"
   ],
   "metadata": {
    "collapsed": false
   },
   "id": "2204f11fe4992ef4",
   "execution_count": null
  },
  {
   "cell_type": "code",
   "outputs": [],
   "source": [
    "\n",
    "def add_matplotlib_trace(fig, df: 'DataFrame', trace: str):\n",
    "    tp_prefill, pp_prefill, tp_decode, pp_decode = get_top_config(df)\n",
    "    config_df = df[\n",
    "        (df['tp_prefill'] == tp_prefill) & (df['pp_prefill'] == pp_prefill) &\n",
    "        (df['tp_decode'] == tp_decode) & (df['pp_decode'] == pp_decode)\n",
    "        ]\n",
    "    config_df = config_df.sort_values(by=['slo'], ascending=False)\n",
    "    if 'vllm' in trace:\n",
    "        name = f\"{trace}-p{tp_prefill}{pp_prefill}\"\n",
    "        pass\n",
    "    else:\n",
    "        name = f\"{trace}-p{tp_prefill}{pp_prefill}{tp_decode}{pp_decode}\"\n",
    "        pass\n",
    "\n",
    "    fig.plot(\n",
    "        config_df['slo'], \n",
    "        config_df['attainment'],\n",
    "        label=name,\n",
    "        marker='o',\n",
    "    )\n",
    "    return config_df['attainment'].tolist()"
   ],
   "metadata": {
    "collapsed": false
   },
   "id": "1a657fa69fd55453",
   "execution_count": null
  },
  {
   "cell_type": "code",
   "outputs": [],
   "source": [
    "import matplotlib.pyplot as plt\n",
    "\n",
    "# Plot a line chart with 4 curves\n",
    "# x-axis: per_gpu_rate\n",
    "# y-axis: attainment\n",
    "\n",
    "fig, ax = plt.subplots()\n",
    "a = add_matplotlib_trace(ax, figure_11_distserve_high, \"disthigh\")\n",
    "b = add_matplotlib_trace(ax, figure_11_distserve_low, \"distlow\")\n",
    "c = add_matplotlib_trace(ax, figure_11_vllm_high, \"vllm++\")\n",
    "d = add_matplotlib_trace(ax, figure_11_vllm_low, \"vllm\")\n",
    "plt.title(\"Figure 11: Abalation Study (DistServe and vLLM)\")\n",
    "plt.xlabel(\"SLO Scale\")\n",
    "plt.ylabel(\"SLO Attainment (%)\")\n",
    "plt.xticks(slos)\n",
    "plt.gca().invert_xaxis()\n",
    "plt.legend()\n",
    "\n",
    "# save the plot \n",
    "fig.savefig(\"figure/figure_11b.png\")\n",
    "\n",
    "if is_notebook_mode:\n",
    "    plt.show()"
   ],
   "metadata": {
    "collapsed": false
   },
   "id": "c042fc9c69a7a17d",
   "execution_count": null
  },
  {
   "cell_type": "code",
   "outputs": [],
   "source": [
    "data_points = {\n",
    "    \"dist++\": a,\n",
    "    \"dist\": b,\n",
    "    \"vllm++\": c,\n",
    "    \"vllm\": d,\n",
    "}\n",
    "with open(\"figure/figure_11b.json\", \"w\") as f:\n",
    "    import json\n",
    "\n",
    "    json.dump(data_points, f)"
   ],
   "metadata": {
    "collapsed": false
   },
   "id": "a0d3cfe78bc32bb9",
   "execution_count": null
  }
 ],
 "metadata": {
  "kernelspec": {
   "display_name": "Python 3",
   "language": "python",
   "name": "python3"
  },
  "language_info": {
   "codemirror_mode": {
    "name": "ipython",
    "version": 2
   },
   "file_extension": ".py",
   "mimetype": "text/x-python",
   "name": "python",
   "nbconvert_exporter": "python",
   "pygments_lexer": "ipython2",
   "version": "2.7.6"
  }
 },
 "nbformat": 4,
 "nbformat_minor": 5
}
