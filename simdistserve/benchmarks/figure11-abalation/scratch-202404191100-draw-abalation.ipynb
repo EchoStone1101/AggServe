{
 "cells": [
  {
   "cell_type": "code",
   "execution_count": 17,
   "id": "initial_id",
   "metadata": {
    "collapsed": true,
    "ExecuteTime": {
     "end_time": "2024-04-21T00:01:22.394395Z",
     "start_time": "2024-04-21T00:01:22.363319Z"
    }
   },
   "outputs": [],
   "source": [
    "from pathlib import Path\n",
    "\n",
    "import pandas as pd\n",
    "from argparse import Namespace\n",
    "import matplotlib.pyplot as plt\n",
    "\n",
    "# Get all files with format '*.latency.csv' from root_dir\n",
    "# root_dir = Path(\"fig11-abalation-log\")\n",
    "root_dir = Path(\"result\")\n",
    "latency_file_paths = sorted(list(root_dir.glob(\"*.latency.csv\")))\n",
    "experiment_log_paths = sorted(list(root_dir.glob(\"*.log\")))\n",
    "columns = ['backend', 'rate', 'target', 'attainment', 'latency']"
   ]
  },
  {
   "cell_type": "code",
   "outputs": [],
   "source": [
    "dfs = []\n",
    "namespaces = []\n",
    "for latency_file_path, experiment_log_path in zip(latency_file_paths, experiment_log_paths):\n",
    "    # read experiment_log_path and log the namespace\n",
    "    with open(experiment_log_path, 'r') as f:\n",
    "        exp_args = f.read()\n",
    "        exp_args = eval(exp_args)\n",
    "        namespaces.append(exp_args)\n",
    "\n",
    "    df = pd.read_csv(latency_file_path)\n",
    "    dfs.append(df)"
   ],
   "metadata": {
    "collapsed": false,
    "ExecuteTime": {
     "end_time": "2024-04-21T00:01:22.944364Z",
     "start_time": "2024-04-21T00:01:22.390610Z"
    }
   },
   "id": "cf162cc0a9334b35",
   "execution_count": 18
  },
  {
   "cell_type": "code",
   "outputs": [],
   "source": [
    "big_df = pd.concat(dfs, ignore_index=True)\n",
    "big_df['ngpu'] = big_df['tp_prefill'] * big_df['pp_prefill'] + big_df['tp_decode'] * big_df['pp_decode']\n",
    "big_df['per_gpu_rate'] = big_df['rate'] / big_df['ngpu']\n",
    "big_df['goodput@90'] = big_df.apply(\n",
    "    lambda x: x['rate'] / x['ngpu'] if x['attainment'] >= 90 else 0,\n",
    "    axis=1,\n",
    ")"
   ],
   "metadata": {
    "collapsed": false,
    "ExecuteTime": {
     "end_time": "2024-04-21T00:01:23.144474Z",
     "start_time": "2024-04-21T00:01:23.024396Z"
    }
   },
   "id": "69a03ddf577d3c5a",
   "execution_count": 19
  },
  {
   "cell_type": "code",
   "outputs": [
    {
     "data": {
      "text/plain": "         backend model_type       pd  rate              target  attainment  \\\n0      distserve    OPT-13B  prefill  10.0               200.0        31.9   \n1      distserve    OPT-13B   decode  10.0               100.0        31.6   \n2      distserve    OPT-13B     both  10.0      (200.0, 100.0)        10.3   \n3      distserve    OPT-13B  prefill  10.0                80.0         9.4   \n4      distserve    OPT-13B   decode  10.0                40.0         5.5   \n...          ...        ...      ...   ...                 ...         ...   \n19370       vllm    OPT-13B   decode  96.0   281.2603233009907        95.0   \n19371       vllm    OPT-13B  prefill  96.0   289.6116463515349        98.0   \n19372       vllm    OPT-13B   decode  96.0   311.0419295211507        98.0   \n19373       vllm    OPT-13B  prefill  96.0   309.9117983314648        99.0   \n19374       vllm    OPT-13B   decode  96.0  326.29520748094956        99.0   \n\n       tp_prefill  pp_prefill  tp_decode  pp_decode  ngpu  per_gpu_rate  \\\n0               1           1          1          1     2           5.0   \n1               1           1          1          1     2           5.0   \n2               1           1          1          1     2           5.0   \n3               1           1          1          1     2           5.0   \n4               1           1          1          1     2           5.0   \n...           ...         ...        ...        ...   ...           ...   \n19370           4           8          0          0    32           3.0   \n19371           4           8          0          0    32           3.0   \n19372           4           8          0          0    32           3.0   \n19373           4           8          0          0    32           3.0   \n19374           4           8          0          0    32           3.0   \n\n       goodput@90  \n0             0.0  \n1             0.0  \n2             0.0  \n3             0.0  \n4             0.0  \n...           ...  \n19370         3.0  \n19371         3.0  \n19372         3.0  \n19373         3.0  \n19374         3.0  \n\n[19375 rows x 13 columns]",
      "text/html": "<div>\n<style scoped>\n    .dataframe tbody tr th:only-of-type {\n        vertical-align: middle;\n    }\n\n    .dataframe tbody tr th {\n        vertical-align: top;\n    }\n\n    .dataframe thead th {\n        text-align: right;\n    }\n</style>\n<table border=\"1\" class=\"dataframe\">\n  <thead>\n    <tr style=\"text-align: right;\">\n      <th></th>\n      <th>backend</th>\n      <th>model_type</th>\n      <th>pd</th>\n      <th>rate</th>\n      <th>target</th>\n      <th>attainment</th>\n      <th>tp_prefill</th>\n      <th>pp_prefill</th>\n      <th>tp_decode</th>\n      <th>pp_decode</th>\n      <th>ngpu</th>\n      <th>per_gpu_rate</th>\n      <th>goodput@90</th>\n    </tr>\n  </thead>\n  <tbody>\n    <tr>\n      <th>0</th>\n      <td>distserve</td>\n      <td>OPT-13B</td>\n      <td>prefill</td>\n      <td>10.0</td>\n      <td>200.0</td>\n      <td>31.9</td>\n      <td>1</td>\n      <td>1</td>\n      <td>1</td>\n      <td>1</td>\n      <td>2</td>\n      <td>5.0</td>\n      <td>0.0</td>\n    </tr>\n    <tr>\n      <th>1</th>\n      <td>distserve</td>\n      <td>OPT-13B</td>\n      <td>decode</td>\n      <td>10.0</td>\n      <td>100.0</td>\n      <td>31.6</td>\n      <td>1</td>\n      <td>1</td>\n      <td>1</td>\n      <td>1</td>\n      <td>2</td>\n      <td>5.0</td>\n      <td>0.0</td>\n    </tr>\n    <tr>\n      <th>2</th>\n      <td>distserve</td>\n      <td>OPT-13B</td>\n      <td>both</td>\n      <td>10.0</td>\n      <td>(200.0, 100.0)</td>\n      <td>10.3</td>\n      <td>1</td>\n      <td>1</td>\n      <td>1</td>\n      <td>1</td>\n      <td>2</td>\n      <td>5.0</td>\n      <td>0.0</td>\n    </tr>\n    <tr>\n      <th>3</th>\n      <td>distserve</td>\n      <td>OPT-13B</td>\n      <td>prefill</td>\n      <td>10.0</td>\n      <td>80.0</td>\n      <td>9.4</td>\n      <td>1</td>\n      <td>1</td>\n      <td>1</td>\n      <td>1</td>\n      <td>2</td>\n      <td>5.0</td>\n      <td>0.0</td>\n    </tr>\n    <tr>\n      <th>4</th>\n      <td>distserve</td>\n      <td>OPT-13B</td>\n      <td>decode</td>\n      <td>10.0</td>\n      <td>40.0</td>\n      <td>5.5</td>\n      <td>1</td>\n      <td>1</td>\n      <td>1</td>\n      <td>1</td>\n      <td>2</td>\n      <td>5.0</td>\n      <td>0.0</td>\n    </tr>\n    <tr>\n      <th>...</th>\n      <td>...</td>\n      <td>...</td>\n      <td>...</td>\n      <td>...</td>\n      <td>...</td>\n      <td>...</td>\n      <td>...</td>\n      <td>...</td>\n      <td>...</td>\n      <td>...</td>\n      <td>...</td>\n      <td>...</td>\n      <td>...</td>\n    </tr>\n    <tr>\n      <th>19370</th>\n      <td>vllm</td>\n      <td>OPT-13B</td>\n      <td>decode</td>\n      <td>96.0</td>\n      <td>281.2603233009907</td>\n      <td>95.0</td>\n      <td>4</td>\n      <td>8</td>\n      <td>0</td>\n      <td>0</td>\n      <td>32</td>\n      <td>3.0</td>\n      <td>3.0</td>\n    </tr>\n    <tr>\n      <th>19371</th>\n      <td>vllm</td>\n      <td>OPT-13B</td>\n      <td>prefill</td>\n      <td>96.0</td>\n      <td>289.6116463515349</td>\n      <td>98.0</td>\n      <td>4</td>\n      <td>8</td>\n      <td>0</td>\n      <td>0</td>\n      <td>32</td>\n      <td>3.0</td>\n      <td>3.0</td>\n    </tr>\n    <tr>\n      <th>19372</th>\n      <td>vllm</td>\n      <td>OPT-13B</td>\n      <td>decode</td>\n      <td>96.0</td>\n      <td>311.0419295211507</td>\n      <td>98.0</td>\n      <td>4</td>\n      <td>8</td>\n      <td>0</td>\n      <td>0</td>\n      <td>32</td>\n      <td>3.0</td>\n      <td>3.0</td>\n    </tr>\n    <tr>\n      <th>19373</th>\n      <td>vllm</td>\n      <td>OPT-13B</td>\n      <td>prefill</td>\n      <td>96.0</td>\n      <td>309.9117983314648</td>\n      <td>99.0</td>\n      <td>4</td>\n      <td>8</td>\n      <td>0</td>\n      <td>0</td>\n      <td>32</td>\n      <td>3.0</td>\n      <td>3.0</td>\n    </tr>\n    <tr>\n      <th>19374</th>\n      <td>vllm</td>\n      <td>OPT-13B</td>\n      <td>decode</td>\n      <td>96.0</td>\n      <td>326.29520748094956</td>\n      <td>99.0</td>\n      <td>4</td>\n      <td>8</td>\n      <td>0</td>\n      <td>0</td>\n      <td>32</td>\n      <td>3.0</td>\n      <td>3.0</td>\n    </tr>\n  </tbody>\n</table>\n<p>19375 rows × 13 columns</p>\n</div>"
     },
     "execution_count": 20,
     "metadata": {},
     "output_type": "execute_result"
    }
   ],
   "source": [
    "big_df"
   ],
   "metadata": {
    "collapsed": false,
    "ExecuteTime": {
     "end_time": "2024-04-21T00:01:23.154721Z",
     "start_time": "2024-04-21T00:01:23.151508Z"
    }
   },
   "id": "d3348ed969bcfabf",
   "execution_count": 20
  },
  {
   "cell_type": "code",
   "outputs": [],
   "source": [
    "max_machine = 4\n",
    "max_gpu_per_node = 8\n",
    "\n",
    "\n",
    "def can_fit_low_affinity_distserve(x):\n",
    "    a, b, c, d = x['tp_prefill'], x['pp_prefill'], x['tp_decode'], x['pp_decode']\n",
    "    for pp_common in range(1, max_machine + 1):\n",
    "        bp = b / pp_common\n",
    "        dp = d / pp_common\n",
    "        # If either bp or dp is not int, skip\n",
    "        if int(bp) != bp or int(dp) != dp:\n",
    "            continue\n",
    "        # Check if the segment can be placed inside a node\n",
    "        if a * bp + c * dp <= max_gpu_per_node:\n",
    "            return True\n",
    "        pass\n",
    "    return False\n",
    "\n",
    "\n",
    "def can_fit_low_affinity(x):\n",
    "    if x['backend'] == 'distserve':\n",
    "        return can_fit_low_affinity_distserve(x)\n",
    "    else:\n",
    "        return True\n",
    "    pass\n",
    "\n",
    "\n",
    "big_df['low_affin'] = big_df.apply(can_fit_low_affinity, axis=1)"
   ],
   "metadata": {
    "collapsed": false,
    "ExecuteTime": {
     "end_time": "2024-04-21T00:01:23.380663Z",
     "start_time": "2024-04-21T00:01:23.158328Z"
    }
   },
   "id": "27819a9a9d826d68",
   "execution_count": 21
  },
  {
   "cell_type": "code",
   "outputs": [
    {
     "data": {
      "text/plain": "         backend model_type       pd   rate              target  attainment  \\\n4375   distserve    OPT-13B  prefill    2.0               200.0        91.6   \n4376   distserve    OPT-13B   decode    2.0               100.0       100.0   \n4377   distserve    OPT-13B     both    2.0      (200.0, 100.0)        91.6   \n4378   distserve    OPT-13B  prefill    2.0                80.0        40.9   \n4379   distserve    OPT-13B   decode    2.0                40.0        99.8   \n...          ...        ...      ...    ...                 ...         ...   \n18270       vllm    OPT-13B   decode  160.0   650.4200146543143        95.0   \n18271       vllm    OPT-13B  prefill  160.0   417.6207726276993        98.0   \n18272       vllm    OPT-13B   decode  160.0   821.0808666193252        98.0   \n18273       vllm    OPT-13B  prefill  160.0  428.86314445900445        99.0   \n18274       vllm    OPT-13B   decode  160.0   901.5869860103143        99.0   \n\n       tp_prefill  pp_prefill  tp_decode  pp_decode  ngpu  per_gpu_rate  \\\n4375            1           1          1          1     2           1.0   \n4376            1           1          1          1     2           1.0   \n4377            1           1          1          1     2           1.0   \n4378            1           1          1          1     2           1.0   \n4379            1           1          1          1     2           1.0   \n...           ...         ...        ...        ...   ...           ...   \n18270           4           8          0          0    32           5.0   \n18271           4           8          0          0    32           5.0   \n18272           4           8          0          0    32           5.0   \n18273           4           8          0          0    32           5.0   \n18274           4           8          0          0    32           5.0   \n\n       goodput@90  low_affin  \n4375          1.0       True  \n4376          1.0       True  \n4377          1.0       True  \n4378          0.0       True  \n4379          1.0       True  \n...           ...        ...  \n18270         5.0       True  \n18271         5.0       True  \n18272         5.0       True  \n18273         5.0       True  \n18274         5.0       True  \n\n[19375 rows x 14 columns]",
      "text/html": "<div>\n<style scoped>\n    .dataframe tbody tr th:only-of-type {\n        vertical-align: middle;\n    }\n\n    .dataframe tbody tr th {\n        vertical-align: top;\n    }\n\n    .dataframe thead th {\n        text-align: right;\n    }\n</style>\n<table border=\"1\" class=\"dataframe\">\n  <thead>\n    <tr style=\"text-align: right;\">\n      <th></th>\n      <th>backend</th>\n      <th>model_type</th>\n      <th>pd</th>\n      <th>rate</th>\n      <th>target</th>\n      <th>attainment</th>\n      <th>tp_prefill</th>\n      <th>pp_prefill</th>\n      <th>tp_decode</th>\n      <th>pp_decode</th>\n      <th>ngpu</th>\n      <th>per_gpu_rate</th>\n      <th>goodput@90</th>\n      <th>low_affin</th>\n    </tr>\n  </thead>\n  <tbody>\n    <tr>\n      <th>4375</th>\n      <td>distserve</td>\n      <td>OPT-13B</td>\n      <td>prefill</td>\n      <td>2.0</td>\n      <td>200.0</td>\n      <td>91.6</td>\n      <td>1</td>\n      <td>1</td>\n      <td>1</td>\n      <td>1</td>\n      <td>2</td>\n      <td>1.0</td>\n      <td>1.0</td>\n      <td>True</td>\n    </tr>\n    <tr>\n      <th>4376</th>\n      <td>distserve</td>\n      <td>OPT-13B</td>\n      <td>decode</td>\n      <td>2.0</td>\n      <td>100.0</td>\n      <td>100.0</td>\n      <td>1</td>\n      <td>1</td>\n      <td>1</td>\n      <td>1</td>\n      <td>2</td>\n      <td>1.0</td>\n      <td>1.0</td>\n      <td>True</td>\n    </tr>\n    <tr>\n      <th>4377</th>\n      <td>distserve</td>\n      <td>OPT-13B</td>\n      <td>both</td>\n      <td>2.0</td>\n      <td>(200.0, 100.0)</td>\n      <td>91.6</td>\n      <td>1</td>\n      <td>1</td>\n      <td>1</td>\n      <td>1</td>\n      <td>2</td>\n      <td>1.0</td>\n      <td>1.0</td>\n      <td>True</td>\n    </tr>\n    <tr>\n      <th>4378</th>\n      <td>distserve</td>\n      <td>OPT-13B</td>\n      <td>prefill</td>\n      <td>2.0</td>\n      <td>80.0</td>\n      <td>40.9</td>\n      <td>1</td>\n      <td>1</td>\n      <td>1</td>\n      <td>1</td>\n      <td>2</td>\n      <td>1.0</td>\n      <td>0.0</td>\n      <td>True</td>\n    </tr>\n    <tr>\n      <th>4379</th>\n      <td>distserve</td>\n      <td>OPT-13B</td>\n      <td>decode</td>\n      <td>2.0</td>\n      <td>40.0</td>\n      <td>99.8</td>\n      <td>1</td>\n      <td>1</td>\n      <td>1</td>\n      <td>1</td>\n      <td>2</td>\n      <td>1.0</td>\n      <td>1.0</td>\n      <td>True</td>\n    </tr>\n    <tr>\n      <th>...</th>\n      <td>...</td>\n      <td>...</td>\n      <td>...</td>\n      <td>...</td>\n      <td>...</td>\n      <td>...</td>\n      <td>...</td>\n      <td>...</td>\n      <td>...</td>\n      <td>...</td>\n      <td>...</td>\n      <td>...</td>\n      <td>...</td>\n      <td>...</td>\n    </tr>\n    <tr>\n      <th>18270</th>\n      <td>vllm</td>\n      <td>OPT-13B</td>\n      <td>decode</td>\n      <td>160.0</td>\n      <td>650.4200146543143</td>\n      <td>95.0</td>\n      <td>4</td>\n      <td>8</td>\n      <td>0</td>\n      <td>0</td>\n      <td>32</td>\n      <td>5.0</td>\n      <td>5.0</td>\n      <td>True</td>\n    </tr>\n    <tr>\n      <th>18271</th>\n      <td>vllm</td>\n      <td>OPT-13B</td>\n      <td>prefill</td>\n      <td>160.0</td>\n      <td>417.6207726276993</td>\n      <td>98.0</td>\n      <td>4</td>\n      <td>8</td>\n      <td>0</td>\n      <td>0</td>\n      <td>32</td>\n      <td>5.0</td>\n      <td>5.0</td>\n      <td>True</td>\n    </tr>\n    <tr>\n      <th>18272</th>\n      <td>vllm</td>\n      <td>OPT-13B</td>\n      <td>decode</td>\n      <td>160.0</td>\n      <td>821.0808666193252</td>\n      <td>98.0</td>\n      <td>4</td>\n      <td>8</td>\n      <td>0</td>\n      <td>0</td>\n      <td>32</td>\n      <td>5.0</td>\n      <td>5.0</td>\n      <td>True</td>\n    </tr>\n    <tr>\n      <th>18273</th>\n      <td>vllm</td>\n      <td>OPT-13B</td>\n      <td>prefill</td>\n      <td>160.0</td>\n      <td>428.86314445900445</td>\n      <td>99.0</td>\n      <td>4</td>\n      <td>8</td>\n      <td>0</td>\n      <td>0</td>\n      <td>32</td>\n      <td>5.0</td>\n      <td>5.0</td>\n      <td>True</td>\n    </tr>\n    <tr>\n      <th>18274</th>\n      <td>vllm</td>\n      <td>OPT-13B</td>\n      <td>decode</td>\n      <td>160.0</td>\n      <td>901.5869860103143</td>\n      <td>99.0</td>\n      <td>4</td>\n      <td>8</td>\n      <td>0</td>\n      <td>0</td>\n      <td>32</td>\n      <td>5.0</td>\n      <td>5.0</td>\n      <td>True</td>\n    </tr>\n  </tbody>\n</table>\n<p>19375 rows × 14 columns</p>\n</div>"
     },
     "execution_count": 22,
     "metadata": {},
     "output_type": "execute_result"
    }
   ],
   "source": [
    "big_df.sort_values(by=['backend', 'per_gpu_rate', 'tp_prefill', 'pp_prefill', 'tp_decode', 'pp_decode'])"
   ],
   "metadata": {
    "collapsed": false,
    "ExecuteTime": {
     "end_time": "2024-04-21T00:01:23.397668Z",
     "start_time": "2024-04-21T00:01:23.382088Z"
    }
   },
   "id": "60850f3b183a849",
   "execution_count": 22
  },
  {
   "cell_type": "code",
   "outputs": [],
   "source": [
    "target = '(200.0, 100.0)'\n",
    "figure_11_left_df = big_df[\n",
    "    (big_df['pd'] == 'both')\n",
    "    & (big_df['target'] == target)\n",
    "    ].copy()\n",
    "\n",
    "figure_11_left_df = figure_11_left_df.sort_values(by=[\n",
    "    'backend', 'tp_prefill', 'pp_prefill', 'tp_decode', 'pp_decode',\n",
    "    'rate'\n",
    "])\n",
    "# Choose the config with the best goodput in each group\n",
    "figure_11_distserve_high = figure_11_left_df[\n",
    "    (figure_11_left_df['backend'] == 'distserve')\n",
    "]\n",
    "figure_11_distserve_low = figure_11_left_df[\n",
    "    (figure_11_left_df['backend'] == 'distserve')\n",
    "    & (figure_11_left_df['low_affin'])\n",
    "    ]\n",
    "figure_11_vllm_high = figure_11_left_df[\n",
    "    (figure_11_left_df['backend'] == 'vllm')\n",
    "]\n",
    "figure_11_vllm_low = figure_11_left_df[\n",
    "    (figure_11_left_df['backend'] == 'vllm')\n",
    "    & (figure_11_left_df['pp_prefill'] == 1)\n",
    "    ]\n"
   ],
   "metadata": {
    "collapsed": false,
    "ExecuteTime": {
     "end_time": "2024-04-21T00:01:23.412842Z",
     "start_time": "2024-04-21T00:01:23.401404Z"
    }
   },
   "id": "cbddcd857c4232f2",
   "execution_count": 23
  },
  {
   "cell_type": "code",
   "outputs": [],
   "source": [
    "def find_best_config(df):\n",
    "    # Filter the DataFrame to include only rows where goodput@90 > 0\n",
    "    filtered_df = df[df['goodput@90'] > 0]\n",
    "\n",
    "    # Group by the specified columns and find the row with the maximum 'rate' in each group\n",
    "    grouped_df = filtered_df.groupby(['tp_prefill', 'pp_prefill', 'tp_decode', 'pp_decode'])\n",
    "    max_rate_df = grouped_df['rate'].idxmax()\n",
    "\n",
    "    # Retrieve the rows with the maximum 'rate' from the original DataFrame using the indices\n",
    "    best_configs = df.loc[max_rate_df]\n",
    "\n",
    "    # Return the DataFrame containing the best configurations\n",
    "    # return best_configs[['tp_prefill', 'pp_prefill', 'tp_decode', 'pp_decode']]\n",
    "    return best_configs\n"
   ],
   "metadata": {
    "collapsed": false,
    "ExecuteTime": {
     "end_time": "2024-04-21T00:01:23.418425Z",
     "start_time": "2024-04-21T00:01:23.409377Z"
    }
   },
   "id": "43d2d01e891961f7",
   "execution_count": 24
  },
  {
   "cell_type": "code",
   "outputs": [
    {
     "data": {
      "text/plain": "         backend model_type    pd   rate          target  attainment  \\\n4377   distserve    OPT-13B  both    2.0  (200.0, 100.0)        91.6   \n9677   distserve    OPT-13B  both    4.0  (200.0, 100.0)        80.5   \n13052  distserve    OPT-13B  both    6.0  (200.0, 100.0)        68.3   \n15627  distserve    OPT-13B  both    8.0  (200.0, 100.0)        23.5   \n2      distserve    OPT-13B  both   10.0  (200.0, 100.0)        10.3   \n...          ...        ...   ...    ...             ...         ...   \n8577   distserve    OPT-13B  both   32.0  (200.0, 100.0)       100.0   \n14802  distserve    OPT-13B  both   64.0  (200.0, 100.0)        95.1   \n17852  distserve    OPT-13B  both   96.0  (200.0, 100.0)        53.7   \n2477   distserve    OPT-13B  both  128.0  (200.0, 100.0)         4.3   \n3502   distserve    OPT-13B  both  160.0  (200.0, 100.0)         3.7   \n\n       tp_prefill  pp_prefill  tp_decode  pp_decode  ngpu  per_gpu_rate  \\\n4377            1           1          1          1     2           1.0   \n9677            1           1          1          1     2           2.0   \n13052           1           1          1          1     2           3.0   \n15627           1           1          1          1     2           4.0   \n2               1           1          1          1     2           5.0   \n...           ...         ...        ...        ...   ...           ...   \n8577            4           4          8          2    32           1.0   \n14802           4           4          8          2    32           2.0   \n17852           4           4          8          2    32           3.0   \n2477            4           4          8          2    32           4.0   \n3502            4           4          8          2    32           5.0   \n\n       goodput@90  low_affin  \n4377          1.0       True  \n9677          0.0       True  \n13052         0.0       True  \n15627         0.0       True  \n2             0.0       True  \n...           ...        ...  \n8577          1.0      False  \n14802         2.0      False  \n17852         0.0      False  \n2477          0.0      False  \n3502          0.0      False  \n\n[715 rows x 14 columns]",
      "text/html": "<div>\n<style scoped>\n    .dataframe tbody tr th:only-of-type {\n        vertical-align: middle;\n    }\n\n    .dataframe tbody tr th {\n        vertical-align: top;\n    }\n\n    .dataframe thead th {\n        text-align: right;\n    }\n</style>\n<table border=\"1\" class=\"dataframe\">\n  <thead>\n    <tr style=\"text-align: right;\">\n      <th></th>\n      <th>backend</th>\n      <th>model_type</th>\n      <th>pd</th>\n      <th>rate</th>\n      <th>target</th>\n      <th>attainment</th>\n      <th>tp_prefill</th>\n      <th>pp_prefill</th>\n      <th>tp_decode</th>\n      <th>pp_decode</th>\n      <th>ngpu</th>\n      <th>per_gpu_rate</th>\n      <th>goodput@90</th>\n      <th>low_affin</th>\n    </tr>\n  </thead>\n  <tbody>\n    <tr>\n      <th>4377</th>\n      <td>distserve</td>\n      <td>OPT-13B</td>\n      <td>both</td>\n      <td>2.0</td>\n      <td>(200.0, 100.0)</td>\n      <td>91.6</td>\n      <td>1</td>\n      <td>1</td>\n      <td>1</td>\n      <td>1</td>\n      <td>2</td>\n      <td>1.0</td>\n      <td>1.0</td>\n      <td>True</td>\n    </tr>\n    <tr>\n      <th>9677</th>\n      <td>distserve</td>\n      <td>OPT-13B</td>\n      <td>both</td>\n      <td>4.0</td>\n      <td>(200.0, 100.0)</td>\n      <td>80.5</td>\n      <td>1</td>\n      <td>1</td>\n      <td>1</td>\n      <td>1</td>\n      <td>2</td>\n      <td>2.0</td>\n      <td>0.0</td>\n      <td>True</td>\n    </tr>\n    <tr>\n      <th>13052</th>\n      <td>distserve</td>\n      <td>OPT-13B</td>\n      <td>both</td>\n      <td>6.0</td>\n      <td>(200.0, 100.0)</td>\n      <td>68.3</td>\n      <td>1</td>\n      <td>1</td>\n      <td>1</td>\n      <td>1</td>\n      <td>2</td>\n      <td>3.0</td>\n      <td>0.0</td>\n      <td>True</td>\n    </tr>\n    <tr>\n      <th>15627</th>\n      <td>distserve</td>\n      <td>OPT-13B</td>\n      <td>both</td>\n      <td>8.0</td>\n      <td>(200.0, 100.0)</td>\n      <td>23.5</td>\n      <td>1</td>\n      <td>1</td>\n      <td>1</td>\n      <td>1</td>\n      <td>2</td>\n      <td>4.0</td>\n      <td>0.0</td>\n      <td>True</td>\n    </tr>\n    <tr>\n      <th>2</th>\n      <td>distserve</td>\n      <td>OPT-13B</td>\n      <td>both</td>\n      <td>10.0</td>\n      <td>(200.0, 100.0)</td>\n      <td>10.3</td>\n      <td>1</td>\n      <td>1</td>\n      <td>1</td>\n      <td>1</td>\n      <td>2</td>\n      <td>5.0</td>\n      <td>0.0</td>\n      <td>True</td>\n    </tr>\n    <tr>\n      <th>...</th>\n      <td>...</td>\n      <td>...</td>\n      <td>...</td>\n      <td>...</td>\n      <td>...</td>\n      <td>...</td>\n      <td>...</td>\n      <td>...</td>\n      <td>...</td>\n      <td>...</td>\n      <td>...</td>\n      <td>...</td>\n      <td>...</td>\n      <td>...</td>\n    </tr>\n    <tr>\n      <th>8577</th>\n      <td>distserve</td>\n      <td>OPT-13B</td>\n      <td>both</td>\n      <td>32.0</td>\n      <td>(200.0, 100.0)</td>\n      <td>100.0</td>\n      <td>4</td>\n      <td>4</td>\n      <td>8</td>\n      <td>2</td>\n      <td>32</td>\n      <td>1.0</td>\n      <td>1.0</td>\n      <td>False</td>\n    </tr>\n    <tr>\n      <th>14802</th>\n      <td>distserve</td>\n      <td>OPT-13B</td>\n      <td>both</td>\n      <td>64.0</td>\n      <td>(200.0, 100.0)</td>\n      <td>95.1</td>\n      <td>4</td>\n      <td>4</td>\n      <td>8</td>\n      <td>2</td>\n      <td>32</td>\n      <td>2.0</td>\n      <td>2.0</td>\n      <td>False</td>\n    </tr>\n    <tr>\n      <th>17852</th>\n      <td>distserve</td>\n      <td>OPT-13B</td>\n      <td>both</td>\n      <td>96.0</td>\n      <td>(200.0, 100.0)</td>\n      <td>53.7</td>\n      <td>4</td>\n      <td>4</td>\n      <td>8</td>\n      <td>2</td>\n      <td>32</td>\n      <td>3.0</td>\n      <td>0.0</td>\n      <td>False</td>\n    </tr>\n    <tr>\n      <th>2477</th>\n      <td>distserve</td>\n      <td>OPT-13B</td>\n      <td>both</td>\n      <td>128.0</td>\n      <td>(200.0, 100.0)</td>\n      <td>4.3</td>\n      <td>4</td>\n      <td>4</td>\n      <td>8</td>\n      <td>2</td>\n      <td>32</td>\n      <td>4.0</td>\n      <td>0.0</td>\n      <td>False</td>\n    </tr>\n    <tr>\n      <th>3502</th>\n      <td>distserve</td>\n      <td>OPT-13B</td>\n      <td>both</td>\n      <td>160.0</td>\n      <td>(200.0, 100.0)</td>\n      <td>3.7</td>\n      <td>4</td>\n      <td>4</td>\n      <td>8</td>\n      <td>2</td>\n      <td>32</td>\n      <td>5.0</td>\n      <td>0.0</td>\n      <td>False</td>\n    </tr>\n  </tbody>\n</table>\n<p>715 rows × 14 columns</p>\n</div>"
     },
     "execution_count": 25,
     "metadata": {},
     "output_type": "execute_result"
    }
   ],
   "source": [
    "figure_11_distserve_high"
   ],
   "metadata": {
    "collapsed": false,
    "ExecuteTime": {
     "end_time": "2024-04-21T00:01:23.434779Z",
     "start_time": "2024-04-21T00:01:23.412915Z"
    }
   },
   "id": "eefd058d2a113f3b",
   "execution_count": 25
  },
  {
   "cell_type": "code",
   "outputs": [
    {
     "data": {
      "text/plain": "         backend model_type    pd   rate          target  attainment  \\\n4377   distserve    OPT-13B  both    2.0  (200.0, 100.0)        91.6   \n9677   distserve    OPT-13B  both    4.0  (200.0, 100.0)        80.5   \n13052  distserve    OPT-13B  both    6.0  (200.0, 100.0)        68.3   \n15627  distserve    OPT-13B  both    8.0  (200.0, 100.0)        23.5   \n2      distserve    OPT-13B  both   10.0  (200.0, 100.0)        10.3   \n...          ...        ...   ...    ...             ...         ...   \n8552   distserve    OPT-13B  both   32.0  (200.0, 100.0)       100.0   \n14777  distserve    OPT-13B  both   64.0  (200.0, 100.0)        95.1   \n17802  distserve    OPT-13B  both   96.0  (200.0, 100.0)        53.7   \n2452   distserve    OPT-13B  both  128.0  (200.0, 100.0)         4.3   \n3477   distserve    OPT-13B  both  160.0  (200.0, 100.0)         3.7   \n\n       tp_prefill  pp_prefill  tp_decode  pp_decode  ngpu  per_gpu_rate  \\\n4377            1           1          1          1     2           1.0   \n9677            1           1          1          1     2           2.0   \n13052           1           1          1          1     2           3.0   \n15627           1           1          1          1     2           4.0   \n2               1           1          1          1     2           5.0   \n...           ...         ...        ...        ...   ...           ...   \n8552            4           4          4          4    32           1.0   \n14777           4           4          4          4    32           2.0   \n17802           4           4          4          4    32           3.0   \n2452            4           4          4          4    32           4.0   \n3477            4           4          4          4    32           5.0   \n\n       goodput@90  low_affin  \n4377          1.0       True  \n9677          0.0       True  \n13052         0.0       True  \n15627         0.0       True  \n2             0.0       True  \n...           ...        ...  \n8552          1.0       True  \n14777         2.0       True  \n17802         0.0       True  \n2452          0.0       True  \n3477          0.0       True  \n\n[395 rows x 14 columns]",
      "text/html": "<div>\n<style scoped>\n    .dataframe tbody tr th:only-of-type {\n        vertical-align: middle;\n    }\n\n    .dataframe tbody tr th {\n        vertical-align: top;\n    }\n\n    .dataframe thead th {\n        text-align: right;\n    }\n</style>\n<table border=\"1\" class=\"dataframe\">\n  <thead>\n    <tr style=\"text-align: right;\">\n      <th></th>\n      <th>backend</th>\n      <th>model_type</th>\n      <th>pd</th>\n      <th>rate</th>\n      <th>target</th>\n      <th>attainment</th>\n      <th>tp_prefill</th>\n      <th>pp_prefill</th>\n      <th>tp_decode</th>\n      <th>pp_decode</th>\n      <th>ngpu</th>\n      <th>per_gpu_rate</th>\n      <th>goodput@90</th>\n      <th>low_affin</th>\n    </tr>\n  </thead>\n  <tbody>\n    <tr>\n      <th>4377</th>\n      <td>distserve</td>\n      <td>OPT-13B</td>\n      <td>both</td>\n      <td>2.0</td>\n      <td>(200.0, 100.0)</td>\n      <td>91.6</td>\n      <td>1</td>\n      <td>1</td>\n      <td>1</td>\n      <td>1</td>\n      <td>2</td>\n      <td>1.0</td>\n      <td>1.0</td>\n      <td>True</td>\n    </tr>\n    <tr>\n      <th>9677</th>\n      <td>distserve</td>\n      <td>OPT-13B</td>\n      <td>both</td>\n      <td>4.0</td>\n      <td>(200.0, 100.0)</td>\n      <td>80.5</td>\n      <td>1</td>\n      <td>1</td>\n      <td>1</td>\n      <td>1</td>\n      <td>2</td>\n      <td>2.0</td>\n      <td>0.0</td>\n      <td>True</td>\n    </tr>\n    <tr>\n      <th>13052</th>\n      <td>distserve</td>\n      <td>OPT-13B</td>\n      <td>both</td>\n      <td>6.0</td>\n      <td>(200.0, 100.0)</td>\n      <td>68.3</td>\n      <td>1</td>\n      <td>1</td>\n      <td>1</td>\n      <td>1</td>\n      <td>2</td>\n      <td>3.0</td>\n      <td>0.0</td>\n      <td>True</td>\n    </tr>\n    <tr>\n      <th>15627</th>\n      <td>distserve</td>\n      <td>OPT-13B</td>\n      <td>both</td>\n      <td>8.0</td>\n      <td>(200.0, 100.0)</td>\n      <td>23.5</td>\n      <td>1</td>\n      <td>1</td>\n      <td>1</td>\n      <td>1</td>\n      <td>2</td>\n      <td>4.0</td>\n      <td>0.0</td>\n      <td>True</td>\n    </tr>\n    <tr>\n      <th>2</th>\n      <td>distserve</td>\n      <td>OPT-13B</td>\n      <td>both</td>\n      <td>10.0</td>\n      <td>(200.0, 100.0)</td>\n      <td>10.3</td>\n      <td>1</td>\n      <td>1</td>\n      <td>1</td>\n      <td>1</td>\n      <td>2</td>\n      <td>5.0</td>\n      <td>0.0</td>\n      <td>True</td>\n    </tr>\n    <tr>\n      <th>...</th>\n      <td>...</td>\n      <td>...</td>\n      <td>...</td>\n      <td>...</td>\n      <td>...</td>\n      <td>...</td>\n      <td>...</td>\n      <td>...</td>\n      <td>...</td>\n      <td>...</td>\n      <td>...</td>\n      <td>...</td>\n      <td>...</td>\n      <td>...</td>\n    </tr>\n    <tr>\n      <th>8552</th>\n      <td>distserve</td>\n      <td>OPT-13B</td>\n      <td>both</td>\n      <td>32.0</td>\n      <td>(200.0, 100.0)</td>\n      <td>100.0</td>\n      <td>4</td>\n      <td>4</td>\n      <td>4</td>\n      <td>4</td>\n      <td>32</td>\n      <td>1.0</td>\n      <td>1.0</td>\n      <td>True</td>\n    </tr>\n    <tr>\n      <th>14777</th>\n      <td>distserve</td>\n      <td>OPT-13B</td>\n      <td>both</td>\n      <td>64.0</td>\n      <td>(200.0, 100.0)</td>\n      <td>95.1</td>\n      <td>4</td>\n      <td>4</td>\n      <td>4</td>\n      <td>4</td>\n      <td>32</td>\n      <td>2.0</td>\n      <td>2.0</td>\n      <td>True</td>\n    </tr>\n    <tr>\n      <th>17802</th>\n      <td>distserve</td>\n      <td>OPT-13B</td>\n      <td>both</td>\n      <td>96.0</td>\n      <td>(200.0, 100.0)</td>\n      <td>53.7</td>\n      <td>4</td>\n      <td>4</td>\n      <td>4</td>\n      <td>4</td>\n      <td>32</td>\n      <td>3.0</td>\n      <td>0.0</td>\n      <td>True</td>\n    </tr>\n    <tr>\n      <th>2452</th>\n      <td>distserve</td>\n      <td>OPT-13B</td>\n      <td>both</td>\n      <td>128.0</td>\n      <td>(200.0, 100.0)</td>\n      <td>4.3</td>\n      <td>4</td>\n      <td>4</td>\n      <td>4</td>\n      <td>4</td>\n      <td>32</td>\n      <td>4.0</td>\n      <td>0.0</td>\n      <td>True</td>\n    </tr>\n    <tr>\n      <th>3477</th>\n      <td>distserve</td>\n      <td>OPT-13B</td>\n      <td>both</td>\n      <td>160.0</td>\n      <td>(200.0, 100.0)</td>\n      <td>3.7</td>\n      <td>4</td>\n      <td>4</td>\n      <td>4</td>\n      <td>4</td>\n      <td>32</td>\n      <td>5.0</td>\n      <td>0.0</td>\n      <td>True</td>\n    </tr>\n  </tbody>\n</table>\n<p>395 rows × 14 columns</p>\n</div>"
     },
     "execution_count": 26,
     "metadata": {},
     "output_type": "execute_result"
    }
   ],
   "source": [
    "figure_11_distserve_low"
   ],
   "metadata": {
    "collapsed": false,
    "ExecuteTime": {
     "end_time": "2024-04-21T00:01:23.436924Z",
     "start_time": "2024-04-21T00:01:23.430839Z"
    }
   },
   "id": "919167a14ff23dc2",
   "execution_count": 26
  },
  {
   "cell_type": "code",
   "outputs": [
    {
     "data": {
      "text/plain": "      backend model_type    pd   rate          target  attainment  tp_prefill  \\\n17877    vllm    OPT-13B  both    1.0  (200.0, 100.0)        91.3           1   \n18277    vllm    OPT-13B  both    2.0  (200.0, 100.0)        86.0           1   \n18502    vllm    OPT-13B  both    3.0  (200.0, 100.0)        79.3           1   \n18677    vllm    OPT-13B  both    4.0  (200.0, 100.0)        25.9           1   \n18952    vllm    OPT-13B  both    5.0  (200.0, 100.0)         9.4           1   \n18302    vllm    OPT-13B  both    2.0  (200.0, 100.0)        92.7           1   \n18702    vllm    OPT-13B  both    4.0  (200.0, 100.0)        86.2           1   \n18977    vllm    OPT-13B  both    6.0  (200.0, 100.0)        18.3           1   \n19102    vllm    OPT-13B  both    8.0  (200.0, 100.0)         8.1           1   \n17902    vllm    OPT-13B  both   10.0  (200.0, 100.0)         3.6           1   \n18727    vllm    OPT-13B  both    4.0  (200.0, 100.0)        84.1           1   \n19127    vllm    OPT-13B  both    8.0  (200.0, 100.0)         9.6           1   \n17952    vllm    OPT-13B  both   12.0  (200.0, 100.0)         3.1           1   \n18052    vllm    OPT-13B  both   16.0  (200.0, 100.0)         1.6           1   \n18352    vllm    OPT-13B  both   20.0  (200.0, 100.0)         0.4           1   \n19152    vllm    OPT-13B  both    8.0  (200.0, 100.0)         0.3           1   \n18077    vllm    OPT-13B  both   16.0  (200.0, 100.0)         0.0           1   \n18427    vllm    OPT-13B  both   24.0  (200.0, 100.0)         0.0           1   \n18527    vllm    OPT-13B  both   32.0  (200.0, 100.0)         0.0           1   \n18827    vllm    OPT-13B  both   40.0  (200.0, 100.0)         0.0           1   \n18327    vllm    OPT-13B  both    2.0  (200.0, 100.0)        99.0           2   \n18752    vllm    OPT-13B  both    4.0  (200.0, 100.0)        95.8           2   \n19002    vllm    OPT-13B  both    6.0  (200.0, 100.0)        87.2           2   \n19177    vllm    OPT-13B  both    8.0  (200.0, 100.0)        25.8           2   \n17927    vllm    OPT-13B  both   10.0  (200.0, 100.0)        11.3           2   \n18777    vllm    OPT-13B  both    4.0  (200.0, 100.0)        99.3           2   \n19202    vllm    OPT-13B  both    8.0  (200.0, 100.0)        96.1           2   \n17977    vllm    OPT-13B  both   12.0  (200.0, 100.0)        33.7           2   \n18102    vllm    OPT-13B  both   16.0  (200.0, 100.0)        12.2           2   \n18377    vllm    OPT-13B  both   20.0  (200.0, 100.0)         4.9           2   \n19227    vllm    OPT-13B  both    8.0  (200.0, 100.0)        99.1           2   \n18127    vllm    OPT-13B  both   16.0  (200.0, 100.0)        25.9           2   \n18452    vllm    OPT-13B  both   24.0  (200.0, 100.0)         5.0           2   \n18552    vllm    OPT-13B  both   32.0  (200.0, 100.0)         1.6           2   \n18852    vllm    OPT-13B  both   40.0  (200.0, 100.0)         0.6           2   \n18152    vllm    OPT-13B  both   16.0  (200.0, 100.0)         0.1           2   \n18577    vllm    OPT-13B  both   32.0  (200.0, 100.0)         0.0           2   \n18902    vllm    OPT-13B  both   48.0  (200.0, 100.0)         0.0           2   \n19027    vllm    OPT-13B  both   64.0  (200.0, 100.0)         0.0           2   \n19302    vllm    OPT-13B  both   80.0  (200.0, 100.0)         0.0           2   \n18802    vllm    OPT-13B  both    4.0  (200.0, 100.0)       100.0           4   \n19252    vllm    OPT-13B  both    8.0  (200.0, 100.0)        99.8           4   \n18002    vllm    OPT-13B  both   12.0  (200.0, 100.0)        96.5           4   \n18177    vllm    OPT-13B  both   16.0  (200.0, 100.0)        50.6           4   \n18402    vllm    OPT-13B  both   20.0  (200.0, 100.0)        24.9           4   \n19277    vllm    OPT-13B  both    8.0  (200.0, 100.0)       100.0           4   \n18202    vllm    OPT-13B  both   16.0  (200.0, 100.0)        99.8           4   \n18477    vllm    OPT-13B  both   24.0  (200.0, 100.0)        84.7           4   \n18602    vllm    OPT-13B  both   32.0  (200.0, 100.0)        42.0           4   \n18877    vllm    OPT-13B  both   40.0  (200.0, 100.0)        22.3           4   \n18227    vllm    OPT-13B  both   16.0  (200.0, 100.0)       100.0           4   \n18627    vllm    OPT-13B  both   32.0  (200.0, 100.0)        81.5           4   \n18927    vllm    OPT-13B  both   48.0  (200.0, 100.0)        29.2           4   \n19052    vllm    OPT-13B  both   64.0  (200.0, 100.0)        15.2           4   \n19327    vllm    OPT-13B  both   80.0  (200.0, 100.0)        10.9           4   \n18652    vllm    OPT-13B  both   32.0  (200.0, 100.0)         0.1           4   \n19077    vllm    OPT-13B  both   64.0  (200.0, 100.0)         0.2           4   \n19352    vllm    OPT-13B  both   96.0  (200.0, 100.0)         0.1           4   \n18027    vllm    OPT-13B  both  128.0  (200.0, 100.0)         0.0           4   \n18252    vllm    OPT-13B  both  160.0  (200.0, 100.0)         0.0           4   \n\n       pp_prefill  tp_decode  pp_decode  ngpu  per_gpu_rate  goodput@90  \\\n17877           1          0          0     1           1.0         1.0   \n18277           1          0          0     1           2.0         0.0   \n18502           1          0          0     1           3.0         0.0   \n18677           1          0          0     1           4.0         0.0   \n18952           1          0          0     1           5.0         0.0   \n18302           2          0          0     2           1.0         1.0   \n18702           2          0          0     2           2.0         0.0   \n18977           2          0          0     2           3.0         0.0   \n19102           2          0          0     2           4.0         0.0   \n17902           2          0          0     2           5.0         0.0   \n18727           4          0          0     4           1.0         0.0   \n19127           4          0          0     4           2.0         0.0   \n17952           4          0          0     4           3.0         0.0   \n18052           4          0          0     4           4.0         0.0   \n18352           4          0          0     4           5.0         0.0   \n19152           8          0          0     8           1.0         0.0   \n18077           8          0          0     8           2.0         0.0   \n18427           8          0          0     8           3.0         0.0   \n18527           8          0          0     8           4.0         0.0   \n18827           8          0          0     8           5.0         0.0   \n18327           1          0          0     2           1.0         1.0   \n18752           1          0          0     2           2.0         2.0   \n19002           1          0          0     2           3.0         0.0   \n19177           1          0          0     2           4.0         0.0   \n17927           1          0          0     2           5.0         0.0   \n18777           2          0          0     4           1.0         1.0   \n19202           2          0          0     4           2.0         2.0   \n17977           2          0          0     4           3.0         0.0   \n18102           2          0          0     4           4.0         0.0   \n18377           2          0          0     4           5.0         0.0   \n19227           4          0          0     8           1.0         1.0   \n18127           4          0          0     8           2.0         0.0   \n18452           4          0          0     8           3.0         0.0   \n18552           4          0          0     8           4.0         0.0   \n18852           4          0          0     8           5.0         0.0   \n18152           8          0          0    16           1.0         0.0   \n18577           8          0          0    16           2.0         0.0   \n18902           8          0          0    16           3.0         0.0   \n19027           8          0          0    16           4.0         0.0   \n19302           8          0          0    16           5.0         0.0   \n18802           1          0          0     4           1.0         1.0   \n19252           1          0          0     4           2.0         2.0   \n18002           1          0          0     4           3.0         3.0   \n18177           1          0          0     4           4.0         0.0   \n18402           1          0          0     4           5.0         0.0   \n19277           2          0          0     8           1.0         1.0   \n18202           2          0          0     8           2.0         2.0   \n18477           2          0          0     8           3.0         0.0   \n18602           2          0          0     8           4.0         0.0   \n18877           2          0          0     8           5.0         0.0   \n18227           4          0          0    16           1.0         1.0   \n18627           4          0          0    16           2.0         0.0   \n18927           4          0          0    16           3.0         0.0   \n19052           4          0          0    16           4.0         0.0   \n19327           4          0          0    16           5.0         0.0   \n18652           8          0          0    32           1.0         0.0   \n19077           8          0          0    32           2.0         0.0   \n19352           8          0          0    32           3.0         0.0   \n18027           8          0          0    32           4.0         0.0   \n18252           8          0          0    32           5.0         0.0   \n\n       low_affin  \n17877       True  \n18277       True  \n18502       True  \n18677       True  \n18952       True  \n18302       True  \n18702       True  \n18977       True  \n19102       True  \n17902       True  \n18727       True  \n19127       True  \n17952       True  \n18052       True  \n18352       True  \n19152       True  \n18077       True  \n18427       True  \n18527       True  \n18827       True  \n18327       True  \n18752       True  \n19002       True  \n19177       True  \n17927       True  \n18777       True  \n19202       True  \n17977       True  \n18102       True  \n18377       True  \n19227       True  \n18127       True  \n18452       True  \n18552       True  \n18852       True  \n18152       True  \n18577       True  \n18902       True  \n19027       True  \n19302       True  \n18802       True  \n19252       True  \n18002       True  \n18177       True  \n18402       True  \n19277       True  \n18202       True  \n18477       True  \n18602       True  \n18877       True  \n18227       True  \n18627       True  \n18927       True  \n19052       True  \n19327       True  \n18652       True  \n19077       True  \n19352       True  \n18027       True  \n18252       True  ",
      "text/html": "<div>\n<style scoped>\n    .dataframe tbody tr th:only-of-type {\n        vertical-align: middle;\n    }\n\n    .dataframe tbody tr th {\n        vertical-align: top;\n    }\n\n    .dataframe thead th {\n        text-align: right;\n    }\n</style>\n<table border=\"1\" class=\"dataframe\">\n  <thead>\n    <tr style=\"text-align: right;\">\n      <th></th>\n      <th>backend</th>\n      <th>model_type</th>\n      <th>pd</th>\n      <th>rate</th>\n      <th>target</th>\n      <th>attainment</th>\n      <th>tp_prefill</th>\n      <th>pp_prefill</th>\n      <th>tp_decode</th>\n      <th>pp_decode</th>\n      <th>ngpu</th>\n      <th>per_gpu_rate</th>\n      <th>goodput@90</th>\n      <th>low_affin</th>\n    </tr>\n  </thead>\n  <tbody>\n    <tr>\n      <th>17877</th>\n      <td>vllm</td>\n      <td>OPT-13B</td>\n      <td>both</td>\n      <td>1.0</td>\n      <td>(200.0, 100.0)</td>\n      <td>91.3</td>\n      <td>1</td>\n      <td>1</td>\n      <td>0</td>\n      <td>0</td>\n      <td>1</td>\n      <td>1.0</td>\n      <td>1.0</td>\n      <td>True</td>\n    </tr>\n    <tr>\n      <th>18277</th>\n      <td>vllm</td>\n      <td>OPT-13B</td>\n      <td>both</td>\n      <td>2.0</td>\n      <td>(200.0, 100.0)</td>\n      <td>86.0</td>\n      <td>1</td>\n      <td>1</td>\n      <td>0</td>\n      <td>0</td>\n      <td>1</td>\n      <td>2.0</td>\n      <td>0.0</td>\n      <td>True</td>\n    </tr>\n    <tr>\n      <th>18502</th>\n      <td>vllm</td>\n      <td>OPT-13B</td>\n      <td>both</td>\n      <td>3.0</td>\n      <td>(200.0, 100.0)</td>\n      <td>79.3</td>\n      <td>1</td>\n      <td>1</td>\n      <td>0</td>\n      <td>0</td>\n      <td>1</td>\n      <td>3.0</td>\n      <td>0.0</td>\n      <td>True</td>\n    </tr>\n    <tr>\n      <th>18677</th>\n      <td>vllm</td>\n      <td>OPT-13B</td>\n      <td>both</td>\n      <td>4.0</td>\n      <td>(200.0, 100.0)</td>\n      <td>25.9</td>\n      <td>1</td>\n      <td>1</td>\n      <td>0</td>\n      <td>0</td>\n      <td>1</td>\n      <td>4.0</td>\n      <td>0.0</td>\n      <td>True</td>\n    </tr>\n    <tr>\n      <th>18952</th>\n      <td>vllm</td>\n      <td>OPT-13B</td>\n      <td>both</td>\n      <td>5.0</td>\n      <td>(200.0, 100.0)</td>\n      <td>9.4</td>\n      <td>1</td>\n      <td>1</td>\n      <td>0</td>\n      <td>0</td>\n      <td>1</td>\n      <td>5.0</td>\n      <td>0.0</td>\n      <td>True</td>\n    </tr>\n    <tr>\n      <th>18302</th>\n      <td>vllm</td>\n      <td>OPT-13B</td>\n      <td>both</td>\n      <td>2.0</td>\n      <td>(200.0, 100.0)</td>\n      <td>92.7</td>\n      <td>1</td>\n      <td>2</td>\n      <td>0</td>\n      <td>0</td>\n      <td>2</td>\n      <td>1.0</td>\n      <td>1.0</td>\n      <td>True</td>\n    </tr>\n    <tr>\n      <th>18702</th>\n      <td>vllm</td>\n      <td>OPT-13B</td>\n      <td>both</td>\n      <td>4.0</td>\n      <td>(200.0, 100.0)</td>\n      <td>86.2</td>\n      <td>1</td>\n      <td>2</td>\n      <td>0</td>\n      <td>0</td>\n      <td>2</td>\n      <td>2.0</td>\n      <td>0.0</td>\n      <td>True</td>\n    </tr>\n    <tr>\n      <th>18977</th>\n      <td>vllm</td>\n      <td>OPT-13B</td>\n      <td>both</td>\n      <td>6.0</td>\n      <td>(200.0, 100.0)</td>\n      <td>18.3</td>\n      <td>1</td>\n      <td>2</td>\n      <td>0</td>\n      <td>0</td>\n      <td>2</td>\n      <td>3.0</td>\n      <td>0.0</td>\n      <td>True</td>\n    </tr>\n    <tr>\n      <th>19102</th>\n      <td>vllm</td>\n      <td>OPT-13B</td>\n      <td>both</td>\n      <td>8.0</td>\n      <td>(200.0, 100.0)</td>\n      <td>8.1</td>\n      <td>1</td>\n      <td>2</td>\n      <td>0</td>\n      <td>0</td>\n      <td>2</td>\n      <td>4.0</td>\n      <td>0.0</td>\n      <td>True</td>\n    </tr>\n    <tr>\n      <th>17902</th>\n      <td>vllm</td>\n      <td>OPT-13B</td>\n      <td>both</td>\n      <td>10.0</td>\n      <td>(200.0, 100.0)</td>\n      <td>3.6</td>\n      <td>1</td>\n      <td>2</td>\n      <td>0</td>\n      <td>0</td>\n      <td>2</td>\n      <td>5.0</td>\n      <td>0.0</td>\n      <td>True</td>\n    </tr>\n    <tr>\n      <th>18727</th>\n      <td>vllm</td>\n      <td>OPT-13B</td>\n      <td>both</td>\n      <td>4.0</td>\n      <td>(200.0, 100.0)</td>\n      <td>84.1</td>\n      <td>1</td>\n      <td>4</td>\n      <td>0</td>\n      <td>0</td>\n      <td>4</td>\n      <td>1.0</td>\n      <td>0.0</td>\n      <td>True</td>\n    </tr>\n    <tr>\n      <th>19127</th>\n      <td>vllm</td>\n      <td>OPT-13B</td>\n      <td>both</td>\n      <td>8.0</td>\n      <td>(200.0, 100.0)</td>\n      <td>9.6</td>\n      <td>1</td>\n      <td>4</td>\n      <td>0</td>\n      <td>0</td>\n      <td>4</td>\n      <td>2.0</td>\n      <td>0.0</td>\n      <td>True</td>\n    </tr>\n    <tr>\n      <th>17952</th>\n      <td>vllm</td>\n      <td>OPT-13B</td>\n      <td>both</td>\n      <td>12.0</td>\n      <td>(200.0, 100.0)</td>\n      <td>3.1</td>\n      <td>1</td>\n      <td>4</td>\n      <td>0</td>\n      <td>0</td>\n      <td>4</td>\n      <td>3.0</td>\n      <td>0.0</td>\n      <td>True</td>\n    </tr>\n    <tr>\n      <th>18052</th>\n      <td>vllm</td>\n      <td>OPT-13B</td>\n      <td>both</td>\n      <td>16.0</td>\n      <td>(200.0, 100.0)</td>\n      <td>1.6</td>\n      <td>1</td>\n      <td>4</td>\n      <td>0</td>\n      <td>0</td>\n      <td>4</td>\n      <td>4.0</td>\n      <td>0.0</td>\n      <td>True</td>\n    </tr>\n    <tr>\n      <th>18352</th>\n      <td>vllm</td>\n      <td>OPT-13B</td>\n      <td>both</td>\n      <td>20.0</td>\n      <td>(200.0, 100.0)</td>\n      <td>0.4</td>\n      <td>1</td>\n      <td>4</td>\n      <td>0</td>\n      <td>0</td>\n      <td>4</td>\n      <td>5.0</td>\n      <td>0.0</td>\n      <td>True</td>\n    </tr>\n    <tr>\n      <th>19152</th>\n      <td>vllm</td>\n      <td>OPT-13B</td>\n      <td>both</td>\n      <td>8.0</td>\n      <td>(200.0, 100.0)</td>\n      <td>0.3</td>\n      <td>1</td>\n      <td>8</td>\n      <td>0</td>\n      <td>0</td>\n      <td>8</td>\n      <td>1.0</td>\n      <td>0.0</td>\n      <td>True</td>\n    </tr>\n    <tr>\n      <th>18077</th>\n      <td>vllm</td>\n      <td>OPT-13B</td>\n      <td>both</td>\n      <td>16.0</td>\n      <td>(200.0, 100.0)</td>\n      <td>0.0</td>\n      <td>1</td>\n      <td>8</td>\n      <td>0</td>\n      <td>0</td>\n      <td>8</td>\n      <td>2.0</td>\n      <td>0.0</td>\n      <td>True</td>\n    </tr>\n    <tr>\n      <th>18427</th>\n      <td>vllm</td>\n      <td>OPT-13B</td>\n      <td>both</td>\n      <td>24.0</td>\n      <td>(200.0, 100.0)</td>\n      <td>0.0</td>\n      <td>1</td>\n      <td>8</td>\n      <td>0</td>\n      <td>0</td>\n      <td>8</td>\n      <td>3.0</td>\n      <td>0.0</td>\n      <td>True</td>\n    </tr>\n    <tr>\n      <th>18527</th>\n      <td>vllm</td>\n      <td>OPT-13B</td>\n      <td>both</td>\n      <td>32.0</td>\n      <td>(200.0, 100.0)</td>\n      <td>0.0</td>\n      <td>1</td>\n      <td>8</td>\n      <td>0</td>\n      <td>0</td>\n      <td>8</td>\n      <td>4.0</td>\n      <td>0.0</td>\n      <td>True</td>\n    </tr>\n    <tr>\n      <th>18827</th>\n      <td>vllm</td>\n      <td>OPT-13B</td>\n      <td>both</td>\n      <td>40.0</td>\n      <td>(200.0, 100.0)</td>\n      <td>0.0</td>\n      <td>1</td>\n      <td>8</td>\n      <td>0</td>\n      <td>0</td>\n      <td>8</td>\n      <td>5.0</td>\n      <td>0.0</td>\n      <td>True</td>\n    </tr>\n    <tr>\n      <th>18327</th>\n      <td>vllm</td>\n      <td>OPT-13B</td>\n      <td>both</td>\n      <td>2.0</td>\n      <td>(200.0, 100.0)</td>\n      <td>99.0</td>\n      <td>2</td>\n      <td>1</td>\n      <td>0</td>\n      <td>0</td>\n      <td>2</td>\n      <td>1.0</td>\n      <td>1.0</td>\n      <td>True</td>\n    </tr>\n    <tr>\n      <th>18752</th>\n      <td>vllm</td>\n      <td>OPT-13B</td>\n      <td>both</td>\n      <td>4.0</td>\n      <td>(200.0, 100.0)</td>\n      <td>95.8</td>\n      <td>2</td>\n      <td>1</td>\n      <td>0</td>\n      <td>0</td>\n      <td>2</td>\n      <td>2.0</td>\n      <td>2.0</td>\n      <td>True</td>\n    </tr>\n    <tr>\n      <th>19002</th>\n      <td>vllm</td>\n      <td>OPT-13B</td>\n      <td>both</td>\n      <td>6.0</td>\n      <td>(200.0, 100.0)</td>\n      <td>87.2</td>\n      <td>2</td>\n      <td>1</td>\n      <td>0</td>\n      <td>0</td>\n      <td>2</td>\n      <td>3.0</td>\n      <td>0.0</td>\n      <td>True</td>\n    </tr>\n    <tr>\n      <th>19177</th>\n      <td>vllm</td>\n      <td>OPT-13B</td>\n      <td>both</td>\n      <td>8.0</td>\n      <td>(200.0, 100.0)</td>\n      <td>25.8</td>\n      <td>2</td>\n      <td>1</td>\n      <td>0</td>\n      <td>0</td>\n      <td>2</td>\n      <td>4.0</td>\n      <td>0.0</td>\n      <td>True</td>\n    </tr>\n    <tr>\n      <th>17927</th>\n      <td>vllm</td>\n      <td>OPT-13B</td>\n      <td>both</td>\n      <td>10.0</td>\n      <td>(200.0, 100.0)</td>\n      <td>11.3</td>\n      <td>2</td>\n      <td>1</td>\n      <td>0</td>\n      <td>0</td>\n      <td>2</td>\n      <td>5.0</td>\n      <td>0.0</td>\n      <td>True</td>\n    </tr>\n    <tr>\n      <th>18777</th>\n      <td>vllm</td>\n      <td>OPT-13B</td>\n      <td>both</td>\n      <td>4.0</td>\n      <td>(200.0, 100.0)</td>\n      <td>99.3</td>\n      <td>2</td>\n      <td>2</td>\n      <td>0</td>\n      <td>0</td>\n      <td>4</td>\n      <td>1.0</td>\n      <td>1.0</td>\n      <td>True</td>\n    </tr>\n    <tr>\n      <th>19202</th>\n      <td>vllm</td>\n      <td>OPT-13B</td>\n      <td>both</td>\n      <td>8.0</td>\n      <td>(200.0, 100.0)</td>\n      <td>96.1</td>\n      <td>2</td>\n      <td>2</td>\n      <td>0</td>\n      <td>0</td>\n      <td>4</td>\n      <td>2.0</td>\n      <td>2.0</td>\n      <td>True</td>\n    </tr>\n    <tr>\n      <th>17977</th>\n      <td>vllm</td>\n      <td>OPT-13B</td>\n      <td>both</td>\n      <td>12.0</td>\n      <td>(200.0, 100.0)</td>\n      <td>33.7</td>\n      <td>2</td>\n      <td>2</td>\n      <td>0</td>\n      <td>0</td>\n      <td>4</td>\n      <td>3.0</td>\n      <td>0.0</td>\n      <td>True</td>\n    </tr>\n    <tr>\n      <th>18102</th>\n      <td>vllm</td>\n      <td>OPT-13B</td>\n      <td>both</td>\n      <td>16.0</td>\n      <td>(200.0, 100.0)</td>\n      <td>12.2</td>\n      <td>2</td>\n      <td>2</td>\n      <td>0</td>\n      <td>0</td>\n      <td>4</td>\n      <td>4.0</td>\n      <td>0.0</td>\n      <td>True</td>\n    </tr>\n    <tr>\n      <th>18377</th>\n      <td>vllm</td>\n      <td>OPT-13B</td>\n      <td>both</td>\n      <td>20.0</td>\n      <td>(200.0, 100.0)</td>\n      <td>4.9</td>\n      <td>2</td>\n      <td>2</td>\n      <td>0</td>\n      <td>0</td>\n      <td>4</td>\n      <td>5.0</td>\n      <td>0.0</td>\n      <td>True</td>\n    </tr>\n    <tr>\n      <th>19227</th>\n      <td>vllm</td>\n      <td>OPT-13B</td>\n      <td>both</td>\n      <td>8.0</td>\n      <td>(200.0, 100.0)</td>\n      <td>99.1</td>\n      <td>2</td>\n      <td>4</td>\n      <td>0</td>\n      <td>0</td>\n      <td>8</td>\n      <td>1.0</td>\n      <td>1.0</td>\n      <td>True</td>\n    </tr>\n    <tr>\n      <th>18127</th>\n      <td>vllm</td>\n      <td>OPT-13B</td>\n      <td>both</td>\n      <td>16.0</td>\n      <td>(200.0, 100.0)</td>\n      <td>25.9</td>\n      <td>2</td>\n      <td>4</td>\n      <td>0</td>\n      <td>0</td>\n      <td>8</td>\n      <td>2.0</td>\n      <td>0.0</td>\n      <td>True</td>\n    </tr>\n    <tr>\n      <th>18452</th>\n      <td>vllm</td>\n      <td>OPT-13B</td>\n      <td>both</td>\n      <td>24.0</td>\n      <td>(200.0, 100.0)</td>\n      <td>5.0</td>\n      <td>2</td>\n      <td>4</td>\n      <td>0</td>\n      <td>0</td>\n      <td>8</td>\n      <td>3.0</td>\n      <td>0.0</td>\n      <td>True</td>\n    </tr>\n    <tr>\n      <th>18552</th>\n      <td>vllm</td>\n      <td>OPT-13B</td>\n      <td>both</td>\n      <td>32.0</td>\n      <td>(200.0, 100.0)</td>\n      <td>1.6</td>\n      <td>2</td>\n      <td>4</td>\n      <td>0</td>\n      <td>0</td>\n      <td>8</td>\n      <td>4.0</td>\n      <td>0.0</td>\n      <td>True</td>\n    </tr>\n    <tr>\n      <th>18852</th>\n      <td>vllm</td>\n      <td>OPT-13B</td>\n      <td>both</td>\n      <td>40.0</td>\n      <td>(200.0, 100.0)</td>\n      <td>0.6</td>\n      <td>2</td>\n      <td>4</td>\n      <td>0</td>\n      <td>0</td>\n      <td>8</td>\n      <td>5.0</td>\n      <td>0.0</td>\n      <td>True</td>\n    </tr>\n    <tr>\n      <th>18152</th>\n      <td>vllm</td>\n      <td>OPT-13B</td>\n      <td>both</td>\n      <td>16.0</td>\n      <td>(200.0, 100.0)</td>\n      <td>0.1</td>\n      <td>2</td>\n      <td>8</td>\n      <td>0</td>\n      <td>0</td>\n      <td>16</td>\n      <td>1.0</td>\n      <td>0.0</td>\n      <td>True</td>\n    </tr>\n    <tr>\n      <th>18577</th>\n      <td>vllm</td>\n      <td>OPT-13B</td>\n      <td>both</td>\n      <td>32.0</td>\n      <td>(200.0, 100.0)</td>\n      <td>0.0</td>\n      <td>2</td>\n      <td>8</td>\n      <td>0</td>\n      <td>0</td>\n      <td>16</td>\n      <td>2.0</td>\n      <td>0.0</td>\n      <td>True</td>\n    </tr>\n    <tr>\n      <th>18902</th>\n      <td>vllm</td>\n      <td>OPT-13B</td>\n      <td>both</td>\n      <td>48.0</td>\n      <td>(200.0, 100.0)</td>\n      <td>0.0</td>\n      <td>2</td>\n      <td>8</td>\n      <td>0</td>\n      <td>0</td>\n      <td>16</td>\n      <td>3.0</td>\n      <td>0.0</td>\n      <td>True</td>\n    </tr>\n    <tr>\n      <th>19027</th>\n      <td>vllm</td>\n      <td>OPT-13B</td>\n      <td>both</td>\n      <td>64.0</td>\n      <td>(200.0, 100.0)</td>\n      <td>0.0</td>\n      <td>2</td>\n      <td>8</td>\n      <td>0</td>\n      <td>0</td>\n      <td>16</td>\n      <td>4.0</td>\n      <td>0.0</td>\n      <td>True</td>\n    </tr>\n    <tr>\n      <th>19302</th>\n      <td>vllm</td>\n      <td>OPT-13B</td>\n      <td>both</td>\n      <td>80.0</td>\n      <td>(200.0, 100.0)</td>\n      <td>0.0</td>\n      <td>2</td>\n      <td>8</td>\n      <td>0</td>\n      <td>0</td>\n      <td>16</td>\n      <td>5.0</td>\n      <td>0.0</td>\n      <td>True</td>\n    </tr>\n    <tr>\n      <th>18802</th>\n      <td>vllm</td>\n      <td>OPT-13B</td>\n      <td>both</td>\n      <td>4.0</td>\n      <td>(200.0, 100.0)</td>\n      <td>100.0</td>\n      <td>4</td>\n      <td>1</td>\n      <td>0</td>\n      <td>0</td>\n      <td>4</td>\n      <td>1.0</td>\n      <td>1.0</td>\n      <td>True</td>\n    </tr>\n    <tr>\n      <th>19252</th>\n      <td>vllm</td>\n      <td>OPT-13B</td>\n      <td>both</td>\n      <td>8.0</td>\n      <td>(200.0, 100.0)</td>\n      <td>99.8</td>\n      <td>4</td>\n      <td>1</td>\n      <td>0</td>\n      <td>0</td>\n      <td>4</td>\n      <td>2.0</td>\n      <td>2.0</td>\n      <td>True</td>\n    </tr>\n    <tr>\n      <th>18002</th>\n      <td>vllm</td>\n      <td>OPT-13B</td>\n      <td>both</td>\n      <td>12.0</td>\n      <td>(200.0, 100.0)</td>\n      <td>96.5</td>\n      <td>4</td>\n      <td>1</td>\n      <td>0</td>\n      <td>0</td>\n      <td>4</td>\n      <td>3.0</td>\n      <td>3.0</td>\n      <td>True</td>\n    </tr>\n    <tr>\n      <th>18177</th>\n      <td>vllm</td>\n      <td>OPT-13B</td>\n      <td>both</td>\n      <td>16.0</td>\n      <td>(200.0, 100.0)</td>\n      <td>50.6</td>\n      <td>4</td>\n      <td>1</td>\n      <td>0</td>\n      <td>0</td>\n      <td>4</td>\n      <td>4.0</td>\n      <td>0.0</td>\n      <td>True</td>\n    </tr>\n    <tr>\n      <th>18402</th>\n      <td>vllm</td>\n      <td>OPT-13B</td>\n      <td>both</td>\n      <td>20.0</td>\n      <td>(200.0, 100.0)</td>\n      <td>24.9</td>\n      <td>4</td>\n      <td>1</td>\n      <td>0</td>\n      <td>0</td>\n      <td>4</td>\n      <td>5.0</td>\n      <td>0.0</td>\n      <td>True</td>\n    </tr>\n    <tr>\n      <th>19277</th>\n      <td>vllm</td>\n      <td>OPT-13B</td>\n      <td>both</td>\n      <td>8.0</td>\n      <td>(200.0, 100.0)</td>\n      <td>100.0</td>\n      <td>4</td>\n      <td>2</td>\n      <td>0</td>\n      <td>0</td>\n      <td>8</td>\n      <td>1.0</td>\n      <td>1.0</td>\n      <td>True</td>\n    </tr>\n    <tr>\n      <th>18202</th>\n      <td>vllm</td>\n      <td>OPT-13B</td>\n      <td>both</td>\n      <td>16.0</td>\n      <td>(200.0, 100.0)</td>\n      <td>99.8</td>\n      <td>4</td>\n      <td>2</td>\n      <td>0</td>\n      <td>0</td>\n      <td>8</td>\n      <td>2.0</td>\n      <td>2.0</td>\n      <td>True</td>\n    </tr>\n    <tr>\n      <th>18477</th>\n      <td>vllm</td>\n      <td>OPT-13B</td>\n      <td>both</td>\n      <td>24.0</td>\n      <td>(200.0, 100.0)</td>\n      <td>84.7</td>\n      <td>4</td>\n      <td>2</td>\n      <td>0</td>\n      <td>0</td>\n      <td>8</td>\n      <td>3.0</td>\n      <td>0.0</td>\n      <td>True</td>\n    </tr>\n    <tr>\n      <th>18602</th>\n      <td>vllm</td>\n      <td>OPT-13B</td>\n      <td>both</td>\n      <td>32.0</td>\n      <td>(200.0, 100.0)</td>\n      <td>42.0</td>\n      <td>4</td>\n      <td>2</td>\n      <td>0</td>\n      <td>0</td>\n      <td>8</td>\n      <td>4.0</td>\n      <td>0.0</td>\n      <td>True</td>\n    </tr>\n    <tr>\n      <th>18877</th>\n      <td>vllm</td>\n      <td>OPT-13B</td>\n      <td>both</td>\n      <td>40.0</td>\n      <td>(200.0, 100.0)</td>\n      <td>22.3</td>\n      <td>4</td>\n      <td>2</td>\n      <td>0</td>\n      <td>0</td>\n      <td>8</td>\n      <td>5.0</td>\n      <td>0.0</td>\n      <td>True</td>\n    </tr>\n    <tr>\n      <th>18227</th>\n      <td>vllm</td>\n      <td>OPT-13B</td>\n      <td>both</td>\n      <td>16.0</td>\n      <td>(200.0, 100.0)</td>\n      <td>100.0</td>\n      <td>4</td>\n      <td>4</td>\n      <td>0</td>\n      <td>0</td>\n      <td>16</td>\n      <td>1.0</td>\n      <td>1.0</td>\n      <td>True</td>\n    </tr>\n    <tr>\n      <th>18627</th>\n      <td>vllm</td>\n      <td>OPT-13B</td>\n      <td>both</td>\n      <td>32.0</td>\n      <td>(200.0, 100.0)</td>\n      <td>81.5</td>\n      <td>4</td>\n      <td>4</td>\n      <td>0</td>\n      <td>0</td>\n      <td>16</td>\n      <td>2.0</td>\n      <td>0.0</td>\n      <td>True</td>\n    </tr>\n    <tr>\n      <th>18927</th>\n      <td>vllm</td>\n      <td>OPT-13B</td>\n      <td>both</td>\n      <td>48.0</td>\n      <td>(200.0, 100.0)</td>\n      <td>29.2</td>\n      <td>4</td>\n      <td>4</td>\n      <td>0</td>\n      <td>0</td>\n      <td>16</td>\n      <td>3.0</td>\n      <td>0.0</td>\n      <td>True</td>\n    </tr>\n    <tr>\n      <th>19052</th>\n      <td>vllm</td>\n      <td>OPT-13B</td>\n      <td>both</td>\n      <td>64.0</td>\n      <td>(200.0, 100.0)</td>\n      <td>15.2</td>\n      <td>4</td>\n      <td>4</td>\n      <td>0</td>\n      <td>0</td>\n      <td>16</td>\n      <td>4.0</td>\n      <td>0.0</td>\n      <td>True</td>\n    </tr>\n    <tr>\n      <th>19327</th>\n      <td>vllm</td>\n      <td>OPT-13B</td>\n      <td>both</td>\n      <td>80.0</td>\n      <td>(200.0, 100.0)</td>\n      <td>10.9</td>\n      <td>4</td>\n      <td>4</td>\n      <td>0</td>\n      <td>0</td>\n      <td>16</td>\n      <td>5.0</td>\n      <td>0.0</td>\n      <td>True</td>\n    </tr>\n    <tr>\n      <th>18652</th>\n      <td>vllm</td>\n      <td>OPT-13B</td>\n      <td>both</td>\n      <td>32.0</td>\n      <td>(200.0, 100.0)</td>\n      <td>0.1</td>\n      <td>4</td>\n      <td>8</td>\n      <td>0</td>\n      <td>0</td>\n      <td>32</td>\n      <td>1.0</td>\n      <td>0.0</td>\n      <td>True</td>\n    </tr>\n    <tr>\n      <th>19077</th>\n      <td>vllm</td>\n      <td>OPT-13B</td>\n      <td>both</td>\n      <td>64.0</td>\n      <td>(200.0, 100.0)</td>\n      <td>0.2</td>\n      <td>4</td>\n      <td>8</td>\n      <td>0</td>\n      <td>0</td>\n      <td>32</td>\n      <td>2.0</td>\n      <td>0.0</td>\n      <td>True</td>\n    </tr>\n    <tr>\n      <th>19352</th>\n      <td>vllm</td>\n      <td>OPT-13B</td>\n      <td>both</td>\n      <td>96.0</td>\n      <td>(200.0, 100.0)</td>\n      <td>0.1</td>\n      <td>4</td>\n      <td>8</td>\n      <td>0</td>\n      <td>0</td>\n      <td>32</td>\n      <td>3.0</td>\n      <td>0.0</td>\n      <td>True</td>\n    </tr>\n    <tr>\n      <th>18027</th>\n      <td>vllm</td>\n      <td>OPT-13B</td>\n      <td>both</td>\n      <td>128.0</td>\n      <td>(200.0, 100.0)</td>\n      <td>0.0</td>\n      <td>4</td>\n      <td>8</td>\n      <td>0</td>\n      <td>0</td>\n      <td>32</td>\n      <td>4.0</td>\n      <td>0.0</td>\n      <td>True</td>\n    </tr>\n    <tr>\n      <th>18252</th>\n      <td>vllm</td>\n      <td>OPT-13B</td>\n      <td>both</td>\n      <td>160.0</td>\n      <td>(200.0, 100.0)</td>\n      <td>0.0</td>\n      <td>4</td>\n      <td>8</td>\n      <td>0</td>\n      <td>0</td>\n      <td>32</td>\n      <td>5.0</td>\n      <td>0.0</td>\n      <td>True</td>\n    </tr>\n  </tbody>\n</table>\n</div>"
     },
     "execution_count": 27,
     "metadata": {},
     "output_type": "execute_result"
    }
   ],
   "source": [
    "figure_11_vllm_high"
   ],
   "metadata": {
    "collapsed": false,
    "ExecuteTime": {
     "end_time": "2024-04-21T00:01:23.469921Z",
     "start_time": "2024-04-21T00:01:23.456866Z"
    }
   },
   "id": "afb7980c8f37f3ab",
   "execution_count": 27
  },
  {
   "cell_type": "code",
   "outputs": [
    {
     "data": {
      "text/plain": "      backend model_type    pd  rate          target  attainment  tp_prefill  \\\n17877    vllm    OPT-13B  both   1.0  (200.0, 100.0)        91.3           1   \n18277    vllm    OPT-13B  both   2.0  (200.0, 100.0)        86.0           1   \n18502    vllm    OPT-13B  both   3.0  (200.0, 100.0)        79.3           1   \n18677    vllm    OPT-13B  both   4.0  (200.0, 100.0)        25.9           1   \n18952    vllm    OPT-13B  both   5.0  (200.0, 100.0)         9.4           1   \n18327    vllm    OPT-13B  both   2.0  (200.0, 100.0)        99.0           2   \n18752    vllm    OPT-13B  both   4.0  (200.0, 100.0)        95.8           2   \n19002    vllm    OPT-13B  both   6.0  (200.0, 100.0)        87.2           2   \n19177    vllm    OPT-13B  both   8.0  (200.0, 100.0)        25.8           2   \n17927    vllm    OPT-13B  both  10.0  (200.0, 100.0)        11.3           2   \n18802    vllm    OPT-13B  both   4.0  (200.0, 100.0)       100.0           4   \n19252    vllm    OPT-13B  both   8.0  (200.0, 100.0)        99.8           4   \n18002    vllm    OPT-13B  both  12.0  (200.0, 100.0)        96.5           4   \n18177    vllm    OPT-13B  both  16.0  (200.0, 100.0)        50.6           4   \n18402    vllm    OPT-13B  both  20.0  (200.0, 100.0)        24.9           4   \n\n       pp_prefill  tp_decode  pp_decode  ngpu  per_gpu_rate  goodput@90  \\\n17877           1          0          0     1           1.0         1.0   \n18277           1          0          0     1           2.0         0.0   \n18502           1          0          0     1           3.0         0.0   \n18677           1          0          0     1           4.0         0.0   \n18952           1          0          0     1           5.0         0.0   \n18327           1          0          0     2           1.0         1.0   \n18752           1          0          0     2           2.0         2.0   \n19002           1          0          0     2           3.0         0.0   \n19177           1          0          0     2           4.0         0.0   \n17927           1          0          0     2           5.0         0.0   \n18802           1          0          0     4           1.0         1.0   \n19252           1          0          0     4           2.0         2.0   \n18002           1          0          0     4           3.0         3.0   \n18177           1          0          0     4           4.0         0.0   \n18402           1          0          0     4           5.0         0.0   \n\n       low_affin  \n17877       True  \n18277       True  \n18502       True  \n18677       True  \n18952       True  \n18327       True  \n18752       True  \n19002       True  \n19177       True  \n17927       True  \n18802       True  \n19252       True  \n18002       True  \n18177       True  \n18402       True  ",
      "text/html": "<div>\n<style scoped>\n    .dataframe tbody tr th:only-of-type {\n        vertical-align: middle;\n    }\n\n    .dataframe tbody tr th {\n        vertical-align: top;\n    }\n\n    .dataframe thead th {\n        text-align: right;\n    }\n</style>\n<table border=\"1\" class=\"dataframe\">\n  <thead>\n    <tr style=\"text-align: right;\">\n      <th></th>\n      <th>backend</th>\n      <th>model_type</th>\n      <th>pd</th>\n      <th>rate</th>\n      <th>target</th>\n      <th>attainment</th>\n      <th>tp_prefill</th>\n      <th>pp_prefill</th>\n      <th>tp_decode</th>\n      <th>pp_decode</th>\n      <th>ngpu</th>\n      <th>per_gpu_rate</th>\n      <th>goodput@90</th>\n      <th>low_affin</th>\n    </tr>\n  </thead>\n  <tbody>\n    <tr>\n      <th>17877</th>\n      <td>vllm</td>\n      <td>OPT-13B</td>\n      <td>both</td>\n      <td>1.0</td>\n      <td>(200.0, 100.0)</td>\n      <td>91.3</td>\n      <td>1</td>\n      <td>1</td>\n      <td>0</td>\n      <td>0</td>\n      <td>1</td>\n      <td>1.0</td>\n      <td>1.0</td>\n      <td>True</td>\n    </tr>\n    <tr>\n      <th>18277</th>\n      <td>vllm</td>\n      <td>OPT-13B</td>\n      <td>both</td>\n      <td>2.0</td>\n      <td>(200.0, 100.0)</td>\n      <td>86.0</td>\n      <td>1</td>\n      <td>1</td>\n      <td>0</td>\n      <td>0</td>\n      <td>1</td>\n      <td>2.0</td>\n      <td>0.0</td>\n      <td>True</td>\n    </tr>\n    <tr>\n      <th>18502</th>\n      <td>vllm</td>\n      <td>OPT-13B</td>\n      <td>both</td>\n      <td>3.0</td>\n      <td>(200.0, 100.0)</td>\n      <td>79.3</td>\n      <td>1</td>\n      <td>1</td>\n      <td>0</td>\n      <td>0</td>\n      <td>1</td>\n      <td>3.0</td>\n      <td>0.0</td>\n      <td>True</td>\n    </tr>\n    <tr>\n      <th>18677</th>\n      <td>vllm</td>\n      <td>OPT-13B</td>\n      <td>both</td>\n      <td>4.0</td>\n      <td>(200.0, 100.0)</td>\n      <td>25.9</td>\n      <td>1</td>\n      <td>1</td>\n      <td>0</td>\n      <td>0</td>\n      <td>1</td>\n      <td>4.0</td>\n      <td>0.0</td>\n      <td>True</td>\n    </tr>\n    <tr>\n      <th>18952</th>\n      <td>vllm</td>\n      <td>OPT-13B</td>\n      <td>both</td>\n      <td>5.0</td>\n      <td>(200.0, 100.0)</td>\n      <td>9.4</td>\n      <td>1</td>\n      <td>1</td>\n      <td>0</td>\n      <td>0</td>\n      <td>1</td>\n      <td>5.0</td>\n      <td>0.0</td>\n      <td>True</td>\n    </tr>\n    <tr>\n      <th>18327</th>\n      <td>vllm</td>\n      <td>OPT-13B</td>\n      <td>both</td>\n      <td>2.0</td>\n      <td>(200.0, 100.0)</td>\n      <td>99.0</td>\n      <td>2</td>\n      <td>1</td>\n      <td>0</td>\n      <td>0</td>\n      <td>2</td>\n      <td>1.0</td>\n      <td>1.0</td>\n      <td>True</td>\n    </tr>\n    <tr>\n      <th>18752</th>\n      <td>vllm</td>\n      <td>OPT-13B</td>\n      <td>both</td>\n      <td>4.0</td>\n      <td>(200.0, 100.0)</td>\n      <td>95.8</td>\n      <td>2</td>\n      <td>1</td>\n      <td>0</td>\n      <td>0</td>\n      <td>2</td>\n      <td>2.0</td>\n      <td>2.0</td>\n      <td>True</td>\n    </tr>\n    <tr>\n      <th>19002</th>\n      <td>vllm</td>\n      <td>OPT-13B</td>\n      <td>both</td>\n      <td>6.0</td>\n      <td>(200.0, 100.0)</td>\n      <td>87.2</td>\n      <td>2</td>\n      <td>1</td>\n      <td>0</td>\n      <td>0</td>\n      <td>2</td>\n      <td>3.0</td>\n      <td>0.0</td>\n      <td>True</td>\n    </tr>\n    <tr>\n      <th>19177</th>\n      <td>vllm</td>\n      <td>OPT-13B</td>\n      <td>both</td>\n      <td>8.0</td>\n      <td>(200.0, 100.0)</td>\n      <td>25.8</td>\n      <td>2</td>\n      <td>1</td>\n      <td>0</td>\n      <td>0</td>\n      <td>2</td>\n      <td>4.0</td>\n      <td>0.0</td>\n      <td>True</td>\n    </tr>\n    <tr>\n      <th>17927</th>\n      <td>vllm</td>\n      <td>OPT-13B</td>\n      <td>both</td>\n      <td>10.0</td>\n      <td>(200.0, 100.0)</td>\n      <td>11.3</td>\n      <td>2</td>\n      <td>1</td>\n      <td>0</td>\n      <td>0</td>\n      <td>2</td>\n      <td>5.0</td>\n      <td>0.0</td>\n      <td>True</td>\n    </tr>\n    <tr>\n      <th>18802</th>\n      <td>vllm</td>\n      <td>OPT-13B</td>\n      <td>both</td>\n      <td>4.0</td>\n      <td>(200.0, 100.0)</td>\n      <td>100.0</td>\n      <td>4</td>\n      <td>1</td>\n      <td>0</td>\n      <td>0</td>\n      <td>4</td>\n      <td>1.0</td>\n      <td>1.0</td>\n      <td>True</td>\n    </tr>\n    <tr>\n      <th>19252</th>\n      <td>vllm</td>\n      <td>OPT-13B</td>\n      <td>both</td>\n      <td>8.0</td>\n      <td>(200.0, 100.0)</td>\n      <td>99.8</td>\n      <td>4</td>\n      <td>1</td>\n      <td>0</td>\n      <td>0</td>\n      <td>4</td>\n      <td>2.0</td>\n      <td>2.0</td>\n      <td>True</td>\n    </tr>\n    <tr>\n      <th>18002</th>\n      <td>vllm</td>\n      <td>OPT-13B</td>\n      <td>both</td>\n      <td>12.0</td>\n      <td>(200.0, 100.0)</td>\n      <td>96.5</td>\n      <td>4</td>\n      <td>1</td>\n      <td>0</td>\n      <td>0</td>\n      <td>4</td>\n      <td>3.0</td>\n      <td>3.0</td>\n      <td>True</td>\n    </tr>\n    <tr>\n      <th>18177</th>\n      <td>vllm</td>\n      <td>OPT-13B</td>\n      <td>both</td>\n      <td>16.0</td>\n      <td>(200.0, 100.0)</td>\n      <td>50.6</td>\n      <td>4</td>\n      <td>1</td>\n      <td>0</td>\n      <td>0</td>\n      <td>4</td>\n      <td>4.0</td>\n      <td>0.0</td>\n      <td>True</td>\n    </tr>\n    <tr>\n      <th>18402</th>\n      <td>vllm</td>\n      <td>OPT-13B</td>\n      <td>both</td>\n      <td>20.0</td>\n      <td>(200.0, 100.0)</td>\n      <td>24.9</td>\n      <td>4</td>\n      <td>1</td>\n      <td>0</td>\n      <td>0</td>\n      <td>4</td>\n      <td>5.0</td>\n      <td>0.0</td>\n      <td>True</td>\n    </tr>\n  </tbody>\n</table>\n</div>"
     },
     "execution_count": 28,
     "metadata": {},
     "output_type": "execute_result"
    }
   ],
   "source": [
    "figure_11_vllm_low"
   ],
   "metadata": {
    "collapsed": false,
    "ExecuteTime": {
     "end_time": "2024-04-21T00:01:23.485847Z",
     "start_time": "2024-04-21T00:01:23.465273Z"
    }
   },
   "id": "f75057473fc9c5ca",
   "execution_count": 28
  },
  {
   "cell_type": "code",
   "outputs": [
    {
     "data": {
      "application/vnd.plotly.v1+json": {
       "data": [
        {
         "mode": "lines+markers",
         "name": "p1111-distserve",
         "x": [
          1.0,
          2.0,
          3.0,
          4.0,
          5.0
         ],
         "y": [
          91.6,
          80.5,
          68.30000000000001,
          23.5,
          10.3
         ],
         "type": "scatter"
        },
        {
         "mode": "lines+markers",
         "name": "p1112-distserve",
         "x": [
          1.0,
          2.0,
          3.0,
          4.0,
          5.0
         ],
         "y": [
          87.0,
          68.60000000000001,
          42.0,
          10.0,
          1.2
         ],
         "type": "scatter"
        },
        {
         "mode": "lines+markers",
         "name": "p1114-distserve",
         "x": [
          1.0,
          2.0,
          3.0,
          4.0,
          5.0
         ],
         "y": [
          74.1,
          31.9,
          1.2,
          0.1,
          0.1
         ],
         "type": "scatter"
        },
        {
         "mode": "lines+markers",
         "name": "p1118-distserve",
         "x": [
          1.0,
          2.0,
          3.0,
          4.0,
          5.0
         ],
         "y": [
          6.3,
          0.3,
          0.1,
          0.1,
          0.1
         ],
         "type": "scatter"
        },
        {
         "mode": "lines+markers",
         "name": "p1121-distserve",
         "x": [
          1.0,
          2.0,
          3.0,
          4.0,
          5.0
         ],
         "y": [
          87.0,
          68.30000000000001,
          15.8,
          2.5,
          1.2
         ],
         "type": "scatter"
        },
        {
         "mode": "lines+markers",
         "name": "p1122-distserve",
         "x": [
          1.0,
          2.0,
          3.0,
          4.0,
          5.0
         ],
         "y": [
          74.1,
          31.9,
          1.2,
          0.1,
          0.1
         ],
         "type": "scatter"
        },
        {
         "mode": "lines+markers",
         "name": "p1124-distserve",
         "x": [
          1.0,
          2.0,
          3.0,
          4.0,
          5.0
         ],
         "y": [
          42.0,
          0.3,
          0.1,
          0.1,
          0.1
         ],
         "type": "scatter"
        },
        {
         "mode": "lines+markers",
         "name": "p1128-distserve",
         "x": [
          1.0,
          2.0,
          3.0,
          4.0,
          5.0
         ],
         "y": [
          0.5,
          0.1,
          0.1,
          0.1,
          0.1
         ],
         "type": "scatter"
        },
        {
         "mode": "lines+markers",
         "name": "p1141-distserve",
         "x": [
          1.0,
          2.0,
          3.0,
          4.0,
          5.0
         ],
         "y": [
          74.1,
          10.3,
          1.2,
          0.1,
          0.1
         ],
         "type": "scatter"
        },
        {
         "mode": "lines+markers",
         "name": "p1142-distserve",
         "x": [
          1.0,
          2.0,
          3.0,
          4.0,
          5.0
         ],
         "y": [
          42.0,
          0.3,
          0.1,
          0.1,
          0.1
         ],
         "type": "scatter"
        },
        {
         "mode": "lines+markers",
         "name": "p1144-distserve",
         "x": [
          1.0,
          2.0,
          3.0,
          4.0,
          5.0
         ],
         "y": [
          0.5,
          0.1,
          0.1,
          0.1,
          0.1
         ],
         "type": "scatter"
        },
        {
         "mode": "lines+markers",
         "name": "p1181-distserve",
         "x": [
          1.0,
          2.0,
          3.0,
          4.0,
          5.0
         ],
         "y": [
          15.8,
          0.3,
          0.1,
          0.1,
          0.1
         ],
         "type": "scatter"
        },
        {
         "mode": "lines+markers",
         "name": "p1182-distserve",
         "x": [
          1.0,
          2.0,
          3.0,
          4.0,
          5.0
         ],
         "y": [
          0.5,
          0.1,
          0.1,
          0.1,
          0.1
         ],
         "type": "scatter"
        },
        {
         "mode": "lines+markers",
         "name": "p1211-distserve",
         "x": [
          1.0,
          2.0,
          3.0,
          4.0,
          5.0
         ],
         "y": [
          92.9,
          86.2,
          30.0,
          15.2,
          9.7
         ],
         "type": "scatter"
        },
        {
         "mode": "lines+markers",
         "name": "p1212-distserve",
         "x": [
          1.0,
          2.0,
          3.0,
          4.0,
          5.0
         ],
         "y": [
          92.3,
          81.10000000000001,
          61.9,
          29.5,
          7.399999999999999
         ],
         "type": "scatter"
        },
        {
         "mode": "lines+markers",
         "name": "p1214-distserve",
         "x": [
          1.0,
          2.0,
          3.0,
          4.0,
          5.0
         ],
         "y": [
          87.1,
          66.0,
          31.3,
          1.7000000000000002,
          0.8
         ],
         "type": "scatter"
        },
        {
         "mode": "lines+markers",
         "name": "p1218-distserve",
         "x": [
          1.0,
          2.0,
          3.0,
          4.0,
          5.0
         ],
         "y": [
          9.2,
          1.3,
          0.6,
          0.1,
          0.1
         ],
         "type": "scatter"
        },
        {
         "mode": "lines+markers",
         "name": "p1221-distserve",
         "x": [
          1.0,
          2.0,
          3.0,
          4.0,
          5.0
         ],
         "y": [
          92.3,
          39.0,
          15.2,
          8.200000000000001,
          2.8000000000000003
         ],
         "type": "scatter"
        },
        {
         "mode": "lines+markers",
         "name": "p1222-distserve",
         "x": [
          1.0,
          2.0,
          3.0,
          4.0,
          5.0
         ],
         "y": [
          87.1,
          61.9,
          16.8,
          1.7000000000000002,
          0.8
         ],
         "type": "scatter"
        },
        {
         "mode": "lines+markers",
         "name": "p1224-distserve",
         "x": [
          1.0,
          2.0,
          3.0,
          4.0,
          5.0
         ],
         "y": [
          73.2,
          16.5,
          0.8,
          0.1,
          0.1
         ],
         "type": "scatter"
        },
        {
         "mode": "lines+markers",
         "name": "p1228-distserve",
         "x": [
          1.0,
          2.0,
          3.0,
          4.0,
          5.0
         ],
         "y": [
          3.0,
          0.1,
          0.1,
          0.1,
          0.1
         ],
         "type": "scatter"
        },
        {
         "mode": "lines+markers",
         "name": "p1241-distserve",
         "x": [
          1.0,
          2.0,
          3.0,
          4.0,
          5.0
         ],
         "y": [
          86.2,
          15.2,
          5.3,
          1.6,
          0.7000000000000001
         ],
         "type": "scatter"
        },
        {
         "mode": "lines+markers",
         "name": "p1242-distserve",
         "x": [
          1.0,
          2.0,
          3.0,
          4.0,
          5.0
         ],
         "y": [
          73.2,
          7.399999999999999,
          0.8,
          0.1,
          0.1
         ],
         "type": "scatter"
        },
        {
         "mode": "lines+markers",
         "name": "p1244-distserve",
         "x": [
          1.0,
          2.0,
          3.0,
          4.0,
          5.0
         ],
         "y": [
          31.3,
          0.1,
          0.1,
          0.1,
          0.1
         ],
         "type": "scatter"
        },
        {
         "mode": "lines+markers",
         "name": "p1281-distserve",
         "x": [
          1.0,
          2.0,
          3.0,
          4.0,
          5.0
         ],
         "y": [
          22.6,
          2.8000000000000003,
          0.7000000000000001,
          0.1,
          0.1
         ],
         "type": "scatter"
        },
        {
         "mode": "lines+markers",
         "name": "p1282-distserve",
         "x": [
          1.0,
          2.0,
          3.0,
          4.0,
          5.0
         ],
         "y": [
          16.8,
          0.1,
          0.1,
          0.1,
          0.1
         ],
         "type": "scatter"
        },
        {
         "mode": "lines+markers",
         "name": "p1411-distserve",
         "x": [
          1.0,
          2.0,
          3.0,
          4.0,
          5.0
         ],
         "y": [
          90.1,
          27.0,
          15.1,
          9.6,
          6.4
         ],
         "type": "scatter"
        },
        {
         "mode": "lines+markers",
         "name": "p1412-distserve",
         "x": [
          1.0,
          2.0,
          3.0,
          4.0,
          5.0
         ],
         "y": [
          89.7,
          75.0,
          36.6,
          19.8,
          8.5
         ],
         "type": "scatter"
        },
        {
         "mode": "lines+markers",
         "name": "p1414-distserve",
         "x": [
          1.0,
          2.0,
          3.0,
          4.0,
          5.0
         ],
         "y": [
          86.7,
          72.1,
          48.6,
          16.3,
          1.9
         ],
         "type": "scatter"
        },
        {
         "mode": "lines+markers",
         "name": "p1418-distserve",
         "x": [
          1.0,
          2.0,
          3.0,
          4.0,
          5.0
         ],
         "y": [
          8.9,
          3.8,
          1.0,
          0.7000000000000001,
          0.1
         ],
         "type": "scatter"
        },
        {
         "mode": "lines+markers",
         "name": "p1421-distserve",
         "x": [
          1.0,
          2.0,
          3.0,
          4.0,
          5.0
         ],
         "y": [
          89.5,
          19.6,
          12.1,
          7.1,
          3.5000000000000004
         ],
         "type": "scatter"
        },
        {
         "mode": "lines+markers",
         "name": "p1422-distserve",
         "x": [
          1.0,
          2.0,
          3.0,
          4.0,
          5.0
         ],
         "y": [
          86.7,
          44.3,
          19.8,
          5.2,
          1.5
         ],
         "type": "scatter"
        },
        {
         "mode": "lines+markers",
         "name": "p1424-distserve",
         "x": [
          1.0,
          2.0,
          3.0,
          4.0,
          5.0
         ],
         "y": [
          81.39999999999999,
          48.6,
          5.2,
          1.0,
          0.1
         ],
         "type": "scatter"
        },
        {
         "mode": "lines+markers",
         "name": "p1428-distserve",
         "x": [
          1.0,
          2.0,
          3.0,
          4.0,
          5.0
         ],
         "y": [
          4.8,
          0.8999999999999999,
          0.1,
          0.1,
          0.1
         ],
         "type": "scatter"
        },
        {
         "mode": "lines+markers",
         "name": "p1441-distserve",
         "x": [
          1.0,
          2.0,
          3.0,
          4.0,
          5.0
         ],
         "y": [
          41.5,
          14.2,
          7.1,
          2.5,
          1.3
         ],
         "type": "scatter"
        },
        {
         "mode": "lines+markers",
         "name": "p1442-distserve",
         "x": [
          1.0,
          2.0,
          3.0,
          4.0,
          5.0
         ],
         "y": [
          75.0,
          19.8,
          2.3,
          1.0,
          0.1
         ],
         "type": "scatter"
        },
        {
         "mode": "lines+markers",
         "name": "p1444-distserve",
         "x": [
          1.0,
          2.0,
          3.0,
          4.0,
          5.0
         ],
         "y": [
          61.1,
          1.9,
          0.1,
          0.1,
          0.1
         ],
         "type": "scatter"
        },
        {
         "mode": "lines+markers",
         "name": "p1481-distserve",
         "x": [
          1.0,
          2.0,
          3.0,
          4.0,
          5.0
         ],
         "y": [
          19.6,
          7.1,
          1.5,
          0.8,
          0.1
         ],
         "type": "scatter"
        },
        {
         "mode": "lines+markers",
         "name": "p1482-distserve",
         "x": [
          1.0,
          2.0,
          3.0,
          4.0,
          5.0
         ],
         "y": [
          28.9,
          1.5,
          0.1,
          0.1,
          0.1
         ],
         "type": "scatter"
        },
        {
         "mode": "lines+markers",
         "name": "p1811-distserve",
         "x": [
          1.0,
          2.0,
          3.0,
          4.0,
          5.0
         ],
         "y": [
          25.6,
          8.6,
          3.8,
          2.0,
          0.6
         ],
         "type": "scatter"
        },
        {
         "mode": "lines+markers",
         "name": "p1812-distserve",
         "x": [
          1.0,
          2.0,
          3.0,
          4.0,
          5.0
         ],
         "y": [
          65.10000000000001,
          21.9,
          9.4,
          2.6,
          0.6
         ],
         "type": "scatter"
        },
        {
         "mode": "lines+markers",
         "name": "p1814-distserve",
         "x": [
          1.0,
          2.0,
          3.0,
          4.0,
          5.0
         ],
         "y": [
          61.3,
          38.8,
          14.000000000000002,
          2.8000000000000003,
          0.1
         ],
         "type": "scatter"
        },
        {
         "mode": "lines+markers",
         "name": "p1818-distserve",
         "x": [
          1.0,
          2.0,
          3.0,
          4.0,
          5.0
         ],
         "y": [
          4.3,
          1.0,
          0.4,
          0.1,
          0.1
         ],
         "type": "scatter"
        },
        {
         "mode": "lines+markers",
         "name": "p1821-distserve",
         "x": [
          1.0,
          2.0,
          3.0,
          4.0,
          5.0
         ],
         "y": [
          20.200000000000003,
          7.5,
          2.9000000000000004,
          1.0,
          0.4
         ],
         "type": "scatter"
        },
        {
         "mode": "lines+markers",
         "name": "p1822-distserve",
         "x": [
          1.0,
          2.0,
          3.0,
          4.0,
          5.0
         ],
         "y": [
          59.0,
          15.5,
          5.1,
          0.8,
          0.1
         ],
         "type": "scatter"
        },
        {
         "mode": "lines+markers",
         "name": "p1824-distserve",
         "x": [
          1.0,
          2.0,
          3.0,
          4.0,
          5.0
         ],
         "y": [
          54.900000000000006,
          20.9,
          2.8000000000000003,
          0.1,
          0.1
         ],
         "type": "scatter"
        },
        {
         "mode": "lines+markers",
         "name": "p1828-distserve",
         "x": [
          1.0,
          2.0,
          3.0,
          4.0,
          5.0
         ],
         "y": [
          2.1,
          0.4,
          0.1,
          0.1,
          0.1
         ],
         "type": "scatter"
        },
        {
         "mode": "lines+markers",
         "name": "p1841-distserve",
         "x": [
          1.0,
          2.0,
          3.0,
          4.0,
          5.0
         ],
         "y": [
          14.6,
          4.8,
          2.0,
          0.4,
          0.1
         ],
         "type": "scatter"
        },
        {
         "mode": "lines+markers",
         "name": "p1842-distserve",
         "x": [
          1.0,
          2.0,
          3.0,
          4.0,
          5.0
         ],
         "y": [
          36.9,
          6.800000000000001,
          0.8,
          0.1,
          0.1
         ],
         "type": "scatter"
        },
        {
         "mode": "lines+markers",
         "name": "p1844-distserve",
         "x": [
          1.0,
          2.0,
          3.0,
          4.0,
          5.0
         ],
         "y": [
          38.8,
          2.8000000000000003,
          0.1,
          0.1,
          0.1
         ],
         "type": "scatter"
        },
        {
         "mode": "lines+markers",
         "name": "p1881-distserve",
         "x": [
          1.0,
          2.0,
          3.0,
          4.0,
          5.0
         ],
         "y": [
          10.4,
          2.5,
          0.4,
          0.1,
          0.1
         ],
         "type": "scatter"
        },
        {
         "mode": "lines+markers",
         "name": "p1882-distserve",
         "x": [
          1.0,
          2.0,
          3.0,
          4.0,
          5.0
         ],
         "y": [
          15.5,
          0.8,
          0.1,
          0.1,
          0.1
         ],
         "type": "scatter"
        },
        {
         "mode": "lines+markers",
         "name": "p2111-distserve",
         "x": [
          1.0,
          2.0,
          3.0,
          4.0,
          5.0
         ],
         "y": [
          98.5,
          93.2,
          84.2,
          69.0,
          43.7
         ],
         "type": "scatter"
        },
        {
         "mode": "lines+markers",
         "name": "p2112-distserve",
         "x": [
          1.0,
          2.0,
          3.0,
          4.0,
          5.0
         ],
         "y": [
          97.5,
          87.5,
          69.0,
          39.6,
          4.2
         ],
         "type": "scatter"
        },
        {
         "mode": "lines+markers",
         "name": "p2114-distserve",
         "x": [
          1.0,
          2.0,
          3.0,
          4.0,
          5.0
         ],
         "y": [
          93.2,
          69.0,
          20.9,
          1.3,
          0.3
         ],
         "type": "scatter"
        },
        {
         "mode": "lines+markers",
         "name": "p2118-distserve",
         "x": [
          1.0,
          2.0,
          3.0,
          4.0,
          5.0
         ],
         "y": [
          80.0,
          3.8,
          0.3,
          0.1,
          0.1
         ],
         "type": "scatter"
        },
        {
         "mode": "lines+markers",
         "name": "p2121-distserve",
         "x": [
          1.0,
          2.0,
          3.0,
          4.0,
          5.0
         ],
         "y": [
          97.5,
          87.5,
          69.0,
          32.9,
          3.2
         ],
         "type": "scatter"
        },
        {
         "mode": "lines+markers",
         "name": "p2122-distserve",
         "x": [
          1.0,
          2.0,
          3.0,
          4.0,
          5.0
         ],
         "y": [
          93.2,
          69.0,
          20.9,
          1.3,
          0.3
         ],
         "type": "scatter"
        },
        {
         "mode": "lines+markers",
         "name": "p2124-distserve",
         "x": [
          1.0,
          2.0,
          3.0,
          4.0,
          5.0
         ],
         "y": [
          80.0,
          4.2,
          0.3,
          0.1,
          0.1
         ],
         "type": "scatter"
        },
        {
         "mode": "lines+markers",
         "name": "p2128-distserve",
         "x": [
          1.0,
          2.0,
          3.0,
          4.0,
          5.0
         ],
         "y": [
          16.8,
          0.2,
          0.1,
          0.1,
          0.1
         ],
         "type": "scatter"
        },
        {
         "mode": "lines+markers",
         "name": "p2141-distserve",
         "x": [
          1.0,
          2.0,
          3.0,
          4.0,
          5.0
         ],
         "y": [
          93.2,
          69.0,
          14.6,
          1.3,
          0.3
         ],
         "type": "scatter"
        },
        {
         "mode": "lines+markers",
         "name": "p2142-distserve",
         "x": [
          1.0,
          2.0,
          3.0,
          4.0,
          5.0
         ],
         "y": [
          80.0,
          4.2,
          0.3,
          0.1,
          0.1
         ],
         "type": "scatter"
        },
        {
         "mode": "lines+markers",
         "name": "p2144-distserve",
         "x": [
          1.0,
          2.0,
          3.0,
          4.0,
          5.0
         ],
         "y": [
          20.9,
          0.2,
          0.1,
          0.1,
          0.1
         ],
         "type": "scatter"
        },
        {
         "mode": "lines+markers",
         "name": "p2181-distserve",
         "x": [
          1.0,
          2.0,
          3.0,
          4.0,
          5.0
         ],
         "y": [
          80.0,
          3.2,
          0.3,
          0.1,
          0.1
         ],
         "type": "scatter"
        },
        {
         "mode": "lines+markers",
         "name": "p2182-distserve",
         "x": [
          1.0,
          2.0,
          3.0,
          4.0,
          5.0
         ],
         "y": [
          20.9,
          0.2,
          0.1,
          0.1,
          0.1
         ],
         "type": "scatter"
        },
        {
         "mode": "lines+markers",
         "name": "p2211-distserve",
         "x": [
          1.0,
          2.0,
          3.0,
          4.0,
          5.0
         ],
         "y": [
          100.0,
          98.2,
          83.2,
          49.2,
          28.8
         ],
         "type": "scatter"
        },
        {
         "mode": "lines+markers",
         "name": "p2212-distserve",
         "x": [
          1.0,
          2.0,
          3.0,
          4.0,
          5.0
         ],
         "y": [
          99.7,
          96.4,
          86.2,
          64.3,
          36.8
         ],
         "type": "scatter"
        },
        {
         "mode": "lines+markers",
         "name": "p2214-distserve",
         "x": [
          1.0,
          2.0,
          3.0,
          4.0,
          5.0
         ],
         "y": [
          99.2,
          89.2,
          64.3,
          26.4,
          2.8000000000000003
         ],
         "type": "scatter"
        },
        {
         "mode": "lines+markers",
         "name": "p2218-distserve",
         "x": [
          1.0,
          2.0,
          3.0,
          4.0,
          5.0
         ],
         "y": [
          96.4,
          42.6,
          3.7,
          1.3,
          0.1
         ],
         "type": "scatter"
        },
        {
         "mode": "lines+markers",
         "name": "p2221-distserve",
         "x": [
          1.0,
          2.0,
          3.0,
          4.0,
          5.0
         ],
         "y": [
          99.7,
          96.2,
          58.9,
          31.5,
          13.6
         ],
         "type": "scatter"
        },
        {
         "mode": "lines+markers",
         "name": "p2222-distserve",
         "x": [
          1.0,
          2.0,
          3.0,
          4.0,
          5.0
         ],
         "y": [
          99.2,
          89.2,
          64.3,
          26.4,
          2.8000000000000003
         ],
         "type": "scatter"
        },
        {
         "mode": "lines+markers",
         "name": "p2224-distserve",
         "x": [
          1.0,
          2.0,
          3.0,
          4.0,
          5.0
         ],
         "y": [
          96.4,
          64.3,
          4.5,
          1.3,
          0.1
         ],
         "type": "scatter"
        },
        {
         "mode": "lines+markers",
         "name": "p2228-distserve",
         "x": [
          1.0,
          2.0,
          3.0,
          4.0,
          5.0
         ],
         "y": [
          62.3,
          2.8000000000000003,
          0.1,
          0.1,
          0.1
         ],
         "type": "scatter"
        },
        {
         "mode": "lines+markers",
         "name": "p2241-distserve",
         "x": [
          1.0,
          2.0,
          3.0,
          4.0,
          5.0
         ],
         "y": [
          99.2,
          73.4,
          31.5,
          9.5,
          2.8000000000000003
         ],
         "type": "scatter"
        },
        {
         "mode": "lines+markers",
         "name": "p2242-distserve",
         "x": [
          1.0,
          2.0,
          3.0,
          4.0,
          5.0
         ],
         "y": [
          96.4,
          64.3,
          4.5,
          1.3,
          0.1
         ],
         "type": "scatter"
        },
        {
         "mode": "lines+markers",
         "name": "p2244-distserve",
         "x": [
          1.0,
          2.0,
          3.0,
          4.0,
          5.0
         ],
         "y": [
          80.9,
          2.8000000000000003,
          0.1,
          0.1,
          0.1
         ],
         "type": "scatter"
        },
        {
         "mode": "lines+markers",
         "name": "p2281-distserve",
         "x": [
          1.0,
          2.0,
          3.0,
          4.0,
          5.0
         ],
         "y": [
          96.2,
          31.5,
          3.6,
          1.3,
          0.1
         ],
         "type": "scatter"
        },
        {
         "mode": "lines+markers",
         "name": "p2282-distserve",
         "x": [
          1.0,
          2.0,
          3.0,
          4.0,
          5.0
         ],
         "y": [
          80.9,
          2.8000000000000003,
          0.1,
          0.1,
          0.1
         ],
         "type": "scatter"
        },
        {
         "mode": "lines+markers",
         "name": "p2411-distserve",
         "x": [
          1.0,
          2.0,
          3.0,
          4.0,
          5.0
         ],
         "y": [
          100.0,
          68.0,
          39.0,
          24.8,
          12.2
         ],
         "type": "scatter"
        },
        {
         "mode": "lines+markers",
         "name": "p2412-distserve",
         "x": [
          1.0,
          2.0,
          3.0,
          4.0,
          5.0
         ],
         "y": [
          99.7,
          96.7,
          83.7,
          63.0,
          30.3
         ],
         "type": "scatter"
        },
        {
         "mode": "lines+markers",
         "name": "p2414-distserve",
         "x": [
          1.0,
          2.0,
          3.0,
          4.0,
          5.0
         ],
         "y": [
          99.3,
          92.2,
          73.5,
          37.2,
          5.1
         ],
         "type": "scatter"
        },
        {
         "mode": "lines+markers",
         "name": "p2418-distserve",
         "x": [
          1.0,
          2.0,
          3.0,
          4.0,
          5.0
         ],
         "y": [
          90.7,
          40.8,
          12.8,
          2.5,
          0.5
         ],
         "type": "scatter"
        },
        {
         "mode": "lines+markers",
         "name": "p2421-distserve",
         "x": [
          1.0,
          2.0,
          3.0,
          4.0,
          5.0
         ],
         "y": [
          99.7,
          59.6,
          32.300000000000004,
          20.0,
          8.1
         ],
         "type": "scatter"
        },
        {
         "mode": "lines+markers",
         "name": "p2422-distserve",
         "x": [
          1.0,
          2.0,
          3.0,
          4.0,
          5.0
         ],
         "y": [
          99.3,
          92.2,
          73.4,
          35.0,
          5.0
         ],
         "type": "scatter"
        },
        {
         "mode": "lines+markers",
         "name": "p2424-distserve",
         "x": [
          1.0,
          2.0,
          3.0,
          4.0,
          5.0
         ],
         "y": [
          98.9,
          80.9,
          37.2,
          3.1,
          0.6
         ],
         "type": "scatter"
        },
        {
         "mode": "lines+markers",
         "name": "p2428-distserve",
         "x": [
          1.0,
          2.0,
          3.0,
          4.0,
          5.0
         ],
         "y": [
          60.3,
          12.8,
          2.2,
          0.1,
          0.1
         ],
         "type": "scatter"
        },
        {
         "mode": "lines+markers",
         "name": "p2441-distserve",
         "x": [
          1.0,
          2.0,
          3.0,
          4.0,
          5.0
         ],
         "y": [
          99.2,
          46.1,
          24.8,
          9.1,
          2.7
         ],
         "type": "scatter"
        },
        {
         "mode": "lines+markers",
         "name": "p2442-distserve",
         "x": [
          1.0,
          2.0,
          3.0,
          4.0,
          5.0
         ],
         "y": [
          98.9,
          80.80000000000001,
          35.0,
          3.1,
          0.6
         ],
         "type": "scatter"
        },
        {
         "mode": "lines+markers",
         "name": "p2444-distserve",
         "x": [
          1.0,
          2.0,
          3.0,
          4.0,
          5.0
         ],
         "y": [
          92.2,
          37.2,
          2.8000000000000003,
          0.1,
          0.1
         ],
         "type": "scatter"
        },
        {
         "mode": "lines+markers",
         "name": "p2481-distserve",
         "x": [
          1.0,
          2.0,
          3.0,
          4.0,
          5.0
         ],
         "y": [
          82.1,
          29.4,
          9.1,
          2.5,
          0.5
         ],
         "type": "scatter"
        },
        {
         "mode": "lines+markers",
         "name": "p2482-distserve",
         "x": [
          1.0,
          2.0,
          3.0,
          4.0,
          5.0
         ],
         "y": [
          92.2,
          35.0,
          2.8000000000000003,
          0.1,
          0.1
         ],
         "type": "scatter"
        },
        {
         "mode": "lines+markers",
         "name": "p2811-distserve",
         "x": [
          1.0,
          2.0,
          3.0,
          4.0,
          5.0
         ],
         "y": [
          70.0,
          26.6,
          11.4,
          3.6,
          1.4
         ],
         "type": "scatter"
        },
        {
         "mode": "lines+markers",
         "name": "p2812-distserve",
         "x": [
          1.0,
          2.0,
          3.0,
          4.0,
          5.0
         ],
         "y": [
          90.7,
          72.6,
          32.7,
          5.1,
          1.5
         ],
         "type": "scatter"
        },
        {
         "mode": "lines+markers",
         "name": "p2814-distserve",
         "x": [
          1.0,
          2.0,
          3.0,
          4.0,
          5.0
         ],
         "y": [
          90.0,
          65.8,
          20.9,
          2.2,
          0.6
         ],
         "type": "scatter"
        },
        {
         "mode": "lines+markers",
         "name": "p2818-distserve",
         "x": [
          1.0,
          2.0,
          3.0,
          4.0,
          5.0
         ],
         "y": [
          56.7,
          18.4,
          2.3,
          0.7000000000000001,
          0.1
         ],
         "type": "scatter"
        },
        {
         "mode": "lines+markers",
         "name": "p2821-distserve",
         "x": [
          1.0,
          2.0,
          3.0,
          4.0,
          5.0
         ],
         "y": [
          63.5,
          23.8,
          10.4,
          2.4,
          1.2
         ],
         "type": "scatter"
        },
        {
         "mode": "lines+markers",
         "name": "p2822-distserve",
         "x": [
          1.0,
          2.0,
          3.0,
          4.0,
          5.0
         ],
         "y": [
          90.0,
          65.60000000000001,
          19.3,
          2.2,
          0.6
         ],
         "type": "scatter"
        },
        {
         "mode": "lines+markers",
         "name": "p2824-distserve",
         "x": [
          1.0,
          2.0,
          3.0,
          4.0,
          5.0
         ],
         "y": [
          85.9,
          49.2,
          6.4,
          0.8999999999999999,
          0.1
         ],
         "type": "scatter"
        },
        {
         "mode": "lines+markers",
         "name": "p2828-distserve",
         "x": [
          1.0,
          2.0,
          3.0,
          4.0,
          5.0
         ],
         "y": [
          40.1,
          5.4,
          0.7000000000000001,
          0.1,
          0.1
         ],
         "type": "scatter"
        },
        {
         "mode": "lines+markers",
         "name": "p2841-distserve",
         "x": [
          1.0,
          2.0,
          3.0,
          4.0,
          5.0
         ],
         "y": [
          56.10000000000001,
          20.7,
          5.6000000000000005,
          1.4,
          0.5
         ],
         "type": "scatter"
        },
        {
         "mode": "lines+markers",
         "name": "p2842-distserve",
         "x": [
          1.0,
          2.0,
          3.0,
          4.0,
          5.0
         ],
         "y": [
          85.9,
          47.2,
          5.1,
          0.8999999999999999,
          0.1
         ],
         "type": "scatter"
        },
        {
         "mode": "lines+markers",
         "name": "p2844-distserve",
         "x": [
          1.0,
          2.0,
          3.0,
          4.0,
          5.0
         ],
         "y": [
          78.3,
          14.3,
          0.8999999999999999,
          0.1,
          0.1
         ],
         "type": "scatter"
        },
        {
         "mode": "lines+markers",
         "name": "p2881-distserve",
         "x": [
          1.0,
          2.0,
          3.0,
          4.0,
          5.0
         ],
         "y": [
          42.8,
          14.2,
          2.4,
          0.8,
          0.1
         ],
         "type": "scatter"
        },
        {
         "mode": "lines+markers",
         "name": "p2882-distserve",
         "x": [
          1.0,
          2.0,
          3.0,
          4.0,
          5.0
         ],
         "y": [
          78.3,
          12.9,
          0.8999999999999999,
          0.1,
          0.1
         ],
         "type": "scatter"
        },
        {
         "mode": "lines+markers",
         "name": "p4111-distserve",
         "x": [
          1.0,
          2.0,
          3.0,
          4.0,
          5.0
         ],
         "y": [
          100.0,
          99.6,
          96.9,
          93.0,
          81.8
         ],
         "type": "scatter"
        },
        {
         "mode": "lines+markers",
         "name": "p4112-distserve",
         "x": [
          1.0,
          2.0,
          3.0,
          4.0,
          5.0
         ],
         "y": [
          100.0,
          99.3,
          95.7,
          85.6,
          60.5
         ],
         "type": "scatter"
        },
        {
         "mode": "lines+markers",
         "name": "p4114-distserve",
         "x": [
          1.0,
          2.0,
          3.0,
          4.0,
          5.0
         ],
         "y": [
          99.9,
          96.6,
          85.6,
          48.0,
          3.9
         ],
         "type": "scatter"
        },
        {
         "mode": "lines+markers",
         "name": "p4118-distserve",
         "x": [
          1.0,
          2.0,
          3.0,
          4.0,
          5.0
         ],
         "y": [
          99.3,
          85.6,
          13.8,
          2.7,
          1.4
         ],
         "type": "scatter"
        },
        {
         "mode": "lines+markers",
         "name": "p4121-distserve",
         "x": [
          1.0,
          2.0,
          3.0,
          4.0,
          5.0
         ],
         "y": [
          100.0,
          99.3,
          95.7,
          85.6,
          60.5
         ],
         "type": "scatter"
        },
        {
         "mode": "lines+markers",
         "name": "p4122-distserve",
         "x": [
          1.0,
          2.0,
          3.0,
          4.0,
          5.0
         ],
         "y": [
          99.9,
          96.6,
          85.6,
          48.0,
          3.9
         ],
         "type": "scatter"
        },
        {
         "mode": "lines+markers",
         "name": "p4124-distserve",
         "x": [
          1.0,
          2.0,
          3.0,
          4.0,
          5.0
         ],
         "y": [
          99.3,
          85.6,
          13.8,
          2.7,
          1.4
         ],
         "type": "scatter"
        },
        {
         "mode": "lines+markers",
         "name": "p4128-distserve",
         "x": [
          1.0,
          2.0,
          3.0,
          4.0,
          5.0
         ],
         "y": [
          93.0,
          3.9,
          1.4,
          0.6,
          0.5
         ],
         "type": "scatter"
        },
        {
         "mode": "lines+markers",
         "name": "p4141-distserve",
         "x": [
          1.0,
          2.0,
          3.0,
          4.0,
          5.0
         ],
         "y": [
          99.9,
          96.6,
          85.6,
          47.8,
          3.9
         ],
         "type": "scatter"
        },
        {
         "mode": "lines+markers",
         "name": "p4142-distserve",
         "x": [
          1.0,
          2.0,
          3.0,
          4.0,
          5.0
         ],
         "y": [
          99.3,
          85.6,
          13.8,
          2.7,
          1.4
         ],
         "type": "scatter"
        },
        {
         "mode": "lines+markers",
         "name": "p4144-distserve",
         "x": [
          1.0,
          2.0,
          3.0,
          4.0,
          5.0
         ],
         "y": [
          93.0,
          3.9,
          1.4,
          0.7000000000000001,
          0.6
         ],
         "type": "scatter"
        },
        {
         "mode": "lines+markers",
         "name": "p4181-distserve",
         "x": [
          1.0,
          2.0,
          3.0,
          4.0,
          5.0
         ],
         "y": [
          99.3,
          85.6,
          13.8,
          2.7,
          1.4
         ],
         "type": "scatter"
        },
        {
         "mode": "lines+markers",
         "name": "p4182-distserve",
         "x": [
          1.0,
          2.0,
          3.0,
          4.0,
          5.0
         ],
         "y": [
          93.0,
          3.9,
          1.4,
          0.7000000000000001,
          0.6
         ],
         "type": "scatter"
        },
        {
         "mode": "lines+markers",
         "name": "p4211-distserve",
         "x": [
          1.0,
          2.0,
          3.0,
          4.0,
          5.0
         ],
         "y": [
          100.0,
          100.0,
          98.6,
          95.6,
          89.1
         ],
         "type": "scatter"
        },
        {
         "mode": "lines+markers",
         "name": "p4212-distserve",
         "x": [
          1.0,
          2.0,
          3.0,
          4.0,
          5.0
         ],
         "y": [
          100.0,
          100.0,
          98.1,
          93.5,
          81.0
         ],
         "type": "scatter"
        },
        {
         "mode": "lines+markers",
         "name": "p4214-distserve",
         "x": [
          1.0,
          2.0,
          3.0,
          4.0,
          5.0
         ],
         "y": [
          100.0,
          99.7,
          96.1,
          83.3,
          46.0
         ],
         "type": "scatter"
        },
        {
         "mode": "lines+markers",
         "name": "p4218-distserve",
         "x": [
          1.0,
          2.0,
          3.0,
          4.0,
          5.0
         ],
         "y": [
          100.0,
          97.6,
          83.3,
          25.0,
          4.2
         ],
         "type": "scatter"
        },
        {
         "mode": "lines+markers",
         "name": "p4221-distserve",
         "x": [
          1.0,
          2.0,
          3.0,
          4.0,
          5.0
         ],
         "y": [
          100.0,
          100.0,
          98.1,
          92.9,
          79.10000000000001
         ],
         "type": "scatter"
        },
        {
         "mode": "lines+markers",
         "name": "p4222-distserve",
         "x": [
          1.0,
          2.0,
          3.0,
          4.0,
          5.0
         ],
         "y": [
          100.0,
          99.7,
          96.1,
          83.3,
          46.0
         ],
         "type": "scatter"
        },
        {
         "mode": "lines+markers",
         "name": "p4224-distserve",
         "x": [
          1.0,
          2.0,
          3.0,
          4.0,
          5.0
         ],
         "y": [
          100.0,
          97.6,
          83.3,
          25.0,
          4.2
         ],
         "type": "scatter"
        },
        {
         "mode": "lines+markers",
         "name": "p4228-distserve",
         "x": [
          1.0,
          2.0,
          3.0,
          4.0,
          5.0
         ],
         "y": [
          99.7,
          83.3,
          4.3,
          2.9000000000000004,
          1.3
         ],
         "type": "scatter"
        },
        {
         "mode": "lines+markers",
         "name": "p4241-distserve",
         "x": [
          1.0,
          2.0,
          3.0,
          4.0,
          5.0
         ],
         "y": [
          100.0,
          99.7,
          95.6,
          82.1,
          42.0
         ],
         "type": "scatter"
        },
        {
         "mode": "lines+markers",
         "name": "p4242-distserve",
         "x": [
          1.0,
          2.0,
          3.0,
          4.0,
          5.0
         ],
         "y": [
          100.0,
          97.6,
          83.3,
          25.0,
          4.2
         ],
         "type": "scatter"
        },
        {
         "mode": "lines+markers",
         "name": "p4244-distserve",
         "x": [
          1.0,
          2.0,
          3.0,
          4.0,
          5.0
         ],
         "y": [
          99.7,
          83.3,
          4.3,
          2.9000000000000004,
          1.4
         ],
         "type": "scatter"
        },
        {
         "mode": "lines+markers",
         "name": "p4281-distserve",
         "x": [
          1.0,
          2.0,
          3.0,
          4.0,
          5.0
         ],
         "y": [
          100.0,
          97.4,
          82.1,
          22.7,
          4.2
         ],
         "type": "scatter"
        },
        {
         "mode": "lines+markers",
         "name": "p4282-distserve",
         "x": [
          1.0,
          2.0,
          3.0,
          4.0,
          5.0
         ],
         "y": [
          99.7,
          83.3,
          4.3,
          2.9000000000000004,
          1.4
         ],
         "type": "scatter"
        },
        {
         "mode": "lines+markers",
         "name": "p4411-distserve",
         "x": [
          1.0,
          2.0,
          3.0,
          4.0,
          5.0
         ],
         "y": [
          100.0,
          99.7,
          96.6,
          84.6,
          64.4
         ],
         "type": "scatter"
        },
        {
         "mode": "lines+markers",
         "name": "p4412-distserve",
         "x": [
          1.0,
          2.0,
          3.0,
          4.0,
          5.0
         ],
         "y": [
          100.0,
          100.0,
          97.8,
          92.5,
          68.5
         ],
         "type": "scatter"
        },
        {
         "mode": "lines+markers",
         "name": "p4414-distserve",
         "x": [
          1.0,
          2.0,
          3.0,
          4.0,
          5.0
         ],
         "y": [
          100.0,
          100.0,
          96.9,
          83.8,
          41.1
         ],
         "type": "scatter"
        },
        {
         "mode": "lines+markers",
         "name": "p4418-distserve",
         "x": [
          1.0,
          2.0,
          3.0,
          4.0,
          5.0
         ],
         "y": [
          100.0,
          98.6,
          92.5,
          53.7,
          4.3
         ],
         "type": "scatter"
        },
        {
         "mode": "lines+markers",
         "name": "p4421-distserve",
         "x": [
          1.0,
          2.0,
          3.0,
          4.0,
          5.0
         ],
         "y": [
          100.0,
          99.6,
          94.4,
          81.39999999999999,
          55.400000000000006
         ],
         "type": "scatter"
        },
        {
         "mode": "lines+markers",
         "name": "p4422-distserve",
         "x": [
          1.0,
          2.0,
          3.0,
          4.0,
          5.0
         ],
         "y": [
          100.0,
          100.0,
          96.9,
          83.8,
          41.1
         ],
         "type": "scatter"
        },
        {
         "mode": "lines+markers",
         "name": "p4424-distserve",
         "x": [
          1.0,
          2.0,
          3.0,
          4.0,
          5.0
         ],
         "y": [
          100.0,
          98.6,
          92.5,
          53.7,
          4.3
         ],
         "type": "scatter"
        },
        {
         "mode": "lines+markers",
         "name": "p4428-distserve",
         "x": [
          1.0,
          2.0,
          3.0,
          4.0,
          5.0
         ],
         "y": [
          100.0,
          95.1,
          53.7,
          4.3,
          3.7
         ],
         "type": "scatter"
        },
        {
         "mode": "lines+markers",
         "name": "p4441-distserve",
         "x": [
          1.0,
          2.0,
          3.0,
          4.0,
          5.0
         ],
         "y": [
          100.0,
          99.6,
          90.2,
          70.8,
          31.4
         ],
         "type": "scatter"
        },
        {
         "mode": "lines+markers",
         "name": "p4442-distserve",
         "x": [
          1.0,
          2.0,
          3.0,
          4.0,
          5.0
         ],
         "y": [
          100.0,
          98.6,
          92.5,
          53.7,
          4.3
         ],
         "type": "scatter"
        },
        {
         "mode": "lines+markers",
         "name": "p4444-distserve",
         "x": [
          1.0,
          2.0,
          3.0,
          4.0,
          5.0
         ],
         "y": [
          100.0,
          95.1,
          53.7,
          4.3,
          3.7
         ],
         "type": "scatter"
        },
        {
         "mode": "lines+markers",
         "name": "p4481-distserve",
         "x": [
          1.0,
          2.0,
          3.0,
          4.0,
          5.0
         ],
         "y": [
          100.0,
          97.2,
          81.39999999999999,
          42.3,
          4.3
         ],
         "type": "scatter"
        },
        {
         "mode": "lines+markers",
         "name": "p4482-distserve",
         "x": [
          1.0,
          2.0,
          3.0,
          4.0,
          5.0
         ],
         "y": [
          100.0,
          95.1,
          53.7,
          4.3,
          3.7
         ],
         "type": "scatter"
        }
       ],
       "layout": {
        "template": {
         "data": {
          "histogram2dcontour": [
           {
            "type": "histogram2dcontour",
            "colorbar": {
             "outlinewidth": 0,
             "ticks": ""
            },
            "colorscale": [
             [
              0.0,
              "#0d0887"
             ],
             [
              0.1111111111111111,
              "#46039f"
             ],
             [
              0.2222222222222222,
              "#7201a8"
             ],
             [
              0.3333333333333333,
              "#9c179e"
             ],
             [
              0.4444444444444444,
              "#bd3786"
             ],
             [
              0.5555555555555556,
              "#d8576b"
             ],
             [
              0.6666666666666666,
              "#ed7953"
             ],
             [
              0.7777777777777778,
              "#fb9f3a"
             ],
             [
              0.8888888888888888,
              "#fdca26"
             ],
             [
              1.0,
              "#f0f921"
             ]
            ]
           }
          ],
          "choropleth": [
           {
            "type": "choropleth",
            "colorbar": {
             "outlinewidth": 0,
             "ticks": ""
            }
           }
          ],
          "histogram2d": [
           {
            "type": "histogram2d",
            "colorbar": {
             "outlinewidth": 0,
             "ticks": ""
            },
            "colorscale": [
             [
              0.0,
              "#0d0887"
             ],
             [
              0.1111111111111111,
              "#46039f"
             ],
             [
              0.2222222222222222,
              "#7201a8"
             ],
             [
              0.3333333333333333,
              "#9c179e"
             ],
             [
              0.4444444444444444,
              "#bd3786"
             ],
             [
              0.5555555555555556,
              "#d8576b"
             ],
             [
              0.6666666666666666,
              "#ed7953"
             ],
             [
              0.7777777777777778,
              "#fb9f3a"
             ],
             [
              0.8888888888888888,
              "#fdca26"
             ],
             [
              1.0,
              "#f0f921"
             ]
            ]
           }
          ],
          "heatmap": [
           {
            "type": "heatmap",
            "colorbar": {
             "outlinewidth": 0,
             "ticks": ""
            },
            "colorscale": [
             [
              0.0,
              "#0d0887"
             ],
             [
              0.1111111111111111,
              "#46039f"
             ],
             [
              0.2222222222222222,
              "#7201a8"
             ],
             [
              0.3333333333333333,
              "#9c179e"
             ],
             [
              0.4444444444444444,
              "#bd3786"
             ],
             [
              0.5555555555555556,
              "#d8576b"
             ],
             [
              0.6666666666666666,
              "#ed7953"
             ],
             [
              0.7777777777777778,
              "#fb9f3a"
             ],
             [
              0.8888888888888888,
              "#fdca26"
             ],
             [
              1.0,
              "#f0f921"
             ]
            ]
           }
          ],
          "heatmapgl": [
           {
            "type": "heatmapgl",
            "colorbar": {
             "outlinewidth": 0,
             "ticks": ""
            },
            "colorscale": [
             [
              0.0,
              "#0d0887"
             ],
             [
              0.1111111111111111,
              "#46039f"
             ],
             [
              0.2222222222222222,
              "#7201a8"
             ],
             [
              0.3333333333333333,
              "#9c179e"
             ],
             [
              0.4444444444444444,
              "#bd3786"
             ],
             [
              0.5555555555555556,
              "#d8576b"
             ],
             [
              0.6666666666666666,
              "#ed7953"
             ],
             [
              0.7777777777777778,
              "#fb9f3a"
             ],
             [
              0.8888888888888888,
              "#fdca26"
             ],
             [
              1.0,
              "#f0f921"
             ]
            ]
           }
          ],
          "contourcarpet": [
           {
            "type": "contourcarpet",
            "colorbar": {
             "outlinewidth": 0,
             "ticks": ""
            }
           }
          ],
          "contour": [
           {
            "type": "contour",
            "colorbar": {
             "outlinewidth": 0,
             "ticks": ""
            },
            "colorscale": [
             [
              0.0,
              "#0d0887"
             ],
             [
              0.1111111111111111,
              "#46039f"
             ],
             [
              0.2222222222222222,
              "#7201a8"
             ],
             [
              0.3333333333333333,
              "#9c179e"
             ],
             [
              0.4444444444444444,
              "#bd3786"
             ],
             [
              0.5555555555555556,
              "#d8576b"
             ],
             [
              0.6666666666666666,
              "#ed7953"
             ],
             [
              0.7777777777777778,
              "#fb9f3a"
             ],
             [
              0.8888888888888888,
              "#fdca26"
             ],
             [
              1.0,
              "#f0f921"
             ]
            ]
           }
          ],
          "surface": [
           {
            "type": "surface",
            "colorbar": {
             "outlinewidth": 0,
             "ticks": ""
            },
            "colorscale": [
             [
              0.0,
              "#0d0887"
             ],
             [
              0.1111111111111111,
              "#46039f"
             ],
             [
              0.2222222222222222,
              "#7201a8"
             ],
             [
              0.3333333333333333,
              "#9c179e"
             ],
             [
              0.4444444444444444,
              "#bd3786"
             ],
             [
              0.5555555555555556,
              "#d8576b"
             ],
             [
              0.6666666666666666,
              "#ed7953"
             ],
             [
              0.7777777777777778,
              "#fb9f3a"
             ],
             [
              0.8888888888888888,
              "#fdca26"
             ],
             [
              1.0,
              "#f0f921"
             ]
            ]
           }
          ],
          "mesh3d": [
           {
            "type": "mesh3d",
            "colorbar": {
             "outlinewidth": 0,
             "ticks": ""
            }
           }
          ],
          "scatter": [
           {
            "marker": {
             "line": {
              "color": "#283442"
             }
            },
            "type": "scatter"
           }
          ],
          "parcoords": [
           {
            "type": "parcoords",
            "line": {
             "colorbar": {
              "outlinewidth": 0,
              "ticks": ""
             }
            }
           }
          ],
          "scatterpolargl": [
           {
            "type": "scatterpolargl",
            "marker": {
             "colorbar": {
              "outlinewidth": 0,
              "ticks": ""
             }
            }
           }
          ],
          "bar": [
           {
            "error_x": {
             "color": "#f2f5fa"
            },
            "error_y": {
             "color": "#f2f5fa"
            },
            "marker": {
             "line": {
              "color": "rgb(17,17,17)",
              "width": 0.5
             },
             "pattern": {
              "fillmode": "overlay",
              "size": 10,
              "solidity": 0.2
             }
            },
            "type": "bar"
           }
          ],
          "scattergeo": [
           {
            "type": "scattergeo",
            "marker": {
             "colorbar": {
              "outlinewidth": 0,
              "ticks": ""
             }
            }
           }
          ],
          "scatterpolar": [
           {
            "type": "scatterpolar",
            "marker": {
             "colorbar": {
              "outlinewidth": 0,
              "ticks": ""
             }
            }
           }
          ],
          "histogram": [
           {
            "marker": {
             "pattern": {
              "fillmode": "overlay",
              "size": 10,
              "solidity": 0.2
             }
            },
            "type": "histogram"
           }
          ],
          "scattergl": [
           {
            "marker": {
             "line": {
              "color": "#283442"
             }
            },
            "type": "scattergl"
           }
          ],
          "scatter3d": [
           {
            "type": "scatter3d",
            "line": {
             "colorbar": {
              "outlinewidth": 0,
              "ticks": ""
             }
            },
            "marker": {
             "colorbar": {
              "outlinewidth": 0,
              "ticks": ""
             }
            }
           }
          ],
          "scattermapbox": [
           {
            "type": "scattermapbox",
            "marker": {
             "colorbar": {
              "outlinewidth": 0,
              "ticks": ""
             }
            }
           }
          ],
          "scatterternary": [
           {
            "type": "scatterternary",
            "marker": {
             "colorbar": {
              "outlinewidth": 0,
              "ticks": ""
             }
            }
           }
          ],
          "scattercarpet": [
           {
            "type": "scattercarpet",
            "marker": {
             "colorbar": {
              "outlinewidth": 0,
              "ticks": ""
             }
            }
           }
          ],
          "carpet": [
           {
            "aaxis": {
             "endlinecolor": "#A2B1C6",
             "gridcolor": "#506784",
             "linecolor": "#506784",
             "minorgridcolor": "#506784",
             "startlinecolor": "#A2B1C6"
            },
            "baxis": {
             "endlinecolor": "#A2B1C6",
             "gridcolor": "#506784",
             "linecolor": "#506784",
             "minorgridcolor": "#506784",
             "startlinecolor": "#A2B1C6"
            },
            "type": "carpet"
           }
          ],
          "table": [
           {
            "cells": {
             "fill": {
              "color": "#506784"
             },
             "line": {
              "color": "rgb(17,17,17)"
             }
            },
            "header": {
             "fill": {
              "color": "#2a3f5f"
             },
             "line": {
              "color": "rgb(17,17,17)"
             }
            },
            "type": "table"
           }
          ],
          "barpolar": [
           {
            "marker": {
             "line": {
              "color": "rgb(17,17,17)",
              "width": 0.5
             },
             "pattern": {
              "fillmode": "overlay",
              "size": 10,
              "solidity": 0.2
             }
            },
            "type": "barpolar"
           }
          ],
          "pie": [
           {
            "automargin": true,
            "type": "pie"
           }
          ]
         },
         "layout": {
          "autotypenumbers": "strict",
          "colorway": [
           "#636efa",
           "#EF553B",
           "#00cc96",
           "#ab63fa",
           "#FFA15A",
           "#19d3f3",
           "#FF6692",
           "#B6E880",
           "#FF97FF",
           "#FECB52"
          ],
          "font": {
           "color": "#f2f5fa"
          },
          "hovermode": "closest",
          "hoverlabel": {
           "align": "left"
          },
          "paper_bgcolor": "rgb(17,17,17)",
          "plot_bgcolor": "rgb(17,17,17)",
          "polar": {
           "bgcolor": "rgb(17,17,17)",
           "angularaxis": {
            "gridcolor": "#506784",
            "linecolor": "#506784",
            "ticks": ""
           },
           "radialaxis": {
            "gridcolor": "#506784",
            "linecolor": "#506784",
            "ticks": ""
           }
          },
          "ternary": {
           "bgcolor": "rgb(17,17,17)",
           "aaxis": {
            "gridcolor": "#506784",
            "linecolor": "#506784",
            "ticks": ""
           },
           "baxis": {
            "gridcolor": "#506784",
            "linecolor": "#506784",
            "ticks": ""
           },
           "caxis": {
            "gridcolor": "#506784",
            "linecolor": "#506784",
            "ticks": ""
           }
          },
          "coloraxis": {
           "colorbar": {
            "outlinewidth": 0,
            "ticks": ""
           }
          },
          "colorscale": {
           "sequential": [
            [
             0.0,
             "#0d0887"
            ],
            [
             0.1111111111111111,
             "#46039f"
            ],
            [
             0.2222222222222222,
             "#7201a8"
            ],
            [
             0.3333333333333333,
             "#9c179e"
            ],
            [
             0.4444444444444444,
             "#bd3786"
            ],
            [
             0.5555555555555556,
             "#d8576b"
            ],
            [
             0.6666666666666666,
             "#ed7953"
            ],
            [
             0.7777777777777778,
             "#fb9f3a"
            ],
            [
             0.8888888888888888,
             "#fdca26"
            ],
            [
             1.0,
             "#f0f921"
            ]
           ],
           "sequentialminus": [
            [
             0.0,
             "#0d0887"
            ],
            [
             0.1111111111111111,
             "#46039f"
            ],
            [
             0.2222222222222222,
             "#7201a8"
            ],
            [
             0.3333333333333333,
             "#9c179e"
            ],
            [
             0.4444444444444444,
             "#bd3786"
            ],
            [
             0.5555555555555556,
             "#d8576b"
            ],
            [
             0.6666666666666666,
             "#ed7953"
            ],
            [
             0.7777777777777778,
             "#fb9f3a"
            ],
            [
             0.8888888888888888,
             "#fdca26"
            ],
            [
             1.0,
             "#f0f921"
            ]
           ],
           "diverging": [
            [
             0,
             "#8e0152"
            ],
            [
             0.1,
             "#c51b7d"
            ],
            [
             0.2,
             "#de77ae"
            ],
            [
             0.3,
             "#f1b6da"
            ],
            [
             0.4,
             "#fde0ef"
            ],
            [
             0.5,
             "#f7f7f7"
            ],
            [
             0.6,
             "#e6f5d0"
            ],
            [
             0.7,
             "#b8e186"
            ],
            [
             0.8,
             "#7fbc41"
            ],
            [
             0.9,
             "#4d9221"
            ],
            [
             1,
             "#276419"
            ]
           ]
          },
          "xaxis": {
           "gridcolor": "#283442",
           "linecolor": "#506784",
           "ticks": "",
           "title": {
            "standoff": 15
           },
           "zerolinecolor": "#283442",
           "automargin": true,
           "zerolinewidth": 2
          },
          "yaxis": {
           "gridcolor": "#283442",
           "linecolor": "#506784",
           "ticks": "",
           "title": {
            "standoff": 15
           },
           "zerolinecolor": "#283442",
           "automargin": true,
           "zerolinewidth": 2
          },
          "scene": {
           "xaxis": {
            "backgroundcolor": "rgb(17,17,17)",
            "gridcolor": "#506784",
            "linecolor": "#506784",
            "showbackground": true,
            "ticks": "",
            "zerolinecolor": "#C8D4E3",
            "gridwidth": 2
           },
           "yaxis": {
            "backgroundcolor": "rgb(17,17,17)",
            "gridcolor": "#506784",
            "linecolor": "#506784",
            "showbackground": true,
            "ticks": "",
            "zerolinecolor": "#C8D4E3",
            "gridwidth": 2
           },
           "zaxis": {
            "backgroundcolor": "rgb(17,17,17)",
            "gridcolor": "#506784",
            "linecolor": "#506784",
            "showbackground": true,
            "ticks": "",
            "zerolinecolor": "#C8D4E3",
            "gridwidth": 2
           }
          },
          "shapedefaults": {
           "line": {
            "color": "#f2f5fa"
           }
          },
          "annotationdefaults": {
           "arrowcolor": "#f2f5fa",
           "arrowhead": 0,
           "arrowwidth": 1
          },
          "geo": {
           "bgcolor": "rgb(17,17,17)",
           "landcolor": "rgb(17,17,17)",
           "subunitcolor": "#506784",
           "showland": true,
           "showlakes": true,
           "lakecolor": "rgb(17,17,17)"
          },
          "title": {
           "x": 0.05
          },
          "updatemenudefaults": {
           "bgcolor": "#506784",
           "borderwidth": 0
          },
          "sliderdefaults": {
           "bgcolor": "#C8D4E3",
           "borderwidth": 1,
           "bordercolor": "rgb(17,17,17)",
           "tickwidth": 0
          },
          "mapbox": {
           "style": "dark"
          }
         }
        },
        "title": {
         "text": "DistServe"
        },
        "xaxis": {
         "title": {
          "text": "Per-GPU Rate (tokens/s)"
         }
        },
        "yaxis": {
         "title": {
          "text": "Attainment (%)"
         }
        },
        "legend": {
         "title": {
          "text": "Configuration"
         }
        }
       },
       "config": {
        "plotlyServerURL": "https://plot.ly"
       }
      },
      "text/html": "<div>                            <div id=\"32cdfdad-1f33-4c20-a1cb-87025657f0b9\" class=\"plotly-graph-div\" style=\"height:525px; width:100%;\"></div>            <script type=\"text/javascript\">                require([\"plotly\"], function(Plotly) {                    window.PLOTLYENV=window.PLOTLYENV || {};                                    if (document.getElementById(\"32cdfdad-1f33-4c20-a1cb-87025657f0b9\")) {                    Plotly.newPlot(                        \"32cdfdad-1f33-4c20-a1cb-87025657f0b9\",                        [{\"mode\":\"lines+markers\",\"name\":\"p1111-distserve\",\"x\":[1.0,2.0,3.0,4.0,5.0],\"y\":[91.6,80.5,68.30000000000001,23.5,10.3],\"type\":\"scatter\"},{\"mode\":\"lines+markers\",\"name\":\"p1112-distserve\",\"x\":[1.0,2.0,3.0,4.0,5.0],\"y\":[87.0,68.60000000000001,42.0,10.0,1.2],\"type\":\"scatter\"},{\"mode\":\"lines+markers\",\"name\":\"p1114-distserve\",\"x\":[1.0,2.0,3.0,4.0,5.0],\"y\":[74.1,31.9,1.2,0.1,0.1],\"type\":\"scatter\"},{\"mode\":\"lines+markers\",\"name\":\"p1118-distserve\",\"x\":[1.0,2.0,3.0,4.0,5.0],\"y\":[6.3,0.3,0.1,0.1,0.1],\"type\":\"scatter\"},{\"mode\":\"lines+markers\",\"name\":\"p1121-distserve\",\"x\":[1.0,2.0,3.0,4.0,5.0],\"y\":[87.0,68.30000000000001,15.8,2.5,1.2],\"type\":\"scatter\"},{\"mode\":\"lines+markers\",\"name\":\"p1122-distserve\",\"x\":[1.0,2.0,3.0,4.0,5.0],\"y\":[74.1,31.9,1.2,0.1,0.1],\"type\":\"scatter\"},{\"mode\":\"lines+markers\",\"name\":\"p1124-distserve\",\"x\":[1.0,2.0,3.0,4.0,5.0],\"y\":[42.0,0.3,0.1,0.1,0.1],\"type\":\"scatter\"},{\"mode\":\"lines+markers\",\"name\":\"p1128-distserve\",\"x\":[1.0,2.0,3.0,4.0,5.0],\"y\":[0.5,0.1,0.1,0.1,0.1],\"type\":\"scatter\"},{\"mode\":\"lines+markers\",\"name\":\"p1141-distserve\",\"x\":[1.0,2.0,3.0,4.0,5.0],\"y\":[74.1,10.3,1.2,0.1,0.1],\"type\":\"scatter\"},{\"mode\":\"lines+markers\",\"name\":\"p1142-distserve\",\"x\":[1.0,2.0,3.0,4.0,5.0],\"y\":[42.0,0.3,0.1,0.1,0.1],\"type\":\"scatter\"},{\"mode\":\"lines+markers\",\"name\":\"p1144-distserve\",\"x\":[1.0,2.0,3.0,4.0,5.0],\"y\":[0.5,0.1,0.1,0.1,0.1],\"type\":\"scatter\"},{\"mode\":\"lines+markers\",\"name\":\"p1181-distserve\",\"x\":[1.0,2.0,3.0,4.0,5.0],\"y\":[15.8,0.3,0.1,0.1,0.1],\"type\":\"scatter\"},{\"mode\":\"lines+markers\",\"name\":\"p1182-distserve\",\"x\":[1.0,2.0,3.0,4.0,5.0],\"y\":[0.5,0.1,0.1,0.1,0.1],\"type\":\"scatter\"},{\"mode\":\"lines+markers\",\"name\":\"p1211-distserve\",\"x\":[1.0,2.0,3.0,4.0,5.0],\"y\":[92.9,86.2,30.0,15.2,9.7],\"type\":\"scatter\"},{\"mode\":\"lines+markers\",\"name\":\"p1212-distserve\",\"x\":[1.0,2.0,3.0,4.0,5.0],\"y\":[92.3,81.10000000000001,61.9,29.5,7.399999999999999],\"type\":\"scatter\"},{\"mode\":\"lines+markers\",\"name\":\"p1214-distserve\",\"x\":[1.0,2.0,3.0,4.0,5.0],\"y\":[87.1,66.0,31.3,1.7000000000000002,0.8],\"type\":\"scatter\"},{\"mode\":\"lines+markers\",\"name\":\"p1218-distserve\",\"x\":[1.0,2.0,3.0,4.0,5.0],\"y\":[9.2,1.3,0.6,0.1,0.1],\"type\":\"scatter\"},{\"mode\":\"lines+markers\",\"name\":\"p1221-distserve\",\"x\":[1.0,2.0,3.0,4.0,5.0],\"y\":[92.3,39.0,15.2,8.200000000000001,2.8000000000000003],\"type\":\"scatter\"},{\"mode\":\"lines+markers\",\"name\":\"p1222-distserve\",\"x\":[1.0,2.0,3.0,4.0,5.0],\"y\":[87.1,61.9,16.8,1.7000000000000002,0.8],\"type\":\"scatter\"},{\"mode\":\"lines+markers\",\"name\":\"p1224-distserve\",\"x\":[1.0,2.0,3.0,4.0,5.0],\"y\":[73.2,16.5,0.8,0.1,0.1],\"type\":\"scatter\"},{\"mode\":\"lines+markers\",\"name\":\"p1228-distserve\",\"x\":[1.0,2.0,3.0,4.0,5.0],\"y\":[3.0,0.1,0.1,0.1,0.1],\"type\":\"scatter\"},{\"mode\":\"lines+markers\",\"name\":\"p1241-distserve\",\"x\":[1.0,2.0,3.0,4.0,5.0],\"y\":[86.2,15.2,5.3,1.6,0.7000000000000001],\"type\":\"scatter\"},{\"mode\":\"lines+markers\",\"name\":\"p1242-distserve\",\"x\":[1.0,2.0,3.0,4.0,5.0],\"y\":[73.2,7.399999999999999,0.8,0.1,0.1],\"type\":\"scatter\"},{\"mode\":\"lines+markers\",\"name\":\"p1244-distserve\",\"x\":[1.0,2.0,3.0,4.0,5.0],\"y\":[31.3,0.1,0.1,0.1,0.1],\"type\":\"scatter\"},{\"mode\":\"lines+markers\",\"name\":\"p1281-distserve\",\"x\":[1.0,2.0,3.0,4.0,5.0],\"y\":[22.6,2.8000000000000003,0.7000000000000001,0.1,0.1],\"type\":\"scatter\"},{\"mode\":\"lines+markers\",\"name\":\"p1282-distserve\",\"x\":[1.0,2.0,3.0,4.0,5.0],\"y\":[16.8,0.1,0.1,0.1,0.1],\"type\":\"scatter\"},{\"mode\":\"lines+markers\",\"name\":\"p1411-distserve\",\"x\":[1.0,2.0,3.0,4.0,5.0],\"y\":[90.1,27.0,15.1,9.6,6.4],\"type\":\"scatter\"},{\"mode\":\"lines+markers\",\"name\":\"p1412-distserve\",\"x\":[1.0,2.0,3.0,4.0,5.0],\"y\":[89.7,75.0,36.6,19.8,8.5],\"type\":\"scatter\"},{\"mode\":\"lines+markers\",\"name\":\"p1414-distserve\",\"x\":[1.0,2.0,3.0,4.0,5.0],\"y\":[86.7,72.1,48.6,16.3,1.9],\"type\":\"scatter\"},{\"mode\":\"lines+markers\",\"name\":\"p1418-distserve\",\"x\":[1.0,2.0,3.0,4.0,5.0],\"y\":[8.9,3.8,1.0,0.7000000000000001,0.1],\"type\":\"scatter\"},{\"mode\":\"lines+markers\",\"name\":\"p1421-distserve\",\"x\":[1.0,2.0,3.0,4.0,5.0],\"y\":[89.5,19.6,12.1,7.1,3.5000000000000004],\"type\":\"scatter\"},{\"mode\":\"lines+markers\",\"name\":\"p1422-distserve\",\"x\":[1.0,2.0,3.0,4.0,5.0],\"y\":[86.7,44.3,19.8,5.2,1.5],\"type\":\"scatter\"},{\"mode\":\"lines+markers\",\"name\":\"p1424-distserve\",\"x\":[1.0,2.0,3.0,4.0,5.0],\"y\":[81.39999999999999,48.6,5.2,1.0,0.1],\"type\":\"scatter\"},{\"mode\":\"lines+markers\",\"name\":\"p1428-distserve\",\"x\":[1.0,2.0,3.0,4.0,5.0],\"y\":[4.8,0.8999999999999999,0.1,0.1,0.1],\"type\":\"scatter\"},{\"mode\":\"lines+markers\",\"name\":\"p1441-distserve\",\"x\":[1.0,2.0,3.0,4.0,5.0],\"y\":[41.5,14.2,7.1,2.5,1.3],\"type\":\"scatter\"},{\"mode\":\"lines+markers\",\"name\":\"p1442-distserve\",\"x\":[1.0,2.0,3.0,4.0,5.0],\"y\":[75.0,19.8,2.3,1.0,0.1],\"type\":\"scatter\"},{\"mode\":\"lines+markers\",\"name\":\"p1444-distserve\",\"x\":[1.0,2.0,3.0,4.0,5.0],\"y\":[61.1,1.9,0.1,0.1,0.1],\"type\":\"scatter\"},{\"mode\":\"lines+markers\",\"name\":\"p1481-distserve\",\"x\":[1.0,2.0,3.0,4.0,5.0],\"y\":[19.6,7.1,1.5,0.8,0.1],\"type\":\"scatter\"},{\"mode\":\"lines+markers\",\"name\":\"p1482-distserve\",\"x\":[1.0,2.0,3.0,4.0,5.0],\"y\":[28.9,1.5,0.1,0.1,0.1],\"type\":\"scatter\"},{\"mode\":\"lines+markers\",\"name\":\"p1811-distserve\",\"x\":[1.0,2.0,3.0,4.0,5.0],\"y\":[25.6,8.6,3.8,2.0,0.6],\"type\":\"scatter\"},{\"mode\":\"lines+markers\",\"name\":\"p1812-distserve\",\"x\":[1.0,2.0,3.0,4.0,5.0],\"y\":[65.10000000000001,21.9,9.4,2.6,0.6],\"type\":\"scatter\"},{\"mode\":\"lines+markers\",\"name\":\"p1814-distserve\",\"x\":[1.0,2.0,3.0,4.0,5.0],\"y\":[61.3,38.8,14.000000000000002,2.8000000000000003,0.1],\"type\":\"scatter\"},{\"mode\":\"lines+markers\",\"name\":\"p1818-distserve\",\"x\":[1.0,2.0,3.0,4.0,5.0],\"y\":[4.3,1.0,0.4,0.1,0.1],\"type\":\"scatter\"},{\"mode\":\"lines+markers\",\"name\":\"p1821-distserve\",\"x\":[1.0,2.0,3.0,4.0,5.0],\"y\":[20.200000000000003,7.5,2.9000000000000004,1.0,0.4],\"type\":\"scatter\"},{\"mode\":\"lines+markers\",\"name\":\"p1822-distserve\",\"x\":[1.0,2.0,3.0,4.0,5.0],\"y\":[59.0,15.5,5.1,0.8,0.1],\"type\":\"scatter\"},{\"mode\":\"lines+markers\",\"name\":\"p1824-distserve\",\"x\":[1.0,2.0,3.0,4.0,5.0],\"y\":[54.900000000000006,20.9,2.8000000000000003,0.1,0.1],\"type\":\"scatter\"},{\"mode\":\"lines+markers\",\"name\":\"p1828-distserve\",\"x\":[1.0,2.0,3.0,4.0,5.0],\"y\":[2.1,0.4,0.1,0.1,0.1],\"type\":\"scatter\"},{\"mode\":\"lines+markers\",\"name\":\"p1841-distserve\",\"x\":[1.0,2.0,3.0,4.0,5.0],\"y\":[14.6,4.8,2.0,0.4,0.1],\"type\":\"scatter\"},{\"mode\":\"lines+markers\",\"name\":\"p1842-distserve\",\"x\":[1.0,2.0,3.0,4.0,5.0],\"y\":[36.9,6.800000000000001,0.8,0.1,0.1],\"type\":\"scatter\"},{\"mode\":\"lines+markers\",\"name\":\"p1844-distserve\",\"x\":[1.0,2.0,3.0,4.0,5.0],\"y\":[38.8,2.8000000000000003,0.1,0.1,0.1],\"type\":\"scatter\"},{\"mode\":\"lines+markers\",\"name\":\"p1881-distserve\",\"x\":[1.0,2.0,3.0,4.0,5.0],\"y\":[10.4,2.5,0.4,0.1,0.1],\"type\":\"scatter\"},{\"mode\":\"lines+markers\",\"name\":\"p1882-distserve\",\"x\":[1.0,2.0,3.0,4.0,5.0],\"y\":[15.5,0.8,0.1,0.1,0.1],\"type\":\"scatter\"},{\"mode\":\"lines+markers\",\"name\":\"p2111-distserve\",\"x\":[1.0,2.0,3.0,4.0,5.0],\"y\":[98.5,93.2,84.2,69.0,43.7],\"type\":\"scatter\"},{\"mode\":\"lines+markers\",\"name\":\"p2112-distserve\",\"x\":[1.0,2.0,3.0,4.0,5.0],\"y\":[97.5,87.5,69.0,39.6,4.2],\"type\":\"scatter\"},{\"mode\":\"lines+markers\",\"name\":\"p2114-distserve\",\"x\":[1.0,2.0,3.0,4.0,5.0],\"y\":[93.2,69.0,20.9,1.3,0.3],\"type\":\"scatter\"},{\"mode\":\"lines+markers\",\"name\":\"p2118-distserve\",\"x\":[1.0,2.0,3.0,4.0,5.0],\"y\":[80.0,3.8,0.3,0.1,0.1],\"type\":\"scatter\"},{\"mode\":\"lines+markers\",\"name\":\"p2121-distserve\",\"x\":[1.0,2.0,3.0,4.0,5.0],\"y\":[97.5,87.5,69.0,32.9,3.2],\"type\":\"scatter\"},{\"mode\":\"lines+markers\",\"name\":\"p2122-distserve\",\"x\":[1.0,2.0,3.0,4.0,5.0],\"y\":[93.2,69.0,20.9,1.3,0.3],\"type\":\"scatter\"},{\"mode\":\"lines+markers\",\"name\":\"p2124-distserve\",\"x\":[1.0,2.0,3.0,4.0,5.0],\"y\":[80.0,4.2,0.3,0.1,0.1],\"type\":\"scatter\"},{\"mode\":\"lines+markers\",\"name\":\"p2128-distserve\",\"x\":[1.0,2.0,3.0,4.0,5.0],\"y\":[16.8,0.2,0.1,0.1,0.1],\"type\":\"scatter\"},{\"mode\":\"lines+markers\",\"name\":\"p2141-distserve\",\"x\":[1.0,2.0,3.0,4.0,5.0],\"y\":[93.2,69.0,14.6,1.3,0.3],\"type\":\"scatter\"},{\"mode\":\"lines+markers\",\"name\":\"p2142-distserve\",\"x\":[1.0,2.0,3.0,4.0,5.0],\"y\":[80.0,4.2,0.3,0.1,0.1],\"type\":\"scatter\"},{\"mode\":\"lines+markers\",\"name\":\"p2144-distserve\",\"x\":[1.0,2.0,3.0,4.0,5.0],\"y\":[20.9,0.2,0.1,0.1,0.1],\"type\":\"scatter\"},{\"mode\":\"lines+markers\",\"name\":\"p2181-distserve\",\"x\":[1.0,2.0,3.0,4.0,5.0],\"y\":[80.0,3.2,0.3,0.1,0.1],\"type\":\"scatter\"},{\"mode\":\"lines+markers\",\"name\":\"p2182-distserve\",\"x\":[1.0,2.0,3.0,4.0,5.0],\"y\":[20.9,0.2,0.1,0.1,0.1],\"type\":\"scatter\"},{\"mode\":\"lines+markers\",\"name\":\"p2211-distserve\",\"x\":[1.0,2.0,3.0,4.0,5.0],\"y\":[100.0,98.2,83.2,49.2,28.8],\"type\":\"scatter\"},{\"mode\":\"lines+markers\",\"name\":\"p2212-distserve\",\"x\":[1.0,2.0,3.0,4.0,5.0],\"y\":[99.7,96.4,86.2,64.3,36.8],\"type\":\"scatter\"},{\"mode\":\"lines+markers\",\"name\":\"p2214-distserve\",\"x\":[1.0,2.0,3.0,4.0,5.0],\"y\":[99.2,89.2,64.3,26.4,2.8000000000000003],\"type\":\"scatter\"},{\"mode\":\"lines+markers\",\"name\":\"p2218-distserve\",\"x\":[1.0,2.0,3.0,4.0,5.0],\"y\":[96.4,42.6,3.7,1.3,0.1],\"type\":\"scatter\"},{\"mode\":\"lines+markers\",\"name\":\"p2221-distserve\",\"x\":[1.0,2.0,3.0,4.0,5.0],\"y\":[99.7,96.2,58.9,31.5,13.6],\"type\":\"scatter\"},{\"mode\":\"lines+markers\",\"name\":\"p2222-distserve\",\"x\":[1.0,2.0,3.0,4.0,5.0],\"y\":[99.2,89.2,64.3,26.4,2.8000000000000003],\"type\":\"scatter\"},{\"mode\":\"lines+markers\",\"name\":\"p2224-distserve\",\"x\":[1.0,2.0,3.0,4.0,5.0],\"y\":[96.4,64.3,4.5,1.3,0.1],\"type\":\"scatter\"},{\"mode\":\"lines+markers\",\"name\":\"p2228-distserve\",\"x\":[1.0,2.0,3.0,4.0,5.0],\"y\":[62.3,2.8000000000000003,0.1,0.1,0.1],\"type\":\"scatter\"},{\"mode\":\"lines+markers\",\"name\":\"p2241-distserve\",\"x\":[1.0,2.0,3.0,4.0,5.0],\"y\":[99.2,73.4,31.5,9.5,2.8000000000000003],\"type\":\"scatter\"},{\"mode\":\"lines+markers\",\"name\":\"p2242-distserve\",\"x\":[1.0,2.0,3.0,4.0,5.0],\"y\":[96.4,64.3,4.5,1.3,0.1],\"type\":\"scatter\"},{\"mode\":\"lines+markers\",\"name\":\"p2244-distserve\",\"x\":[1.0,2.0,3.0,4.0,5.0],\"y\":[80.9,2.8000000000000003,0.1,0.1,0.1],\"type\":\"scatter\"},{\"mode\":\"lines+markers\",\"name\":\"p2281-distserve\",\"x\":[1.0,2.0,3.0,4.0,5.0],\"y\":[96.2,31.5,3.6,1.3,0.1],\"type\":\"scatter\"},{\"mode\":\"lines+markers\",\"name\":\"p2282-distserve\",\"x\":[1.0,2.0,3.0,4.0,5.0],\"y\":[80.9,2.8000000000000003,0.1,0.1,0.1],\"type\":\"scatter\"},{\"mode\":\"lines+markers\",\"name\":\"p2411-distserve\",\"x\":[1.0,2.0,3.0,4.0,5.0],\"y\":[100.0,68.0,39.0,24.8,12.2],\"type\":\"scatter\"},{\"mode\":\"lines+markers\",\"name\":\"p2412-distserve\",\"x\":[1.0,2.0,3.0,4.0,5.0],\"y\":[99.7,96.7,83.7,63.0,30.3],\"type\":\"scatter\"},{\"mode\":\"lines+markers\",\"name\":\"p2414-distserve\",\"x\":[1.0,2.0,3.0,4.0,5.0],\"y\":[99.3,92.2,73.5,37.2,5.1],\"type\":\"scatter\"},{\"mode\":\"lines+markers\",\"name\":\"p2418-distserve\",\"x\":[1.0,2.0,3.0,4.0,5.0],\"y\":[90.7,40.8,12.8,2.5,0.5],\"type\":\"scatter\"},{\"mode\":\"lines+markers\",\"name\":\"p2421-distserve\",\"x\":[1.0,2.0,3.0,4.0,5.0],\"y\":[99.7,59.6,32.300000000000004,20.0,8.1],\"type\":\"scatter\"},{\"mode\":\"lines+markers\",\"name\":\"p2422-distserve\",\"x\":[1.0,2.0,3.0,4.0,5.0],\"y\":[99.3,92.2,73.4,35.0,5.0],\"type\":\"scatter\"},{\"mode\":\"lines+markers\",\"name\":\"p2424-distserve\",\"x\":[1.0,2.0,3.0,4.0,5.0],\"y\":[98.9,80.9,37.2,3.1,0.6],\"type\":\"scatter\"},{\"mode\":\"lines+markers\",\"name\":\"p2428-distserve\",\"x\":[1.0,2.0,3.0,4.0,5.0],\"y\":[60.3,12.8,2.2,0.1,0.1],\"type\":\"scatter\"},{\"mode\":\"lines+markers\",\"name\":\"p2441-distserve\",\"x\":[1.0,2.0,3.0,4.0,5.0],\"y\":[99.2,46.1,24.8,9.1,2.7],\"type\":\"scatter\"},{\"mode\":\"lines+markers\",\"name\":\"p2442-distserve\",\"x\":[1.0,2.0,3.0,4.0,5.0],\"y\":[98.9,80.80000000000001,35.0,3.1,0.6],\"type\":\"scatter\"},{\"mode\":\"lines+markers\",\"name\":\"p2444-distserve\",\"x\":[1.0,2.0,3.0,4.0,5.0],\"y\":[92.2,37.2,2.8000000000000003,0.1,0.1],\"type\":\"scatter\"},{\"mode\":\"lines+markers\",\"name\":\"p2481-distserve\",\"x\":[1.0,2.0,3.0,4.0,5.0],\"y\":[82.1,29.4,9.1,2.5,0.5],\"type\":\"scatter\"},{\"mode\":\"lines+markers\",\"name\":\"p2482-distserve\",\"x\":[1.0,2.0,3.0,4.0,5.0],\"y\":[92.2,35.0,2.8000000000000003,0.1,0.1],\"type\":\"scatter\"},{\"mode\":\"lines+markers\",\"name\":\"p2811-distserve\",\"x\":[1.0,2.0,3.0,4.0,5.0],\"y\":[70.0,26.6,11.4,3.6,1.4],\"type\":\"scatter\"},{\"mode\":\"lines+markers\",\"name\":\"p2812-distserve\",\"x\":[1.0,2.0,3.0,4.0,5.0],\"y\":[90.7,72.6,32.7,5.1,1.5],\"type\":\"scatter\"},{\"mode\":\"lines+markers\",\"name\":\"p2814-distserve\",\"x\":[1.0,2.0,3.0,4.0,5.0],\"y\":[90.0,65.8,20.9,2.2,0.6],\"type\":\"scatter\"},{\"mode\":\"lines+markers\",\"name\":\"p2818-distserve\",\"x\":[1.0,2.0,3.0,4.0,5.0],\"y\":[56.7,18.4,2.3,0.7000000000000001,0.1],\"type\":\"scatter\"},{\"mode\":\"lines+markers\",\"name\":\"p2821-distserve\",\"x\":[1.0,2.0,3.0,4.0,5.0],\"y\":[63.5,23.8,10.4,2.4,1.2],\"type\":\"scatter\"},{\"mode\":\"lines+markers\",\"name\":\"p2822-distserve\",\"x\":[1.0,2.0,3.0,4.0,5.0],\"y\":[90.0,65.60000000000001,19.3,2.2,0.6],\"type\":\"scatter\"},{\"mode\":\"lines+markers\",\"name\":\"p2824-distserve\",\"x\":[1.0,2.0,3.0,4.0,5.0],\"y\":[85.9,49.2,6.4,0.8999999999999999,0.1],\"type\":\"scatter\"},{\"mode\":\"lines+markers\",\"name\":\"p2828-distserve\",\"x\":[1.0,2.0,3.0,4.0,5.0],\"y\":[40.1,5.4,0.7000000000000001,0.1,0.1],\"type\":\"scatter\"},{\"mode\":\"lines+markers\",\"name\":\"p2841-distserve\",\"x\":[1.0,2.0,3.0,4.0,5.0],\"y\":[56.10000000000001,20.7,5.6000000000000005,1.4,0.5],\"type\":\"scatter\"},{\"mode\":\"lines+markers\",\"name\":\"p2842-distserve\",\"x\":[1.0,2.0,3.0,4.0,5.0],\"y\":[85.9,47.2,5.1,0.8999999999999999,0.1],\"type\":\"scatter\"},{\"mode\":\"lines+markers\",\"name\":\"p2844-distserve\",\"x\":[1.0,2.0,3.0,4.0,5.0],\"y\":[78.3,14.3,0.8999999999999999,0.1,0.1],\"type\":\"scatter\"},{\"mode\":\"lines+markers\",\"name\":\"p2881-distserve\",\"x\":[1.0,2.0,3.0,4.0,5.0],\"y\":[42.8,14.2,2.4,0.8,0.1],\"type\":\"scatter\"},{\"mode\":\"lines+markers\",\"name\":\"p2882-distserve\",\"x\":[1.0,2.0,3.0,4.0,5.0],\"y\":[78.3,12.9,0.8999999999999999,0.1,0.1],\"type\":\"scatter\"},{\"mode\":\"lines+markers\",\"name\":\"p4111-distserve\",\"x\":[1.0,2.0,3.0,4.0,5.0],\"y\":[100.0,99.6,96.9,93.0,81.8],\"type\":\"scatter\"},{\"mode\":\"lines+markers\",\"name\":\"p4112-distserve\",\"x\":[1.0,2.0,3.0,4.0,5.0],\"y\":[100.0,99.3,95.7,85.6,60.5],\"type\":\"scatter\"},{\"mode\":\"lines+markers\",\"name\":\"p4114-distserve\",\"x\":[1.0,2.0,3.0,4.0,5.0],\"y\":[99.9,96.6,85.6,48.0,3.9],\"type\":\"scatter\"},{\"mode\":\"lines+markers\",\"name\":\"p4118-distserve\",\"x\":[1.0,2.0,3.0,4.0,5.0],\"y\":[99.3,85.6,13.8,2.7,1.4],\"type\":\"scatter\"},{\"mode\":\"lines+markers\",\"name\":\"p4121-distserve\",\"x\":[1.0,2.0,3.0,4.0,5.0],\"y\":[100.0,99.3,95.7,85.6,60.5],\"type\":\"scatter\"},{\"mode\":\"lines+markers\",\"name\":\"p4122-distserve\",\"x\":[1.0,2.0,3.0,4.0,5.0],\"y\":[99.9,96.6,85.6,48.0,3.9],\"type\":\"scatter\"},{\"mode\":\"lines+markers\",\"name\":\"p4124-distserve\",\"x\":[1.0,2.0,3.0,4.0,5.0],\"y\":[99.3,85.6,13.8,2.7,1.4],\"type\":\"scatter\"},{\"mode\":\"lines+markers\",\"name\":\"p4128-distserve\",\"x\":[1.0,2.0,3.0,4.0,5.0],\"y\":[93.0,3.9,1.4,0.6,0.5],\"type\":\"scatter\"},{\"mode\":\"lines+markers\",\"name\":\"p4141-distserve\",\"x\":[1.0,2.0,3.0,4.0,5.0],\"y\":[99.9,96.6,85.6,47.8,3.9],\"type\":\"scatter\"},{\"mode\":\"lines+markers\",\"name\":\"p4142-distserve\",\"x\":[1.0,2.0,3.0,4.0,5.0],\"y\":[99.3,85.6,13.8,2.7,1.4],\"type\":\"scatter\"},{\"mode\":\"lines+markers\",\"name\":\"p4144-distserve\",\"x\":[1.0,2.0,3.0,4.0,5.0],\"y\":[93.0,3.9,1.4,0.7000000000000001,0.6],\"type\":\"scatter\"},{\"mode\":\"lines+markers\",\"name\":\"p4181-distserve\",\"x\":[1.0,2.0,3.0,4.0,5.0],\"y\":[99.3,85.6,13.8,2.7,1.4],\"type\":\"scatter\"},{\"mode\":\"lines+markers\",\"name\":\"p4182-distserve\",\"x\":[1.0,2.0,3.0,4.0,5.0],\"y\":[93.0,3.9,1.4,0.7000000000000001,0.6],\"type\":\"scatter\"},{\"mode\":\"lines+markers\",\"name\":\"p4211-distserve\",\"x\":[1.0,2.0,3.0,4.0,5.0],\"y\":[100.0,100.0,98.6,95.6,89.1],\"type\":\"scatter\"},{\"mode\":\"lines+markers\",\"name\":\"p4212-distserve\",\"x\":[1.0,2.0,3.0,4.0,5.0],\"y\":[100.0,100.0,98.1,93.5,81.0],\"type\":\"scatter\"},{\"mode\":\"lines+markers\",\"name\":\"p4214-distserve\",\"x\":[1.0,2.0,3.0,4.0,5.0],\"y\":[100.0,99.7,96.1,83.3,46.0],\"type\":\"scatter\"},{\"mode\":\"lines+markers\",\"name\":\"p4218-distserve\",\"x\":[1.0,2.0,3.0,4.0,5.0],\"y\":[100.0,97.6,83.3,25.0,4.2],\"type\":\"scatter\"},{\"mode\":\"lines+markers\",\"name\":\"p4221-distserve\",\"x\":[1.0,2.0,3.0,4.0,5.0],\"y\":[100.0,100.0,98.1,92.9,79.10000000000001],\"type\":\"scatter\"},{\"mode\":\"lines+markers\",\"name\":\"p4222-distserve\",\"x\":[1.0,2.0,3.0,4.0,5.0],\"y\":[100.0,99.7,96.1,83.3,46.0],\"type\":\"scatter\"},{\"mode\":\"lines+markers\",\"name\":\"p4224-distserve\",\"x\":[1.0,2.0,3.0,4.0,5.0],\"y\":[100.0,97.6,83.3,25.0,4.2],\"type\":\"scatter\"},{\"mode\":\"lines+markers\",\"name\":\"p4228-distserve\",\"x\":[1.0,2.0,3.0,4.0,5.0],\"y\":[99.7,83.3,4.3,2.9000000000000004,1.3],\"type\":\"scatter\"},{\"mode\":\"lines+markers\",\"name\":\"p4241-distserve\",\"x\":[1.0,2.0,3.0,4.0,5.0],\"y\":[100.0,99.7,95.6,82.1,42.0],\"type\":\"scatter\"},{\"mode\":\"lines+markers\",\"name\":\"p4242-distserve\",\"x\":[1.0,2.0,3.0,4.0,5.0],\"y\":[100.0,97.6,83.3,25.0,4.2],\"type\":\"scatter\"},{\"mode\":\"lines+markers\",\"name\":\"p4244-distserve\",\"x\":[1.0,2.0,3.0,4.0,5.0],\"y\":[99.7,83.3,4.3,2.9000000000000004,1.4],\"type\":\"scatter\"},{\"mode\":\"lines+markers\",\"name\":\"p4281-distserve\",\"x\":[1.0,2.0,3.0,4.0,5.0],\"y\":[100.0,97.4,82.1,22.7,4.2],\"type\":\"scatter\"},{\"mode\":\"lines+markers\",\"name\":\"p4282-distserve\",\"x\":[1.0,2.0,3.0,4.0,5.0],\"y\":[99.7,83.3,4.3,2.9000000000000004,1.4],\"type\":\"scatter\"},{\"mode\":\"lines+markers\",\"name\":\"p4411-distserve\",\"x\":[1.0,2.0,3.0,4.0,5.0],\"y\":[100.0,99.7,96.6,84.6,64.4],\"type\":\"scatter\"},{\"mode\":\"lines+markers\",\"name\":\"p4412-distserve\",\"x\":[1.0,2.0,3.0,4.0,5.0],\"y\":[100.0,100.0,97.8,92.5,68.5],\"type\":\"scatter\"},{\"mode\":\"lines+markers\",\"name\":\"p4414-distserve\",\"x\":[1.0,2.0,3.0,4.0,5.0],\"y\":[100.0,100.0,96.9,83.8,41.1],\"type\":\"scatter\"},{\"mode\":\"lines+markers\",\"name\":\"p4418-distserve\",\"x\":[1.0,2.0,3.0,4.0,5.0],\"y\":[100.0,98.6,92.5,53.7,4.3],\"type\":\"scatter\"},{\"mode\":\"lines+markers\",\"name\":\"p4421-distserve\",\"x\":[1.0,2.0,3.0,4.0,5.0],\"y\":[100.0,99.6,94.4,81.39999999999999,55.400000000000006],\"type\":\"scatter\"},{\"mode\":\"lines+markers\",\"name\":\"p4422-distserve\",\"x\":[1.0,2.0,3.0,4.0,5.0],\"y\":[100.0,100.0,96.9,83.8,41.1],\"type\":\"scatter\"},{\"mode\":\"lines+markers\",\"name\":\"p4424-distserve\",\"x\":[1.0,2.0,3.0,4.0,5.0],\"y\":[100.0,98.6,92.5,53.7,4.3],\"type\":\"scatter\"},{\"mode\":\"lines+markers\",\"name\":\"p4428-distserve\",\"x\":[1.0,2.0,3.0,4.0,5.0],\"y\":[100.0,95.1,53.7,4.3,3.7],\"type\":\"scatter\"},{\"mode\":\"lines+markers\",\"name\":\"p4441-distserve\",\"x\":[1.0,2.0,3.0,4.0,5.0],\"y\":[100.0,99.6,90.2,70.8,31.4],\"type\":\"scatter\"},{\"mode\":\"lines+markers\",\"name\":\"p4442-distserve\",\"x\":[1.0,2.0,3.0,4.0,5.0],\"y\":[100.0,98.6,92.5,53.7,4.3],\"type\":\"scatter\"},{\"mode\":\"lines+markers\",\"name\":\"p4444-distserve\",\"x\":[1.0,2.0,3.0,4.0,5.0],\"y\":[100.0,95.1,53.7,4.3,3.7],\"type\":\"scatter\"},{\"mode\":\"lines+markers\",\"name\":\"p4481-distserve\",\"x\":[1.0,2.0,3.0,4.0,5.0],\"y\":[100.0,97.2,81.39999999999999,42.3,4.3],\"type\":\"scatter\"},{\"mode\":\"lines+markers\",\"name\":\"p4482-distserve\",\"x\":[1.0,2.0,3.0,4.0,5.0],\"y\":[100.0,95.1,53.7,4.3,3.7],\"type\":\"scatter\"}],                        {\"template\":{\"data\":{\"histogram2dcontour\":[{\"type\":\"histogram2dcontour\",\"colorbar\":{\"outlinewidth\":0,\"ticks\":\"\"},\"colorscale\":[[0.0,\"#0d0887\"],[0.1111111111111111,\"#46039f\"],[0.2222222222222222,\"#7201a8\"],[0.3333333333333333,\"#9c179e\"],[0.4444444444444444,\"#bd3786\"],[0.5555555555555556,\"#d8576b\"],[0.6666666666666666,\"#ed7953\"],[0.7777777777777778,\"#fb9f3a\"],[0.8888888888888888,\"#fdca26\"],[1.0,\"#f0f921\"]]}],\"choropleth\":[{\"type\":\"choropleth\",\"colorbar\":{\"outlinewidth\":0,\"ticks\":\"\"}}],\"histogram2d\":[{\"type\":\"histogram2d\",\"colorbar\":{\"outlinewidth\":0,\"ticks\":\"\"},\"colorscale\":[[0.0,\"#0d0887\"],[0.1111111111111111,\"#46039f\"],[0.2222222222222222,\"#7201a8\"],[0.3333333333333333,\"#9c179e\"],[0.4444444444444444,\"#bd3786\"],[0.5555555555555556,\"#d8576b\"],[0.6666666666666666,\"#ed7953\"],[0.7777777777777778,\"#fb9f3a\"],[0.8888888888888888,\"#fdca26\"],[1.0,\"#f0f921\"]]}],\"heatmap\":[{\"type\":\"heatmap\",\"colorbar\":{\"outlinewidth\":0,\"ticks\":\"\"},\"colorscale\":[[0.0,\"#0d0887\"],[0.1111111111111111,\"#46039f\"],[0.2222222222222222,\"#7201a8\"],[0.3333333333333333,\"#9c179e\"],[0.4444444444444444,\"#bd3786\"],[0.5555555555555556,\"#d8576b\"],[0.6666666666666666,\"#ed7953\"],[0.7777777777777778,\"#fb9f3a\"],[0.8888888888888888,\"#fdca26\"],[1.0,\"#f0f921\"]]}],\"heatmapgl\":[{\"type\":\"heatmapgl\",\"colorbar\":{\"outlinewidth\":0,\"ticks\":\"\"},\"colorscale\":[[0.0,\"#0d0887\"],[0.1111111111111111,\"#46039f\"],[0.2222222222222222,\"#7201a8\"],[0.3333333333333333,\"#9c179e\"],[0.4444444444444444,\"#bd3786\"],[0.5555555555555556,\"#d8576b\"],[0.6666666666666666,\"#ed7953\"],[0.7777777777777778,\"#fb9f3a\"],[0.8888888888888888,\"#fdca26\"],[1.0,\"#f0f921\"]]}],\"contourcarpet\":[{\"type\":\"contourcarpet\",\"colorbar\":{\"outlinewidth\":0,\"ticks\":\"\"}}],\"contour\":[{\"type\":\"contour\",\"colorbar\":{\"outlinewidth\":0,\"ticks\":\"\"},\"colorscale\":[[0.0,\"#0d0887\"],[0.1111111111111111,\"#46039f\"],[0.2222222222222222,\"#7201a8\"],[0.3333333333333333,\"#9c179e\"],[0.4444444444444444,\"#bd3786\"],[0.5555555555555556,\"#d8576b\"],[0.6666666666666666,\"#ed7953\"],[0.7777777777777778,\"#fb9f3a\"],[0.8888888888888888,\"#fdca26\"],[1.0,\"#f0f921\"]]}],\"surface\":[{\"type\":\"surface\",\"colorbar\":{\"outlinewidth\":0,\"ticks\":\"\"},\"colorscale\":[[0.0,\"#0d0887\"],[0.1111111111111111,\"#46039f\"],[0.2222222222222222,\"#7201a8\"],[0.3333333333333333,\"#9c179e\"],[0.4444444444444444,\"#bd3786\"],[0.5555555555555556,\"#d8576b\"],[0.6666666666666666,\"#ed7953\"],[0.7777777777777778,\"#fb9f3a\"],[0.8888888888888888,\"#fdca26\"],[1.0,\"#f0f921\"]]}],\"mesh3d\":[{\"type\":\"mesh3d\",\"colorbar\":{\"outlinewidth\":0,\"ticks\":\"\"}}],\"scatter\":[{\"marker\":{\"line\":{\"color\":\"#283442\"}},\"type\":\"scatter\"}],\"parcoords\":[{\"type\":\"parcoords\",\"line\":{\"colorbar\":{\"outlinewidth\":0,\"ticks\":\"\"}}}],\"scatterpolargl\":[{\"type\":\"scatterpolargl\",\"marker\":{\"colorbar\":{\"outlinewidth\":0,\"ticks\":\"\"}}}],\"bar\":[{\"error_x\":{\"color\":\"#f2f5fa\"},\"error_y\":{\"color\":\"#f2f5fa\"},\"marker\":{\"line\":{\"color\":\"rgb(17,17,17)\",\"width\":0.5},\"pattern\":{\"fillmode\":\"overlay\",\"size\":10,\"solidity\":0.2}},\"type\":\"bar\"}],\"scattergeo\":[{\"type\":\"scattergeo\",\"marker\":{\"colorbar\":{\"outlinewidth\":0,\"ticks\":\"\"}}}],\"scatterpolar\":[{\"type\":\"scatterpolar\",\"marker\":{\"colorbar\":{\"outlinewidth\":0,\"ticks\":\"\"}}}],\"histogram\":[{\"marker\":{\"pattern\":{\"fillmode\":\"overlay\",\"size\":10,\"solidity\":0.2}},\"type\":\"histogram\"}],\"scattergl\":[{\"marker\":{\"line\":{\"color\":\"#283442\"}},\"type\":\"scattergl\"}],\"scatter3d\":[{\"type\":\"scatter3d\",\"line\":{\"colorbar\":{\"outlinewidth\":0,\"ticks\":\"\"}},\"marker\":{\"colorbar\":{\"outlinewidth\":0,\"ticks\":\"\"}}}],\"scattermapbox\":[{\"type\":\"scattermapbox\",\"marker\":{\"colorbar\":{\"outlinewidth\":0,\"ticks\":\"\"}}}],\"scatterternary\":[{\"type\":\"scatterternary\",\"marker\":{\"colorbar\":{\"outlinewidth\":0,\"ticks\":\"\"}}}],\"scattercarpet\":[{\"type\":\"scattercarpet\",\"marker\":{\"colorbar\":{\"outlinewidth\":0,\"ticks\":\"\"}}}],\"carpet\":[{\"aaxis\":{\"endlinecolor\":\"#A2B1C6\",\"gridcolor\":\"#506784\",\"linecolor\":\"#506784\",\"minorgridcolor\":\"#506784\",\"startlinecolor\":\"#A2B1C6\"},\"baxis\":{\"endlinecolor\":\"#A2B1C6\",\"gridcolor\":\"#506784\",\"linecolor\":\"#506784\",\"minorgridcolor\":\"#506784\",\"startlinecolor\":\"#A2B1C6\"},\"type\":\"carpet\"}],\"table\":[{\"cells\":{\"fill\":{\"color\":\"#506784\"},\"line\":{\"color\":\"rgb(17,17,17)\"}},\"header\":{\"fill\":{\"color\":\"#2a3f5f\"},\"line\":{\"color\":\"rgb(17,17,17)\"}},\"type\":\"table\"}],\"barpolar\":[{\"marker\":{\"line\":{\"color\":\"rgb(17,17,17)\",\"width\":0.5},\"pattern\":{\"fillmode\":\"overlay\",\"size\":10,\"solidity\":0.2}},\"type\":\"barpolar\"}],\"pie\":[{\"automargin\":true,\"type\":\"pie\"}]},\"layout\":{\"autotypenumbers\":\"strict\",\"colorway\":[\"#636efa\",\"#EF553B\",\"#00cc96\",\"#ab63fa\",\"#FFA15A\",\"#19d3f3\",\"#FF6692\",\"#B6E880\",\"#FF97FF\",\"#FECB52\"],\"font\":{\"color\":\"#f2f5fa\"},\"hovermode\":\"closest\",\"hoverlabel\":{\"align\":\"left\"},\"paper_bgcolor\":\"rgb(17,17,17)\",\"plot_bgcolor\":\"rgb(17,17,17)\",\"polar\":{\"bgcolor\":\"rgb(17,17,17)\",\"angularaxis\":{\"gridcolor\":\"#506784\",\"linecolor\":\"#506784\",\"ticks\":\"\"},\"radialaxis\":{\"gridcolor\":\"#506784\",\"linecolor\":\"#506784\",\"ticks\":\"\"}},\"ternary\":{\"bgcolor\":\"rgb(17,17,17)\",\"aaxis\":{\"gridcolor\":\"#506784\",\"linecolor\":\"#506784\",\"ticks\":\"\"},\"baxis\":{\"gridcolor\":\"#506784\",\"linecolor\":\"#506784\",\"ticks\":\"\"},\"caxis\":{\"gridcolor\":\"#506784\",\"linecolor\":\"#506784\",\"ticks\":\"\"}},\"coloraxis\":{\"colorbar\":{\"outlinewidth\":0,\"ticks\":\"\"}},\"colorscale\":{\"sequential\":[[0.0,\"#0d0887\"],[0.1111111111111111,\"#46039f\"],[0.2222222222222222,\"#7201a8\"],[0.3333333333333333,\"#9c179e\"],[0.4444444444444444,\"#bd3786\"],[0.5555555555555556,\"#d8576b\"],[0.6666666666666666,\"#ed7953\"],[0.7777777777777778,\"#fb9f3a\"],[0.8888888888888888,\"#fdca26\"],[1.0,\"#f0f921\"]],\"sequentialminus\":[[0.0,\"#0d0887\"],[0.1111111111111111,\"#46039f\"],[0.2222222222222222,\"#7201a8\"],[0.3333333333333333,\"#9c179e\"],[0.4444444444444444,\"#bd3786\"],[0.5555555555555556,\"#d8576b\"],[0.6666666666666666,\"#ed7953\"],[0.7777777777777778,\"#fb9f3a\"],[0.8888888888888888,\"#fdca26\"],[1.0,\"#f0f921\"]],\"diverging\":[[0,\"#8e0152\"],[0.1,\"#c51b7d\"],[0.2,\"#de77ae\"],[0.3,\"#f1b6da\"],[0.4,\"#fde0ef\"],[0.5,\"#f7f7f7\"],[0.6,\"#e6f5d0\"],[0.7,\"#b8e186\"],[0.8,\"#7fbc41\"],[0.9,\"#4d9221\"],[1,\"#276419\"]]},\"xaxis\":{\"gridcolor\":\"#283442\",\"linecolor\":\"#506784\",\"ticks\":\"\",\"title\":{\"standoff\":15},\"zerolinecolor\":\"#283442\",\"automargin\":true,\"zerolinewidth\":2},\"yaxis\":{\"gridcolor\":\"#283442\",\"linecolor\":\"#506784\",\"ticks\":\"\",\"title\":{\"standoff\":15},\"zerolinecolor\":\"#283442\",\"automargin\":true,\"zerolinewidth\":2},\"scene\":{\"xaxis\":{\"backgroundcolor\":\"rgb(17,17,17)\",\"gridcolor\":\"#506784\",\"linecolor\":\"#506784\",\"showbackground\":true,\"ticks\":\"\",\"zerolinecolor\":\"#C8D4E3\",\"gridwidth\":2},\"yaxis\":{\"backgroundcolor\":\"rgb(17,17,17)\",\"gridcolor\":\"#506784\",\"linecolor\":\"#506784\",\"showbackground\":true,\"ticks\":\"\",\"zerolinecolor\":\"#C8D4E3\",\"gridwidth\":2},\"zaxis\":{\"backgroundcolor\":\"rgb(17,17,17)\",\"gridcolor\":\"#506784\",\"linecolor\":\"#506784\",\"showbackground\":true,\"ticks\":\"\",\"zerolinecolor\":\"#C8D4E3\",\"gridwidth\":2}},\"shapedefaults\":{\"line\":{\"color\":\"#f2f5fa\"}},\"annotationdefaults\":{\"arrowcolor\":\"#f2f5fa\",\"arrowhead\":0,\"arrowwidth\":1},\"geo\":{\"bgcolor\":\"rgb(17,17,17)\",\"landcolor\":\"rgb(17,17,17)\",\"subunitcolor\":\"#506784\",\"showland\":true,\"showlakes\":true,\"lakecolor\":\"rgb(17,17,17)\"},\"title\":{\"x\":0.05},\"updatemenudefaults\":{\"bgcolor\":\"#506784\",\"borderwidth\":0},\"sliderdefaults\":{\"bgcolor\":\"#C8D4E3\",\"borderwidth\":1,\"bordercolor\":\"rgb(17,17,17)\",\"tickwidth\":0},\"mapbox\":{\"style\":\"dark\"}}},\"title\":{\"text\":\"DistServe\"},\"xaxis\":{\"title\":{\"text\":\"Per-GPU Rate (tokens\\u002fs)\"}},\"yaxis\":{\"title\":{\"text\":\"Attainment (%)\"}},\"legend\":{\"title\":{\"text\":\"Configuration\"}}},                        {\"responsive\": true}                    ).then(function(){\n                            \nvar gd = document.getElementById('32cdfdad-1f33-4c20-a1cb-87025657f0b9');\nvar x = new MutationObserver(function (mutations, observer) {{\n        var display = window.getComputedStyle(gd).display;\n        if (!display || display === 'none') {{\n            console.log([gd, 'removed!']);\n            Plotly.purge(gd);\n            observer.disconnect();\n        }}\n}});\n\n// Listen for the removal of the full notebook cells\nvar notebookContainer = gd.closest('#notebook-container');\nif (notebookContainer) {{\n    x.observe(notebookContainer, {childList: true});\n}}\n\n// Listen for the clearing of the current output cell\nvar outputEl = gd.closest('.output');\nif (outputEl) {{\n    x.observe(outputEl, {childList: true});\n}}\n\n                        })                };                });            </script>        </div>"
     },
     "metadata": {},
     "output_type": "display_data"
    }
   ],
   "source": [
    "# Plot the `figure_11_distserve_high`for some configurations\n",
    "# tp_prefill = 1, pp_prefill = 1, tp_decode = 1, pp_decode = 1\n",
    "# x-axis: rate\n",
    "# y-axis: attainment\n",
    "# find all combination of tp_prefill, pp_prefill, tp_decode, pp_decode\n",
    "import plotly.graph_objects as go\n",
    "\n",
    "fig = go.Figure()\n",
    "configs = figure_11_distserve_high[['tp_prefill', 'pp_prefill', 'tp_decode', 'pp_decode']].drop_duplicates()\n",
    "df = figure_11_distserve_high\n",
    "\n",
    "for tp_prefill, pp_prefill, tp_decode, pp_decode in configs.values:\n",
    "    config_df = df[\n",
    "        (df['tp_prefill'] == tp_prefill) & (df['pp_prefill'] == pp_prefill) &\n",
    "        (df['tp_decode'] == tp_decode) & (df['pp_decode'] == pp_decode)\n",
    "        ]\n",
    "    # plot this inside a plotly plot\n",
    "    fig.add_trace(go.Scatter(\n",
    "        x=config_df['per_gpu_rate'], y=config_df['attainment'],\n",
    "        mode='lines+markers', name=f\"p{tp_prefill}{pp_prefill}{tp_decode}{pp_decode}-distserve\"\n",
    "    ))\n",
    "\n",
    "# fig add title\n",
    "fig.update_layout(\n",
    "    title=\"DistServe\",\n",
    "    xaxis_title=\"Per-GPU Rate (tokens/s)\",\n",
    "    yaxis_title=\"Attainment (%)\",\n",
    "    legend_title=\"Configuration\"\n",
    ")\n",
    "\n",
    "fig.show()\n",
    "# Export to html\n",
    "fig.write_html(\"visual/figure_11_distserve_high.html\")"
   ],
   "metadata": {
    "collapsed": false,
    "ExecuteTime": {
     "end_time": "2024-04-21T00:01:23.589012Z",
     "start_time": "2024-04-21T00:01:23.474899Z"
    }
   },
   "id": "b5f32d90f99e3ad4",
   "execution_count": 29
  },
  {
   "cell_type": "code",
   "outputs": [
    {
     "data": {
      "application/vnd.plotly.v1+json": {
       "data": [
        {
         "mode": "lines+markers",
         "name": "p11-vllm",
         "x": [
          1.0,
          2.0,
          3.0,
          4.0,
          5.0
         ],
         "y": [
          91.3,
          86.0,
          79.3,
          25.9,
          9.4
         ],
         "type": "scatter"
        },
        {
         "mode": "lines+markers",
         "name": "p12-vllm",
         "x": [
          1.0,
          2.0,
          3.0,
          4.0,
          5.0
         ],
         "y": [
          92.7,
          86.2,
          18.3,
          8.1,
          3.6
         ],
         "type": "scatter"
        },
        {
         "mode": "lines+markers",
         "name": "p14-vllm",
         "x": [
          1.0,
          2.0,
          3.0,
          4.0,
          5.0
         ],
         "y": [
          84.1,
          9.6,
          3.1,
          1.6,
          0.4
         ],
         "type": "scatter"
        },
        {
         "mode": "lines+markers",
         "name": "p18-vllm",
         "x": [
          1.0,
          2.0,
          3.0,
          4.0,
          5.0
         ],
         "y": [
          0.3,
          0.0,
          0.0,
          0.0,
          0.0
         ],
         "type": "scatter"
        },
        {
         "mode": "lines+markers",
         "name": "p21-vllm",
         "x": [
          1.0,
          2.0,
          3.0,
          4.0,
          5.0
         ],
         "y": [
          99.0,
          95.8,
          87.2,
          25.8,
          11.3
         ],
         "type": "scatter"
        },
        {
         "mode": "lines+markers",
         "name": "p22-vllm",
         "x": [
          1.0,
          2.0,
          3.0,
          4.0,
          5.0
         ],
         "y": [
          99.3,
          96.1,
          33.7,
          12.2,
          4.9
         ],
         "type": "scatter"
        },
        {
         "mode": "lines+markers",
         "name": "p24-vllm",
         "x": [
          1.0,
          2.0,
          3.0,
          4.0,
          5.0
         ],
         "y": [
          99.1,
          25.9,
          5.0,
          1.6,
          0.6
         ],
         "type": "scatter"
        },
        {
         "mode": "lines+markers",
         "name": "p28-vllm",
         "x": [
          1.0,
          2.0,
          3.0,
          4.0,
          5.0
         ],
         "y": [
          0.1,
          0.0,
          0.0,
          0.0,
          0.0
         ],
         "type": "scatter"
        },
        {
         "mode": "lines+markers",
         "name": "p41-vllm",
         "x": [
          1.0,
          2.0,
          3.0,
          4.0,
          5.0
         ],
         "y": [
          100.0,
          99.8,
          96.5,
          50.6,
          24.9
         ],
         "type": "scatter"
        },
        {
         "mode": "lines+markers",
         "name": "p42-vllm",
         "x": [
          1.0,
          2.0,
          3.0,
          4.0,
          5.0
         ],
         "y": [
          100.0,
          99.8,
          84.7,
          42.0,
          22.3
         ],
         "type": "scatter"
        },
        {
         "mode": "lines+markers",
         "name": "p44-vllm",
         "x": [
          1.0,
          2.0,
          3.0,
          4.0,
          5.0
         ],
         "y": [
          100.0,
          81.5,
          29.2,
          15.2,
          10.9
         ],
         "type": "scatter"
        },
        {
         "mode": "lines+markers",
         "name": "p48-vllm",
         "x": [
          1.0,
          2.0,
          3.0,
          4.0,
          5.0
         ],
         "y": [
          0.1,
          0.2,
          0.1,
          0.0,
          0.0
         ],
         "type": "scatter"
        }
       ],
       "layout": {
        "template": {
         "data": {
          "histogram2dcontour": [
           {
            "type": "histogram2dcontour",
            "colorbar": {
             "outlinewidth": 0,
             "ticks": ""
            },
            "colorscale": [
             [
              0.0,
              "#0d0887"
             ],
             [
              0.1111111111111111,
              "#46039f"
             ],
             [
              0.2222222222222222,
              "#7201a8"
             ],
             [
              0.3333333333333333,
              "#9c179e"
             ],
             [
              0.4444444444444444,
              "#bd3786"
             ],
             [
              0.5555555555555556,
              "#d8576b"
             ],
             [
              0.6666666666666666,
              "#ed7953"
             ],
             [
              0.7777777777777778,
              "#fb9f3a"
             ],
             [
              0.8888888888888888,
              "#fdca26"
             ],
             [
              1.0,
              "#f0f921"
             ]
            ]
           }
          ],
          "choropleth": [
           {
            "type": "choropleth",
            "colorbar": {
             "outlinewidth": 0,
             "ticks": ""
            }
           }
          ],
          "histogram2d": [
           {
            "type": "histogram2d",
            "colorbar": {
             "outlinewidth": 0,
             "ticks": ""
            },
            "colorscale": [
             [
              0.0,
              "#0d0887"
             ],
             [
              0.1111111111111111,
              "#46039f"
             ],
             [
              0.2222222222222222,
              "#7201a8"
             ],
             [
              0.3333333333333333,
              "#9c179e"
             ],
             [
              0.4444444444444444,
              "#bd3786"
             ],
             [
              0.5555555555555556,
              "#d8576b"
             ],
             [
              0.6666666666666666,
              "#ed7953"
             ],
             [
              0.7777777777777778,
              "#fb9f3a"
             ],
             [
              0.8888888888888888,
              "#fdca26"
             ],
             [
              1.0,
              "#f0f921"
             ]
            ]
           }
          ],
          "heatmap": [
           {
            "type": "heatmap",
            "colorbar": {
             "outlinewidth": 0,
             "ticks": ""
            },
            "colorscale": [
             [
              0.0,
              "#0d0887"
             ],
             [
              0.1111111111111111,
              "#46039f"
             ],
             [
              0.2222222222222222,
              "#7201a8"
             ],
             [
              0.3333333333333333,
              "#9c179e"
             ],
             [
              0.4444444444444444,
              "#bd3786"
             ],
             [
              0.5555555555555556,
              "#d8576b"
             ],
             [
              0.6666666666666666,
              "#ed7953"
             ],
             [
              0.7777777777777778,
              "#fb9f3a"
             ],
             [
              0.8888888888888888,
              "#fdca26"
             ],
             [
              1.0,
              "#f0f921"
             ]
            ]
           }
          ],
          "heatmapgl": [
           {
            "type": "heatmapgl",
            "colorbar": {
             "outlinewidth": 0,
             "ticks": ""
            },
            "colorscale": [
             [
              0.0,
              "#0d0887"
             ],
             [
              0.1111111111111111,
              "#46039f"
             ],
             [
              0.2222222222222222,
              "#7201a8"
             ],
             [
              0.3333333333333333,
              "#9c179e"
             ],
             [
              0.4444444444444444,
              "#bd3786"
             ],
             [
              0.5555555555555556,
              "#d8576b"
             ],
             [
              0.6666666666666666,
              "#ed7953"
             ],
             [
              0.7777777777777778,
              "#fb9f3a"
             ],
             [
              0.8888888888888888,
              "#fdca26"
             ],
             [
              1.0,
              "#f0f921"
             ]
            ]
           }
          ],
          "contourcarpet": [
           {
            "type": "contourcarpet",
            "colorbar": {
             "outlinewidth": 0,
             "ticks": ""
            }
           }
          ],
          "contour": [
           {
            "type": "contour",
            "colorbar": {
             "outlinewidth": 0,
             "ticks": ""
            },
            "colorscale": [
             [
              0.0,
              "#0d0887"
             ],
             [
              0.1111111111111111,
              "#46039f"
             ],
             [
              0.2222222222222222,
              "#7201a8"
             ],
             [
              0.3333333333333333,
              "#9c179e"
             ],
             [
              0.4444444444444444,
              "#bd3786"
             ],
             [
              0.5555555555555556,
              "#d8576b"
             ],
             [
              0.6666666666666666,
              "#ed7953"
             ],
             [
              0.7777777777777778,
              "#fb9f3a"
             ],
             [
              0.8888888888888888,
              "#fdca26"
             ],
             [
              1.0,
              "#f0f921"
             ]
            ]
           }
          ],
          "surface": [
           {
            "type": "surface",
            "colorbar": {
             "outlinewidth": 0,
             "ticks": ""
            },
            "colorscale": [
             [
              0.0,
              "#0d0887"
             ],
             [
              0.1111111111111111,
              "#46039f"
             ],
             [
              0.2222222222222222,
              "#7201a8"
             ],
             [
              0.3333333333333333,
              "#9c179e"
             ],
             [
              0.4444444444444444,
              "#bd3786"
             ],
             [
              0.5555555555555556,
              "#d8576b"
             ],
             [
              0.6666666666666666,
              "#ed7953"
             ],
             [
              0.7777777777777778,
              "#fb9f3a"
             ],
             [
              0.8888888888888888,
              "#fdca26"
             ],
             [
              1.0,
              "#f0f921"
             ]
            ]
           }
          ],
          "mesh3d": [
           {
            "type": "mesh3d",
            "colorbar": {
             "outlinewidth": 0,
             "ticks": ""
            }
           }
          ],
          "scatter": [
           {
            "marker": {
             "line": {
              "color": "#283442"
             }
            },
            "type": "scatter"
           }
          ],
          "parcoords": [
           {
            "type": "parcoords",
            "line": {
             "colorbar": {
              "outlinewidth": 0,
              "ticks": ""
             }
            }
           }
          ],
          "scatterpolargl": [
           {
            "type": "scatterpolargl",
            "marker": {
             "colorbar": {
              "outlinewidth": 0,
              "ticks": ""
             }
            }
           }
          ],
          "bar": [
           {
            "error_x": {
             "color": "#f2f5fa"
            },
            "error_y": {
             "color": "#f2f5fa"
            },
            "marker": {
             "line": {
              "color": "rgb(17,17,17)",
              "width": 0.5
             },
             "pattern": {
              "fillmode": "overlay",
              "size": 10,
              "solidity": 0.2
             }
            },
            "type": "bar"
           }
          ],
          "scattergeo": [
           {
            "type": "scattergeo",
            "marker": {
             "colorbar": {
              "outlinewidth": 0,
              "ticks": ""
             }
            }
           }
          ],
          "scatterpolar": [
           {
            "type": "scatterpolar",
            "marker": {
             "colorbar": {
              "outlinewidth": 0,
              "ticks": ""
             }
            }
           }
          ],
          "histogram": [
           {
            "marker": {
             "pattern": {
              "fillmode": "overlay",
              "size": 10,
              "solidity": 0.2
             }
            },
            "type": "histogram"
           }
          ],
          "scattergl": [
           {
            "marker": {
             "line": {
              "color": "#283442"
             }
            },
            "type": "scattergl"
           }
          ],
          "scatter3d": [
           {
            "type": "scatter3d",
            "line": {
             "colorbar": {
              "outlinewidth": 0,
              "ticks": ""
             }
            },
            "marker": {
             "colorbar": {
              "outlinewidth": 0,
              "ticks": ""
             }
            }
           }
          ],
          "scattermapbox": [
           {
            "type": "scattermapbox",
            "marker": {
             "colorbar": {
              "outlinewidth": 0,
              "ticks": ""
             }
            }
           }
          ],
          "scatterternary": [
           {
            "type": "scatterternary",
            "marker": {
             "colorbar": {
              "outlinewidth": 0,
              "ticks": ""
             }
            }
           }
          ],
          "scattercarpet": [
           {
            "type": "scattercarpet",
            "marker": {
             "colorbar": {
              "outlinewidth": 0,
              "ticks": ""
             }
            }
           }
          ],
          "carpet": [
           {
            "aaxis": {
             "endlinecolor": "#A2B1C6",
             "gridcolor": "#506784",
             "linecolor": "#506784",
             "minorgridcolor": "#506784",
             "startlinecolor": "#A2B1C6"
            },
            "baxis": {
             "endlinecolor": "#A2B1C6",
             "gridcolor": "#506784",
             "linecolor": "#506784",
             "minorgridcolor": "#506784",
             "startlinecolor": "#A2B1C6"
            },
            "type": "carpet"
           }
          ],
          "table": [
           {
            "cells": {
             "fill": {
              "color": "#506784"
             },
             "line": {
              "color": "rgb(17,17,17)"
             }
            },
            "header": {
             "fill": {
              "color": "#2a3f5f"
             },
             "line": {
              "color": "rgb(17,17,17)"
             }
            },
            "type": "table"
           }
          ],
          "barpolar": [
           {
            "marker": {
             "line": {
              "color": "rgb(17,17,17)",
              "width": 0.5
             },
             "pattern": {
              "fillmode": "overlay",
              "size": 10,
              "solidity": 0.2
             }
            },
            "type": "barpolar"
           }
          ],
          "pie": [
           {
            "automargin": true,
            "type": "pie"
           }
          ]
         },
         "layout": {
          "autotypenumbers": "strict",
          "colorway": [
           "#636efa",
           "#EF553B",
           "#00cc96",
           "#ab63fa",
           "#FFA15A",
           "#19d3f3",
           "#FF6692",
           "#B6E880",
           "#FF97FF",
           "#FECB52"
          ],
          "font": {
           "color": "#f2f5fa"
          },
          "hovermode": "closest",
          "hoverlabel": {
           "align": "left"
          },
          "paper_bgcolor": "rgb(17,17,17)",
          "plot_bgcolor": "rgb(17,17,17)",
          "polar": {
           "bgcolor": "rgb(17,17,17)",
           "angularaxis": {
            "gridcolor": "#506784",
            "linecolor": "#506784",
            "ticks": ""
           },
           "radialaxis": {
            "gridcolor": "#506784",
            "linecolor": "#506784",
            "ticks": ""
           }
          },
          "ternary": {
           "bgcolor": "rgb(17,17,17)",
           "aaxis": {
            "gridcolor": "#506784",
            "linecolor": "#506784",
            "ticks": ""
           },
           "baxis": {
            "gridcolor": "#506784",
            "linecolor": "#506784",
            "ticks": ""
           },
           "caxis": {
            "gridcolor": "#506784",
            "linecolor": "#506784",
            "ticks": ""
           }
          },
          "coloraxis": {
           "colorbar": {
            "outlinewidth": 0,
            "ticks": ""
           }
          },
          "colorscale": {
           "sequential": [
            [
             0.0,
             "#0d0887"
            ],
            [
             0.1111111111111111,
             "#46039f"
            ],
            [
             0.2222222222222222,
             "#7201a8"
            ],
            [
             0.3333333333333333,
             "#9c179e"
            ],
            [
             0.4444444444444444,
             "#bd3786"
            ],
            [
             0.5555555555555556,
             "#d8576b"
            ],
            [
             0.6666666666666666,
             "#ed7953"
            ],
            [
             0.7777777777777778,
             "#fb9f3a"
            ],
            [
             0.8888888888888888,
             "#fdca26"
            ],
            [
             1.0,
             "#f0f921"
            ]
           ],
           "sequentialminus": [
            [
             0.0,
             "#0d0887"
            ],
            [
             0.1111111111111111,
             "#46039f"
            ],
            [
             0.2222222222222222,
             "#7201a8"
            ],
            [
             0.3333333333333333,
             "#9c179e"
            ],
            [
             0.4444444444444444,
             "#bd3786"
            ],
            [
             0.5555555555555556,
             "#d8576b"
            ],
            [
             0.6666666666666666,
             "#ed7953"
            ],
            [
             0.7777777777777778,
             "#fb9f3a"
            ],
            [
             0.8888888888888888,
             "#fdca26"
            ],
            [
             1.0,
             "#f0f921"
            ]
           ],
           "diverging": [
            [
             0,
             "#8e0152"
            ],
            [
             0.1,
             "#c51b7d"
            ],
            [
             0.2,
             "#de77ae"
            ],
            [
             0.3,
             "#f1b6da"
            ],
            [
             0.4,
             "#fde0ef"
            ],
            [
             0.5,
             "#f7f7f7"
            ],
            [
             0.6,
             "#e6f5d0"
            ],
            [
             0.7,
             "#b8e186"
            ],
            [
             0.8,
             "#7fbc41"
            ],
            [
             0.9,
             "#4d9221"
            ],
            [
             1,
             "#276419"
            ]
           ]
          },
          "xaxis": {
           "gridcolor": "#283442",
           "linecolor": "#506784",
           "ticks": "",
           "title": {
            "standoff": 15
           },
           "zerolinecolor": "#283442",
           "automargin": true,
           "zerolinewidth": 2
          },
          "yaxis": {
           "gridcolor": "#283442",
           "linecolor": "#506784",
           "ticks": "",
           "title": {
            "standoff": 15
           },
           "zerolinecolor": "#283442",
           "automargin": true,
           "zerolinewidth": 2
          },
          "scene": {
           "xaxis": {
            "backgroundcolor": "rgb(17,17,17)",
            "gridcolor": "#506784",
            "linecolor": "#506784",
            "showbackground": true,
            "ticks": "",
            "zerolinecolor": "#C8D4E3",
            "gridwidth": 2
           },
           "yaxis": {
            "backgroundcolor": "rgb(17,17,17)",
            "gridcolor": "#506784",
            "linecolor": "#506784",
            "showbackground": true,
            "ticks": "",
            "zerolinecolor": "#C8D4E3",
            "gridwidth": 2
           },
           "zaxis": {
            "backgroundcolor": "rgb(17,17,17)",
            "gridcolor": "#506784",
            "linecolor": "#506784",
            "showbackground": true,
            "ticks": "",
            "zerolinecolor": "#C8D4E3",
            "gridwidth": 2
           }
          },
          "shapedefaults": {
           "line": {
            "color": "#f2f5fa"
           }
          },
          "annotationdefaults": {
           "arrowcolor": "#f2f5fa",
           "arrowhead": 0,
           "arrowwidth": 1
          },
          "geo": {
           "bgcolor": "rgb(17,17,17)",
           "landcolor": "rgb(17,17,17)",
           "subunitcolor": "#506784",
           "showland": true,
           "showlakes": true,
           "lakecolor": "rgb(17,17,17)"
          },
          "title": {
           "x": 0.05
          },
          "updatemenudefaults": {
           "bgcolor": "#506784",
           "borderwidth": 0
          },
          "sliderdefaults": {
           "bgcolor": "#C8D4E3",
           "borderwidth": 1,
           "bordercolor": "rgb(17,17,17)",
           "tickwidth": 0
          },
          "mapbox": {
           "style": "dark"
          }
         }
        },
        "title": {
         "text": "vLLM++"
        },
        "xaxis": {
         "title": {
          "text": "Per-GPU Rate (tokens/s)"
         }
        },
        "yaxis": {
         "title": {
          "text": "Attainment (%)"
         }
        },
        "legend": {
         "title": {
          "text": "Configuration"
         }
        }
       },
       "config": {
        "plotlyServerURL": "https://plot.ly"
       }
      },
      "text/html": "<div>                            <div id=\"0ea9e46b-e402-4f6d-a3de-bd1f9c88fc87\" class=\"plotly-graph-div\" style=\"height:525px; width:100%;\"></div>            <script type=\"text/javascript\">                require([\"plotly\"], function(Plotly) {                    window.PLOTLYENV=window.PLOTLYENV || {};                                    if (document.getElementById(\"0ea9e46b-e402-4f6d-a3de-bd1f9c88fc87\")) {                    Plotly.newPlot(                        \"0ea9e46b-e402-4f6d-a3de-bd1f9c88fc87\",                        [{\"mode\":\"lines+markers\",\"name\":\"p11-vllm\",\"x\":[1.0,2.0,3.0,4.0,5.0],\"y\":[91.3,86.0,79.3,25.9,9.4],\"type\":\"scatter\"},{\"mode\":\"lines+markers\",\"name\":\"p12-vllm\",\"x\":[1.0,2.0,3.0,4.0,5.0],\"y\":[92.7,86.2,18.3,8.1,3.6],\"type\":\"scatter\"},{\"mode\":\"lines+markers\",\"name\":\"p14-vllm\",\"x\":[1.0,2.0,3.0,4.0,5.0],\"y\":[84.1,9.6,3.1,1.6,0.4],\"type\":\"scatter\"},{\"mode\":\"lines+markers\",\"name\":\"p18-vllm\",\"x\":[1.0,2.0,3.0,4.0,5.0],\"y\":[0.3,0.0,0.0,0.0,0.0],\"type\":\"scatter\"},{\"mode\":\"lines+markers\",\"name\":\"p21-vllm\",\"x\":[1.0,2.0,3.0,4.0,5.0],\"y\":[99.0,95.8,87.2,25.8,11.3],\"type\":\"scatter\"},{\"mode\":\"lines+markers\",\"name\":\"p22-vllm\",\"x\":[1.0,2.0,3.0,4.0,5.0],\"y\":[99.3,96.1,33.7,12.2,4.9],\"type\":\"scatter\"},{\"mode\":\"lines+markers\",\"name\":\"p24-vllm\",\"x\":[1.0,2.0,3.0,4.0,5.0],\"y\":[99.1,25.9,5.0,1.6,0.6],\"type\":\"scatter\"},{\"mode\":\"lines+markers\",\"name\":\"p28-vllm\",\"x\":[1.0,2.0,3.0,4.0,5.0],\"y\":[0.1,0.0,0.0,0.0,0.0],\"type\":\"scatter\"},{\"mode\":\"lines+markers\",\"name\":\"p41-vllm\",\"x\":[1.0,2.0,3.0,4.0,5.0],\"y\":[100.0,99.8,96.5,50.6,24.9],\"type\":\"scatter\"},{\"mode\":\"lines+markers\",\"name\":\"p42-vllm\",\"x\":[1.0,2.0,3.0,4.0,5.0],\"y\":[100.0,99.8,84.7,42.0,22.3],\"type\":\"scatter\"},{\"mode\":\"lines+markers\",\"name\":\"p44-vllm\",\"x\":[1.0,2.0,3.0,4.0,5.0],\"y\":[100.0,81.5,29.2,15.2,10.9],\"type\":\"scatter\"},{\"mode\":\"lines+markers\",\"name\":\"p48-vllm\",\"x\":[1.0,2.0,3.0,4.0,5.0],\"y\":[0.1,0.2,0.1,0.0,0.0],\"type\":\"scatter\"}],                        {\"template\":{\"data\":{\"histogram2dcontour\":[{\"type\":\"histogram2dcontour\",\"colorbar\":{\"outlinewidth\":0,\"ticks\":\"\"},\"colorscale\":[[0.0,\"#0d0887\"],[0.1111111111111111,\"#46039f\"],[0.2222222222222222,\"#7201a8\"],[0.3333333333333333,\"#9c179e\"],[0.4444444444444444,\"#bd3786\"],[0.5555555555555556,\"#d8576b\"],[0.6666666666666666,\"#ed7953\"],[0.7777777777777778,\"#fb9f3a\"],[0.8888888888888888,\"#fdca26\"],[1.0,\"#f0f921\"]]}],\"choropleth\":[{\"type\":\"choropleth\",\"colorbar\":{\"outlinewidth\":0,\"ticks\":\"\"}}],\"histogram2d\":[{\"type\":\"histogram2d\",\"colorbar\":{\"outlinewidth\":0,\"ticks\":\"\"},\"colorscale\":[[0.0,\"#0d0887\"],[0.1111111111111111,\"#46039f\"],[0.2222222222222222,\"#7201a8\"],[0.3333333333333333,\"#9c179e\"],[0.4444444444444444,\"#bd3786\"],[0.5555555555555556,\"#d8576b\"],[0.6666666666666666,\"#ed7953\"],[0.7777777777777778,\"#fb9f3a\"],[0.8888888888888888,\"#fdca26\"],[1.0,\"#f0f921\"]]}],\"heatmap\":[{\"type\":\"heatmap\",\"colorbar\":{\"outlinewidth\":0,\"ticks\":\"\"},\"colorscale\":[[0.0,\"#0d0887\"],[0.1111111111111111,\"#46039f\"],[0.2222222222222222,\"#7201a8\"],[0.3333333333333333,\"#9c179e\"],[0.4444444444444444,\"#bd3786\"],[0.5555555555555556,\"#d8576b\"],[0.6666666666666666,\"#ed7953\"],[0.7777777777777778,\"#fb9f3a\"],[0.8888888888888888,\"#fdca26\"],[1.0,\"#f0f921\"]]}],\"heatmapgl\":[{\"type\":\"heatmapgl\",\"colorbar\":{\"outlinewidth\":0,\"ticks\":\"\"},\"colorscale\":[[0.0,\"#0d0887\"],[0.1111111111111111,\"#46039f\"],[0.2222222222222222,\"#7201a8\"],[0.3333333333333333,\"#9c179e\"],[0.4444444444444444,\"#bd3786\"],[0.5555555555555556,\"#d8576b\"],[0.6666666666666666,\"#ed7953\"],[0.7777777777777778,\"#fb9f3a\"],[0.8888888888888888,\"#fdca26\"],[1.0,\"#f0f921\"]]}],\"contourcarpet\":[{\"type\":\"contourcarpet\",\"colorbar\":{\"outlinewidth\":0,\"ticks\":\"\"}}],\"contour\":[{\"type\":\"contour\",\"colorbar\":{\"outlinewidth\":0,\"ticks\":\"\"},\"colorscale\":[[0.0,\"#0d0887\"],[0.1111111111111111,\"#46039f\"],[0.2222222222222222,\"#7201a8\"],[0.3333333333333333,\"#9c179e\"],[0.4444444444444444,\"#bd3786\"],[0.5555555555555556,\"#d8576b\"],[0.6666666666666666,\"#ed7953\"],[0.7777777777777778,\"#fb9f3a\"],[0.8888888888888888,\"#fdca26\"],[1.0,\"#f0f921\"]]}],\"surface\":[{\"type\":\"surface\",\"colorbar\":{\"outlinewidth\":0,\"ticks\":\"\"},\"colorscale\":[[0.0,\"#0d0887\"],[0.1111111111111111,\"#46039f\"],[0.2222222222222222,\"#7201a8\"],[0.3333333333333333,\"#9c179e\"],[0.4444444444444444,\"#bd3786\"],[0.5555555555555556,\"#d8576b\"],[0.6666666666666666,\"#ed7953\"],[0.7777777777777778,\"#fb9f3a\"],[0.8888888888888888,\"#fdca26\"],[1.0,\"#f0f921\"]]}],\"mesh3d\":[{\"type\":\"mesh3d\",\"colorbar\":{\"outlinewidth\":0,\"ticks\":\"\"}}],\"scatter\":[{\"marker\":{\"line\":{\"color\":\"#283442\"}},\"type\":\"scatter\"}],\"parcoords\":[{\"type\":\"parcoords\",\"line\":{\"colorbar\":{\"outlinewidth\":0,\"ticks\":\"\"}}}],\"scatterpolargl\":[{\"type\":\"scatterpolargl\",\"marker\":{\"colorbar\":{\"outlinewidth\":0,\"ticks\":\"\"}}}],\"bar\":[{\"error_x\":{\"color\":\"#f2f5fa\"},\"error_y\":{\"color\":\"#f2f5fa\"},\"marker\":{\"line\":{\"color\":\"rgb(17,17,17)\",\"width\":0.5},\"pattern\":{\"fillmode\":\"overlay\",\"size\":10,\"solidity\":0.2}},\"type\":\"bar\"}],\"scattergeo\":[{\"type\":\"scattergeo\",\"marker\":{\"colorbar\":{\"outlinewidth\":0,\"ticks\":\"\"}}}],\"scatterpolar\":[{\"type\":\"scatterpolar\",\"marker\":{\"colorbar\":{\"outlinewidth\":0,\"ticks\":\"\"}}}],\"histogram\":[{\"marker\":{\"pattern\":{\"fillmode\":\"overlay\",\"size\":10,\"solidity\":0.2}},\"type\":\"histogram\"}],\"scattergl\":[{\"marker\":{\"line\":{\"color\":\"#283442\"}},\"type\":\"scattergl\"}],\"scatter3d\":[{\"type\":\"scatter3d\",\"line\":{\"colorbar\":{\"outlinewidth\":0,\"ticks\":\"\"}},\"marker\":{\"colorbar\":{\"outlinewidth\":0,\"ticks\":\"\"}}}],\"scattermapbox\":[{\"type\":\"scattermapbox\",\"marker\":{\"colorbar\":{\"outlinewidth\":0,\"ticks\":\"\"}}}],\"scatterternary\":[{\"type\":\"scatterternary\",\"marker\":{\"colorbar\":{\"outlinewidth\":0,\"ticks\":\"\"}}}],\"scattercarpet\":[{\"type\":\"scattercarpet\",\"marker\":{\"colorbar\":{\"outlinewidth\":0,\"ticks\":\"\"}}}],\"carpet\":[{\"aaxis\":{\"endlinecolor\":\"#A2B1C6\",\"gridcolor\":\"#506784\",\"linecolor\":\"#506784\",\"minorgridcolor\":\"#506784\",\"startlinecolor\":\"#A2B1C6\"},\"baxis\":{\"endlinecolor\":\"#A2B1C6\",\"gridcolor\":\"#506784\",\"linecolor\":\"#506784\",\"minorgridcolor\":\"#506784\",\"startlinecolor\":\"#A2B1C6\"},\"type\":\"carpet\"}],\"table\":[{\"cells\":{\"fill\":{\"color\":\"#506784\"},\"line\":{\"color\":\"rgb(17,17,17)\"}},\"header\":{\"fill\":{\"color\":\"#2a3f5f\"},\"line\":{\"color\":\"rgb(17,17,17)\"}},\"type\":\"table\"}],\"barpolar\":[{\"marker\":{\"line\":{\"color\":\"rgb(17,17,17)\",\"width\":0.5},\"pattern\":{\"fillmode\":\"overlay\",\"size\":10,\"solidity\":0.2}},\"type\":\"barpolar\"}],\"pie\":[{\"automargin\":true,\"type\":\"pie\"}]},\"layout\":{\"autotypenumbers\":\"strict\",\"colorway\":[\"#636efa\",\"#EF553B\",\"#00cc96\",\"#ab63fa\",\"#FFA15A\",\"#19d3f3\",\"#FF6692\",\"#B6E880\",\"#FF97FF\",\"#FECB52\"],\"font\":{\"color\":\"#f2f5fa\"},\"hovermode\":\"closest\",\"hoverlabel\":{\"align\":\"left\"},\"paper_bgcolor\":\"rgb(17,17,17)\",\"plot_bgcolor\":\"rgb(17,17,17)\",\"polar\":{\"bgcolor\":\"rgb(17,17,17)\",\"angularaxis\":{\"gridcolor\":\"#506784\",\"linecolor\":\"#506784\",\"ticks\":\"\"},\"radialaxis\":{\"gridcolor\":\"#506784\",\"linecolor\":\"#506784\",\"ticks\":\"\"}},\"ternary\":{\"bgcolor\":\"rgb(17,17,17)\",\"aaxis\":{\"gridcolor\":\"#506784\",\"linecolor\":\"#506784\",\"ticks\":\"\"},\"baxis\":{\"gridcolor\":\"#506784\",\"linecolor\":\"#506784\",\"ticks\":\"\"},\"caxis\":{\"gridcolor\":\"#506784\",\"linecolor\":\"#506784\",\"ticks\":\"\"}},\"coloraxis\":{\"colorbar\":{\"outlinewidth\":0,\"ticks\":\"\"}},\"colorscale\":{\"sequential\":[[0.0,\"#0d0887\"],[0.1111111111111111,\"#46039f\"],[0.2222222222222222,\"#7201a8\"],[0.3333333333333333,\"#9c179e\"],[0.4444444444444444,\"#bd3786\"],[0.5555555555555556,\"#d8576b\"],[0.6666666666666666,\"#ed7953\"],[0.7777777777777778,\"#fb9f3a\"],[0.8888888888888888,\"#fdca26\"],[1.0,\"#f0f921\"]],\"sequentialminus\":[[0.0,\"#0d0887\"],[0.1111111111111111,\"#46039f\"],[0.2222222222222222,\"#7201a8\"],[0.3333333333333333,\"#9c179e\"],[0.4444444444444444,\"#bd3786\"],[0.5555555555555556,\"#d8576b\"],[0.6666666666666666,\"#ed7953\"],[0.7777777777777778,\"#fb9f3a\"],[0.8888888888888888,\"#fdca26\"],[1.0,\"#f0f921\"]],\"diverging\":[[0,\"#8e0152\"],[0.1,\"#c51b7d\"],[0.2,\"#de77ae\"],[0.3,\"#f1b6da\"],[0.4,\"#fde0ef\"],[0.5,\"#f7f7f7\"],[0.6,\"#e6f5d0\"],[0.7,\"#b8e186\"],[0.8,\"#7fbc41\"],[0.9,\"#4d9221\"],[1,\"#276419\"]]},\"xaxis\":{\"gridcolor\":\"#283442\",\"linecolor\":\"#506784\",\"ticks\":\"\",\"title\":{\"standoff\":15},\"zerolinecolor\":\"#283442\",\"automargin\":true,\"zerolinewidth\":2},\"yaxis\":{\"gridcolor\":\"#283442\",\"linecolor\":\"#506784\",\"ticks\":\"\",\"title\":{\"standoff\":15},\"zerolinecolor\":\"#283442\",\"automargin\":true,\"zerolinewidth\":2},\"scene\":{\"xaxis\":{\"backgroundcolor\":\"rgb(17,17,17)\",\"gridcolor\":\"#506784\",\"linecolor\":\"#506784\",\"showbackground\":true,\"ticks\":\"\",\"zerolinecolor\":\"#C8D4E3\",\"gridwidth\":2},\"yaxis\":{\"backgroundcolor\":\"rgb(17,17,17)\",\"gridcolor\":\"#506784\",\"linecolor\":\"#506784\",\"showbackground\":true,\"ticks\":\"\",\"zerolinecolor\":\"#C8D4E3\",\"gridwidth\":2},\"zaxis\":{\"backgroundcolor\":\"rgb(17,17,17)\",\"gridcolor\":\"#506784\",\"linecolor\":\"#506784\",\"showbackground\":true,\"ticks\":\"\",\"zerolinecolor\":\"#C8D4E3\",\"gridwidth\":2}},\"shapedefaults\":{\"line\":{\"color\":\"#f2f5fa\"}},\"annotationdefaults\":{\"arrowcolor\":\"#f2f5fa\",\"arrowhead\":0,\"arrowwidth\":1},\"geo\":{\"bgcolor\":\"rgb(17,17,17)\",\"landcolor\":\"rgb(17,17,17)\",\"subunitcolor\":\"#506784\",\"showland\":true,\"showlakes\":true,\"lakecolor\":\"rgb(17,17,17)\"},\"title\":{\"x\":0.05},\"updatemenudefaults\":{\"bgcolor\":\"#506784\",\"borderwidth\":0},\"sliderdefaults\":{\"bgcolor\":\"#C8D4E3\",\"borderwidth\":1,\"bordercolor\":\"rgb(17,17,17)\",\"tickwidth\":0},\"mapbox\":{\"style\":\"dark\"}}},\"title\":{\"text\":\"vLLM++\"},\"xaxis\":{\"title\":{\"text\":\"Per-GPU Rate (tokens\\u002fs)\"}},\"yaxis\":{\"title\":{\"text\":\"Attainment (%)\"}},\"legend\":{\"title\":{\"text\":\"Configuration\"}}},                        {\"responsive\": true}                    ).then(function(){\n                            \nvar gd = document.getElementById('0ea9e46b-e402-4f6d-a3de-bd1f9c88fc87');\nvar x = new MutationObserver(function (mutations, observer) {{\n        var display = window.getComputedStyle(gd).display;\n        if (!display || display === 'none') {{\n            console.log([gd, 'removed!']);\n            Plotly.purge(gd);\n            observer.disconnect();\n        }}\n}});\n\n// Listen for the removal of the full notebook cells\nvar notebookContainer = gd.closest('#notebook-container');\nif (notebookContainer) {{\n    x.observe(notebookContainer, {childList: true});\n}}\n\n// Listen for the clearing of the current output cell\nvar outputEl = gd.closest('.output');\nif (outputEl) {{\n    x.observe(outputEl, {childList: true});\n}}\n\n                        })                };                });            </script>        </div>"
     },
     "metadata": {},
     "output_type": "display_data"
    }
   ],
   "source": [
    "# Plot the `figure_11_vllm_high`for some configurations\n",
    "# tp_prefill = 1, pp_prefill = 1\n",
    "# x-axis: rate\n",
    "# y-axis: attainment\n",
    "# find all combination of tp_prefill, pp_prefill\n",
    "import plotly.graph_objects as go\n",
    "\n",
    "fig = go.Figure()\n",
    "configs = figure_11_vllm_high[['tp_prefill', 'pp_prefill']].drop_duplicates()\n",
    "df = figure_11_vllm_high\n",
    "\n",
    "for tp_prefill, pp_prefill in configs.values:\n",
    "    config_df = df[\n",
    "        (df['tp_prefill'] == tp_prefill) & (df['pp_prefill'] == pp_prefill)\n",
    "        ]\n",
    "    # plot this inside a plotly plot\n",
    "    fig.add_trace(go.Scatter(\n",
    "        x=config_df['per_gpu_rate'], y=config_df['attainment'],\n",
    "        mode='lines+markers', name=f\"p{tp_prefill}{pp_prefill}-vllm\"\n",
    "    ))\n",
    "\n",
    "# fig add title\n",
    "fig.update_layout(\n",
    "    title=\"vLLM++\",\n",
    "    xaxis_title=\"Per-GPU Rate (tokens/s)\",\n",
    "    yaxis_title=\"Attainment (%)\",\n",
    "    legend_title=\"Configuration\"\n",
    ")\n",
    "fig.show()\n",
    "# Export to html\n",
    "fig.write_html(\"visual/figure_11_vllm_high.html\")"
   ],
   "metadata": {
    "collapsed": false,
    "ExecuteTime": {
     "end_time": "2024-04-21T00:01:23.616231Z",
     "start_time": "2024-04-21T00:01:23.594503Z"
    }
   },
   "id": "850a4845f690b806",
   "execution_count": 30
  },
  {
   "cell_type": "code",
   "outputs": [
    {
     "data": {
      "application/vnd.plotly.v1+json": {
       "data": [
        {
         "mode": "lines+markers",
         "name": "p1111-distserve",
         "x": [
          1.0,
          2.0,
          3.0,
          4.0,
          5.0
         ],
         "y": [
          91.6,
          80.5,
          68.30000000000001,
          23.5,
          10.3
         ],
         "type": "scatter"
        },
        {
         "mode": "lines+markers",
         "name": "p1112-distserve",
         "x": [
          1.0,
          2.0,
          3.0,
          4.0,
          5.0
         ],
         "y": [
          87.0,
          68.60000000000001,
          42.0,
          10.0,
          1.2
         ],
         "type": "scatter"
        },
        {
         "mode": "lines+markers",
         "name": "p1114-distserve",
         "x": [
          1.0,
          2.0,
          3.0,
          4.0,
          5.0
         ],
         "y": [
          74.1,
          31.9,
          1.2,
          0.1,
          0.1
         ],
         "type": "scatter"
        },
        {
         "mode": "lines+markers",
         "name": "p1118-distserve",
         "x": [
          1.0,
          2.0,
          3.0,
          4.0,
          5.0
         ],
         "y": [
          6.3,
          0.3,
          0.1,
          0.1,
          0.1
         ],
         "type": "scatter"
        },
        {
         "mode": "lines+markers",
         "name": "p1121-distserve",
         "x": [
          1.0,
          2.0,
          3.0,
          4.0,
          5.0
         ],
         "y": [
          87.0,
          68.30000000000001,
          15.8,
          2.5,
          1.2
         ],
         "type": "scatter"
        },
        {
         "mode": "lines+markers",
         "name": "p1122-distserve",
         "x": [
          1.0,
          2.0,
          3.0,
          4.0,
          5.0
         ],
         "y": [
          74.1,
          31.9,
          1.2,
          0.1,
          0.1
         ],
         "type": "scatter"
        },
        {
         "mode": "lines+markers",
         "name": "p1124-distserve",
         "x": [
          1.0,
          2.0,
          3.0,
          4.0,
          5.0
         ],
         "y": [
          42.0,
          0.3,
          0.1,
          0.1,
          0.1
         ],
         "type": "scatter"
        },
        {
         "mode": "lines+markers",
         "name": "p1128-distserve",
         "x": [
          1.0,
          2.0,
          3.0,
          4.0,
          5.0
         ],
         "y": [
          0.5,
          0.1,
          0.1,
          0.1,
          0.1
         ],
         "type": "scatter"
        },
        {
         "mode": "lines+markers",
         "name": "p1141-distserve",
         "x": [
          1.0,
          2.0,
          3.0,
          4.0,
          5.0
         ],
         "y": [
          74.1,
          10.3,
          1.2,
          0.1,
          0.1
         ],
         "type": "scatter"
        },
        {
         "mode": "lines+markers",
         "name": "p1142-distserve",
         "x": [
          1.0,
          2.0,
          3.0,
          4.0,
          5.0
         ],
         "y": [
          42.0,
          0.3,
          0.1,
          0.1,
          0.1
         ],
         "type": "scatter"
        },
        {
         "mode": "lines+markers",
         "name": "p1144-distserve",
         "x": [
          1.0,
          2.0,
          3.0,
          4.0,
          5.0
         ],
         "y": [
          0.5,
          0.1,
          0.1,
          0.1,
          0.1
         ],
         "type": "scatter"
        },
        {
         "mode": "lines+markers",
         "name": "p1181-distserve",
         "x": [
          1.0,
          2.0,
          3.0,
          4.0,
          5.0
         ],
         "y": [
          15.8,
          0.3,
          0.1,
          0.1,
          0.1
         ],
         "type": "scatter"
        },
        {
         "mode": "lines+markers",
         "name": "p1182-distserve",
         "x": [
          1.0,
          2.0,
          3.0,
          4.0,
          5.0
         ],
         "y": [
          0.5,
          0.1,
          0.1,
          0.1,
          0.1
         ],
         "type": "scatter"
        },
        {
         "mode": "lines+markers",
         "name": "p1211-distserve",
         "x": [
          1.0,
          2.0,
          3.0,
          4.0,
          5.0
         ],
         "y": [
          92.9,
          86.2,
          30.0,
          15.2,
          9.7
         ],
         "type": "scatter"
        },
        {
         "mode": "lines+markers",
         "name": "p1212-distserve",
         "x": [
          1.0,
          2.0,
          3.0,
          4.0,
          5.0
         ],
         "y": [
          92.3,
          81.10000000000001,
          61.9,
          29.5,
          7.399999999999999
         ],
         "type": "scatter"
        },
        {
         "mode": "lines+markers",
         "name": "p1214-distserve",
         "x": [
          1.0,
          2.0,
          3.0,
          4.0,
          5.0
         ],
         "y": [
          87.1,
          66.0,
          31.3,
          1.7000000000000002,
          0.8
         ],
         "type": "scatter"
        },
        {
         "mode": "lines+markers",
         "name": "p1218-distserve",
         "x": [
          1.0,
          2.0,
          3.0,
          4.0,
          5.0
         ],
         "y": [
          9.2,
          1.3,
          0.6,
          0.1,
          0.1
         ],
         "type": "scatter"
        },
        {
         "mode": "lines+markers",
         "name": "p1221-distserve",
         "x": [
          1.0,
          2.0,
          3.0,
          4.0,
          5.0
         ],
         "y": [
          92.3,
          39.0,
          15.2,
          8.200000000000001,
          2.8000000000000003
         ],
         "type": "scatter"
        },
        {
         "mode": "lines+markers",
         "name": "p1222-distserve",
         "x": [
          1.0,
          2.0,
          3.0,
          4.0,
          5.0
         ],
         "y": [
          87.1,
          61.9,
          16.8,
          1.7000000000000002,
          0.8
         ],
         "type": "scatter"
        },
        {
         "mode": "lines+markers",
         "name": "p1224-distserve",
         "x": [
          1.0,
          2.0,
          3.0,
          4.0,
          5.0
         ],
         "y": [
          73.2,
          16.5,
          0.8,
          0.1,
          0.1
         ],
         "type": "scatter"
        },
        {
         "mode": "lines+markers",
         "name": "p1228-distserve",
         "x": [
          1.0,
          2.0,
          3.0,
          4.0,
          5.0
         ],
         "y": [
          3.0,
          0.1,
          0.1,
          0.1,
          0.1
         ],
         "type": "scatter"
        },
        {
         "mode": "lines+markers",
         "name": "p1241-distserve",
         "x": [
          1.0,
          2.0,
          3.0,
          4.0,
          5.0
         ],
         "y": [
          86.2,
          15.2,
          5.3,
          1.6,
          0.7000000000000001
         ],
         "type": "scatter"
        },
        {
         "mode": "lines+markers",
         "name": "p1242-distserve",
         "x": [
          1.0,
          2.0,
          3.0,
          4.0,
          5.0
         ],
         "y": [
          73.2,
          7.399999999999999,
          0.8,
          0.1,
          0.1
         ],
         "type": "scatter"
        },
        {
         "mode": "lines+markers",
         "name": "p1244-distserve",
         "x": [
          1.0,
          2.0,
          3.0,
          4.0,
          5.0
         ],
         "y": [
          31.3,
          0.1,
          0.1,
          0.1,
          0.1
         ],
         "type": "scatter"
        },
        {
         "mode": "lines+markers",
         "name": "p1281-distserve",
         "x": [
          1.0,
          2.0,
          3.0,
          4.0,
          5.0
         ],
         "y": [
          22.6,
          2.8000000000000003,
          0.7000000000000001,
          0.1,
          0.1
         ],
         "type": "scatter"
        },
        {
         "mode": "lines+markers",
         "name": "p1282-distserve",
         "x": [
          1.0,
          2.0,
          3.0,
          4.0,
          5.0
         ],
         "y": [
          16.8,
          0.1,
          0.1,
          0.1,
          0.1
         ],
         "type": "scatter"
        },
        {
         "mode": "lines+markers",
         "name": "p1411-distserve",
         "x": [
          1.0,
          2.0,
          3.0,
          4.0,
          5.0
         ],
         "y": [
          90.1,
          27.0,
          15.1,
          9.6,
          6.4
         ],
         "type": "scatter"
        },
        {
         "mode": "lines+markers",
         "name": "p1412-distserve",
         "x": [
          1.0,
          2.0,
          3.0,
          4.0,
          5.0
         ],
         "y": [
          89.7,
          75.0,
          36.6,
          19.8,
          8.5
         ],
         "type": "scatter"
        },
        {
         "mode": "lines+markers",
         "name": "p1414-distserve",
         "x": [
          1.0,
          2.0,
          3.0,
          4.0,
          5.0
         ],
         "y": [
          86.7,
          72.1,
          48.6,
          16.3,
          1.9
         ],
         "type": "scatter"
        },
        {
         "mode": "lines+markers",
         "name": "p1418-distserve",
         "x": [
          1.0,
          2.0,
          3.0,
          4.0,
          5.0
         ],
         "y": [
          8.9,
          3.8,
          1.0,
          0.7000000000000001,
          0.1
         ],
         "type": "scatter"
        },
        {
         "mode": "lines+markers",
         "name": "p1421-distserve",
         "x": [
          1.0,
          2.0,
          3.0,
          4.0,
          5.0
         ],
         "y": [
          89.5,
          19.6,
          12.1,
          7.1,
          3.5000000000000004
         ],
         "type": "scatter"
        },
        {
         "mode": "lines+markers",
         "name": "p1422-distserve",
         "x": [
          1.0,
          2.0,
          3.0,
          4.0,
          5.0
         ],
         "y": [
          86.7,
          44.3,
          19.8,
          5.2,
          1.5
         ],
         "type": "scatter"
        },
        {
         "mode": "lines+markers",
         "name": "p1424-distserve",
         "x": [
          1.0,
          2.0,
          3.0,
          4.0,
          5.0
         ],
         "y": [
          81.39999999999999,
          48.6,
          5.2,
          1.0,
          0.1
         ],
         "type": "scatter"
        },
        {
         "mode": "lines+markers",
         "name": "p1428-distserve",
         "x": [
          1.0,
          2.0,
          3.0,
          4.0,
          5.0
         ],
         "y": [
          4.8,
          0.8999999999999999,
          0.1,
          0.1,
          0.1
         ],
         "type": "scatter"
        },
        {
         "mode": "lines+markers",
         "name": "p1441-distserve",
         "x": [
          1.0,
          2.0,
          3.0,
          4.0,
          5.0
         ],
         "y": [
          41.5,
          14.2,
          7.1,
          2.5,
          1.3
         ],
         "type": "scatter"
        },
        {
         "mode": "lines+markers",
         "name": "p1442-distserve",
         "x": [
          1.0,
          2.0,
          3.0,
          4.0,
          5.0
         ],
         "y": [
          75.0,
          19.8,
          2.3,
          1.0,
          0.1
         ],
         "type": "scatter"
        },
        {
         "mode": "lines+markers",
         "name": "p1444-distserve",
         "x": [
          1.0,
          2.0,
          3.0,
          4.0,
          5.0
         ],
         "y": [
          61.1,
          1.9,
          0.1,
          0.1,
          0.1
         ],
         "type": "scatter"
        },
        {
         "mode": "lines+markers",
         "name": "p1481-distserve",
         "x": [
          1.0,
          2.0,
          3.0,
          4.0,
          5.0
         ],
         "y": [
          19.6,
          7.1,
          1.5,
          0.8,
          0.1
         ],
         "type": "scatter"
        },
        {
         "mode": "lines+markers",
         "name": "p1482-distserve",
         "x": [
          1.0,
          2.0,
          3.0,
          4.0,
          5.0
         ],
         "y": [
          28.9,
          1.5,
          0.1,
          0.1,
          0.1
         ],
         "type": "scatter"
        },
        {
         "mode": "lines+markers",
         "name": "p1811-distserve",
         "x": [
          1.0,
          2.0,
          3.0,
          4.0,
          5.0
         ],
         "y": [
          25.6,
          8.6,
          3.8,
          2.0,
          0.6
         ],
         "type": "scatter"
        },
        {
         "mode": "lines+markers",
         "name": "p1812-distserve",
         "x": [
          1.0,
          2.0,
          3.0,
          4.0,
          5.0
         ],
         "y": [
          65.10000000000001,
          21.9,
          9.4,
          2.6,
          0.6
         ],
         "type": "scatter"
        },
        {
         "mode": "lines+markers",
         "name": "p1814-distserve",
         "x": [
          1.0,
          2.0,
          3.0,
          4.0,
          5.0
         ],
         "y": [
          61.3,
          38.8,
          14.000000000000002,
          2.8000000000000003,
          0.1
         ],
         "type": "scatter"
        },
        {
         "mode": "lines+markers",
         "name": "p1818-distserve",
         "x": [
          1.0,
          2.0,
          3.0,
          4.0,
          5.0
         ],
         "y": [
          4.3,
          1.0,
          0.4,
          0.1,
          0.1
         ],
         "type": "scatter"
        },
        {
         "mode": "lines+markers",
         "name": "p1821-distserve",
         "x": [
          1.0,
          2.0,
          3.0,
          4.0,
          5.0
         ],
         "y": [
          20.200000000000003,
          7.5,
          2.9000000000000004,
          1.0,
          0.4
         ],
         "type": "scatter"
        },
        {
         "mode": "lines+markers",
         "name": "p1822-distserve",
         "x": [
          1.0,
          2.0,
          3.0,
          4.0,
          5.0
         ],
         "y": [
          59.0,
          15.5,
          5.1,
          0.8,
          0.1
         ],
         "type": "scatter"
        },
        {
         "mode": "lines+markers",
         "name": "p1824-distserve",
         "x": [
          1.0,
          2.0,
          3.0,
          4.0,
          5.0
         ],
         "y": [
          54.900000000000006,
          20.9,
          2.8000000000000003,
          0.1,
          0.1
         ],
         "type": "scatter"
        },
        {
         "mode": "lines+markers",
         "name": "p1828-distserve",
         "x": [
          1.0,
          2.0,
          3.0,
          4.0,
          5.0
         ],
         "y": [
          2.1,
          0.4,
          0.1,
          0.1,
          0.1
         ],
         "type": "scatter"
        },
        {
         "mode": "lines+markers",
         "name": "p1841-distserve",
         "x": [
          1.0,
          2.0,
          3.0,
          4.0,
          5.0
         ],
         "y": [
          14.6,
          4.8,
          2.0,
          0.4,
          0.1
         ],
         "type": "scatter"
        },
        {
         "mode": "lines+markers",
         "name": "p1842-distserve",
         "x": [
          1.0,
          2.0,
          3.0,
          4.0,
          5.0
         ],
         "y": [
          36.9,
          6.800000000000001,
          0.8,
          0.1,
          0.1
         ],
         "type": "scatter"
        },
        {
         "mode": "lines+markers",
         "name": "p1844-distserve",
         "x": [
          1.0,
          2.0,
          3.0,
          4.0,
          5.0
         ],
         "y": [
          38.8,
          2.8000000000000003,
          0.1,
          0.1,
          0.1
         ],
         "type": "scatter"
        },
        {
         "mode": "lines+markers",
         "name": "p1881-distserve",
         "x": [
          1.0,
          2.0,
          3.0,
          4.0,
          5.0
         ],
         "y": [
          10.4,
          2.5,
          0.4,
          0.1,
          0.1
         ],
         "type": "scatter"
        },
        {
         "mode": "lines+markers",
         "name": "p1882-distserve",
         "x": [
          1.0,
          2.0,
          3.0,
          4.0,
          5.0
         ],
         "y": [
          15.5,
          0.8,
          0.1,
          0.1,
          0.1
         ],
         "type": "scatter"
        },
        {
         "mode": "lines+markers",
         "name": "p2111-distserve",
         "x": [
          1.0,
          2.0,
          3.0,
          4.0,
          5.0
         ],
         "y": [
          98.5,
          93.2,
          84.2,
          69.0,
          43.7
         ],
         "type": "scatter"
        },
        {
         "mode": "lines+markers",
         "name": "p2112-distserve",
         "x": [
          1.0,
          2.0,
          3.0,
          4.0,
          5.0
         ],
         "y": [
          97.5,
          87.5,
          69.0,
          39.6,
          4.2
         ],
         "type": "scatter"
        },
        {
         "mode": "lines+markers",
         "name": "p2114-distserve",
         "x": [
          1.0,
          2.0,
          3.0,
          4.0,
          5.0
         ],
         "y": [
          93.2,
          69.0,
          20.9,
          1.3,
          0.3
         ],
         "type": "scatter"
        },
        {
         "mode": "lines+markers",
         "name": "p2118-distserve",
         "x": [
          1.0,
          2.0,
          3.0,
          4.0,
          5.0
         ],
         "y": [
          80.0,
          3.8,
          0.3,
          0.1,
          0.1
         ],
         "type": "scatter"
        },
        {
         "mode": "lines+markers",
         "name": "p2121-distserve",
         "x": [
          1.0,
          2.0,
          3.0,
          4.0,
          5.0
         ],
         "y": [
          97.5,
          87.5,
          69.0,
          32.9,
          3.2
         ],
         "type": "scatter"
        },
        {
         "mode": "lines+markers",
         "name": "p2122-distserve",
         "x": [
          1.0,
          2.0,
          3.0,
          4.0,
          5.0
         ],
         "y": [
          93.2,
          69.0,
          20.9,
          1.3,
          0.3
         ],
         "type": "scatter"
        },
        {
         "mode": "lines+markers",
         "name": "p2124-distserve",
         "x": [
          1.0,
          2.0,
          3.0,
          4.0,
          5.0
         ],
         "y": [
          80.0,
          4.2,
          0.3,
          0.1,
          0.1
         ],
         "type": "scatter"
        },
        {
         "mode": "lines+markers",
         "name": "p2128-distserve",
         "x": [
          1.0,
          2.0,
          3.0,
          4.0,
          5.0
         ],
         "y": [
          16.8,
          0.2,
          0.1,
          0.1,
          0.1
         ],
         "type": "scatter"
        },
        {
         "mode": "lines+markers",
         "name": "p2141-distserve",
         "x": [
          1.0,
          2.0,
          3.0,
          4.0,
          5.0
         ],
         "y": [
          93.2,
          69.0,
          14.6,
          1.3,
          0.3
         ],
         "type": "scatter"
        },
        {
         "mode": "lines+markers",
         "name": "p2142-distserve",
         "x": [
          1.0,
          2.0,
          3.0,
          4.0,
          5.0
         ],
         "y": [
          80.0,
          4.2,
          0.3,
          0.1,
          0.1
         ],
         "type": "scatter"
        },
        {
         "mode": "lines+markers",
         "name": "p2144-distserve",
         "x": [
          1.0,
          2.0,
          3.0,
          4.0,
          5.0
         ],
         "y": [
          20.9,
          0.2,
          0.1,
          0.1,
          0.1
         ],
         "type": "scatter"
        },
        {
         "mode": "lines+markers",
         "name": "p2181-distserve",
         "x": [
          1.0,
          2.0,
          3.0,
          4.0,
          5.0
         ],
         "y": [
          80.0,
          3.2,
          0.3,
          0.1,
          0.1
         ],
         "type": "scatter"
        },
        {
         "mode": "lines+markers",
         "name": "p2182-distserve",
         "x": [
          1.0,
          2.0,
          3.0,
          4.0,
          5.0
         ],
         "y": [
          20.9,
          0.2,
          0.1,
          0.1,
          0.1
         ],
         "type": "scatter"
        },
        {
         "mode": "lines+markers",
         "name": "p2211-distserve",
         "x": [
          1.0,
          2.0,
          3.0,
          4.0,
          5.0
         ],
         "y": [
          100.0,
          98.2,
          83.2,
          49.2,
          28.8
         ],
         "type": "scatter"
        },
        {
         "mode": "lines+markers",
         "name": "p2212-distserve",
         "x": [
          1.0,
          2.0,
          3.0,
          4.0,
          5.0
         ],
         "y": [
          99.7,
          96.4,
          86.2,
          64.3,
          36.8
         ],
         "type": "scatter"
        },
        {
         "mode": "lines+markers",
         "name": "p2214-distserve",
         "x": [
          1.0,
          2.0,
          3.0,
          4.0,
          5.0
         ],
         "y": [
          99.2,
          89.2,
          64.3,
          26.4,
          2.8000000000000003
         ],
         "type": "scatter"
        },
        {
         "mode": "lines+markers",
         "name": "p2218-distserve",
         "x": [
          1.0,
          2.0,
          3.0,
          4.0,
          5.0
         ],
         "y": [
          96.4,
          42.6,
          3.7,
          1.3,
          0.1
         ],
         "type": "scatter"
        },
        {
         "mode": "lines+markers",
         "name": "p2221-distserve",
         "x": [
          1.0,
          2.0,
          3.0,
          4.0,
          5.0
         ],
         "y": [
          99.7,
          96.2,
          58.9,
          31.5,
          13.6
         ],
         "type": "scatter"
        },
        {
         "mode": "lines+markers",
         "name": "p2222-distserve",
         "x": [
          1.0,
          2.0,
          3.0,
          4.0,
          5.0
         ],
         "y": [
          99.2,
          89.2,
          64.3,
          26.4,
          2.8000000000000003
         ],
         "type": "scatter"
        },
        {
         "mode": "lines+markers",
         "name": "p2224-distserve",
         "x": [
          1.0,
          2.0,
          3.0,
          4.0,
          5.0
         ],
         "y": [
          96.4,
          64.3,
          4.5,
          1.3,
          0.1
         ],
         "type": "scatter"
        },
        {
         "mode": "lines+markers",
         "name": "p2228-distserve",
         "x": [
          1.0,
          2.0,
          3.0,
          4.0,
          5.0
         ],
         "y": [
          62.3,
          2.8000000000000003,
          0.1,
          0.1,
          0.1
         ],
         "type": "scatter"
        },
        {
         "mode": "lines+markers",
         "name": "p2241-distserve",
         "x": [
          1.0,
          2.0,
          3.0,
          4.0,
          5.0
         ],
         "y": [
          99.2,
          73.4,
          31.5,
          9.5,
          2.8000000000000003
         ],
         "type": "scatter"
        },
        {
         "mode": "lines+markers",
         "name": "p2242-distserve",
         "x": [
          1.0,
          2.0,
          3.0,
          4.0,
          5.0
         ],
         "y": [
          96.4,
          64.3,
          4.5,
          1.3,
          0.1
         ],
         "type": "scatter"
        },
        {
         "mode": "lines+markers",
         "name": "p2244-distserve",
         "x": [
          1.0,
          2.0,
          3.0,
          4.0,
          5.0
         ],
         "y": [
          80.9,
          2.8000000000000003,
          0.1,
          0.1,
          0.1
         ],
         "type": "scatter"
        },
        {
         "mode": "lines+markers",
         "name": "p2281-distserve",
         "x": [
          1.0,
          2.0,
          3.0,
          4.0,
          5.0
         ],
         "y": [
          96.2,
          31.5,
          3.6,
          1.3,
          0.1
         ],
         "type": "scatter"
        },
        {
         "mode": "lines+markers",
         "name": "p2282-distserve",
         "x": [
          1.0,
          2.0,
          3.0,
          4.0,
          5.0
         ],
         "y": [
          80.9,
          2.8000000000000003,
          0.1,
          0.1,
          0.1
         ],
         "type": "scatter"
        },
        {
         "mode": "lines+markers",
         "name": "p2411-distserve",
         "x": [
          1.0,
          2.0,
          3.0,
          4.0,
          5.0
         ],
         "y": [
          100.0,
          68.0,
          39.0,
          24.8,
          12.2
         ],
         "type": "scatter"
        },
        {
         "mode": "lines+markers",
         "name": "p2412-distserve",
         "x": [
          1.0,
          2.0,
          3.0,
          4.0,
          5.0
         ],
         "y": [
          99.7,
          96.7,
          83.7,
          63.0,
          30.3
         ],
         "type": "scatter"
        },
        {
         "mode": "lines+markers",
         "name": "p2414-distserve",
         "x": [
          1.0,
          2.0,
          3.0,
          4.0,
          5.0
         ],
         "y": [
          99.3,
          92.2,
          73.5,
          37.2,
          5.1
         ],
         "type": "scatter"
        },
        {
         "mode": "lines+markers",
         "name": "p2418-distserve",
         "x": [
          1.0,
          2.0,
          3.0,
          4.0,
          5.0
         ],
         "y": [
          90.7,
          40.8,
          12.8,
          2.5,
          0.5
         ],
         "type": "scatter"
        },
        {
         "mode": "lines+markers",
         "name": "p2421-distserve",
         "x": [
          1.0,
          2.0,
          3.0,
          4.0,
          5.0
         ],
         "y": [
          99.7,
          59.6,
          32.300000000000004,
          20.0,
          8.1
         ],
         "type": "scatter"
        },
        {
         "mode": "lines+markers",
         "name": "p2422-distserve",
         "x": [
          1.0,
          2.0,
          3.0,
          4.0,
          5.0
         ],
         "y": [
          99.3,
          92.2,
          73.4,
          35.0,
          5.0
         ],
         "type": "scatter"
        },
        {
         "mode": "lines+markers",
         "name": "p2424-distserve",
         "x": [
          1.0,
          2.0,
          3.0,
          4.0,
          5.0
         ],
         "y": [
          98.9,
          80.9,
          37.2,
          3.1,
          0.6
         ],
         "type": "scatter"
        },
        {
         "mode": "lines+markers",
         "name": "p2428-distserve",
         "x": [
          1.0,
          2.0,
          3.0,
          4.0,
          5.0
         ],
         "y": [
          60.3,
          12.8,
          2.2,
          0.1,
          0.1
         ],
         "type": "scatter"
        },
        {
         "mode": "lines+markers",
         "name": "p2441-distserve",
         "x": [
          1.0,
          2.0,
          3.0,
          4.0,
          5.0
         ],
         "y": [
          99.2,
          46.1,
          24.8,
          9.1,
          2.7
         ],
         "type": "scatter"
        },
        {
         "mode": "lines+markers",
         "name": "p2442-distserve",
         "x": [
          1.0,
          2.0,
          3.0,
          4.0,
          5.0
         ],
         "y": [
          98.9,
          80.80000000000001,
          35.0,
          3.1,
          0.6
         ],
         "type": "scatter"
        },
        {
         "mode": "lines+markers",
         "name": "p2444-distserve",
         "x": [
          1.0,
          2.0,
          3.0,
          4.0,
          5.0
         ],
         "y": [
          92.2,
          37.2,
          2.8000000000000003,
          0.1,
          0.1
         ],
         "type": "scatter"
        },
        {
         "mode": "lines+markers",
         "name": "p2481-distserve",
         "x": [
          1.0,
          2.0,
          3.0,
          4.0,
          5.0
         ],
         "y": [
          82.1,
          29.4,
          9.1,
          2.5,
          0.5
         ],
         "type": "scatter"
        },
        {
         "mode": "lines+markers",
         "name": "p2482-distserve",
         "x": [
          1.0,
          2.0,
          3.0,
          4.0,
          5.0
         ],
         "y": [
          92.2,
          35.0,
          2.8000000000000003,
          0.1,
          0.1
         ],
         "type": "scatter"
        },
        {
         "mode": "lines+markers",
         "name": "p2811-distserve",
         "x": [
          1.0,
          2.0,
          3.0,
          4.0,
          5.0
         ],
         "y": [
          70.0,
          26.6,
          11.4,
          3.6,
          1.4
         ],
         "type": "scatter"
        },
        {
         "mode": "lines+markers",
         "name": "p2812-distserve",
         "x": [
          1.0,
          2.0,
          3.0,
          4.0,
          5.0
         ],
         "y": [
          90.7,
          72.6,
          32.7,
          5.1,
          1.5
         ],
         "type": "scatter"
        },
        {
         "mode": "lines+markers",
         "name": "p2814-distserve",
         "x": [
          1.0,
          2.0,
          3.0,
          4.0,
          5.0
         ],
         "y": [
          90.0,
          65.8,
          20.9,
          2.2,
          0.6
         ],
         "type": "scatter"
        },
        {
         "mode": "lines+markers",
         "name": "p2818-distserve",
         "x": [
          1.0,
          2.0,
          3.0,
          4.0,
          5.0
         ],
         "y": [
          56.7,
          18.4,
          2.3,
          0.7000000000000001,
          0.1
         ],
         "type": "scatter"
        },
        {
         "mode": "lines+markers",
         "name": "p2821-distserve",
         "x": [
          1.0,
          2.0,
          3.0,
          4.0,
          5.0
         ],
         "y": [
          63.5,
          23.8,
          10.4,
          2.4,
          1.2
         ],
         "type": "scatter"
        },
        {
         "mode": "lines+markers",
         "name": "p2822-distserve",
         "x": [
          1.0,
          2.0,
          3.0,
          4.0,
          5.0
         ],
         "y": [
          90.0,
          65.60000000000001,
          19.3,
          2.2,
          0.6
         ],
         "type": "scatter"
        },
        {
         "mode": "lines+markers",
         "name": "p2824-distserve",
         "x": [
          1.0,
          2.0,
          3.0,
          4.0,
          5.0
         ],
         "y": [
          85.9,
          49.2,
          6.4,
          0.8999999999999999,
          0.1
         ],
         "type": "scatter"
        },
        {
         "mode": "lines+markers",
         "name": "p2828-distserve",
         "x": [
          1.0,
          2.0,
          3.0,
          4.0,
          5.0
         ],
         "y": [
          40.1,
          5.4,
          0.7000000000000001,
          0.1,
          0.1
         ],
         "type": "scatter"
        },
        {
         "mode": "lines+markers",
         "name": "p2841-distserve",
         "x": [
          1.0,
          2.0,
          3.0,
          4.0,
          5.0
         ],
         "y": [
          56.10000000000001,
          20.7,
          5.6000000000000005,
          1.4,
          0.5
         ],
         "type": "scatter"
        },
        {
         "mode": "lines+markers",
         "name": "p2842-distserve",
         "x": [
          1.0,
          2.0,
          3.0,
          4.0,
          5.0
         ],
         "y": [
          85.9,
          47.2,
          5.1,
          0.8999999999999999,
          0.1
         ],
         "type": "scatter"
        },
        {
         "mode": "lines+markers",
         "name": "p2844-distserve",
         "x": [
          1.0,
          2.0,
          3.0,
          4.0,
          5.0
         ],
         "y": [
          78.3,
          14.3,
          0.8999999999999999,
          0.1,
          0.1
         ],
         "type": "scatter"
        },
        {
         "mode": "lines+markers",
         "name": "p2881-distserve",
         "x": [
          1.0,
          2.0,
          3.0,
          4.0,
          5.0
         ],
         "y": [
          42.8,
          14.2,
          2.4,
          0.8,
          0.1
         ],
         "type": "scatter"
        },
        {
         "mode": "lines+markers",
         "name": "p2882-distserve",
         "x": [
          1.0,
          2.0,
          3.0,
          4.0,
          5.0
         ],
         "y": [
          78.3,
          12.9,
          0.8999999999999999,
          0.1,
          0.1
         ],
         "type": "scatter"
        },
        {
         "mode": "lines+markers",
         "name": "p4111-distserve",
         "x": [
          1.0,
          2.0,
          3.0,
          4.0,
          5.0
         ],
         "y": [
          100.0,
          99.6,
          96.9,
          93.0,
          81.8
         ],
         "type": "scatter"
        },
        {
         "mode": "lines+markers",
         "name": "p4112-distserve",
         "x": [
          1.0,
          2.0,
          3.0,
          4.0,
          5.0
         ],
         "y": [
          100.0,
          99.3,
          95.7,
          85.6,
          60.5
         ],
         "type": "scatter"
        },
        {
         "mode": "lines+markers",
         "name": "p4114-distserve",
         "x": [
          1.0,
          2.0,
          3.0,
          4.0,
          5.0
         ],
         "y": [
          99.9,
          96.6,
          85.6,
          48.0,
          3.9
         ],
         "type": "scatter"
        },
        {
         "mode": "lines+markers",
         "name": "p4118-distserve",
         "x": [
          1.0,
          2.0,
          3.0,
          4.0,
          5.0
         ],
         "y": [
          99.3,
          85.6,
          13.8,
          2.7,
          1.4
         ],
         "type": "scatter"
        },
        {
         "mode": "lines+markers",
         "name": "p4121-distserve",
         "x": [
          1.0,
          2.0,
          3.0,
          4.0,
          5.0
         ],
         "y": [
          100.0,
          99.3,
          95.7,
          85.6,
          60.5
         ],
         "type": "scatter"
        },
        {
         "mode": "lines+markers",
         "name": "p4122-distserve",
         "x": [
          1.0,
          2.0,
          3.0,
          4.0,
          5.0
         ],
         "y": [
          99.9,
          96.6,
          85.6,
          48.0,
          3.9
         ],
         "type": "scatter"
        },
        {
         "mode": "lines+markers",
         "name": "p4124-distserve",
         "x": [
          1.0,
          2.0,
          3.0,
          4.0,
          5.0
         ],
         "y": [
          99.3,
          85.6,
          13.8,
          2.7,
          1.4
         ],
         "type": "scatter"
        },
        {
         "mode": "lines+markers",
         "name": "p4128-distserve",
         "x": [
          1.0,
          2.0,
          3.0,
          4.0,
          5.0
         ],
         "y": [
          93.0,
          3.9,
          1.4,
          0.6,
          0.5
         ],
         "type": "scatter"
        },
        {
         "mode": "lines+markers",
         "name": "p4141-distserve",
         "x": [
          1.0,
          2.0,
          3.0,
          4.0,
          5.0
         ],
         "y": [
          99.9,
          96.6,
          85.6,
          47.8,
          3.9
         ],
         "type": "scatter"
        },
        {
         "mode": "lines+markers",
         "name": "p4142-distserve",
         "x": [
          1.0,
          2.0,
          3.0,
          4.0,
          5.0
         ],
         "y": [
          99.3,
          85.6,
          13.8,
          2.7,
          1.4
         ],
         "type": "scatter"
        },
        {
         "mode": "lines+markers",
         "name": "p4144-distserve",
         "x": [
          1.0,
          2.0,
          3.0,
          4.0,
          5.0
         ],
         "y": [
          93.0,
          3.9,
          1.4,
          0.7000000000000001,
          0.6
         ],
         "type": "scatter"
        },
        {
         "mode": "lines+markers",
         "name": "p4181-distserve",
         "x": [
          1.0,
          2.0,
          3.0,
          4.0,
          5.0
         ],
         "y": [
          99.3,
          85.6,
          13.8,
          2.7,
          1.4
         ],
         "type": "scatter"
        },
        {
         "mode": "lines+markers",
         "name": "p4182-distserve",
         "x": [
          1.0,
          2.0,
          3.0,
          4.0,
          5.0
         ],
         "y": [
          93.0,
          3.9,
          1.4,
          0.7000000000000001,
          0.6
         ],
         "type": "scatter"
        },
        {
         "mode": "lines+markers",
         "name": "p4211-distserve",
         "x": [
          1.0,
          2.0,
          3.0,
          4.0,
          5.0
         ],
         "y": [
          100.0,
          100.0,
          98.6,
          95.6,
          89.1
         ],
         "type": "scatter"
        },
        {
         "mode": "lines+markers",
         "name": "p4212-distserve",
         "x": [
          1.0,
          2.0,
          3.0,
          4.0,
          5.0
         ],
         "y": [
          100.0,
          100.0,
          98.1,
          93.5,
          81.0
         ],
         "type": "scatter"
        },
        {
         "mode": "lines+markers",
         "name": "p4214-distserve",
         "x": [
          1.0,
          2.0,
          3.0,
          4.0,
          5.0
         ],
         "y": [
          100.0,
          99.7,
          96.1,
          83.3,
          46.0
         ],
         "type": "scatter"
        },
        {
         "mode": "lines+markers",
         "name": "p4218-distserve",
         "x": [
          1.0,
          2.0,
          3.0,
          4.0,
          5.0
         ],
         "y": [
          100.0,
          97.6,
          83.3,
          25.0,
          4.2
         ],
         "type": "scatter"
        },
        {
         "mode": "lines+markers",
         "name": "p4221-distserve",
         "x": [
          1.0,
          2.0,
          3.0,
          4.0,
          5.0
         ],
         "y": [
          100.0,
          100.0,
          98.1,
          92.9,
          79.10000000000001
         ],
         "type": "scatter"
        },
        {
         "mode": "lines+markers",
         "name": "p4222-distserve",
         "x": [
          1.0,
          2.0,
          3.0,
          4.0,
          5.0
         ],
         "y": [
          100.0,
          99.7,
          96.1,
          83.3,
          46.0
         ],
         "type": "scatter"
        },
        {
         "mode": "lines+markers",
         "name": "p4224-distserve",
         "x": [
          1.0,
          2.0,
          3.0,
          4.0,
          5.0
         ],
         "y": [
          100.0,
          97.6,
          83.3,
          25.0,
          4.2
         ],
         "type": "scatter"
        },
        {
         "mode": "lines+markers",
         "name": "p4228-distserve",
         "x": [
          1.0,
          2.0,
          3.0,
          4.0,
          5.0
         ],
         "y": [
          99.7,
          83.3,
          4.3,
          2.9000000000000004,
          1.3
         ],
         "type": "scatter"
        },
        {
         "mode": "lines+markers",
         "name": "p4241-distserve",
         "x": [
          1.0,
          2.0,
          3.0,
          4.0,
          5.0
         ],
         "y": [
          100.0,
          99.7,
          95.6,
          82.1,
          42.0
         ],
         "type": "scatter"
        },
        {
         "mode": "lines+markers",
         "name": "p4242-distserve",
         "x": [
          1.0,
          2.0,
          3.0,
          4.0,
          5.0
         ],
         "y": [
          100.0,
          97.6,
          83.3,
          25.0,
          4.2
         ],
         "type": "scatter"
        },
        {
         "mode": "lines+markers",
         "name": "p4244-distserve",
         "x": [
          1.0,
          2.0,
          3.0,
          4.0,
          5.0
         ],
         "y": [
          99.7,
          83.3,
          4.3,
          2.9000000000000004,
          1.4
         ],
         "type": "scatter"
        },
        {
         "mode": "lines+markers",
         "name": "p4281-distserve",
         "x": [
          1.0,
          2.0,
          3.0,
          4.0,
          5.0
         ],
         "y": [
          100.0,
          97.4,
          82.1,
          22.7,
          4.2
         ],
         "type": "scatter"
        },
        {
         "mode": "lines+markers",
         "name": "p4282-distserve",
         "x": [
          1.0,
          2.0,
          3.0,
          4.0,
          5.0
         ],
         "y": [
          99.7,
          83.3,
          4.3,
          2.9000000000000004,
          1.4
         ],
         "type": "scatter"
        },
        {
         "mode": "lines+markers",
         "name": "p4411-distserve",
         "x": [
          1.0,
          2.0,
          3.0,
          4.0,
          5.0
         ],
         "y": [
          100.0,
          99.7,
          96.6,
          84.6,
          64.4
         ],
         "type": "scatter"
        },
        {
         "mode": "lines+markers",
         "name": "p4412-distserve",
         "x": [
          1.0,
          2.0,
          3.0,
          4.0,
          5.0
         ],
         "y": [
          100.0,
          100.0,
          97.8,
          92.5,
          68.5
         ],
         "type": "scatter"
        },
        {
         "mode": "lines+markers",
         "name": "p4414-distserve",
         "x": [
          1.0,
          2.0,
          3.0,
          4.0,
          5.0
         ],
         "y": [
          100.0,
          100.0,
          96.9,
          83.8,
          41.1
         ],
         "type": "scatter"
        },
        {
         "mode": "lines+markers",
         "name": "p4418-distserve",
         "x": [
          1.0,
          2.0,
          3.0,
          4.0,
          5.0
         ],
         "y": [
          100.0,
          98.6,
          92.5,
          53.7,
          4.3
         ],
         "type": "scatter"
        },
        {
         "mode": "lines+markers",
         "name": "p4421-distserve",
         "x": [
          1.0,
          2.0,
          3.0,
          4.0,
          5.0
         ],
         "y": [
          100.0,
          99.6,
          94.4,
          81.39999999999999,
          55.400000000000006
         ],
         "type": "scatter"
        },
        {
         "mode": "lines+markers",
         "name": "p4422-distserve",
         "x": [
          1.0,
          2.0,
          3.0,
          4.0,
          5.0
         ],
         "y": [
          100.0,
          100.0,
          96.9,
          83.8,
          41.1
         ],
         "type": "scatter"
        },
        {
         "mode": "lines+markers",
         "name": "p4424-distserve",
         "x": [
          1.0,
          2.0,
          3.0,
          4.0,
          5.0
         ],
         "y": [
          100.0,
          98.6,
          92.5,
          53.7,
          4.3
         ],
         "type": "scatter"
        },
        {
         "mode": "lines+markers",
         "name": "p4428-distserve",
         "x": [
          1.0,
          2.0,
          3.0,
          4.0,
          5.0
         ],
         "y": [
          100.0,
          95.1,
          53.7,
          4.3,
          3.7
         ],
         "type": "scatter"
        },
        {
         "mode": "lines+markers",
         "name": "p4441-distserve",
         "x": [
          1.0,
          2.0,
          3.0,
          4.0,
          5.0
         ],
         "y": [
          100.0,
          99.6,
          90.2,
          70.8,
          31.4
         ],
         "type": "scatter"
        },
        {
         "mode": "lines+markers",
         "name": "p4442-distserve",
         "x": [
          1.0,
          2.0,
          3.0,
          4.0,
          5.0
         ],
         "y": [
          100.0,
          98.6,
          92.5,
          53.7,
          4.3
         ],
         "type": "scatter"
        },
        {
         "mode": "lines+markers",
         "name": "p4444-distserve",
         "x": [
          1.0,
          2.0,
          3.0,
          4.0,
          5.0
         ],
         "y": [
          100.0,
          95.1,
          53.7,
          4.3,
          3.7
         ],
         "type": "scatter"
        },
        {
         "mode": "lines+markers",
         "name": "p4481-distserve",
         "x": [
          1.0,
          2.0,
          3.0,
          4.0,
          5.0
         ],
         "y": [
          100.0,
          97.2,
          81.39999999999999,
          42.3,
          4.3
         ],
         "type": "scatter"
        },
        {
         "mode": "lines+markers",
         "name": "p4482-distserve",
         "x": [
          1.0,
          2.0,
          3.0,
          4.0,
          5.0
         ],
         "y": [
          100.0,
          95.1,
          53.7,
          4.3,
          3.7
         ],
         "type": "scatter"
        },
        {
         "mode": "lines+markers",
         "name": "p11-vllm",
         "x": [
          1.0,
          2.0,
          3.0,
          4.0,
          5.0
         ],
         "y": [
          91.3,
          86.0,
          79.3,
          25.9,
          9.4
         ],
         "type": "scatter"
        },
        {
         "mode": "lines+markers",
         "name": "p12-vllm",
         "x": [
          1.0,
          2.0,
          3.0,
          4.0,
          5.0
         ],
         "y": [
          92.7,
          86.2,
          18.3,
          8.1,
          3.6
         ],
         "type": "scatter"
        },
        {
         "mode": "lines+markers",
         "name": "p14-vllm",
         "x": [
          1.0,
          2.0,
          3.0,
          4.0,
          5.0
         ],
         "y": [
          84.1,
          9.6,
          3.1,
          1.6,
          0.4
         ],
         "type": "scatter"
        },
        {
         "mode": "lines+markers",
         "name": "p18-vllm",
         "x": [
          1.0,
          2.0,
          3.0,
          4.0,
          5.0
         ],
         "y": [
          0.3,
          0.0,
          0.0,
          0.0,
          0.0
         ],
         "type": "scatter"
        },
        {
         "mode": "lines+markers",
         "name": "p21-vllm",
         "x": [
          1.0,
          2.0,
          3.0,
          4.0,
          5.0
         ],
         "y": [
          99.0,
          95.8,
          87.2,
          25.8,
          11.3
         ],
         "type": "scatter"
        },
        {
         "mode": "lines+markers",
         "name": "p22-vllm",
         "x": [
          1.0,
          2.0,
          3.0,
          4.0,
          5.0
         ],
         "y": [
          99.3,
          96.1,
          33.7,
          12.2,
          4.9
         ],
         "type": "scatter"
        },
        {
         "mode": "lines+markers",
         "name": "p24-vllm",
         "x": [
          1.0,
          2.0,
          3.0,
          4.0,
          5.0
         ],
         "y": [
          99.1,
          25.9,
          5.0,
          1.6,
          0.6
         ],
         "type": "scatter"
        },
        {
         "mode": "lines+markers",
         "name": "p28-vllm",
         "x": [
          1.0,
          2.0,
          3.0,
          4.0,
          5.0
         ],
         "y": [
          0.1,
          0.0,
          0.0,
          0.0,
          0.0
         ],
         "type": "scatter"
        },
        {
         "mode": "lines+markers",
         "name": "p41-vllm",
         "x": [
          1.0,
          2.0,
          3.0,
          4.0,
          5.0
         ],
         "y": [
          100.0,
          99.8,
          96.5,
          50.6,
          24.9
         ],
         "type": "scatter"
        },
        {
         "mode": "lines+markers",
         "name": "p42-vllm",
         "x": [
          1.0,
          2.0,
          3.0,
          4.0,
          5.0
         ],
         "y": [
          100.0,
          99.8,
          84.7,
          42.0,
          22.3
         ],
         "type": "scatter"
        },
        {
         "mode": "lines+markers",
         "name": "p44-vllm",
         "x": [
          1.0,
          2.0,
          3.0,
          4.0,
          5.0
         ],
         "y": [
          100.0,
          81.5,
          29.2,
          15.2,
          10.9
         ],
         "type": "scatter"
        },
        {
         "mode": "lines+markers",
         "name": "p48-vllm",
         "x": [
          1.0,
          2.0,
          3.0,
          4.0,
          5.0
         ],
         "y": [
          0.1,
          0.2,
          0.1,
          0.0,
          0.0
         ],
         "type": "scatter"
        }
       ],
       "layout": {
        "template": {
         "data": {
          "histogram2dcontour": [
           {
            "type": "histogram2dcontour",
            "colorbar": {
             "outlinewidth": 0,
             "ticks": ""
            },
            "colorscale": [
             [
              0.0,
              "#0d0887"
             ],
             [
              0.1111111111111111,
              "#46039f"
             ],
             [
              0.2222222222222222,
              "#7201a8"
             ],
             [
              0.3333333333333333,
              "#9c179e"
             ],
             [
              0.4444444444444444,
              "#bd3786"
             ],
             [
              0.5555555555555556,
              "#d8576b"
             ],
             [
              0.6666666666666666,
              "#ed7953"
             ],
             [
              0.7777777777777778,
              "#fb9f3a"
             ],
             [
              0.8888888888888888,
              "#fdca26"
             ],
             [
              1.0,
              "#f0f921"
             ]
            ]
           }
          ],
          "choropleth": [
           {
            "type": "choropleth",
            "colorbar": {
             "outlinewidth": 0,
             "ticks": ""
            }
           }
          ],
          "histogram2d": [
           {
            "type": "histogram2d",
            "colorbar": {
             "outlinewidth": 0,
             "ticks": ""
            },
            "colorscale": [
             [
              0.0,
              "#0d0887"
             ],
             [
              0.1111111111111111,
              "#46039f"
             ],
             [
              0.2222222222222222,
              "#7201a8"
             ],
             [
              0.3333333333333333,
              "#9c179e"
             ],
             [
              0.4444444444444444,
              "#bd3786"
             ],
             [
              0.5555555555555556,
              "#d8576b"
             ],
             [
              0.6666666666666666,
              "#ed7953"
             ],
             [
              0.7777777777777778,
              "#fb9f3a"
             ],
             [
              0.8888888888888888,
              "#fdca26"
             ],
             [
              1.0,
              "#f0f921"
             ]
            ]
           }
          ],
          "heatmap": [
           {
            "type": "heatmap",
            "colorbar": {
             "outlinewidth": 0,
             "ticks": ""
            },
            "colorscale": [
             [
              0.0,
              "#0d0887"
             ],
             [
              0.1111111111111111,
              "#46039f"
             ],
             [
              0.2222222222222222,
              "#7201a8"
             ],
             [
              0.3333333333333333,
              "#9c179e"
             ],
             [
              0.4444444444444444,
              "#bd3786"
             ],
             [
              0.5555555555555556,
              "#d8576b"
             ],
             [
              0.6666666666666666,
              "#ed7953"
             ],
             [
              0.7777777777777778,
              "#fb9f3a"
             ],
             [
              0.8888888888888888,
              "#fdca26"
             ],
             [
              1.0,
              "#f0f921"
             ]
            ]
           }
          ],
          "heatmapgl": [
           {
            "type": "heatmapgl",
            "colorbar": {
             "outlinewidth": 0,
             "ticks": ""
            },
            "colorscale": [
             [
              0.0,
              "#0d0887"
             ],
             [
              0.1111111111111111,
              "#46039f"
             ],
             [
              0.2222222222222222,
              "#7201a8"
             ],
             [
              0.3333333333333333,
              "#9c179e"
             ],
             [
              0.4444444444444444,
              "#bd3786"
             ],
             [
              0.5555555555555556,
              "#d8576b"
             ],
             [
              0.6666666666666666,
              "#ed7953"
             ],
             [
              0.7777777777777778,
              "#fb9f3a"
             ],
             [
              0.8888888888888888,
              "#fdca26"
             ],
             [
              1.0,
              "#f0f921"
             ]
            ]
           }
          ],
          "contourcarpet": [
           {
            "type": "contourcarpet",
            "colorbar": {
             "outlinewidth": 0,
             "ticks": ""
            }
           }
          ],
          "contour": [
           {
            "type": "contour",
            "colorbar": {
             "outlinewidth": 0,
             "ticks": ""
            },
            "colorscale": [
             [
              0.0,
              "#0d0887"
             ],
             [
              0.1111111111111111,
              "#46039f"
             ],
             [
              0.2222222222222222,
              "#7201a8"
             ],
             [
              0.3333333333333333,
              "#9c179e"
             ],
             [
              0.4444444444444444,
              "#bd3786"
             ],
             [
              0.5555555555555556,
              "#d8576b"
             ],
             [
              0.6666666666666666,
              "#ed7953"
             ],
             [
              0.7777777777777778,
              "#fb9f3a"
             ],
             [
              0.8888888888888888,
              "#fdca26"
             ],
             [
              1.0,
              "#f0f921"
             ]
            ]
           }
          ],
          "surface": [
           {
            "type": "surface",
            "colorbar": {
             "outlinewidth": 0,
             "ticks": ""
            },
            "colorscale": [
             [
              0.0,
              "#0d0887"
             ],
             [
              0.1111111111111111,
              "#46039f"
             ],
             [
              0.2222222222222222,
              "#7201a8"
             ],
             [
              0.3333333333333333,
              "#9c179e"
             ],
             [
              0.4444444444444444,
              "#bd3786"
             ],
             [
              0.5555555555555556,
              "#d8576b"
             ],
             [
              0.6666666666666666,
              "#ed7953"
             ],
             [
              0.7777777777777778,
              "#fb9f3a"
             ],
             [
              0.8888888888888888,
              "#fdca26"
             ],
             [
              1.0,
              "#f0f921"
             ]
            ]
           }
          ],
          "mesh3d": [
           {
            "type": "mesh3d",
            "colorbar": {
             "outlinewidth": 0,
             "ticks": ""
            }
           }
          ],
          "scatter": [
           {
            "marker": {
             "line": {
              "color": "#283442"
             }
            },
            "type": "scatter"
           }
          ],
          "parcoords": [
           {
            "type": "parcoords",
            "line": {
             "colorbar": {
              "outlinewidth": 0,
              "ticks": ""
             }
            }
           }
          ],
          "scatterpolargl": [
           {
            "type": "scatterpolargl",
            "marker": {
             "colorbar": {
              "outlinewidth": 0,
              "ticks": ""
             }
            }
           }
          ],
          "bar": [
           {
            "error_x": {
             "color": "#f2f5fa"
            },
            "error_y": {
             "color": "#f2f5fa"
            },
            "marker": {
             "line": {
              "color": "rgb(17,17,17)",
              "width": 0.5
             },
             "pattern": {
              "fillmode": "overlay",
              "size": 10,
              "solidity": 0.2
             }
            },
            "type": "bar"
           }
          ],
          "scattergeo": [
           {
            "type": "scattergeo",
            "marker": {
             "colorbar": {
              "outlinewidth": 0,
              "ticks": ""
             }
            }
           }
          ],
          "scatterpolar": [
           {
            "type": "scatterpolar",
            "marker": {
             "colorbar": {
              "outlinewidth": 0,
              "ticks": ""
             }
            }
           }
          ],
          "histogram": [
           {
            "marker": {
             "pattern": {
              "fillmode": "overlay",
              "size": 10,
              "solidity": 0.2
             }
            },
            "type": "histogram"
           }
          ],
          "scattergl": [
           {
            "marker": {
             "line": {
              "color": "#283442"
             }
            },
            "type": "scattergl"
           }
          ],
          "scatter3d": [
           {
            "type": "scatter3d",
            "line": {
             "colorbar": {
              "outlinewidth": 0,
              "ticks": ""
             }
            },
            "marker": {
             "colorbar": {
              "outlinewidth": 0,
              "ticks": ""
             }
            }
           }
          ],
          "scattermapbox": [
           {
            "type": "scattermapbox",
            "marker": {
             "colorbar": {
              "outlinewidth": 0,
              "ticks": ""
             }
            }
           }
          ],
          "scatterternary": [
           {
            "type": "scatterternary",
            "marker": {
             "colorbar": {
              "outlinewidth": 0,
              "ticks": ""
             }
            }
           }
          ],
          "scattercarpet": [
           {
            "type": "scattercarpet",
            "marker": {
             "colorbar": {
              "outlinewidth": 0,
              "ticks": ""
             }
            }
           }
          ],
          "carpet": [
           {
            "aaxis": {
             "endlinecolor": "#A2B1C6",
             "gridcolor": "#506784",
             "linecolor": "#506784",
             "minorgridcolor": "#506784",
             "startlinecolor": "#A2B1C6"
            },
            "baxis": {
             "endlinecolor": "#A2B1C6",
             "gridcolor": "#506784",
             "linecolor": "#506784",
             "minorgridcolor": "#506784",
             "startlinecolor": "#A2B1C6"
            },
            "type": "carpet"
           }
          ],
          "table": [
           {
            "cells": {
             "fill": {
              "color": "#506784"
             },
             "line": {
              "color": "rgb(17,17,17)"
             }
            },
            "header": {
             "fill": {
              "color": "#2a3f5f"
             },
             "line": {
              "color": "rgb(17,17,17)"
             }
            },
            "type": "table"
           }
          ],
          "barpolar": [
           {
            "marker": {
             "line": {
              "color": "rgb(17,17,17)",
              "width": 0.5
             },
             "pattern": {
              "fillmode": "overlay",
              "size": 10,
              "solidity": 0.2
             }
            },
            "type": "barpolar"
           }
          ],
          "pie": [
           {
            "automargin": true,
            "type": "pie"
           }
          ]
         },
         "layout": {
          "autotypenumbers": "strict",
          "colorway": [
           "#636efa",
           "#EF553B",
           "#00cc96",
           "#ab63fa",
           "#FFA15A",
           "#19d3f3",
           "#FF6692",
           "#B6E880",
           "#FF97FF",
           "#FECB52"
          ],
          "font": {
           "color": "#f2f5fa"
          },
          "hovermode": "closest",
          "hoverlabel": {
           "align": "left"
          },
          "paper_bgcolor": "rgb(17,17,17)",
          "plot_bgcolor": "rgb(17,17,17)",
          "polar": {
           "bgcolor": "rgb(17,17,17)",
           "angularaxis": {
            "gridcolor": "#506784",
            "linecolor": "#506784",
            "ticks": ""
           },
           "radialaxis": {
            "gridcolor": "#506784",
            "linecolor": "#506784",
            "ticks": ""
           }
          },
          "ternary": {
           "bgcolor": "rgb(17,17,17)",
           "aaxis": {
            "gridcolor": "#506784",
            "linecolor": "#506784",
            "ticks": ""
           },
           "baxis": {
            "gridcolor": "#506784",
            "linecolor": "#506784",
            "ticks": ""
           },
           "caxis": {
            "gridcolor": "#506784",
            "linecolor": "#506784",
            "ticks": ""
           }
          },
          "coloraxis": {
           "colorbar": {
            "outlinewidth": 0,
            "ticks": ""
           }
          },
          "colorscale": {
           "sequential": [
            [
             0.0,
             "#0d0887"
            ],
            [
             0.1111111111111111,
             "#46039f"
            ],
            [
             0.2222222222222222,
             "#7201a8"
            ],
            [
             0.3333333333333333,
             "#9c179e"
            ],
            [
             0.4444444444444444,
             "#bd3786"
            ],
            [
             0.5555555555555556,
             "#d8576b"
            ],
            [
             0.6666666666666666,
             "#ed7953"
            ],
            [
             0.7777777777777778,
             "#fb9f3a"
            ],
            [
             0.8888888888888888,
             "#fdca26"
            ],
            [
             1.0,
             "#f0f921"
            ]
           ],
           "sequentialminus": [
            [
             0.0,
             "#0d0887"
            ],
            [
             0.1111111111111111,
             "#46039f"
            ],
            [
             0.2222222222222222,
             "#7201a8"
            ],
            [
             0.3333333333333333,
             "#9c179e"
            ],
            [
             0.4444444444444444,
             "#bd3786"
            ],
            [
             0.5555555555555556,
             "#d8576b"
            ],
            [
             0.6666666666666666,
             "#ed7953"
            ],
            [
             0.7777777777777778,
             "#fb9f3a"
            ],
            [
             0.8888888888888888,
             "#fdca26"
            ],
            [
             1.0,
             "#f0f921"
            ]
           ],
           "diverging": [
            [
             0,
             "#8e0152"
            ],
            [
             0.1,
             "#c51b7d"
            ],
            [
             0.2,
             "#de77ae"
            ],
            [
             0.3,
             "#f1b6da"
            ],
            [
             0.4,
             "#fde0ef"
            ],
            [
             0.5,
             "#f7f7f7"
            ],
            [
             0.6,
             "#e6f5d0"
            ],
            [
             0.7,
             "#b8e186"
            ],
            [
             0.8,
             "#7fbc41"
            ],
            [
             0.9,
             "#4d9221"
            ],
            [
             1,
             "#276419"
            ]
           ]
          },
          "xaxis": {
           "gridcolor": "#283442",
           "linecolor": "#506784",
           "ticks": "",
           "title": {
            "standoff": 15
           },
           "zerolinecolor": "#283442",
           "automargin": true,
           "zerolinewidth": 2
          },
          "yaxis": {
           "gridcolor": "#283442",
           "linecolor": "#506784",
           "ticks": "",
           "title": {
            "standoff": 15
           },
           "zerolinecolor": "#283442",
           "automargin": true,
           "zerolinewidth": 2
          },
          "scene": {
           "xaxis": {
            "backgroundcolor": "rgb(17,17,17)",
            "gridcolor": "#506784",
            "linecolor": "#506784",
            "showbackground": true,
            "ticks": "",
            "zerolinecolor": "#C8D4E3",
            "gridwidth": 2
           },
           "yaxis": {
            "backgroundcolor": "rgb(17,17,17)",
            "gridcolor": "#506784",
            "linecolor": "#506784",
            "showbackground": true,
            "ticks": "",
            "zerolinecolor": "#C8D4E3",
            "gridwidth": 2
           },
           "zaxis": {
            "backgroundcolor": "rgb(17,17,17)",
            "gridcolor": "#506784",
            "linecolor": "#506784",
            "showbackground": true,
            "ticks": "",
            "zerolinecolor": "#C8D4E3",
            "gridwidth": 2
           }
          },
          "shapedefaults": {
           "line": {
            "color": "#f2f5fa"
           }
          },
          "annotationdefaults": {
           "arrowcolor": "#f2f5fa",
           "arrowhead": 0,
           "arrowwidth": 1
          },
          "geo": {
           "bgcolor": "rgb(17,17,17)",
           "landcolor": "rgb(17,17,17)",
           "subunitcolor": "#506784",
           "showland": true,
           "showlakes": true,
           "lakecolor": "rgb(17,17,17)"
          },
          "title": {
           "x": 0.05
          },
          "updatemenudefaults": {
           "bgcolor": "#506784",
           "borderwidth": 0
          },
          "sliderdefaults": {
           "bgcolor": "#C8D4E3",
           "borderwidth": 1,
           "bordercolor": "rgb(17,17,17)",
           "tickwidth": 0
          },
          "mapbox": {
           "style": "dark"
          }
         }
        },
        "title": {
         "text": "Figure 11: Abalation Study (DistServe and vLLM)"
        },
        "xaxis": {
         "title": {
          "text": "Per-GPU Rate (tokens/s)"
         }
        },
        "yaxis": {
         "title": {
          "text": "Attainment (%)"
         }
        },
        "legend": {
         "title": {
          "text": "Configuration"
         }
        }
       },
       "config": {
        "plotlyServerURL": "https://plot.ly"
       }
      },
      "text/html": "<div>                            <div id=\"e868b708-39d1-4e74-97c7-37fde7af897a\" class=\"plotly-graph-div\" style=\"height:525px; width:100%;\"></div>            <script type=\"text/javascript\">                require([\"plotly\"], function(Plotly) {                    window.PLOTLYENV=window.PLOTLYENV || {};                                    if (document.getElementById(\"e868b708-39d1-4e74-97c7-37fde7af897a\")) {                    Plotly.newPlot(                        \"e868b708-39d1-4e74-97c7-37fde7af897a\",                        [{\"mode\":\"lines+markers\",\"name\":\"p1111-distserve\",\"x\":[1.0,2.0,3.0,4.0,5.0],\"y\":[91.6,80.5,68.30000000000001,23.5,10.3],\"type\":\"scatter\"},{\"mode\":\"lines+markers\",\"name\":\"p1112-distserve\",\"x\":[1.0,2.0,3.0,4.0,5.0],\"y\":[87.0,68.60000000000001,42.0,10.0,1.2],\"type\":\"scatter\"},{\"mode\":\"lines+markers\",\"name\":\"p1114-distserve\",\"x\":[1.0,2.0,3.0,4.0,5.0],\"y\":[74.1,31.9,1.2,0.1,0.1],\"type\":\"scatter\"},{\"mode\":\"lines+markers\",\"name\":\"p1118-distserve\",\"x\":[1.0,2.0,3.0,4.0,5.0],\"y\":[6.3,0.3,0.1,0.1,0.1],\"type\":\"scatter\"},{\"mode\":\"lines+markers\",\"name\":\"p1121-distserve\",\"x\":[1.0,2.0,3.0,4.0,5.0],\"y\":[87.0,68.30000000000001,15.8,2.5,1.2],\"type\":\"scatter\"},{\"mode\":\"lines+markers\",\"name\":\"p1122-distserve\",\"x\":[1.0,2.0,3.0,4.0,5.0],\"y\":[74.1,31.9,1.2,0.1,0.1],\"type\":\"scatter\"},{\"mode\":\"lines+markers\",\"name\":\"p1124-distserve\",\"x\":[1.0,2.0,3.0,4.0,5.0],\"y\":[42.0,0.3,0.1,0.1,0.1],\"type\":\"scatter\"},{\"mode\":\"lines+markers\",\"name\":\"p1128-distserve\",\"x\":[1.0,2.0,3.0,4.0,5.0],\"y\":[0.5,0.1,0.1,0.1,0.1],\"type\":\"scatter\"},{\"mode\":\"lines+markers\",\"name\":\"p1141-distserve\",\"x\":[1.0,2.0,3.0,4.0,5.0],\"y\":[74.1,10.3,1.2,0.1,0.1],\"type\":\"scatter\"},{\"mode\":\"lines+markers\",\"name\":\"p1142-distserve\",\"x\":[1.0,2.0,3.0,4.0,5.0],\"y\":[42.0,0.3,0.1,0.1,0.1],\"type\":\"scatter\"},{\"mode\":\"lines+markers\",\"name\":\"p1144-distserve\",\"x\":[1.0,2.0,3.0,4.0,5.0],\"y\":[0.5,0.1,0.1,0.1,0.1],\"type\":\"scatter\"},{\"mode\":\"lines+markers\",\"name\":\"p1181-distserve\",\"x\":[1.0,2.0,3.0,4.0,5.0],\"y\":[15.8,0.3,0.1,0.1,0.1],\"type\":\"scatter\"},{\"mode\":\"lines+markers\",\"name\":\"p1182-distserve\",\"x\":[1.0,2.0,3.0,4.0,5.0],\"y\":[0.5,0.1,0.1,0.1,0.1],\"type\":\"scatter\"},{\"mode\":\"lines+markers\",\"name\":\"p1211-distserve\",\"x\":[1.0,2.0,3.0,4.0,5.0],\"y\":[92.9,86.2,30.0,15.2,9.7],\"type\":\"scatter\"},{\"mode\":\"lines+markers\",\"name\":\"p1212-distserve\",\"x\":[1.0,2.0,3.0,4.0,5.0],\"y\":[92.3,81.10000000000001,61.9,29.5,7.399999999999999],\"type\":\"scatter\"},{\"mode\":\"lines+markers\",\"name\":\"p1214-distserve\",\"x\":[1.0,2.0,3.0,4.0,5.0],\"y\":[87.1,66.0,31.3,1.7000000000000002,0.8],\"type\":\"scatter\"},{\"mode\":\"lines+markers\",\"name\":\"p1218-distserve\",\"x\":[1.0,2.0,3.0,4.0,5.0],\"y\":[9.2,1.3,0.6,0.1,0.1],\"type\":\"scatter\"},{\"mode\":\"lines+markers\",\"name\":\"p1221-distserve\",\"x\":[1.0,2.0,3.0,4.0,5.0],\"y\":[92.3,39.0,15.2,8.200000000000001,2.8000000000000003],\"type\":\"scatter\"},{\"mode\":\"lines+markers\",\"name\":\"p1222-distserve\",\"x\":[1.0,2.0,3.0,4.0,5.0],\"y\":[87.1,61.9,16.8,1.7000000000000002,0.8],\"type\":\"scatter\"},{\"mode\":\"lines+markers\",\"name\":\"p1224-distserve\",\"x\":[1.0,2.0,3.0,4.0,5.0],\"y\":[73.2,16.5,0.8,0.1,0.1],\"type\":\"scatter\"},{\"mode\":\"lines+markers\",\"name\":\"p1228-distserve\",\"x\":[1.0,2.0,3.0,4.0,5.0],\"y\":[3.0,0.1,0.1,0.1,0.1],\"type\":\"scatter\"},{\"mode\":\"lines+markers\",\"name\":\"p1241-distserve\",\"x\":[1.0,2.0,3.0,4.0,5.0],\"y\":[86.2,15.2,5.3,1.6,0.7000000000000001],\"type\":\"scatter\"},{\"mode\":\"lines+markers\",\"name\":\"p1242-distserve\",\"x\":[1.0,2.0,3.0,4.0,5.0],\"y\":[73.2,7.399999999999999,0.8,0.1,0.1],\"type\":\"scatter\"},{\"mode\":\"lines+markers\",\"name\":\"p1244-distserve\",\"x\":[1.0,2.0,3.0,4.0,5.0],\"y\":[31.3,0.1,0.1,0.1,0.1],\"type\":\"scatter\"},{\"mode\":\"lines+markers\",\"name\":\"p1281-distserve\",\"x\":[1.0,2.0,3.0,4.0,5.0],\"y\":[22.6,2.8000000000000003,0.7000000000000001,0.1,0.1],\"type\":\"scatter\"},{\"mode\":\"lines+markers\",\"name\":\"p1282-distserve\",\"x\":[1.0,2.0,3.0,4.0,5.0],\"y\":[16.8,0.1,0.1,0.1,0.1],\"type\":\"scatter\"},{\"mode\":\"lines+markers\",\"name\":\"p1411-distserve\",\"x\":[1.0,2.0,3.0,4.0,5.0],\"y\":[90.1,27.0,15.1,9.6,6.4],\"type\":\"scatter\"},{\"mode\":\"lines+markers\",\"name\":\"p1412-distserve\",\"x\":[1.0,2.0,3.0,4.0,5.0],\"y\":[89.7,75.0,36.6,19.8,8.5],\"type\":\"scatter\"},{\"mode\":\"lines+markers\",\"name\":\"p1414-distserve\",\"x\":[1.0,2.0,3.0,4.0,5.0],\"y\":[86.7,72.1,48.6,16.3,1.9],\"type\":\"scatter\"},{\"mode\":\"lines+markers\",\"name\":\"p1418-distserve\",\"x\":[1.0,2.0,3.0,4.0,5.0],\"y\":[8.9,3.8,1.0,0.7000000000000001,0.1],\"type\":\"scatter\"},{\"mode\":\"lines+markers\",\"name\":\"p1421-distserve\",\"x\":[1.0,2.0,3.0,4.0,5.0],\"y\":[89.5,19.6,12.1,7.1,3.5000000000000004],\"type\":\"scatter\"},{\"mode\":\"lines+markers\",\"name\":\"p1422-distserve\",\"x\":[1.0,2.0,3.0,4.0,5.0],\"y\":[86.7,44.3,19.8,5.2,1.5],\"type\":\"scatter\"},{\"mode\":\"lines+markers\",\"name\":\"p1424-distserve\",\"x\":[1.0,2.0,3.0,4.0,5.0],\"y\":[81.39999999999999,48.6,5.2,1.0,0.1],\"type\":\"scatter\"},{\"mode\":\"lines+markers\",\"name\":\"p1428-distserve\",\"x\":[1.0,2.0,3.0,4.0,5.0],\"y\":[4.8,0.8999999999999999,0.1,0.1,0.1],\"type\":\"scatter\"},{\"mode\":\"lines+markers\",\"name\":\"p1441-distserve\",\"x\":[1.0,2.0,3.0,4.0,5.0],\"y\":[41.5,14.2,7.1,2.5,1.3],\"type\":\"scatter\"},{\"mode\":\"lines+markers\",\"name\":\"p1442-distserve\",\"x\":[1.0,2.0,3.0,4.0,5.0],\"y\":[75.0,19.8,2.3,1.0,0.1],\"type\":\"scatter\"},{\"mode\":\"lines+markers\",\"name\":\"p1444-distserve\",\"x\":[1.0,2.0,3.0,4.0,5.0],\"y\":[61.1,1.9,0.1,0.1,0.1],\"type\":\"scatter\"},{\"mode\":\"lines+markers\",\"name\":\"p1481-distserve\",\"x\":[1.0,2.0,3.0,4.0,5.0],\"y\":[19.6,7.1,1.5,0.8,0.1],\"type\":\"scatter\"},{\"mode\":\"lines+markers\",\"name\":\"p1482-distserve\",\"x\":[1.0,2.0,3.0,4.0,5.0],\"y\":[28.9,1.5,0.1,0.1,0.1],\"type\":\"scatter\"},{\"mode\":\"lines+markers\",\"name\":\"p1811-distserve\",\"x\":[1.0,2.0,3.0,4.0,5.0],\"y\":[25.6,8.6,3.8,2.0,0.6],\"type\":\"scatter\"},{\"mode\":\"lines+markers\",\"name\":\"p1812-distserve\",\"x\":[1.0,2.0,3.0,4.0,5.0],\"y\":[65.10000000000001,21.9,9.4,2.6,0.6],\"type\":\"scatter\"},{\"mode\":\"lines+markers\",\"name\":\"p1814-distserve\",\"x\":[1.0,2.0,3.0,4.0,5.0],\"y\":[61.3,38.8,14.000000000000002,2.8000000000000003,0.1],\"type\":\"scatter\"},{\"mode\":\"lines+markers\",\"name\":\"p1818-distserve\",\"x\":[1.0,2.0,3.0,4.0,5.0],\"y\":[4.3,1.0,0.4,0.1,0.1],\"type\":\"scatter\"},{\"mode\":\"lines+markers\",\"name\":\"p1821-distserve\",\"x\":[1.0,2.0,3.0,4.0,5.0],\"y\":[20.200000000000003,7.5,2.9000000000000004,1.0,0.4],\"type\":\"scatter\"},{\"mode\":\"lines+markers\",\"name\":\"p1822-distserve\",\"x\":[1.0,2.0,3.0,4.0,5.0],\"y\":[59.0,15.5,5.1,0.8,0.1],\"type\":\"scatter\"},{\"mode\":\"lines+markers\",\"name\":\"p1824-distserve\",\"x\":[1.0,2.0,3.0,4.0,5.0],\"y\":[54.900000000000006,20.9,2.8000000000000003,0.1,0.1],\"type\":\"scatter\"},{\"mode\":\"lines+markers\",\"name\":\"p1828-distserve\",\"x\":[1.0,2.0,3.0,4.0,5.0],\"y\":[2.1,0.4,0.1,0.1,0.1],\"type\":\"scatter\"},{\"mode\":\"lines+markers\",\"name\":\"p1841-distserve\",\"x\":[1.0,2.0,3.0,4.0,5.0],\"y\":[14.6,4.8,2.0,0.4,0.1],\"type\":\"scatter\"},{\"mode\":\"lines+markers\",\"name\":\"p1842-distserve\",\"x\":[1.0,2.0,3.0,4.0,5.0],\"y\":[36.9,6.800000000000001,0.8,0.1,0.1],\"type\":\"scatter\"},{\"mode\":\"lines+markers\",\"name\":\"p1844-distserve\",\"x\":[1.0,2.0,3.0,4.0,5.0],\"y\":[38.8,2.8000000000000003,0.1,0.1,0.1],\"type\":\"scatter\"},{\"mode\":\"lines+markers\",\"name\":\"p1881-distserve\",\"x\":[1.0,2.0,3.0,4.0,5.0],\"y\":[10.4,2.5,0.4,0.1,0.1],\"type\":\"scatter\"},{\"mode\":\"lines+markers\",\"name\":\"p1882-distserve\",\"x\":[1.0,2.0,3.0,4.0,5.0],\"y\":[15.5,0.8,0.1,0.1,0.1],\"type\":\"scatter\"},{\"mode\":\"lines+markers\",\"name\":\"p2111-distserve\",\"x\":[1.0,2.0,3.0,4.0,5.0],\"y\":[98.5,93.2,84.2,69.0,43.7],\"type\":\"scatter\"},{\"mode\":\"lines+markers\",\"name\":\"p2112-distserve\",\"x\":[1.0,2.0,3.0,4.0,5.0],\"y\":[97.5,87.5,69.0,39.6,4.2],\"type\":\"scatter\"},{\"mode\":\"lines+markers\",\"name\":\"p2114-distserve\",\"x\":[1.0,2.0,3.0,4.0,5.0],\"y\":[93.2,69.0,20.9,1.3,0.3],\"type\":\"scatter\"},{\"mode\":\"lines+markers\",\"name\":\"p2118-distserve\",\"x\":[1.0,2.0,3.0,4.0,5.0],\"y\":[80.0,3.8,0.3,0.1,0.1],\"type\":\"scatter\"},{\"mode\":\"lines+markers\",\"name\":\"p2121-distserve\",\"x\":[1.0,2.0,3.0,4.0,5.0],\"y\":[97.5,87.5,69.0,32.9,3.2],\"type\":\"scatter\"},{\"mode\":\"lines+markers\",\"name\":\"p2122-distserve\",\"x\":[1.0,2.0,3.0,4.0,5.0],\"y\":[93.2,69.0,20.9,1.3,0.3],\"type\":\"scatter\"},{\"mode\":\"lines+markers\",\"name\":\"p2124-distserve\",\"x\":[1.0,2.0,3.0,4.0,5.0],\"y\":[80.0,4.2,0.3,0.1,0.1],\"type\":\"scatter\"},{\"mode\":\"lines+markers\",\"name\":\"p2128-distserve\",\"x\":[1.0,2.0,3.0,4.0,5.0],\"y\":[16.8,0.2,0.1,0.1,0.1],\"type\":\"scatter\"},{\"mode\":\"lines+markers\",\"name\":\"p2141-distserve\",\"x\":[1.0,2.0,3.0,4.0,5.0],\"y\":[93.2,69.0,14.6,1.3,0.3],\"type\":\"scatter\"},{\"mode\":\"lines+markers\",\"name\":\"p2142-distserve\",\"x\":[1.0,2.0,3.0,4.0,5.0],\"y\":[80.0,4.2,0.3,0.1,0.1],\"type\":\"scatter\"},{\"mode\":\"lines+markers\",\"name\":\"p2144-distserve\",\"x\":[1.0,2.0,3.0,4.0,5.0],\"y\":[20.9,0.2,0.1,0.1,0.1],\"type\":\"scatter\"},{\"mode\":\"lines+markers\",\"name\":\"p2181-distserve\",\"x\":[1.0,2.0,3.0,4.0,5.0],\"y\":[80.0,3.2,0.3,0.1,0.1],\"type\":\"scatter\"},{\"mode\":\"lines+markers\",\"name\":\"p2182-distserve\",\"x\":[1.0,2.0,3.0,4.0,5.0],\"y\":[20.9,0.2,0.1,0.1,0.1],\"type\":\"scatter\"},{\"mode\":\"lines+markers\",\"name\":\"p2211-distserve\",\"x\":[1.0,2.0,3.0,4.0,5.0],\"y\":[100.0,98.2,83.2,49.2,28.8],\"type\":\"scatter\"},{\"mode\":\"lines+markers\",\"name\":\"p2212-distserve\",\"x\":[1.0,2.0,3.0,4.0,5.0],\"y\":[99.7,96.4,86.2,64.3,36.8],\"type\":\"scatter\"},{\"mode\":\"lines+markers\",\"name\":\"p2214-distserve\",\"x\":[1.0,2.0,3.0,4.0,5.0],\"y\":[99.2,89.2,64.3,26.4,2.8000000000000003],\"type\":\"scatter\"},{\"mode\":\"lines+markers\",\"name\":\"p2218-distserve\",\"x\":[1.0,2.0,3.0,4.0,5.0],\"y\":[96.4,42.6,3.7,1.3,0.1],\"type\":\"scatter\"},{\"mode\":\"lines+markers\",\"name\":\"p2221-distserve\",\"x\":[1.0,2.0,3.0,4.0,5.0],\"y\":[99.7,96.2,58.9,31.5,13.6],\"type\":\"scatter\"},{\"mode\":\"lines+markers\",\"name\":\"p2222-distserve\",\"x\":[1.0,2.0,3.0,4.0,5.0],\"y\":[99.2,89.2,64.3,26.4,2.8000000000000003],\"type\":\"scatter\"},{\"mode\":\"lines+markers\",\"name\":\"p2224-distserve\",\"x\":[1.0,2.0,3.0,4.0,5.0],\"y\":[96.4,64.3,4.5,1.3,0.1],\"type\":\"scatter\"},{\"mode\":\"lines+markers\",\"name\":\"p2228-distserve\",\"x\":[1.0,2.0,3.0,4.0,5.0],\"y\":[62.3,2.8000000000000003,0.1,0.1,0.1],\"type\":\"scatter\"},{\"mode\":\"lines+markers\",\"name\":\"p2241-distserve\",\"x\":[1.0,2.0,3.0,4.0,5.0],\"y\":[99.2,73.4,31.5,9.5,2.8000000000000003],\"type\":\"scatter\"},{\"mode\":\"lines+markers\",\"name\":\"p2242-distserve\",\"x\":[1.0,2.0,3.0,4.0,5.0],\"y\":[96.4,64.3,4.5,1.3,0.1],\"type\":\"scatter\"},{\"mode\":\"lines+markers\",\"name\":\"p2244-distserve\",\"x\":[1.0,2.0,3.0,4.0,5.0],\"y\":[80.9,2.8000000000000003,0.1,0.1,0.1],\"type\":\"scatter\"},{\"mode\":\"lines+markers\",\"name\":\"p2281-distserve\",\"x\":[1.0,2.0,3.0,4.0,5.0],\"y\":[96.2,31.5,3.6,1.3,0.1],\"type\":\"scatter\"},{\"mode\":\"lines+markers\",\"name\":\"p2282-distserve\",\"x\":[1.0,2.0,3.0,4.0,5.0],\"y\":[80.9,2.8000000000000003,0.1,0.1,0.1],\"type\":\"scatter\"},{\"mode\":\"lines+markers\",\"name\":\"p2411-distserve\",\"x\":[1.0,2.0,3.0,4.0,5.0],\"y\":[100.0,68.0,39.0,24.8,12.2],\"type\":\"scatter\"},{\"mode\":\"lines+markers\",\"name\":\"p2412-distserve\",\"x\":[1.0,2.0,3.0,4.0,5.0],\"y\":[99.7,96.7,83.7,63.0,30.3],\"type\":\"scatter\"},{\"mode\":\"lines+markers\",\"name\":\"p2414-distserve\",\"x\":[1.0,2.0,3.0,4.0,5.0],\"y\":[99.3,92.2,73.5,37.2,5.1],\"type\":\"scatter\"},{\"mode\":\"lines+markers\",\"name\":\"p2418-distserve\",\"x\":[1.0,2.0,3.0,4.0,5.0],\"y\":[90.7,40.8,12.8,2.5,0.5],\"type\":\"scatter\"},{\"mode\":\"lines+markers\",\"name\":\"p2421-distserve\",\"x\":[1.0,2.0,3.0,4.0,5.0],\"y\":[99.7,59.6,32.300000000000004,20.0,8.1],\"type\":\"scatter\"},{\"mode\":\"lines+markers\",\"name\":\"p2422-distserve\",\"x\":[1.0,2.0,3.0,4.0,5.0],\"y\":[99.3,92.2,73.4,35.0,5.0],\"type\":\"scatter\"},{\"mode\":\"lines+markers\",\"name\":\"p2424-distserve\",\"x\":[1.0,2.0,3.0,4.0,5.0],\"y\":[98.9,80.9,37.2,3.1,0.6],\"type\":\"scatter\"},{\"mode\":\"lines+markers\",\"name\":\"p2428-distserve\",\"x\":[1.0,2.0,3.0,4.0,5.0],\"y\":[60.3,12.8,2.2,0.1,0.1],\"type\":\"scatter\"},{\"mode\":\"lines+markers\",\"name\":\"p2441-distserve\",\"x\":[1.0,2.0,3.0,4.0,5.0],\"y\":[99.2,46.1,24.8,9.1,2.7],\"type\":\"scatter\"},{\"mode\":\"lines+markers\",\"name\":\"p2442-distserve\",\"x\":[1.0,2.0,3.0,4.0,5.0],\"y\":[98.9,80.80000000000001,35.0,3.1,0.6],\"type\":\"scatter\"},{\"mode\":\"lines+markers\",\"name\":\"p2444-distserve\",\"x\":[1.0,2.0,3.0,4.0,5.0],\"y\":[92.2,37.2,2.8000000000000003,0.1,0.1],\"type\":\"scatter\"},{\"mode\":\"lines+markers\",\"name\":\"p2481-distserve\",\"x\":[1.0,2.0,3.0,4.0,5.0],\"y\":[82.1,29.4,9.1,2.5,0.5],\"type\":\"scatter\"},{\"mode\":\"lines+markers\",\"name\":\"p2482-distserve\",\"x\":[1.0,2.0,3.0,4.0,5.0],\"y\":[92.2,35.0,2.8000000000000003,0.1,0.1],\"type\":\"scatter\"},{\"mode\":\"lines+markers\",\"name\":\"p2811-distserve\",\"x\":[1.0,2.0,3.0,4.0,5.0],\"y\":[70.0,26.6,11.4,3.6,1.4],\"type\":\"scatter\"},{\"mode\":\"lines+markers\",\"name\":\"p2812-distserve\",\"x\":[1.0,2.0,3.0,4.0,5.0],\"y\":[90.7,72.6,32.7,5.1,1.5],\"type\":\"scatter\"},{\"mode\":\"lines+markers\",\"name\":\"p2814-distserve\",\"x\":[1.0,2.0,3.0,4.0,5.0],\"y\":[90.0,65.8,20.9,2.2,0.6],\"type\":\"scatter\"},{\"mode\":\"lines+markers\",\"name\":\"p2818-distserve\",\"x\":[1.0,2.0,3.0,4.0,5.0],\"y\":[56.7,18.4,2.3,0.7000000000000001,0.1],\"type\":\"scatter\"},{\"mode\":\"lines+markers\",\"name\":\"p2821-distserve\",\"x\":[1.0,2.0,3.0,4.0,5.0],\"y\":[63.5,23.8,10.4,2.4,1.2],\"type\":\"scatter\"},{\"mode\":\"lines+markers\",\"name\":\"p2822-distserve\",\"x\":[1.0,2.0,3.0,4.0,5.0],\"y\":[90.0,65.60000000000001,19.3,2.2,0.6],\"type\":\"scatter\"},{\"mode\":\"lines+markers\",\"name\":\"p2824-distserve\",\"x\":[1.0,2.0,3.0,4.0,5.0],\"y\":[85.9,49.2,6.4,0.8999999999999999,0.1],\"type\":\"scatter\"},{\"mode\":\"lines+markers\",\"name\":\"p2828-distserve\",\"x\":[1.0,2.0,3.0,4.0,5.0],\"y\":[40.1,5.4,0.7000000000000001,0.1,0.1],\"type\":\"scatter\"},{\"mode\":\"lines+markers\",\"name\":\"p2841-distserve\",\"x\":[1.0,2.0,3.0,4.0,5.0],\"y\":[56.10000000000001,20.7,5.6000000000000005,1.4,0.5],\"type\":\"scatter\"},{\"mode\":\"lines+markers\",\"name\":\"p2842-distserve\",\"x\":[1.0,2.0,3.0,4.0,5.0],\"y\":[85.9,47.2,5.1,0.8999999999999999,0.1],\"type\":\"scatter\"},{\"mode\":\"lines+markers\",\"name\":\"p2844-distserve\",\"x\":[1.0,2.0,3.0,4.0,5.0],\"y\":[78.3,14.3,0.8999999999999999,0.1,0.1],\"type\":\"scatter\"},{\"mode\":\"lines+markers\",\"name\":\"p2881-distserve\",\"x\":[1.0,2.0,3.0,4.0,5.0],\"y\":[42.8,14.2,2.4,0.8,0.1],\"type\":\"scatter\"},{\"mode\":\"lines+markers\",\"name\":\"p2882-distserve\",\"x\":[1.0,2.0,3.0,4.0,5.0],\"y\":[78.3,12.9,0.8999999999999999,0.1,0.1],\"type\":\"scatter\"},{\"mode\":\"lines+markers\",\"name\":\"p4111-distserve\",\"x\":[1.0,2.0,3.0,4.0,5.0],\"y\":[100.0,99.6,96.9,93.0,81.8],\"type\":\"scatter\"},{\"mode\":\"lines+markers\",\"name\":\"p4112-distserve\",\"x\":[1.0,2.0,3.0,4.0,5.0],\"y\":[100.0,99.3,95.7,85.6,60.5],\"type\":\"scatter\"},{\"mode\":\"lines+markers\",\"name\":\"p4114-distserve\",\"x\":[1.0,2.0,3.0,4.0,5.0],\"y\":[99.9,96.6,85.6,48.0,3.9],\"type\":\"scatter\"},{\"mode\":\"lines+markers\",\"name\":\"p4118-distserve\",\"x\":[1.0,2.0,3.0,4.0,5.0],\"y\":[99.3,85.6,13.8,2.7,1.4],\"type\":\"scatter\"},{\"mode\":\"lines+markers\",\"name\":\"p4121-distserve\",\"x\":[1.0,2.0,3.0,4.0,5.0],\"y\":[100.0,99.3,95.7,85.6,60.5],\"type\":\"scatter\"},{\"mode\":\"lines+markers\",\"name\":\"p4122-distserve\",\"x\":[1.0,2.0,3.0,4.0,5.0],\"y\":[99.9,96.6,85.6,48.0,3.9],\"type\":\"scatter\"},{\"mode\":\"lines+markers\",\"name\":\"p4124-distserve\",\"x\":[1.0,2.0,3.0,4.0,5.0],\"y\":[99.3,85.6,13.8,2.7,1.4],\"type\":\"scatter\"},{\"mode\":\"lines+markers\",\"name\":\"p4128-distserve\",\"x\":[1.0,2.0,3.0,4.0,5.0],\"y\":[93.0,3.9,1.4,0.6,0.5],\"type\":\"scatter\"},{\"mode\":\"lines+markers\",\"name\":\"p4141-distserve\",\"x\":[1.0,2.0,3.0,4.0,5.0],\"y\":[99.9,96.6,85.6,47.8,3.9],\"type\":\"scatter\"},{\"mode\":\"lines+markers\",\"name\":\"p4142-distserve\",\"x\":[1.0,2.0,3.0,4.0,5.0],\"y\":[99.3,85.6,13.8,2.7,1.4],\"type\":\"scatter\"},{\"mode\":\"lines+markers\",\"name\":\"p4144-distserve\",\"x\":[1.0,2.0,3.0,4.0,5.0],\"y\":[93.0,3.9,1.4,0.7000000000000001,0.6],\"type\":\"scatter\"},{\"mode\":\"lines+markers\",\"name\":\"p4181-distserve\",\"x\":[1.0,2.0,3.0,4.0,5.0],\"y\":[99.3,85.6,13.8,2.7,1.4],\"type\":\"scatter\"},{\"mode\":\"lines+markers\",\"name\":\"p4182-distserve\",\"x\":[1.0,2.0,3.0,4.0,5.0],\"y\":[93.0,3.9,1.4,0.7000000000000001,0.6],\"type\":\"scatter\"},{\"mode\":\"lines+markers\",\"name\":\"p4211-distserve\",\"x\":[1.0,2.0,3.0,4.0,5.0],\"y\":[100.0,100.0,98.6,95.6,89.1],\"type\":\"scatter\"},{\"mode\":\"lines+markers\",\"name\":\"p4212-distserve\",\"x\":[1.0,2.0,3.0,4.0,5.0],\"y\":[100.0,100.0,98.1,93.5,81.0],\"type\":\"scatter\"},{\"mode\":\"lines+markers\",\"name\":\"p4214-distserve\",\"x\":[1.0,2.0,3.0,4.0,5.0],\"y\":[100.0,99.7,96.1,83.3,46.0],\"type\":\"scatter\"},{\"mode\":\"lines+markers\",\"name\":\"p4218-distserve\",\"x\":[1.0,2.0,3.0,4.0,5.0],\"y\":[100.0,97.6,83.3,25.0,4.2],\"type\":\"scatter\"},{\"mode\":\"lines+markers\",\"name\":\"p4221-distserve\",\"x\":[1.0,2.0,3.0,4.0,5.0],\"y\":[100.0,100.0,98.1,92.9,79.10000000000001],\"type\":\"scatter\"},{\"mode\":\"lines+markers\",\"name\":\"p4222-distserve\",\"x\":[1.0,2.0,3.0,4.0,5.0],\"y\":[100.0,99.7,96.1,83.3,46.0],\"type\":\"scatter\"},{\"mode\":\"lines+markers\",\"name\":\"p4224-distserve\",\"x\":[1.0,2.0,3.0,4.0,5.0],\"y\":[100.0,97.6,83.3,25.0,4.2],\"type\":\"scatter\"},{\"mode\":\"lines+markers\",\"name\":\"p4228-distserve\",\"x\":[1.0,2.0,3.0,4.0,5.0],\"y\":[99.7,83.3,4.3,2.9000000000000004,1.3],\"type\":\"scatter\"},{\"mode\":\"lines+markers\",\"name\":\"p4241-distserve\",\"x\":[1.0,2.0,3.0,4.0,5.0],\"y\":[100.0,99.7,95.6,82.1,42.0],\"type\":\"scatter\"},{\"mode\":\"lines+markers\",\"name\":\"p4242-distserve\",\"x\":[1.0,2.0,3.0,4.0,5.0],\"y\":[100.0,97.6,83.3,25.0,4.2],\"type\":\"scatter\"},{\"mode\":\"lines+markers\",\"name\":\"p4244-distserve\",\"x\":[1.0,2.0,3.0,4.0,5.0],\"y\":[99.7,83.3,4.3,2.9000000000000004,1.4],\"type\":\"scatter\"},{\"mode\":\"lines+markers\",\"name\":\"p4281-distserve\",\"x\":[1.0,2.0,3.0,4.0,5.0],\"y\":[100.0,97.4,82.1,22.7,4.2],\"type\":\"scatter\"},{\"mode\":\"lines+markers\",\"name\":\"p4282-distserve\",\"x\":[1.0,2.0,3.0,4.0,5.0],\"y\":[99.7,83.3,4.3,2.9000000000000004,1.4],\"type\":\"scatter\"},{\"mode\":\"lines+markers\",\"name\":\"p4411-distserve\",\"x\":[1.0,2.0,3.0,4.0,5.0],\"y\":[100.0,99.7,96.6,84.6,64.4],\"type\":\"scatter\"},{\"mode\":\"lines+markers\",\"name\":\"p4412-distserve\",\"x\":[1.0,2.0,3.0,4.0,5.0],\"y\":[100.0,100.0,97.8,92.5,68.5],\"type\":\"scatter\"},{\"mode\":\"lines+markers\",\"name\":\"p4414-distserve\",\"x\":[1.0,2.0,3.0,4.0,5.0],\"y\":[100.0,100.0,96.9,83.8,41.1],\"type\":\"scatter\"},{\"mode\":\"lines+markers\",\"name\":\"p4418-distserve\",\"x\":[1.0,2.0,3.0,4.0,5.0],\"y\":[100.0,98.6,92.5,53.7,4.3],\"type\":\"scatter\"},{\"mode\":\"lines+markers\",\"name\":\"p4421-distserve\",\"x\":[1.0,2.0,3.0,4.0,5.0],\"y\":[100.0,99.6,94.4,81.39999999999999,55.400000000000006],\"type\":\"scatter\"},{\"mode\":\"lines+markers\",\"name\":\"p4422-distserve\",\"x\":[1.0,2.0,3.0,4.0,5.0],\"y\":[100.0,100.0,96.9,83.8,41.1],\"type\":\"scatter\"},{\"mode\":\"lines+markers\",\"name\":\"p4424-distserve\",\"x\":[1.0,2.0,3.0,4.0,5.0],\"y\":[100.0,98.6,92.5,53.7,4.3],\"type\":\"scatter\"},{\"mode\":\"lines+markers\",\"name\":\"p4428-distserve\",\"x\":[1.0,2.0,3.0,4.0,5.0],\"y\":[100.0,95.1,53.7,4.3,3.7],\"type\":\"scatter\"},{\"mode\":\"lines+markers\",\"name\":\"p4441-distserve\",\"x\":[1.0,2.0,3.0,4.0,5.0],\"y\":[100.0,99.6,90.2,70.8,31.4],\"type\":\"scatter\"},{\"mode\":\"lines+markers\",\"name\":\"p4442-distserve\",\"x\":[1.0,2.0,3.0,4.0,5.0],\"y\":[100.0,98.6,92.5,53.7,4.3],\"type\":\"scatter\"},{\"mode\":\"lines+markers\",\"name\":\"p4444-distserve\",\"x\":[1.0,2.0,3.0,4.0,5.0],\"y\":[100.0,95.1,53.7,4.3,3.7],\"type\":\"scatter\"},{\"mode\":\"lines+markers\",\"name\":\"p4481-distserve\",\"x\":[1.0,2.0,3.0,4.0,5.0],\"y\":[100.0,97.2,81.39999999999999,42.3,4.3],\"type\":\"scatter\"},{\"mode\":\"lines+markers\",\"name\":\"p4482-distserve\",\"x\":[1.0,2.0,3.0,4.0,5.0],\"y\":[100.0,95.1,53.7,4.3,3.7],\"type\":\"scatter\"},{\"mode\":\"lines+markers\",\"name\":\"p11-vllm\",\"x\":[1.0,2.0,3.0,4.0,5.0],\"y\":[91.3,86.0,79.3,25.9,9.4],\"type\":\"scatter\"},{\"mode\":\"lines+markers\",\"name\":\"p12-vllm\",\"x\":[1.0,2.0,3.0,4.0,5.0],\"y\":[92.7,86.2,18.3,8.1,3.6],\"type\":\"scatter\"},{\"mode\":\"lines+markers\",\"name\":\"p14-vllm\",\"x\":[1.0,2.0,3.0,4.0,5.0],\"y\":[84.1,9.6,3.1,1.6,0.4],\"type\":\"scatter\"},{\"mode\":\"lines+markers\",\"name\":\"p18-vllm\",\"x\":[1.0,2.0,3.0,4.0,5.0],\"y\":[0.3,0.0,0.0,0.0,0.0],\"type\":\"scatter\"},{\"mode\":\"lines+markers\",\"name\":\"p21-vllm\",\"x\":[1.0,2.0,3.0,4.0,5.0],\"y\":[99.0,95.8,87.2,25.8,11.3],\"type\":\"scatter\"},{\"mode\":\"lines+markers\",\"name\":\"p22-vllm\",\"x\":[1.0,2.0,3.0,4.0,5.0],\"y\":[99.3,96.1,33.7,12.2,4.9],\"type\":\"scatter\"},{\"mode\":\"lines+markers\",\"name\":\"p24-vllm\",\"x\":[1.0,2.0,3.0,4.0,5.0],\"y\":[99.1,25.9,5.0,1.6,0.6],\"type\":\"scatter\"},{\"mode\":\"lines+markers\",\"name\":\"p28-vllm\",\"x\":[1.0,2.0,3.0,4.0,5.0],\"y\":[0.1,0.0,0.0,0.0,0.0],\"type\":\"scatter\"},{\"mode\":\"lines+markers\",\"name\":\"p41-vllm\",\"x\":[1.0,2.0,3.0,4.0,5.0],\"y\":[100.0,99.8,96.5,50.6,24.9],\"type\":\"scatter\"},{\"mode\":\"lines+markers\",\"name\":\"p42-vllm\",\"x\":[1.0,2.0,3.0,4.0,5.0],\"y\":[100.0,99.8,84.7,42.0,22.3],\"type\":\"scatter\"},{\"mode\":\"lines+markers\",\"name\":\"p44-vllm\",\"x\":[1.0,2.0,3.0,4.0,5.0],\"y\":[100.0,81.5,29.2,15.2,10.9],\"type\":\"scatter\"},{\"mode\":\"lines+markers\",\"name\":\"p48-vllm\",\"x\":[1.0,2.0,3.0,4.0,5.0],\"y\":[0.1,0.2,0.1,0.0,0.0],\"type\":\"scatter\"}],                        {\"template\":{\"data\":{\"histogram2dcontour\":[{\"type\":\"histogram2dcontour\",\"colorbar\":{\"outlinewidth\":0,\"ticks\":\"\"},\"colorscale\":[[0.0,\"#0d0887\"],[0.1111111111111111,\"#46039f\"],[0.2222222222222222,\"#7201a8\"],[0.3333333333333333,\"#9c179e\"],[0.4444444444444444,\"#bd3786\"],[0.5555555555555556,\"#d8576b\"],[0.6666666666666666,\"#ed7953\"],[0.7777777777777778,\"#fb9f3a\"],[0.8888888888888888,\"#fdca26\"],[1.0,\"#f0f921\"]]}],\"choropleth\":[{\"type\":\"choropleth\",\"colorbar\":{\"outlinewidth\":0,\"ticks\":\"\"}}],\"histogram2d\":[{\"type\":\"histogram2d\",\"colorbar\":{\"outlinewidth\":0,\"ticks\":\"\"},\"colorscale\":[[0.0,\"#0d0887\"],[0.1111111111111111,\"#46039f\"],[0.2222222222222222,\"#7201a8\"],[0.3333333333333333,\"#9c179e\"],[0.4444444444444444,\"#bd3786\"],[0.5555555555555556,\"#d8576b\"],[0.6666666666666666,\"#ed7953\"],[0.7777777777777778,\"#fb9f3a\"],[0.8888888888888888,\"#fdca26\"],[1.0,\"#f0f921\"]]}],\"heatmap\":[{\"type\":\"heatmap\",\"colorbar\":{\"outlinewidth\":0,\"ticks\":\"\"},\"colorscale\":[[0.0,\"#0d0887\"],[0.1111111111111111,\"#46039f\"],[0.2222222222222222,\"#7201a8\"],[0.3333333333333333,\"#9c179e\"],[0.4444444444444444,\"#bd3786\"],[0.5555555555555556,\"#d8576b\"],[0.6666666666666666,\"#ed7953\"],[0.7777777777777778,\"#fb9f3a\"],[0.8888888888888888,\"#fdca26\"],[1.0,\"#f0f921\"]]}],\"heatmapgl\":[{\"type\":\"heatmapgl\",\"colorbar\":{\"outlinewidth\":0,\"ticks\":\"\"},\"colorscale\":[[0.0,\"#0d0887\"],[0.1111111111111111,\"#46039f\"],[0.2222222222222222,\"#7201a8\"],[0.3333333333333333,\"#9c179e\"],[0.4444444444444444,\"#bd3786\"],[0.5555555555555556,\"#d8576b\"],[0.6666666666666666,\"#ed7953\"],[0.7777777777777778,\"#fb9f3a\"],[0.8888888888888888,\"#fdca26\"],[1.0,\"#f0f921\"]]}],\"contourcarpet\":[{\"type\":\"contourcarpet\",\"colorbar\":{\"outlinewidth\":0,\"ticks\":\"\"}}],\"contour\":[{\"type\":\"contour\",\"colorbar\":{\"outlinewidth\":0,\"ticks\":\"\"},\"colorscale\":[[0.0,\"#0d0887\"],[0.1111111111111111,\"#46039f\"],[0.2222222222222222,\"#7201a8\"],[0.3333333333333333,\"#9c179e\"],[0.4444444444444444,\"#bd3786\"],[0.5555555555555556,\"#d8576b\"],[0.6666666666666666,\"#ed7953\"],[0.7777777777777778,\"#fb9f3a\"],[0.8888888888888888,\"#fdca26\"],[1.0,\"#f0f921\"]]}],\"surface\":[{\"type\":\"surface\",\"colorbar\":{\"outlinewidth\":0,\"ticks\":\"\"},\"colorscale\":[[0.0,\"#0d0887\"],[0.1111111111111111,\"#46039f\"],[0.2222222222222222,\"#7201a8\"],[0.3333333333333333,\"#9c179e\"],[0.4444444444444444,\"#bd3786\"],[0.5555555555555556,\"#d8576b\"],[0.6666666666666666,\"#ed7953\"],[0.7777777777777778,\"#fb9f3a\"],[0.8888888888888888,\"#fdca26\"],[1.0,\"#f0f921\"]]}],\"mesh3d\":[{\"type\":\"mesh3d\",\"colorbar\":{\"outlinewidth\":0,\"ticks\":\"\"}}],\"scatter\":[{\"marker\":{\"line\":{\"color\":\"#283442\"}},\"type\":\"scatter\"}],\"parcoords\":[{\"type\":\"parcoords\",\"line\":{\"colorbar\":{\"outlinewidth\":0,\"ticks\":\"\"}}}],\"scatterpolargl\":[{\"type\":\"scatterpolargl\",\"marker\":{\"colorbar\":{\"outlinewidth\":0,\"ticks\":\"\"}}}],\"bar\":[{\"error_x\":{\"color\":\"#f2f5fa\"},\"error_y\":{\"color\":\"#f2f5fa\"},\"marker\":{\"line\":{\"color\":\"rgb(17,17,17)\",\"width\":0.5},\"pattern\":{\"fillmode\":\"overlay\",\"size\":10,\"solidity\":0.2}},\"type\":\"bar\"}],\"scattergeo\":[{\"type\":\"scattergeo\",\"marker\":{\"colorbar\":{\"outlinewidth\":0,\"ticks\":\"\"}}}],\"scatterpolar\":[{\"type\":\"scatterpolar\",\"marker\":{\"colorbar\":{\"outlinewidth\":0,\"ticks\":\"\"}}}],\"histogram\":[{\"marker\":{\"pattern\":{\"fillmode\":\"overlay\",\"size\":10,\"solidity\":0.2}},\"type\":\"histogram\"}],\"scattergl\":[{\"marker\":{\"line\":{\"color\":\"#283442\"}},\"type\":\"scattergl\"}],\"scatter3d\":[{\"type\":\"scatter3d\",\"line\":{\"colorbar\":{\"outlinewidth\":0,\"ticks\":\"\"}},\"marker\":{\"colorbar\":{\"outlinewidth\":0,\"ticks\":\"\"}}}],\"scattermapbox\":[{\"type\":\"scattermapbox\",\"marker\":{\"colorbar\":{\"outlinewidth\":0,\"ticks\":\"\"}}}],\"scatterternary\":[{\"type\":\"scatterternary\",\"marker\":{\"colorbar\":{\"outlinewidth\":0,\"ticks\":\"\"}}}],\"scattercarpet\":[{\"type\":\"scattercarpet\",\"marker\":{\"colorbar\":{\"outlinewidth\":0,\"ticks\":\"\"}}}],\"carpet\":[{\"aaxis\":{\"endlinecolor\":\"#A2B1C6\",\"gridcolor\":\"#506784\",\"linecolor\":\"#506784\",\"minorgridcolor\":\"#506784\",\"startlinecolor\":\"#A2B1C6\"},\"baxis\":{\"endlinecolor\":\"#A2B1C6\",\"gridcolor\":\"#506784\",\"linecolor\":\"#506784\",\"minorgridcolor\":\"#506784\",\"startlinecolor\":\"#A2B1C6\"},\"type\":\"carpet\"}],\"table\":[{\"cells\":{\"fill\":{\"color\":\"#506784\"},\"line\":{\"color\":\"rgb(17,17,17)\"}},\"header\":{\"fill\":{\"color\":\"#2a3f5f\"},\"line\":{\"color\":\"rgb(17,17,17)\"}},\"type\":\"table\"}],\"barpolar\":[{\"marker\":{\"line\":{\"color\":\"rgb(17,17,17)\",\"width\":0.5},\"pattern\":{\"fillmode\":\"overlay\",\"size\":10,\"solidity\":0.2}},\"type\":\"barpolar\"}],\"pie\":[{\"automargin\":true,\"type\":\"pie\"}]},\"layout\":{\"autotypenumbers\":\"strict\",\"colorway\":[\"#636efa\",\"#EF553B\",\"#00cc96\",\"#ab63fa\",\"#FFA15A\",\"#19d3f3\",\"#FF6692\",\"#B6E880\",\"#FF97FF\",\"#FECB52\"],\"font\":{\"color\":\"#f2f5fa\"},\"hovermode\":\"closest\",\"hoverlabel\":{\"align\":\"left\"},\"paper_bgcolor\":\"rgb(17,17,17)\",\"plot_bgcolor\":\"rgb(17,17,17)\",\"polar\":{\"bgcolor\":\"rgb(17,17,17)\",\"angularaxis\":{\"gridcolor\":\"#506784\",\"linecolor\":\"#506784\",\"ticks\":\"\"},\"radialaxis\":{\"gridcolor\":\"#506784\",\"linecolor\":\"#506784\",\"ticks\":\"\"}},\"ternary\":{\"bgcolor\":\"rgb(17,17,17)\",\"aaxis\":{\"gridcolor\":\"#506784\",\"linecolor\":\"#506784\",\"ticks\":\"\"},\"baxis\":{\"gridcolor\":\"#506784\",\"linecolor\":\"#506784\",\"ticks\":\"\"},\"caxis\":{\"gridcolor\":\"#506784\",\"linecolor\":\"#506784\",\"ticks\":\"\"}},\"coloraxis\":{\"colorbar\":{\"outlinewidth\":0,\"ticks\":\"\"}},\"colorscale\":{\"sequential\":[[0.0,\"#0d0887\"],[0.1111111111111111,\"#46039f\"],[0.2222222222222222,\"#7201a8\"],[0.3333333333333333,\"#9c179e\"],[0.4444444444444444,\"#bd3786\"],[0.5555555555555556,\"#d8576b\"],[0.6666666666666666,\"#ed7953\"],[0.7777777777777778,\"#fb9f3a\"],[0.8888888888888888,\"#fdca26\"],[1.0,\"#f0f921\"]],\"sequentialminus\":[[0.0,\"#0d0887\"],[0.1111111111111111,\"#46039f\"],[0.2222222222222222,\"#7201a8\"],[0.3333333333333333,\"#9c179e\"],[0.4444444444444444,\"#bd3786\"],[0.5555555555555556,\"#d8576b\"],[0.6666666666666666,\"#ed7953\"],[0.7777777777777778,\"#fb9f3a\"],[0.8888888888888888,\"#fdca26\"],[1.0,\"#f0f921\"]],\"diverging\":[[0,\"#8e0152\"],[0.1,\"#c51b7d\"],[0.2,\"#de77ae\"],[0.3,\"#f1b6da\"],[0.4,\"#fde0ef\"],[0.5,\"#f7f7f7\"],[0.6,\"#e6f5d0\"],[0.7,\"#b8e186\"],[0.8,\"#7fbc41\"],[0.9,\"#4d9221\"],[1,\"#276419\"]]},\"xaxis\":{\"gridcolor\":\"#283442\",\"linecolor\":\"#506784\",\"ticks\":\"\",\"title\":{\"standoff\":15},\"zerolinecolor\":\"#283442\",\"automargin\":true,\"zerolinewidth\":2},\"yaxis\":{\"gridcolor\":\"#283442\",\"linecolor\":\"#506784\",\"ticks\":\"\",\"title\":{\"standoff\":15},\"zerolinecolor\":\"#283442\",\"automargin\":true,\"zerolinewidth\":2},\"scene\":{\"xaxis\":{\"backgroundcolor\":\"rgb(17,17,17)\",\"gridcolor\":\"#506784\",\"linecolor\":\"#506784\",\"showbackground\":true,\"ticks\":\"\",\"zerolinecolor\":\"#C8D4E3\",\"gridwidth\":2},\"yaxis\":{\"backgroundcolor\":\"rgb(17,17,17)\",\"gridcolor\":\"#506784\",\"linecolor\":\"#506784\",\"showbackground\":true,\"ticks\":\"\",\"zerolinecolor\":\"#C8D4E3\",\"gridwidth\":2},\"zaxis\":{\"backgroundcolor\":\"rgb(17,17,17)\",\"gridcolor\":\"#506784\",\"linecolor\":\"#506784\",\"showbackground\":true,\"ticks\":\"\",\"zerolinecolor\":\"#C8D4E3\",\"gridwidth\":2}},\"shapedefaults\":{\"line\":{\"color\":\"#f2f5fa\"}},\"annotationdefaults\":{\"arrowcolor\":\"#f2f5fa\",\"arrowhead\":0,\"arrowwidth\":1},\"geo\":{\"bgcolor\":\"rgb(17,17,17)\",\"landcolor\":\"rgb(17,17,17)\",\"subunitcolor\":\"#506784\",\"showland\":true,\"showlakes\":true,\"lakecolor\":\"rgb(17,17,17)\"},\"title\":{\"x\":0.05},\"updatemenudefaults\":{\"bgcolor\":\"#506784\",\"borderwidth\":0},\"sliderdefaults\":{\"bgcolor\":\"#C8D4E3\",\"borderwidth\":1,\"bordercolor\":\"rgb(17,17,17)\",\"tickwidth\":0},\"mapbox\":{\"style\":\"dark\"}}},\"title\":{\"text\":\"Figure 11: Abalation Study (DistServe and vLLM)\"},\"xaxis\":{\"title\":{\"text\":\"Per-GPU Rate (tokens\\u002fs)\"}},\"yaxis\":{\"title\":{\"text\":\"Attainment (%)\"}},\"legend\":{\"title\":{\"text\":\"Configuration\"}}},                        {\"responsive\": true}                    ).then(function(){\n                            \nvar gd = document.getElementById('e868b708-39d1-4e74-97c7-37fde7af897a');\nvar x = new MutationObserver(function (mutations, observer) {{\n        var display = window.getComputedStyle(gd).display;\n        if (!display || display === 'none') {{\n            console.log([gd, 'removed!']);\n            Plotly.purge(gd);\n            observer.disconnect();\n        }}\n}});\n\n// Listen for the removal of the full notebook cells\nvar notebookContainer = gd.closest('#notebook-container');\nif (notebookContainer) {{\n    x.observe(notebookContainer, {childList: true});\n}}\n\n// Listen for the clearing of the current output cell\nvar outputEl = gd.closest('.output');\nif (outputEl) {{\n    x.observe(outputEl, {childList: true});\n}}\n\n                        })                };                });            </script>        </div>"
     },
     "metadata": {},
     "output_type": "display_data"
    }
   ],
   "source": [
    "import plotly.graph_objects as go\n",
    "\n",
    "fig = go.Figure()\n",
    "\n",
    "# Plot the `figure_11_distserve_high`for some configurations\n",
    "# tp_prefill = 1, pp_prefill = 1, tp_decode = 1, pp_decode = 1\n",
    "# x-axis: rate\n",
    "# y-axis: attainment\n",
    "# find all combination of tp_prefill, pp_prefill, tp_decode, pp_decode\n",
    "\n",
    "configs = figure_11_distserve_high[['tp_prefill', 'pp_prefill', 'tp_decode', 'pp_decode']].drop_duplicates()\n",
    "df = figure_11_distserve_high\n",
    "\n",
    "for tp_prefill, pp_prefill, tp_decode, pp_decode in configs.values:\n",
    "    config_df = df[\n",
    "        (df['tp_prefill'] == tp_prefill) & (df['pp_prefill'] == pp_prefill) &\n",
    "        (df['tp_decode'] == tp_decode) & (df['pp_decode'] == pp_decode)\n",
    "        ]\n",
    "    # plot this inside a plotly plot\n",
    "    fig.add_trace(go.Scatter(\n",
    "        x=config_df['per_gpu_rate'], y=config_df['attainment'],\n",
    "        mode='lines+markers', name=f\"p{tp_prefill}{pp_prefill}{tp_decode}{pp_decode}-distserve\"\n",
    "    ))\n",
    "\n",
    "\n",
    "# Plot the `figure_11_vllm_high`for some configurations\n",
    "# tp_prefill = 1, pp_prefill = 1\n",
    "# x-axis: rate\n",
    "# y-axis: attainment\n",
    "# find all combination of tp_prefill, pp_prefill\n",
    "\n",
    "configs = figure_11_vllm_high[['tp_prefill', 'pp_prefill']].drop_duplicates()\n",
    "df = figure_11_vllm_high\n",
    "\n",
    "for tp_prefill, pp_prefill in configs.values:\n",
    "    config_df = df[\n",
    "        (df['tp_prefill'] == tp_prefill) & (df['pp_prefill'] == pp_prefill)\n",
    "        ]\n",
    "    # plot this inside a plotly plot\n",
    "    fig.add_trace(go.Scatter(\n",
    "        x=config_df['per_gpu_rate'], y=config_df['attainment'],\n",
    "        mode='lines+markers', name=f\"p{tp_prefill}{pp_prefill}-vllm\"\n",
    "    ))\n",
    "\n",
    "# fig add title\n",
    "fig.update_layout(\n",
    "    title=\"Figure 11: Abalation Study (DistServe and vLLM)\",\n",
    "    xaxis_title=\"Per-GPU Rate (tokens/s)\",\n",
    "    yaxis_title=\"Attainment (%)\",\n",
    "    legend_title=\"Configuration\"\n",
    ")\n",
    "fig.show()\n",
    "fig.write_html(\"visual/figure_11.full.html\")"
   ],
   "metadata": {
    "collapsed": false,
    "ExecuteTime": {
     "end_time": "2024-04-21T00:01:23.748293Z",
     "start_time": "2024-04-21T00:01:23.618531Z"
    }
   },
   "id": "97da25d4cb5d76ff",
   "execution_count": 31
  },
  {
   "cell_type": "code",
   "outputs": [],
   "source": [],
   "metadata": {
    "collapsed": false,
    "ExecuteTime": {
     "end_time": "2024-04-21T00:01:23.756553Z",
     "start_time": "2024-04-21T00:01:23.749217Z"
    }
   },
   "id": "559c4a50d75e339c",
   "execution_count": 31
  },
  {
   "cell_type": "code",
   "outputs": [],
   "source": [],
   "metadata": {
    "collapsed": false,
    "ExecuteTime": {
     "end_time": "2024-04-21T00:01:23.761399Z",
     "start_time": "2024-04-21T00:01:23.755889Z"
    }
   },
   "id": "f62689c986d075a9",
   "execution_count": 31
  },
  {
   "cell_type": "code",
   "outputs": [],
   "source": [],
   "metadata": {
    "collapsed": false,
    "ExecuteTime": {
     "end_time": "2024-04-21T00:01:23.773089Z",
     "start_time": "2024-04-21T00:01:23.762023Z"
    }
   },
   "id": "753ee960f800ac91",
   "execution_count": 31
  },
  {
   "cell_type": "code",
   "outputs": [
    {
     "data": {
      "application/vnd.plotly.v1+json": {
       "data": [
        {
         "mode": "lines+markers",
         "name": "disthigh-p4211",
         "x": [
          1.0,
          2.0,
          3.0,
          4.0,
          5.0
         ],
         "y": [
          100.0,
          100.0,
          98.6,
          95.6,
          89.1
         ],
         "type": "scatter"
        },
        {
         "mode": "lines+markers",
         "name": "distlow-p4111",
         "x": [
          1.0,
          2.0,
          3.0,
          4.0,
          5.0
         ],
         "y": [
          100.0,
          99.6,
          96.9,
          93.0,
          81.8
         ],
         "type": "scatter"
        },
        {
         "mode": "lines+markers",
         "name": "vllm++-p41",
         "x": [
          1.0,
          2.0,
          3.0,
          4.0,
          5.0
         ],
         "y": [
          100.0,
          99.8,
          96.5,
          50.6,
          24.9
         ],
         "type": "scatter"
        },
        {
         "mode": "lines+markers",
         "name": "vllm-p41",
         "x": [
          1.0,
          2.0,
          3.0,
          4.0,
          5.0
         ],
         "y": [
          100.0,
          99.8,
          96.5,
          50.6,
          24.9
         ],
         "type": "scatter"
        }
       ],
       "layout": {
        "template": {
         "data": {
          "histogram2dcontour": [
           {
            "type": "histogram2dcontour",
            "colorbar": {
             "outlinewidth": 0,
             "ticks": ""
            },
            "colorscale": [
             [
              0.0,
              "#0d0887"
             ],
             [
              0.1111111111111111,
              "#46039f"
             ],
             [
              0.2222222222222222,
              "#7201a8"
             ],
             [
              0.3333333333333333,
              "#9c179e"
             ],
             [
              0.4444444444444444,
              "#bd3786"
             ],
             [
              0.5555555555555556,
              "#d8576b"
             ],
             [
              0.6666666666666666,
              "#ed7953"
             ],
             [
              0.7777777777777778,
              "#fb9f3a"
             ],
             [
              0.8888888888888888,
              "#fdca26"
             ],
             [
              1.0,
              "#f0f921"
             ]
            ]
           }
          ],
          "choropleth": [
           {
            "type": "choropleth",
            "colorbar": {
             "outlinewidth": 0,
             "ticks": ""
            }
           }
          ],
          "histogram2d": [
           {
            "type": "histogram2d",
            "colorbar": {
             "outlinewidth": 0,
             "ticks": ""
            },
            "colorscale": [
             [
              0.0,
              "#0d0887"
             ],
             [
              0.1111111111111111,
              "#46039f"
             ],
             [
              0.2222222222222222,
              "#7201a8"
             ],
             [
              0.3333333333333333,
              "#9c179e"
             ],
             [
              0.4444444444444444,
              "#bd3786"
             ],
             [
              0.5555555555555556,
              "#d8576b"
             ],
             [
              0.6666666666666666,
              "#ed7953"
             ],
             [
              0.7777777777777778,
              "#fb9f3a"
             ],
             [
              0.8888888888888888,
              "#fdca26"
             ],
             [
              1.0,
              "#f0f921"
             ]
            ]
           }
          ],
          "heatmap": [
           {
            "type": "heatmap",
            "colorbar": {
             "outlinewidth": 0,
             "ticks": ""
            },
            "colorscale": [
             [
              0.0,
              "#0d0887"
             ],
             [
              0.1111111111111111,
              "#46039f"
             ],
             [
              0.2222222222222222,
              "#7201a8"
             ],
             [
              0.3333333333333333,
              "#9c179e"
             ],
             [
              0.4444444444444444,
              "#bd3786"
             ],
             [
              0.5555555555555556,
              "#d8576b"
             ],
             [
              0.6666666666666666,
              "#ed7953"
             ],
             [
              0.7777777777777778,
              "#fb9f3a"
             ],
             [
              0.8888888888888888,
              "#fdca26"
             ],
             [
              1.0,
              "#f0f921"
             ]
            ]
           }
          ],
          "heatmapgl": [
           {
            "type": "heatmapgl",
            "colorbar": {
             "outlinewidth": 0,
             "ticks": ""
            },
            "colorscale": [
             [
              0.0,
              "#0d0887"
             ],
             [
              0.1111111111111111,
              "#46039f"
             ],
             [
              0.2222222222222222,
              "#7201a8"
             ],
             [
              0.3333333333333333,
              "#9c179e"
             ],
             [
              0.4444444444444444,
              "#bd3786"
             ],
             [
              0.5555555555555556,
              "#d8576b"
             ],
             [
              0.6666666666666666,
              "#ed7953"
             ],
             [
              0.7777777777777778,
              "#fb9f3a"
             ],
             [
              0.8888888888888888,
              "#fdca26"
             ],
             [
              1.0,
              "#f0f921"
             ]
            ]
           }
          ],
          "contourcarpet": [
           {
            "type": "contourcarpet",
            "colorbar": {
             "outlinewidth": 0,
             "ticks": ""
            }
           }
          ],
          "contour": [
           {
            "type": "contour",
            "colorbar": {
             "outlinewidth": 0,
             "ticks": ""
            },
            "colorscale": [
             [
              0.0,
              "#0d0887"
             ],
             [
              0.1111111111111111,
              "#46039f"
             ],
             [
              0.2222222222222222,
              "#7201a8"
             ],
             [
              0.3333333333333333,
              "#9c179e"
             ],
             [
              0.4444444444444444,
              "#bd3786"
             ],
             [
              0.5555555555555556,
              "#d8576b"
             ],
             [
              0.6666666666666666,
              "#ed7953"
             ],
             [
              0.7777777777777778,
              "#fb9f3a"
             ],
             [
              0.8888888888888888,
              "#fdca26"
             ],
             [
              1.0,
              "#f0f921"
             ]
            ]
           }
          ],
          "surface": [
           {
            "type": "surface",
            "colorbar": {
             "outlinewidth": 0,
             "ticks": ""
            },
            "colorscale": [
             [
              0.0,
              "#0d0887"
             ],
             [
              0.1111111111111111,
              "#46039f"
             ],
             [
              0.2222222222222222,
              "#7201a8"
             ],
             [
              0.3333333333333333,
              "#9c179e"
             ],
             [
              0.4444444444444444,
              "#bd3786"
             ],
             [
              0.5555555555555556,
              "#d8576b"
             ],
             [
              0.6666666666666666,
              "#ed7953"
             ],
             [
              0.7777777777777778,
              "#fb9f3a"
             ],
             [
              0.8888888888888888,
              "#fdca26"
             ],
             [
              1.0,
              "#f0f921"
             ]
            ]
           }
          ],
          "mesh3d": [
           {
            "type": "mesh3d",
            "colorbar": {
             "outlinewidth": 0,
             "ticks": ""
            }
           }
          ],
          "scatter": [
           {
            "marker": {
             "line": {
              "color": "#283442"
             }
            },
            "type": "scatter"
           }
          ],
          "parcoords": [
           {
            "type": "parcoords",
            "line": {
             "colorbar": {
              "outlinewidth": 0,
              "ticks": ""
             }
            }
           }
          ],
          "scatterpolargl": [
           {
            "type": "scatterpolargl",
            "marker": {
             "colorbar": {
              "outlinewidth": 0,
              "ticks": ""
             }
            }
           }
          ],
          "bar": [
           {
            "error_x": {
             "color": "#f2f5fa"
            },
            "error_y": {
             "color": "#f2f5fa"
            },
            "marker": {
             "line": {
              "color": "rgb(17,17,17)",
              "width": 0.5
             },
             "pattern": {
              "fillmode": "overlay",
              "size": 10,
              "solidity": 0.2
             }
            },
            "type": "bar"
           }
          ],
          "scattergeo": [
           {
            "type": "scattergeo",
            "marker": {
             "colorbar": {
              "outlinewidth": 0,
              "ticks": ""
             }
            }
           }
          ],
          "scatterpolar": [
           {
            "type": "scatterpolar",
            "marker": {
             "colorbar": {
              "outlinewidth": 0,
              "ticks": ""
             }
            }
           }
          ],
          "histogram": [
           {
            "marker": {
             "pattern": {
              "fillmode": "overlay",
              "size": 10,
              "solidity": 0.2
             }
            },
            "type": "histogram"
           }
          ],
          "scattergl": [
           {
            "marker": {
             "line": {
              "color": "#283442"
             }
            },
            "type": "scattergl"
           }
          ],
          "scatter3d": [
           {
            "type": "scatter3d",
            "line": {
             "colorbar": {
              "outlinewidth": 0,
              "ticks": ""
             }
            },
            "marker": {
             "colorbar": {
              "outlinewidth": 0,
              "ticks": ""
             }
            }
           }
          ],
          "scattermapbox": [
           {
            "type": "scattermapbox",
            "marker": {
             "colorbar": {
              "outlinewidth": 0,
              "ticks": ""
             }
            }
           }
          ],
          "scatterternary": [
           {
            "type": "scatterternary",
            "marker": {
             "colorbar": {
              "outlinewidth": 0,
              "ticks": ""
             }
            }
           }
          ],
          "scattercarpet": [
           {
            "type": "scattercarpet",
            "marker": {
             "colorbar": {
              "outlinewidth": 0,
              "ticks": ""
             }
            }
           }
          ],
          "carpet": [
           {
            "aaxis": {
             "endlinecolor": "#A2B1C6",
             "gridcolor": "#506784",
             "linecolor": "#506784",
             "minorgridcolor": "#506784",
             "startlinecolor": "#A2B1C6"
            },
            "baxis": {
             "endlinecolor": "#A2B1C6",
             "gridcolor": "#506784",
             "linecolor": "#506784",
             "minorgridcolor": "#506784",
             "startlinecolor": "#A2B1C6"
            },
            "type": "carpet"
           }
          ],
          "table": [
           {
            "cells": {
             "fill": {
              "color": "#506784"
             },
             "line": {
              "color": "rgb(17,17,17)"
             }
            },
            "header": {
             "fill": {
              "color": "#2a3f5f"
             },
             "line": {
              "color": "rgb(17,17,17)"
             }
            },
            "type": "table"
           }
          ],
          "barpolar": [
           {
            "marker": {
             "line": {
              "color": "rgb(17,17,17)",
              "width": 0.5
             },
             "pattern": {
              "fillmode": "overlay",
              "size": 10,
              "solidity": 0.2
             }
            },
            "type": "barpolar"
           }
          ],
          "pie": [
           {
            "automargin": true,
            "type": "pie"
           }
          ]
         },
         "layout": {
          "autotypenumbers": "strict",
          "colorway": [
           "#636efa",
           "#EF553B",
           "#00cc96",
           "#ab63fa",
           "#FFA15A",
           "#19d3f3",
           "#FF6692",
           "#B6E880",
           "#FF97FF",
           "#FECB52"
          ],
          "font": {
           "color": "#f2f5fa"
          },
          "hovermode": "closest",
          "hoverlabel": {
           "align": "left"
          },
          "paper_bgcolor": "rgb(17,17,17)",
          "plot_bgcolor": "rgb(17,17,17)",
          "polar": {
           "bgcolor": "rgb(17,17,17)",
           "angularaxis": {
            "gridcolor": "#506784",
            "linecolor": "#506784",
            "ticks": ""
           },
           "radialaxis": {
            "gridcolor": "#506784",
            "linecolor": "#506784",
            "ticks": ""
           }
          },
          "ternary": {
           "bgcolor": "rgb(17,17,17)",
           "aaxis": {
            "gridcolor": "#506784",
            "linecolor": "#506784",
            "ticks": ""
           },
           "baxis": {
            "gridcolor": "#506784",
            "linecolor": "#506784",
            "ticks": ""
           },
           "caxis": {
            "gridcolor": "#506784",
            "linecolor": "#506784",
            "ticks": ""
           }
          },
          "coloraxis": {
           "colorbar": {
            "outlinewidth": 0,
            "ticks": ""
           }
          },
          "colorscale": {
           "sequential": [
            [
             0.0,
             "#0d0887"
            ],
            [
             0.1111111111111111,
             "#46039f"
            ],
            [
             0.2222222222222222,
             "#7201a8"
            ],
            [
             0.3333333333333333,
             "#9c179e"
            ],
            [
             0.4444444444444444,
             "#bd3786"
            ],
            [
             0.5555555555555556,
             "#d8576b"
            ],
            [
             0.6666666666666666,
             "#ed7953"
            ],
            [
             0.7777777777777778,
             "#fb9f3a"
            ],
            [
             0.8888888888888888,
             "#fdca26"
            ],
            [
             1.0,
             "#f0f921"
            ]
           ],
           "sequentialminus": [
            [
             0.0,
             "#0d0887"
            ],
            [
             0.1111111111111111,
             "#46039f"
            ],
            [
             0.2222222222222222,
             "#7201a8"
            ],
            [
             0.3333333333333333,
             "#9c179e"
            ],
            [
             0.4444444444444444,
             "#bd3786"
            ],
            [
             0.5555555555555556,
             "#d8576b"
            ],
            [
             0.6666666666666666,
             "#ed7953"
            ],
            [
             0.7777777777777778,
             "#fb9f3a"
            ],
            [
             0.8888888888888888,
             "#fdca26"
            ],
            [
             1.0,
             "#f0f921"
            ]
           ],
           "diverging": [
            [
             0,
             "#8e0152"
            ],
            [
             0.1,
             "#c51b7d"
            ],
            [
             0.2,
             "#de77ae"
            ],
            [
             0.3,
             "#f1b6da"
            ],
            [
             0.4,
             "#fde0ef"
            ],
            [
             0.5,
             "#f7f7f7"
            ],
            [
             0.6,
             "#e6f5d0"
            ],
            [
             0.7,
             "#b8e186"
            ],
            [
             0.8,
             "#7fbc41"
            ],
            [
             0.9,
             "#4d9221"
            ],
            [
             1,
             "#276419"
            ]
           ]
          },
          "xaxis": {
           "gridcolor": "#283442",
           "linecolor": "#506784",
           "ticks": "",
           "title": {
            "standoff": 15
           },
           "zerolinecolor": "#283442",
           "automargin": true,
           "zerolinewidth": 2
          },
          "yaxis": {
           "gridcolor": "#283442",
           "linecolor": "#506784",
           "ticks": "",
           "title": {
            "standoff": 15
           },
           "zerolinecolor": "#283442",
           "automargin": true,
           "zerolinewidth": 2
          },
          "scene": {
           "xaxis": {
            "backgroundcolor": "rgb(17,17,17)",
            "gridcolor": "#506784",
            "linecolor": "#506784",
            "showbackground": true,
            "ticks": "",
            "zerolinecolor": "#C8D4E3",
            "gridwidth": 2
           },
           "yaxis": {
            "backgroundcolor": "rgb(17,17,17)",
            "gridcolor": "#506784",
            "linecolor": "#506784",
            "showbackground": true,
            "ticks": "",
            "zerolinecolor": "#C8D4E3",
            "gridwidth": 2
           },
           "zaxis": {
            "backgroundcolor": "rgb(17,17,17)",
            "gridcolor": "#506784",
            "linecolor": "#506784",
            "showbackground": true,
            "ticks": "",
            "zerolinecolor": "#C8D4E3",
            "gridwidth": 2
           }
          },
          "shapedefaults": {
           "line": {
            "color": "#f2f5fa"
           }
          },
          "annotationdefaults": {
           "arrowcolor": "#f2f5fa",
           "arrowhead": 0,
           "arrowwidth": 1
          },
          "geo": {
           "bgcolor": "rgb(17,17,17)",
           "landcolor": "rgb(17,17,17)",
           "subunitcolor": "#506784",
           "showland": true,
           "showlakes": true,
           "lakecolor": "rgb(17,17,17)"
          },
          "title": {
           "x": 0.05
          },
          "updatemenudefaults": {
           "bgcolor": "#506784",
           "borderwidth": 0
          },
          "sliderdefaults": {
           "bgcolor": "#C8D4E3",
           "borderwidth": 1,
           "bordercolor": "rgb(17,17,17)",
           "tickwidth": 0
          },
          "mapbox": {
           "style": "dark"
          }
         }
        },
        "title": {
         "text": "Figure 11: Abalation Study (DistServe and vLLM)<br><sup>The figure shows that DistHigh > DistLow > vLLM++ > vLLM (vLLM++ and vLLM overlaps) </sup>"
        },
        "xaxis": {
         "title": {
          "text": "Per-GPU Rate (tokens/s)"
         }
        },
        "yaxis": {
         "title": {
          "text": "Attainment (%)"
         }
        },
        "legend": {
         "title": {
          "text": "Configuration"
         }
        }
       },
       "config": {
        "plotlyServerURL": "https://plot.ly"
       }
      },
      "text/html": "<div>                            <div id=\"61e3f83f-462b-43ec-b743-deeaa878bde2\" class=\"plotly-graph-div\" style=\"height:525px; width:100%;\"></div>            <script type=\"text/javascript\">                require([\"plotly\"], function(Plotly) {                    window.PLOTLYENV=window.PLOTLYENV || {};                                    if (document.getElementById(\"61e3f83f-462b-43ec-b743-deeaa878bde2\")) {                    Plotly.newPlot(                        \"61e3f83f-462b-43ec-b743-deeaa878bde2\",                        [{\"mode\":\"lines+markers\",\"name\":\"disthigh-p4211\",\"x\":[1.0,2.0,3.0,4.0,5.0],\"y\":[100.0,100.0,98.6,95.6,89.1],\"type\":\"scatter\"},{\"mode\":\"lines+markers\",\"name\":\"distlow-p4111\",\"x\":[1.0,2.0,3.0,4.0,5.0],\"y\":[100.0,99.6,96.9,93.0,81.8],\"type\":\"scatter\"},{\"mode\":\"lines+markers\",\"name\":\"vllm++-p41\",\"x\":[1.0,2.0,3.0,4.0,5.0],\"y\":[100.0,99.8,96.5,50.6,24.9],\"type\":\"scatter\"},{\"mode\":\"lines+markers\",\"name\":\"vllm-p41\",\"x\":[1.0,2.0,3.0,4.0,5.0],\"y\":[100.0,99.8,96.5,50.6,24.9],\"type\":\"scatter\"}],                        {\"template\":{\"data\":{\"histogram2dcontour\":[{\"type\":\"histogram2dcontour\",\"colorbar\":{\"outlinewidth\":0,\"ticks\":\"\"},\"colorscale\":[[0.0,\"#0d0887\"],[0.1111111111111111,\"#46039f\"],[0.2222222222222222,\"#7201a8\"],[0.3333333333333333,\"#9c179e\"],[0.4444444444444444,\"#bd3786\"],[0.5555555555555556,\"#d8576b\"],[0.6666666666666666,\"#ed7953\"],[0.7777777777777778,\"#fb9f3a\"],[0.8888888888888888,\"#fdca26\"],[1.0,\"#f0f921\"]]}],\"choropleth\":[{\"type\":\"choropleth\",\"colorbar\":{\"outlinewidth\":0,\"ticks\":\"\"}}],\"histogram2d\":[{\"type\":\"histogram2d\",\"colorbar\":{\"outlinewidth\":0,\"ticks\":\"\"},\"colorscale\":[[0.0,\"#0d0887\"],[0.1111111111111111,\"#46039f\"],[0.2222222222222222,\"#7201a8\"],[0.3333333333333333,\"#9c179e\"],[0.4444444444444444,\"#bd3786\"],[0.5555555555555556,\"#d8576b\"],[0.6666666666666666,\"#ed7953\"],[0.7777777777777778,\"#fb9f3a\"],[0.8888888888888888,\"#fdca26\"],[1.0,\"#f0f921\"]]}],\"heatmap\":[{\"type\":\"heatmap\",\"colorbar\":{\"outlinewidth\":0,\"ticks\":\"\"},\"colorscale\":[[0.0,\"#0d0887\"],[0.1111111111111111,\"#46039f\"],[0.2222222222222222,\"#7201a8\"],[0.3333333333333333,\"#9c179e\"],[0.4444444444444444,\"#bd3786\"],[0.5555555555555556,\"#d8576b\"],[0.6666666666666666,\"#ed7953\"],[0.7777777777777778,\"#fb9f3a\"],[0.8888888888888888,\"#fdca26\"],[1.0,\"#f0f921\"]]}],\"heatmapgl\":[{\"type\":\"heatmapgl\",\"colorbar\":{\"outlinewidth\":0,\"ticks\":\"\"},\"colorscale\":[[0.0,\"#0d0887\"],[0.1111111111111111,\"#46039f\"],[0.2222222222222222,\"#7201a8\"],[0.3333333333333333,\"#9c179e\"],[0.4444444444444444,\"#bd3786\"],[0.5555555555555556,\"#d8576b\"],[0.6666666666666666,\"#ed7953\"],[0.7777777777777778,\"#fb9f3a\"],[0.8888888888888888,\"#fdca26\"],[1.0,\"#f0f921\"]]}],\"contourcarpet\":[{\"type\":\"contourcarpet\",\"colorbar\":{\"outlinewidth\":0,\"ticks\":\"\"}}],\"contour\":[{\"type\":\"contour\",\"colorbar\":{\"outlinewidth\":0,\"ticks\":\"\"},\"colorscale\":[[0.0,\"#0d0887\"],[0.1111111111111111,\"#46039f\"],[0.2222222222222222,\"#7201a8\"],[0.3333333333333333,\"#9c179e\"],[0.4444444444444444,\"#bd3786\"],[0.5555555555555556,\"#d8576b\"],[0.6666666666666666,\"#ed7953\"],[0.7777777777777778,\"#fb9f3a\"],[0.8888888888888888,\"#fdca26\"],[1.0,\"#f0f921\"]]}],\"surface\":[{\"type\":\"surface\",\"colorbar\":{\"outlinewidth\":0,\"ticks\":\"\"},\"colorscale\":[[0.0,\"#0d0887\"],[0.1111111111111111,\"#46039f\"],[0.2222222222222222,\"#7201a8\"],[0.3333333333333333,\"#9c179e\"],[0.4444444444444444,\"#bd3786\"],[0.5555555555555556,\"#d8576b\"],[0.6666666666666666,\"#ed7953\"],[0.7777777777777778,\"#fb9f3a\"],[0.8888888888888888,\"#fdca26\"],[1.0,\"#f0f921\"]]}],\"mesh3d\":[{\"type\":\"mesh3d\",\"colorbar\":{\"outlinewidth\":0,\"ticks\":\"\"}}],\"scatter\":[{\"marker\":{\"line\":{\"color\":\"#283442\"}},\"type\":\"scatter\"}],\"parcoords\":[{\"type\":\"parcoords\",\"line\":{\"colorbar\":{\"outlinewidth\":0,\"ticks\":\"\"}}}],\"scatterpolargl\":[{\"type\":\"scatterpolargl\",\"marker\":{\"colorbar\":{\"outlinewidth\":0,\"ticks\":\"\"}}}],\"bar\":[{\"error_x\":{\"color\":\"#f2f5fa\"},\"error_y\":{\"color\":\"#f2f5fa\"},\"marker\":{\"line\":{\"color\":\"rgb(17,17,17)\",\"width\":0.5},\"pattern\":{\"fillmode\":\"overlay\",\"size\":10,\"solidity\":0.2}},\"type\":\"bar\"}],\"scattergeo\":[{\"type\":\"scattergeo\",\"marker\":{\"colorbar\":{\"outlinewidth\":0,\"ticks\":\"\"}}}],\"scatterpolar\":[{\"type\":\"scatterpolar\",\"marker\":{\"colorbar\":{\"outlinewidth\":0,\"ticks\":\"\"}}}],\"histogram\":[{\"marker\":{\"pattern\":{\"fillmode\":\"overlay\",\"size\":10,\"solidity\":0.2}},\"type\":\"histogram\"}],\"scattergl\":[{\"marker\":{\"line\":{\"color\":\"#283442\"}},\"type\":\"scattergl\"}],\"scatter3d\":[{\"type\":\"scatter3d\",\"line\":{\"colorbar\":{\"outlinewidth\":0,\"ticks\":\"\"}},\"marker\":{\"colorbar\":{\"outlinewidth\":0,\"ticks\":\"\"}}}],\"scattermapbox\":[{\"type\":\"scattermapbox\",\"marker\":{\"colorbar\":{\"outlinewidth\":0,\"ticks\":\"\"}}}],\"scatterternary\":[{\"type\":\"scatterternary\",\"marker\":{\"colorbar\":{\"outlinewidth\":0,\"ticks\":\"\"}}}],\"scattercarpet\":[{\"type\":\"scattercarpet\",\"marker\":{\"colorbar\":{\"outlinewidth\":0,\"ticks\":\"\"}}}],\"carpet\":[{\"aaxis\":{\"endlinecolor\":\"#A2B1C6\",\"gridcolor\":\"#506784\",\"linecolor\":\"#506784\",\"minorgridcolor\":\"#506784\",\"startlinecolor\":\"#A2B1C6\"},\"baxis\":{\"endlinecolor\":\"#A2B1C6\",\"gridcolor\":\"#506784\",\"linecolor\":\"#506784\",\"minorgridcolor\":\"#506784\",\"startlinecolor\":\"#A2B1C6\"},\"type\":\"carpet\"}],\"table\":[{\"cells\":{\"fill\":{\"color\":\"#506784\"},\"line\":{\"color\":\"rgb(17,17,17)\"}},\"header\":{\"fill\":{\"color\":\"#2a3f5f\"},\"line\":{\"color\":\"rgb(17,17,17)\"}},\"type\":\"table\"}],\"barpolar\":[{\"marker\":{\"line\":{\"color\":\"rgb(17,17,17)\",\"width\":0.5},\"pattern\":{\"fillmode\":\"overlay\",\"size\":10,\"solidity\":0.2}},\"type\":\"barpolar\"}],\"pie\":[{\"automargin\":true,\"type\":\"pie\"}]},\"layout\":{\"autotypenumbers\":\"strict\",\"colorway\":[\"#636efa\",\"#EF553B\",\"#00cc96\",\"#ab63fa\",\"#FFA15A\",\"#19d3f3\",\"#FF6692\",\"#B6E880\",\"#FF97FF\",\"#FECB52\"],\"font\":{\"color\":\"#f2f5fa\"},\"hovermode\":\"closest\",\"hoverlabel\":{\"align\":\"left\"},\"paper_bgcolor\":\"rgb(17,17,17)\",\"plot_bgcolor\":\"rgb(17,17,17)\",\"polar\":{\"bgcolor\":\"rgb(17,17,17)\",\"angularaxis\":{\"gridcolor\":\"#506784\",\"linecolor\":\"#506784\",\"ticks\":\"\"},\"radialaxis\":{\"gridcolor\":\"#506784\",\"linecolor\":\"#506784\",\"ticks\":\"\"}},\"ternary\":{\"bgcolor\":\"rgb(17,17,17)\",\"aaxis\":{\"gridcolor\":\"#506784\",\"linecolor\":\"#506784\",\"ticks\":\"\"},\"baxis\":{\"gridcolor\":\"#506784\",\"linecolor\":\"#506784\",\"ticks\":\"\"},\"caxis\":{\"gridcolor\":\"#506784\",\"linecolor\":\"#506784\",\"ticks\":\"\"}},\"coloraxis\":{\"colorbar\":{\"outlinewidth\":0,\"ticks\":\"\"}},\"colorscale\":{\"sequential\":[[0.0,\"#0d0887\"],[0.1111111111111111,\"#46039f\"],[0.2222222222222222,\"#7201a8\"],[0.3333333333333333,\"#9c179e\"],[0.4444444444444444,\"#bd3786\"],[0.5555555555555556,\"#d8576b\"],[0.6666666666666666,\"#ed7953\"],[0.7777777777777778,\"#fb9f3a\"],[0.8888888888888888,\"#fdca26\"],[1.0,\"#f0f921\"]],\"sequentialminus\":[[0.0,\"#0d0887\"],[0.1111111111111111,\"#46039f\"],[0.2222222222222222,\"#7201a8\"],[0.3333333333333333,\"#9c179e\"],[0.4444444444444444,\"#bd3786\"],[0.5555555555555556,\"#d8576b\"],[0.6666666666666666,\"#ed7953\"],[0.7777777777777778,\"#fb9f3a\"],[0.8888888888888888,\"#fdca26\"],[1.0,\"#f0f921\"]],\"diverging\":[[0,\"#8e0152\"],[0.1,\"#c51b7d\"],[0.2,\"#de77ae\"],[0.3,\"#f1b6da\"],[0.4,\"#fde0ef\"],[0.5,\"#f7f7f7\"],[0.6,\"#e6f5d0\"],[0.7,\"#b8e186\"],[0.8,\"#7fbc41\"],[0.9,\"#4d9221\"],[1,\"#276419\"]]},\"xaxis\":{\"gridcolor\":\"#283442\",\"linecolor\":\"#506784\",\"ticks\":\"\",\"title\":{\"standoff\":15},\"zerolinecolor\":\"#283442\",\"automargin\":true,\"zerolinewidth\":2},\"yaxis\":{\"gridcolor\":\"#283442\",\"linecolor\":\"#506784\",\"ticks\":\"\",\"title\":{\"standoff\":15},\"zerolinecolor\":\"#283442\",\"automargin\":true,\"zerolinewidth\":2},\"scene\":{\"xaxis\":{\"backgroundcolor\":\"rgb(17,17,17)\",\"gridcolor\":\"#506784\",\"linecolor\":\"#506784\",\"showbackground\":true,\"ticks\":\"\",\"zerolinecolor\":\"#C8D4E3\",\"gridwidth\":2},\"yaxis\":{\"backgroundcolor\":\"rgb(17,17,17)\",\"gridcolor\":\"#506784\",\"linecolor\":\"#506784\",\"showbackground\":true,\"ticks\":\"\",\"zerolinecolor\":\"#C8D4E3\",\"gridwidth\":2},\"zaxis\":{\"backgroundcolor\":\"rgb(17,17,17)\",\"gridcolor\":\"#506784\",\"linecolor\":\"#506784\",\"showbackground\":true,\"ticks\":\"\",\"zerolinecolor\":\"#C8D4E3\",\"gridwidth\":2}},\"shapedefaults\":{\"line\":{\"color\":\"#f2f5fa\"}},\"annotationdefaults\":{\"arrowcolor\":\"#f2f5fa\",\"arrowhead\":0,\"arrowwidth\":1},\"geo\":{\"bgcolor\":\"rgb(17,17,17)\",\"landcolor\":\"rgb(17,17,17)\",\"subunitcolor\":\"#506784\",\"showland\":true,\"showlakes\":true,\"lakecolor\":\"rgb(17,17,17)\"},\"title\":{\"x\":0.05},\"updatemenudefaults\":{\"bgcolor\":\"#506784\",\"borderwidth\":0},\"sliderdefaults\":{\"bgcolor\":\"#C8D4E3\",\"borderwidth\":1,\"bordercolor\":\"rgb(17,17,17)\",\"tickwidth\":0},\"mapbox\":{\"style\":\"dark\"}}},\"title\":{\"text\":\"Figure 11: Abalation Study (DistServe and vLLM)\\u003cbr\\u003e\\u003csup\\u003eThe figure shows that DistHigh \\u003e DistLow \\u003e vLLM++ \\u003e vLLM (vLLM++ and vLLM overlaps) \\u003c\\u002fsup\\u003e\"},\"xaxis\":{\"title\":{\"text\":\"Per-GPU Rate (tokens\\u002fs)\"}},\"yaxis\":{\"title\":{\"text\":\"Attainment (%)\"}},\"legend\":{\"title\":{\"text\":\"Configuration\"}}},                        {\"responsive\": true}                    ).then(function(){\n                            \nvar gd = document.getElementById('61e3f83f-462b-43ec-b743-deeaa878bde2');\nvar x = new MutationObserver(function (mutations, observer) {{\n        var display = window.getComputedStyle(gd).display;\n        if (!display || display === 'none') {{\n            console.log([gd, 'removed!']);\n            Plotly.purge(gd);\n            observer.disconnect();\n        }}\n}});\n\n// Listen for the removal of the full notebook cells\nvar notebookContainer = gd.closest('#notebook-container');\nif (notebookContainer) {{\n    x.observe(notebookContainer, {childList: true});\n}}\n\n// Listen for the clearing of the current output cell\nvar outputEl = gd.closest('.output');\nif (outputEl) {{\n    x.observe(outputEl, {childList: true});\n}}\n\n                        })                };                });            </script>        </div>"
     },
     "metadata": {},
     "output_type": "display_data"
    }
   ],
   "source": [
    "import plotly.graph_objects as go\n",
    "\n",
    "fig = go.Figure()\n",
    "configs = figure_11_vllm_high[['tp_prefill', 'pp_prefill', 'tp_decode', 'pp_decode']].drop_duplicates()\n",
    "\n",
    "# Case 1: DistServe-High\n",
    "df = figure_11_distserve_high\n",
    "tp_prefill, pp_prefill, tp_decode, pp_decode = 4, 2, 1, 1\n",
    "config_df = df[\n",
    "    (df['tp_prefill'] == tp_prefill) & (df['pp_prefill'] == pp_prefill) &\n",
    "    (df['tp_decode'] == tp_decode) & (df['pp_decode'] == pp_decode)\n",
    "    ]\n",
    "# plot this inside a plotly plot\n",
    "fig.add_trace(go.Scatter(\n",
    "    x=config_df['per_gpu_rate'], y=config_df['attainment'],\n",
    "    mode='lines+markers', name=f\"disthigh-p{tp_prefill}{pp_prefill}{tp_decode}{pp_decode}\"\n",
    "))\n",
    "\n",
    "# Case 2: DistServe-Low\n",
    "df = figure_11_distserve_low\n",
    "tp_prefill, pp_prefill, tp_decode, pp_decode = 4, 1, 1, 1\n",
    "config_df = df[\n",
    "    (df['tp_prefill'] == tp_prefill) & (df['pp_prefill'] == pp_prefill) &\n",
    "    (df['tp_decode'] == tp_decode) & (df['pp_decode'] == pp_decode)\n",
    "    ]\n",
    "# plot this inside a plotly plot\n",
    "fig.add_trace(go.Scatter(\n",
    "    x=config_df['per_gpu_rate'], y=config_df['attainment'],\n",
    "    mode='lines+markers', name=f\"distlow-p{tp_prefill}{pp_prefill}{tp_decode}{pp_decode}\"\n",
    "))\n",
    "\n",
    "# Case 3: vLLM++\n",
    "df = figure_11_vllm_high\n",
    "tp_prefill, pp_prefill = 4, 1\n",
    "config_df = df[\n",
    "    (df['tp_prefill'] == tp_prefill) & (df['pp_prefill'] == pp_prefill)\n",
    "    ]\n",
    "# plot this inside a plotly plot\n",
    "fig.add_trace(go.Scatter(\n",
    "    x=config_df['per_gpu_rate'], y=config_df['attainment'],\n",
    "    mode='lines+markers', name=f\"vllm++-p{tp_prefill}{pp_prefill}\"\n",
    "))\n",
    "\n",
    "# Case 4: vLLM\n",
    "df = figure_11_vllm_low\n",
    "tp_prefill, pp_prefill = 4, 1\n",
    "config_df = df[\n",
    "    (df['tp_prefill'] == tp_prefill) & (df['pp_prefill'] == pp_prefill)\n",
    "    ]\n",
    "# plot this inside a plotly plot\n",
    "fig.add_trace(go.Scatter(\n",
    "    x=config_df['per_gpu_rate'], y=config_df['attainment'],\n",
    "    mode='lines+markers', name=f\"vllm-p{tp_prefill}{pp_prefill}\"\n",
    "))\n",
    "\n",
    "\n",
    "fig.update_layout(\n",
    "    title=\"Figure 11: Abalation Study (DistServe and vLLM)<br>\"\n",
    "          \"<sup>The figure shows that DistHigh > DistLow > vLLM++ > vLLM (vLLM++ and vLLM overlaps) </sup>\",\n",
    "    xaxis_title=\"Per-GPU Rate (tokens/s)\",\n",
    "    yaxis_title=\"Attainment (%)\",\n",
    "    legend_title=\"Configuration\"\n",
    ")\n",
    "fig.show()\n",
    "fig.write_html(\"visual/figure_11.html\")"
   ],
   "metadata": {
    "collapsed": false,
    "ExecuteTime": {
     "end_time": "2024-04-21T00:08:46.419216Z",
     "start_time": "2024-04-21T00:08:46.402650Z"
    }
   },
   "id": "ff5ff643a25130b2",
   "execution_count": 43
  },
  {
   "cell_type": "code",
   "outputs": [],
   "source": [],
   "metadata": {
    "collapsed": false,
    "ExecuteTime": {
     "end_time": "2024-04-21T00:01:23.809227Z",
     "start_time": "2024-04-21T00:01:23.800640Z"
    }
   },
   "id": "ea69357cbb24c713",
   "execution_count": 32
  },
  {
   "cell_type": "code",
   "outputs": [],
   "source": [],
   "metadata": {
    "collapsed": false,
    "ExecuteTime": {
     "end_time": "2024-04-21T00:01:23.810092Z",
     "start_time": "2024-04-21T00:01:23.806267Z"
    }
   },
   "id": "915551e21439f46a",
   "execution_count": 32
  },
  {
   "cell_type": "code",
   "outputs": [],
   "source": [],
   "metadata": {
    "collapsed": false,
    "ExecuteTime": {
     "end_time": "2024-04-21T00:01:23.816397Z",
     "start_time": "2024-04-21T00:01:23.809674Z"
    }
   },
   "id": "2f7e71ead1c5c2d2",
   "execution_count": 32
  },
  {
   "cell_type": "code",
   "outputs": [],
   "source": [],
   "metadata": {
    "collapsed": false,
    "ExecuteTime": {
     "end_time": "2024-04-21T00:01:23.860452Z",
     "start_time": "2024-04-21T00:01:23.816577Z"
    }
   },
   "id": "3c147288371ee90f",
   "execution_count": 32
  }
 ],
 "metadata": {
  "kernelspec": {
   "display_name": "Python 3",
   "language": "python",
   "name": "python3"
  },
  "language_info": {
   "codemirror_mode": {
    "name": "ipython",
    "version": 2
   },
   "file_extension": ".py",
   "mimetype": "text/x-python",
   "name": "python",
   "nbconvert_exporter": "python",
   "pygments_lexer": "ipython2",
   "version": "2.7.6"
  }
 },
 "nbformat": 4,
 "nbformat_minor": 5
}
