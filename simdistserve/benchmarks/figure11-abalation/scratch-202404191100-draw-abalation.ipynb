{
 "cells": [
  {
   "cell_type": "code",
   "execution_count": 54,
   "id": "initial_id",
   "metadata": {
    "collapsed": true,
    "ExecuteTime": {
     "end_time": "2024-04-20T05:55:43.473541Z",
     "start_time": "2024-04-20T05:55:43.451273Z"
    }
   },
   "outputs": [],
   "source": [
    "from pathlib import Path\n",
    "\n",
    "import pandas as pd\n",
    "from argparse import Namespace\n",
    "import matplotlib.pyplot as plt\n",
    "\n",
    "# Get all files with format '*.latency.csv' from root_dir\n",
    "# root_dir = Path(\"fig11-abalation-log\")\n",
    "root_dir = Path(\"result\")\n",
    "latency_file_paths = sorted(list(root_dir.glob(\"*.latency.csv\")))\n",
    "experiment_log_paths = sorted(list(root_dir.glob(\"*.log\")))\n",
    "columns = ['backend', 'rate', 'target', 'attainment', 'latency']"
   ]
  },
  {
   "cell_type": "code",
   "outputs": [],
   "source": [
    "dfs = []\n",
    "namespaces = []\n",
    "for latency_file_path, experiment_log_path in zip(latency_file_paths, experiment_log_paths):\n",
    "    # read experiment_log_path and log the namespace\n",
    "    with open(experiment_log_path, 'r') as f:\n",
    "        exp_args = f.read()\n",
    "        exp_args = eval(exp_args)\n",
    "        namespaces.append(exp_args)\n",
    "\n",
    "    df = pd.read_csv(latency_file_path)\n",
    "    dfs.append(df)"
   ],
   "metadata": {
    "collapsed": false,
    "ExecuteTime": {
     "end_time": "2024-04-20T05:55:43.652535Z",
     "start_time": "2024-04-20T05:55:43.475975Z"
    }
   },
   "id": "cf162cc0a9334b35",
   "execution_count": 55
  },
  {
   "cell_type": "code",
   "outputs": [],
   "source": [
    "big_df = pd.concat(dfs, ignore_index=True)\n",
    "big_df['ngpu'] = big_df['tp_prefill'] * big_df['pp_prefill'] + big_df['tp_decode'] * big_df['pp_decode']\n",
    "big_df['per_gpu_rate'] = big_df['rate'] / big_df['ngpu']\n",
    "big_df['goodput@90'] = big_df.apply(\n",
    "    lambda x: x['rate'] / x['ngpu'] if x['attainment'] >= 90 else 0,\n",
    "    axis=1,\n",
    ")"
   ],
   "metadata": {
    "collapsed": false,
    "ExecuteTime": {
     "end_time": "2024-04-20T05:55:43.700510Z",
     "start_time": "2024-04-20T05:55:43.663162Z"
    }
   },
   "id": "69a03ddf577d3c5a",
   "execution_count": 56
  },
  {
   "cell_type": "code",
   "outputs": [
    {
     "data": {
      "text/plain": "        backend model_type       pd  rate              target  attainment  \\\n0     distserve    OPT-13B  prefill  10.0               200.0        31.0   \n1     distserve    OPT-13B   decode  10.0               100.0        32.7   \n2     distserve    OPT-13B     both  10.0      (200.0, 100.0)         9.9   \n3     distserve    OPT-13B  prefill  10.0                80.0        10.2   \n4     distserve    OPT-13B   decode  10.0                40.0         4.2   \n...         ...        ...      ...   ...                 ...         ...   \n5245       vllm    OPT-13B   decode   8.0   23.63819926962662        95.0   \n5246       vllm    OPT-13B  prefill   8.0   155.3716944415064        98.0   \n5247       vllm    OPT-13B   decode   8.0   28.21016847928571        98.0   \n5248       vllm    OPT-13B  prefill   8.0  187.19097293514704        99.0   \n5249       vllm    OPT-13B   decode   8.0  33.094901445515646        99.0   \n\n      tp_prefill  pp_prefill  tp_decode  pp_decode  ngpu  per_gpu_rate  \\\n0              1           1          1          1     2           5.0   \n1              1           1          1          1     2           5.0   \n2              1           1          1          1     2           5.0   \n3              1           1          1          1     2           5.0   \n4              1           1          1          1     2           5.0   \n...          ...         ...        ...        ...   ...           ...   \n5245           4           1          0          0     4           2.0   \n5246           4           1          0          0     4           2.0   \n5247           4           1          0          0     4           2.0   \n5248           4           1          0          0     4           2.0   \n5249           4           1          0          0     4           2.0   \n\n      goodput@90  \n0            0.0  \n1            0.0  \n2            0.0  \n3            0.0  \n4            0.0  \n...          ...  \n5245         2.0  \n5246         2.0  \n5247         2.0  \n5248         2.0  \n5249         2.0  \n\n[5250 rows x 13 columns]",
      "text/html": "<div>\n<style scoped>\n    .dataframe tbody tr th:only-of-type {\n        vertical-align: middle;\n    }\n\n    .dataframe tbody tr th {\n        vertical-align: top;\n    }\n\n    .dataframe thead th {\n        text-align: right;\n    }\n</style>\n<table border=\"1\" class=\"dataframe\">\n  <thead>\n    <tr style=\"text-align: right;\">\n      <th></th>\n      <th>backend</th>\n      <th>model_type</th>\n      <th>pd</th>\n      <th>rate</th>\n      <th>target</th>\n      <th>attainment</th>\n      <th>tp_prefill</th>\n      <th>pp_prefill</th>\n      <th>tp_decode</th>\n      <th>pp_decode</th>\n      <th>ngpu</th>\n      <th>per_gpu_rate</th>\n      <th>goodput@90</th>\n    </tr>\n  </thead>\n  <tbody>\n    <tr>\n      <th>0</th>\n      <td>distserve</td>\n      <td>OPT-13B</td>\n      <td>prefill</td>\n      <td>10.0</td>\n      <td>200.0</td>\n      <td>31.0</td>\n      <td>1</td>\n      <td>1</td>\n      <td>1</td>\n      <td>1</td>\n      <td>2</td>\n      <td>5.0</td>\n      <td>0.0</td>\n    </tr>\n    <tr>\n      <th>1</th>\n      <td>distserve</td>\n      <td>OPT-13B</td>\n      <td>decode</td>\n      <td>10.0</td>\n      <td>100.0</td>\n      <td>32.7</td>\n      <td>1</td>\n      <td>1</td>\n      <td>1</td>\n      <td>1</td>\n      <td>2</td>\n      <td>5.0</td>\n      <td>0.0</td>\n    </tr>\n    <tr>\n      <th>2</th>\n      <td>distserve</td>\n      <td>OPT-13B</td>\n      <td>both</td>\n      <td>10.0</td>\n      <td>(200.0, 100.0)</td>\n      <td>9.9</td>\n      <td>1</td>\n      <td>1</td>\n      <td>1</td>\n      <td>1</td>\n      <td>2</td>\n      <td>5.0</td>\n      <td>0.0</td>\n    </tr>\n    <tr>\n      <th>3</th>\n      <td>distserve</td>\n      <td>OPT-13B</td>\n      <td>prefill</td>\n      <td>10.0</td>\n      <td>80.0</td>\n      <td>10.2</td>\n      <td>1</td>\n      <td>1</td>\n      <td>1</td>\n      <td>1</td>\n      <td>2</td>\n      <td>5.0</td>\n      <td>0.0</td>\n    </tr>\n    <tr>\n      <th>4</th>\n      <td>distserve</td>\n      <td>OPT-13B</td>\n      <td>decode</td>\n      <td>10.0</td>\n      <td>40.0</td>\n      <td>4.2</td>\n      <td>1</td>\n      <td>1</td>\n      <td>1</td>\n      <td>1</td>\n      <td>2</td>\n      <td>5.0</td>\n      <td>0.0</td>\n    </tr>\n    <tr>\n      <th>...</th>\n      <td>...</td>\n      <td>...</td>\n      <td>...</td>\n      <td>...</td>\n      <td>...</td>\n      <td>...</td>\n      <td>...</td>\n      <td>...</td>\n      <td>...</td>\n      <td>...</td>\n      <td>...</td>\n      <td>...</td>\n      <td>...</td>\n    </tr>\n    <tr>\n      <th>5245</th>\n      <td>vllm</td>\n      <td>OPT-13B</td>\n      <td>decode</td>\n      <td>8.0</td>\n      <td>23.63819926962662</td>\n      <td>95.0</td>\n      <td>4</td>\n      <td>1</td>\n      <td>0</td>\n      <td>0</td>\n      <td>4</td>\n      <td>2.0</td>\n      <td>2.0</td>\n    </tr>\n    <tr>\n      <th>5246</th>\n      <td>vllm</td>\n      <td>OPT-13B</td>\n      <td>prefill</td>\n      <td>8.0</td>\n      <td>155.3716944415064</td>\n      <td>98.0</td>\n      <td>4</td>\n      <td>1</td>\n      <td>0</td>\n      <td>0</td>\n      <td>4</td>\n      <td>2.0</td>\n      <td>2.0</td>\n    </tr>\n    <tr>\n      <th>5247</th>\n      <td>vllm</td>\n      <td>OPT-13B</td>\n      <td>decode</td>\n      <td>8.0</td>\n      <td>28.21016847928571</td>\n      <td>98.0</td>\n      <td>4</td>\n      <td>1</td>\n      <td>0</td>\n      <td>0</td>\n      <td>4</td>\n      <td>2.0</td>\n      <td>2.0</td>\n    </tr>\n    <tr>\n      <th>5248</th>\n      <td>vllm</td>\n      <td>OPT-13B</td>\n      <td>prefill</td>\n      <td>8.0</td>\n      <td>187.19097293514704</td>\n      <td>99.0</td>\n      <td>4</td>\n      <td>1</td>\n      <td>0</td>\n      <td>0</td>\n      <td>4</td>\n      <td>2.0</td>\n      <td>2.0</td>\n    </tr>\n    <tr>\n      <th>5249</th>\n      <td>vllm</td>\n      <td>OPT-13B</td>\n      <td>decode</td>\n      <td>8.0</td>\n      <td>33.094901445515646</td>\n      <td>99.0</td>\n      <td>4</td>\n      <td>1</td>\n      <td>0</td>\n      <td>0</td>\n      <td>4</td>\n      <td>2.0</td>\n      <td>2.0</td>\n    </tr>\n  </tbody>\n</table>\n<p>5250 rows × 13 columns</p>\n</div>"
     },
     "execution_count": 57,
     "metadata": {},
     "output_type": "execute_result"
    }
   ],
   "source": [
    "big_df"
   ],
   "metadata": {
    "collapsed": false,
    "ExecuteTime": {
     "end_time": "2024-04-20T05:55:43.722824Z",
     "start_time": "2024-04-20T05:55:43.701419Z"
    }
   },
   "id": "d3348ed969bcfabf",
   "execution_count": 57
  },
  {
   "cell_type": "code",
   "outputs": [],
   "source": [
    "max_machine = 4\n",
    "max_gpu_per_node = 8\n",
    "\n",
    "\n",
    "def can_fit_low_affinity_distserve(x):\n",
    "    a, b, c, d = x['tp_prefill'], x['pp_prefill'], x['tp_decode'], x['pp_decode']\n",
    "    for pp_common in range(1, max_machine + 1):\n",
    "        bp = b / pp_common\n",
    "        dp = d / pp_common\n",
    "        # If either bp or dp is not int, skip\n",
    "        if int(bp) != bp or int(dp) != dp:\n",
    "            continue\n",
    "        # Check if the segment can be placed inside a node\n",
    "        if a * bp + c * dp <= max_gpu_per_node:\n",
    "            return True\n",
    "        pass\n",
    "    return False\n",
    "\n",
    "\n",
    "def can_fit_low_affinity(x):\n",
    "    if x['backend'] == 'distserve':\n",
    "        return can_fit_low_affinity_distserve(x)\n",
    "    else:\n",
    "        return True\n",
    "    pass\n",
    "\n",
    "\n",
    "big_df['low_affin'] = big_df.apply(can_fit_low_affinity, axis=1)"
   ],
   "metadata": {
    "collapsed": false,
    "ExecuteTime": {
     "end_time": "2024-04-20T05:55:43.805950Z",
     "start_time": "2024-04-20T05:55:43.715675Z"
    }
   },
   "id": "27819a9a9d826d68",
   "execution_count": 58
  },
  {
   "cell_type": "code",
   "outputs": [
    {
     "data": {
      "text/plain": "        backend model_type       pd  rate              target  attainment  \\\n1400  distserve    OPT-13B  prefill   2.0               200.0        91.1   \n1401  distserve    OPT-13B   decode   2.0               100.0       100.0   \n1402  distserve    OPT-13B     both   2.0      (200.0, 100.0)        91.1   \n1403  distserve    OPT-13B  prefill   2.0                80.0        40.7   \n1404  distserve    OPT-13B   decode   2.0                40.0        99.4   \n...         ...        ...      ...   ...                 ...         ...   \n4820       vllm    OPT-13B   decode  20.0    63.2665077671464        95.0   \n4821       vllm    OPT-13B  prefill  20.0   301.0933323083602        98.0   \n4822       vllm    OPT-13B   decode  20.0   73.99361755436871        98.0   \n4823       vllm    OPT-13B  prefill  20.0  385.84969787297405        99.0   \n4824       vllm    OPT-13B   decode  20.0   82.32240527977648        99.0   \n\n      tp_prefill  pp_prefill  tp_decode  pp_decode  ngpu  per_gpu_rate  \\\n1400           1           1          1          1     2           1.0   \n1401           1           1          1          1     2           1.0   \n1402           1           1          1          1     2           1.0   \n1403           1           1          1          1     2           1.0   \n1404           1           1          1          1     2           1.0   \n...          ...         ...        ...        ...   ...           ...   \n4820           4           1          0          0     4           5.0   \n4821           4           1          0          0     4           5.0   \n4822           4           1          0          0     4           5.0   \n4823           4           1          0          0     4           5.0   \n4824           4           1          0          0     4           5.0   \n\n      goodput@90  low_affin  \n1400         1.0       True  \n1401         1.0       True  \n1402         1.0       True  \n1403         0.0       True  \n1404         1.0       True  \n...          ...        ...  \n4820         5.0       True  \n4821         5.0       True  \n4822         5.0       True  \n4823         5.0       True  \n4824         5.0       True  \n\n[5250 rows x 14 columns]",
      "text/html": "<div>\n<style scoped>\n    .dataframe tbody tr th:only-of-type {\n        vertical-align: middle;\n    }\n\n    .dataframe tbody tr th {\n        vertical-align: top;\n    }\n\n    .dataframe thead th {\n        text-align: right;\n    }\n</style>\n<table border=\"1\" class=\"dataframe\">\n  <thead>\n    <tr style=\"text-align: right;\">\n      <th></th>\n      <th>backend</th>\n      <th>model_type</th>\n      <th>pd</th>\n      <th>rate</th>\n      <th>target</th>\n      <th>attainment</th>\n      <th>tp_prefill</th>\n      <th>pp_prefill</th>\n      <th>tp_decode</th>\n      <th>pp_decode</th>\n      <th>ngpu</th>\n      <th>per_gpu_rate</th>\n      <th>goodput@90</th>\n      <th>low_affin</th>\n    </tr>\n  </thead>\n  <tbody>\n    <tr>\n      <th>1400</th>\n      <td>distserve</td>\n      <td>OPT-13B</td>\n      <td>prefill</td>\n      <td>2.0</td>\n      <td>200.0</td>\n      <td>91.1</td>\n      <td>1</td>\n      <td>1</td>\n      <td>1</td>\n      <td>1</td>\n      <td>2</td>\n      <td>1.0</td>\n      <td>1.0</td>\n      <td>True</td>\n    </tr>\n    <tr>\n      <th>1401</th>\n      <td>distserve</td>\n      <td>OPT-13B</td>\n      <td>decode</td>\n      <td>2.0</td>\n      <td>100.0</td>\n      <td>100.0</td>\n      <td>1</td>\n      <td>1</td>\n      <td>1</td>\n      <td>1</td>\n      <td>2</td>\n      <td>1.0</td>\n      <td>1.0</td>\n      <td>True</td>\n    </tr>\n    <tr>\n      <th>1402</th>\n      <td>distserve</td>\n      <td>OPT-13B</td>\n      <td>both</td>\n      <td>2.0</td>\n      <td>(200.0, 100.0)</td>\n      <td>91.1</td>\n      <td>1</td>\n      <td>1</td>\n      <td>1</td>\n      <td>1</td>\n      <td>2</td>\n      <td>1.0</td>\n      <td>1.0</td>\n      <td>True</td>\n    </tr>\n    <tr>\n      <th>1403</th>\n      <td>distserve</td>\n      <td>OPT-13B</td>\n      <td>prefill</td>\n      <td>2.0</td>\n      <td>80.0</td>\n      <td>40.7</td>\n      <td>1</td>\n      <td>1</td>\n      <td>1</td>\n      <td>1</td>\n      <td>2</td>\n      <td>1.0</td>\n      <td>0.0</td>\n      <td>True</td>\n    </tr>\n    <tr>\n      <th>1404</th>\n      <td>distserve</td>\n      <td>OPT-13B</td>\n      <td>decode</td>\n      <td>2.0</td>\n      <td>40.0</td>\n      <td>99.4</td>\n      <td>1</td>\n      <td>1</td>\n      <td>1</td>\n      <td>1</td>\n      <td>2</td>\n      <td>1.0</td>\n      <td>1.0</td>\n      <td>True</td>\n    </tr>\n    <tr>\n      <th>...</th>\n      <td>...</td>\n      <td>...</td>\n      <td>...</td>\n      <td>...</td>\n      <td>...</td>\n      <td>...</td>\n      <td>...</td>\n      <td>...</td>\n      <td>...</td>\n      <td>...</td>\n      <td>...</td>\n      <td>...</td>\n      <td>...</td>\n      <td>...</td>\n    </tr>\n    <tr>\n      <th>4820</th>\n      <td>vllm</td>\n      <td>OPT-13B</td>\n      <td>decode</td>\n      <td>20.0</td>\n      <td>63.2665077671464</td>\n      <td>95.0</td>\n      <td>4</td>\n      <td>1</td>\n      <td>0</td>\n      <td>0</td>\n      <td>4</td>\n      <td>5.0</td>\n      <td>5.0</td>\n      <td>True</td>\n    </tr>\n    <tr>\n      <th>4821</th>\n      <td>vllm</td>\n      <td>OPT-13B</td>\n      <td>prefill</td>\n      <td>20.0</td>\n      <td>301.0933323083602</td>\n      <td>98.0</td>\n      <td>4</td>\n      <td>1</td>\n      <td>0</td>\n      <td>0</td>\n      <td>4</td>\n      <td>5.0</td>\n      <td>5.0</td>\n      <td>True</td>\n    </tr>\n    <tr>\n      <th>4822</th>\n      <td>vllm</td>\n      <td>OPT-13B</td>\n      <td>decode</td>\n      <td>20.0</td>\n      <td>73.99361755436871</td>\n      <td>98.0</td>\n      <td>4</td>\n      <td>1</td>\n      <td>0</td>\n      <td>0</td>\n      <td>4</td>\n      <td>5.0</td>\n      <td>5.0</td>\n      <td>True</td>\n    </tr>\n    <tr>\n      <th>4823</th>\n      <td>vllm</td>\n      <td>OPT-13B</td>\n      <td>prefill</td>\n      <td>20.0</td>\n      <td>385.84969787297405</td>\n      <td>99.0</td>\n      <td>4</td>\n      <td>1</td>\n      <td>0</td>\n      <td>0</td>\n      <td>4</td>\n      <td>5.0</td>\n      <td>5.0</td>\n      <td>True</td>\n    </tr>\n    <tr>\n      <th>4824</th>\n      <td>vllm</td>\n      <td>OPT-13B</td>\n      <td>decode</td>\n      <td>20.0</td>\n      <td>82.32240527977648</td>\n      <td>99.0</td>\n      <td>4</td>\n      <td>1</td>\n      <td>0</td>\n      <td>0</td>\n      <td>4</td>\n      <td>5.0</td>\n      <td>5.0</td>\n      <td>True</td>\n    </tr>\n  </tbody>\n</table>\n<p>5250 rows × 14 columns</p>\n</div>"
     },
     "execution_count": 59,
     "metadata": {},
     "output_type": "execute_result"
    }
   ],
   "source": [
    "big_df.sort_values(by=['backend', 'per_gpu_rate', 'tp_prefill', 'pp_prefill', 'tp_decode', 'pp_decode'])"
   ],
   "metadata": {
    "collapsed": false,
    "ExecuteTime": {
     "end_time": "2024-04-20T05:55:43.806853Z",
     "start_time": "2024-04-20T05:55:43.782222Z"
    }
   },
   "id": "60850f3b183a849",
   "execution_count": 59
  },
  {
   "cell_type": "code",
   "outputs": [],
   "source": [
    "target = '(200.0, 100.0)'\n",
    "figure_11_left_df = big_df[\n",
    "    (big_df['pd'] == 'both')\n",
    "    & (big_df['target'] == target)\n",
    "    ].copy()\n",
    "\n",
    "figure_11_left_df = figure_11_left_df.sort_values(by=[\n",
    "    'backend', 'tp_prefill', 'pp_prefill', 'tp_decode', 'pp_decode',\n",
    "    'rate'\n",
    "])\n",
    "# Choose the config with the best goodput in each group\n",
    "figure_11_distserve_high = figure_11_left_df[\n",
    "    (figure_11_left_df['backend'] == 'distserve')\n",
    "]\n",
    "figure_11_distserve_low = figure_11_left_df[\n",
    "    (figure_11_left_df['backend'] == 'distserve')\n",
    "    & (figure_11_left_df['low_affin'])\n",
    "    ]\n",
    "figure_11_vllm_high = figure_11_left_df[\n",
    "    (figure_11_left_df['backend'] == 'vllm')\n",
    "]\n",
    "figure_11_vllm_low = figure_11_left_df[\n",
    "    (figure_11_left_df['backend'] == 'vllm')\n",
    "    & (figure_11_left_df['pp_prefill'] == 1)\n",
    "    ]\n"
   ],
   "metadata": {
    "collapsed": false,
    "ExecuteTime": {
     "end_time": "2024-04-20T05:55:43.807143Z",
     "start_time": "2024-04-20T05:55:43.796839Z"
    }
   },
   "id": "cbddcd857c4232f2",
   "execution_count": 60
  },
  {
   "cell_type": "code",
   "outputs": [],
   "source": [
    "def find_best_config(df):\n",
    "    # Filter the DataFrame to include only rows where goodput@90 > 0\n",
    "    filtered_df = df[df['goodput@90'] > 0]\n",
    "\n",
    "    # Group by the specified columns and find the row with the maximum 'rate' in each group\n",
    "    grouped_df = filtered_df.groupby(['tp_prefill', 'pp_prefill', 'tp_decode', 'pp_decode'])\n",
    "    max_rate_df = grouped_df['rate'].idxmax()\n",
    "\n",
    "    # Retrieve the rows with the maximum 'rate' from the original DataFrame using the indices\n",
    "    best_configs = df.loc[max_rate_df]\n",
    "\n",
    "    # Return the DataFrame containing the best configurations\n",
    "    # return best_configs[['tp_prefill', 'pp_prefill', 'tp_decode', 'pp_decode']]\n",
    "    return best_configs\n"
   ],
   "metadata": {
    "collapsed": false,
    "ExecuteTime": {
     "end_time": "2024-04-20T05:55:43.810371Z",
     "start_time": "2024-04-20T05:55:43.803041Z"
    }
   },
   "id": "43d2d01e891961f7",
   "execution_count": 61
  },
  {
   "cell_type": "code",
   "outputs": [
    {
     "data": {
      "text/plain": "        backend model_type    pd  rate          target  attainment  \\\n1402  distserve    OPT-13B  both   2.0  (200.0, 100.0)        91.1   \n2952  distserve    OPT-13B  both   4.0  (200.0, 100.0)        79.7   \n3652  distserve    OPT-13B  both   6.0  (200.0, 100.0)        64.1   \n4102  distserve    OPT-13B  both   8.0  (200.0, 100.0)        27.4   \n2     distserve    OPT-13B  both  10.0  (200.0, 100.0)         9.9   \n...         ...        ...   ...   ...             ...         ...   \n4302  distserve    OPT-13B  both   8.0  (200.0, 100.0)        99.8   \n1127  distserve    OPT-13B  both  16.0  (200.0, 100.0)        99.6   \n2102  distserve    OPT-13B  both  24.0  (200.0, 100.0)        80.1   \n2777  distserve    OPT-13B  both  32.0  (200.0, 100.0)        45.2   \n3252  distserve    OPT-13B  both  40.0  (200.0, 100.0)         5.6   \n\n      tp_prefill  pp_prefill  tp_decode  pp_decode  ngpu  per_gpu_rate  \\\n1402           1           1          1          1     2           1.0   \n2952           1           1          1          1     2           2.0   \n3652           1           1          1          1     2           3.0   \n4102           1           1          1          1     2           4.0   \n2              1           1          1          1     2           5.0   \n...          ...         ...        ...        ...   ...           ...   \n4302           4           1          4          1     8           1.0   \n1127           4           1          4          1     8           2.0   \n2102           4           1          4          1     8           3.0   \n2777           4           1          4          1     8           4.0   \n3252           4           1          4          1     8           5.0   \n\n      goodput@90  low_affin  \n1402         1.0       True  \n2952         0.0       True  \n3652         0.0       True  \n4102         0.0       True  \n2            0.0       True  \n...          ...        ...  \n4302         1.0       True  \n1127         2.0       True  \n2102         0.0       True  \n2777         0.0       True  \n3252         0.0       True  \n\n[180 rows x 14 columns]",
      "text/html": "<div>\n<style scoped>\n    .dataframe tbody tr th:only-of-type {\n        vertical-align: middle;\n    }\n\n    .dataframe tbody tr th {\n        vertical-align: top;\n    }\n\n    .dataframe thead th {\n        text-align: right;\n    }\n</style>\n<table border=\"1\" class=\"dataframe\">\n  <thead>\n    <tr style=\"text-align: right;\">\n      <th></th>\n      <th>backend</th>\n      <th>model_type</th>\n      <th>pd</th>\n      <th>rate</th>\n      <th>target</th>\n      <th>attainment</th>\n      <th>tp_prefill</th>\n      <th>pp_prefill</th>\n      <th>tp_decode</th>\n      <th>pp_decode</th>\n      <th>ngpu</th>\n      <th>per_gpu_rate</th>\n      <th>goodput@90</th>\n      <th>low_affin</th>\n    </tr>\n  </thead>\n  <tbody>\n    <tr>\n      <th>1402</th>\n      <td>distserve</td>\n      <td>OPT-13B</td>\n      <td>both</td>\n      <td>2.0</td>\n      <td>(200.0, 100.0)</td>\n      <td>91.1</td>\n      <td>1</td>\n      <td>1</td>\n      <td>1</td>\n      <td>1</td>\n      <td>2</td>\n      <td>1.0</td>\n      <td>1.0</td>\n      <td>True</td>\n    </tr>\n    <tr>\n      <th>2952</th>\n      <td>distserve</td>\n      <td>OPT-13B</td>\n      <td>both</td>\n      <td>4.0</td>\n      <td>(200.0, 100.0)</td>\n      <td>79.7</td>\n      <td>1</td>\n      <td>1</td>\n      <td>1</td>\n      <td>1</td>\n      <td>2</td>\n      <td>2.0</td>\n      <td>0.0</td>\n      <td>True</td>\n    </tr>\n    <tr>\n      <th>3652</th>\n      <td>distserve</td>\n      <td>OPT-13B</td>\n      <td>both</td>\n      <td>6.0</td>\n      <td>(200.0, 100.0)</td>\n      <td>64.1</td>\n      <td>1</td>\n      <td>1</td>\n      <td>1</td>\n      <td>1</td>\n      <td>2</td>\n      <td>3.0</td>\n      <td>0.0</td>\n      <td>True</td>\n    </tr>\n    <tr>\n      <th>4102</th>\n      <td>distserve</td>\n      <td>OPT-13B</td>\n      <td>both</td>\n      <td>8.0</td>\n      <td>(200.0, 100.0)</td>\n      <td>27.4</td>\n      <td>1</td>\n      <td>1</td>\n      <td>1</td>\n      <td>1</td>\n      <td>2</td>\n      <td>4.0</td>\n      <td>0.0</td>\n      <td>True</td>\n    </tr>\n    <tr>\n      <th>2</th>\n      <td>distserve</td>\n      <td>OPT-13B</td>\n      <td>both</td>\n      <td>10.0</td>\n      <td>(200.0, 100.0)</td>\n      <td>9.9</td>\n      <td>1</td>\n      <td>1</td>\n      <td>1</td>\n      <td>1</td>\n      <td>2</td>\n      <td>5.0</td>\n      <td>0.0</td>\n      <td>True</td>\n    </tr>\n    <tr>\n      <th>...</th>\n      <td>...</td>\n      <td>...</td>\n      <td>...</td>\n      <td>...</td>\n      <td>...</td>\n      <td>...</td>\n      <td>...</td>\n      <td>...</td>\n      <td>...</td>\n      <td>...</td>\n      <td>...</td>\n      <td>...</td>\n      <td>...</td>\n      <td>...</td>\n    </tr>\n    <tr>\n      <th>4302</th>\n      <td>distserve</td>\n      <td>OPT-13B</td>\n      <td>both</td>\n      <td>8.0</td>\n      <td>(200.0, 100.0)</td>\n      <td>99.8</td>\n      <td>4</td>\n      <td>1</td>\n      <td>4</td>\n      <td>1</td>\n      <td>8</td>\n      <td>1.0</td>\n      <td>1.0</td>\n      <td>True</td>\n    </tr>\n    <tr>\n      <th>1127</th>\n      <td>distserve</td>\n      <td>OPT-13B</td>\n      <td>both</td>\n      <td>16.0</td>\n      <td>(200.0, 100.0)</td>\n      <td>99.6</td>\n      <td>4</td>\n      <td>1</td>\n      <td>4</td>\n      <td>1</td>\n      <td>8</td>\n      <td>2.0</td>\n      <td>2.0</td>\n      <td>True</td>\n    </tr>\n    <tr>\n      <th>2102</th>\n      <td>distserve</td>\n      <td>OPT-13B</td>\n      <td>both</td>\n      <td>24.0</td>\n      <td>(200.0, 100.0)</td>\n      <td>80.1</td>\n      <td>4</td>\n      <td>1</td>\n      <td>4</td>\n      <td>1</td>\n      <td>8</td>\n      <td>3.0</td>\n      <td>0.0</td>\n      <td>True</td>\n    </tr>\n    <tr>\n      <th>2777</th>\n      <td>distserve</td>\n      <td>OPT-13B</td>\n      <td>both</td>\n      <td>32.0</td>\n      <td>(200.0, 100.0)</td>\n      <td>45.2</td>\n      <td>4</td>\n      <td>1</td>\n      <td>4</td>\n      <td>1</td>\n      <td>8</td>\n      <td>4.0</td>\n      <td>0.0</td>\n      <td>True</td>\n    </tr>\n    <tr>\n      <th>3252</th>\n      <td>distserve</td>\n      <td>OPT-13B</td>\n      <td>both</td>\n      <td>40.0</td>\n      <td>(200.0, 100.0)</td>\n      <td>5.6</td>\n      <td>4</td>\n      <td>1</td>\n      <td>4</td>\n      <td>1</td>\n      <td>8</td>\n      <td>5.0</td>\n      <td>0.0</td>\n      <td>True</td>\n    </tr>\n  </tbody>\n</table>\n<p>180 rows × 14 columns</p>\n</div>"
     },
     "execution_count": 66,
     "metadata": {},
     "output_type": "execute_result"
    }
   ],
   "source": [
    "figure_11_distserve_high"
   ],
   "metadata": {
    "collapsed": false,
    "ExecuteTime": {
     "end_time": "2024-04-20T05:58:33.931211Z",
     "start_time": "2024-04-20T05:58:33.921266Z"
    }
   },
   "id": "eefd058d2a113f3b",
   "execution_count": 66
  },
  {
   "cell_type": "code",
   "outputs": [
    {
     "data": {
      "text/plain": "        backend model_type    pd  rate          target  attainment  \\\n1402  distserve    OPT-13B  both   2.0  (200.0, 100.0)        91.1   \n2952  distserve    OPT-13B  both   4.0  (200.0, 100.0)        79.7   \n3652  distserve    OPT-13B  both   6.0  (200.0, 100.0)        64.1   \n4102  distserve    OPT-13B  both   8.0  (200.0, 100.0)        27.4   \n2     distserve    OPT-13B  both  10.0  (200.0, 100.0)         9.9   \n...         ...        ...   ...   ...             ...         ...   \n4302  distserve    OPT-13B  both   8.0  (200.0, 100.0)        99.8   \n1127  distserve    OPT-13B  both  16.0  (200.0, 100.0)        99.6   \n2102  distserve    OPT-13B  both  24.0  (200.0, 100.0)        80.1   \n2777  distserve    OPT-13B  both  32.0  (200.0, 100.0)        45.2   \n3252  distserve    OPT-13B  both  40.0  (200.0, 100.0)         5.6   \n\n      tp_prefill  pp_prefill  tp_decode  pp_decode  ngpu  per_gpu_rate  \\\n1402           1           1          1          1     2           1.0   \n2952           1           1          1          1     2           2.0   \n3652           1           1          1          1     2           3.0   \n4102           1           1          1          1     2           4.0   \n2              1           1          1          1     2           5.0   \n...          ...         ...        ...        ...   ...           ...   \n4302           4           1          4          1     8           1.0   \n1127           4           1          4          1     8           2.0   \n2102           4           1          4          1     8           3.0   \n2777           4           1          4          1     8           4.0   \n3252           4           1          4          1     8           5.0   \n\n      goodput@90  low_affin  \n1402         1.0       True  \n2952         0.0       True  \n3652         0.0       True  \n4102         0.0       True  \n2            0.0       True  \n...          ...        ...  \n4302         1.0       True  \n1127         2.0       True  \n2102         0.0       True  \n2777         0.0       True  \n3252         0.0       True  \n\n[150 rows x 14 columns]",
      "text/html": "<div>\n<style scoped>\n    .dataframe tbody tr th:only-of-type {\n        vertical-align: middle;\n    }\n\n    .dataframe tbody tr th {\n        vertical-align: top;\n    }\n\n    .dataframe thead th {\n        text-align: right;\n    }\n</style>\n<table border=\"1\" class=\"dataframe\">\n  <thead>\n    <tr style=\"text-align: right;\">\n      <th></th>\n      <th>backend</th>\n      <th>model_type</th>\n      <th>pd</th>\n      <th>rate</th>\n      <th>target</th>\n      <th>attainment</th>\n      <th>tp_prefill</th>\n      <th>pp_prefill</th>\n      <th>tp_decode</th>\n      <th>pp_decode</th>\n      <th>ngpu</th>\n      <th>per_gpu_rate</th>\n      <th>goodput@90</th>\n      <th>low_affin</th>\n    </tr>\n  </thead>\n  <tbody>\n    <tr>\n      <th>1402</th>\n      <td>distserve</td>\n      <td>OPT-13B</td>\n      <td>both</td>\n      <td>2.0</td>\n      <td>(200.0, 100.0)</td>\n      <td>91.1</td>\n      <td>1</td>\n      <td>1</td>\n      <td>1</td>\n      <td>1</td>\n      <td>2</td>\n      <td>1.0</td>\n      <td>1.0</td>\n      <td>True</td>\n    </tr>\n    <tr>\n      <th>2952</th>\n      <td>distserve</td>\n      <td>OPT-13B</td>\n      <td>both</td>\n      <td>4.0</td>\n      <td>(200.0, 100.0)</td>\n      <td>79.7</td>\n      <td>1</td>\n      <td>1</td>\n      <td>1</td>\n      <td>1</td>\n      <td>2</td>\n      <td>2.0</td>\n      <td>0.0</td>\n      <td>True</td>\n    </tr>\n    <tr>\n      <th>3652</th>\n      <td>distserve</td>\n      <td>OPT-13B</td>\n      <td>both</td>\n      <td>6.0</td>\n      <td>(200.0, 100.0)</td>\n      <td>64.1</td>\n      <td>1</td>\n      <td>1</td>\n      <td>1</td>\n      <td>1</td>\n      <td>2</td>\n      <td>3.0</td>\n      <td>0.0</td>\n      <td>True</td>\n    </tr>\n    <tr>\n      <th>4102</th>\n      <td>distserve</td>\n      <td>OPT-13B</td>\n      <td>both</td>\n      <td>8.0</td>\n      <td>(200.0, 100.0)</td>\n      <td>27.4</td>\n      <td>1</td>\n      <td>1</td>\n      <td>1</td>\n      <td>1</td>\n      <td>2</td>\n      <td>4.0</td>\n      <td>0.0</td>\n      <td>True</td>\n    </tr>\n    <tr>\n      <th>2</th>\n      <td>distserve</td>\n      <td>OPT-13B</td>\n      <td>both</td>\n      <td>10.0</td>\n      <td>(200.0, 100.0)</td>\n      <td>9.9</td>\n      <td>1</td>\n      <td>1</td>\n      <td>1</td>\n      <td>1</td>\n      <td>2</td>\n      <td>5.0</td>\n      <td>0.0</td>\n      <td>True</td>\n    </tr>\n    <tr>\n      <th>...</th>\n      <td>...</td>\n      <td>...</td>\n      <td>...</td>\n      <td>...</td>\n      <td>...</td>\n      <td>...</td>\n      <td>...</td>\n      <td>...</td>\n      <td>...</td>\n      <td>...</td>\n      <td>...</td>\n      <td>...</td>\n      <td>...</td>\n      <td>...</td>\n    </tr>\n    <tr>\n      <th>4302</th>\n      <td>distserve</td>\n      <td>OPT-13B</td>\n      <td>both</td>\n      <td>8.0</td>\n      <td>(200.0, 100.0)</td>\n      <td>99.8</td>\n      <td>4</td>\n      <td>1</td>\n      <td>4</td>\n      <td>1</td>\n      <td>8</td>\n      <td>1.0</td>\n      <td>1.0</td>\n      <td>True</td>\n    </tr>\n    <tr>\n      <th>1127</th>\n      <td>distserve</td>\n      <td>OPT-13B</td>\n      <td>both</td>\n      <td>16.0</td>\n      <td>(200.0, 100.0)</td>\n      <td>99.6</td>\n      <td>4</td>\n      <td>1</td>\n      <td>4</td>\n      <td>1</td>\n      <td>8</td>\n      <td>2.0</td>\n      <td>2.0</td>\n      <td>True</td>\n    </tr>\n    <tr>\n      <th>2102</th>\n      <td>distserve</td>\n      <td>OPT-13B</td>\n      <td>both</td>\n      <td>24.0</td>\n      <td>(200.0, 100.0)</td>\n      <td>80.1</td>\n      <td>4</td>\n      <td>1</td>\n      <td>4</td>\n      <td>1</td>\n      <td>8</td>\n      <td>3.0</td>\n      <td>0.0</td>\n      <td>True</td>\n    </tr>\n    <tr>\n      <th>2777</th>\n      <td>distserve</td>\n      <td>OPT-13B</td>\n      <td>both</td>\n      <td>32.0</td>\n      <td>(200.0, 100.0)</td>\n      <td>45.2</td>\n      <td>4</td>\n      <td>1</td>\n      <td>4</td>\n      <td>1</td>\n      <td>8</td>\n      <td>4.0</td>\n      <td>0.0</td>\n      <td>True</td>\n    </tr>\n    <tr>\n      <th>3252</th>\n      <td>distserve</td>\n      <td>OPT-13B</td>\n      <td>both</td>\n      <td>40.0</td>\n      <td>(200.0, 100.0)</td>\n      <td>5.6</td>\n      <td>4</td>\n      <td>1</td>\n      <td>4</td>\n      <td>1</td>\n      <td>8</td>\n      <td>5.0</td>\n      <td>0.0</td>\n      <td>True</td>\n    </tr>\n  </tbody>\n</table>\n<p>150 rows × 14 columns</p>\n</div>"
     },
     "execution_count": 67,
     "metadata": {},
     "output_type": "execute_result"
    }
   ],
   "source": [
    "figure_11_distserve_low"
   ],
   "metadata": {
    "collapsed": false,
    "ExecuteTime": {
     "end_time": "2024-04-20T05:58:34.855973Z",
     "start_time": "2024-04-20T05:58:34.846638Z"
    }
   },
   "id": "919167a14ff23dc2",
   "execution_count": 67
  },
  {
   "cell_type": "code",
   "outputs": [
    {
     "data": {
      "text/plain": "     backend model_type    pd  rate          target  attainment  tp_prefill  \\\n4502    vllm    OPT-13B  both   1.0  (200.0, 100.0)        92.3           1   \n4702    vllm    OPT-13B  both   2.0  (200.0, 100.0)        84.3           1   \n4852    vllm    OPT-13B  both   3.0  (200.0, 100.0)        78.1           1   \n4902    vllm    OPT-13B  both   4.0  (200.0, 100.0)        70.8           1   \n5052    vllm    OPT-13B  both   5.0  (200.0, 100.0)        58.1           1   \n4727    vllm    OPT-13B  both   2.0  (200.0, 100.0)        89.9           1   \n4927    vllm    OPT-13B  both   4.0  (200.0, 100.0)        85.6           1   \n5077    vllm    OPT-13B  both   6.0  (200.0, 100.0)        72.0           1   \n5127    vllm    OPT-13B  both   8.0  (200.0, 100.0)        36.1           1   \n4527    vllm    OPT-13B  both  10.0  (200.0, 100.0)        12.9           1   \n5152    vllm    OPT-13B  both   8.0  (200.0, 100.0)         0.0           1   \n4627    vllm    OPT-13B  both  16.0  (200.0, 100.0)         0.0           1   \n4827    vllm    OPT-13B  both  24.0  (200.0, 100.0)         0.0           1   \n4877    vllm    OPT-13B  both  32.0  (200.0, 100.0)         0.0           1   \n5027    vllm    OPT-13B  both  40.0  (200.0, 100.0)         0.0           1   \n4752    vllm    OPT-13B  both   2.0  (200.0, 100.0)        98.4           2   \n4952    vllm    OPT-13B  both   4.0  (200.0, 100.0)        96.1           2   \n5102    vllm    OPT-13B  both   6.0  (200.0, 100.0)        88.8           2   \n5177    vllm    OPT-13B  both   8.0  (200.0, 100.0)        84.6           2   \n4552    vllm    OPT-13B  both  10.0  (200.0, 100.0)        63.4           2   \n4977    vllm    OPT-13B  both   4.0  (200.0, 100.0)        99.9           2   \n5202    vllm    OPT-13B  both   8.0  (200.0, 100.0)        96.7           2   \n4577    vllm    OPT-13B  both  12.0  (200.0, 100.0)        82.9           2   \n4652    vllm    OPT-13B  both  16.0  (200.0, 100.0)        35.4           2   \n4777    vllm    OPT-13B  both  20.0  (200.0, 100.0)        13.2           2   \n5002    vllm    OPT-13B  both   4.0  (200.0, 100.0)       100.0           4   \n5227    vllm    OPT-13B  both   8.0  (200.0, 100.0)        99.1           4   \n4602    vllm    OPT-13B  both  12.0  (200.0, 100.0)        98.6           4   \n4677    vllm    OPT-13B  both  16.0  (200.0, 100.0)        96.9           4   \n4802    vllm    OPT-13B  both  20.0  (200.0, 100.0)        93.7           4   \n\n      pp_prefill  tp_decode  pp_decode  ngpu  per_gpu_rate  goodput@90  \\\n4502           1          0          0     1           1.0         1.0   \n4702           1          0          0     1           2.0         0.0   \n4852           1          0          0     1           3.0         0.0   \n4902           1          0          0     1           4.0         0.0   \n5052           1          0          0     1           5.0         0.0   \n4727           2          0          0     2           1.0         0.0   \n4927           2          0          0     2           2.0         0.0   \n5077           2          0          0     2           3.0         0.0   \n5127           2          0          0     2           4.0         0.0   \n4527           2          0          0     2           5.0         0.0   \n5152           8          0          0     8           1.0         0.0   \n4627           8          0          0     8           2.0         0.0   \n4827           8          0          0     8           3.0         0.0   \n4877           8          0          0     8           4.0         0.0   \n5027           8          0          0     8           5.0         0.0   \n4752           1          0          0     2           1.0         1.0   \n4952           1          0          0     2           2.0         2.0   \n5102           1          0          0     2           3.0         0.0   \n5177           1          0          0     2           4.0         0.0   \n4552           1          0          0     2           5.0         0.0   \n4977           2          0          0     4           1.0         1.0   \n5202           2          0          0     4           2.0         2.0   \n4577           2          0          0     4           3.0         0.0   \n4652           2          0          0     4           4.0         0.0   \n4777           2          0          0     4           5.0         0.0   \n5002           1          0          0     4           1.0         1.0   \n5227           1          0          0     4           2.0         2.0   \n4602           1          0          0     4           3.0         3.0   \n4677           1          0          0     4           4.0         4.0   \n4802           1          0          0     4           5.0         5.0   \n\n      low_affin  \n4502       True  \n4702       True  \n4852       True  \n4902       True  \n5052       True  \n4727       True  \n4927       True  \n5077       True  \n5127       True  \n4527       True  \n5152       True  \n4627       True  \n4827       True  \n4877       True  \n5027       True  \n4752       True  \n4952       True  \n5102       True  \n5177       True  \n4552       True  \n4977       True  \n5202       True  \n4577       True  \n4652       True  \n4777       True  \n5002       True  \n5227       True  \n4602       True  \n4677       True  \n4802       True  ",
      "text/html": "<div>\n<style scoped>\n    .dataframe tbody tr th:only-of-type {\n        vertical-align: middle;\n    }\n\n    .dataframe tbody tr th {\n        vertical-align: top;\n    }\n\n    .dataframe thead th {\n        text-align: right;\n    }\n</style>\n<table border=\"1\" class=\"dataframe\">\n  <thead>\n    <tr style=\"text-align: right;\">\n      <th></th>\n      <th>backend</th>\n      <th>model_type</th>\n      <th>pd</th>\n      <th>rate</th>\n      <th>target</th>\n      <th>attainment</th>\n      <th>tp_prefill</th>\n      <th>pp_prefill</th>\n      <th>tp_decode</th>\n      <th>pp_decode</th>\n      <th>ngpu</th>\n      <th>per_gpu_rate</th>\n      <th>goodput@90</th>\n      <th>low_affin</th>\n    </tr>\n  </thead>\n  <tbody>\n    <tr>\n      <th>4502</th>\n      <td>vllm</td>\n      <td>OPT-13B</td>\n      <td>both</td>\n      <td>1.0</td>\n      <td>(200.0, 100.0)</td>\n      <td>92.3</td>\n      <td>1</td>\n      <td>1</td>\n      <td>0</td>\n      <td>0</td>\n      <td>1</td>\n      <td>1.0</td>\n      <td>1.0</td>\n      <td>True</td>\n    </tr>\n    <tr>\n      <th>4702</th>\n      <td>vllm</td>\n      <td>OPT-13B</td>\n      <td>both</td>\n      <td>2.0</td>\n      <td>(200.0, 100.0)</td>\n      <td>84.3</td>\n      <td>1</td>\n      <td>1</td>\n      <td>0</td>\n      <td>0</td>\n      <td>1</td>\n      <td>2.0</td>\n      <td>0.0</td>\n      <td>True</td>\n    </tr>\n    <tr>\n      <th>4852</th>\n      <td>vllm</td>\n      <td>OPT-13B</td>\n      <td>both</td>\n      <td>3.0</td>\n      <td>(200.0, 100.0)</td>\n      <td>78.1</td>\n      <td>1</td>\n      <td>1</td>\n      <td>0</td>\n      <td>0</td>\n      <td>1</td>\n      <td>3.0</td>\n      <td>0.0</td>\n      <td>True</td>\n    </tr>\n    <tr>\n      <th>4902</th>\n      <td>vllm</td>\n      <td>OPT-13B</td>\n      <td>both</td>\n      <td>4.0</td>\n      <td>(200.0, 100.0)</td>\n      <td>70.8</td>\n      <td>1</td>\n      <td>1</td>\n      <td>0</td>\n      <td>0</td>\n      <td>1</td>\n      <td>4.0</td>\n      <td>0.0</td>\n      <td>True</td>\n    </tr>\n    <tr>\n      <th>5052</th>\n      <td>vllm</td>\n      <td>OPT-13B</td>\n      <td>both</td>\n      <td>5.0</td>\n      <td>(200.0, 100.0)</td>\n      <td>58.1</td>\n      <td>1</td>\n      <td>1</td>\n      <td>0</td>\n      <td>0</td>\n      <td>1</td>\n      <td>5.0</td>\n      <td>0.0</td>\n      <td>True</td>\n    </tr>\n    <tr>\n      <th>4727</th>\n      <td>vllm</td>\n      <td>OPT-13B</td>\n      <td>both</td>\n      <td>2.0</td>\n      <td>(200.0, 100.0)</td>\n      <td>89.9</td>\n      <td>1</td>\n      <td>2</td>\n      <td>0</td>\n      <td>0</td>\n      <td>2</td>\n      <td>1.0</td>\n      <td>0.0</td>\n      <td>True</td>\n    </tr>\n    <tr>\n      <th>4927</th>\n      <td>vllm</td>\n      <td>OPT-13B</td>\n      <td>both</td>\n      <td>4.0</td>\n      <td>(200.0, 100.0)</td>\n      <td>85.6</td>\n      <td>1</td>\n      <td>2</td>\n      <td>0</td>\n      <td>0</td>\n      <td>2</td>\n      <td>2.0</td>\n      <td>0.0</td>\n      <td>True</td>\n    </tr>\n    <tr>\n      <th>5077</th>\n      <td>vllm</td>\n      <td>OPT-13B</td>\n      <td>both</td>\n      <td>6.0</td>\n      <td>(200.0, 100.0)</td>\n      <td>72.0</td>\n      <td>1</td>\n      <td>2</td>\n      <td>0</td>\n      <td>0</td>\n      <td>2</td>\n      <td>3.0</td>\n      <td>0.0</td>\n      <td>True</td>\n    </tr>\n    <tr>\n      <th>5127</th>\n      <td>vllm</td>\n      <td>OPT-13B</td>\n      <td>both</td>\n      <td>8.0</td>\n      <td>(200.0, 100.0)</td>\n      <td>36.1</td>\n      <td>1</td>\n      <td>2</td>\n      <td>0</td>\n      <td>0</td>\n      <td>2</td>\n      <td>4.0</td>\n      <td>0.0</td>\n      <td>True</td>\n    </tr>\n    <tr>\n      <th>4527</th>\n      <td>vllm</td>\n      <td>OPT-13B</td>\n      <td>both</td>\n      <td>10.0</td>\n      <td>(200.0, 100.0)</td>\n      <td>12.9</td>\n      <td>1</td>\n      <td>2</td>\n      <td>0</td>\n      <td>0</td>\n      <td>2</td>\n      <td>5.0</td>\n      <td>0.0</td>\n      <td>True</td>\n    </tr>\n    <tr>\n      <th>5152</th>\n      <td>vllm</td>\n      <td>OPT-13B</td>\n      <td>both</td>\n      <td>8.0</td>\n      <td>(200.0, 100.0)</td>\n      <td>0.0</td>\n      <td>1</td>\n      <td>8</td>\n      <td>0</td>\n      <td>0</td>\n      <td>8</td>\n      <td>1.0</td>\n      <td>0.0</td>\n      <td>True</td>\n    </tr>\n    <tr>\n      <th>4627</th>\n      <td>vllm</td>\n      <td>OPT-13B</td>\n      <td>both</td>\n      <td>16.0</td>\n      <td>(200.0, 100.0)</td>\n      <td>0.0</td>\n      <td>1</td>\n      <td>8</td>\n      <td>0</td>\n      <td>0</td>\n      <td>8</td>\n      <td>2.0</td>\n      <td>0.0</td>\n      <td>True</td>\n    </tr>\n    <tr>\n      <th>4827</th>\n      <td>vllm</td>\n      <td>OPT-13B</td>\n      <td>both</td>\n      <td>24.0</td>\n      <td>(200.0, 100.0)</td>\n      <td>0.0</td>\n      <td>1</td>\n      <td>8</td>\n      <td>0</td>\n      <td>0</td>\n      <td>8</td>\n      <td>3.0</td>\n      <td>0.0</td>\n      <td>True</td>\n    </tr>\n    <tr>\n      <th>4877</th>\n      <td>vllm</td>\n      <td>OPT-13B</td>\n      <td>both</td>\n      <td>32.0</td>\n      <td>(200.0, 100.0)</td>\n      <td>0.0</td>\n      <td>1</td>\n      <td>8</td>\n      <td>0</td>\n      <td>0</td>\n      <td>8</td>\n      <td>4.0</td>\n      <td>0.0</td>\n      <td>True</td>\n    </tr>\n    <tr>\n      <th>5027</th>\n      <td>vllm</td>\n      <td>OPT-13B</td>\n      <td>both</td>\n      <td>40.0</td>\n      <td>(200.0, 100.0)</td>\n      <td>0.0</td>\n      <td>1</td>\n      <td>8</td>\n      <td>0</td>\n      <td>0</td>\n      <td>8</td>\n      <td>5.0</td>\n      <td>0.0</td>\n      <td>True</td>\n    </tr>\n    <tr>\n      <th>4752</th>\n      <td>vllm</td>\n      <td>OPT-13B</td>\n      <td>both</td>\n      <td>2.0</td>\n      <td>(200.0, 100.0)</td>\n      <td>98.4</td>\n      <td>2</td>\n      <td>1</td>\n      <td>0</td>\n      <td>0</td>\n      <td>2</td>\n      <td>1.0</td>\n      <td>1.0</td>\n      <td>True</td>\n    </tr>\n    <tr>\n      <th>4952</th>\n      <td>vllm</td>\n      <td>OPT-13B</td>\n      <td>both</td>\n      <td>4.0</td>\n      <td>(200.0, 100.0)</td>\n      <td>96.1</td>\n      <td>2</td>\n      <td>1</td>\n      <td>0</td>\n      <td>0</td>\n      <td>2</td>\n      <td>2.0</td>\n      <td>2.0</td>\n      <td>True</td>\n    </tr>\n    <tr>\n      <th>5102</th>\n      <td>vllm</td>\n      <td>OPT-13B</td>\n      <td>both</td>\n      <td>6.0</td>\n      <td>(200.0, 100.0)</td>\n      <td>88.8</td>\n      <td>2</td>\n      <td>1</td>\n      <td>0</td>\n      <td>0</td>\n      <td>2</td>\n      <td>3.0</td>\n      <td>0.0</td>\n      <td>True</td>\n    </tr>\n    <tr>\n      <th>5177</th>\n      <td>vllm</td>\n      <td>OPT-13B</td>\n      <td>both</td>\n      <td>8.0</td>\n      <td>(200.0, 100.0)</td>\n      <td>84.6</td>\n      <td>2</td>\n      <td>1</td>\n      <td>0</td>\n      <td>0</td>\n      <td>2</td>\n      <td>4.0</td>\n      <td>0.0</td>\n      <td>True</td>\n    </tr>\n    <tr>\n      <th>4552</th>\n      <td>vllm</td>\n      <td>OPT-13B</td>\n      <td>both</td>\n      <td>10.0</td>\n      <td>(200.0, 100.0)</td>\n      <td>63.4</td>\n      <td>2</td>\n      <td>1</td>\n      <td>0</td>\n      <td>0</td>\n      <td>2</td>\n      <td>5.0</td>\n      <td>0.0</td>\n      <td>True</td>\n    </tr>\n    <tr>\n      <th>4977</th>\n      <td>vllm</td>\n      <td>OPT-13B</td>\n      <td>both</td>\n      <td>4.0</td>\n      <td>(200.0, 100.0)</td>\n      <td>99.9</td>\n      <td>2</td>\n      <td>2</td>\n      <td>0</td>\n      <td>0</td>\n      <td>4</td>\n      <td>1.0</td>\n      <td>1.0</td>\n      <td>True</td>\n    </tr>\n    <tr>\n      <th>5202</th>\n      <td>vllm</td>\n      <td>OPT-13B</td>\n      <td>both</td>\n      <td>8.0</td>\n      <td>(200.0, 100.0)</td>\n      <td>96.7</td>\n      <td>2</td>\n      <td>2</td>\n      <td>0</td>\n      <td>0</td>\n      <td>4</td>\n      <td>2.0</td>\n      <td>2.0</td>\n      <td>True</td>\n    </tr>\n    <tr>\n      <th>4577</th>\n      <td>vllm</td>\n      <td>OPT-13B</td>\n      <td>both</td>\n      <td>12.0</td>\n      <td>(200.0, 100.0)</td>\n      <td>82.9</td>\n      <td>2</td>\n      <td>2</td>\n      <td>0</td>\n      <td>0</td>\n      <td>4</td>\n      <td>3.0</td>\n      <td>0.0</td>\n      <td>True</td>\n    </tr>\n    <tr>\n      <th>4652</th>\n      <td>vllm</td>\n      <td>OPT-13B</td>\n      <td>both</td>\n      <td>16.0</td>\n      <td>(200.0, 100.0)</td>\n      <td>35.4</td>\n      <td>2</td>\n      <td>2</td>\n      <td>0</td>\n      <td>0</td>\n      <td>4</td>\n      <td>4.0</td>\n      <td>0.0</td>\n      <td>True</td>\n    </tr>\n    <tr>\n      <th>4777</th>\n      <td>vllm</td>\n      <td>OPT-13B</td>\n      <td>both</td>\n      <td>20.0</td>\n      <td>(200.0, 100.0)</td>\n      <td>13.2</td>\n      <td>2</td>\n      <td>2</td>\n      <td>0</td>\n      <td>0</td>\n      <td>4</td>\n      <td>5.0</td>\n      <td>0.0</td>\n      <td>True</td>\n    </tr>\n    <tr>\n      <th>5002</th>\n      <td>vllm</td>\n      <td>OPT-13B</td>\n      <td>both</td>\n      <td>4.0</td>\n      <td>(200.0, 100.0)</td>\n      <td>100.0</td>\n      <td>4</td>\n      <td>1</td>\n      <td>0</td>\n      <td>0</td>\n      <td>4</td>\n      <td>1.0</td>\n      <td>1.0</td>\n      <td>True</td>\n    </tr>\n    <tr>\n      <th>5227</th>\n      <td>vllm</td>\n      <td>OPT-13B</td>\n      <td>both</td>\n      <td>8.0</td>\n      <td>(200.0, 100.0)</td>\n      <td>99.1</td>\n      <td>4</td>\n      <td>1</td>\n      <td>0</td>\n      <td>0</td>\n      <td>4</td>\n      <td>2.0</td>\n      <td>2.0</td>\n      <td>True</td>\n    </tr>\n    <tr>\n      <th>4602</th>\n      <td>vllm</td>\n      <td>OPT-13B</td>\n      <td>both</td>\n      <td>12.0</td>\n      <td>(200.0, 100.0)</td>\n      <td>98.6</td>\n      <td>4</td>\n      <td>1</td>\n      <td>0</td>\n      <td>0</td>\n      <td>4</td>\n      <td>3.0</td>\n      <td>3.0</td>\n      <td>True</td>\n    </tr>\n    <tr>\n      <th>4677</th>\n      <td>vllm</td>\n      <td>OPT-13B</td>\n      <td>both</td>\n      <td>16.0</td>\n      <td>(200.0, 100.0)</td>\n      <td>96.9</td>\n      <td>4</td>\n      <td>1</td>\n      <td>0</td>\n      <td>0</td>\n      <td>4</td>\n      <td>4.0</td>\n      <td>4.0</td>\n      <td>True</td>\n    </tr>\n    <tr>\n      <th>4802</th>\n      <td>vllm</td>\n      <td>OPT-13B</td>\n      <td>both</td>\n      <td>20.0</td>\n      <td>(200.0, 100.0)</td>\n      <td>93.7</td>\n      <td>4</td>\n      <td>1</td>\n      <td>0</td>\n      <td>0</td>\n      <td>4</td>\n      <td>5.0</td>\n      <td>5.0</td>\n      <td>True</td>\n    </tr>\n  </tbody>\n</table>\n</div>"
     },
     "execution_count": 68,
     "metadata": {},
     "output_type": "execute_result"
    }
   ],
   "source": [
    "figure_11_vllm_high"
   ],
   "metadata": {
    "collapsed": false,
    "ExecuteTime": {
     "end_time": "2024-04-20T05:58:35.141063Z",
     "start_time": "2024-04-20T05:58:35.133520Z"
    }
   },
   "id": "afb7980c8f37f3ab",
   "execution_count": 68
  },
  {
   "cell_type": "code",
   "outputs": [
    {
     "data": {
      "text/plain": "     backend model_type    pd  rate          target  attainment  tp_prefill  \\\n4502    vllm    OPT-13B  both   1.0  (200.0, 100.0)        92.3           1   \n4702    vllm    OPT-13B  both   2.0  (200.0, 100.0)        84.3           1   \n4852    vllm    OPT-13B  both   3.0  (200.0, 100.0)        78.1           1   \n4902    vllm    OPT-13B  both   4.0  (200.0, 100.0)        70.8           1   \n5052    vllm    OPT-13B  both   5.0  (200.0, 100.0)        58.1           1   \n4752    vllm    OPT-13B  both   2.0  (200.0, 100.0)        98.4           2   \n4952    vllm    OPT-13B  both   4.0  (200.0, 100.0)        96.1           2   \n5102    vllm    OPT-13B  both   6.0  (200.0, 100.0)        88.8           2   \n5177    vllm    OPT-13B  both   8.0  (200.0, 100.0)        84.6           2   \n4552    vllm    OPT-13B  both  10.0  (200.0, 100.0)        63.4           2   \n5002    vllm    OPT-13B  both   4.0  (200.0, 100.0)       100.0           4   \n5227    vllm    OPT-13B  both   8.0  (200.0, 100.0)        99.1           4   \n4602    vllm    OPT-13B  both  12.0  (200.0, 100.0)        98.6           4   \n4677    vllm    OPT-13B  both  16.0  (200.0, 100.0)        96.9           4   \n4802    vllm    OPT-13B  both  20.0  (200.0, 100.0)        93.7           4   \n\n      pp_prefill  tp_decode  pp_decode  ngpu  per_gpu_rate  goodput@90  \\\n4502           1          0          0     1           1.0         1.0   \n4702           1          0          0     1           2.0         0.0   \n4852           1          0          0     1           3.0         0.0   \n4902           1          0          0     1           4.0         0.0   \n5052           1          0          0     1           5.0         0.0   \n4752           1          0          0     2           1.0         1.0   \n4952           1          0          0     2           2.0         2.0   \n5102           1          0          0     2           3.0         0.0   \n5177           1          0          0     2           4.0         0.0   \n4552           1          0          0     2           5.0         0.0   \n5002           1          0          0     4           1.0         1.0   \n5227           1          0          0     4           2.0         2.0   \n4602           1          0          0     4           3.0         3.0   \n4677           1          0          0     4           4.0         4.0   \n4802           1          0          0     4           5.0         5.0   \n\n      low_affin  \n4502       True  \n4702       True  \n4852       True  \n4902       True  \n5052       True  \n4752       True  \n4952       True  \n5102       True  \n5177       True  \n4552       True  \n5002       True  \n5227       True  \n4602       True  \n4677       True  \n4802       True  ",
      "text/html": "<div>\n<style scoped>\n    .dataframe tbody tr th:only-of-type {\n        vertical-align: middle;\n    }\n\n    .dataframe tbody tr th {\n        vertical-align: top;\n    }\n\n    .dataframe thead th {\n        text-align: right;\n    }\n</style>\n<table border=\"1\" class=\"dataframe\">\n  <thead>\n    <tr style=\"text-align: right;\">\n      <th></th>\n      <th>backend</th>\n      <th>model_type</th>\n      <th>pd</th>\n      <th>rate</th>\n      <th>target</th>\n      <th>attainment</th>\n      <th>tp_prefill</th>\n      <th>pp_prefill</th>\n      <th>tp_decode</th>\n      <th>pp_decode</th>\n      <th>ngpu</th>\n      <th>per_gpu_rate</th>\n      <th>goodput@90</th>\n      <th>low_affin</th>\n    </tr>\n  </thead>\n  <tbody>\n    <tr>\n      <th>4502</th>\n      <td>vllm</td>\n      <td>OPT-13B</td>\n      <td>both</td>\n      <td>1.0</td>\n      <td>(200.0, 100.0)</td>\n      <td>92.3</td>\n      <td>1</td>\n      <td>1</td>\n      <td>0</td>\n      <td>0</td>\n      <td>1</td>\n      <td>1.0</td>\n      <td>1.0</td>\n      <td>True</td>\n    </tr>\n    <tr>\n      <th>4702</th>\n      <td>vllm</td>\n      <td>OPT-13B</td>\n      <td>both</td>\n      <td>2.0</td>\n      <td>(200.0, 100.0)</td>\n      <td>84.3</td>\n      <td>1</td>\n      <td>1</td>\n      <td>0</td>\n      <td>0</td>\n      <td>1</td>\n      <td>2.0</td>\n      <td>0.0</td>\n      <td>True</td>\n    </tr>\n    <tr>\n      <th>4852</th>\n      <td>vllm</td>\n      <td>OPT-13B</td>\n      <td>both</td>\n      <td>3.0</td>\n      <td>(200.0, 100.0)</td>\n      <td>78.1</td>\n      <td>1</td>\n      <td>1</td>\n      <td>0</td>\n      <td>0</td>\n      <td>1</td>\n      <td>3.0</td>\n      <td>0.0</td>\n      <td>True</td>\n    </tr>\n    <tr>\n      <th>4902</th>\n      <td>vllm</td>\n      <td>OPT-13B</td>\n      <td>both</td>\n      <td>4.0</td>\n      <td>(200.0, 100.0)</td>\n      <td>70.8</td>\n      <td>1</td>\n      <td>1</td>\n      <td>0</td>\n      <td>0</td>\n      <td>1</td>\n      <td>4.0</td>\n      <td>0.0</td>\n      <td>True</td>\n    </tr>\n    <tr>\n      <th>5052</th>\n      <td>vllm</td>\n      <td>OPT-13B</td>\n      <td>both</td>\n      <td>5.0</td>\n      <td>(200.0, 100.0)</td>\n      <td>58.1</td>\n      <td>1</td>\n      <td>1</td>\n      <td>0</td>\n      <td>0</td>\n      <td>1</td>\n      <td>5.0</td>\n      <td>0.0</td>\n      <td>True</td>\n    </tr>\n    <tr>\n      <th>4752</th>\n      <td>vllm</td>\n      <td>OPT-13B</td>\n      <td>both</td>\n      <td>2.0</td>\n      <td>(200.0, 100.0)</td>\n      <td>98.4</td>\n      <td>2</td>\n      <td>1</td>\n      <td>0</td>\n      <td>0</td>\n      <td>2</td>\n      <td>1.0</td>\n      <td>1.0</td>\n      <td>True</td>\n    </tr>\n    <tr>\n      <th>4952</th>\n      <td>vllm</td>\n      <td>OPT-13B</td>\n      <td>both</td>\n      <td>4.0</td>\n      <td>(200.0, 100.0)</td>\n      <td>96.1</td>\n      <td>2</td>\n      <td>1</td>\n      <td>0</td>\n      <td>0</td>\n      <td>2</td>\n      <td>2.0</td>\n      <td>2.0</td>\n      <td>True</td>\n    </tr>\n    <tr>\n      <th>5102</th>\n      <td>vllm</td>\n      <td>OPT-13B</td>\n      <td>both</td>\n      <td>6.0</td>\n      <td>(200.0, 100.0)</td>\n      <td>88.8</td>\n      <td>2</td>\n      <td>1</td>\n      <td>0</td>\n      <td>0</td>\n      <td>2</td>\n      <td>3.0</td>\n      <td>0.0</td>\n      <td>True</td>\n    </tr>\n    <tr>\n      <th>5177</th>\n      <td>vllm</td>\n      <td>OPT-13B</td>\n      <td>both</td>\n      <td>8.0</td>\n      <td>(200.0, 100.0)</td>\n      <td>84.6</td>\n      <td>2</td>\n      <td>1</td>\n      <td>0</td>\n      <td>0</td>\n      <td>2</td>\n      <td>4.0</td>\n      <td>0.0</td>\n      <td>True</td>\n    </tr>\n    <tr>\n      <th>4552</th>\n      <td>vllm</td>\n      <td>OPT-13B</td>\n      <td>both</td>\n      <td>10.0</td>\n      <td>(200.0, 100.0)</td>\n      <td>63.4</td>\n      <td>2</td>\n      <td>1</td>\n      <td>0</td>\n      <td>0</td>\n      <td>2</td>\n      <td>5.0</td>\n      <td>0.0</td>\n      <td>True</td>\n    </tr>\n    <tr>\n      <th>5002</th>\n      <td>vllm</td>\n      <td>OPT-13B</td>\n      <td>both</td>\n      <td>4.0</td>\n      <td>(200.0, 100.0)</td>\n      <td>100.0</td>\n      <td>4</td>\n      <td>1</td>\n      <td>0</td>\n      <td>0</td>\n      <td>4</td>\n      <td>1.0</td>\n      <td>1.0</td>\n      <td>True</td>\n    </tr>\n    <tr>\n      <th>5227</th>\n      <td>vllm</td>\n      <td>OPT-13B</td>\n      <td>both</td>\n      <td>8.0</td>\n      <td>(200.0, 100.0)</td>\n      <td>99.1</td>\n      <td>4</td>\n      <td>1</td>\n      <td>0</td>\n      <td>0</td>\n      <td>4</td>\n      <td>2.0</td>\n      <td>2.0</td>\n      <td>True</td>\n    </tr>\n    <tr>\n      <th>4602</th>\n      <td>vllm</td>\n      <td>OPT-13B</td>\n      <td>both</td>\n      <td>12.0</td>\n      <td>(200.0, 100.0)</td>\n      <td>98.6</td>\n      <td>4</td>\n      <td>1</td>\n      <td>0</td>\n      <td>0</td>\n      <td>4</td>\n      <td>3.0</td>\n      <td>3.0</td>\n      <td>True</td>\n    </tr>\n    <tr>\n      <th>4677</th>\n      <td>vllm</td>\n      <td>OPT-13B</td>\n      <td>both</td>\n      <td>16.0</td>\n      <td>(200.0, 100.0)</td>\n      <td>96.9</td>\n      <td>4</td>\n      <td>1</td>\n      <td>0</td>\n      <td>0</td>\n      <td>4</td>\n      <td>4.0</td>\n      <td>4.0</td>\n      <td>True</td>\n    </tr>\n    <tr>\n      <th>4802</th>\n      <td>vllm</td>\n      <td>OPT-13B</td>\n      <td>both</td>\n      <td>20.0</td>\n      <td>(200.0, 100.0)</td>\n      <td>93.7</td>\n      <td>4</td>\n      <td>1</td>\n      <td>0</td>\n      <td>0</td>\n      <td>4</td>\n      <td>5.0</td>\n      <td>5.0</td>\n      <td>True</td>\n    </tr>\n  </tbody>\n</table>\n</div>"
     },
     "execution_count": 69,
     "metadata": {},
     "output_type": "execute_result"
    }
   ],
   "source": [
    "figure_11_vllm_low"
   ],
   "metadata": {
    "collapsed": false,
    "ExecuteTime": {
     "end_time": "2024-04-20T05:58:35.369771Z",
     "start_time": "2024-04-20T05:58:35.351196Z"
    }
   },
   "id": "f75057473fc9c5ca",
   "execution_count": 69
  },
  {
   "cell_type": "code",
   "outputs": [
    {
     "data": {
      "application/vnd.plotly.v1+json": {
       "data": [
        {
         "mode": "lines+markers",
         "name": "p1111-distserve",
         "x": [
          1.0,
          2.0,
          3.0,
          4.0,
          5.0
         ],
         "y": [
          91.1,
          79.7,
          64.1,
          27.4,
          9.9
         ],
         "type": "scatter"
        },
        {
         "mode": "lines+markers",
         "name": "p1112-distserve",
         "x": [
          1.0,
          2.0,
          3.0,
          4.0,
          5.0
         ],
         "y": [
          87.7,
          64.7,
          38.4,
          13.900000000000002,
          0.2
         ],
         "type": "scatter"
        },
        {
         "mode": "lines+markers",
         "name": "p1118-distserve",
         "x": [
          1.0,
          2.0,
          3.0,
          4.0,
          5.0
         ],
         "y": [
          0.0,
          0.0,
          0.0,
          0.0,
          0.0
         ],
         "type": "scatter"
        },
        {
         "mode": "lines+markers",
         "name": "p1121-distserve",
         "x": [
          1.0,
          2.0,
          3.0,
          4.0,
          5.0
         ],
         "y": [
          85.3,
          69.89999999999999,
          42.0,
          8.799999999999999,
          0.1
         ],
         "type": "scatter"
        },
        {
         "mode": "lines+markers",
         "name": "p1122-distserve",
         "x": [
          1.0,
          2.0,
          3.0,
          4.0,
          5.0
         ],
         "y": [
          76.3,
          21.9,
          0.4,
          0.1,
          0.1
         ],
         "type": "scatter"
        },
        {
         "mode": "lines+markers",
         "name": "p1141-distserve",
         "x": [
          1.0,
          2.0,
          3.0,
          4.0,
          5.0
         ],
         "y": [
          71.8,
          40.6,
          0.4,
          0.2,
          0.1
         ],
         "type": "scatter"
        },
        {
         "mode": "lines+markers",
         "name": "p1211-distserve",
         "x": [
          1.0,
          2.0,
          3.0,
          4.0,
          5.0
         ],
         "y": [
          91.0,
          85.8,
          31.7,
          15.1,
          10.6
         ],
         "type": "scatter"
        },
        {
         "mode": "lines+markers",
         "name": "p1212-distserve",
         "x": [
          1.0,
          2.0,
          3.0,
          4.0,
          5.0
         ],
         "y": [
          87.5,
          76.9,
          62.5,
          37.6,
          11.4
         ],
         "type": "scatter"
        },
        {
         "mode": "lines+markers",
         "name": "p1218-distserve",
         "x": [
          1.0,
          2.0,
          3.0,
          4.0,
          5.0
         ],
         "y": [
          0.0,
          0.0,
          0.0,
          0.0,
          0.0
         ],
         "type": "scatter"
        },
        {
         "mode": "lines+markers",
         "name": "p1221-distserve",
         "x": [
          1.0,
          2.0,
          3.0,
          4.0,
          5.0
         ],
         "y": [
          89.1,
          79.2,
          59.1,
          46.6,
          10.6
         ],
         "type": "scatter"
        },
        {
         "mode": "lines+markers",
         "name": "p1222-distserve",
         "x": [
          1.0,
          2.0,
          3.0,
          4.0,
          5.0
         ],
         "y": [
          85.3,
          65.7,
          28.6,
          4.1000000000000005,
          0.4
         ],
         "type": "scatter"
        },
        {
         "mode": "lines+markers",
         "name": "p1241-distserve",
         "x": [
          1.0,
          2.0,
          3.0,
          4.0,
          5.0
         ],
         "y": [
          89.7,
          67.4,
          23.7,
          0.5,
          0.3
         ],
         "type": "scatter"
        },
        {
         "mode": "lines+markers",
         "name": "p1811-distserve",
         "x": [
          1.0,
          2.0,
          3.0,
          4.0,
          5.0
         ],
         "y": [
          0.0,
          0.0,
          0.0,
          0.0,
          0.0
         ],
         "type": "scatter"
        },
        {
         "mode": "lines+markers",
         "name": "p1812-distserve",
         "x": [
          1.0,
          2.0,
          3.0,
          4.0,
          5.0
         ],
         "y": [
          0.0,
          0.0,
          0.0,
          0.0,
          0.0
         ],
         "type": "scatter"
        },
        {
         "mode": "lines+markers",
         "name": "p1818-distserve",
         "x": [
          1.0,
          2.0,
          3.0,
          4.0,
          5.0
         ],
         "y": [
          0.0,
          0.0,
          0.0,
          0.0,
          0.0
         ],
         "type": "scatter"
        },
        {
         "mode": "lines+markers",
         "name": "p1821-distserve",
         "x": [
          1.0,
          2.0,
          3.0,
          4.0,
          5.0
         ],
         "y": [
          0.0,
          0.0,
          0.0,
          0.0,
          0.0
         ],
         "type": "scatter"
        },
        {
         "mode": "lines+markers",
         "name": "p1822-distserve",
         "x": [
          1.0,
          2.0,
          3.0,
          4.0,
          5.0
         ],
         "y": [
          0.0,
          0.0,
          0.0,
          0.0,
          0.0
         ],
         "type": "scatter"
        },
        {
         "mode": "lines+markers",
         "name": "p1841-distserve",
         "x": [
          1.0,
          2.0,
          3.0,
          4.0,
          5.0
         ],
         "y": [
          0.0,
          0.0,
          0.0,
          0.0,
          0.0
         ],
         "type": "scatter"
        },
        {
         "mode": "lines+markers",
         "name": "p2111-distserve",
         "x": [
          1.0,
          2.0,
          3.0,
          4.0,
          5.0
         ],
         "y": [
          98.5,
          91.8,
          31.6,
          17.5,
          7.9
         ],
         "type": "scatter"
        },
        {
         "mode": "lines+markers",
         "name": "p2112-distserve",
         "x": [
          1.0,
          2.0,
          3.0,
          4.0,
          5.0
         ],
         "y": [
          95.3,
          86.1,
          62.4,
          33.2,
          5.0
         ],
         "type": "scatter"
        },
        {
         "mode": "lines+markers",
         "name": "p2118-distserve",
         "x": [
          1.0,
          2.0,
          3.0,
          4.0,
          5.0
         ],
         "y": [
          0.0,
          0.0,
          0.0,
          0.0,
          0.0
         ],
         "type": "scatter"
        },
        {
         "mode": "lines+markers",
         "name": "p2121-distserve",
         "x": [
          1.0,
          2.0,
          3.0,
          4.0,
          5.0
         ],
         "y": [
          96.2,
          85.3,
          62.4,
          24.7,
          4.9
         ],
         "type": "scatter"
        },
        {
         "mode": "lines+markers",
         "name": "p2122-distserve",
         "x": [
          1.0,
          2.0,
          3.0,
          4.0,
          5.0
         ],
         "y": [
          89.5,
          66.2,
          12.5,
          0.5,
          1.5
         ],
         "type": "scatter"
        },
        {
         "mode": "lines+markers",
         "name": "p2141-distserve",
         "x": [
          1.0,
          2.0,
          3.0,
          4.0,
          5.0
         ],
         "y": [
          91.3,
          56.39999999999999,
          10.5,
          1.1,
          0.3
         ],
         "type": "scatter"
        },
        {
         "mode": "lines+markers",
         "name": "p2211-distserve",
         "x": [
          1.0,
          2.0,
          3.0,
          4.0,
          5.0
         ],
         "y": [
          99.6,
          31.0,
          19.4,
          7.199999999999999,
          6.9
         ],
         "type": "scatter"
        },
        {
         "mode": "lines+markers",
         "name": "p2212-distserve",
         "x": [
          1.0,
          2.0,
          3.0,
          4.0,
          5.0
         ],
         "y": [
          98.3,
          95.3,
          81.8,
          36.8,
          26.9
         ],
         "type": "scatter"
        },
        {
         "mode": "lines+markers",
         "name": "p2218-distserve",
         "x": [
          1.0,
          2.0,
          3.0,
          4.0,
          5.0
         ],
         "y": [
          0.0,
          0.0,
          0.0,
          0.0,
          0.0
         ],
         "type": "scatter"
        },
        {
         "mode": "lines+markers",
         "name": "p2221-distserve",
         "x": [
          1.0,
          2.0,
          3.0,
          4.0,
          5.0
         ],
         "y": [
          98.9,
          94.2,
          62.4,
          29.5,
          20.0
         ],
         "type": "scatter"
        },
        {
         "mode": "lines+markers",
         "name": "p2222-distserve",
         "x": [
          1.0,
          2.0,
          3.0,
          4.0,
          5.0
         ],
         "y": [
          97.5,
          84.39999999999999,
          58.6,
          25.9,
          1.2
         ],
         "type": "scatter"
        },
        {
         "mode": "lines+markers",
         "name": "p2241-distserve",
         "x": [
          1.0,
          2.0,
          3.0,
          4.0,
          5.0
         ],
         "y": [
          98.2,
          88.0,
          63.7,
          32.0,
          0.8
         ],
         "type": "scatter"
        },
        {
         "mode": "lines+markers",
         "name": "p4111-distserve",
         "x": [
          1.0,
          2.0,
          3.0,
          4.0,
          5.0
         ],
         "y": [
          100.0,
          34.300000000000004,
          19.5,
          11.3,
          14.499999999999998
         ],
         "type": "scatter"
        },
        {
         "mode": "lines+markers",
         "name": "p4112-distserve",
         "x": [
          1.0,
          2.0,
          3.0,
          4.0,
          5.0
         ],
         "y": [
          99.9,
          99.8,
          90.3,
          62.6,
          42.6
         ],
         "type": "scatter"
        },
        {
         "mode": "lines+markers",
         "name": "p4118-distserve",
         "x": [
          1.0,
          2.0,
          3.0,
          4.0,
          5.0
         ],
         "y": [
          0.0,
          0.0,
          0.0,
          0.0,
          0.0
         ],
         "type": "scatter"
        },
        {
         "mode": "lines+markers",
         "name": "p4121-distserve",
         "x": [
          1.0,
          2.0,
          3.0,
          4.0,
          5.0
         ],
         "y": [
          100.0,
          99.2,
          80.60000000000001,
          44.1,
          18.2
         ],
         "type": "scatter"
        },
        {
         "mode": "lines+markers",
         "name": "p4122-distserve",
         "x": [
          1.0,
          2.0,
          3.0,
          4.0,
          5.0
         ],
         "y": [
          99.7,
          99.5,
          83.6,
          34.0,
          1.9
         ],
         "type": "scatter"
        },
        {
         "mode": "lines+markers",
         "name": "p4141-distserve",
         "x": [
          1.0,
          2.0,
          3.0,
          4.0,
          5.0
         ],
         "y": [
          99.8,
          99.6,
          80.10000000000001,
          45.2,
          5.6000000000000005
         ],
         "type": "scatter"
        }
       ],
       "layout": {
        "template": {
         "data": {
          "histogram2dcontour": [
           {
            "type": "histogram2dcontour",
            "colorbar": {
             "outlinewidth": 0,
             "ticks": ""
            },
            "colorscale": [
             [
              0.0,
              "#0d0887"
             ],
             [
              0.1111111111111111,
              "#46039f"
             ],
             [
              0.2222222222222222,
              "#7201a8"
             ],
             [
              0.3333333333333333,
              "#9c179e"
             ],
             [
              0.4444444444444444,
              "#bd3786"
             ],
             [
              0.5555555555555556,
              "#d8576b"
             ],
             [
              0.6666666666666666,
              "#ed7953"
             ],
             [
              0.7777777777777778,
              "#fb9f3a"
             ],
             [
              0.8888888888888888,
              "#fdca26"
             ],
             [
              1.0,
              "#f0f921"
             ]
            ]
           }
          ],
          "choropleth": [
           {
            "type": "choropleth",
            "colorbar": {
             "outlinewidth": 0,
             "ticks": ""
            }
           }
          ],
          "histogram2d": [
           {
            "type": "histogram2d",
            "colorbar": {
             "outlinewidth": 0,
             "ticks": ""
            },
            "colorscale": [
             [
              0.0,
              "#0d0887"
             ],
             [
              0.1111111111111111,
              "#46039f"
             ],
             [
              0.2222222222222222,
              "#7201a8"
             ],
             [
              0.3333333333333333,
              "#9c179e"
             ],
             [
              0.4444444444444444,
              "#bd3786"
             ],
             [
              0.5555555555555556,
              "#d8576b"
             ],
             [
              0.6666666666666666,
              "#ed7953"
             ],
             [
              0.7777777777777778,
              "#fb9f3a"
             ],
             [
              0.8888888888888888,
              "#fdca26"
             ],
             [
              1.0,
              "#f0f921"
             ]
            ]
           }
          ],
          "heatmap": [
           {
            "type": "heatmap",
            "colorbar": {
             "outlinewidth": 0,
             "ticks": ""
            },
            "colorscale": [
             [
              0.0,
              "#0d0887"
             ],
             [
              0.1111111111111111,
              "#46039f"
             ],
             [
              0.2222222222222222,
              "#7201a8"
             ],
             [
              0.3333333333333333,
              "#9c179e"
             ],
             [
              0.4444444444444444,
              "#bd3786"
             ],
             [
              0.5555555555555556,
              "#d8576b"
             ],
             [
              0.6666666666666666,
              "#ed7953"
             ],
             [
              0.7777777777777778,
              "#fb9f3a"
             ],
             [
              0.8888888888888888,
              "#fdca26"
             ],
             [
              1.0,
              "#f0f921"
             ]
            ]
           }
          ],
          "heatmapgl": [
           {
            "type": "heatmapgl",
            "colorbar": {
             "outlinewidth": 0,
             "ticks": ""
            },
            "colorscale": [
             [
              0.0,
              "#0d0887"
             ],
             [
              0.1111111111111111,
              "#46039f"
             ],
             [
              0.2222222222222222,
              "#7201a8"
             ],
             [
              0.3333333333333333,
              "#9c179e"
             ],
             [
              0.4444444444444444,
              "#bd3786"
             ],
             [
              0.5555555555555556,
              "#d8576b"
             ],
             [
              0.6666666666666666,
              "#ed7953"
             ],
             [
              0.7777777777777778,
              "#fb9f3a"
             ],
             [
              0.8888888888888888,
              "#fdca26"
             ],
             [
              1.0,
              "#f0f921"
             ]
            ]
           }
          ],
          "contourcarpet": [
           {
            "type": "contourcarpet",
            "colorbar": {
             "outlinewidth": 0,
             "ticks": ""
            }
           }
          ],
          "contour": [
           {
            "type": "contour",
            "colorbar": {
             "outlinewidth": 0,
             "ticks": ""
            },
            "colorscale": [
             [
              0.0,
              "#0d0887"
             ],
             [
              0.1111111111111111,
              "#46039f"
             ],
             [
              0.2222222222222222,
              "#7201a8"
             ],
             [
              0.3333333333333333,
              "#9c179e"
             ],
             [
              0.4444444444444444,
              "#bd3786"
             ],
             [
              0.5555555555555556,
              "#d8576b"
             ],
             [
              0.6666666666666666,
              "#ed7953"
             ],
             [
              0.7777777777777778,
              "#fb9f3a"
             ],
             [
              0.8888888888888888,
              "#fdca26"
             ],
             [
              1.0,
              "#f0f921"
             ]
            ]
           }
          ],
          "surface": [
           {
            "type": "surface",
            "colorbar": {
             "outlinewidth": 0,
             "ticks": ""
            },
            "colorscale": [
             [
              0.0,
              "#0d0887"
             ],
             [
              0.1111111111111111,
              "#46039f"
             ],
             [
              0.2222222222222222,
              "#7201a8"
             ],
             [
              0.3333333333333333,
              "#9c179e"
             ],
             [
              0.4444444444444444,
              "#bd3786"
             ],
             [
              0.5555555555555556,
              "#d8576b"
             ],
             [
              0.6666666666666666,
              "#ed7953"
             ],
             [
              0.7777777777777778,
              "#fb9f3a"
             ],
             [
              0.8888888888888888,
              "#fdca26"
             ],
             [
              1.0,
              "#f0f921"
             ]
            ]
           }
          ],
          "mesh3d": [
           {
            "type": "mesh3d",
            "colorbar": {
             "outlinewidth": 0,
             "ticks": ""
            }
           }
          ],
          "scatter": [
           {
            "marker": {
             "line": {
              "color": "#283442"
             }
            },
            "type": "scatter"
           }
          ],
          "parcoords": [
           {
            "type": "parcoords",
            "line": {
             "colorbar": {
              "outlinewidth": 0,
              "ticks": ""
             }
            }
           }
          ],
          "scatterpolargl": [
           {
            "type": "scatterpolargl",
            "marker": {
             "colorbar": {
              "outlinewidth": 0,
              "ticks": ""
             }
            }
           }
          ],
          "bar": [
           {
            "error_x": {
             "color": "#f2f5fa"
            },
            "error_y": {
             "color": "#f2f5fa"
            },
            "marker": {
             "line": {
              "color": "rgb(17,17,17)",
              "width": 0.5
             },
             "pattern": {
              "fillmode": "overlay",
              "size": 10,
              "solidity": 0.2
             }
            },
            "type": "bar"
           }
          ],
          "scattergeo": [
           {
            "type": "scattergeo",
            "marker": {
             "colorbar": {
              "outlinewidth": 0,
              "ticks": ""
             }
            }
           }
          ],
          "scatterpolar": [
           {
            "type": "scatterpolar",
            "marker": {
             "colorbar": {
              "outlinewidth": 0,
              "ticks": ""
             }
            }
           }
          ],
          "histogram": [
           {
            "marker": {
             "pattern": {
              "fillmode": "overlay",
              "size": 10,
              "solidity": 0.2
             }
            },
            "type": "histogram"
           }
          ],
          "scattergl": [
           {
            "marker": {
             "line": {
              "color": "#283442"
             }
            },
            "type": "scattergl"
           }
          ],
          "scatter3d": [
           {
            "type": "scatter3d",
            "line": {
             "colorbar": {
              "outlinewidth": 0,
              "ticks": ""
             }
            },
            "marker": {
             "colorbar": {
              "outlinewidth": 0,
              "ticks": ""
             }
            }
           }
          ],
          "scattermapbox": [
           {
            "type": "scattermapbox",
            "marker": {
             "colorbar": {
              "outlinewidth": 0,
              "ticks": ""
             }
            }
           }
          ],
          "scatterternary": [
           {
            "type": "scatterternary",
            "marker": {
             "colorbar": {
              "outlinewidth": 0,
              "ticks": ""
             }
            }
           }
          ],
          "scattercarpet": [
           {
            "type": "scattercarpet",
            "marker": {
             "colorbar": {
              "outlinewidth": 0,
              "ticks": ""
             }
            }
           }
          ],
          "carpet": [
           {
            "aaxis": {
             "endlinecolor": "#A2B1C6",
             "gridcolor": "#506784",
             "linecolor": "#506784",
             "minorgridcolor": "#506784",
             "startlinecolor": "#A2B1C6"
            },
            "baxis": {
             "endlinecolor": "#A2B1C6",
             "gridcolor": "#506784",
             "linecolor": "#506784",
             "minorgridcolor": "#506784",
             "startlinecolor": "#A2B1C6"
            },
            "type": "carpet"
           }
          ],
          "table": [
           {
            "cells": {
             "fill": {
              "color": "#506784"
             },
             "line": {
              "color": "rgb(17,17,17)"
             }
            },
            "header": {
             "fill": {
              "color": "#2a3f5f"
             },
             "line": {
              "color": "rgb(17,17,17)"
             }
            },
            "type": "table"
           }
          ],
          "barpolar": [
           {
            "marker": {
             "line": {
              "color": "rgb(17,17,17)",
              "width": 0.5
             },
             "pattern": {
              "fillmode": "overlay",
              "size": 10,
              "solidity": 0.2
             }
            },
            "type": "barpolar"
           }
          ],
          "pie": [
           {
            "automargin": true,
            "type": "pie"
           }
          ]
         },
         "layout": {
          "autotypenumbers": "strict",
          "colorway": [
           "#636efa",
           "#EF553B",
           "#00cc96",
           "#ab63fa",
           "#FFA15A",
           "#19d3f3",
           "#FF6692",
           "#B6E880",
           "#FF97FF",
           "#FECB52"
          ],
          "font": {
           "color": "#f2f5fa"
          },
          "hovermode": "closest",
          "hoverlabel": {
           "align": "left"
          },
          "paper_bgcolor": "rgb(17,17,17)",
          "plot_bgcolor": "rgb(17,17,17)",
          "polar": {
           "bgcolor": "rgb(17,17,17)",
           "angularaxis": {
            "gridcolor": "#506784",
            "linecolor": "#506784",
            "ticks": ""
           },
           "radialaxis": {
            "gridcolor": "#506784",
            "linecolor": "#506784",
            "ticks": ""
           }
          },
          "ternary": {
           "bgcolor": "rgb(17,17,17)",
           "aaxis": {
            "gridcolor": "#506784",
            "linecolor": "#506784",
            "ticks": ""
           },
           "baxis": {
            "gridcolor": "#506784",
            "linecolor": "#506784",
            "ticks": ""
           },
           "caxis": {
            "gridcolor": "#506784",
            "linecolor": "#506784",
            "ticks": ""
           }
          },
          "coloraxis": {
           "colorbar": {
            "outlinewidth": 0,
            "ticks": ""
           }
          },
          "colorscale": {
           "sequential": [
            [
             0.0,
             "#0d0887"
            ],
            [
             0.1111111111111111,
             "#46039f"
            ],
            [
             0.2222222222222222,
             "#7201a8"
            ],
            [
             0.3333333333333333,
             "#9c179e"
            ],
            [
             0.4444444444444444,
             "#bd3786"
            ],
            [
             0.5555555555555556,
             "#d8576b"
            ],
            [
             0.6666666666666666,
             "#ed7953"
            ],
            [
             0.7777777777777778,
             "#fb9f3a"
            ],
            [
             0.8888888888888888,
             "#fdca26"
            ],
            [
             1.0,
             "#f0f921"
            ]
           ],
           "sequentialminus": [
            [
             0.0,
             "#0d0887"
            ],
            [
             0.1111111111111111,
             "#46039f"
            ],
            [
             0.2222222222222222,
             "#7201a8"
            ],
            [
             0.3333333333333333,
             "#9c179e"
            ],
            [
             0.4444444444444444,
             "#bd3786"
            ],
            [
             0.5555555555555556,
             "#d8576b"
            ],
            [
             0.6666666666666666,
             "#ed7953"
            ],
            [
             0.7777777777777778,
             "#fb9f3a"
            ],
            [
             0.8888888888888888,
             "#fdca26"
            ],
            [
             1.0,
             "#f0f921"
            ]
           ],
           "diverging": [
            [
             0,
             "#8e0152"
            ],
            [
             0.1,
             "#c51b7d"
            ],
            [
             0.2,
             "#de77ae"
            ],
            [
             0.3,
             "#f1b6da"
            ],
            [
             0.4,
             "#fde0ef"
            ],
            [
             0.5,
             "#f7f7f7"
            ],
            [
             0.6,
             "#e6f5d0"
            ],
            [
             0.7,
             "#b8e186"
            ],
            [
             0.8,
             "#7fbc41"
            ],
            [
             0.9,
             "#4d9221"
            ],
            [
             1,
             "#276419"
            ]
           ]
          },
          "xaxis": {
           "gridcolor": "#283442",
           "linecolor": "#506784",
           "ticks": "",
           "title": {
            "standoff": 15
           },
           "zerolinecolor": "#283442",
           "automargin": true,
           "zerolinewidth": 2
          },
          "yaxis": {
           "gridcolor": "#283442",
           "linecolor": "#506784",
           "ticks": "",
           "title": {
            "standoff": 15
           },
           "zerolinecolor": "#283442",
           "automargin": true,
           "zerolinewidth": 2
          },
          "scene": {
           "xaxis": {
            "backgroundcolor": "rgb(17,17,17)",
            "gridcolor": "#506784",
            "linecolor": "#506784",
            "showbackground": true,
            "ticks": "",
            "zerolinecolor": "#C8D4E3",
            "gridwidth": 2
           },
           "yaxis": {
            "backgroundcolor": "rgb(17,17,17)",
            "gridcolor": "#506784",
            "linecolor": "#506784",
            "showbackground": true,
            "ticks": "",
            "zerolinecolor": "#C8D4E3",
            "gridwidth": 2
           },
           "zaxis": {
            "backgroundcolor": "rgb(17,17,17)",
            "gridcolor": "#506784",
            "linecolor": "#506784",
            "showbackground": true,
            "ticks": "",
            "zerolinecolor": "#C8D4E3",
            "gridwidth": 2
           }
          },
          "shapedefaults": {
           "line": {
            "color": "#f2f5fa"
           }
          },
          "annotationdefaults": {
           "arrowcolor": "#f2f5fa",
           "arrowhead": 0,
           "arrowwidth": 1
          },
          "geo": {
           "bgcolor": "rgb(17,17,17)",
           "landcolor": "rgb(17,17,17)",
           "subunitcolor": "#506784",
           "showland": true,
           "showlakes": true,
           "lakecolor": "rgb(17,17,17)"
          },
          "title": {
           "x": 0.05
          },
          "updatemenudefaults": {
           "bgcolor": "#506784",
           "borderwidth": 0
          },
          "sliderdefaults": {
           "bgcolor": "#C8D4E3",
           "borderwidth": 1,
           "bordercolor": "rgb(17,17,17)",
           "tickwidth": 0
          },
          "mapbox": {
           "style": "dark"
          }
         }
        },
        "title": {
         "text": "DistServe"
        },
        "xaxis": {
         "title": {
          "text": "Per-GPU Rate (tokens/s)"
         }
        },
        "yaxis": {
         "title": {
          "text": "Attainment (%)"
         }
        },
        "legend": {
         "title": {
          "text": "Configuration"
         }
        }
       },
       "config": {
        "plotlyServerURL": "https://plot.ly"
       }
      },
      "text/html": "<div>                            <div id=\"b8cac65d-00c4-4def-ba75-e18268fb127e\" class=\"plotly-graph-div\" style=\"height:525px; width:100%;\"></div>            <script type=\"text/javascript\">                require([\"plotly\"], function(Plotly) {                    window.PLOTLYENV=window.PLOTLYENV || {};                                    if (document.getElementById(\"b8cac65d-00c4-4def-ba75-e18268fb127e\")) {                    Plotly.newPlot(                        \"b8cac65d-00c4-4def-ba75-e18268fb127e\",                        [{\"mode\":\"lines+markers\",\"name\":\"p1111-distserve\",\"x\":[1.0,2.0,3.0,4.0,5.0],\"y\":[91.1,79.7,64.1,27.4,9.9],\"type\":\"scatter\"},{\"mode\":\"lines+markers\",\"name\":\"p1112-distserve\",\"x\":[1.0,2.0,3.0,4.0,5.0],\"y\":[87.7,64.7,38.4,13.900000000000002,0.2],\"type\":\"scatter\"},{\"mode\":\"lines+markers\",\"name\":\"p1118-distserve\",\"x\":[1.0,2.0,3.0,4.0,5.0],\"y\":[0.0,0.0,0.0,0.0,0.0],\"type\":\"scatter\"},{\"mode\":\"lines+markers\",\"name\":\"p1121-distserve\",\"x\":[1.0,2.0,3.0,4.0,5.0],\"y\":[85.3,69.89999999999999,42.0,8.799999999999999,0.1],\"type\":\"scatter\"},{\"mode\":\"lines+markers\",\"name\":\"p1122-distserve\",\"x\":[1.0,2.0,3.0,4.0,5.0],\"y\":[76.3,21.9,0.4,0.1,0.1],\"type\":\"scatter\"},{\"mode\":\"lines+markers\",\"name\":\"p1141-distserve\",\"x\":[1.0,2.0,3.0,4.0,5.0],\"y\":[71.8,40.6,0.4,0.2,0.1],\"type\":\"scatter\"},{\"mode\":\"lines+markers\",\"name\":\"p1211-distserve\",\"x\":[1.0,2.0,3.0,4.0,5.0],\"y\":[91.0,85.8,31.7,15.1,10.6],\"type\":\"scatter\"},{\"mode\":\"lines+markers\",\"name\":\"p1212-distserve\",\"x\":[1.0,2.0,3.0,4.0,5.0],\"y\":[87.5,76.9,62.5,37.6,11.4],\"type\":\"scatter\"},{\"mode\":\"lines+markers\",\"name\":\"p1218-distserve\",\"x\":[1.0,2.0,3.0,4.0,5.0],\"y\":[0.0,0.0,0.0,0.0,0.0],\"type\":\"scatter\"},{\"mode\":\"lines+markers\",\"name\":\"p1221-distserve\",\"x\":[1.0,2.0,3.0,4.0,5.0],\"y\":[89.1,79.2,59.1,46.6,10.6],\"type\":\"scatter\"},{\"mode\":\"lines+markers\",\"name\":\"p1222-distserve\",\"x\":[1.0,2.0,3.0,4.0,5.0],\"y\":[85.3,65.7,28.6,4.1000000000000005,0.4],\"type\":\"scatter\"},{\"mode\":\"lines+markers\",\"name\":\"p1241-distserve\",\"x\":[1.0,2.0,3.0,4.0,5.0],\"y\":[89.7,67.4,23.7,0.5,0.3],\"type\":\"scatter\"},{\"mode\":\"lines+markers\",\"name\":\"p1811-distserve\",\"x\":[1.0,2.0,3.0,4.0,5.0],\"y\":[0.0,0.0,0.0,0.0,0.0],\"type\":\"scatter\"},{\"mode\":\"lines+markers\",\"name\":\"p1812-distserve\",\"x\":[1.0,2.0,3.0,4.0,5.0],\"y\":[0.0,0.0,0.0,0.0,0.0],\"type\":\"scatter\"},{\"mode\":\"lines+markers\",\"name\":\"p1818-distserve\",\"x\":[1.0,2.0,3.0,4.0,5.0],\"y\":[0.0,0.0,0.0,0.0,0.0],\"type\":\"scatter\"},{\"mode\":\"lines+markers\",\"name\":\"p1821-distserve\",\"x\":[1.0,2.0,3.0,4.0,5.0],\"y\":[0.0,0.0,0.0,0.0,0.0],\"type\":\"scatter\"},{\"mode\":\"lines+markers\",\"name\":\"p1822-distserve\",\"x\":[1.0,2.0,3.0,4.0,5.0],\"y\":[0.0,0.0,0.0,0.0,0.0],\"type\":\"scatter\"},{\"mode\":\"lines+markers\",\"name\":\"p1841-distserve\",\"x\":[1.0,2.0,3.0,4.0,5.0],\"y\":[0.0,0.0,0.0,0.0,0.0],\"type\":\"scatter\"},{\"mode\":\"lines+markers\",\"name\":\"p2111-distserve\",\"x\":[1.0,2.0,3.0,4.0,5.0],\"y\":[98.5,91.8,31.6,17.5,7.9],\"type\":\"scatter\"},{\"mode\":\"lines+markers\",\"name\":\"p2112-distserve\",\"x\":[1.0,2.0,3.0,4.0,5.0],\"y\":[95.3,86.1,62.4,33.2,5.0],\"type\":\"scatter\"},{\"mode\":\"lines+markers\",\"name\":\"p2118-distserve\",\"x\":[1.0,2.0,3.0,4.0,5.0],\"y\":[0.0,0.0,0.0,0.0,0.0],\"type\":\"scatter\"},{\"mode\":\"lines+markers\",\"name\":\"p2121-distserve\",\"x\":[1.0,2.0,3.0,4.0,5.0],\"y\":[96.2,85.3,62.4,24.7,4.9],\"type\":\"scatter\"},{\"mode\":\"lines+markers\",\"name\":\"p2122-distserve\",\"x\":[1.0,2.0,3.0,4.0,5.0],\"y\":[89.5,66.2,12.5,0.5,1.5],\"type\":\"scatter\"},{\"mode\":\"lines+markers\",\"name\":\"p2141-distserve\",\"x\":[1.0,2.0,3.0,4.0,5.0],\"y\":[91.3,56.39999999999999,10.5,1.1,0.3],\"type\":\"scatter\"},{\"mode\":\"lines+markers\",\"name\":\"p2211-distserve\",\"x\":[1.0,2.0,3.0,4.0,5.0],\"y\":[99.6,31.0,19.4,7.199999999999999,6.9],\"type\":\"scatter\"},{\"mode\":\"lines+markers\",\"name\":\"p2212-distserve\",\"x\":[1.0,2.0,3.0,4.0,5.0],\"y\":[98.3,95.3,81.8,36.8,26.9],\"type\":\"scatter\"},{\"mode\":\"lines+markers\",\"name\":\"p2218-distserve\",\"x\":[1.0,2.0,3.0,4.0,5.0],\"y\":[0.0,0.0,0.0,0.0,0.0],\"type\":\"scatter\"},{\"mode\":\"lines+markers\",\"name\":\"p2221-distserve\",\"x\":[1.0,2.0,3.0,4.0,5.0],\"y\":[98.9,94.2,62.4,29.5,20.0],\"type\":\"scatter\"},{\"mode\":\"lines+markers\",\"name\":\"p2222-distserve\",\"x\":[1.0,2.0,3.0,4.0,5.0],\"y\":[97.5,84.39999999999999,58.6,25.9,1.2],\"type\":\"scatter\"},{\"mode\":\"lines+markers\",\"name\":\"p2241-distserve\",\"x\":[1.0,2.0,3.0,4.0,5.0],\"y\":[98.2,88.0,63.7,32.0,0.8],\"type\":\"scatter\"},{\"mode\":\"lines+markers\",\"name\":\"p4111-distserve\",\"x\":[1.0,2.0,3.0,4.0,5.0],\"y\":[100.0,34.300000000000004,19.5,11.3,14.499999999999998],\"type\":\"scatter\"},{\"mode\":\"lines+markers\",\"name\":\"p4112-distserve\",\"x\":[1.0,2.0,3.0,4.0,5.0],\"y\":[99.9,99.8,90.3,62.6,42.6],\"type\":\"scatter\"},{\"mode\":\"lines+markers\",\"name\":\"p4118-distserve\",\"x\":[1.0,2.0,3.0,4.0,5.0],\"y\":[0.0,0.0,0.0,0.0,0.0],\"type\":\"scatter\"},{\"mode\":\"lines+markers\",\"name\":\"p4121-distserve\",\"x\":[1.0,2.0,3.0,4.0,5.0],\"y\":[100.0,99.2,80.60000000000001,44.1,18.2],\"type\":\"scatter\"},{\"mode\":\"lines+markers\",\"name\":\"p4122-distserve\",\"x\":[1.0,2.0,3.0,4.0,5.0],\"y\":[99.7,99.5,83.6,34.0,1.9],\"type\":\"scatter\"},{\"mode\":\"lines+markers\",\"name\":\"p4141-distserve\",\"x\":[1.0,2.0,3.0,4.0,5.0],\"y\":[99.8,99.6,80.10000000000001,45.2,5.6000000000000005],\"type\":\"scatter\"}],                        {\"template\":{\"data\":{\"histogram2dcontour\":[{\"type\":\"histogram2dcontour\",\"colorbar\":{\"outlinewidth\":0,\"ticks\":\"\"},\"colorscale\":[[0.0,\"#0d0887\"],[0.1111111111111111,\"#46039f\"],[0.2222222222222222,\"#7201a8\"],[0.3333333333333333,\"#9c179e\"],[0.4444444444444444,\"#bd3786\"],[0.5555555555555556,\"#d8576b\"],[0.6666666666666666,\"#ed7953\"],[0.7777777777777778,\"#fb9f3a\"],[0.8888888888888888,\"#fdca26\"],[1.0,\"#f0f921\"]]}],\"choropleth\":[{\"type\":\"choropleth\",\"colorbar\":{\"outlinewidth\":0,\"ticks\":\"\"}}],\"histogram2d\":[{\"type\":\"histogram2d\",\"colorbar\":{\"outlinewidth\":0,\"ticks\":\"\"},\"colorscale\":[[0.0,\"#0d0887\"],[0.1111111111111111,\"#46039f\"],[0.2222222222222222,\"#7201a8\"],[0.3333333333333333,\"#9c179e\"],[0.4444444444444444,\"#bd3786\"],[0.5555555555555556,\"#d8576b\"],[0.6666666666666666,\"#ed7953\"],[0.7777777777777778,\"#fb9f3a\"],[0.8888888888888888,\"#fdca26\"],[1.0,\"#f0f921\"]]}],\"heatmap\":[{\"type\":\"heatmap\",\"colorbar\":{\"outlinewidth\":0,\"ticks\":\"\"},\"colorscale\":[[0.0,\"#0d0887\"],[0.1111111111111111,\"#46039f\"],[0.2222222222222222,\"#7201a8\"],[0.3333333333333333,\"#9c179e\"],[0.4444444444444444,\"#bd3786\"],[0.5555555555555556,\"#d8576b\"],[0.6666666666666666,\"#ed7953\"],[0.7777777777777778,\"#fb9f3a\"],[0.8888888888888888,\"#fdca26\"],[1.0,\"#f0f921\"]]}],\"heatmapgl\":[{\"type\":\"heatmapgl\",\"colorbar\":{\"outlinewidth\":0,\"ticks\":\"\"},\"colorscale\":[[0.0,\"#0d0887\"],[0.1111111111111111,\"#46039f\"],[0.2222222222222222,\"#7201a8\"],[0.3333333333333333,\"#9c179e\"],[0.4444444444444444,\"#bd3786\"],[0.5555555555555556,\"#d8576b\"],[0.6666666666666666,\"#ed7953\"],[0.7777777777777778,\"#fb9f3a\"],[0.8888888888888888,\"#fdca26\"],[1.0,\"#f0f921\"]]}],\"contourcarpet\":[{\"type\":\"contourcarpet\",\"colorbar\":{\"outlinewidth\":0,\"ticks\":\"\"}}],\"contour\":[{\"type\":\"contour\",\"colorbar\":{\"outlinewidth\":0,\"ticks\":\"\"},\"colorscale\":[[0.0,\"#0d0887\"],[0.1111111111111111,\"#46039f\"],[0.2222222222222222,\"#7201a8\"],[0.3333333333333333,\"#9c179e\"],[0.4444444444444444,\"#bd3786\"],[0.5555555555555556,\"#d8576b\"],[0.6666666666666666,\"#ed7953\"],[0.7777777777777778,\"#fb9f3a\"],[0.8888888888888888,\"#fdca26\"],[1.0,\"#f0f921\"]]}],\"surface\":[{\"type\":\"surface\",\"colorbar\":{\"outlinewidth\":0,\"ticks\":\"\"},\"colorscale\":[[0.0,\"#0d0887\"],[0.1111111111111111,\"#46039f\"],[0.2222222222222222,\"#7201a8\"],[0.3333333333333333,\"#9c179e\"],[0.4444444444444444,\"#bd3786\"],[0.5555555555555556,\"#d8576b\"],[0.6666666666666666,\"#ed7953\"],[0.7777777777777778,\"#fb9f3a\"],[0.8888888888888888,\"#fdca26\"],[1.0,\"#f0f921\"]]}],\"mesh3d\":[{\"type\":\"mesh3d\",\"colorbar\":{\"outlinewidth\":0,\"ticks\":\"\"}}],\"scatter\":[{\"marker\":{\"line\":{\"color\":\"#283442\"}},\"type\":\"scatter\"}],\"parcoords\":[{\"type\":\"parcoords\",\"line\":{\"colorbar\":{\"outlinewidth\":0,\"ticks\":\"\"}}}],\"scatterpolargl\":[{\"type\":\"scatterpolargl\",\"marker\":{\"colorbar\":{\"outlinewidth\":0,\"ticks\":\"\"}}}],\"bar\":[{\"error_x\":{\"color\":\"#f2f5fa\"},\"error_y\":{\"color\":\"#f2f5fa\"},\"marker\":{\"line\":{\"color\":\"rgb(17,17,17)\",\"width\":0.5},\"pattern\":{\"fillmode\":\"overlay\",\"size\":10,\"solidity\":0.2}},\"type\":\"bar\"}],\"scattergeo\":[{\"type\":\"scattergeo\",\"marker\":{\"colorbar\":{\"outlinewidth\":0,\"ticks\":\"\"}}}],\"scatterpolar\":[{\"type\":\"scatterpolar\",\"marker\":{\"colorbar\":{\"outlinewidth\":0,\"ticks\":\"\"}}}],\"histogram\":[{\"marker\":{\"pattern\":{\"fillmode\":\"overlay\",\"size\":10,\"solidity\":0.2}},\"type\":\"histogram\"}],\"scattergl\":[{\"marker\":{\"line\":{\"color\":\"#283442\"}},\"type\":\"scattergl\"}],\"scatter3d\":[{\"type\":\"scatter3d\",\"line\":{\"colorbar\":{\"outlinewidth\":0,\"ticks\":\"\"}},\"marker\":{\"colorbar\":{\"outlinewidth\":0,\"ticks\":\"\"}}}],\"scattermapbox\":[{\"type\":\"scattermapbox\",\"marker\":{\"colorbar\":{\"outlinewidth\":0,\"ticks\":\"\"}}}],\"scatterternary\":[{\"type\":\"scatterternary\",\"marker\":{\"colorbar\":{\"outlinewidth\":0,\"ticks\":\"\"}}}],\"scattercarpet\":[{\"type\":\"scattercarpet\",\"marker\":{\"colorbar\":{\"outlinewidth\":0,\"ticks\":\"\"}}}],\"carpet\":[{\"aaxis\":{\"endlinecolor\":\"#A2B1C6\",\"gridcolor\":\"#506784\",\"linecolor\":\"#506784\",\"minorgridcolor\":\"#506784\",\"startlinecolor\":\"#A2B1C6\"},\"baxis\":{\"endlinecolor\":\"#A2B1C6\",\"gridcolor\":\"#506784\",\"linecolor\":\"#506784\",\"minorgridcolor\":\"#506784\",\"startlinecolor\":\"#A2B1C6\"},\"type\":\"carpet\"}],\"table\":[{\"cells\":{\"fill\":{\"color\":\"#506784\"},\"line\":{\"color\":\"rgb(17,17,17)\"}},\"header\":{\"fill\":{\"color\":\"#2a3f5f\"},\"line\":{\"color\":\"rgb(17,17,17)\"}},\"type\":\"table\"}],\"barpolar\":[{\"marker\":{\"line\":{\"color\":\"rgb(17,17,17)\",\"width\":0.5},\"pattern\":{\"fillmode\":\"overlay\",\"size\":10,\"solidity\":0.2}},\"type\":\"barpolar\"}],\"pie\":[{\"automargin\":true,\"type\":\"pie\"}]},\"layout\":{\"autotypenumbers\":\"strict\",\"colorway\":[\"#636efa\",\"#EF553B\",\"#00cc96\",\"#ab63fa\",\"#FFA15A\",\"#19d3f3\",\"#FF6692\",\"#B6E880\",\"#FF97FF\",\"#FECB52\"],\"font\":{\"color\":\"#f2f5fa\"},\"hovermode\":\"closest\",\"hoverlabel\":{\"align\":\"left\"},\"paper_bgcolor\":\"rgb(17,17,17)\",\"plot_bgcolor\":\"rgb(17,17,17)\",\"polar\":{\"bgcolor\":\"rgb(17,17,17)\",\"angularaxis\":{\"gridcolor\":\"#506784\",\"linecolor\":\"#506784\",\"ticks\":\"\"},\"radialaxis\":{\"gridcolor\":\"#506784\",\"linecolor\":\"#506784\",\"ticks\":\"\"}},\"ternary\":{\"bgcolor\":\"rgb(17,17,17)\",\"aaxis\":{\"gridcolor\":\"#506784\",\"linecolor\":\"#506784\",\"ticks\":\"\"},\"baxis\":{\"gridcolor\":\"#506784\",\"linecolor\":\"#506784\",\"ticks\":\"\"},\"caxis\":{\"gridcolor\":\"#506784\",\"linecolor\":\"#506784\",\"ticks\":\"\"}},\"coloraxis\":{\"colorbar\":{\"outlinewidth\":0,\"ticks\":\"\"}},\"colorscale\":{\"sequential\":[[0.0,\"#0d0887\"],[0.1111111111111111,\"#46039f\"],[0.2222222222222222,\"#7201a8\"],[0.3333333333333333,\"#9c179e\"],[0.4444444444444444,\"#bd3786\"],[0.5555555555555556,\"#d8576b\"],[0.6666666666666666,\"#ed7953\"],[0.7777777777777778,\"#fb9f3a\"],[0.8888888888888888,\"#fdca26\"],[1.0,\"#f0f921\"]],\"sequentialminus\":[[0.0,\"#0d0887\"],[0.1111111111111111,\"#46039f\"],[0.2222222222222222,\"#7201a8\"],[0.3333333333333333,\"#9c179e\"],[0.4444444444444444,\"#bd3786\"],[0.5555555555555556,\"#d8576b\"],[0.6666666666666666,\"#ed7953\"],[0.7777777777777778,\"#fb9f3a\"],[0.8888888888888888,\"#fdca26\"],[1.0,\"#f0f921\"]],\"diverging\":[[0,\"#8e0152\"],[0.1,\"#c51b7d\"],[0.2,\"#de77ae\"],[0.3,\"#f1b6da\"],[0.4,\"#fde0ef\"],[0.5,\"#f7f7f7\"],[0.6,\"#e6f5d0\"],[0.7,\"#b8e186\"],[0.8,\"#7fbc41\"],[0.9,\"#4d9221\"],[1,\"#276419\"]]},\"xaxis\":{\"gridcolor\":\"#283442\",\"linecolor\":\"#506784\",\"ticks\":\"\",\"title\":{\"standoff\":15},\"zerolinecolor\":\"#283442\",\"automargin\":true,\"zerolinewidth\":2},\"yaxis\":{\"gridcolor\":\"#283442\",\"linecolor\":\"#506784\",\"ticks\":\"\",\"title\":{\"standoff\":15},\"zerolinecolor\":\"#283442\",\"automargin\":true,\"zerolinewidth\":2},\"scene\":{\"xaxis\":{\"backgroundcolor\":\"rgb(17,17,17)\",\"gridcolor\":\"#506784\",\"linecolor\":\"#506784\",\"showbackground\":true,\"ticks\":\"\",\"zerolinecolor\":\"#C8D4E3\",\"gridwidth\":2},\"yaxis\":{\"backgroundcolor\":\"rgb(17,17,17)\",\"gridcolor\":\"#506784\",\"linecolor\":\"#506784\",\"showbackground\":true,\"ticks\":\"\",\"zerolinecolor\":\"#C8D4E3\",\"gridwidth\":2},\"zaxis\":{\"backgroundcolor\":\"rgb(17,17,17)\",\"gridcolor\":\"#506784\",\"linecolor\":\"#506784\",\"showbackground\":true,\"ticks\":\"\",\"zerolinecolor\":\"#C8D4E3\",\"gridwidth\":2}},\"shapedefaults\":{\"line\":{\"color\":\"#f2f5fa\"}},\"annotationdefaults\":{\"arrowcolor\":\"#f2f5fa\",\"arrowhead\":0,\"arrowwidth\":1},\"geo\":{\"bgcolor\":\"rgb(17,17,17)\",\"landcolor\":\"rgb(17,17,17)\",\"subunitcolor\":\"#506784\",\"showland\":true,\"showlakes\":true,\"lakecolor\":\"rgb(17,17,17)\"},\"title\":{\"x\":0.05},\"updatemenudefaults\":{\"bgcolor\":\"#506784\",\"borderwidth\":0},\"sliderdefaults\":{\"bgcolor\":\"#C8D4E3\",\"borderwidth\":1,\"bordercolor\":\"rgb(17,17,17)\",\"tickwidth\":0},\"mapbox\":{\"style\":\"dark\"}}},\"title\":{\"text\":\"DistServe\"},\"xaxis\":{\"title\":{\"text\":\"Per-GPU Rate (tokens\\u002fs)\"}},\"yaxis\":{\"title\":{\"text\":\"Attainment (%)\"}},\"legend\":{\"title\":{\"text\":\"Configuration\"}}},                        {\"responsive\": true}                    ).then(function(){\n                            \nvar gd = document.getElementById('b8cac65d-00c4-4def-ba75-e18268fb127e');\nvar x = new MutationObserver(function (mutations, observer) {{\n        var display = window.getComputedStyle(gd).display;\n        if (!display || display === 'none') {{\n            console.log([gd, 'removed!']);\n            Plotly.purge(gd);\n            observer.disconnect();\n        }}\n}});\n\n// Listen for the removal of the full notebook cells\nvar notebookContainer = gd.closest('#notebook-container');\nif (notebookContainer) {{\n    x.observe(notebookContainer, {childList: true});\n}}\n\n// Listen for the clearing of the current output cell\nvar outputEl = gd.closest('.output');\nif (outputEl) {{\n    x.observe(outputEl, {childList: true});\n}}\n\n                        })                };                });            </script>        </div>"
     },
     "metadata": {},
     "output_type": "display_data"
    }
   ],
   "source": [
    "# Plot the `figure_11_distserve_high`for some configurations\n",
    "# tp_prefill = 1, pp_prefill = 1, tp_decode = 1, pp_decode = 1\n",
    "# x-axis: rate\n",
    "# y-axis: attainment\n",
    "# find all combination of tp_prefill, pp_prefill, tp_decode, pp_decode\n",
    "import plotly.graph_objects as go\n",
    "\n",
    "fig = go.Figure()\n",
    "configs = figure_11_distserve_high[['tp_prefill', 'pp_prefill', 'tp_decode', 'pp_decode']].drop_duplicates()\n",
    "df = figure_11_distserve_high\n",
    "\n",
    "for tp_prefill, pp_prefill, tp_decode, pp_decode in configs.values:\n",
    "    config_df = df[\n",
    "        (df['tp_prefill'] == tp_prefill) & (df['pp_prefill'] == pp_prefill) &\n",
    "        (df['tp_decode'] == tp_decode) & (df['pp_decode'] == pp_decode)\n",
    "        ]\n",
    "    # plot this inside a plotly plot\n",
    "    fig.add_trace(go.Scatter(\n",
    "        x=config_df['per_gpu_rate'], y=config_df['attainment'],\n",
    "        mode='lines+markers', name=f\"p{tp_prefill}{pp_prefill}{tp_decode}{pp_decode}-distserve\"\n",
    "    ))\n",
    "\n",
    "# fig add title\n",
    "fig.update_layout(\n",
    "    title=\"DistServe\",\n",
    "    xaxis_title=\"Per-GPU Rate (tokens/s)\",\n",
    "    yaxis_title=\"Attainment (%)\",\n",
    "    legend_title=\"Configuration\"\n",
    ")\n",
    "\n",
    "fig.show()\n",
    "# Export to html\n",
    "fig.write_html(\"visual/figure_11_distserve_high.html\")"
   ],
   "metadata": {
    "collapsed": false,
    "ExecuteTime": {
     "end_time": "2024-04-20T06:16:50.474132Z",
     "start_time": "2024-04-20T06:16:50.429326Z"
    }
   },
   "id": "b5f32d90f99e3ad4",
   "execution_count": 80
  },
  {
   "cell_type": "code",
   "outputs": [
    {
     "data": {
      "application/vnd.plotly.v1+json": {
       "data": [
        {
         "mode": "lines+markers",
         "name": "p11-vllm",
         "x": [
          1.0,
          2.0,
          3.0,
          4.0,
          5.0
         ],
         "y": [
          92.3,
          84.3,
          78.10000000000001,
          70.8,
          58.1
         ],
         "type": "scatter"
        },
        {
         "mode": "lines+markers",
         "name": "p12-vllm",
         "x": [
          1.0,
          2.0,
          3.0,
          4.0,
          5.0
         ],
         "y": [
          89.9,
          85.6,
          72.0,
          36.1,
          12.9
         ],
         "type": "scatter"
        },
        {
         "mode": "lines+markers",
         "name": "p18-vllm",
         "x": [
          1.0,
          2.0,
          3.0,
          4.0,
          5.0
         ],
         "y": [
          0.0,
          0.0,
          0.0,
          0.0,
          0.0
         ],
         "type": "scatter"
        },
        {
         "mode": "lines+markers",
         "name": "p21-vllm",
         "x": [
          1.0,
          2.0,
          3.0,
          4.0,
          5.0
         ],
         "y": [
          98.4,
          96.1,
          88.8,
          84.6,
          63.4
         ],
         "type": "scatter"
        },
        {
         "mode": "lines+markers",
         "name": "p22-vllm",
         "x": [
          1.0,
          2.0,
          3.0,
          4.0,
          5.0
         ],
         "y": [
          99.9,
          96.7,
          82.89999999999999,
          35.4,
          13.2
         ],
         "type": "scatter"
        },
        {
         "mode": "lines+markers",
         "name": "p41-vllm",
         "x": [
          1.0,
          2.0,
          3.0,
          4.0,
          5.0
         ],
         "y": [
          100.0,
          99.1,
          98.6,
          96.9,
          93.7
         ],
         "type": "scatter"
        }
       ],
       "layout": {
        "template": {
         "data": {
          "histogram2dcontour": [
           {
            "type": "histogram2dcontour",
            "colorbar": {
             "outlinewidth": 0,
             "ticks": ""
            },
            "colorscale": [
             [
              0.0,
              "#0d0887"
             ],
             [
              0.1111111111111111,
              "#46039f"
             ],
             [
              0.2222222222222222,
              "#7201a8"
             ],
             [
              0.3333333333333333,
              "#9c179e"
             ],
             [
              0.4444444444444444,
              "#bd3786"
             ],
             [
              0.5555555555555556,
              "#d8576b"
             ],
             [
              0.6666666666666666,
              "#ed7953"
             ],
             [
              0.7777777777777778,
              "#fb9f3a"
             ],
             [
              0.8888888888888888,
              "#fdca26"
             ],
             [
              1.0,
              "#f0f921"
             ]
            ]
           }
          ],
          "choropleth": [
           {
            "type": "choropleth",
            "colorbar": {
             "outlinewidth": 0,
             "ticks": ""
            }
           }
          ],
          "histogram2d": [
           {
            "type": "histogram2d",
            "colorbar": {
             "outlinewidth": 0,
             "ticks": ""
            },
            "colorscale": [
             [
              0.0,
              "#0d0887"
             ],
             [
              0.1111111111111111,
              "#46039f"
             ],
             [
              0.2222222222222222,
              "#7201a8"
             ],
             [
              0.3333333333333333,
              "#9c179e"
             ],
             [
              0.4444444444444444,
              "#bd3786"
             ],
             [
              0.5555555555555556,
              "#d8576b"
             ],
             [
              0.6666666666666666,
              "#ed7953"
             ],
             [
              0.7777777777777778,
              "#fb9f3a"
             ],
             [
              0.8888888888888888,
              "#fdca26"
             ],
             [
              1.0,
              "#f0f921"
             ]
            ]
           }
          ],
          "heatmap": [
           {
            "type": "heatmap",
            "colorbar": {
             "outlinewidth": 0,
             "ticks": ""
            },
            "colorscale": [
             [
              0.0,
              "#0d0887"
             ],
             [
              0.1111111111111111,
              "#46039f"
             ],
             [
              0.2222222222222222,
              "#7201a8"
             ],
             [
              0.3333333333333333,
              "#9c179e"
             ],
             [
              0.4444444444444444,
              "#bd3786"
             ],
             [
              0.5555555555555556,
              "#d8576b"
             ],
             [
              0.6666666666666666,
              "#ed7953"
             ],
             [
              0.7777777777777778,
              "#fb9f3a"
             ],
             [
              0.8888888888888888,
              "#fdca26"
             ],
             [
              1.0,
              "#f0f921"
             ]
            ]
           }
          ],
          "heatmapgl": [
           {
            "type": "heatmapgl",
            "colorbar": {
             "outlinewidth": 0,
             "ticks": ""
            },
            "colorscale": [
             [
              0.0,
              "#0d0887"
             ],
             [
              0.1111111111111111,
              "#46039f"
             ],
             [
              0.2222222222222222,
              "#7201a8"
             ],
             [
              0.3333333333333333,
              "#9c179e"
             ],
             [
              0.4444444444444444,
              "#bd3786"
             ],
             [
              0.5555555555555556,
              "#d8576b"
             ],
             [
              0.6666666666666666,
              "#ed7953"
             ],
             [
              0.7777777777777778,
              "#fb9f3a"
             ],
             [
              0.8888888888888888,
              "#fdca26"
             ],
             [
              1.0,
              "#f0f921"
             ]
            ]
           }
          ],
          "contourcarpet": [
           {
            "type": "contourcarpet",
            "colorbar": {
             "outlinewidth": 0,
             "ticks": ""
            }
           }
          ],
          "contour": [
           {
            "type": "contour",
            "colorbar": {
             "outlinewidth": 0,
             "ticks": ""
            },
            "colorscale": [
             [
              0.0,
              "#0d0887"
             ],
             [
              0.1111111111111111,
              "#46039f"
             ],
             [
              0.2222222222222222,
              "#7201a8"
             ],
             [
              0.3333333333333333,
              "#9c179e"
             ],
             [
              0.4444444444444444,
              "#bd3786"
             ],
             [
              0.5555555555555556,
              "#d8576b"
             ],
             [
              0.6666666666666666,
              "#ed7953"
             ],
             [
              0.7777777777777778,
              "#fb9f3a"
             ],
             [
              0.8888888888888888,
              "#fdca26"
             ],
             [
              1.0,
              "#f0f921"
             ]
            ]
           }
          ],
          "surface": [
           {
            "type": "surface",
            "colorbar": {
             "outlinewidth": 0,
             "ticks": ""
            },
            "colorscale": [
             [
              0.0,
              "#0d0887"
             ],
             [
              0.1111111111111111,
              "#46039f"
             ],
             [
              0.2222222222222222,
              "#7201a8"
             ],
             [
              0.3333333333333333,
              "#9c179e"
             ],
             [
              0.4444444444444444,
              "#bd3786"
             ],
             [
              0.5555555555555556,
              "#d8576b"
             ],
             [
              0.6666666666666666,
              "#ed7953"
             ],
             [
              0.7777777777777778,
              "#fb9f3a"
             ],
             [
              0.8888888888888888,
              "#fdca26"
             ],
             [
              1.0,
              "#f0f921"
             ]
            ]
           }
          ],
          "mesh3d": [
           {
            "type": "mesh3d",
            "colorbar": {
             "outlinewidth": 0,
             "ticks": ""
            }
           }
          ],
          "scatter": [
           {
            "marker": {
             "line": {
              "color": "#283442"
             }
            },
            "type": "scatter"
           }
          ],
          "parcoords": [
           {
            "type": "parcoords",
            "line": {
             "colorbar": {
              "outlinewidth": 0,
              "ticks": ""
             }
            }
           }
          ],
          "scatterpolargl": [
           {
            "type": "scatterpolargl",
            "marker": {
             "colorbar": {
              "outlinewidth": 0,
              "ticks": ""
             }
            }
           }
          ],
          "bar": [
           {
            "error_x": {
             "color": "#f2f5fa"
            },
            "error_y": {
             "color": "#f2f5fa"
            },
            "marker": {
             "line": {
              "color": "rgb(17,17,17)",
              "width": 0.5
             },
             "pattern": {
              "fillmode": "overlay",
              "size": 10,
              "solidity": 0.2
             }
            },
            "type": "bar"
           }
          ],
          "scattergeo": [
           {
            "type": "scattergeo",
            "marker": {
             "colorbar": {
              "outlinewidth": 0,
              "ticks": ""
             }
            }
           }
          ],
          "scatterpolar": [
           {
            "type": "scatterpolar",
            "marker": {
             "colorbar": {
              "outlinewidth": 0,
              "ticks": ""
             }
            }
           }
          ],
          "histogram": [
           {
            "marker": {
             "pattern": {
              "fillmode": "overlay",
              "size": 10,
              "solidity": 0.2
             }
            },
            "type": "histogram"
           }
          ],
          "scattergl": [
           {
            "marker": {
             "line": {
              "color": "#283442"
             }
            },
            "type": "scattergl"
           }
          ],
          "scatter3d": [
           {
            "type": "scatter3d",
            "line": {
             "colorbar": {
              "outlinewidth": 0,
              "ticks": ""
             }
            },
            "marker": {
             "colorbar": {
              "outlinewidth": 0,
              "ticks": ""
             }
            }
           }
          ],
          "scattermapbox": [
           {
            "type": "scattermapbox",
            "marker": {
             "colorbar": {
              "outlinewidth": 0,
              "ticks": ""
             }
            }
           }
          ],
          "scatterternary": [
           {
            "type": "scatterternary",
            "marker": {
             "colorbar": {
              "outlinewidth": 0,
              "ticks": ""
             }
            }
           }
          ],
          "scattercarpet": [
           {
            "type": "scattercarpet",
            "marker": {
             "colorbar": {
              "outlinewidth": 0,
              "ticks": ""
             }
            }
           }
          ],
          "carpet": [
           {
            "aaxis": {
             "endlinecolor": "#A2B1C6",
             "gridcolor": "#506784",
             "linecolor": "#506784",
             "minorgridcolor": "#506784",
             "startlinecolor": "#A2B1C6"
            },
            "baxis": {
             "endlinecolor": "#A2B1C6",
             "gridcolor": "#506784",
             "linecolor": "#506784",
             "minorgridcolor": "#506784",
             "startlinecolor": "#A2B1C6"
            },
            "type": "carpet"
           }
          ],
          "table": [
           {
            "cells": {
             "fill": {
              "color": "#506784"
             },
             "line": {
              "color": "rgb(17,17,17)"
             }
            },
            "header": {
             "fill": {
              "color": "#2a3f5f"
             },
             "line": {
              "color": "rgb(17,17,17)"
             }
            },
            "type": "table"
           }
          ],
          "barpolar": [
           {
            "marker": {
             "line": {
              "color": "rgb(17,17,17)",
              "width": 0.5
             },
             "pattern": {
              "fillmode": "overlay",
              "size": 10,
              "solidity": 0.2
             }
            },
            "type": "barpolar"
           }
          ],
          "pie": [
           {
            "automargin": true,
            "type": "pie"
           }
          ]
         },
         "layout": {
          "autotypenumbers": "strict",
          "colorway": [
           "#636efa",
           "#EF553B",
           "#00cc96",
           "#ab63fa",
           "#FFA15A",
           "#19d3f3",
           "#FF6692",
           "#B6E880",
           "#FF97FF",
           "#FECB52"
          ],
          "font": {
           "color": "#f2f5fa"
          },
          "hovermode": "closest",
          "hoverlabel": {
           "align": "left"
          },
          "paper_bgcolor": "rgb(17,17,17)",
          "plot_bgcolor": "rgb(17,17,17)",
          "polar": {
           "bgcolor": "rgb(17,17,17)",
           "angularaxis": {
            "gridcolor": "#506784",
            "linecolor": "#506784",
            "ticks": ""
           },
           "radialaxis": {
            "gridcolor": "#506784",
            "linecolor": "#506784",
            "ticks": ""
           }
          },
          "ternary": {
           "bgcolor": "rgb(17,17,17)",
           "aaxis": {
            "gridcolor": "#506784",
            "linecolor": "#506784",
            "ticks": ""
           },
           "baxis": {
            "gridcolor": "#506784",
            "linecolor": "#506784",
            "ticks": ""
           },
           "caxis": {
            "gridcolor": "#506784",
            "linecolor": "#506784",
            "ticks": ""
           }
          },
          "coloraxis": {
           "colorbar": {
            "outlinewidth": 0,
            "ticks": ""
           }
          },
          "colorscale": {
           "sequential": [
            [
             0.0,
             "#0d0887"
            ],
            [
             0.1111111111111111,
             "#46039f"
            ],
            [
             0.2222222222222222,
             "#7201a8"
            ],
            [
             0.3333333333333333,
             "#9c179e"
            ],
            [
             0.4444444444444444,
             "#bd3786"
            ],
            [
             0.5555555555555556,
             "#d8576b"
            ],
            [
             0.6666666666666666,
             "#ed7953"
            ],
            [
             0.7777777777777778,
             "#fb9f3a"
            ],
            [
             0.8888888888888888,
             "#fdca26"
            ],
            [
             1.0,
             "#f0f921"
            ]
           ],
           "sequentialminus": [
            [
             0.0,
             "#0d0887"
            ],
            [
             0.1111111111111111,
             "#46039f"
            ],
            [
             0.2222222222222222,
             "#7201a8"
            ],
            [
             0.3333333333333333,
             "#9c179e"
            ],
            [
             0.4444444444444444,
             "#bd3786"
            ],
            [
             0.5555555555555556,
             "#d8576b"
            ],
            [
             0.6666666666666666,
             "#ed7953"
            ],
            [
             0.7777777777777778,
             "#fb9f3a"
            ],
            [
             0.8888888888888888,
             "#fdca26"
            ],
            [
             1.0,
             "#f0f921"
            ]
           ],
           "diverging": [
            [
             0,
             "#8e0152"
            ],
            [
             0.1,
             "#c51b7d"
            ],
            [
             0.2,
             "#de77ae"
            ],
            [
             0.3,
             "#f1b6da"
            ],
            [
             0.4,
             "#fde0ef"
            ],
            [
             0.5,
             "#f7f7f7"
            ],
            [
             0.6,
             "#e6f5d0"
            ],
            [
             0.7,
             "#b8e186"
            ],
            [
             0.8,
             "#7fbc41"
            ],
            [
             0.9,
             "#4d9221"
            ],
            [
             1,
             "#276419"
            ]
           ]
          },
          "xaxis": {
           "gridcolor": "#283442",
           "linecolor": "#506784",
           "ticks": "",
           "title": {
            "standoff": 15
           },
           "zerolinecolor": "#283442",
           "automargin": true,
           "zerolinewidth": 2
          },
          "yaxis": {
           "gridcolor": "#283442",
           "linecolor": "#506784",
           "ticks": "",
           "title": {
            "standoff": 15
           },
           "zerolinecolor": "#283442",
           "automargin": true,
           "zerolinewidth": 2
          },
          "scene": {
           "xaxis": {
            "backgroundcolor": "rgb(17,17,17)",
            "gridcolor": "#506784",
            "linecolor": "#506784",
            "showbackground": true,
            "ticks": "",
            "zerolinecolor": "#C8D4E3",
            "gridwidth": 2
           },
           "yaxis": {
            "backgroundcolor": "rgb(17,17,17)",
            "gridcolor": "#506784",
            "linecolor": "#506784",
            "showbackground": true,
            "ticks": "",
            "zerolinecolor": "#C8D4E3",
            "gridwidth": 2
           },
           "zaxis": {
            "backgroundcolor": "rgb(17,17,17)",
            "gridcolor": "#506784",
            "linecolor": "#506784",
            "showbackground": true,
            "ticks": "",
            "zerolinecolor": "#C8D4E3",
            "gridwidth": 2
           }
          },
          "shapedefaults": {
           "line": {
            "color": "#f2f5fa"
           }
          },
          "annotationdefaults": {
           "arrowcolor": "#f2f5fa",
           "arrowhead": 0,
           "arrowwidth": 1
          },
          "geo": {
           "bgcolor": "rgb(17,17,17)",
           "landcolor": "rgb(17,17,17)",
           "subunitcolor": "#506784",
           "showland": true,
           "showlakes": true,
           "lakecolor": "rgb(17,17,17)"
          },
          "title": {
           "x": 0.05
          },
          "updatemenudefaults": {
           "bgcolor": "#506784",
           "borderwidth": 0
          },
          "sliderdefaults": {
           "bgcolor": "#C8D4E3",
           "borderwidth": 1,
           "bordercolor": "rgb(17,17,17)",
           "tickwidth": 0
          },
          "mapbox": {
           "style": "dark"
          }
         }
        },
        "title": {
         "text": "vLLM++"
        },
        "xaxis": {
         "title": {
          "text": "Per-GPU Rate (tokens/s)"
         }
        },
        "yaxis": {
         "title": {
          "text": "Attainment (%)"
         }
        },
        "legend": {
         "title": {
          "text": "Configuration"
         }
        }
       },
       "config": {
        "plotlyServerURL": "https://plot.ly"
       }
      },
      "text/html": "<div>                            <div id=\"b713d65c-b38a-4d44-9f56-0f421aaf3436\" class=\"plotly-graph-div\" style=\"height:525px; width:100%;\"></div>            <script type=\"text/javascript\">                require([\"plotly\"], function(Plotly) {                    window.PLOTLYENV=window.PLOTLYENV || {};                                    if (document.getElementById(\"b713d65c-b38a-4d44-9f56-0f421aaf3436\")) {                    Plotly.newPlot(                        \"b713d65c-b38a-4d44-9f56-0f421aaf3436\",                        [{\"mode\":\"lines+markers\",\"name\":\"p11-vllm\",\"x\":[1.0,2.0,3.0,4.0,5.0],\"y\":[92.3,84.3,78.10000000000001,70.8,58.1],\"type\":\"scatter\"},{\"mode\":\"lines+markers\",\"name\":\"p12-vllm\",\"x\":[1.0,2.0,3.0,4.0,5.0],\"y\":[89.9,85.6,72.0,36.1,12.9],\"type\":\"scatter\"},{\"mode\":\"lines+markers\",\"name\":\"p18-vllm\",\"x\":[1.0,2.0,3.0,4.0,5.0],\"y\":[0.0,0.0,0.0,0.0,0.0],\"type\":\"scatter\"},{\"mode\":\"lines+markers\",\"name\":\"p21-vllm\",\"x\":[1.0,2.0,3.0,4.0,5.0],\"y\":[98.4,96.1,88.8,84.6,63.4],\"type\":\"scatter\"},{\"mode\":\"lines+markers\",\"name\":\"p22-vllm\",\"x\":[1.0,2.0,3.0,4.0,5.0],\"y\":[99.9,96.7,82.89999999999999,35.4,13.2],\"type\":\"scatter\"},{\"mode\":\"lines+markers\",\"name\":\"p41-vllm\",\"x\":[1.0,2.0,3.0,4.0,5.0],\"y\":[100.0,99.1,98.6,96.9,93.7],\"type\":\"scatter\"}],                        {\"template\":{\"data\":{\"histogram2dcontour\":[{\"type\":\"histogram2dcontour\",\"colorbar\":{\"outlinewidth\":0,\"ticks\":\"\"},\"colorscale\":[[0.0,\"#0d0887\"],[0.1111111111111111,\"#46039f\"],[0.2222222222222222,\"#7201a8\"],[0.3333333333333333,\"#9c179e\"],[0.4444444444444444,\"#bd3786\"],[0.5555555555555556,\"#d8576b\"],[0.6666666666666666,\"#ed7953\"],[0.7777777777777778,\"#fb9f3a\"],[0.8888888888888888,\"#fdca26\"],[1.0,\"#f0f921\"]]}],\"choropleth\":[{\"type\":\"choropleth\",\"colorbar\":{\"outlinewidth\":0,\"ticks\":\"\"}}],\"histogram2d\":[{\"type\":\"histogram2d\",\"colorbar\":{\"outlinewidth\":0,\"ticks\":\"\"},\"colorscale\":[[0.0,\"#0d0887\"],[0.1111111111111111,\"#46039f\"],[0.2222222222222222,\"#7201a8\"],[0.3333333333333333,\"#9c179e\"],[0.4444444444444444,\"#bd3786\"],[0.5555555555555556,\"#d8576b\"],[0.6666666666666666,\"#ed7953\"],[0.7777777777777778,\"#fb9f3a\"],[0.8888888888888888,\"#fdca26\"],[1.0,\"#f0f921\"]]}],\"heatmap\":[{\"type\":\"heatmap\",\"colorbar\":{\"outlinewidth\":0,\"ticks\":\"\"},\"colorscale\":[[0.0,\"#0d0887\"],[0.1111111111111111,\"#46039f\"],[0.2222222222222222,\"#7201a8\"],[0.3333333333333333,\"#9c179e\"],[0.4444444444444444,\"#bd3786\"],[0.5555555555555556,\"#d8576b\"],[0.6666666666666666,\"#ed7953\"],[0.7777777777777778,\"#fb9f3a\"],[0.8888888888888888,\"#fdca26\"],[1.0,\"#f0f921\"]]}],\"heatmapgl\":[{\"type\":\"heatmapgl\",\"colorbar\":{\"outlinewidth\":0,\"ticks\":\"\"},\"colorscale\":[[0.0,\"#0d0887\"],[0.1111111111111111,\"#46039f\"],[0.2222222222222222,\"#7201a8\"],[0.3333333333333333,\"#9c179e\"],[0.4444444444444444,\"#bd3786\"],[0.5555555555555556,\"#d8576b\"],[0.6666666666666666,\"#ed7953\"],[0.7777777777777778,\"#fb9f3a\"],[0.8888888888888888,\"#fdca26\"],[1.0,\"#f0f921\"]]}],\"contourcarpet\":[{\"type\":\"contourcarpet\",\"colorbar\":{\"outlinewidth\":0,\"ticks\":\"\"}}],\"contour\":[{\"type\":\"contour\",\"colorbar\":{\"outlinewidth\":0,\"ticks\":\"\"},\"colorscale\":[[0.0,\"#0d0887\"],[0.1111111111111111,\"#46039f\"],[0.2222222222222222,\"#7201a8\"],[0.3333333333333333,\"#9c179e\"],[0.4444444444444444,\"#bd3786\"],[0.5555555555555556,\"#d8576b\"],[0.6666666666666666,\"#ed7953\"],[0.7777777777777778,\"#fb9f3a\"],[0.8888888888888888,\"#fdca26\"],[1.0,\"#f0f921\"]]}],\"surface\":[{\"type\":\"surface\",\"colorbar\":{\"outlinewidth\":0,\"ticks\":\"\"},\"colorscale\":[[0.0,\"#0d0887\"],[0.1111111111111111,\"#46039f\"],[0.2222222222222222,\"#7201a8\"],[0.3333333333333333,\"#9c179e\"],[0.4444444444444444,\"#bd3786\"],[0.5555555555555556,\"#d8576b\"],[0.6666666666666666,\"#ed7953\"],[0.7777777777777778,\"#fb9f3a\"],[0.8888888888888888,\"#fdca26\"],[1.0,\"#f0f921\"]]}],\"mesh3d\":[{\"type\":\"mesh3d\",\"colorbar\":{\"outlinewidth\":0,\"ticks\":\"\"}}],\"scatter\":[{\"marker\":{\"line\":{\"color\":\"#283442\"}},\"type\":\"scatter\"}],\"parcoords\":[{\"type\":\"parcoords\",\"line\":{\"colorbar\":{\"outlinewidth\":0,\"ticks\":\"\"}}}],\"scatterpolargl\":[{\"type\":\"scatterpolargl\",\"marker\":{\"colorbar\":{\"outlinewidth\":0,\"ticks\":\"\"}}}],\"bar\":[{\"error_x\":{\"color\":\"#f2f5fa\"},\"error_y\":{\"color\":\"#f2f5fa\"},\"marker\":{\"line\":{\"color\":\"rgb(17,17,17)\",\"width\":0.5},\"pattern\":{\"fillmode\":\"overlay\",\"size\":10,\"solidity\":0.2}},\"type\":\"bar\"}],\"scattergeo\":[{\"type\":\"scattergeo\",\"marker\":{\"colorbar\":{\"outlinewidth\":0,\"ticks\":\"\"}}}],\"scatterpolar\":[{\"type\":\"scatterpolar\",\"marker\":{\"colorbar\":{\"outlinewidth\":0,\"ticks\":\"\"}}}],\"histogram\":[{\"marker\":{\"pattern\":{\"fillmode\":\"overlay\",\"size\":10,\"solidity\":0.2}},\"type\":\"histogram\"}],\"scattergl\":[{\"marker\":{\"line\":{\"color\":\"#283442\"}},\"type\":\"scattergl\"}],\"scatter3d\":[{\"type\":\"scatter3d\",\"line\":{\"colorbar\":{\"outlinewidth\":0,\"ticks\":\"\"}},\"marker\":{\"colorbar\":{\"outlinewidth\":0,\"ticks\":\"\"}}}],\"scattermapbox\":[{\"type\":\"scattermapbox\",\"marker\":{\"colorbar\":{\"outlinewidth\":0,\"ticks\":\"\"}}}],\"scatterternary\":[{\"type\":\"scatterternary\",\"marker\":{\"colorbar\":{\"outlinewidth\":0,\"ticks\":\"\"}}}],\"scattercarpet\":[{\"type\":\"scattercarpet\",\"marker\":{\"colorbar\":{\"outlinewidth\":0,\"ticks\":\"\"}}}],\"carpet\":[{\"aaxis\":{\"endlinecolor\":\"#A2B1C6\",\"gridcolor\":\"#506784\",\"linecolor\":\"#506784\",\"minorgridcolor\":\"#506784\",\"startlinecolor\":\"#A2B1C6\"},\"baxis\":{\"endlinecolor\":\"#A2B1C6\",\"gridcolor\":\"#506784\",\"linecolor\":\"#506784\",\"minorgridcolor\":\"#506784\",\"startlinecolor\":\"#A2B1C6\"},\"type\":\"carpet\"}],\"table\":[{\"cells\":{\"fill\":{\"color\":\"#506784\"},\"line\":{\"color\":\"rgb(17,17,17)\"}},\"header\":{\"fill\":{\"color\":\"#2a3f5f\"},\"line\":{\"color\":\"rgb(17,17,17)\"}},\"type\":\"table\"}],\"barpolar\":[{\"marker\":{\"line\":{\"color\":\"rgb(17,17,17)\",\"width\":0.5},\"pattern\":{\"fillmode\":\"overlay\",\"size\":10,\"solidity\":0.2}},\"type\":\"barpolar\"}],\"pie\":[{\"automargin\":true,\"type\":\"pie\"}]},\"layout\":{\"autotypenumbers\":\"strict\",\"colorway\":[\"#636efa\",\"#EF553B\",\"#00cc96\",\"#ab63fa\",\"#FFA15A\",\"#19d3f3\",\"#FF6692\",\"#B6E880\",\"#FF97FF\",\"#FECB52\"],\"font\":{\"color\":\"#f2f5fa\"},\"hovermode\":\"closest\",\"hoverlabel\":{\"align\":\"left\"},\"paper_bgcolor\":\"rgb(17,17,17)\",\"plot_bgcolor\":\"rgb(17,17,17)\",\"polar\":{\"bgcolor\":\"rgb(17,17,17)\",\"angularaxis\":{\"gridcolor\":\"#506784\",\"linecolor\":\"#506784\",\"ticks\":\"\"},\"radialaxis\":{\"gridcolor\":\"#506784\",\"linecolor\":\"#506784\",\"ticks\":\"\"}},\"ternary\":{\"bgcolor\":\"rgb(17,17,17)\",\"aaxis\":{\"gridcolor\":\"#506784\",\"linecolor\":\"#506784\",\"ticks\":\"\"},\"baxis\":{\"gridcolor\":\"#506784\",\"linecolor\":\"#506784\",\"ticks\":\"\"},\"caxis\":{\"gridcolor\":\"#506784\",\"linecolor\":\"#506784\",\"ticks\":\"\"}},\"coloraxis\":{\"colorbar\":{\"outlinewidth\":0,\"ticks\":\"\"}},\"colorscale\":{\"sequential\":[[0.0,\"#0d0887\"],[0.1111111111111111,\"#46039f\"],[0.2222222222222222,\"#7201a8\"],[0.3333333333333333,\"#9c179e\"],[0.4444444444444444,\"#bd3786\"],[0.5555555555555556,\"#d8576b\"],[0.6666666666666666,\"#ed7953\"],[0.7777777777777778,\"#fb9f3a\"],[0.8888888888888888,\"#fdca26\"],[1.0,\"#f0f921\"]],\"sequentialminus\":[[0.0,\"#0d0887\"],[0.1111111111111111,\"#46039f\"],[0.2222222222222222,\"#7201a8\"],[0.3333333333333333,\"#9c179e\"],[0.4444444444444444,\"#bd3786\"],[0.5555555555555556,\"#d8576b\"],[0.6666666666666666,\"#ed7953\"],[0.7777777777777778,\"#fb9f3a\"],[0.8888888888888888,\"#fdca26\"],[1.0,\"#f0f921\"]],\"diverging\":[[0,\"#8e0152\"],[0.1,\"#c51b7d\"],[0.2,\"#de77ae\"],[0.3,\"#f1b6da\"],[0.4,\"#fde0ef\"],[0.5,\"#f7f7f7\"],[0.6,\"#e6f5d0\"],[0.7,\"#b8e186\"],[0.8,\"#7fbc41\"],[0.9,\"#4d9221\"],[1,\"#276419\"]]},\"xaxis\":{\"gridcolor\":\"#283442\",\"linecolor\":\"#506784\",\"ticks\":\"\",\"title\":{\"standoff\":15},\"zerolinecolor\":\"#283442\",\"automargin\":true,\"zerolinewidth\":2},\"yaxis\":{\"gridcolor\":\"#283442\",\"linecolor\":\"#506784\",\"ticks\":\"\",\"title\":{\"standoff\":15},\"zerolinecolor\":\"#283442\",\"automargin\":true,\"zerolinewidth\":2},\"scene\":{\"xaxis\":{\"backgroundcolor\":\"rgb(17,17,17)\",\"gridcolor\":\"#506784\",\"linecolor\":\"#506784\",\"showbackground\":true,\"ticks\":\"\",\"zerolinecolor\":\"#C8D4E3\",\"gridwidth\":2},\"yaxis\":{\"backgroundcolor\":\"rgb(17,17,17)\",\"gridcolor\":\"#506784\",\"linecolor\":\"#506784\",\"showbackground\":true,\"ticks\":\"\",\"zerolinecolor\":\"#C8D4E3\",\"gridwidth\":2},\"zaxis\":{\"backgroundcolor\":\"rgb(17,17,17)\",\"gridcolor\":\"#506784\",\"linecolor\":\"#506784\",\"showbackground\":true,\"ticks\":\"\",\"zerolinecolor\":\"#C8D4E3\",\"gridwidth\":2}},\"shapedefaults\":{\"line\":{\"color\":\"#f2f5fa\"}},\"annotationdefaults\":{\"arrowcolor\":\"#f2f5fa\",\"arrowhead\":0,\"arrowwidth\":1},\"geo\":{\"bgcolor\":\"rgb(17,17,17)\",\"landcolor\":\"rgb(17,17,17)\",\"subunitcolor\":\"#506784\",\"showland\":true,\"showlakes\":true,\"lakecolor\":\"rgb(17,17,17)\"},\"title\":{\"x\":0.05},\"updatemenudefaults\":{\"bgcolor\":\"#506784\",\"borderwidth\":0},\"sliderdefaults\":{\"bgcolor\":\"#C8D4E3\",\"borderwidth\":1,\"bordercolor\":\"rgb(17,17,17)\",\"tickwidth\":0},\"mapbox\":{\"style\":\"dark\"}}},\"title\":{\"text\":\"vLLM++\"},\"xaxis\":{\"title\":{\"text\":\"Per-GPU Rate (tokens\\u002fs)\"}},\"yaxis\":{\"title\":{\"text\":\"Attainment (%)\"}},\"legend\":{\"title\":{\"text\":\"Configuration\"}}},                        {\"responsive\": true}                    ).then(function(){\n                            \nvar gd = document.getElementById('b713d65c-b38a-4d44-9f56-0f421aaf3436');\nvar x = new MutationObserver(function (mutations, observer) {{\n        var display = window.getComputedStyle(gd).display;\n        if (!display || display === 'none') {{\n            console.log([gd, 'removed!']);\n            Plotly.purge(gd);\n            observer.disconnect();\n        }}\n}});\n\n// Listen for the removal of the full notebook cells\nvar notebookContainer = gd.closest('#notebook-container');\nif (notebookContainer) {{\n    x.observe(notebookContainer, {childList: true});\n}}\n\n// Listen for the clearing of the current output cell\nvar outputEl = gd.closest('.output');\nif (outputEl) {{\n    x.observe(outputEl, {childList: true});\n}}\n\n                        })                };                });            </script>        </div>"
     },
     "metadata": {},
     "output_type": "display_data"
    }
   ],
   "source": [
    "# Plot the `figure_11_vllm_high`for some configurations\n",
    "# tp_prefill = 1, pp_prefill = 1\n",
    "# x-axis: rate\n",
    "# y-axis: attainment\n",
    "# find all combination of tp_prefill, pp_prefill\n",
    "import plotly.graph_objects as go\n",
    "\n",
    "fig = go.Figure()\n",
    "configs = figure_11_vllm_high[['tp_prefill', 'pp_prefill']].drop_duplicates()\n",
    "df = figure_11_vllm_high\n",
    "\n",
    "for tp_prefill, pp_prefill in configs.values:\n",
    "    config_df = df[\n",
    "        (df['tp_prefill'] == tp_prefill) & (df['pp_prefill'] == pp_prefill)\n",
    "        ]\n",
    "    # plot this inside a plotly plot\n",
    "    fig.add_trace(go.Scatter(\n",
    "        x=config_df['per_gpu_rate'], y=config_df['attainment'],\n",
    "        mode='lines+markers', name=f\"p{tp_prefill}{pp_prefill}-vllm\"\n",
    "    ))\n",
    "\n",
    "# fig add title\n",
    "fig.update_layout(\n",
    "    title=\"vLLM++\",\n",
    "    xaxis_title=\"Per-GPU Rate (tokens/s)\",\n",
    "    yaxis_title=\"Attainment (%)\",\n",
    "    legend_title=\"Configuration\"\n",
    ")\n",
    "fig.show()\n",
    "# Export to html\n",
    "fig.write_html(\"visual/figure_11_vllm_high.html\")"
   ],
   "metadata": {
    "collapsed": false,
    "ExecuteTime": {
     "end_time": "2024-04-20T06:16:51.404418Z",
     "start_time": "2024-04-20T06:16:51.382466Z"
    }
   },
   "id": "850a4845f690b806",
   "execution_count": 81
  },
  {
   "cell_type": "code",
   "outputs": [],
   "source": [],
   "metadata": {
    "collapsed": false,
    "ExecuteTime": {
     "end_time": "2024-04-20T06:06:58.749952Z",
     "start_time": "2024-04-20T06:06:58.740238Z"
    }
   },
   "id": "97da25d4cb5d76ff",
   "execution_count": 71
  },
  {
   "cell_type": "code",
   "outputs": [],
   "source": [],
   "metadata": {
    "collapsed": false
   },
   "id": "559c4a50d75e339c"
  },
  {
   "cell_type": "code",
   "outputs": [
    {
     "data": {
      "application/vnd.plotly.v1+json": {
       "data": [
        {
         "mode": "lines+markers",
         "name": "disthigh-p2111",
         "x": [
          1.0,
          2.0,
          3.0,
          4.0,
          5.0
         ],
         "y": [
          98.5,
          91.8,
          31.6,
          17.5,
          7.9
         ],
         "type": "scatter"
        },
        {
         "mode": "lines+markers",
         "name": "distlow-p2111",
         "x": [
          1.0,
          2.0,
          3.0,
          4.0,
          5.0
         ],
         "y": [
          98.5,
          91.8,
          31.6,
          17.5,
          7.9
         ],
         "type": "scatter"
        },
        {
         "mode": "lines+markers",
         "name": "vllm++-p12",
         "x": [
          1.0,
          2.0,
          3.0,
          4.0,
          5.0
         ],
         "y": [
          89.9,
          85.6,
          72.0,
          36.1,
          12.9
         ],
         "type": "scatter"
        },
        {
         "mode": "lines+markers",
         "name": "vllm-p11",
         "x": [
          1.0,
          2.0,
          3.0,
          4.0,
          5.0
         ],
         "y": [
          92.3,
          84.3,
          78.10000000000001,
          70.8,
          58.1
         ],
         "type": "scatter"
        }
       ],
       "layout": {
        "template": {
         "data": {
          "histogram2dcontour": [
           {
            "type": "histogram2dcontour",
            "colorbar": {
             "outlinewidth": 0,
             "ticks": ""
            },
            "colorscale": [
             [
              0.0,
              "#0d0887"
             ],
             [
              0.1111111111111111,
              "#46039f"
             ],
             [
              0.2222222222222222,
              "#7201a8"
             ],
             [
              0.3333333333333333,
              "#9c179e"
             ],
             [
              0.4444444444444444,
              "#bd3786"
             ],
             [
              0.5555555555555556,
              "#d8576b"
             ],
             [
              0.6666666666666666,
              "#ed7953"
             ],
             [
              0.7777777777777778,
              "#fb9f3a"
             ],
             [
              0.8888888888888888,
              "#fdca26"
             ],
             [
              1.0,
              "#f0f921"
             ]
            ]
           }
          ],
          "choropleth": [
           {
            "type": "choropleth",
            "colorbar": {
             "outlinewidth": 0,
             "ticks": ""
            }
           }
          ],
          "histogram2d": [
           {
            "type": "histogram2d",
            "colorbar": {
             "outlinewidth": 0,
             "ticks": ""
            },
            "colorscale": [
             [
              0.0,
              "#0d0887"
             ],
             [
              0.1111111111111111,
              "#46039f"
             ],
             [
              0.2222222222222222,
              "#7201a8"
             ],
             [
              0.3333333333333333,
              "#9c179e"
             ],
             [
              0.4444444444444444,
              "#bd3786"
             ],
             [
              0.5555555555555556,
              "#d8576b"
             ],
             [
              0.6666666666666666,
              "#ed7953"
             ],
             [
              0.7777777777777778,
              "#fb9f3a"
             ],
             [
              0.8888888888888888,
              "#fdca26"
             ],
             [
              1.0,
              "#f0f921"
             ]
            ]
           }
          ],
          "heatmap": [
           {
            "type": "heatmap",
            "colorbar": {
             "outlinewidth": 0,
             "ticks": ""
            },
            "colorscale": [
             [
              0.0,
              "#0d0887"
             ],
             [
              0.1111111111111111,
              "#46039f"
             ],
             [
              0.2222222222222222,
              "#7201a8"
             ],
             [
              0.3333333333333333,
              "#9c179e"
             ],
             [
              0.4444444444444444,
              "#bd3786"
             ],
             [
              0.5555555555555556,
              "#d8576b"
             ],
             [
              0.6666666666666666,
              "#ed7953"
             ],
             [
              0.7777777777777778,
              "#fb9f3a"
             ],
             [
              0.8888888888888888,
              "#fdca26"
             ],
             [
              1.0,
              "#f0f921"
             ]
            ]
           }
          ],
          "heatmapgl": [
           {
            "type": "heatmapgl",
            "colorbar": {
             "outlinewidth": 0,
             "ticks": ""
            },
            "colorscale": [
             [
              0.0,
              "#0d0887"
             ],
             [
              0.1111111111111111,
              "#46039f"
             ],
             [
              0.2222222222222222,
              "#7201a8"
             ],
             [
              0.3333333333333333,
              "#9c179e"
             ],
             [
              0.4444444444444444,
              "#bd3786"
             ],
             [
              0.5555555555555556,
              "#d8576b"
             ],
             [
              0.6666666666666666,
              "#ed7953"
             ],
             [
              0.7777777777777778,
              "#fb9f3a"
             ],
             [
              0.8888888888888888,
              "#fdca26"
             ],
             [
              1.0,
              "#f0f921"
             ]
            ]
           }
          ],
          "contourcarpet": [
           {
            "type": "contourcarpet",
            "colorbar": {
             "outlinewidth": 0,
             "ticks": ""
            }
           }
          ],
          "contour": [
           {
            "type": "contour",
            "colorbar": {
             "outlinewidth": 0,
             "ticks": ""
            },
            "colorscale": [
             [
              0.0,
              "#0d0887"
             ],
             [
              0.1111111111111111,
              "#46039f"
             ],
             [
              0.2222222222222222,
              "#7201a8"
             ],
             [
              0.3333333333333333,
              "#9c179e"
             ],
             [
              0.4444444444444444,
              "#bd3786"
             ],
             [
              0.5555555555555556,
              "#d8576b"
             ],
             [
              0.6666666666666666,
              "#ed7953"
             ],
             [
              0.7777777777777778,
              "#fb9f3a"
             ],
             [
              0.8888888888888888,
              "#fdca26"
             ],
             [
              1.0,
              "#f0f921"
             ]
            ]
           }
          ],
          "surface": [
           {
            "type": "surface",
            "colorbar": {
             "outlinewidth": 0,
             "ticks": ""
            },
            "colorscale": [
             [
              0.0,
              "#0d0887"
             ],
             [
              0.1111111111111111,
              "#46039f"
             ],
             [
              0.2222222222222222,
              "#7201a8"
             ],
             [
              0.3333333333333333,
              "#9c179e"
             ],
             [
              0.4444444444444444,
              "#bd3786"
             ],
             [
              0.5555555555555556,
              "#d8576b"
             ],
             [
              0.6666666666666666,
              "#ed7953"
             ],
             [
              0.7777777777777778,
              "#fb9f3a"
             ],
             [
              0.8888888888888888,
              "#fdca26"
             ],
             [
              1.0,
              "#f0f921"
             ]
            ]
           }
          ],
          "mesh3d": [
           {
            "type": "mesh3d",
            "colorbar": {
             "outlinewidth": 0,
             "ticks": ""
            }
           }
          ],
          "scatter": [
           {
            "marker": {
             "line": {
              "color": "#283442"
             }
            },
            "type": "scatter"
           }
          ],
          "parcoords": [
           {
            "type": "parcoords",
            "line": {
             "colorbar": {
              "outlinewidth": 0,
              "ticks": ""
             }
            }
           }
          ],
          "scatterpolargl": [
           {
            "type": "scatterpolargl",
            "marker": {
             "colorbar": {
              "outlinewidth": 0,
              "ticks": ""
             }
            }
           }
          ],
          "bar": [
           {
            "error_x": {
             "color": "#f2f5fa"
            },
            "error_y": {
             "color": "#f2f5fa"
            },
            "marker": {
             "line": {
              "color": "rgb(17,17,17)",
              "width": 0.5
             },
             "pattern": {
              "fillmode": "overlay",
              "size": 10,
              "solidity": 0.2
             }
            },
            "type": "bar"
           }
          ],
          "scattergeo": [
           {
            "type": "scattergeo",
            "marker": {
             "colorbar": {
              "outlinewidth": 0,
              "ticks": ""
             }
            }
           }
          ],
          "scatterpolar": [
           {
            "type": "scatterpolar",
            "marker": {
             "colorbar": {
              "outlinewidth": 0,
              "ticks": ""
             }
            }
           }
          ],
          "histogram": [
           {
            "marker": {
             "pattern": {
              "fillmode": "overlay",
              "size": 10,
              "solidity": 0.2
             }
            },
            "type": "histogram"
           }
          ],
          "scattergl": [
           {
            "marker": {
             "line": {
              "color": "#283442"
             }
            },
            "type": "scattergl"
           }
          ],
          "scatter3d": [
           {
            "type": "scatter3d",
            "line": {
             "colorbar": {
              "outlinewidth": 0,
              "ticks": ""
             }
            },
            "marker": {
             "colorbar": {
              "outlinewidth": 0,
              "ticks": ""
             }
            }
           }
          ],
          "scattermapbox": [
           {
            "type": "scattermapbox",
            "marker": {
             "colorbar": {
              "outlinewidth": 0,
              "ticks": ""
             }
            }
           }
          ],
          "scatterternary": [
           {
            "type": "scatterternary",
            "marker": {
             "colorbar": {
              "outlinewidth": 0,
              "ticks": ""
             }
            }
           }
          ],
          "scattercarpet": [
           {
            "type": "scattercarpet",
            "marker": {
             "colorbar": {
              "outlinewidth": 0,
              "ticks": ""
             }
            }
           }
          ],
          "carpet": [
           {
            "aaxis": {
             "endlinecolor": "#A2B1C6",
             "gridcolor": "#506784",
             "linecolor": "#506784",
             "minorgridcolor": "#506784",
             "startlinecolor": "#A2B1C6"
            },
            "baxis": {
             "endlinecolor": "#A2B1C6",
             "gridcolor": "#506784",
             "linecolor": "#506784",
             "minorgridcolor": "#506784",
             "startlinecolor": "#A2B1C6"
            },
            "type": "carpet"
           }
          ],
          "table": [
           {
            "cells": {
             "fill": {
              "color": "#506784"
             },
             "line": {
              "color": "rgb(17,17,17)"
             }
            },
            "header": {
             "fill": {
              "color": "#2a3f5f"
             },
             "line": {
              "color": "rgb(17,17,17)"
             }
            },
            "type": "table"
           }
          ],
          "barpolar": [
           {
            "marker": {
             "line": {
              "color": "rgb(17,17,17)",
              "width": 0.5
             },
             "pattern": {
              "fillmode": "overlay",
              "size": 10,
              "solidity": 0.2
             }
            },
            "type": "barpolar"
           }
          ],
          "pie": [
           {
            "automargin": true,
            "type": "pie"
           }
          ]
         },
         "layout": {
          "autotypenumbers": "strict",
          "colorway": [
           "#636efa",
           "#EF553B",
           "#00cc96",
           "#ab63fa",
           "#FFA15A",
           "#19d3f3",
           "#FF6692",
           "#B6E880",
           "#FF97FF",
           "#FECB52"
          ],
          "font": {
           "color": "#f2f5fa"
          },
          "hovermode": "closest",
          "hoverlabel": {
           "align": "left"
          },
          "paper_bgcolor": "rgb(17,17,17)",
          "plot_bgcolor": "rgb(17,17,17)",
          "polar": {
           "bgcolor": "rgb(17,17,17)",
           "angularaxis": {
            "gridcolor": "#506784",
            "linecolor": "#506784",
            "ticks": ""
           },
           "radialaxis": {
            "gridcolor": "#506784",
            "linecolor": "#506784",
            "ticks": ""
           }
          },
          "ternary": {
           "bgcolor": "rgb(17,17,17)",
           "aaxis": {
            "gridcolor": "#506784",
            "linecolor": "#506784",
            "ticks": ""
           },
           "baxis": {
            "gridcolor": "#506784",
            "linecolor": "#506784",
            "ticks": ""
           },
           "caxis": {
            "gridcolor": "#506784",
            "linecolor": "#506784",
            "ticks": ""
           }
          },
          "coloraxis": {
           "colorbar": {
            "outlinewidth": 0,
            "ticks": ""
           }
          },
          "colorscale": {
           "sequential": [
            [
             0.0,
             "#0d0887"
            ],
            [
             0.1111111111111111,
             "#46039f"
            ],
            [
             0.2222222222222222,
             "#7201a8"
            ],
            [
             0.3333333333333333,
             "#9c179e"
            ],
            [
             0.4444444444444444,
             "#bd3786"
            ],
            [
             0.5555555555555556,
             "#d8576b"
            ],
            [
             0.6666666666666666,
             "#ed7953"
            ],
            [
             0.7777777777777778,
             "#fb9f3a"
            ],
            [
             0.8888888888888888,
             "#fdca26"
            ],
            [
             1.0,
             "#f0f921"
            ]
           ],
           "sequentialminus": [
            [
             0.0,
             "#0d0887"
            ],
            [
             0.1111111111111111,
             "#46039f"
            ],
            [
             0.2222222222222222,
             "#7201a8"
            ],
            [
             0.3333333333333333,
             "#9c179e"
            ],
            [
             0.4444444444444444,
             "#bd3786"
            ],
            [
             0.5555555555555556,
             "#d8576b"
            ],
            [
             0.6666666666666666,
             "#ed7953"
            ],
            [
             0.7777777777777778,
             "#fb9f3a"
            ],
            [
             0.8888888888888888,
             "#fdca26"
            ],
            [
             1.0,
             "#f0f921"
            ]
           ],
           "diverging": [
            [
             0,
             "#8e0152"
            ],
            [
             0.1,
             "#c51b7d"
            ],
            [
             0.2,
             "#de77ae"
            ],
            [
             0.3,
             "#f1b6da"
            ],
            [
             0.4,
             "#fde0ef"
            ],
            [
             0.5,
             "#f7f7f7"
            ],
            [
             0.6,
             "#e6f5d0"
            ],
            [
             0.7,
             "#b8e186"
            ],
            [
             0.8,
             "#7fbc41"
            ],
            [
             0.9,
             "#4d9221"
            ],
            [
             1,
             "#276419"
            ]
           ]
          },
          "xaxis": {
           "gridcolor": "#283442",
           "linecolor": "#506784",
           "ticks": "",
           "title": {
            "standoff": 15
           },
           "zerolinecolor": "#283442",
           "automargin": true,
           "zerolinewidth": 2
          },
          "yaxis": {
           "gridcolor": "#283442",
           "linecolor": "#506784",
           "ticks": "",
           "title": {
            "standoff": 15
           },
           "zerolinecolor": "#283442",
           "automargin": true,
           "zerolinewidth": 2
          },
          "scene": {
           "xaxis": {
            "backgroundcolor": "rgb(17,17,17)",
            "gridcolor": "#506784",
            "linecolor": "#506784",
            "showbackground": true,
            "ticks": "",
            "zerolinecolor": "#C8D4E3",
            "gridwidth": 2
           },
           "yaxis": {
            "backgroundcolor": "rgb(17,17,17)",
            "gridcolor": "#506784",
            "linecolor": "#506784",
            "showbackground": true,
            "ticks": "",
            "zerolinecolor": "#C8D4E3",
            "gridwidth": 2
           },
           "zaxis": {
            "backgroundcolor": "rgb(17,17,17)",
            "gridcolor": "#506784",
            "linecolor": "#506784",
            "showbackground": true,
            "ticks": "",
            "zerolinecolor": "#C8D4E3",
            "gridwidth": 2
           }
          },
          "shapedefaults": {
           "line": {
            "color": "#f2f5fa"
           }
          },
          "annotationdefaults": {
           "arrowcolor": "#f2f5fa",
           "arrowhead": 0,
           "arrowwidth": 1
          },
          "geo": {
           "bgcolor": "rgb(17,17,17)",
           "landcolor": "rgb(17,17,17)",
           "subunitcolor": "#506784",
           "showland": true,
           "showlakes": true,
           "lakecolor": "rgb(17,17,17)"
          },
          "title": {
           "x": 0.05
          },
          "updatemenudefaults": {
           "bgcolor": "#506784",
           "borderwidth": 0
          },
          "sliderdefaults": {
           "bgcolor": "#C8D4E3",
           "borderwidth": 1,
           "bordercolor": "rgb(17,17,17)",
           "tickwidth": 0
          },
          "mapbox": {
           "style": "dark"
          }
         }
        }
       },
       "config": {
        "plotlyServerURL": "https://plot.ly"
       }
      },
      "text/html": "<div>                            <div id=\"bb370f7d-cdd5-4c51-9209-30d745c248d1\" class=\"plotly-graph-div\" style=\"height:525px; width:100%;\"></div>            <script type=\"text/javascript\">                require([\"plotly\"], function(Plotly) {                    window.PLOTLYENV=window.PLOTLYENV || {};                                    if (document.getElementById(\"bb370f7d-cdd5-4c51-9209-30d745c248d1\")) {                    Plotly.newPlot(                        \"bb370f7d-cdd5-4c51-9209-30d745c248d1\",                        [{\"mode\":\"lines+markers\",\"name\":\"disthigh-p2111\",\"x\":[1.0,2.0,3.0,4.0,5.0],\"y\":[98.5,91.8,31.6,17.5,7.9],\"type\":\"scatter\"},{\"mode\":\"lines+markers\",\"name\":\"distlow-p2111\",\"x\":[1.0,2.0,3.0,4.0,5.0],\"y\":[98.5,91.8,31.6,17.5,7.9],\"type\":\"scatter\"},{\"mode\":\"lines+markers\",\"name\":\"vllm++-p12\",\"x\":[1.0,2.0,3.0,4.0,5.0],\"y\":[89.9,85.6,72.0,36.1,12.9],\"type\":\"scatter\"},{\"mode\":\"lines+markers\",\"name\":\"vllm-p11\",\"x\":[1.0,2.0,3.0,4.0,5.0],\"y\":[92.3,84.3,78.10000000000001,70.8,58.1],\"type\":\"scatter\"}],                        {\"template\":{\"data\":{\"histogram2dcontour\":[{\"type\":\"histogram2dcontour\",\"colorbar\":{\"outlinewidth\":0,\"ticks\":\"\"},\"colorscale\":[[0.0,\"#0d0887\"],[0.1111111111111111,\"#46039f\"],[0.2222222222222222,\"#7201a8\"],[0.3333333333333333,\"#9c179e\"],[0.4444444444444444,\"#bd3786\"],[0.5555555555555556,\"#d8576b\"],[0.6666666666666666,\"#ed7953\"],[0.7777777777777778,\"#fb9f3a\"],[0.8888888888888888,\"#fdca26\"],[1.0,\"#f0f921\"]]}],\"choropleth\":[{\"type\":\"choropleth\",\"colorbar\":{\"outlinewidth\":0,\"ticks\":\"\"}}],\"histogram2d\":[{\"type\":\"histogram2d\",\"colorbar\":{\"outlinewidth\":0,\"ticks\":\"\"},\"colorscale\":[[0.0,\"#0d0887\"],[0.1111111111111111,\"#46039f\"],[0.2222222222222222,\"#7201a8\"],[0.3333333333333333,\"#9c179e\"],[0.4444444444444444,\"#bd3786\"],[0.5555555555555556,\"#d8576b\"],[0.6666666666666666,\"#ed7953\"],[0.7777777777777778,\"#fb9f3a\"],[0.8888888888888888,\"#fdca26\"],[1.0,\"#f0f921\"]]}],\"heatmap\":[{\"type\":\"heatmap\",\"colorbar\":{\"outlinewidth\":0,\"ticks\":\"\"},\"colorscale\":[[0.0,\"#0d0887\"],[0.1111111111111111,\"#46039f\"],[0.2222222222222222,\"#7201a8\"],[0.3333333333333333,\"#9c179e\"],[0.4444444444444444,\"#bd3786\"],[0.5555555555555556,\"#d8576b\"],[0.6666666666666666,\"#ed7953\"],[0.7777777777777778,\"#fb9f3a\"],[0.8888888888888888,\"#fdca26\"],[1.0,\"#f0f921\"]]}],\"heatmapgl\":[{\"type\":\"heatmapgl\",\"colorbar\":{\"outlinewidth\":0,\"ticks\":\"\"},\"colorscale\":[[0.0,\"#0d0887\"],[0.1111111111111111,\"#46039f\"],[0.2222222222222222,\"#7201a8\"],[0.3333333333333333,\"#9c179e\"],[0.4444444444444444,\"#bd3786\"],[0.5555555555555556,\"#d8576b\"],[0.6666666666666666,\"#ed7953\"],[0.7777777777777778,\"#fb9f3a\"],[0.8888888888888888,\"#fdca26\"],[1.0,\"#f0f921\"]]}],\"contourcarpet\":[{\"type\":\"contourcarpet\",\"colorbar\":{\"outlinewidth\":0,\"ticks\":\"\"}}],\"contour\":[{\"type\":\"contour\",\"colorbar\":{\"outlinewidth\":0,\"ticks\":\"\"},\"colorscale\":[[0.0,\"#0d0887\"],[0.1111111111111111,\"#46039f\"],[0.2222222222222222,\"#7201a8\"],[0.3333333333333333,\"#9c179e\"],[0.4444444444444444,\"#bd3786\"],[0.5555555555555556,\"#d8576b\"],[0.6666666666666666,\"#ed7953\"],[0.7777777777777778,\"#fb9f3a\"],[0.8888888888888888,\"#fdca26\"],[1.0,\"#f0f921\"]]}],\"surface\":[{\"type\":\"surface\",\"colorbar\":{\"outlinewidth\":0,\"ticks\":\"\"},\"colorscale\":[[0.0,\"#0d0887\"],[0.1111111111111111,\"#46039f\"],[0.2222222222222222,\"#7201a8\"],[0.3333333333333333,\"#9c179e\"],[0.4444444444444444,\"#bd3786\"],[0.5555555555555556,\"#d8576b\"],[0.6666666666666666,\"#ed7953\"],[0.7777777777777778,\"#fb9f3a\"],[0.8888888888888888,\"#fdca26\"],[1.0,\"#f0f921\"]]}],\"mesh3d\":[{\"type\":\"mesh3d\",\"colorbar\":{\"outlinewidth\":0,\"ticks\":\"\"}}],\"scatter\":[{\"marker\":{\"line\":{\"color\":\"#283442\"}},\"type\":\"scatter\"}],\"parcoords\":[{\"type\":\"parcoords\",\"line\":{\"colorbar\":{\"outlinewidth\":0,\"ticks\":\"\"}}}],\"scatterpolargl\":[{\"type\":\"scatterpolargl\",\"marker\":{\"colorbar\":{\"outlinewidth\":0,\"ticks\":\"\"}}}],\"bar\":[{\"error_x\":{\"color\":\"#f2f5fa\"},\"error_y\":{\"color\":\"#f2f5fa\"},\"marker\":{\"line\":{\"color\":\"rgb(17,17,17)\",\"width\":0.5},\"pattern\":{\"fillmode\":\"overlay\",\"size\":10,\"solidity\":0.2}},\"type\":\"bar\"}],\"scattergeo\":[{\"type\":\"scattergeo\",\"marker\":{\"colorbar\":{\"outlinewidth\":0,\"ticks\":\"\"}}}],\"scatterpolar\":[{\"type\":\"scatterpolar\",\"marker\":{\"colorbar\":{\"outlinewidth\":0,\"ticks\":\"\"}}}],\"histogram\":[{\"marker\":{\"pattern\":{\"fillmode\":\"overlay\",\"size\":10,\"solidity\":0.2}},\"type\":\"histogram\"}],\"scattergl\":[{\"marker\":{\"line\":{\"color\":\"#283442\"}},\"type\":\"scattergl\"}],\"scatter3d\":[{\"type\":\"scatter3d\",\"line\":{\"colorbar\":{\"outlinewidth\":0,\"ticks\":\"\"}},\"marker\":{\"colorbar\":{\"outlinewidth\":0,\"ticks\":\"\"}}}],\"scattermapbox\":[{\"type\":\"scattermapbox\",\"marker\":{\"colorbar\":{\"outlinewidth\":0,\"ticks\":\"\"}}}],\"scatterternary\":[{\"type\":\"scatterternary\",\"marker\":{\"colorbar\":{\"outlinewidth\":0,\"ticks\":\"\"}}}],\"scattercarpet\":[{\"type\":\"scattercarpet\",\"marker\":{\"colorbar\":{\"outlinewidth\":0,\"ticks\":\"\"}}}],\"carpet\":[{\"aaxis\":{\"endlinecolor\":\"#A2B1C6\",\"gridcolor\":\"#506784\",\"linecolor\":\"#506784\",\"minorgridcolor\":\"#506784\",\"startlinecolor\":\"#A2B1C6\"},\"baxis\":{\"endlinecolor\":\"#A2B1C6\",\"gridcolor\":\"#506784\",\"linecolor\":\"#506784\",\"minorgridcolor\":\"#506784\",\"startlinecolor\":\"#A2B1C6\"},\"type\":\"carpet\"}],\"table\":[{\"cells\":{\"fill\":{\"color\":\"#506784\"},\"line\":{\"color\":\"rgb(17,17,17)\"}},\"header\":{\"fill\":{\"color\":\"#2a3f5f\"},\"line\":{\"color\":\"rgb(17,17,17)\"}},\"type\":\"table\"}],\"barpolar\":[{\"marker\":{\"line\":{\"color\":\"rgb(17,17,17)\",\"width\":0.5},\"pattern\":{\"fillmode\":\"overlay\",\"size\":10,\"solidity\":0.2}},\"type\":\"barpolar\"}],\"pie\":[{\"automargin\":true,\"type\":\"pie\"}]},\"layout\":{\"autotypenumbers\":\"strict\",\"colorway\":[\"#636efa\",\"#EF553B\",\"#00cc96\",\"#ab63fa\",\"#FFA15A\",\"#19d3f3\",\"#FF6692\",\"#B6E880\",\"#FF97FF\",\"#FECB52\"],\"font\":{\"color\":\"#f2f5fa\"},\"hovermode\":\"closest\",\"hoverlabel\":{\"align\":\"left\"},\"paper_bgcolor\":\"rgb(17,17,17)\",\"plot_bgcolor\":\"rgb(17,17,17)\",\"polar\":{\"bgcolor\":\"rgb(17,17,17)\",\"angularaxis\":{\"gridcolor\":\"#506784\",\"linecolor\":\"#506784\",\"ticks\":\"\"},\"radialaxis\":{\"gridcolor\":\"#506784\",\"linecolor\":\"#506784\",\"ticks\":\"\"}},\"ternary\":{\"bgcolor\":\"rgb(17,17,17)\",\"aaxis\":{\"gridcolor\":\"#506784\",\"linecolor\":\"#506784\",\"ticks\":\"\"},\"baxis\":{\"gridcolor\":\"#506784\",\"linecolor\":\"#506784\",\"ticks\":\"\"},\"caxis\":{\"gridcolor\":\"#506784\",\"linecolor\":\"#506784\",\"ticks\":\"\"}},\"coloraxis\":{\"colorbar\":{\"outlinewidth\":0,\"ticks\":\"\"}},\"colorscale\":{\"sequential\":[[0.0,\"#0d0887\"],[0.1111111111111111,\"#46039f\"],[0.2222222222222222,\"#7201a8\"],[0.3333333333333333,\"#9c179e\"],[0.4444444444444444,\"#bd3786\"],[0.5555555555555556,\"#d8576b\"],[0.6666666666666666,\"#ed7953\"],[0.7777777777777778,\"#fb9f3a\"],[0.8888888888888888,\"#fdca26\"],[1.0,\"#f0f921\"]],\"sequentialminus\":[[0.0,\"#0d0887\"],[0.1111111111111111,\"#46039f\"],[0.2222222222222222,\"#7201a8\"],[0.3333333333333333,\"#9c179e\"],[0.4444444444444444,\"#bd3786\"],[0.5555555555555556,\"#d8576b\"],[0.6666666666666666,\"#ed7953\"],[0.7777777777777778,\"#fb9f3a\"],[0.8888888888888888,\"#fdca26\"],[1.0,\"#f0f921\"]],\"diverging\":[[0,\"#8e0152\"],[0.1,\"#c51b7d\"],[0.2,\"#de77ae\"],[0.3,\"#f1b6da\"],[0.4,\"#fde0ef\"],[0.5,\"#f7f7f7\"],[0.6,\"#e6f5d0\"],[0.7,\"#b8e186\"],[0.8,\"#7fbc41\"],[0.9,\"#4d9221\"],[1,\"#276419\"]]},\"xaxis\":{\"gridcolor\":\"#283442\",\"linecolor\":\"#506784\",\"ticks\":\"\",\"title\":{\"standoff\":15},\"zerolinecolor\":\"#283442\",\"automargin\":true,\"zerolinewidth\":2},\"yaxis\":{\"gridcolor\":\"#283442\",\"linecolor\":\"#506784\",\"ticks\":\"\",\"title\":{\"standoff\":15},\"zerolinecolor\":\"#283442\",\"automargin\":true,\"zerolinewidth\":2},\"scene\":{\"xaxis\":{\"backgroundcolor\":\"rgb(17,17,17)\",\"gridcolor\":\"#506784\",\"linecolor\":\"#506784\",\"showbackground\":true,\"ticks\":\"\",\"zerolinecolor\":\"#C8D4E3\",\"gridwidth\":2},\"yaxis\":{\"backgroundcolor\":\"rgb(17,17,17)\",\"gridcolor\":\"#506784\",\"linecolor\":\"#506784\",\"showbackground\":true,\"ticks\":\"\",\"zerolinecolor\":\"#C8D4E3\",\"gridwidth\":2},\"zaxis\":{\"backgroundcolor\":\"rgb(17,17,17)\",\"gridcolor\":\"#506784\",\"linecolor\":\"#506784\",\"showbackground\":true,\"ticks\":\"\",\"zerolinecolor\":\"#C8D4E3\",\"gridwidth\":2}},\"shapedefaults\":{\"line\":{\"color\":\"#f2f5fa\"}},\"annotationdefaults\":{\"arrowcolor\":\"#f2f5fa\",\"arrowhead\":0,\"arrowwidth\":1},\"geo\":{\"bgcolor\":\"rgb(17,17,17)\",\"landcolor\":\"rgb(17,17,17)\",\"subunitcolor\":\"#506784\",\"showland\":true,\"showlakes\":true,\"lakecolor\":\"rgb(17,17,17)\"},\"title\":{\"x\":0.05},\"updatemenudefaults\":{\"bgcolor\":\"#506784\",\"borderwidth\":0},\"sliderdefaults\":{\"bgcolor\":\"#C8D4E3\",\"borderwidth\":1,\"bordercolor\":\"rgb(17,17,17)\",\"tickwidth\":0},\"mapbox\":{\"style\":\"dark\"}}}},                        {\"responsive\": true}                    ).then(function(){\n                            \nvar gd = document.getElementById('bb370f7d-cdd5-4c51-9209-30d745c248d1');\nvar x = new MutationObserver(function (mutations, observer) {{\n        var display = window.getComputedStyle(gd).display;\n        if (!display || display === 'none') {{\n            console.log([gd, 'removed!']);\n            Plotly.purge(gd);\n            observer.disconnect();\n        }}\n}});\n\n// Listen for the removal of the full notebook cells\nvar notebookContainer = gd.closest('#notebook-container');\nif (notebookContainer) {{\n    x.observe(notebookContainer, {childList: true});\n}}\n\n// Listen for the clearing of the current output cell\nvar outputEl = gd.closest('.output');\nif (outputEl) {{\n    x.observe(outputEl, {childList: true});\n}}\n\n                        })                };                });            </script>        </div>"
     },
     "metadata": {},
     "output_type": "display_data"
    }
   ],
   "source": [
    "import plotly.graph_objects as go\n",
    "\n",
    "fig = go.Figure()\n",
    "configs = figure_11_vllm_high[['tp_prefill', 'pp_prefill', 'tp_decode', 'pp_decode']].drop_duplicates()\n",
    "\n",
    "# Case 1: DistServe-High\n",
    "df = figure_11_distserve_high\n",
    "tp_prefill, pp_prefill, tp_decode, pp_decode = 2, 1, 1, 1\n",
    "config_df = df[\n",
    "    (df['tp_prefill'] == tp_prefill) & (df['pp_prefill'] == pp_prefill) &\n",
    "    (df['tp_decode'] == tp_decode) & (df['pp_decode'] == pp_decode)\n",
    "    ]\n",
    "# plot this inside a plotly plot\n",
    "fig.add_trace(go.Scatter(\n",
    "    x=config_df['per_gpu_rate'], y=config_df['attainment'],\n",
    "    mode='lines+markers', name=f\"disthigh-p{tp_prefill}{pp_prefill}{tp_decode}{pp_decode}\"\n",
    "))\n",
    "\n",
    "# Case 2: DistServe-Low\n",
    "df = figure_11_distserve_low\n",
    "tp_prefill, pp_prefill, tp_decode, pp_decode = 2, 1, 1, 1\n",
    "config_df = df[\n",
    "    (df['tp_prefill'] == tp_prefill) & (df['pp_prefill'] == pp_prefill) &\n",
    "    (df['tp_decode'] == tp_decode) & (df['pp_decode'] == pp_decode)\n",
    "    ]\n",
    "# plot this inside a plotly plot\n",
    "fig.add_trace(go.Scatter(\n",
    "    x=config_df['per_gpu_rate'], y=config_df['attainment'],\n",
    "    mode='lines+markers', name=f\"distlow-p{tp_prefill}{pp_prefill}{tp_decode}{pp_decode}\"\n",
    "))\n",
    "\n",
    "# Case 3: vLLM++\n",
    "df = figure_11_vllm_high\n",
    "tp_prefill, pp_prefill = 1, 2\n",
    "config_df = df[\n",
    "    (df['tp_prefill'] == tp_prefill) & (df['pp_prefill'] == pp_prefill)\n",
    "    ]\n",
    "# plot this inside a plotly plot\n",
    "fig.add_trace(go.Scatter(\n",
    "    x=config_df['per_gpu_rate'], y=config_df['attainment'],\n",
    "    mode='lines+markers', name=f\"vllm++-p{tp_prefill}{pp_prefill}\"\n",
    "))\n",
    "\n",
    "# Case 4: vLLM\n",
    "df = figure_11_vllm_low\n",
    "tp_prefill, pp_prefill = 1, 1\n",
    "config_df = df[\n",
    "    (df['tp_prefill'] == tp_prefill) & (df['pp_prefill'] == pp_prefill)\n",
    "    ]\n",
    "# plot this inside a plotly plot\n",
    "fig.add_trace(go.Scatter(\n",
    "    x=config_df['per_gpu_rate'], y=config_df['attainment'],\n",
    "    mode='lines+markers', name=f\"vllm-p{tp_prefill}{pp_prefill}\"\n",
    "))\n",
    "\n",
    "fig.show()"
   ],
   "metadata": {
    "collapsed": false,
    "ExecuteTime": {
     "end_time": "2024-04-20T06:08:47.871016Z",
     "start_time": "2024-04-20T06:08:47.854384Z"
    }
   },
   "id": "ff5ff643a25130b2",
   "execution_count": 73
  },
  {
   "cell_type": "code",
   "outputs": [],
   "source": [],
   "metadata": {
    "collapsed": false,
    "ExecuteTime": {
     "end_time": "2024-04-20T06:08:39.253184Z",
     "start_time": "2024-04-20T06:08:39.235888Z"
    }
   },
   "id": "ea69357cbb24c713",
   "execution_count": 72
  },
  {
   "cell_type": "code",
   "outputs": [],
   "source": [],
   "metadata": {
    "collapsed": false,
    "ExecuteTime": {
     "end_time": "2024-04-20T06:08:40.504605Z",
     "start_time": "2024-04-20T06:08:40.489684Z"
    }
   },
   "id": "915551e21439f46a",
   "execution_count": 72
  },
  {
   "cell_type": "code",
   "outputs": [],
   "source": [],
   "metadata": {
    "collapsed": false,
    "ExecuteTime": {
     "end_time": "2024-04-20T06:08:40.769218Z",
     "start_time": "2024-04-20T06:08:40.759918Z"
    }
   },
   "id": "2f7e71ead1c5c2d2",
   "execution_count": 72
  },
  {
   "cell_type": "code",
   "outputs": [],
   "source": [],
   "metadata": {
    "collapsed": false
   },
   "id": "3c147288371ee90f"
  }
 ],
 "metadata": {
  "kernelspec": {
   "display_name": "Python 3",
   "language": "python",
   "name": "python3"
  },
  "language_info": {
   "codemirror_mode": {
    "name": "ipython",
    "version": 2
   },
   "file_extension": ".py",
   "mimetype": "text/x-python",
   "name": "python",
   "nbconvert_exporter": "python",
   "pygments_lexer": "ipython2",
   "version": "2.7.6"
  }
 },
 "nbformat": 4,
 "nbformat_minor": 5
}
