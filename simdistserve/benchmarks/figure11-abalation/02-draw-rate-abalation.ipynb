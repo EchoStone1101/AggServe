{
 "cells": [
  {
   "cell_type": "code",
   "outputs": [],
   "source": [
    "target = '(400.0, 100.0)'\n",
    "is_notebook_mode = 'get_ipython' in globals()\n",
    "\n",
    "import argparse\n",
    "\n",
    "\n",
    "def parse_args(args_=None):\n",
    "    parser = argparse.ArgumentParser()\n",
    "    parser.add_argument(\"--target\", type=str, default=target)\n",
    "    args = parser.parse_args(args_)\n",
    "    return args\n",
    "\n",
    "\n",
    "if not is_notebook_mode:\n",
    "    args = parse_args()\n",
    "    target = args.target\n",
    "target = eval(target)\n",
    "\n",
    "use_plotly = False\n",
    "try:\n",
    "    import plotly.graph_objects as go\n",
    "    use_plotly = is_notebook_mode\n",
    "except:\n",
    "    pass"
   ],
   "metadata": {
    "collapsed": false,
    "ExecuteTime": {
     "end_time": "2024-04-25T03:06:26.648174Z",
     "start_time": "2024-04-25T03:06:26.618712Z"
    }
   },
   "id": "bcb5d4e767e36976",
   "execution_count": 41
  },
  {
   "cell_type": "code",
   "outputs": [],
   "source": [
    "from pathlib import Path\n",
    "\n",
    "Path(\"figure\").mkdir(exist_ok=True)\n",
    "Path(\"visual\").mkdir(exist_ok=True)"
   ],
   "metadata": {
    "collapsed": false,
    "ExecuteTime": {
     "end_time": "2024-04-25T03:06:26.650590Z",
     "start_time": "2024-04-25T03:06:26.632647Z"
    }
   },
   "id": "89e460095ffd1517",
   "execution_count": 42
  },
  {
   "cell_type": "code",
   "execution_count": 43,
   "id": "initial_id",
   "metadata": {
    "collapsed": true,
    "ExecuteTime": {
     "end_time": "2024-04-25T03:06:26.669088Z",
     "start_time": "2024-04-25T03:06:26.654571Z"
    }
   },
   "outputs": [],
   "source": [
    "from pathlib import Path\n",
    "from argparse import Namespace\n",
    "import pandas as pd\n",
    "\n",
    "assert Namespace\n",
    "\n",
    "# Get all files with format '*.latency.csv' from root_dir\n",
    "# root_dir = Path(\"fig11-abalation-log\")\n",
    "root_dir = Path(\"result\")\n",
    "latency_file_paths = sorted(list(root_dir.glob(\"*.latency.csv\")))\n",
    "experiment_log_paths = sorted(list(root_dir.glob(\"*.log\")))\n",
    "columns = ['backend', 'rate', 'target', 'attainment', 'latency']"
   ]
  },
  {
   "cell_type": "code",
   "outputs": [],
   "source": [
    "dfs = []\n",
    "namespaces = []\n",
    "for latency_file_path, experiment_log_path in zip(latency_file_paths, experiment_log_paths):\n",
    "    # read experiment_log_path and log the namespace\n",
    "    # with open(experiment_log_path, 'r') as f:\n",
    "    #     exp_args = f.read()\n",
    "    #     exp_args = eval(exp_args)\n",
    "    #     namespaces.append(exp_args)\n",
    "\n",
    "    try:\n",
    "        df = pd.read_csv(latency_file_path)\n",
    "        dfs.append(df)\n",
    "    except pd.errors.EmptyDataError:\n",
    "        pass"
   ],
   "metadata": {
    "collapsed": false,
    "ExecuteTime": {
     "end_time": "2024-04-25T03:06:26.785134Z",
     "start_time": "2024-04-25T03:06:26.664392Z"
    }
   },
   "id": "cf162cc0a9334b35",
   "execution_count": 44
  },
  {
   "cell_type": "code",
   "outputs": [],
   "source": [
    "big_df = pd.concat(dfs, ignore_index=True)\n",
    "big_df['ngpu'] = big_df['tp_prefill'] * big_df['pp_prefill'] + big_df['tp_decode'] * big_df['pp_decode']\n",
    "big_df['per_gpu_rate'] = big_df['rate'] / big_df['ngpu']\n",
    "big_df['goodput@90'] = big_df.apply(\n",
    "    lambda x: x['rate'] / x['ngpu'] if x['attainment'] >= 90 else 0,\n",
    "    axis=1,\n",
    ")"
   ],
   "metadata": {
    "collapsed": false,
    "ExecuteTime": {
     "end_time": "2024-04-25T03:06:26.816700Z",
     "start_time": "2024-04-25T03:06:26.791422Z"
    }
   },
   "id": "69a03ddf577d3c5a",
   "execution_count": 45
  },
  {
   "cell_type": "code",
   "outputs": [
    {
     "data": {
      "text/plain": "'OPT-66B'"
     },
     "execution_count": 46,
     "metadata": {},
     "output_type": "execute_result"
    }
   ],
   "source": [
    "model_type = big_df['model_type'].unique()[0]\n",
    "model_type"
   ],
   "metadata": {
    "collapsed": false,
    "ExecuteTime": {
     "end_time": "2024-04-25T03:06:26.820459Z",
     "start_time": "2024-04-25T03:06:26.818292Z"
    }
   },
   "id": "986bd33bf3253f87",
   "execution_count": 46
  },
  {
   "cell_type": "code",
   "outputs": [
    {
     "data": {
      "text/plain": "        backend model_type       pd  rate              target  attainment  \\\n0     distserve    OPT-66B  prefill  0.25               400.0        76.0   \n1     distserve    OPT-66B   decode  0.25               100.0       100.0   \n2     distserve    OPT-66B     both  0.25      (400.0, 100.0)        76.0   \n3     distserve    OPT-66B  prefill  0.25               160.0        34.0   \n4     distserve    OPT-66B   decode  0.25                40.0         0.0   \n...         ...        ...      ...   ...                 ...         ...   \n3495       vllm    OPT-66B   decode  1.50   352.1811247101707        95.0   \n3496       vllm    OPT-66B  prefill  1.50  1010.3102702009419        98.0   \n3497       vllm    OPT-66B   decode  1.50  371.57849971925646        98.0   \n3498       vllm    OPT-66B  prefill  1.50   1040.089539713149        99.0   \n3499       vllm    OPT-66B   decode  1.50   380.6971969690156        99.0   \n\n      tp_prefill  pp_prefill  tp_decode  pp_decode  ngpu  per_gpu_rate  \\\n0              2           1          1          2     4        0.0625   \n1              2           1          1          2     4        0.0625   \n2              2           1          1          2     4        0.0625   \n3              2           1          1          2     4        0.0625   \n4              2           1          1          2     4        0.0625   \n...          ...         ...        ...        ...   ...           ...   \n3495           2           1          0          0     2        0.7500   \n3496           2           1          0          0     2        0.7500   \n3497           2           1          0          0     2        0.7500   \n3498           2           1          0          0     2        0.7500   \n3499           2           1          0          0     2        0.7500   \n\n      goodput@90  \n0         0.0000  \n1         0.0625  \n2         0.0000  \n3         0.0000  \n4         0.0000  \n...          ...  \n3495      0.7500  \n3496      0.7500  \n3497      0.7500  \n3498      0.7500  \n3499      0.7500  \n\n[3500 rows x 13 columns]",
      "text/html": "<div>\n<style scoped>\n    .dataframe tbody tr th:only-of-type {\n        vertical-align: middle;\n    }\n\n    .dataframe tbody tr th {\n        vertical-align: top;\n    }\n\n    .dataframe thead th {\n        text-align: right;\n    }\n</style>\n<table border=\"1\" class=\"dataframe\">\n  <thead>\n    <tr style=\"text-align: right;\">\n      <th></th>\n      <th>backend</th>\n      <th>model_type</th>\n      <th>pd</th>\n      <th>rate</th>\n      <th>target</th>\n      <th>attainment</th>\n      <th>tp_prefill</th>\n      <th>pp_prefill</th>\n      <th>tp_decode</th>\n      <th>pp_decode</th>\n      <th>ngpu</th>\n      <th>per_gpu_rate</th>\n      <th>goodput@90</th>\n    </tr>\n  </thead>\n  <tbody>\n    <tr>\n      <th>0</th>\n      <td>distserve</td>\n      <td>OPT-66B</td>\n      <td>prefill</td>\n      <td>0.25</td>\n      <td>400.0</td>\n      <td>76.0</td>\n      <td>2</td>\n      <td>1</td>\n      <td>1</td>\n      <td>2</td>\n      <td>4</td>\n      <td>0.0625</td>\n      <td>0.0000</td>\n    </tr>\n    <tr>\n      <th>1</th>\n      <td>distserve</td>\n      <td>OPT-66B</td>\n      <td>decode</td>\n      <td>0.25</td>\n      <td>100.0</td>\n      <td>100.0</td>\n      <td>2</td>\n      <td>1</td>\n      <td>1</td>\n      <td>2</td>\n      <td>4</td>\n      <td>0.0625</td>\n      <td>0.0625</td>\n    </tr>\n    <tr>\n      <th>2</th>\n      <td>distserve</td>\n      <td>OPT-66B</td>\n      <td>both</td>\n      <td>0.25</td>\n      <td>(400.0, 100.0)</td>\n      <td>76.0</td>\n      <td>2</td>\n      <td>1</td>\n      <td>1</td>\n      <td>2</td>\n      <td>4</td>\n      <td>0.0625</td>\n      <td>0.0000</td>\n    </tr>\n    <tr>\n      <th>3</th>\n      <td>distserve</td>\n      <td>OPT-66B</td>\n      <td>prefill</td>\n      <td>0.25</td>\n      <td>160.0</td>\n      <td>34.0</td>\n      <td>2</td>\n      <td>1</td>\n      <td>1</td>\n      <td>2</td>\n      <td>4</td>\n      <td>0.0625</td>\n      <td>0.0000</td>\n    </tr>\n    <tr>\n      <th>4</th>\n      <td>distserve</td>\n      <td>OPT-66B</td>\n      <td>decode</td>\n      <td>0.25</td>\n      <td>40.0</td>\n      <td>0.0</td>\n      <td>2</td>\n      <td>1</td>\n      <td>1</td>\n      <td>2</td>\n      <td>4</td>\n      <td>0.0625</td>\n      <td>0.0000</td>\n    </tr>\n    <tr>\n      <th>...</th>\n      <td>...</td>\n      <td>...</td>\n      <td>...</td>\n      <td>...</td>\n      <td>...</td>\n      <td>...</td>\n      <td>...</td>\n      <td>...</td>\n      <td>...</td>\n      <td>...</td>\n      <td>...</td>\n      <td>...</td>\n      <td>...</td>\n    </tr>\n    <tr>\n      <th>3495</th>\n      <td>vllm</td>\n      <td>OPT-66B</td>\n      <td>decode</td>\n      <td>1.50</td>\n      <td>352.1811247101707</td>\n      <td>95.0</td>\n      <td>2</td>\n      <td>1</td>\n      <td>0</td>\n      <td>0</td>\n      <td>2</td>\n      <td>0.7500</td>\n      <td>0.7500</td>\n    </tr>\n    <tr>\n      <th>3496</th>\n      <td>vllm</td>\n      <td>OPT-66B</td>\n      <td>prefill</td>\n      <td>1.50</td>\n      <td>1010.3102702009419</td>\n      <td>98.0</td>\n      <td>2</td>\n      <td>1</td>\n      <td>0</td>\n      <td>0</td>\n      <td>2</td>\n      <td>0.7500</td>\n      <td>0.7500</td>\n    </tr>\n    <tr>\n      <th>3497</th>\n      <td>vllm</td>\n      <td>OPT-66B</td>\n      <td>decode</td>\n      <td>1.50</td>\n      <td>371.57849971925646</td>\n      <td>98.0</td>\n      <td>2</td>\n      <td>1</td>\n      <td>0</td>\n      <td>0</td>\n      <td>2</td>\n      <td>0.7500</td>\n      <td>0.7500</td>\n    </tr>\n    <tr>\n      <th>3498</th>\n      <td>vllm</td>\n      <td>OPT-66B</td>\n      <td>prefill</td>\n      <td>1.50</td>\n      <td>1040.089539713149</td>\n      <td>99.0</td>\n      <td>2</td>\n      <td>1</td>\n      <td>0</td>\n      <td>0</td>\n      <td>2</td>\n      <td>0.7500</td>\n      <td>0.7500</td>\n    </tr>\n    <tr>\n      <th>3499</th>\n      <td>vllm</td>\n      <td>OPT-66B</td>\n      <td>decode</td>\n      <td>1.50</td>\n      <td>380.6971969690156</td>\n      <td>99.0</td>\n      <td>2</td>\n      <td>1</td>\n      <td>0</td>\n      <td>0</td>\n      <td>2</td>\n      <td>0.7500</td>\n      <td>0.7500</td>\n    </tr>\n  </tbody>\n</table>\n<p>3500 rows × 13 columns</p>\n</div>"
     },
     "execution_count": 47,
     "metadata": {},
     "output_type": "execute_result"
    }
   ],
   "source": [
    "big_df"
   ],
   "metadata": {
    "collapsed": false,
    "ExecuteTime": {
     "end_time": "2024-04-25T03:06:26.831253Z",
     "start_time": "2024-04-25T03:06:26.828412Z"
    }
   },
   "id": "d3348ed969bcfabf",
   "execution_count": 47
  },
  {
   "cell_type": "code",
   "outputs": [],
   "source": [
    "max_machine = 4\n",
    "max_gpu_per_node = 8\n",
    "\n",
    "\n",
    "def can_fit_low_affinity_distserve(x):\n",
    "    a, b, c, d = x['tp_prefill'], x['pp_prefill'], x['tp_decode'], x['pp_decode']\n",
    "    for pp_common in range(1, max_machine + 1):\n",
    "        bp = b / pp_common\n",
    "        dp = d / pp_common\n",
    "        # If either bp or dp is not int, skip\n",
    "        if int(bp) != bp or int(dp) != dp:\n",
    "            continue\n",
    "        # Check if the segment can be placed inside a node\n",
    "        if a * bp + c * dp <= max_gpu_per_node:\n",
    "            return True\n",
    "        pass\n",
    "    return False\n",
    "\n",
    "\n",
    "def can_fit_low_affinity(x):\n",
    "    if x['backend'] == 'distserve':\n",
    "        return can_fit_low_affinity_distserve(x)\n",
    "    else:\n",
    "        return True\n",
    "    pass\n",
    "\n",
    "\n",
    "big_df['low_affin'] = big_df.apply(can_fit_low_affinity, axis=1)"
   ],
   "metadata": {
    "collapsed": false,
    "ExecuteTime": {
     "end_time": "2024-04-25T03:06:26.900947Z",
     "start_time": "2024-04-25T03:06:26.833835Z"
    }
   },
   "id": "27819a9a9d826d68",
   "execution_count": 48
  },
  {
   "cell_type": "code",
   "outputs": [
    {
     "data": {
      "text/plain": "        backend model_type       pd  rate              target  attainment  \\\n0     distserve    OPT-66B  prefill  0.25               400.0        76.0   \n1     distserve    OPT-66B   decode  0.25               100.0       100.0   \n2     distserve    OPT-66B     both  0.25      (400.0, 100.0)        76.0   \n3     distserve    OPT-66B  prefill  0.25               160.0        34.0   \n4     distserve    OPT-66B   decode  0.25                40.0         0.0   \n...         ...        ...      ...   ...                 ...         ...   \n3320       vllm    OPT-66B   decode  6.00   504.0970459045684        95.0   \n3321       vllm    OPT-66B  prefill  6.00  1641.1226124626305        98.0   \n3322       vllm    OPT-66B   decode  6.00   668.7474485094345        98.0   \n3323       vllm    OPT-66B  prefill  6.00   1689.821583500695        99.0   \n3324       vllm    OPT-66B   decode  6.00   882.7993711786935        99.0   \n\n      tp_prefill  pp_prefill  tp_decode  pp_decode  ngpu  per_gpu_rate  \\\n0              2           1          1          2     4        0.0625   \n1              2           1          1          2     4        0.0625   \n2              2           1          1          2     4        0.0625   \n3              2           1          1          2     4        0.0625   \n4              2           1          1          2     4        0.0625   \n...          ...         ...        ...        ...   ...           ...   \n3320           4           2          0          0     8        0.7500   \n3321           4           2          0          0     8        0.7500   \n3322           4           2          0          0     8        0.7500   \n3323           4           2          0          0     8        0.7500   \n3324           4           2          0          0     8        0.7500   \n\n      goodput@90  low_affin  \n0         0.0000       True  \n1         0.0625       True  \n2         0.0000       True  \n3         0.0000       True  \n4         0.0000       True  \n...          ...        ...  \n3320      0.7500       True  \n3321      0.7500       True  \n3322      0.7500       True  \n3323      0.7500       True  \n3324      0.7500       True  \n\n[3500 rows x 14 columns]",
      "text/html": "<div>\n<style scoped>\n    .dataframe tbody tr th:only-of-type {\n        vertical-align: middle;\n    }\n\n    .dataframe tbody tr th {\n        vertical-align: top;\n    }\n\n    .dataframe thead th {\n        text-align: right;\n    }\n</style>\n<table border=\"1\" class=\"dataframe\">\n  <thead>\n    <tr style=\"text-align: right;\">\n      <th></th>\n      <th>backend</th>\n      <th>model_type</th>\n      <th>pd</th>\n      <th>rate</th>\n      <th>target</th>\n      <th>attainment</th>\n      <th>tp_prefill</th>\n      <th>pp_prefill</th>\n      <th>tp_decode</th>\n      <th>pp_decode</th>\n      <th>ngpu</th>\n      <th>per_gpu_rate</th>\n      <th>goodput@90</th>\n      <th>low_affin</th>\n    </tr>\n  </thead>\n  <tbody>\n    <tr>\n      <th>0</th>\n      <td>distserve</td>\n      <td>OPT-66B</td>\n      <td>prefill</td>\n      <td>0.25</td>\n      <td>400.0</td>\n      <td>76.0</td>\n      <td>2</td>\n      <td>1</td>\n      <td>1</td>\n      <td>2</td>\n      <td>4</td>\n      <td>0.0625</td>\n      <td>0.0000</td>\n      <td>True</td>\n    </tr>\n    <tr>\n      <th>1</th>\n      <td>distserve</td>\n      <td>OPT-66B</td>\n      <td>decode</td>\n      <td>0.25</td>\n      <td>100.0</td>\n      <td>100.0</td>\n      <td>2</td>\n      <td>1</td>\n      <td>1</td>\n      <td>2</td>\n      <td>4</td>\n      <td>0.0625</td>\n      <td>0.0625</td>\n      <td>True</td>\n    </tr>\n    <tr>\n      <th>2</th>\n      <td>distserve</td>\n      <td>OPT-66B</td>\n      <td>both</td>\n      <td>0.25</td>\n      <td>(400.0, 100.0)</td>\n      <td>76.0</td>\n      <td>2</td>\n      <td>1</td>\n      <td>1</td>\n      <td>2</td>\n      <td>4</td>\n      <td>0.0625</td>\n      <td>0.0000</td>\n      <td>True</td>\n    </tr>\n    <tr>\n      <th>3</th>\n      <td>distserve</td>\n      <td>OPT-66B</td>\n      <td>prefill</td>\n      <td>0.25</td>\n      <td>160.0</td>\n      <td>34.0</td>\n      <td>2</td>\n      <td>1</td>\n      <td>1</td>\n      <td>2</td>\n      <td>4</td>\n      <td>0.0625</td>\n      <td>0.0000</td>\n      <td>True</td>\n    </tr>\n    <tr>\n      <th>4</th>\n      <td>distserve</td>\n      <td>OPT-66B</td>\n      <td>decode</td>\n      <td>0.25</td>\n      <td>40.0</td>\n      <td>0.0</td>\n      <td>2</td>\n      <td>1</td>\n      <td>1</td>\n      <td>2</td>\n      <td>4</td>\n      <td>0.0625</td>\n      <td>0.0000</td>\n      <td>True</td>\n    </tr>\n    <tr>\n      <th>...</th>\n      <td>...</td>\n      <td>...</td>\n      <td>...</td>\n      <td>...</td>\n      <td>...</td>\n      <td>...</td>\n      <td>...</td>\n      <td>...</td>\n      <td>...</td>\n      <td>...</td>\n      <td>...</td>\n      <td>...</td>\n      <td>...</td>\n      <td>...</td>\n    </tr>\n    <tr>\n      <th>3320</th>\n      <td>vllm</td>\n      <td>OPT-66B</td>\n      <td>decode</td>\n      <td>6.00</td>\n      <td>504.0970459045684</td>\n      <td>95.0</td>\n      <td>4</td>\n      <td>2</td>\n      <td>0</td>\n      <td>0</td>\n      <td>8</td>\n      <td>0.7500</td>\n      <td>0.7500</td>\n      <td>True</td>\n    </tr>\n    <tr>\n      <th>3321</th>\n      <td>vllm</td>\n      <td>OPT-66B</td>\n      <td>prefill</td>\n      <td>6.00</td>\n      <td>1641.1226124626305</td>\n      <td>98.0</td>\n      <td>4</td>\n      <td>2</td>\n      <td>0</td>\n      <td>0</td>\n      <td>8</td>\n      <td>0.7500</td>\n      <td>0.7500</td>\n      <td>True</td>\n    </tr>\n    <tr>\n      <th>3322</th>\n      <td>vllm</td>\n      <td>OPT-66B</td>\n      <td>decode</td>\n      <td>6.00</td>\n      <td>668.7474485094345</td>\n      <td>98.0</td>\n      <td>4</td>\n      <td>2</td>\n      <td>0</td>\n      <td>0</td>\n      <td>8</td>\n      <td>0.7500</td>\n      <td>0.7500</td>\n      <td>True</td>\n    </tr>\n    <tr>\n      <th>3323</th>\n      <td>vllm</td>\n      <td>OPT-66B</td>\n      <td>prefill</td>\n      <td>6.00</td>\n      <td>1689.821583500695</td>\n      <td>99.0</td>\n      <td>4</td>\n      <td>2</td>\n      <td>0</td>\n      <td>0</td>\n      <td>8</td>\n      <td>0.7500</td>\n      <td>0.7500</td>\n      <td>True</td>\n    </tr>\n    <tr>\n      <th>3324</th>\n      <td>vllm</td>\n      <td>OPT-66B</td>\n      <td>decode</td>\n      <td>6.00</td>\n      <td>882.7993711786935</td>\n      <td>99.0</td>\n      <td>4</td>\n      <td>2</td>\n      <td>0</td>\n      <td>0</td>\n      <td>8</td>\n      <td>0.7500</td>\n      <td>0.7500</td>\n      <td>True</td>\n    </tr>\n  </tbody>\n</table>\n<p>3500 rows × 14 columns</p>\n</div>"
     },
     "execution_count": 49,
     "metadata": {},
     "output_type": "execute_result"
    }
   ],
   "source": [
    "big_df.sort_values(by=['backend', 'per_gpu_rate', 'tp_prefill', 'pp_prefill', 'tp_decode', 'pp_decode'])"
   ],
   "metadata": {
    "collapsed": false,
    "ExecuteTime": {
     "end_time": "2024-04-25T03:06:26.906046Z",
     "start_time": "2024-04-25T03:06:26.886355Z"
    }
   },
   "id": "60850f3b183a849",
   "execution_count": 49
  },
  {
   "cell_type": "code",
   "outputs": [],
   "source": [
    "big_df['target_evaled'] = big_df['target'].apply(eval)\n",
    "figure_11_left_df = big_df[\n",
    "    (big_df['pd'] == 'both')\n",
    "    & (big_df['target_evaled'] == target)\n",
    "    ].copy()\n",
    "\n",
    "figure_11_left_df = figure_11_left_df.sort_values(by=[\n",
    "    'backend', 'tp_prefill', 'pp_prefill', 'tp_decode', 'pp_decode',\n",
    "    'rate'\n",
    "])\n",
    "# Choose the config with the best goodput in each group\n",
    "figure_11_distserve_high = figure_11_left_df[\n",
    "    (figure_11_left_df['backend'] == 'distserve')\n",
    "]\n",
    "figure_11_distserve_low = figure_11_left_df[\n",
    "    (figure_11_left_df['backend'] == 'distserve')\n",
    "    & (figure_11_left_df['low_affin'])\n",
    "    ]\n",
    "figure_11_vllm_high = figure_11_left_df[\n",
    "    (figure_11_left_df['backend'] == 'vllm')\n",
    "]\n",
    "\n",
    "if model_type == \"OPT-13B\": __tp=1\n",
    "if model_type == \"OPT-66B\": __tp=2\n",
    "if model_type == \"OPT-175B\": __tp=4\n",
    "figure_11_vllm_low = figure_11_left_df[\n",
    "    (figure_11_left_df['backend'] == 'vllm')\n",
    "    & (figure_11_left_df['pp_prefill'] == 1)\n",
    "    & (figure_11_left_df['tp_prefill'] == __tp)\n",
    "    ]\n"
   ],
   "metadata": {
    "collapsed": false,
    "ExecuteTime": {
     "end_time": "2024-04-25T03:06:26.943707Z",
     "start_time": "2024-04-25T03:06:26.929223Z"
    }
   },
   "id": "cbddcd857c4232f2",
   "execution_count": 50
  },
  {
   "cell_type": "code",
   "outputs": [
    {
     "data": {
      "text/plain": "        backend model_type    pd  rate          target  attainment  \\\n2     distserve    OPT-66B  both  0.25  (400.0, 100.0)        76.0   \n52    distserve    OPT-66B  both  0.50  (400.0, 100.0)        72.0   \n102   distserve    OPT-66B  both  1.00  (400.0, 100.0)        66.0   \n152   distserve    OPT-66B  both  1.50  (400.0, 100.0)        53.0   \n202   distserve    OPT-66B  both  2.00  (400.0, 100.0)        46.0   \n...         ...        ...   ...   ...             ...         ...   \n2002  distserve    OPT-66B  both  2.00  (400.0, 100.0)        93.5   \n2152  distserve    OPT-66B  both  3.00  (400.0, 100.0)        84.0   \n2302  distserve    OPT-66B  both  4.00  (400.0, 100.0)        77.0   \n2452  distserve    OPT-66B  both  5.00  (400.0, 100.0)        65.0   \n2602  distserve    OPT-66B  both  6.00  (400.0, 100.0)        51.5   \n\n      tp_prefill  pp_prefill  tp_decode  pp_decode  ngpu  per_gpu_rate  \\\n2              2           1          1          2     4        0.0625   \n52             2           1          1          2     4        0.1250   \n102            2           1          1          2     4        0.2500   \n152            2           1          1          2     4        0.3750   \n202            2           1          1          2     4        0.5000   \n...          ...         ...        ...        ...   ...           ...   \n2002           4           1          4          1     8        0.2500   \n2152           4           1          4          1     8        0.3750   \n2302           4           1          4          1     8        0.5000   \n2452           4           1          4          1     8        0.6250   \n2602           4           1          4          1     8        0.7500   \n\n      goodput@90  low_affin   target_evaled  \n2           0.00       True  (400.0, 100.0)  \n52          0.00       True  (400.0, 100.0)  \n102         0.00       True  (400.0, 100.0)  \n152         0.00       True  (400.0, 100.0)  \n202         0.00       True  (400.0, 100.0)  \n...          ...        ...             ...  \n2002        0.25       True  (400.0, 100.0)  \n2152        0.00       True  (400.0, 100.0)  \n2302        0.00       True  (400.0, 100.0)  \n2452        0.00       True  (400.0, 100.0)  \n2602        0.00       True  (400.0, 100.0)  \n\n[105 rows x 15 columns]",
      "text/html": "<div>\n<style scoped>\n    .dataframe tbody tr th:only-of-type {\n        vertical-align: middle;\n    }\n\n    .dataframe tbody tr th {\n        vertical-align: top;\n    }\n\n    .dataframe thead th {\n        text-align: right;\n    }\n</style>\n<table border=\"1\" class=\"dataframe\">\n  <thead>\n    <tr style=\"text-align: right;\">\n      <th></th>\n      <th>backend</th>\n      <th>model_type</th>\n      <th>pd</th>\n      <th>rate</th>\n      <th>target</th>\n      <th>attainment</th>\n      <th>tp_prefill</th>\n      <th>pp_prefill</th>\n      <th>tp_decode</th>\n      <th>pp_decode</th>\n      <th>ngpu</th>\n      <th>per_gpu_rate</th>\n      <th>goodput@90</th>\n      <th>low_affin</th>\n      <th>target_evaled</th>\n    </tr>\n  </thead>\n  <tbody>\n    <tr>\n      <th>2</th>\n      <td>distserve</td>\n      <td>OPT-66B</td>\n      <td>both</td>\n      <td>0.25</td>\n      <td>(400.0, 100.0)</td>\n      <td>76.0</td>\n      <td>2</td>\n      <td>1</td>\n      <td>1</td>\n      <td>2</td>\n      <td>4</td>\n      <td>0.0625</td>\n      <td>0.00</td>\n      <td>True</td>\n      <td>(400.0, 100.0)</td>\n    </tr>\n    <tr>\n      <th>52</th>\n      <td>distserve</td>\n      <td>OPT-66B</td>\n      <td>both</td>\n      <td>0.50</td>\n      <td>(400.0, 100.0)</td>\n      <td>72.0</td>\n      <td>2</td>\n      <td>1</td>\n      <td>1</td>\n      <td>2</td>\n      <td>4</td>\n      <td>0.1250</td>\n      <td>0.00</td>\n      <td>True</td>\n      <td>(400.0, 100.0)</td>\n    </tr>\n    <tr>\n      <th>102</th>\n      <td>distserve</td>\n      <td>OPT-66B</td>\n      <td>both</td>\n      <td>1.00</td>\n      <td>(400.0, 100.0)</td>\n      <td>66.0</td>\n      <td>2</td>\n      <td>1</td>\n      <td>1</td>\n      <td>2</td>\n      <td>4</td>\n      <td>0.2500</td>\n      <td>0.00</td>\n      <td>True</td>\n      <td>(400.0, 100.0)</td>\n    </tr>\n    <tr>\n      <th>152</th>\n      <td>distserve</td>\n      <td>OPT-66B</td>\n      <td>both</td>\n      <td>1.50</td>\n      <td>(400.0, 100.0)</td>\n      <td>53.0</td>\n      <td>2</td>\n      <td>1</td>\n      <td>1</td>\n      <td>2</td>\n      <td>4</td>\n      <td>0.3750</td>\n      <td>0.00</td>\n      <td>True</td>\n      <td>(400.0, 100.0)</td>\n    </tr>\n    <tr>\n      <th>202</th>\n      <td>distserve</td>\n      <td>OPT-66B</td>\n      <td>both</td>\n      <td>2.00</td>\n      <td>(400.0, 100.0)</td>\n      <td>46.0</td>\n      <td>2</td>\n      <td>1</td>\n      <td>1</td>\n      <td>2</td>\n      <td>4</td>\n      <td>0.5000</td>\n      <td>0.00</td>\n      <td>True</td>\n      <td>(400.0, 100.0)</td>\n    </tr>\n    <tr>\n      <th>...</th>\n      <td>...</td>\n      <td>...</td>\n      <td>...</td>\n      <td>...</td>\n      <td>...</td>\n      <td>...</td>\n      <td>...</td>\n      <td>...</td>\n      <td>...</td>\n      <td>...</td>\n      <td>...</td>\n      <td>...</td>\n      <td>...</td>\n      <td>...</td>\n      <td>...</td>\n    </tr>\n    <tr>\n      <th>2002</th>\n      <td>distserve</td>\n      <td>OPT-66B</td>\n      <td>both</td>\n      <td>2.00</td>\n      <td>(400.0, 100.0)</td>\n      <td>93.5</td>\n      <td>4</td>\n      <td>1</td>\n      <td>4</td>\n      <td>1</td>\n      <td>8</td>\n      <td>0.2500</td>\n      <td>0.25</td>\n      <td>True</td>\n      <td>(400.0, 100.0)</td>\n    </tr>\n    <tr>\n      <th>2152</th>\n      <td>distserve</td>\n      <td>OPT-66B</td>\n      <td>both</td>\n      <td>3.00</td>\n      <td>(400.0, 100.0)</td>\n      <td>84.0</td>\n      <td>4</td>\n      <td>1</td>\n      <td>4</td>\n      <td>1</td>\n      <td>8</td>\n      <td>0.3750</td>\n      <td>0.00</td>\n      <td>True</td>\n      <td>(400.0, 100.0)</td>\n    </tr>\n    <tr>\n      <th>2302</th>\n      <td>distserve</td>\n      <td>OPT-66B</td>\n      <td>both</td>\n      <td>4.00</td>\n      <td>(400.0, 100.0)</td>\n      <td>77.0</td>\n      <td>4</td>\n      <td>1</td>\n      <td>4</td>\n      <td>1</td>\n      <td>8</td>\n      <td>0.5000</td>\n      <td>0.00</td>\n      <td>True</td>\n      <td>(400.0, 100.0)</td>\n    </tr>\n    <tr>\n      <th>2452</th>\n      <td>distserve</td>\n      <td>OPT-66B</td>\n      <td>both</td>\n      <td>5.00</td>\n      <td>(400.0, 100.0)</td>\n      <td>65.0</td>\n      <td>4</td>\n      <td>1</td>\n      <td>4</td>\n      <td>1</td>\n      <td>8</td>\n      <td>0.6250</td>\n      <td>0.00</td>\n      <td>True</td>\n      <td>(400.0, 100.0)</td>\n    </tr>\n    <tr>\n      <th>2602</th>\n      <td>distserve</td>\n      <td>OPT-66B</td>\n      <td>both</td>\n      <td>6.00</td>\n      <td>(400.0, 100.0)</td>\n      <td>51.5</td>\n      <td>4</td>\n      <td>1</td>\n      <td>4</td>\n      <td>1</td>\n      <td>8</td>\n      <td>0.7500</td>\n      <td>0.00</td>\n      <td>True</td>\n      <td>(400.0, 100.0)</td>\n    </tr>\n  </tbody>\n</table>\n<p>105 rows × 15 columns</p>\n</div>"
     },
     "execution_count": 51,
     "metadata": {},
     "output_type": "execute_result"
    }
   ],
   "source": [
    "figure_11_distserve_high"
   ],
   "metadata": {
    "collapsed": false,
    "ExecuteTime": {
     "end_time": "2024-04-25T03:06:26.993063Z",
     "start_time": "2024-04-25T03:06:26.948469Z"
    }
   },
   "id": "eefd058d2a113f3b",
   "execution_count": 51
  },
  {
   "cell_type": "code",
   "outputs": [
    {
     "data": {
      "text/plain": "        backend model_type    pd  rate          target  attainment  \\\n2     distserve    OPT-66B  both  0.25  (400.0, 100.0)        76.0   \n52    distserve    OPT-66B  both  0.50  (400.0, 100.0)        72.0   \n102   distserve    OPT-66B  both  1.00  (400.0, 100.0)        66.0   \n152   distserve    OPT-66B  both  1.50  (400.0, 100.0)        53.0   \n202   distserve    OPT-66B  both  2.00  (400.0, 100.0)        46.0   \n...         ...        ...   ...   ...             ...         ...   \n2002  distserve    OPT-66B  both  2.00  (400.0, 100.0)        93.5   \n2152  distserve    OPT-66B  both  3.00  (400.0, 100.0)        84.0   \n2302  distserve    OPT-66B  both  4.00  (400.0, 100.0)        77.0   \n2452  distserve    OPT-66B  both  5.00  (400.0, 100.0)        65.0   \n2602  distserve    OPT-66B  both  6.00  (400.0, 100.0)        51.5   \n\n      tp_prefill  pp_prefill  tp_decode  pp_decode  ngpu  per_gpu_rate  \\\n2              2           1          1          2     4        0.0625   \n52             2           1          1          2     4        0.1250   \n102            2           1          1          2     4        0.2500   \n152            2           1          1          2     4        0.3750   \n202            2           1          1          2     4        0.5000   \n...          ...         ...        ...        ...   ...           ...   \n2002           4           1          4          1     8        0.2500   \n2152           4           1          4          1     8        0.3750   \n2302           4           1          4          1     8        0.5000   \n2452           4           1          4          1     8        0.6250   \n2602           4           1          4          1     8        0.7500   \n\n      goodput@90  low_affin   target_evaled  \n2           0.00       True  (400.0, 100.0)  \n52          0.00       True  (400.0, 100.0)  \n102         0.00       True  (400.0, 100.0)  \n152         0.00       True  (400.0, 100.0)  \n202         0.00       True  (400.0, 100.0)  \n...          ...        ...             ...  \n2002        0.25       True  (400.0, 100.0)  \n2152        0.00       True  (400.0, 100.0)  \n2302        0.00       True  (400.0, 100.0)  \n2452        0.00       True  (400.0, 100.0)  \n2602        0.00       True  (400.0, 100.0)  \n\n[105 rows x 15 columns]",
      "text/html": "<div>\n<style scoped>\n    .dataframe tbody tr th:only-of-type {\n        vertical-align: middle;\n    }\n\n    .dataframe tbody tr th {\n        vertical-align: top;\n    }\n\n    .dataframe thead th {\n        text-align: right;\n    }\n</style>\n<table border=\"1\" class=\"dataframe\">\n  <thead>\n    <tr style=\"text-align: right;\">\n      <th></th>\n      <th>backend</th>\n      <th>model_type</th>\n      <th>pd</th>\n      <th>rate</th>\n      <th>target</th>\n      <th>attainment</th>\n      <th>tp_prefill</th>\n      <th>pp_prefill</th>\n      <th>tp_decode</th>\n      <th>pp_decode</th>\n      <th>ngpu</th>\n      <th>per_gpu_rate</th>\n      <th>goodput@90</th>\n      <th>low_affin</th>\n      <th>target_evaled</th>\n    </tr>\n  </thead>\n  <tbody>\n    <tr>\n      <th>2</th>\n      <td>distserve</td>\n      <td>OPT-66B</td>\n      <td>both</td>\n      <td>0.25</td>\n      <td>(400.0, 100.0)</td>\n      <td>76.0</td>\n      <td>2</td>\n      <td>1</td>\n      <td>1</td>\n      <td>2</td>\n      <td>4</td>\n      <td>0.0625</td>\n      <td>0.00</td>\n      <td>True</td>\n      <td>(400.0, 100.0)</td>\n    </tr>\n    <tr>\n      <th>52</th>\n      <td>distserve</td>\n      <td>OPT-66B</td>\n      <td>both</td>\n      <td>0.50</td>\n      <td>(400.0, 100.0)</td>\n      <td>72.0</td>\n      <td>2</td>\n      <td>1</td>\n      <td>1</td>\n      <td>2</td>\n      <td>4</td>\n      <td>0.1250</td>\n      <td>0.00</td>\n      <td>True</td>\n      <td>(400.0, 100.0)</td>\n    </tr>\n    <tr>\n      <th>102</th>\n      <td>distserve</td>\n      <td>OPT-66B</td>\n      <td>both</td>\n      <td>1.00</td>\n      <td>(400.0, 100.0)</td>\n      <td>66.0</td>\n      <td>2</td>\n      <td>1</td>\n      <td>1</td>\n      <td>2</td>\n      <td>4</td>\n      <td>0.2500</td>\n      <td>0.00</td>\n      <td>True</td>\n      <td>(400.0, 100.0)</td>\n    </tr>\n    <tr>\n      <th>152</th>\n      <td>distserve</td>\n      <td>OPT-66B</td>\n      <td>both</td>\n      <td>1.50</td>\n      <td>(400.0, 100.0)</td>\n      <td>53.0</td>\n      <td>2</td>\n      <td>1</td>\n      <td>1</td>\n      <td>2</td>\n      <td>4</td>\n      <td>0.3750</td>\n      <td>0.00</td>\n      <td>True</td>\n      <td>(400.0, 100.0)</td>\n    </tr>\n    <tr>\n      <th>202</th>\n      <td>distserve</td>\n      <td>OPT-66B</td>\n      <td>both</td>\n      <td>2.00</td>\n      <td>(400.0, 100.0)</td>\n      <td>46.0</td>\n      <td>2</td>\n      <td>1</td>\n      <td>1</td>\n      <td>2</td>\n      <td>4</td>\n      <td>0.5000</td>\n      <td>0.00</td>\n      <td>True</td>\n      <td>(400.0, 100.0)</td>\n    </tr>\n    <tr>\n      <th>...</th>\n      <td>...</td>\n      <td>...</td>\n      <td>...</td>\n      <td>...</td>\n      <td>...</td>\n      <td>...</td>\n      <td>...</td>\n      <td>...</td>\n      <td>...</td>\n      <td>...</td>\n      <td>...</td>\n      <td>...</td>\n      <td>...</td>\n      <td>...</td>\n      <td>...</td>\n    </tr>\n    <tr>\n      <th>2002</th>\n      <td>distserve</td>\n      <td>OPT-66B</td>\n      <td>both</td>\n      <td>2.00</td>\n      <td>(400.0, 100.0)</td>\n      <td>93.5</td>\n      <td>4</td>\n      <td>1</td>\n      <td>4</td>\n      <td>1</td>\n      <td>8</td>\n      <td>0.2500</td>\n      <td>0.25</td>\n      <td>True</td>\n      <td>(400.0, 100.0)</td>\n    </tr>\n    <tr>\n      <th>2152</th>\n      <td>distserve</td>\n      <td>OPT-66B</td>\n      <td>both</td>\n      <td>3.00</td>\n      <td>(400.0, 100.0)</td>\n      <td>84.0</td>\n      <td>4</td>\n      <td>1</td>\n      <td>4</td>\n      <td>1</td>\n      <td>8</td>\n      <td>0.3750</td>\n      <td>0.00</td>\n      <td>True</td>\n      <td>(400.0, 100.0)</td>\n    </tr>\n    <tr>\n      <th>2302</th>\n      <td>distserve</td>\n      <td>OPT-66B</td>\n      <td>both</td>\n      <td>4.00</td>\n      <td>(400.0, 100.0)</td>\n      <td>77.0</td>\n      <td>4</td>\n      <td>1</td>\n      <td>4</td>\n      <td>1</td>\n      <td>8</td>\n      <td>0.5000</td>\n      <td>0.00</td>\n      <td>True</td>\n      <td>(400.0, 100.0)</td>\n    </tr>\n    <tr>\n      <th>2452</th>\n      <td>distserve</td>\n      <td>OPT-66B</td>\n      <td>both</td>\n      <td>5.00</td>\n      <td>(400.0, 100.0)</td>\n      <td>65.0</td>\n      <td>4</td>\n      <td>1</td>\n      <td>4</td>\n      <td>1</td>\n      <td>8</td>\n      <td>0.6250</td>\n      <td>0.00</td>\n      <td>True</td>\n      <td>(400.0, 100.0)</td>\n    </tr>\n    <tr>\n      <th>2602</th>\n      <td>distserve</td>\n      <td>OPT-66B</td>\n      <td>both</td>\n      <td>6.00</td>\n      <td>(400.0, 100.0)</td>\n      <td>51.5</td>\n      <td>4</td>\n      <td>1</td>\n      <td>4</td>\n      <td>1</td>\n      <td>8</td>\n      <td>0.7500</td>\n      <td>0.00</td>\n      <td>True</td>\n      <td>(400.0, 100.0)</td>\n    </tr>\n  </tbody>\n</table>\n<p>105 rows × 15 columns</p>\n</div>"
     },
     "execution_count": 52,
     "metadata": {},
     "output_type": "execute_result"
    }
   ],
   "source": [
    "figure_11_distserve_low"
   ],
   "metadata": {
    "collapsed": false,
    "ExecuteTime": {
     "end_time": "2024-04-25T03:06:26.994002Z",
     "start_time": "2024-04-25T03:06:26.963684Z"
    }
   },
   "id": "919167a14ff23dc2",
   "execution_count": 52
  },
  {
   "cell_type": "code",
   "outputs": [
    {
     "data": {
      "text/plain": "     backend model_type    pd   rate          target  attainment  tp_prefill  \\\n3327    vllm    OPT-66B  both  0.125  (400.0, 100.0)        62.0           2   \n3352    vllm    OPT-66B  both  0.250  (400.0, 100.0)        62.0           2   \n3377    vllm    OPT-66B  both  0.500  (400.0, 100.0)        58.0           2   \n3402    vllm    OPT-66B  both  0.750  (400.0, 100.0)        56.0           2   \n3427    vllm    OPT-66B  both  1.000  (400.0, 100.0)        48.0           2   \n3452    vllm    OPT-66B  both  1.250  (400.0, 100.0)        32.0           2   \n3477    vllm    OPT-66B  both  1.500  (400.0, 100.0)        28.0           2   \n2627    vllm    OPT-66B  both  0.250  (400.0, 100.0)        66.0           2   \n2677    vllm    OPT-66B  both  0.500  (400.0, 100.0)        60.0           2   \n2727    vllm    OPT-66B  both  1.000  (400.0, 100.0)        26.0           2   \n2777    vllm    OPT-66B  both  1.500  (400.0, 100.0)        10.0           2   \n2827    vllm    OPT-66B  both  2.000  (400.0, 100.0)         7.0           2   \n2877    vllm    OPT-66B  both  2.500  (400.0, 100.0)         2.0           2   \n2927    vllm    OPT-66B  both  3.000  (400.0, 100.0)         2.0           2   \n2977    vllm    OPT-66B  both  0.500  (400.0, 100.0)        64.0           2   \n3027    vllm    OPT-66B  both  1.000  (400.0, 100.0)        14.0           2   \n3077    vllm    OPT-66B  both  2.000  (400.0, 100.0)         4.0           2   \n3127    vllm    OPT-66B  both  3.000  (400.0, 100.0)         1.0           2   \n3177    vllm    OPT-66B  both  4.000  (400.0, 100.0)         1.0           2   \n3227    vllm    OPT-66B  both  5.000  (400.0, 100.0)         0.5           2   \n3277    vllm    OPT-66B  both  6.000  (400.0, 100.0)         0.5           2   \n2652    vllm    OPT-66B  both  0.250  (400.0, 100.0)        84.0           4   \n2702    vllm    OPT-66B  both  0.500  (400.0, 100.0)        80.0           4   \n2752    vllm    OPT-66B  both  1.000  (400.0, 100.0)        70.0           4   \n2802    vllm    OPT-66B  both  1.500  (400.0, 100.0)        61.0           4   \n2852    vllm    OPT-66B  both  2.000  (400.0, 100.0)        47.0           4   \n2902    vllm    OPT-66B  both  2.500  (400.0, 100.0)        36.0           4   \n2952    vllm    OPT-66B  both  3.000  (400.0, 100.0)        25.0           4   \n3002    vllm    OPT-66B  both  0.500  (400.0, 100.0)        87.5           4   \n3052    vllm    OPT-66B  both  1.000  (400.0, 100.0)        84.0           4   \n3102    vllm    OPT-66B  both  2.000  (400.0, 100.0)        72.5           4   \n3152    vllm    OPT-66B  both  3.000  (400.0, 100.0)        40.5           4   \n3202    vllm    OPT-66B  both  4.000  (400.0, 100.0)        26.5           4   \n3252    vllm    OPT-66B  both  5.000  (400.0, 100.0)        21.0           4   \n3302    vllm    OPT-66B  both  6.000  (400.0, 100.0)        16.0           4   \n\n      pp_prefill  tp_decode  pp_decode  ngpu  per_gpu_rate  goodput@90  \\\n3327           1          0          0     2        0.0625         0.0   \n3352           1          0          0     2        0.1250         0.0   \n3377           1          0          0     2        0.2500         0.0   \n3402           1          0          0     2        0.3750         0.0   \n3427           1          0          0     2        0.5000         0.0   \n3452           1          0          0     2        0.6250         0.0   \n3477           1          0          0     2        0.7500         0.0   \n2627           2          0          0     4        0.0625         0.0   \n2677           2          0          0     4        0.1250         0.0   \n2727           2          0          0     4        0.2500         0.0   \n2777           2          0          0     4        0.3750         0.0   \n2827           2          0          0     4        0.5000         0.0   \n2877           2          0          0     4        0.6250         0.0   \n2927           2          0          0     4        0.7500         0.0   \n2977           4          0          0     8        0.0625         0.0   \n3027           4          0          0     8        0.1250         0.0   \n3077           4          0          0     8        0.2500         0.0   \n3127           4          0          0     8        0.3750         0.0   \n3177           4          0          0     8        0.5000         0.0   \n3227           4          0          0     8        0.6250         0.0   \n3277           4          0          0     8        0.7500         0.0   \n2652           1          0          0     4        0.0625         0.0   \n2702           1          0          0     4        0.1250         0.0   \n2752           1          0          0     4        0.2500         0.0   \n2802           1          0          0     4        0.3750         0.0   \n2852           1          0          0     4        0.5000         0.0   \n2902           1          0          0     4        0.6250         0.0   \n2952           1          0          0     4        0.7500         0.0   \n3002           2          0          0     8        0.0625         0.0   \n3052           2          0          0     8        0.1250         0.0   \n3102           2          0          0     8        0.2500         0.0   \n3152           2          0          0     8        0.3750         0.0   \n3202           2          0          0     8        0.5000         0.0   \n3252           2          0          0     8        0.6250         0.0   \n3302           2          0          0     8        0.7500         0.0   \n\n      low_affin   target_evaled  \n3327       True  (400.0, 100.0)  \n3352       True  (400.0, 100.0)  \n3377       True  (400.0, 100.0)  \n3402       True  (400.0, 100.0)  \n3427       True  (400.0, 100.0)  \n3452       True  (400.0, 100.0)  \n3477       True  (400.0, 100.0)  \n2627       True  (400.0, 100.0)  \n2677       True  (400.0, 100.0)  \n2727       True  (400.0, 100.0)  \n2777       True  (400.0, 100.0)  \n2827       True  (400.0, 100.0)  \n2877       True  (400.0, 100.0)  \n2927       True  (400.0, 100.0)  \n2977       True  (400.0, 100.0)  \n3027       True  (400.0, 100.0)  \n3077       True  (400.0, 100.0)  \n3127       True  (400.0, 100.0)  \n3177       True  (400.0, 100.0)  \n3227       True  (400.0, 100.0)  \n3277       True  (400.0, 100.0)  \n2652       True  (400.0, 100.0)  \n2702       True  (400.0, 100.0)  \n2752       True  (400.0, 100.0)  \n2802       True  (400.0, 100.0)  \n2852       True  (400.0, 100.0)  \n2902       True  (400.0, 100.0)  \n2952       True  (400.0, 100.0)  \n3002       True  (400.0, 100.0)  \n3052       True  (400.0, 100.0)  \n3102       True  (400.0, 100.0)  \n3152       True  (400.0, 100.0)  \n3202       True  (400.0, 100.0)  \n3252       True  (400.0, 100.0)  \n3302       True  (400.0, 100.0)  ",
      "text/html": "<div>\n<style scoped>\n    .dataframe tbody tr th:only-of-type {\n        vertical-align: middle;\n    }\n\n    .dataframe tbody tr th {\n        vertical-align: top;\n    }\n\n    .dataframe thead th {\n        text-align: right;\n    }\n</style>\n<table border=\"1\" class=\"dataframe\">\n  <thead>\n    <tr style=\"text-align: right;\">\n      <th></th>\n      <th>backend</th>\n      <th>model_type</th>\n      <th>pd</th>\n      <th>rate</th>\n      <th>target</th>\n      <th>attainment</th>\n      <th>tp_prefill</th>\n      <th>pp_prefill</th>\n      <th>tp_decode</th>\n      <th>pp_decode</th>\n      <th>ngpu</th>\n      <th>per_gpu_rate</th>\n      <th>goodput@90</th>\n      <th>low_affin</th>\n      <th>target_evaled</th>\n    </tr>\n  </thead>\n  <tbody>\n    <tr>\n      <th>3327</th>\n      <td>vllm</td>\n      <td>OPT-66B</td>\n      <td>both</td>\n      <td>0.125</td>\n      <td>(400.0, 100.0)</td>\n      <td>62.0</td>\n      <td>2</td>\n      <td>1</td>\n      <td>0</td>\n      <td>0</td>\n      <td>2</td>\n      <td>0.0625</td>\n      <td>0.0</td>\n      <td>True</td>\n      <td>(400.0, 100.0)</td>\n    </tr>\n    <tr>\n      <th>3352</th>\n      <td>vllm</td>\n      <td>OPT-66B</td>\n      <td>both</td>\n      <td>0.250</td>\n      <td>(400.0, 100.0)</td>\n      <td>62.0</td>\n      <td>2</td>\n      <td>1</td>\n      <td>0</td>\n      <td>0</td>\n      <td>2</td>\n      <td>0.1250</td>\n      <td>0.0</td>\n      <td>True</td>\n      <td>(400.0, 100.0)</td>\n    </tr>\n    <tr>\n      <th>3377</th>\n      <td>vllm</td>\n      <td>OPT-66B</td>\n      <td>both</td>\n      <td>0.500</td>\n      <td>(400.0, 100.0)</td>\n      <td>58.0</td>\n      <td>2</td>\n      <td>1</td>\n      <td>0</td>\n      <td>0</td>\n      <td>2</td>\n      <td>0.2500</td>\n      <td>0.0</td>\n      <td>True</td>\n      <td>(400.0, 100.0)</td>\n    </tr>\n    <tr>\n      <th>3402</th>\n      <td>vllm</td>\n      <td>OPT-66B</td>\n      <td>both</td>\n      <td>0.750</td>\n      <td>(400.0, 100.0)</td>\n      <td>56.0</td>\n      <td>2</td>\n      <td>1</td>\n      <td>0</td>\n      <td>0</td>\n      <td>2</td>\n      <td>0.3750</td>\n      <td>0.0</td>\n      <td>True</td>\n      <td>(400.0, 100.0)</td>\n    </tr>\n    <tr>\n      <th>3427</th>\n      <td>vllm</td>\n      <td>OPT-66B</td>\n      <td>both</td>\n      <td>1.000</td>\n      <td>(400.0, 100.0)</td>\n      <td>48.0</td>\n      <td>2</td>\n      <td>1</td>\n      <td>0</td>\n      <td>0</td>\n      <td>2</td>\n      <td>0.5000</td>\n      <td>0.0</td>\n      <td>True</td>\n      <td>(400.0, 100.0)</td>\n    </tr>\n    <tr>\n      <th>3452</th>\n      <td>vllm</td>\n      <td>OPT-66B</td>\n      <td>both</td>\n      <td>1.250</td>\n      <td>(400.0, 100.0)</td>\n      <td>32.0</td>\n      <td>2</td>\n      <td>1</td>\n      <td>0</td>\n      <td>0</td>\n      <td>2</td>\n      <td>0.6250</td>\n      <td>0.0</td>\n      <td>True</td>\n      <td>(400.0, 100.0)</td>\n    </tr>\n    <tr>\n      <th>3477</th>\n      <td>vllm</td>\n      <td>OPT-66B</td>\n      <td>both</td>\n      <td>1.500</td>\n      <td>(400.0, 100.0)</td>\n      <td>28.0</td>\n      <td>2</td>\n      <td>1</td>\n      <td>0</td>\n      <td>0</td>\n      <td>2</td>\n      <td>0.7500</td>\n      <td>0.0</td>\n      <td>True</td>\n      <td>(400.0, 100.0)</td>\n    </tr>\n    <tr>\n      <th>2627</th>\n      <td>vllm</td>\n      <td>OPT-66B</td>\n      <td>both</td>\n      <td>0.250</td>\n      <td>(400.0, 100.0)</td>\n      <td>66.0</td>\n      <td>2</td>\n      <td>2</td>\n      <td>0</td>\n      <td>0</td>\n      <td>4</td>\n      <td>0.0625</td>\n      <td>0.0</td>\n      <td>True</td>\n      <td>(400.0, 100.0)</td>\n    </tr>\n    <tr>\n      <th>2677</th>\n      <td>vllm</td>\n      <td>OPT-66B</td>\n      <td>both</td>\n      <td>0.500</td>\n      <td>(400.0, 100.0)</td>\n      <td>60.0</td>\n      <td>2</td>\n      <td>2</td>\n      <td>0</td>\n      <td>0</td>\n      <td>4</td>\n      <td>0.1250</td>\n      <td>0.0</td>\n      <td>True</td>\n      <td>(400.0, 100.0)</td>\n    </tr>\n    <tr>\n      <th>2727</th>\n      <td>vllm</td>\n      <td>OPT-66B</td>\n      <td>both</td>\n      <td>1.000</td>\n      <td>(400.0, 100.0)</td>\n      <td>26.0</td>\n      <td>2</td>\n      <td>2</td>\n      <td>0</td>\n      <td>0</td>\n      <td>4</td>\n      <td>0.2500</td>\n      <td>0.0</td>\n      <td>True</td>\n      <td>(400.0, 100.0)</td>\n    </tr>\n    <tr>\n      <th>2777</th>\n      <td>vllm</td>\n      <td>OPT-66B</td>\n      <td>both</td>\n      <td>1.500</td>\n      <td>(400.0, 100.0)</td>\n      <td>10.0</td>\n      <td>2</td>\n      <td>2</td>\n      <td>0</td>\n      <td>0</td>\n      <td>4</td>\n      <td>0.3750</td>\n      <td>0.0</td>\n      <td>True</td>\n      <td>(400.0, 100.0)</td>\n    </tr>\n    <tr>\n      <th>2827</th>\n      <td>vllm</td>\n      <td>OPT-66B</td>\n      <td>both</td>\n      <td>2.000</td>\n      <td>(400.0, 100.0)</td>\n      <td>7.0</td>\n      <td>2</td>\n      <td>2</td>\n      <td>0</td>\n      <td>0</td>\n      <td>4</td>\n      <td>0.5000</td>\n      <td>0.0</td>\n      <td>True</td>\n      <td>(400.0, 100.0)</td>\n    </tr>\n    <tr>\n      <th>2877</th>\n      <td>vllm</td>\n      <td>OPT-66B</td>\n      <td>both</td>\n      <td>2.500</td>\n      <td>(400.0, 100.0)</td>\n      <td>2.0</td>\n      <td>2</td>\n      <td>2</td>\n      <td>0</td>\n      <td>0</td>\n      <td>4</td>\n      <td>0.6250</td>\n      <td>0.0</td>\n      <td>True</td>\n      <td>(400.0, 100.0)</td>\n    </tr>\n    <tr>\n      <th>2927</th>\n      <td>vllm</td>\n      <td>OPT-66B</td>\n      <td>both</td>\n      <td>3.000</td>\n      <td>(400.0, 100.0)</td>\n      <td>2.0</td>\n      <td>2</td>\n      <td>2</td>\n      <td>0</td>\n      <td>0</td>\n      <td>4</td>\n      <td>0.7500</td>\n      <td>0.0</td>\n      <td>True</td>\n      <td>(400.0, 100.0)</td>\n    </tr>\n    <tr>\n      <th>2977</th>\n      <td>vllm</td>\n      <td>OPT-66B</td>\n      <td>both</td>\n      <td>0.500</td>\n      <td>(400.0, 100.0)</td>\n      <td>64.0</td>\n      <td>2</td>\n      <td>4</td>\n      <td>0</td>\n      <td>0</td>\n      <td>8</td>\n      <td>0.0625</td>\n      <td>0.0</td>\n      <td>True</td>\n      <td>(400.0, 100.0)</td>\n    </tr>\n    <tr>\n      <th>3027</th>\n      <td>vllm</td>\n      <td>OPT-66B</td>\n      <td>both</td>\n      <td>1.000</td>\n      <td>(400.0, 100.0)</td>\n      <td>14.0</td>\n      <td>2</td>\n      <td>4</td>\n      <td>0</td>\n      <td>0</td>\n      <td>8</td>\n      <td>0.1250</td>\n      <td>0.0</td>\n      <td>True</td>\n      <td>(400.0, 100.0)</td>\n    </tr>\n    <tr>\n      <th>3077</th>\n      <td>vllm</td>\n      <td>OPT-66B</td>\n      <td>both</td>\n      <td>2.000</td>\n      <td>(400.0, 100.0)</td>\n      <td>4.0</td>\n      <td>2</td>\n      <td>4</td>\n      <td>0</td>\n      <td>0</td>\n      <td>8</td>\n      <td>0.2500</td>\n      <td>0.0</td>\n      <td>True</td>\n      <td>(400.0, 100.0)</td>\n    </tr>\n    <tr>\n      <th>3127</th>\n      <td>vllm</td>\n      <td>OPT-66B</td>\n      <td>both</td>\n      <td>3.000</td>\n      <td>(400.0, 100.0)</td>\n      <td>1.0</td>\n      <td>2</td>\n      <td>4</td>\n      <td>0</td>\n      <td>0</td>\n      <td>8</td>\n      <td>0.3750</td>\n      <td>0.0</td>\n      <td>True</td>\n      <td>(400.0, 100.0)</td>\n    </tr>\n    <tr>\n      <th>3177</th>\n      <td>vllm</td>\n      <td>OPT-66B</td>\n      <td>both</td>\n      <td>4.000</td>\n      <td>(400.0, 100.0)</td>\n      <td>1.0</td>\n      <td>2</td>\n      <td>4</td>\n      <td>0</td>\n      <td>0</td>\n      <td>8</td>\n      <td>0.5000</td>\n      <td>0.0</td>\n      <td>True</td>\n      <td>(400.0, 100.0)</td>\n    </tr>\n    <tr>\n      <th>3227</th>\n      <td>vllm</td>\n      <td>OPT-66B</td>\n      <td>both</td>\n      <td>5.000</td>\n      <td>(400.0, 100.0)</td>\n      <td>0.5</td>\n      <td>2</td>\n      <td>4</td>\n      <td>0</td>\n      <td>0</td>\n      <td>8</td>\n      <td>0.6250</td>\n      <td>0.0</td>\n      <td>True</td>\n      <td>(400.0, 100.0)</td>\n    </tr>\n    <tr>\n      <th>3277</th>\n      <td>vllm</td>\n      <td>OPT-66B</td>\n      <td>both</td>\n      <td>6.000</td>\n      <td>(400.0, 100.0)</td>\n      <td>0.5</td>\n      <td>2</td>\n      <td>4</td>\n      <td>0</td>\n      <td>0</td>\n      <td>8</td>\n      <td>0.7500</td>\n      <td>0.0</td>\n      <td>True</td>\n      <td>(400.0, 100.0)</td>\n    </tr>\n    <tr>\n      <th>2652</th>\n      <td>vllm</td>\n      <td>OPT-66B</td>\n      <td>both</td>\n      <td>0.250</td>\n      <td>(400.0, 100.0)</td>\n      <td>84.0</td>\n      <td>4</td>\n      <td>1</td>\n      <td>0</td>\n      <td>0</td>\n      <td>4</td>\n      <td>0.0625</td>\n      <td>0.0</td>\n      <td>True</td>\n      <td>(400.0, 100.0)</td>\n    </tr>\n    <tr>\n      <th>2702</th>\n      <td>vllm</td>\n      <td>OPT-66B</td>\n      <td>both</td>\n      <td>0.500</td>\n      <td>(400.0, 100.0)</td>\n      <td>80.0</td>\n      <td>4</td>\n      <td>1</td>\n      <td>0</td>\n      <td>0</td>\n      <td>4</td>\n      <td>0.1250</td>\n      <td>0.0</td>\n      <td>True</td>\n      <td>(400.0, 100.0)</td>\n    </tr>\n    <tr>\n      <th>2752</th>\n      <td>vllm</td>\n      <td>OPT-66B</td>\n      <td>both</td>\n      <td>1.000</td>\n      <td>(400.0, 100.0)</td>\n      <td>70.0</td>\n      <td>4</td>\n      <td>1</td>\n      <td>0</td>\n      <td>0</td>\n      <td>4</td>\n      <td>0.2500</td>\n      <td>0.0</td>\n      <td>True</td>\n      <td>(400.0, 100.0)</td>\n    </tr>\n    <tr>\n      <th>2802</th>\n      <td>vllm</td>\n      <td>OPT-66B</td>\n      <td>both</td>\n      <td>1.500</td>\n      <td>(400.0, 100.0)</td>\n      <td>61.0</td>\n      <td>4</td>\n      <td>1</td>\n      <td>0</td>\n      <td>0</td>\n      <td>4</td>\n      <td>0.3750</td>\n      <td>0.0</td>\n      <td>True</td>\n      <td>(400.0, 100.0)</td>\n    </tr>\n    <tr>\n      <th>2852</th>\n      <td>vllm</td>\n      <td>OPT-66B</td>\n      <td>both</td>\n      <td>2.000</td>\n      <td>(400.0, 100.0)</td>\n      <td>47.0</td>\n      <td>4</td>\n      <td>1</td>\n      <td>0</td>\n      <td>0</td>\n      <td>4</td>\n      <td>0.5000</td>\n      <td>0.0</td>\n      <td>True</td>\n      <td>(400.0, 100.0)</td>\n    </tr>\n    <tr>\n      <th>2902</th>\n      <td>vllm</td>\n      <td>OPT-66B</td>\n      <td>both</td>\n      <td>2.500</td>\n      <td>(400.0, 100.0)</td>\n      <td>36.0</td>\n      <td>4</td>\n      <td>1</td>\n      <td>0</td>\n      <td>0</td>\n      <td>4</td>\n      <td>0.6250</td>\n      <td>0.0</td>\n      <td>True</td>\n      <td>(400.0, 100.0)</td>\n    </tr>\n    <tr>\n      <th>2952</th>\n      <td>vllm</td>\n      <td>OPT-66B</td>\n      <td>both</td>\n      <td>3.000</td>\n      <td>(400.0, 100.0)</td>\n      <td>25.0</td>\n      <td>4</td>\n      <td>1</td>\n      <td>0</td>\n      <td>0</td>\n      <td>4</td>\n      <td>0.7500</td>\n      <td>0.0</td>\n      <td>True</td>\n      <td>(400.0, 100.0)</td>\n    </tr>\n    <tr>\n      <th>3002</th>\n      <td>vllm</td>\n      <td>OPT-66B</td>\n      <td>both</td>\n      <td>0.500</td>\n      <td>(400.0, 100.0)</td>\n      <td>87.5</td>\n      <td>4</td>\n      <td>2</td>\n      <td>0</td>\n      <td>0</td>\n      <td>8</td>\n      <td>0.0625</td>\n      <td>0.0</td>\n      <td>True</td>\n      <td>(400.0, 100.0)</td>\n    </tr>\n    <tr>\n      <th>3052</th>\n      <td>vllm</td>\n      <td>OPT-66B</td>\n      <td>both</td>\n      <td>1.000</td>\n      <td>(400.0, 100.0)</td>\n      <td>84.0</td>\n      <td>4</td>\n      <td>2</td>\n      <td>0</td>\n      <td>0</td>\n      <td>8</td>\n      <td>0.1250</td>\n      <td>0.0</td>\n      <td>True</td>\n      <td>(400.0, 100.0)</td>\n    </tr>\n    <tr>\n      <th>3102</th>\n      <td>vllm</td>\n      <td>OPT-66B</td>\n      <td>both</td>\n      <td>2.000</td>\n      <td>(400.0, 100.0)</td>\n      <td>72.5</td>\n      <td>4</td>\n      <td>2</td>\n      <td>0</td>\n      <td>0</td>\n      <td>8</td>\n      <td>0.2500</td>\n      <td>0.0</td>\n      <td>True</td>\n      <td>(400.0, 100.0)</td>\n    </tr>\n    <tr>\n      <th>3152</th>\n      <td>vllm</td>\n      <td>OPT-66B</td>\n      <td>both</td>\n      <td>3.000</td>\n      <td>(400.0, 100.0)</td>\n      <td>40.5</td>\n      <td>4</td>\n      <td>2</td>\n      <td>0</td>\n      <td>0</td>\n      <td>8</td>\n      <td>0.3750</td>\n      <td>0.0</td>\n      <td>True</td>\n      <td>(400.0, 100.0)</td>\n    </tr>\n    <tr>\n      <th>3202</th>\n      <td>vllm</td>\n      <td>OPT-66B</td>\n      <td>both</td>\n      <td>4.000</td>\n      <td>(400.0, 100.0)</td>\n      <td>26.5</td>\n      <td>4</td>\n      <td>2</td>\n      <td>0</td>\n      <td>0</td>\n      <td>8</td>\n      <td>0.5000</td>\n      <td>0.0</td>\n      <td>True</td>\n      <td>(400.0, 100.0)</td>\n    </tr>\n    <tr>\n      <th>3252</th>\n      <td>vllm</td>\n      <td>OPT-66B</td>\n      <td>both</td>\n      <td>5.000</td>\n      <td>(400.0, 100.0)</td>\n      <td>21.0</td>\n      <td>4</td>\n      <td>2</td>\n      <td>0</td>\n      <td>0</td>\n      <td>8</td>\n      <td>0.6250</td>\n      <td>0.0</td>\n      <td>True</td>\n      <td>(400.0, 100.0)</td>\n    </tr>\n    <tr>\n      <th>3302</th>\n      <td>vllm</td>\n      <td>OPT-66B</td>\n      <td>both</td>\n      <td>6.000</td>\n      <td>(400.0, 100.0)</td>\n      <td>16.0</td>\n      <td>4</td>\n      <td>2</td>\n      <td>0</td>\n      <td>0</td>\n      <td>8</td>\n      <td>0.7500</td>\n      <td>0.0</td>\n      <td>True</td>\n      <td>(400.0, 100.0)</td>\n    </tr>\n  </tbody>\n</table>\n</div>"
     },
     "execution_count": 53,
     "metadata": {},
     "output_type": "execute_result"
    }
   ],
   "source": [
    "figure_11_vllm_high"
   ],
   "metadata": {
    "collapsed": false,
    "ExecuteTime": {
     "end_time": "2024-04-25T03:06:27.033348Z",
     "start_time": "2024-04-25T03:06:26.983840Z"
    }
   },
   "id": "afb7980c8f37f3ab",
   "execution_count": 53
  },
  {
   "cell_type": "code",
   "outputs": [
    {
     "data": {
      "text/plain": "     backend model_type    pd   rate          target  attainment  tp_prefill  \\\n3327    vllm    OPT-66B  both  0.125  (400.0, 100.0)        62.0           2   \n3352    vllm    OPT-66B  both  0.250  (400.0, 100.0)        62.0           2   \n3377    vllm    OPT-66B  both  0.500  (400.0, 100.0)        58.0           2   \n3402    vllm    OPT-66B  both  0.750  (400.0, 100.0)        56.0           2   \n3427    vllm    OPT-66B  both  1.000  (400.0, 100.0)        48.0           2   \n3452    vllm    OPT-66B  both  1.250  (400.0, 100.0)        32.0           2   \n3477    vllm    OPT-66B  both  1.500  (400.0, 100.0)        28.0           2   \n\n      pp_prefill  tp_decode  pp_decode  ngpu  per_gpu_rate  goodput@90  \\\n3327           1          0          0     2        0.0625         0.0   \n3352           1          0          0     2        0.1250         0.0   \n3377           1          0          0     2        0.2500         0.0   \n3402           1          0          0     2        0.3750         0.0   \n3427           1          0          0     2        0.5000         0.0   \n3452           1          0          0     2        0.6250         0.0   \n3477           1          0          0     2        0.7500         0.0   \n\n      low_affin   target_evaled  \n3327       True  (400.0, 100.0)  \n3352       True  (400.0, 100.0)  \n3377       True  (400.0, 100.0)  \n3402       True  (400.0, 100.0)  \n3427       True  (400.0, 100.0)  \n3452       True  (400.0, 100.0)  \n3477       True  (400.0, 100.0)  ",
      "text/html": "<div>\n<style scoped>\n    .dataframe tbody tr th:only-of-type {\n        vertical-align: middle;\n    }\n\n    .dataframe tbody tr th {\n        vertical-align: top;\n    }\n\n    .dataframe thead th {\n        text-align: right;\n    }\n</style>\n<table border=\"1\" class=\"dataframe\">\n  <thead>\n    <tr style=\"text-align: right;\">\n      <th></th>\n      <th>backend</th>\n      <th>model_type</th>\n      <th>pd</th>\n      <th>rate</th>\n      <th>target</th>\n      <th>attainment</th>\n      <th>tp_prefill</th>\n      <th>pp_prefill</th>\n      <th>tp_decode</th>\n      <th>pp_decode</th>\n      <th>ngpu</th>\n      <th>per_gpu_rate</th>\n      <th>goodput@90</th>\n      <th>low_affin</th>\n      <th>target_evaled</th>\n    </tr>\n  </thead>\n  <tbody>\n    <tr>\n      <th>3327</th>\n      <td>vllm</td>\n      <td>OPT-66B</td>\n      <td>both</td>\n      <td>0.125</td>\n      <td>(400.0, 100.0)</td>\n      <td>62.0</td>\n      <td>2</td>\n      <td>1</td>\n      <td>0</td>\n      <td>0</td>\n      <td>2</td>\n      <td>0.0625</td>\n      <td>0.0</td>\n      <td>True</td>\n      <td>(400.0, 100.0)</td>\n    </tr>\n    <tr>\n      <th>3352</th>\n      <td>vllm</td>\n      <td>OPT-66B</td>\n      <td>both</td>\n      <td>0.250</td>\n      <td>(400.0, 100.0)</td>\n      <td>62.0</td>\n      <td>2</td>\n      <td>1</td>\n      <td>0</td>\n      <td>0</td>\n      <td>2</td>\n      <td>0.1250</td>\n      <td>0.0</td>\n      <td>True</td>\n      <td>(400.0, 100.0)</td>\n    </tr>\n    <tr>\n      <th>3377</th>\n      <td>vllm</td>\n      <td>OPT-66B</td>\n      <td>both</td>\n      <td>0.500</td>\n      <td>(400.0, 100.0)</td>\n      <td>58.0</td>\n      <td>2</td>\n      <td>1</td>\n      <td>0</td>\n      <td>0</td>\n      <td>2</td>\n      <td>0.2500</td>\n      <td>0.0</td>\n      <td>True</td>\n      <td>(400.0, 100.0)</td>\n    </tr>\n    <tr>\n      <th>3402</th>\n      <td>vllm</td>\n      <td>OPT-66B</td>\n      <td>both</td>\n      <td>0.750</td>\n      <td>(400.0, 100.0)</td>\n      <td>56.0</td>\n      <td>2</td>\n      <td>1</td>\n      <td>0</td>\n      <td>0</td>\n      <td>2</td>\n      <td>0.3750</td>\n      <td>0.0</td>\n      <td>True</td>\n      <td>(400.0, 100.0)</td>\n    </tr>\n    <tr>\n      <th>3427</th>\n      <td>vllm</td>\n      <td>OPT-66B</td>\n      <td>both</td>\n      <td>1.000</td>\n      <td>(400.0, 100.0)</td>\n      <td>48.0</td>\n      <td>2</td>\n      <td>1</td>\n      <td>0</td>\n      <td>0</td>\n      <td>2</td>\n      <td>0.5000</td>\n      <td>0.0</td>\n      <td>True</td>\n      <td>(400.0, 100.0)</td>\n    </tr>\n    <tr>\n      <th>3452</th>\n      <td>vllm</td>\n      <td>OPT-66B</td>\n      <td>both</td>\n      <td>1.250</td>\n      <td>(400.0, 100.0)</td>\n      <td>32.0</td>\n      <td>2</td>\n      <td>1</td>\n      <td>0</td>\n      <td>0</td>\n      <td>2</td>\n      <td>0.6250</td>\n      <td>0.0</td>\n      <td>True</td>\n      <td>(400.0, 100.0)</td>\n    </tr>\n    <tr>\n      <th>3477</th>\n      <td>vllm</td>\n      <td>OPT-66B</td>\n      <td>both</td>\n      <td>1.500</td>\n      <td>(400.0, 100.0)</td>\n      <td>28.0</td>\n      <td>2</td>\n      <td>1</td>\n      <td>0</td>\n      <td>0</td>\n      <td>2</td>\n      <td>0.7500</td>\n      <td>0.0</td>\n      <td>True</td>\n      <td>(400.0, 100.0)</td>\n    </tr>\n  </tbody>\n</table>\n</div>"
     },
     "execution_count": 54,
     "metadata": {},
     "output_type": "execute_result"
    }
   ],
   "source": [
    "figure_11_vllm_low"
   ],
   "metadata": {
    "collapsed": false,
    "ExecuteTime": {
     "end_time": "2024-04-25T03:06:27.048999Z",
     "start_time": "2024-04-25T03:06:27.009390Z"
    }
   },
   "id": "f75057473fc9c5ca",
   "execution_count": 54
  },
  {
   "cell_type": "code",
   "outputs": [],
   "source": [],
   "metadata": {
    "collapsed": false,
    "ExecuteTime": {
     "end_time": "2024-04-25T03:06:27.065380Z",
     "start_time": "2024-04-25T03:06:27.013150Z"
    }
   },
   "id": "a769e97e148bf255",
   "execution_count": 54
  },
  {
   "cell_type": "code",
   "outputs": [
    {
     "data": {
      "application/vnd.plotly.v1+json": {
       "data": [
        {
         "mode": "lines+markers",
         "name": "p2112-distserve",
         "x": [
          0.0625,
          0.125,
          0.25,
          0.375,
          0.5,
          0.625,
          0.75
         ],
         "y": [
          76.0,
          72.0,
          66.0,
          53.0,
          46.0,
          35.0,
          26.0
         ],
         "type": "scatter"
        },
        {
         "mode": "lines+markers",
         "name": "p2114-distserve",
         "x": [
          0.0625,
          0.125,
          0.25,
          0.375,
          0.5,
          0.625,
          0.75
         ],
         "y": [
          74.66666666666667,
          69.33333333333334,
          57.333333333333336,
          44.66666666666666,
          30.666666666666664,
          13.333333333333334,
          7.333333333333333
         ],
         "type": "scatter"
        },
        {
         "mode": "lines+markers",
         "name": "p2121-distserve",
         "x": [
          0.0625,
          0.125,
          0.25,
          0.375,
          0.5,
          0.625,
          0.75
         ],
         "y": [
          76.0,
          72.0,
          66.0,
          53.0,
          46.0,
          35.0,
          26.0
         ],
         "type": "scatter"
        },
        {
         "mode": "lines+markers",
         "name": "p2122-distserve",
         "x": [
          0.0625,
          0.125,
          0.25,
          0.375,
          0.5,
          0.625,
          0.75
         ],
         "y": [
          74.66666666666667,
          69.33333333333334,
          57.333333333333336,
          44.66666666666666,
          30.666666666666664,
          13.333333333333334,
          7.333333333333333
         ],
         "type": "scatter"
        },
        {
         "mode": "lines+markers",
         "name": "p2141-distserve",
         "x": [
          0.0625,
          0.125,
          0.25,
          0.375,
          0.5,
          0.625,
          0.75
         ],
         "y": [
          74.66666666666667,
          69.33333333333334,
          57.333333333333336,
          44.66666666666666,
          30.666666666666664,
          12.666666666666668,
          7.333333333333333
         ],
         "type": "scatter"
        },
        {
         "mode": "lines+markers",
         "name": "p2212-distserve",
         "x": [
          0.0625,
          0.125,
          0.25,
          0.375,
          0.5,
          0.625,
          0.75
         ],
         "y": [
          76.66666666666667,
          74.66666666666667,
          69.33333333333334,
          62.66666666666667,
          54.0,
          47.333333333333336,
          35.333333333333336
         ],
         "type": "scatter"
        },
        {
         "mode": "lines+markers",
         "name": "p2214-distserve",
         "x": [
          0.0625,
          0.125,
          0.25,
          0.375,
          0.5,
          0.625,
          0.75
         ],
         "y": [
          77.0,
          73.5,
          63.5,
          54.50000000000001,
          46.0,
          35.0,
          23.5
         ],
         "type": "scatter"
        },
        {
         "mode": "lines+markers",
         "name": "p2221-distserve",
         "x": [
          0.0625,
          0.125,
          0.25,
          0.375,
          0.5,
          0.625,
          0.75
         ],
         "y": [
          76.66666666666667,
          74.66666666666667,
          69.33333333333334,
          62.66666666666667,
          54.0,
          46.66666666666666,
          33.33333333333333
         ],
         "type": "scatter"
        },
        {
         "mode": "lines+markers",
         "name": "p2222-distserve",
         "x": [
          0.0625,
          0.125,
          0.25,
          0.375,
          0.5,
          0.625,
          0.75
         ],
         "y": [
          77.0,
          73.5,
          63.5,
          54.50000000000001,
          46.0,
          35.0,
          23.5
         ],
         "type": "scatter"
        },
        {
         "mode": "lines+markers",
         "name": "p2241-distserve",
         "x": [
          0.0625,
          0.125,
          0.25,
          0.375,
          0.5,
          0.625,
          0.75
         ],
         "y": [
          77.0,
          73.5,
          63.5,
          51.0,
          33.5,
          18.0,
          10.5
         ],
         "type": "scatter"
        },
        {
         "mode": "lines+markers",
         "name": "p4112-distserve",
         "x": [
          0.0625,
          0.125,
          0.25,
          0.375,
          0.5,
          0.625,
          0.75
         ],
         "y": [
          99.33333333333331,
          99.33333333333331,
          95.33333333333334,
          88.0,
          81.33333333333333,
          77.33333333333333,
          63.33333333333333
         ],
         "type": "scatter"
        },
        {
         "mode": "lines+markers",
         "name": "p4114-distserve",
         "x": [
          0.0625,
          0.125,
          0.25,
          0.375,
          0.5,
          0.625,
          0.75
         ],
         "y": [
          99.5,
          98.5,
          93.5,
          84.0,
          77.0,
          65.0,
          51.5
         ],
         "type": "scatter"
        },
        {
         "mode": "lines+markers",
         "name": "p4121-distserve",
         "x": [
          0.0625,
          0.125,
          0.25,
          0.375,
          0.5,
          0.625,
          0.75
         ],
         "y": [
          99.33333333333331,
          99.33333333333331,
          95.33333333333334,
          88.0,
          81.33333333333333,
          77.33333333333333,
          63.33333333333333
         ],
         "type": "scatter"
        },
        {
         "mode": "lines+markers",
         "name": "p4122-distserve",
         "x": [
          0.0625,
          0.125,
          0.25,
          0.375,
          0.5,
          0.625,
          0.75
         ],
         "y": [
          99.5,
          98.5,
          93.5,
          84.0,
          77.0,
          65.0,
          51.5
         ],
         "type": "scatter"
        },
        {
         "mode": "lines+markers",
         "name": "p4141-distserve",
         "x": [
          0.0625,
          0.125,
          0.25,
          0.375,
          0.5,
          0.625,
          0.75
         ],
         "y": [
          99.5,
          98.5,
          93.5,
          84.0,
          77.0,
          65.0,
          51.5
         ],
         "type": "scatter"
        }
       ],
       "layout": {
        "template": {
         "data": {
          "histogram2dcontour": [
           {
            "type": "histogram2dcontour",
            "colorbar": {
             "outlinewidth": 0,
             "ticks": ""
            },
            "colorscale": [
             [
              0.0,
              "#0d0887"
             ],
             [
              0.1111111111111111,
              "#46039f"
             ],
             [
              0.2222222222222222,
              "#7201a8"
             ],
             [
              0.3333333333333333,
              "#9c179e"
             ],
             [
              0.4444444444444444,
              "#bd3786"
             ],
             [
              0.5555555555555556,
              "#d8576b"
             ],
             [
              0.6666666666666666,
              "#ed7953"
             ],
             [
              0.7777777777777778,
              "#fb9f3a"
             ],
             [
              0.8888888888888888,
              "#fdca26"
             ],
             [
              1.0,
              "#f0f921"
             ]
            ]
           }
          ],
          "choropleth": [
           {
            "type": "choropleth",
            "colorbar": {
             "outlinewidth": 0,
             "ticks": ""
            }
           }
          ],
          "histogram2d": [
           {
            "type": "histogram2d",
            "colorbar": {
             "outlinewidth": 0,
             "ticks": ""
            },
            "colorscale": [
             [
              0.0,
              "#0d0887"
             ],
             [
              0.1111111111111111,
              "#46039f"
             ],
             [
              0.2222222222222222,
              "#7201a8"
             ],
             [
              0.3333333333333333,
              "#9c179e"
             ],
             [
              0.4444444444444444,
              "#bd3786"
             ],
             [
              0.5555555555555556,
              "#d8576b"
             ],
             [
              0.6666666666666666,
              "#ed7953"
             ],
             [
              0.7777777777777778,
              "#fb9f3a"
             ],
             [
              0.8888888888888888,
              "#fdca26"
             ],
             [
              1.0,
              "#f0f921"
             ]
            ]
           }
          ],
          "heatmap": [
           {
            "type": "heatmap",
            "colorbar": {
             "outlinewidth": 0,
             "ticks": ""
            },
            "colorscale": [
             [
              0.0,
              "#0d0887"
             ],
             [
              0.1111111111111111,
              "#46039f"
             ],
             [
              0.2222222222222222,
              "#7201a8"
             ],
             [
              0.3333333333333333,
              "#9c179e"
             ],
             [
              0.4444444444444444,
              "#bd3786"
             ],
             [
              0.5555555555555556,
              "#d8576b"
             ],
             [
              0.6666666666666666,
              "#ed7953"
             ],
             [
              0.7777777777777778,
              "#fb9f3a"
             ],
             [
              0.8888888888888888,
              "#fdca26"
             ],
             [
              1.0,
              "#f0f921"
             ]
            ]
           }
          ],
          "heatmapgl": [
           {
            "type": "heatmapgl",
            "colorbar": {
             "outlinewidth": 0,
             "ticks": ""
            },
            "colorscale": [
             [
              0.0,
              "#0d0887"
             ],
             [
              0.1111111111111111,
              "#46039f"
             ],
             [
              0.2222222222222222,
              "#7201a8"
             ],
             [
              0.3333333333333333,
              "#9c179e"
             ],
             [
              0.4444444444444444,
              "#bd3786"
             ],
             [
              0.5555555555555556,
              "#d8576b"
             ],
             [
              0.6666666666666666,
              "#ed7953"
             ],
             [
              0.7777777777777778,
              "#fb9f3a"
             ],
             [
              0.8888888888888888,
              "#fdca26"
             ],
             [
              1.0,
              "#f0f921"
             ]
            ]
           }
          ],
          "contourcarpet": [
           {
            "type": "contourcarpet",
            "colorbar": {
             "outlinewidth": 0,
             "ticks": ""
            }
           }
          ],
          "contour": [
           {
            "type": "contour",
            "colorbar": {
             "outlinewidth": 0,
             "ticks": ""
            },
            "colorscale": [
             [
              0.0,
              "#0d0887"
             ],
             [
              0.1111111111111111,
              "#46039f"
             ],
             [
              0.2222222222222222,
              "#7201a8"
             ],
             [
              0.3333333333333333,
              "#9c179e"
             ],
             [
              0.4444444444444444,
              "#bd3786"
             ],
             [
              0.5555555555555556,
              "#d8576b"
             ],
             [
              0.6666666666666666,
              "#ed7953"
             ],
             [
              0.7777777777777778,
              "#fb9f3a"
             ],
             [
              0.8888888888888888,
              "#fdca26"
             ],
             [
              1.0,
              "#f0f921"
             ]
            ]
           }
          ],
          "surface": [
           {
            "type": "surface",
            "colorbar": {
             "outlinewidth": 0,
             "ticks": ""
            },
            "colorscale": [
             [
              0.0,
              "#0d0887"
             ],
             [
              0.1111111111111111,
              "#46039f"
             ],
             [
              0.2222222222222222,
              "#7201a8"
             ],
             [
              0.3333333333333333,
              "#9c179e"
             ],
             [
              0.4444444444444444,
              "#bd3786"
             ],
             [
              0.5555555555555556,
              "#d8576b"
             ],
             [
              0.6666666666666666,
              "#ed7953"
             ],
             [
              0.7777777777777778,
              "#fb9f3a"
             ],
             [
              0.8888888888888888,
              "#fdca26"
             ],
             [
              1.0,
              "#f0f921"
             ]
            ]
           }
          ],
          "mesh3d": [
           {
            "type": "mesh3d",
            "colorbar": {
             "outlinewidth": 0,
             "ticks": ""
            }
           }
          ],
          "scatter": [
           {
            "marker": {
             "line": {
              "color": "#283442"
             }
            },
            "type": "scatter"
           }
          ],
          "parcoords": [
           {
            "type": "parcoords",
            "line": {
             "colorbar": {
              "outlinewidth": 0,
              "ticks": ""
             }
            }
           }
          ],
          "scatterpolargl": [
           {
            "type": "scatterpolargl",
            "marker": {
             "colorbar": {
              "outlinewidth": 0,
              "ticks": ""
             }
            }
           }
          ],
          "bar": [
           {
            "error_x": {
             "color": "#f2f5fa"
            },
            "error_y": {
             "color": "#f2f5fa"
            },
            "marker": {
             "line": {
              "color": "rgb(17,17,17)",
              "width": 0.5
             },
             "pattern": {
              "fillmode": "overlay",
              "size": 10,
              "solidity": 0.2
             }
            },
            "type": "bar"
           }
          ],
          "scattergeo": [
           {
            "type": "scattergeo",
            "marker": {
             "colorbar": {
              "outlinewidth": 0,
              "ticks": ""
             }
            }
           }
          ],
          "scatterpolar": [
           {
            "type": "scatterpolar",
            "marker": {
             "colorbar": {
              "outlinewidth": 0,
              "ticks": ""
             }
            }
           }
          ],
          "histogram": [
           {
            "marker": {
             "pattern": {
              "fillmode": "overlay",
              "size": 10,
              "solidity": 0.2
             }
            },
            "type": "histogram"
           }
          ],
          "scattergl": [
           {
            "marker": {
             "line": {
              "color": "#283442"
             }
            },
            "type": "scattergl"
           }
          ],
          "scatter3d": [
           {
            "type": "scatter3d",
            "line": {
             "colorbar": {
              "outlinewidth": 0,
              "ticks": ""
             }
            },
            "marker": {
             "colorbar": {
              "outlinewidth": 0,
              "ticks": ""
             }
            }
           }
          ],
          "scattermapbox": [
           {
            "type": "scattermapbox",
            "marker": {
             "colorbar": {
              "outlinewidth": 0,
              "ticks": ""
             }
            }
           }
          ],
          "scatterternary": [
           {
            "type": "scatterternary",
            "marker": {
             "colorbar": {
              "outlinewidth": 0,
              "ticks": ""
             }
            }
           }
          ],
          "scattercarpet": [
           {
            "type": "scattercarpet",
            "marker": {
             "colorbar": {
              "outlinewidth": 0,
              "ticks": ""
             }
            }
           }
          ],
          "carpet": [
           {
            "aaxis": {
             "endlinecolor": "#A2B1C6",
             "gridcolor": "#506784",
             "linecolor": "#506784",
             "minorgridcolor": "#506784",
             "startlinecolor": "#A2B1C6"
            },
            "baxis": {
             "endlinecolor": "#A2B1C6",
             "gridcolor": "#506784",
             "linecolor": "#506784",
             "minorgridcolor": "#506784",
             "startlinecolor": "#A2B1C6"
            },
            "type": "carpet"
           }
          ],
          "table": [
           {
            "cells": {
             "fill": {
              "color": "#506784"
             },
             "line": {
              "color": "rgb(17,17,17)"
             }
            },
            "header": {
             "fill": {
              "color": "#2a3f5f"
             },
             "line": {
              "color": "rgb(17,17,17)"
             }
            },
            "type": "table"
           }
          ],
          "barpolar": [
           {
            "marker": {
             "line": {
              "color": "rgb(17,17,17)",
              "width": 0.5
             },
             "pattern": {
              "fillmode": "overlay",
              "size": 10,
              "solidity": 0.2
             }
            },
            "type": "barpolar"
           }
          ],
          "pie": [
           {
            "automargin": true,
            "type": "pie"
           }
          ]
         },
         "layout": {
          "autotypenumbers": "strict",
          "colorway": [
           "#636efa",
           "#EF553B",
           "#00cc96",
           "#ab63fa",
           "#FFA15A",
           "#19d3f3",
           "#FF6692",
           "#B6E880",
           "#FF97FF",
           "#FECB52"
          ],
          "font": {
           "color": "#f2f5fa"
          },
          "hovermode": "closest",
          "hoverlabel": {
           "align": "left"
          },
          "paper_bgcolor": "rgb(17,17,17)",
          "plot_bgcolor": "rgb(17,17,17)",
          "polar": {
           "bgcolor": "rgb(17,17,17)",
           "angularaxis": {
            "gridcolor": "#506784",
            "linecolor": "#506784",
            "ticks": ""
           },
           "radialaxis": {
            "gridcolor": "#506784",
            "linecolor": "#506784",
            "ticks": ""
           }
          },
          "ternary": {
           "bgcolor": "rgb(17,17,17)",
           "aaxis": {
            "gridcolor": "#506784",
            "linecolor": "#506784",
            "ticks": ""
           },
           "baxis": {
            "gridcolor": "#506784",
            "linecolor": "#506784",
            "ticks": ""
           },
           "caxis": {
            "gridcolor": "#506784",
            "linecolor": "#506784",
            "ticks": ""
           }
          },
          "coloraxis": {
           "colorbar": {
            "outlinewidth": 0,
            "ticks": ""
           }
          },
          "colorscale": {
           "sequential": [
            [
             0.0,
             "#0d0887"
            ],
            [
             0.1111111111111111,
             "#46039f"
            ],
            [
             0.2222222222222222,
             "#7201a8"
            ],
            [
             0.3333333333333333,
             "#9c179e"
            ],
            [
             0.4444444444444444,
             "#bd3786"
            ],
            [
             0.5555555555555556,
             "#d8576b"
            ],
            [
             0.6666666666666666,
             "#ed7953"
            ],
            [
             0.7777777777777778,
             "#fb9f3a"
            ],
            [
             0.8888888888888888,
             "#fdca26"
            ],
            [
             1.0,
             "#f0f921"
            ]
           ],
           "sequentialminus": [
            [
             0.0,
             "#0d0887"
            ],
            [
             0.1111111111111111,
             "#46039f"
            ],
            [
             0.2222222222222222,
             "#7201a8"
            ],
            [
             0.3333333333333333,
             "#9c179e"
            ],
            [
             0.4444444444444444,
             "#bd3786"
            ],
            [
             0.5555555555555556,
             "#d8576b"
            ],
            [
             0.6666666666666666,
             "#ed7953"
            ],
            [
             0.7777777777777778,
             "#fb9f3a"
            ],
            [
             0.8888888888888888,
             "#fdca26"
            ],
            [
             1.0,
             "#f0f921"
            ]
           ],
           "diverging": [
            [
             0,
             "#8e0152"
            ],
            [
             0.1,
             "#c51b7d"
            ],
            [
             0.2,
             "#de77ae"
            ],
            [
             0.3,
             "#f1b6da"
            ],
            [
             0.4,
             "#fde0ef"
            ],
            [
             0.5,
             "#f7f7f7"
            ],
            [
             0.6,
             "#e6f5d0"
            ],
            [
             0.7,
             "#b8e186"
            ],
            [
             0.8,
             "#7fbc41"
            ],
            [
             0.9,
             "#4d9221"
            ],
            [
             1,
             "#276419"
            ]
           ]
          },
          "xaxis": {
           "gridcolor": "#283442",
           "linecolor": "#506784",
           "ticks": "",
           "title": {
            "standoff": 15
           },
           "zerolinecolor": "#283442",
           "automargin": true,
           "zerolinewidth": 2
          },
          "yaxis": {
           "gridcolor": "#283442",
           "linecolor": "#506784",
           "ticks": "",
           "title": {
            "standoff": 15
           },
           "zerolinecolor": "#283442",
           "automargin": true,
           "zerolinewidth": 2
          },
          "scene": {
           "xaxis": {
            "backgroundcolor": "rgb(17,17,17)",
            "gridcolor": "#506784",
            "linecolor": "#506784",
            "showbackground": true,
            "ticks": "",
            "zerolinecolor": "#C8D4E3",
            "gridwidth": 2
           },
           "yaxis": {
            "backgroundcolor": "rgb(17,17,17)",
            "gridcolor": "#506784",
            "linecolor": "#506784",
            "showbackground": true,
            "ticks": "",
            "zerolinecolor": "#C8D4E3",
            "gridwidth": 2
           },
           "zaxis": {
            "backgroundcolor": "rgb(17,17,17)",
            "gridcolor": "#506784",
            "linecolor": "#506784",
            "showbackground": true,
            "ticks": "",
            "zerolinecolor": "#C8D4E3",
            "gridwidth": 2
           }
          },
          "shapedefaults": {
           "line": {
            "color": "#f2f5fa"
           }
          },
          "annotationdefaults": {
           "arrowcolor": "#f2f5fa",
           "arrowhead": 0,
           "arrowwidth": 1
          },
          "geo": {
           "bgcolor": "rgb(17,17,17)",
           "landcolor": "rgb(17,17,17)",
           "subunitcolor": "#506784",
           "showland": true,
           "showlakes": true,
           "lakecolor": "rgb(17,17,17)"
          },
          "title": {
           "x": 0.05
          },
          "updatemenudefaults": {
           "bgcolor": "#506784",
           "borderwidth": 0
          },
          "sliderdefaults": {
           "bgcolor": "#C8D4E3",
           "borderwidth": 1,
           "bordercolor": "rgb(17,17,17)",
           "tickwidth": 0
          },
          "mapbox": {
           "style": "dark"
          }
         }
        },
        "title": {
         "text": "DistServe"
        },
        "xaxis": {
         "title": {
          "text": "Per-GPU Rate (tokens/s)"
         }
        },
        "yaxis": {
         "title": {
          "text": "Attainment (%)"
         }
        },
        "legend": {
         "title": {
          "text": "Configuration"
         }
        }
       },
       "config": {
        "plotlyServerURL": "https://plot.ly"
       }
      },
      "text/html": "<div>                            <div id=\"4d2cd026-8f20-4c37-bd76-e32205480929\" class=\"plotly-graph-div\" style=\"height:525px; width:100%;\"></div>            <script type=\"text/javascript\">                require([\"plotly\"], function(Plotly) {                    window.PLOTLYENV=window.PLOTLYENV || {};                                    if (document.getElementById(\"4d2cd026-8f20-4c37-bd76-e32205480929\")) {                    Plotly.newPlot(                        \"4d2cd026-8f20-4c37-bd76-e32205480929\",                        [{\"mode\":\"lines+markers\",\"name\":\"p2112-distserve\",\"x\":[0.0625,0.125,0.25,0.375,0.5,0.625,0.75],\"y\":[76.0,72.0,66.0,53.0,46.0,35.0,26.0],\"type\":\"scatter\"},{\"mode\":\"lines+markers\",\"name\":\"p2114-distserve\",\"x\":[0.0625,0.125,0.25,0.375,0.5,0.625,0.75],\"y\":[74.66666666666667,69.33333333333334,57.333333333333336,44.66666666666666,30.666666666666664,13.333333333333334,7.333333333333333],\"type\":\"scatter\"},{\"mode\":\"lines+markers\",\"name\":\"p2121-distserve\",\"x\":[0.0625,0.125,0.25,0.375,0.5,0.625,0.75],\"y\":[76.0,72.0,66.0,53.0,46.0,35.0,26.0],\"type\":\"scatter\"},{\"mode\":\"lines+markers\",\"name\":\"p2122-distserve\",\"x\":[0.0625,0.125,0.25,0.375,0.5,0.625,0.75],\"y\":[74.66666666666667,69.33333333333334,57.333333333333336,44.66666666666666,30.666666666666664,13.333333333333334,7.333333333333333],\"type\":\"scatter\"},{\"mode\":\"lines+markers\",\"name\":\"p2141-distserve\",\"x\":[0.0625,0.125,0.25,0.375,0.5,0.625,0.75],\"y\":[74.66666666666667,69.33333333333334,57.333333333333336,44.66666666666666,30.666666666666664,12.666666666666668,7.333333333333333],\"type\":\"scatter\"},{\"mode\":\"lines+markers\",\"name\":\"p2212-distserve\",\"x\":[0.0625,0.125,0.25,0.375,0.5,0.625,0.75],\"y\":[76.66666666666667,74.66666666666667,69.33333333333334,62.66666666666667,54.0,47.333333333333336,35.333333333333336],\"type\":\"scatter\"},{\"mode\":\"lines+markers\",\"name\":\"p2214-distserve\",\"x\":[0.0625,0.125,0.25,0.375,0.5,0.625,0.75],\"y\":[77.0,73.5,63.5,54.50000000000001,46.0,35.0,23.5],\"type\":\"scatter\"},{\"mode\":\"lines+markers\",\"name\":\"p2221-distserve\",\"x\":[0.0625,0.125,0.25,0.375,0.5,0.625,0.75],\"y\":[76.66666666666667,74.66666666666667,69.33333333333334,62.66666666666667,54.0,46.66666666666666,33.33333333333333],\"type\":\"scatter\"},{\"mode\":\"lines+markers\",\"name\":\"p2222-distserve\",\"x\":[0.0625,0.125,0.25,0.375,0.5,0.625,0.75],\"y\":[77.0,73.5,63.5,54.50000000000001,46.0,35.0,23.5],\"type\":\"scatter\"},{\"mode\":\"lines+markers\",\"name\":\"p2241-distserve\",\"x\":[0.0625,0.125,0.25,0.375,0.5,0.625,0.75],\"y\":[77.0,73.5,63.5,51.0,33.5,18.0,10.5],\"type\":\"scatter\"},{\"mode\":\"lines+markers\",\"name\":\"p4112-distserve\",\"x\":[0.0625,0.125,0.25,0.375,0.5,0.625,0.75],\"y\":[99.33333333333331,99.33333333333331,95.33333333333334,88.0,81.33333333333333,77.33333333333333,63.33333333333333],\"type\":\"scatter\"},{\"mode\":\"lines+markers\",\"name\":\"p4114-distserve\",\"x\":[0.0625,0.125,0.25,0.375,0.5,0.625,0.75],\"y\":[99.5,98.5,93.5,84.0,77.0,65.0,51.5],\"type\":\"scatter\"},{\"mode\":\"lines+markers\",\"name\":\"p4121-distserve\",\"x\":[0.0625,0.125,0.25,0.375,0.5,0.625,0.75],\"y\":[99.33333333333331,99.33333333333331,95.33333333333334,88.0,81.33333333333333,77.33333333333333,63.33333333333333],\"type\":\"scatter\"},{\"mode\":\"lines+markers\",\"name\":\"p4122-distserve\",\"x\":[0.0625,0.125,0.25,0.375,0.5,0.625,0.75],\"y\":[99.5,98.5,93.5,84.0,77.0,65.0,51.5],\"type\":\"scatter\"},{\"mode\":\"lines+markers\",\"name\":\"p4141-distserve\",\"x\":[0.0625,0.125,0.25,0.375,0.5,0.625,0.75],\"y\":[99.5,98.5,93.5,84.0,77.0,65.0,51.5],\"type\":\"scatter\"}],                        {\"template\":{\"data\":{\"histogram2dcontour\":[{\"type\":\"histogram2dcontour\",\"colorbar\":{\"outlinewidth\":0,\"ticks\":\"\"},\"colorscale\":[[0.0,\"#0d0887\"],[0.1111111111111111,\"#46039f\"],[0.2222222222222222,\"#7201a8\"],[0.3333333333333333,\"#9c179e\"],[0.4444444444444444,\"#bd3786\"],[0.5555555555555556,\"#d8576b\"],[0.6666666666666666,\"#ed7953\"],[0.7777777777777778,\"#fb9f3a\"],[0.8888888888888888,\"#fdca26\"],[1.0,\"#f0f921\"]]}],\"choropleth\":[{\"type\":\"choropleth\",\"colorbar\":{\"outlinewidth\":0,\"ticks\":\"\"}}],\"histogram2d\":[{\"type\":\"histogram2d\",\"colorbar\":{\"outlinewidth\":0,\"ticks\":\"\"},\"colorscale\":[[0.0,\"#0d0887\"],[0.1111111111111111,\"#46039f\"],[0.2222222222222222,\"#7201a8\"],[0.3333333333333333,\"#9c179e\"],[0.4444444444444444,\"#bd3786\"],[0.5555555555555556,\"#d8576b\"],[0.6666666666666666,\"#ed7953\"],[0.7777777777777778,\"#fb9f3a\"],[0.8888888888888888,\"#fdca26\"],[1.0,\"#f0f921\"]]}],\"heatmap\":[{\"type\":\"heatmap\",\"colorbar\":{\"outlinewidth\":0,\"ticks\":\"\"},\"colorscale\":[[0.0,\"#0d0887\"],[0.1111111111111111,\"#46039f\"],[0.2222222222222222,\"#7201a8\"],[0.3333333333333333,\"#9c179e\"],[0.4444444444444444,\"#bd3786\"],[0.5555555555555556,\"#d8576b\"],[0.6666666666666666,\"#ed7953\"],[0.7777777777777778,\"#fb9f3a\"],[0.8888888888888888,\"#fdca26\"],[1.0,\"#f0f921\"]]}],\"heatmapgl\":[{\"type\":\"heatmapgl\",\"colorbar\":{\"outlinewidth\":0,\"ticks\":\"\"},\"colorscale\":[[0.0,\"#0d0887\"],[0.1111111111111111,\"#46039f\"],[0.2222222222222222,\"#7201a8\"],[0.3333333333333333,\"#9c179e\"],[0.4444444444444444,\"#bd3786\"],[0.5555555555555556,\"#d8576b\"],[0.6666666666666666,\"#ed7953\"],[0.7777777777777778,\"#fb9f3a\"],[0.8888888888888888,\"#fdca26\"],[1.0,\"#f0f921\"]]}],\"contourcarpet\":[{\"type\":\"contourcarpet\",\"colorbar\":{\"outlinewidth\":0,\"ticks\":\"\"}}],\"contour\":[{\"type\":\"contour\",\"colorbar\":{\"outlinewidth\":0,\"ticks\":\"\"},\"colorscale\":[[0.0,\"#0d0887\"],[0.1111111111111111,\"#46039f\"],[0.2222222222222222,\"#7201a8\"],[0.3333333333333333,\"#9c179e\"],[0.4444444444444444,\"#bd3786\"],[0.5555555555555556,\"#d8576b\"],[0.6666666666666666,\"#ed7953\"],[0.7777777777777778,\"#fb9f3a\"],[0.8888888888888888,\"#fdca26\"],[1.0,\"#f0f921\"]]}],\"surface\":[{\"type\":\"surface\",\"colorbar\":{\"outlinewidth\":0,\"ticks\":\"\"},\"colorscale\":[[0.0,\"#0d0887\"],[0.1111111111111111,\"#46039f\"],[0.2222222222222222,\"#7201a8\"],[0.3333333333333333,\"#9c179e\"],[0.4444444444444444,\"#bd3786\"],[0.5555555555555556,\"#d8576b\"],[0.6666666666666666,\"#ed7953\"],[0.7777777777777778,\"#fb9f3a\"],[0.8888888888888888,\"#fdca26\"],[1.0,\"#f0f921\"]]}],\"mesh3d\":[{\"type\":\"mesh3d\",\"colorbar\":{\"outlinewidth\":0,\"ticks\":\"\"}}],\"scatter\":[{\"marker\":{\"line\":{\"color\":\"#283442\"}},\"type\":\"scatter\"}],\"parcoords\":[{\"type\":\"parcoords\",\"line\":{\"colorbar\":{\"outlinewidth\":0,\"ticks\":\"\"}}}],\"scatterpolargl\":[{\"type\":\"scatterpolargl\",\"marker\":{\"colorbar\":{\"outlinewidth\":0,\"ticks\":\"\"}}}],\"bar\":[{\"error_x\":{\"color\":\"#f2f5fa\"},\"error_y\":{\"color\":\"#f2f5fa\"},\"marker\":{\"line\":{\"color\":\"rgb(17,17,17)\",\"width\":0.5},\"pattern\":{\"fillmode\":\"overlay\",\"size\":10,\"solidity\":0.2}},\"type\":\"bar\"}],\"scattergeo\":[{\"type\":\"scattergeo\",\"marker\":{\"colorbar\":{\"outlinewidth\":0,\"ticks\":\"\"}}}],\"scatterpolar\":[{\"type\":\"scatterpolar\",\"marker\":{\"colorbar\":{\"outlinewidth\":0,\"ticks\":\"\"}}}],\"histogram\":[{\"marker\":{\"pattern\":{\"fillmode\":\"overlay\",\"size\":10,\"solidity\":0.2}},\"type\":\"histogram\"}],\"scattergl\":[{\"marker\":{\"line\":{\"color\":\"#283442\"}},\"type\":\"scattergl\"}],\"scatter3d\":[{\"type\":\"scatter3d\",\"line\":{\"colorbar\":{\"outlinewidth\":0,\"ticks\":\"\"}},\"marker\":{\"colorbar\":{\"outlinewidth\":0,\"ticks\":\"\"}}}],\"scattermapbox\":[{\"type\":\"scattermapbox\",\"marker\":{\"colorbar\":{\"outlinewidth\":0,\"ticks\":\"\"}}}],\"scatterternary\":[{\"type\":\"scatterternary\",\"marker\":{\"colorbar\":{\"outlinewidth\":0,\"ticks\":\"\"}}}],\"scattercarpet\":[{\"type\":\"scattercarpet\",\"marker\":{\"colorbar\":{\"outlinewidth\":0,\"ticks\":\"\"}}}],\"carpet\":[{\"aaxis\":{\"endlinecolor\":\"#A2B1C6\",\"gridcolor\":\"#506784\",\"linecolor\":\"#506784\",\"minorgridcolor\":\"#506784\",\"startlinecolor\":\"#A2B1C6\"},\"baxis\":{\"endlinecolor\":\"#A2B1C6\",\"gridcolor\":\"#506784\",\"linecolor\":\"#506784\",\"minorgridcolor\":\"#506784\",\"startlinecolor\":\"#A2B1C6\"},\"type\":\"carpet\"}],\"table\":[{\"cells\":{\"fill\":{\"color\":\"#506784\"},\"line\":{\"color\":\"rgb(17,17,17)\"}},\"header\":{\"fill\":{\"color\":\"#2a3f5f\"},\"line\":{\"color\":\"rgb(17,17,17)\"}},\"type\":\"table\"}],\"barpolar\":[{\"marker\":{\"line\":{\"color\":\"rgb(17,17,17)\",\"width\":0.5},\"pattern\":{\"fillmode\":\"overlay\",\"size\":10,\"solidity\":0.2}},\"type\":\"barpolar\"}],\"pie\":[{\"automargin\":true,\"type\":\"pie\"}]},\"layout\":{\"autotypenumbers\":\"strict\",\"colorway\":[\"#636efa\",\"#EF553B\",\"#00cc96\",\"#ab63fa\",\"#FFA15A\",\"#19d3f3\",\"#FF6692\",\"#B6E880\",\"#FF97FF\",\"#FECB52\"],\"font\":{\"color\":\"#f2f5fa\"},\"hovermode\":\"closest\",\"hoverlabel\":{\"align\":\"left\"},\"paper_bgcolor\":\"rgb(17,17,17)\",\"plot_bgcolor\":\"rgb(17,17,17)\",\"polar\":{\"bgcolor\":\"rgb(17,17,17)\",\"angularaxis\":{\"gridcolor\":\"#506784\",\"linecolor\":\"#506784\",\"ticks\":\"\"},\"radialaxis\":{\"gridcolor\":\"#506784\",\"linecolor\":\"#506784\",\"ticks\":\"\"}},\"ternary\":{\"bgcolor\":\"rgb(17,17,17)\",\"aaxis\":{\"gridcolor\":\"#506784\",\"linecolor\":\"#506784\",\"ticks\":\"\"},\"baxis\":{\"gridcolor\":\"#506784\",\"linecolor\":\"#506784\",\"ticks\":\"\"},\"caxis\":{\"gridcolor\":\"#506784\",\"linecolor\":\"#506784\",\"ticks\":\"\"}},\"coloraxis\":{\"colorbar\":{\"outlinewidth\":0,\"ticks\":\"\"}},\"colorscale\":{\"sequential\":[[0.0,\"#0d0887\"],[0.1111111111111111,\"#46039f\"],[0.2222222222222222,\"#7201a8\"],[0.3333333333333333,\"#9c179e\"],[0.4444444444444444,\"#bd3786\"],[0.5555555555555556,\"#d8576b\"],[0.6666666666666666,\"#ed7953\"],[0.7777777777777778,\"#fb9f3a\"],[0.8888888888888888,\"#fdca26\"],[1.0,\"#f0f921\"]],\"sequentialminus\":[[0.0,\"#0d0887\"],[0.1111111111111111,\"#46039f\"],[0.2222222222222222,\"#7201a8\"],[0.3333333333333333,\"#9c179e\"],[0.4444444444444444,\"#bd3786\"],[0.5555555555555556,\"#d8576b\"],[0.6666666666666666,\"#ed7953\"],[0.7777777777777778,\"#fb9f3a\"],[0.8888888888888888,\"#fdca26\"],[1.0,\"#f0f921\"]],\"diverging\":[[0,\"#8e0152\"],[0.1,\"#c51b7d\"],[0.2,\"#de77ae\"],[0.3,\"#f1b6da\"],[0.4,\"#fde0ef\"],[0.5,\"#f7f7f7\"],[0.6,\"#e6f5d0\"],[0.7,\"#b8e186\"],[0.8,\"#7fbc41\"],[0.9,\"#4d9221\"],[1,\"#276419\"]]},\"xaxis\":{\"gridcolor\":\"#283442\",\"linecolor\":\"#506784\",\"ticks\":\"\",\"title\":{\"standoff\":15},\"zerolinecolor\":\"#283442\",\"automargin\":true,\"zerolinewidth\":2},\"yaxis\":{\"gridcolor\":\"#283442\",\"linecolor\":\"#506784\",\"ticks\":\"\",\"title\":{\"standoff\":15},\"zerolinecolor\":\"#283442\",\"automargin\":true,\"zerolinewidth\":2},\"scene\":{\"xaxis\":{\"backgroundcolor\":\"rgb(17,17,17)\",\"gridcolor\":\"#506784\",\"linecolor\":\"#506784\",\"showbackground\":true,\"ticks\":\"\",\"zerolinecolor\":\"#C8D4E3\",\"gridwidth\":2},\"yaxis\":{\"backgroundcolor\":\"rgb(17,17,17)\",\"gridcolor\":\"#506784\",\"linecolor\":\"#506784\",\"showbackground\":true,\"ticks\":\"\",\"zerolinecolor\":\"#C8D4E3\",\"gridwidth\":2},\"zaxis\":{\"backgroundcolor\":\"rgb(17,17,17)\",\"gridcolor\":\"#506784\",\"linecolor\":\"#506784\",\"showbackground\":true,\"ticks\":\"\",\"zerolinecolor\":\"#C8D4E3\",\"gridwidth\":2}},\"shapedefaults\":{\"line\":{\"color\":\"#f2f5fa\"}},\"annotationdefaults\":{\"arrowcolor\":\"#f2f5fa\",\"arrowhead\":0,\"arrowwidth\":1},\"geo\":{\"bgcolor\":\"rgb(17,17,17)\",\"landcolor\":\"rgb(17,17,17)\",\"subunitcolor\":\"#506784\",\"showland\":true,\"showlakes\":true,\"lakecolor\":\"rgb(17,17,17)\"},\"title\":{\"x\":0.05},\"updatemenudefaults\":{\"bgcolor\":\"#506784\",\"borderwidth\":0},\"sliderdefaults\":{\"bgcolor\":\"#C8D4E3\",\"borderwidth\":1,\"bordercolor\":\"rgb(17,17,17)\",\"tickwidth\":0},\"mapbox\":{\"style\":\"dark\"}}},\"title\":{\"text\":\"DistServe\"},\"xaxis\":{\"title\":{\"text\":\"Per-GPU Rate (tokens\\u002fs)\"}},\"yaxis\":{\"title\":{\"text\":\"Attainment (%)\"}},\"legend\":{\"title\":{\"text\":\"Configuration\"}}},                        {\"responsive\": true}                    ).then(function(){\n                            \nvar gd = document.getElementById('4d2cd026-8f20-4c37-bd76-e32205480929');\nvar x = new MutationObserver(function (mutations, observer) {{\n        var display = window.getComputedStyle(gd).display;\n        if (!display || display === 'none') {{\n            console.log([gd, 'removed!']);\n            Plotly.purge(gd);\n            observer.disconnect();\n        }}\n}});\n\n// Listen for the removal of the full notebook cells\nvar notebookContainer = gd.closest('#notebook-container');\nif (notebookContainer) {{\n    x.observe(notebookContainer, {childList: true});\n}}\n\n// Listen for the clearing of the current output cell\nvar outputEl = gd.closest('.output');\nif (outputEl) {{\n    x.observe(outputEl, {childList: true});\n}}\n\n                        })                };                });            </script>        </div>"
     },
     "metadata": {},
     "output_type": "display_data"
    }
   ],
   "source": [
    "if use_plotly:\n",
    "    # Plot the `figure_11_distserve_high`for some configurations\n",
    "    # tp_prefill = 1, pp_prefill = 1, tp_decode = 1, pp_decode = 1\n",
    "    # x-axis: rate\n",
    "    # y-axis: attainment\n",
    "    # find all combination of tp_prefill, pp_prefill, tp_decode, pp_decode\n",
    "    import plotly.graph_objects as go\n",
    "    \n",
    "    fig = go.Figure()\n",
    "    configs = figure_11_distserve_high[['tp_prefill', 'pp_prefill', 'tp_decode', 'pp_decode']].drop_duplicates()\n",
    "    df = figure_11_distserve_high\n",
    "    \n",
    "    for tp_prefill, pp_prefill, tp_decode, pp_decode in configs.values:\n",
    "        config_df = df[\n",
    "            (df['tp_prefill'] == tp_prefill) & (df['pp_prefill'] == pp_prefill) &\n",
    "            (df['tp_decode'] == tp_decode) & (df['pp_decode'] == pp_decode)\n",
    "            ]\n",
    "        # plot this inside a plotly plot\n",
    "        fig.add_trace(go.Scatter(\n",
    "            x=config_df['per_gpu_rate'], y=config_df['attainment'],\n",
    "            mode='lines+markers', name=f\"p{tp_prefill}{pp_prefill}{tp_decode}{pp_decode}-distserve\"\n",
    "        ))\n",
    "    \n",
    "    # fig add title\n",
    "    fig.update_layout(\n",
    "        title=\"DistServe\",\n",
    "        xaxis_title=\"Per-GPU Rate (tokens/s)\",\n",
    "        yaxis_title=\"Attainment (%)\",\n",
    "        legend_title=\"Configuration\"\n",
    "    )\n",
    "\n",
    "    # Export to html\n",
    "    fig.write_html(\"visual/figure_11_distserve_high.html\")\n",
    "    if is_notebook_mode:\n",
    "        fig.show()"
   ],
   "metadata": {
    "collapsed": false,
    "ExecuteTime": {
     "end_time": "2024-04-25T03:06:27.136096Z",
     "start_time": "2024-04-25T03:06:27.035312Z"
    }
   },
   "id": "b5f32d90f99e3ad4",
   "execution_count": 55
  },
  {
   "cell_type": "code",
   "outputs": [
    {
     "data": {
      "application/vnd.plotly.v1+json": {
       "data": [
        {
         "mode": "lines+markers",
         "name": "p21-vllm",
         "x": [
          0.0625,
          0.125,
          0.25,
          0.375,
          0.5,
          0.625,
          0.75
         ],
         "y": [
          62.0,
          62.0,
          57.99999999999999,
          56.00000000000001,
          48.0,
          32.0,
          28.000000000000004
         ],
         "type": "scatter"
        },
        {
         "mode": "lines+markers",
         "name": "p22-vllm",
         "x": [
          0.0625,
          0.125,
          0.25,
          0.375,
          0.5,
          0.625,
          0.75
         ],
         "y": [
          66.0,
          60.0,
          26.0,
          10.0,
          7.000000000000001,
          2.0,
          2.0
         ],
         "type": "scatter"
        },
        {
         "mode": "lines+markers",
         "name": "p24-vllm",
         "x": [
          0.0625,
          0.125,
          0.25,
          0.375,
          0.5,
          0.625,
          0.75
         ],
         "y": [
          64.0,
          14.000000000000002,
          4.0,
          1.0,
          1.0,
          0.5,
          0.5
         ],
         "type": "scatter"
        },
        {
         "mode": "lines+markers",
         "name": "p41-vllm",
         "x": [
          0.0625,
          0.125,
          0.25,
          0.375,
          0.5,
          0.625,
          0.75
         ],
         "y": [
          84.0,
          80.0,
          70.0,
          61.0,
          47.0,
          36.0,
          25.0
         ],
         "type": "scatter"
        },
        {
         "mode": "lines+markers",
         "name": "p42-vllm",
         "x": [
          0.0625,
          0.125,
          0.25,
          0.375,
          0.5,
          0.625,
          0.75
         ],
         "y": [
          87.5,
          84.0,
          72.5,
          40.5,
          26.5,
          21.0,
          16.0
         ],
         "type": "scatter"
        }
       ],
       "layout": {
        "template": {
         "data": {
          "histogram2dcontour": [
           {
            "type": "histogram2dcontour",
            "colorbar": {
             "outlinewidth": 0,
             "ticks": ""
            },
            "colorscale": [
             [
              0.0,
              "#0d0887"
             ],
             [
              0.1111111111111111,
              "#46039f"
             ],
             [
              0.2222222222222222,
              "#7201a8"
             ],
             [
              0.3333333333333333,
              "#9c179e"
             ],
             [
              0.4444444444444444,
              "#bd3786"
             ],
             [
              0.5555555555555556,
              "#d8576b"
             ],
             [
              0.6666666666666666,
              "#ed7953"
             ],
             [
              0.7777777777777778,
              "#fb9f3a"
             ],
             [
              0.8888888888888888,
              "#fdca26"
             ],
             [
              1.0,
              "#f0f921"
             ]
            ]
           }
          ],
          "choropleth": [
           {
            "type": "choropleth",
            "colorbar": {
             "outlinewidth": 0,
             "ticks": ""
            }
           }
          ],
          "histogram2d": [
           {
            "type": "histogram2d",
            "colorbar": {
             "outlinewidth": 0,
             "ticks": ""
            },
            "colorscale": [
             [
              0.0,
              "#0d0887"
             ],
             [
              0.1111111111111111,
              "#46039f"
             ],
             [
              0.2222222222222222,
              "#7201a8"
             ],
             [
              0.3333333333333333,
              "#9c179e"
             ],
             [
              0.4444444444444444,
              "#bd3786"
             ],
             [
              0.5555555555555556,
              "#d8576b"
             ],
             [
              0.6666666666666666,
              "#ed7953"
             ],
             [
              0.7777777777777778,
              "#fb9f3a"
             ],
             [
              0.8888888888888888,
              "#fdca26"
             ],
             [
              1.0,
              "#f0f921"
             ]
            ]
           }
          ],
          "heatmap": [
           {
            "type": "heatmap",
            "colorbar": {
             "outlinewidth": 0,
             "ticks": ""
            },
            "colorscale": [
             [
              0.0,
              "#0d0887"
             ],
             [
              0.1111111111111111,
              "#46039f"
             ],
             [
              0.2222222222222222,
              "#7201a8"
             ],
             [
              0.3333333333333333,
              "#9c179e"
             ],
             [
              0.4444444444444444,
              "#bd3786"
             ],
             [
              0.5555555555555556,
              "#d8576b"
             ],
             [
              0.6666666666666666,
              "#ed7953"
             ],
             [
              0.7777777777777778,
              "#fb9f3a"
             ],
             [
              0.8888888888888888,
              "#fdca26"
             ],
             [
              1.0,
              "#f0f921"
             ]
            ]
           }
          ],
          "heatmapgl": [
           {
            "type": "heatmapgl",
            "colorbar": {
             "outlinewidth": 0,
             "ticks": ""
            },
            "colorscale": [
             [
              0.0,
              "#0d0887"
             ],
             [
              0.1111111111111111,
              "#46039f"
             ],
             [
              0.2222222222222222,
              "#7201a8"
             ],
             [
              0.3333333333333333,
              "#9c179e"
             ],
             [
              0.4444444444444444,
              "#bd3786"
             ],
             [
              0.5555555555555556,
              "#d8576b"
             ],
             [
              0.6666666666666666,
              "#ed7953"
             ],
             [
              0.7777777777777778,
              "#fb9f3a"
             ],
             [
              0.8888888888888888,
              "#fdca26"
             ],
             [
              1.0,
              "#f0f921"
             ]
            ]
           }
          ],
          "contourcarpet": [
           {
            "type": "contourcarpet",
            "colorbar": {
             "outlinewidth": 0,
             "ticks": ""
            }
           }
          ],
          "contour": [
           {
            "type": "contour",
            "colorbar": {
             "outlinewidth": 0,
             "ticks": ""
            },
            "colorscale": [
             [
              0.0,
              "#0d0887"
             ],
             [
              0.1111111111111111,
              "#46039f"
             ],
             [
              0.2222222222222222,
              "#7201a8"
             ],
             [
              0.3333333333333333,
              "#9c179e"
             ],
             [
              0.4444444444444444,
              "#bd3786"
             ],
             [
              0.5555555555555556,
              "#d8576b"
             ],
             [
              0.6666666666666666,
              "#ed7953"
             ],
             [
              0.7777777777777778,
              "#fb9f3a"
             ],
             [
              0.8888888888888888,
              "#fdca26"
             ],
             [
              1.0,
              "#f0f921"
             ]
            ]
           }
          ],
          "surface": [
           {
            "type": "surface",
            "colorbar": {
             "outlinewidth": 0,
             "ticks": ""
            },
            "colorscale": [
             [
              0.0,
              "#0d0887"
             ],
             [
              0.1111111111111111,
              "#46039f"
             ],
             [
              0.2222222222222222,
              "#7201a8"
             ],
             [
              0.3333333333333333,
              "#9c179e"
             ],
             [
              0.4444444444444444,
              "#bd3786"
             ],
             [
              0.5555555555555556,
              "#d8576b"
             ],
             [
              0.6666666666666666,
              "#ed7953"
             ],
             [
              0.7777777777777778,
              "#fb9f3a"
             ],
             [
              0.8888888888888888,
              "#fdca26"
             ],
             [
              1.0,
              "#f0f921"
             ]
            ]
           }
          ],
          "mesh3d": [
           {
            "type": "mesh3d",
            "colorbar": {
             "outlinewidth": 0,
             "ticks": ""
            }
           }
          ],
          "scatter": [
           {
            "marker": {
             "line": {
              "color": "#283442"
             }
            },
            "type": "scatter"
           }
          ],
          "parcoords": [
           {
            "type": "parcoords",
            "line": {
             "colorbar": {
              "outlinewidth": 0,
              "ticks": ""
             }
            }
           }
          ],
          "scatterpolargl": [
           {
            "type": "scatterpolargl",
            "marker": {
             "colorbar": {
              "outlinewidth": 0,
              "ticks": ""
             }
            }
           }
          ],
          "bar": [
           {
            "error_x": {
             "color": "#f2f5fa"
            },
            "error_y": {
             "color": "#f2f5fa"
            },
            "marker": {
             "line": {
              "color": "rgb(17,17,17)",
              "width": 0.5
             },
             "pattern": {
              "fillmode": "overlay",
              "size": 10,
              "solidity": 0.2
             }
            },
            "type": "bar"
           }
          ],
          "scattergeo": [
           {
            "type": "scattergeo",
            "marker": {
             "colorbar": {
              "outlinewidth": 0,
              "ticks": ""
             }
            }
           }
          ],
          "scatterpolar": [
           {
            "type": "scatterpolar",
            "marker": {
             "colorbar": {
              "outlinewidth": 0,
              "ticks": ""
             }
            }
           }
          ],
          "histogram": [
           {
            "marker": {
             "pattern": {
              "fillmode": "overlay",
              "size": 10,
              "solidity": 0.2
             }
            },
            "type": "histogram"
           }
          ],
          "scattergl": [
           {
            "marker": {
             "line": {
              "color": "#283442"
             }
            },
            "type": "scattergl"
           }
          ],
          "scatter3d": [
           {
            "type": "scatter3d",
            "line": {
             "colorbar": {
              "outlinewidth": 0,
              "ticks": ""
             }
            },
            "marker": {
             "colorbar": {
              "outlinewidth": 0,
              "ticks": ""
             }
            }
           }
          ],
          "scattermapbox": [
           {
            "type": "scattermapbox",
            "marker": {
             "colorbar": {
              "outlinewidth": 0,
              "ticks": ""
             }
            }
           }
          ],
          "scatterternary": [
           {
            "type": "scatterternary",
            "marker": {
             "colorbar": {
              "outlinewidth": 0,
              "ticks": ""
             }
            }
           }
          ],
          "scattercarpet": [
           {
            "type": "scattercarpet",
            "marker": {
             "colorbar": {
              "outlinewidth": 0,
              "ticks": ""
             }
            }
           }
          ],
          "carpet": [
           {
            "aaxis": {
             "endlinecolor": "#A2B1C6",
             "gridcolor": "#506784",
             "linecolor": "#506784",
             "minorgridcolor": "#506784",
             "startlinecolor": "#A2B1C6"
            },
            "baxis": {
             "endlinecolor": "#A2B1C6",
             "gridcolor": "#506784",
             "linecolor": "#506784",
             "minorgridcolor": "#506784",
             "startlinecolor": "#A2B1C6"
            },
            "type": "carpet"
           }
          ],
          "table": [
           {
            "cells": {
             "fill": {
              "color": "#506784"
             },
             "line": {
              "color": "rgb(17,17,17)"
             }
            },
            "header": {
             "fill": {
              "color": "#2a3f5f"
             },
             "line": {
              "color": "rgb(17,17,17)"
             }
            },
            "type": "table"
           }
          ],
          "barpolar": [
           {
            "marker": {
             "line": {
              "color": "rgb(17,17,17)",
              "width": 0.5
             },
             "pattern": {
              "fillmode": "overlay",
              "size": 10,
              "solidity": 0.2
             }
            },
            "type": "barpolar"
           }
          ],
          "pie": [
           {
            "automargin": true,
            "type": "pie"
           }
          ]
         },
         "layout": {
          "autotypenumbers": "strict",
          "colorway": [
           "#636efa",
           "#EF553B",
           "#00cc96",
           "#ab63fa",
           "#FFA15A",
           "#19d3f3",
           "#FF6692",
           "#B6E880",
           "#FF97FF",
           "#FECB52"
          ],
          "font": {
           "color": "#f2f5fa"
          },
          "hovermode": "closest",
          "hoverlabel": {
           "align": "left"
          },
          "paper_bgcolor": "rgb(17,17,17)",
          "plot_bgcolor": "rgb(17,17,17)",
          "polar": {
           "bgcolor": "rgb(17,17,17)",
           "angularaxis": {
            "gridcolor": "#506784",
            "linecolor": "#506784",
            "ticks": ""
           },
           "radialaxis": {
            "gridcolor": "#506784",
            "linecolor": "#506784",
            "ticks": ""
           }
          },
          "ternary": {
           "bgcolor": "rgb(17,17,17)",
           "aaxis": {
            "gridcolor": "#506784",
            "linecolor": "#506784",
            "ticks": ""
           },
           "baxis": {
            "gridcolor": "#506784",
            "linecolor": "#506784",
            "ticks": ""
           },
           "caxis": {
            "gridcolor": "#506784",
            "linecolor": "#506784",
            "ticks": ""
           }
          },
          "coloraxis": {
           "colorbar": {
            "outlinewidth": 0,
            "ticks": ""
           }
          },
          "colorscale": {
           "sequential": [
            [
             0.0,
             "#0d0887"
            ],
            [
             0.1111111111111111,
             "#46039f"
            ],
            [
             0.2222222222222222,
             "#7201a8"
            ],
            [
             0.3333333333333333,
             "#9c179e"
            ],
            [
             0.4444444444444444,
             "#bd3786"
            ],
            [
             0.5555555555555556,
             "#d8576b"
            ],
            [
             0.6666666666666666,
             "#ed7953"
            ],
            [
             0.7777777777777778,
             "#fb9f3a"
            ],
            [
             0.8888888888888888,
             "#fdca26"
            ],
            [
             1.0,
             "#f0f921"
            ]
           ],
           "sequentialminus": [
            [
             0.0,
             "#0d0887"
            ],
            [
             0.1111111111111111,
             "#46039f"
            ],
            [
             0.2222222222222222,
             "#7201a8"
            ],
            [
             0.3333333333333333,
             "#9c179e"
            ],
            [
             0.4444444444444444,
             "#bd3786"
            ],
            [
             0.5555555555555556,
             "#d8576b"
            ],
            [
             0.6666666666666666,
             "#ed7953"
            ],
            [
             0.7777777777777778,
             "#fb9f3a"
            ],
            [
             0.8888888888888888,
             "#fdca26"
            ],
            [
             1.0,
             "#f0f921"
            ]
           ],
           "diverging": [
            [
             0,
             "#8e0152"
            ],
            [
             0.1,
             "#c51b7d"
            ],
            [
             0.2,
             "#de77ae"
            ],
            [
             0.3,
             "#f1b6da"
            ],
            [
             0.4,
             "#fde0ef"
            ],
            [
             0.5,
             "#f7f7f7"
            ],
            [
             0.6,
             "#e6f5d0"
            ],
            [
             0.7,
             "#b8e186"
            ],
            [
             0.8,
             "#7fbc41"
            ],
            [
             0.9,
             "#4d9221"
            ],
            [
             1,
             "#276419"
            ]
           ]
          },
          "xaxis": {
           "gridcolor": "#283442",
           "linecolor": "#506784",
           "ticks": "",
           "title": {
            "standoff": 15
           },
           "zerolinecolor": "#283442",
           "automargin": true,
           "zerolinewidth": 2
          },
          "yaxis": {
           "gridcolor": "#283442",
           "linecolor": "#506784",
           "ticks": "",
           "title": {
            "standoff": 15
           },
           "zerolinecolor": "#283442",
           "automargin": true,
           "zerolinewidth": 2
          },
          "scene": {
           "xaxis": {
            "backgroundcolor": "rgb(17,17,17)",
            "gridcolor": "#506784",
            "linecolor": "#506784",
            "showbackground": true,
            "ticks": "",
            "zerolinecolor": "#C8D4E3",
            "gridwidth": 2
           },
           "yaxis": {
            "backgroundcolor": "rgb(17,17,17)",
            "gridcolor": "#506784",
            "linecolor": "#506784",
            "showbackground": true,
            "ticks": "",
            "zerolinecolor": "#C8D4E3",
            "gridwidth": 2
           },
           "zaxis": {
            "backgroundcolor": "rgb(17,17,17)",
            "gridcolor": "#506784",
            "linecolor": "#506784",
            "showbackground": true,
            "ticks": "",
            "zerolinecolor": "#C8D4E3",
            "gridwidth": 2
           }
          },
          "shapedefaults": {
           "line": {
            "color": "#f2f5fa"
           }
          },
          "annotationdefaults": {
           "arrowcolor": "#f2f5fa",
           "arrowhead": 0,
           "arrowwidth": 1
          },
          "geo": {
           "bgcolor": "rgb(17,17,17)",
           "landcolor": "rgb(17,17,17)",
           "subunitcolor": "#506784",
           "showland": true,
           "showlakes": true,
           "lakecolor": "rgb(17,17,17)"
          },
          "title": {
           "x": 0.05
          },
          "updatemenudefaults": {
           "bgcolor": "#506784",
           "borderwidth": 0
          },
          "sliderdefaults": {
           "bgcolor": "#C8D4E3",
           "borderwidth": 1,
           "bordercolor": "rgb(17,17,17)",
           "tickwidth": 0
          },
          "mapbox": {
           "style": "dark"
          }
         }
        },
        "title": {
         "text": "vLLM++"
        },
        "xaxis": {
         "title": {
          "text": "Per-GPU Rate (tokens/s)"
         }
        },
        "yaxis": {
         "title": {
          "text": "Attainment (%)"
         }
        },
        "legend": {
         "title": {
          "text": "Configuration"
         }
        }
       },
       "config": {
        "plotlyServerURL": "https://plot.ly"
       }
      },
      "text/html": "<div>                            <div id=\"aecc219a-2397-4f10-b3f4-c10dadeeed35\" class=\"plotly-graph-div\" style=\"height:525px; width:100%;\"></div>            <script type=\"text/javascript\">                require([\"plotly\"], function(Plotly) {                    window.PLOTLYENV=window.PLOTLYENV || {};                                    if (document.getElementById(\"aecc219a-2397-4f10-b3f4-c10dadeeed35\")) {                    Plotly.newPlot(                        \"aecc219a-2397-4f10-b3f4-c10dadeeed35\",                        [{\"mode\":\"lines+markers\",\"name\":\"p21-vllm\",\"x\":[0.0625,0.125,0.25,0.375,0.5,0.625,0.75],\"y\":[62.0,62.0,57.99999999999999,56.00000000000001,48.0,32.0,28.000000000000004],\"type\":\"scatter\"},{\"mode\":\"lines+markers\",\"name\":\"p22-vllm\",\"x\":[0.0625,0.125,0.25,0.375,0.5,0.625,0.75],\"y\":[66.0,60.0,26.0,10.0,7.000000000000001,2.0,2.0],\"type\":\"scatter\"},{\"mode\":\"lines+markers\",\"name\":\"p24-vllm\",\"x\":[0.0625,0.125,0.25,0.375,0.5,0.625,0.75],\"y\":[64.0,14.000000000000002,4.0,1.0,1.0,0.5,0.5],\"type\":\"scatter\"},{\"mode\":\"lines+markers\",\"name\":\"p41-vllm\",\"x\":[0.0625,0.125,0.25,0.375,0.5,0.625,0.75],\"y\":[84.0,80.0,70.0,61.0,47.0,36.0,25.0],\"type\":\"scatter\"},{\"mode\":\"lines+markers\",\"name\":\"p42-vllm\",\"x\":[0.0625,0.125,0.25,0.375,0.5,0.625,0.75],\"y\":[87.5,84.0,72.5,40.5,26.5,21.0,16.0],\"type\":\"scatter\"}],                        {\"template\":{\"data\":{\"histogram2dcontour\":[{\"type\":\"histogram2dcontour\",\"colorbar\":{\"outlinewidth\":0,\"ticks\":\"\"},\"colorscale\":[[0.0,\"#0d0887\"],[0.1111111111111111,\"#46039f\"],[0.2222222222222222,\"#7201a8\"],[0.3333333333333333,\"#9c179e\"],[0.4444444444444444,\"#bd3786\"],[0.5555555555555556,\"#d8576b\"],[0.6666666666666666,\"#ed7953\"],[0.7777777777777778,\"#fb9f3a\"],[0.8888888888888888,\"#fdca26\"],[1.0,\"#f0f921\"]]}],\"choropleth\":[{\"type\":\"choropleth\",\"colorbar\":{\"outlinewidth\":0,\"ticks\":\"\"}}],\"histogram2d\":[{\"type\":\"histogram2d\",\"colorbar\":{\"outlinewidth\":0,\"ticks\":\"\"},\"colorscale\":[[0.0,\"#0d0887\"],[0.1111111111111111,\"#46039f\"],[0.2222222222222222,\"#7201a8\"],[0.3333333333333333,\"#9c179e\"],[0.4444444444444444,\"#bd3786\"],[0.5555555555555556,\"#d8576b\"],[0.6666666666666666,\"#ed7953\"],[0.7777777777777778,\"#fb9f3a\"],[0.8888888888888888,\"#fdca26\"],[1.0,\"#f0f921\"]]}],\"heatmap\":[{\"type\":\"heatmap\",\"colorbar\":{\"outlinewidth\":0,\"ticks\":\"\"},\"colorscale\":[[0.0,\"#0d0887\"],[0.1111111111111111,\"#46039f\"],[0.2222222222222222,\"#7201a8\"],[0.3333333333333333,\"#9c179e\"],[0.4444444444444444,\"#bd3786\"],[0.5555555555555556,\"#d8576b\"],[0.6666666666666666,\"#ed7953\"],[0.7777777777777778,\"#fb9f3a\"],[0.8888888888888888,\"#fdca26\"],[1.0,\"#f0f921\"]]}],\"heatmapgl\":[{\"type\":\"heatmapgl\",\"colorbar\":{\"outlinewidth\":0,\"ticks\":\"\"},\"colorscale\":[[0.0,\"#0d0887\"],[0.1111111111111111,\"#46039f\"],[0.2222222222222222,\"#7201a8\"],[0.3333333333333333,\"#9c179e\"],[0.4444444444444444,\"#bd3786\"],[0.5555555555555556,\"#d8576b\"],[0.6666666666666666,\"#ed7953\"],[0.7777777777777778,\"#fb9f3a\"],[0.8888888888888888,\"#fdca26\"],[1.0,\"#f0f921\"]]}],\"contourcarpet\":[{\"type\":\"contourcarpet\",\"colorbar\":{\"outlinewidth\":0,\"ticks\":\"\"}}],\"contour\":[{\"type\":\"contour\",\"colorbar\":{\"outlinewidth\":0,\"ticks\":\"\"},\"colorscale\":[[0.0,\"#0d0887\"],[0.1111111111111111,\"#46039f\"],[0.2222222222222222,\"#7201a8\"],[0.3333333333333333,\"#9c179e\"],[0.4444444444444444,\"#bd3786\"],[0.5555555555555556,\"#d8576b\"],[0.6666666666666666,\"#ed7953\"],[0.7777777777777778,\"#fb9f3a\"],[0.8888888888888888,\"#fdca26\"],[1.0,\"#f0f921\"]]}],\"surface\":[{\"type\":\"surface\",\"colorbar\":{\"outlinewidth\":0,\"ticks\":\"\"},\"colorscale\":[[0.0,\"#0d0887\"],[0.1111111111111111,\"#46039f\"],[0.2222222222222222,\"#7201a8\"],[0.3333333333333333,\"#9c179e\"],[0.4444444444444444,\"#bd3786\"],[0.5555555555555556,\"#d8576b\"],[0.6666666666666666,\"#ed7953\"],[0.7777777777777778,\"#fb9f3a\"],[0.8888888888888888,\"#fdca26\"],[1.0,\"#f0f921\"]]}],\"mesh3d\":[{\"type\":\"mesh3d\",\"colorbar\":{\"outlinewidth\":0,\"ticks\":\"\"}}],\"scatter\":[{\"marker\":{\"line\":{\"color\":\"#283442\"}},\"type\":\"scatter\"}],\"parcoords\":[{\"type\":\"parcoords\",\"line\":{\"colorbar\":{\"outlinewidth\":0,\"ticks\":\"\"}}}],\"scatterpolargl\":[{\"type\":\"scatterpolargl\",\"marker\":{\"colorbar\":{\"outlinewidth\":0,\"ticks\":\"\"}}}],\"bar\":[{\"error_x\":{\"color\":\"#f2f5fa\"},\"error_y\":{\"color\":\"#f2f5fa\"},\"marker\":{\"line\":{\"color\":\"rgb(17,17,17)\",\"width\":0.5},\"pattern\":{\"fillmode\":\"overlay\",\"size\":10,\"solidity\":0.2}},\"type\":\"bar\"}],\"scattergeo\":[{\"type\":\"scattergeo\",\"marker\":{\"colorbar\":{\"outlinewidth\":0,\"ticks\":\"\"}}}],\"scatterpolar\":[{\"type\":\"scatterpolar\",\"marker\":{\"colorbar\":{\"outlinewidth\":0,\"ticks\":\"\"}}}],\"histogram\":[{\"marker\":{\"pattern\":{\"fillmode\":\"overlay\",\"size\":10,\"solidity\":0.2}},\"type\":\"histogram\"}],\"scattergl\":[{\"marker\":{\"line\":{\"color\":\"#283442\"}},\"type\":\"scattergl\"}],\"scatter3d\":[{\"type\":\"scatter3d\",\"line\":{\"colorbar\":{\"outlinewidth\":0,\"ticks\":\"\"}},\"marker\":{\"colorbar\":{\"outlinewidth\":0,\"ticks\":\"\"}}}],\"scattermapbox\":[{\"type\":\"scattermapbox\",\"marker\":{\"colorbar\":{\"outlinewidth\":0,\"ticks\":\"\"}}}],\"scatterternary\":[{\"type\":\"scatterternary\",\"marker\":{\"colorbar\":{\"outlinewidth\":0,\"ticks\":\"\"}}}],\"scattercarpet\":[{\"type\":\"scattercarpet\",\"marker\":{\"colorbar\":{\"outlinewidth\":0,\"ticks\":\"\"}}}],\"carpet\":[{\"aaxis\":{\"endlinecolor\":\"#A2B1C6\",\"gridcolor\":\"#506784\",\"linecolor\":\"#506784\",\"minorgridcolor\":\"#506784\",\"startlinecolor\":\"#A2B1C6\"},\"baxis\":{\"endlinecolor\":\"#A2B1C6\",\"gridcolor\":\"#506784\",\"linecolor\":\"#506784\",\"minorgridcolor\":\"#506784\",\"startlinecolor\":\"#A2B1C6\"},\"type\":\"carpet\"}],\"table\":[{\"cells\":{\"fill\":{\"color\":\"#506784\"},\"line\":{\"color\":\"rgb(17,17,17)\"}},\"header\":{\"fill\":{\"color\":\"#2a3f5f\"},\"line\":{\"color\":\"rgb(17,17,17)\"}},\"type\":\"table\"}],\"barpolar\":[{\"marker\":{\"line\":{\"color\":\"rgb(17,17,17)\",\"width\":0.5},\"pattern\":{\"fillmode\":\"overlay\",\"size\":10,\"solidity\":0.2}},\"type\":\"barpolar\"}],\"pie\":[{\"automargin\":true,\"type\":\"pie\"}]},\"layout\":{\"autotypenumbers\":\"strict\",\"colorway\":[\"#636efa\",\"#EF553B\",\"#00cc96\",\"#ab63fa\",\"#FFA15A\",\"#19d3f3\",\"#FF6692\",\"#B6E880\",\"#FF97FF\",\"#FECB52\"],\"font\":{\"color\":\"#f2f5fa\"},\"hovermode\":\"closest\",\"hoverlabel\":{\"align\":\"left\"},\"paper_bgcolor\":\"rgb(17,17,17)\",\"plot_bgcolor\":\"rgb(17,17,17)\",\"polar\":{\"bgcolor\":\"rgb(17,17,17)\",\"angularaxis\":{\"gridcolor\":\"#506784\",\"linecolor\":\"#506784\",\"ticks\":\"\"},\"radialaxis\":{\"gridcolor\":\"#506784\",\"linecolor\":\"#506784\",\"ticks\":\"\"}},\"ternary\":{\"bgcolor\":\"rgb(17,17,17)\",\"aaxis\":{\"gridcolor\":\"#506784\",\"linecolor\":\"#506784\",\"ticks\":\"\"},\"baxis\":{\"gridcolor\":\"#506784\",\"linecolor\":\"#506784\",\"ticks\":\"\"},\"caxis\":{\"gridcolor\":\"#506784\",\"linecolor\":\"#506784\",\"ticks\":\"\"}},\"coloraxis\":{\"colorbar\":{\"outlinewidth\":0,\"ticks\":\"\"}},\"colorscale\":{\"sequential\":[[0.0,\"#0d0887\"],[0.1111111111111111,\"#46039f\"],[0.2222222222222222,\"#7201a8\"],[0.3333333333333333,\"#9c179e\"],[0.4444444444444444,\"#bd3786\"],[0.5555555555555556,\"#d8576b\"],[0.6666666666666666,\"#ed7953\"],[0.7777777777777778,\"#fb9f3a\"],[0.8888888888888888,\"#fdca26\"],[1.0,\"#f0f921\"]],\"sequentialminus\":[[0.0,\"#0d0887\"],[0.1111111111111111,\"#46039f\"],[0.2222222222222222,\"#7201a8\"],[0.3333333333333333,\"#9c179e\"],[0.4444444444444444,\"#bd3786\"],[0.5555555555555556,\"#d8576b\"],[0.6666666666666666,\"#ed7953\"],[0.7777777777777778,\"#fb9f3a\"],[0.8888888888888888,\"#fdca26\"],[1.0,\"#f0f921\"]],\"diverging\":[[0,\"#8e0152\"],[0.1,\"#c51b7d\"],[0.2,\"#de77ae\"],[0.3,\"#f1b6da\"],[0.4,\"#fde0ef\"],[0.5,\"#f7f7f7\"],[0.6,\"#e6f5d0\"],[0.7,\"#b8e186\"],[0.8,\"#7fbc41\"],[0.9,\"#4d9221\"],[1,\"#276419\"]]},\"xaxis\":{\"gridcolor\":\"#283442\",\"linecolor\":\"#506784\",\"ticks\":\"\",\"title\":{\"standoff\":15},\"zerolinecolor\":\"#283442\",\"automargin\":true,\"zerolinewidth\":2},\"yaxis\":{\"gridcolor\":\"#283442\",\"linecolor\":\"#506784\",\"ticks\":\"\",\"title\":{\"standoff\":15},\"zerolinecolor\":\"#283442\",\"automargin\":true,\"zerolinewidth\":2},\"scene\":{\"xaxis\":{\"backgroundcolor\":\"rgb(17,17,17)\",\"gridcolor\":\"#506784\",\"linecolor\":\"#506784\",\"showbackground\":true,\"ticks\":\"\",\"zerolinecolor\":\"#C8D4E3\",\"gridwidth\":2},\"yaxis\":{\"backgroundcolor\":\"rgb(17,17,17)\",\"gridcolor\":\"#506784\",\"linecolor\":\"#506784\",\"showbackground\":true,\"ticks\":\"\",\"zerolinecolor\":\"#C8D4E3\",\"gridwidth\":2},\"zaxis\":{\"backgroundcolor\":\"rgb(17,17,17)\",\"gridcolor\":\"#506784\",\"linecolor\":\"#506784\",\"showbackground\":true,\"ticks\":\"\",\"zerolinecolor\":\"#C8D4E3\",\"gridwidth\":2}},\"shapedefaults\":{\"line\":{\"color\":\"#f2f5fa\"}},\"annotationdefaults\":{\"arrowcolor\":\"#f2f5fa\",\"arrowhead\":0,\"arrowwidth\":1},\"geo\":{\"bgcolor\":\"rgb(17,17,17)\",\"landcolor\":\"rgb(17,17,17)\",\"subunitcolor\":\"#506784\",\"showland\":true,\"showlakes\":true,\"lakecolor\":\"rgb(17,17,17)\"},\"title\":{\"x\":0.05},\"updatemenudefaults\":{\"bgcolor\":\"#506784\",\"borderwidth\":0},\"sliderdefaults\":{\"bgcolor\":\"#C8D4E3\",\"borderwidth\":1,\"bordercolor\":\"rgb(17,17,17)\",\"tickwidth\":0},\"mapbox\":{\"style\":\"dark\"}}},\"title\":{\"text\":\"vLLM++\"},\"xaxis\":{\"title\":{\"text\":\"Per-GPU Rate (tokens\\u002fs)\"}},\"yaxis\":{\"title\":{\"text\":\"Attainment (%)\"}},\"legend\":{\"title\":{\"text\":\"Configuration\"}}},                        {\"responsive\": true}                    ).then(function(){\n                            \nvar gd = document.getElementById('aecc219a-2397-4f10-b3f4-c10dadeeed35');\nvar x = new MutationObserver(function (mutations, observer) {{\n        var display = window.getComputedStyle(gd).display;\n        if (!display || display === 'none') {{\n            console.log([gd, 'removed!']);\n            Plotly.purge(gd);\n            observer.disconnect();\n        }}\n}});\n\n// Listen for the removal of the full notebook cells\nvar notebookContainer = gd.closest('#notebook-container');\nif (notebookContainer) {{\n    x.observe(notebookContainer, {childList: true});\n}}\n\n// Listen for the clearing of the current output cell\nvar outputEl = gd.closest('.output');\nif (outputEl) {{\n    x.observe(outputEl, {childList: true});\n}}\n\n                        })                };                });            </script>        </div>"
     },
     "metadata": {},
     "output_type": "display_data"
    }
   ],
   "source": [
    "if use_plotly:\n",
    "    # Plot the `figure_11_vllm_high`for some configurations\n",
    "    # tp_prefill = 1, pp_prefill = 1\n",
    "    # x-axis: rate\n",
    "    # y-axis: attainment\n",
    "    # find all combination of tp_prefill, pp_prefill\n",
    "    import plotly.graph_objects as go\n",
    "    \n",
    "    fig = go.Figure()\n",
    "    configs = figure_11_vllm_high[['tp_prefill', 'pp_prefill']].drop_duplicates()\n",
    "    df = figure_11_vllm_high\n",
    "    \n",
    "    for tp_prefill, pp_prefill in configs.values:\n",
    "        config_df = df[\n",
    "            (df['tp_prefill'] == tp_prefill) & (df['pp_prefill'] == pp_prefill)\n",
    "            ]\n",
    "        # plot this inside a plotly plot\n",
    "        fig.add_trace(go.Scatter(\n",
    "            x=config_df['per_gpu_rate'], y=config_df['attainment'],\n",
    "            mode='lines+markers', name=f\"p{tp_prefill}{pp_prefill}-vllm\"\n",
    "        ))\n",
    "    \n",
    "    # fig add title\n",
    "    fig.update_layout(\n",
    "        title=\"vLLM++\",\n",
    "        xaxis_title=\"Per-GPU Rate (tokens/s)\",\n",
    "        yaxis_title=\"Attainment (%)\",\n",
    "        legend_title=\"Configuration\"\n",
    "    )\n",
    "    # Export to html\n",
    "    fig.write_html(\"visual/figure_11_vllm_high.html\")\n",
    "    if is_notebook_mode:\n",
    "        fig.show()"
   ],
   "metadata": {
    "collapsed": false,
    "ExecuteTime": {
     "end_time": "2024-04-25T03:06:27.184805Z",
     "start_time": "2024-04-25T03:06:27.080121Z"
    }
   },
   "id": "850a4845f690b806",
   "execution_count": 56
  },
  {
   "cell_type": "code",
   "outputs": [
    {
     "data": {
      "application/vnd.plotly.v1+json": {
       "data": [
        {
         "mode": "lines+markers",
         "name": "p2112-distserve",
         "x": [
          0.0625,
          0.125,
          0.25,
          0.375,
          0.5,
          0.625,
          0.75
         ],
         "y": [
          76.0,
          72.0,
          66.0,
          53.0,
          46.0,
          35.0,
          26.0
         ],
         "type": "scatter"
        },
        {
         "mode": "lines+markers",
         "name": "p2114-distserve",
         "x": [
          0.0625,
          0.125,
          0.25,
          0.375,
          0.5,
          0.625,
          0.75
         ],
         "y": [
          74.66666666666667,
          69.33333333333334,
          57.333333333333336,
          44.66666666666666,
          30.666666666666664,
          13.333333333333334,
          7.333333333333333
         ],
         "type": "scatter"
        },
        {
         "mode": "lines+markers",
         "name": "p2121-distserve",
         "x": [
          0.0625,
          0.125,
          0.25,
          0.375,
          0.5,
          0.625,
          0.75
         ],
         "y": [
          76.0,
          72.0,
          66.0,
          53.0,
          46.0,
          35.0,
          26.0
         ],
         "type": "scatter"
        },
        {
         "mode": "lines+markers",
         "name": "p2122-distserve",
         "x": [
          0.0625,
          0.125,
          0.25,
          0.375,
          0.5,
          0.625,
          0.75
         ],
         "y": [
          74.66666666666667,
          69.33333333333334,
          57.333333333333336,
          44.66666666666666,
          30.666666666666664,
          13.333333333333334,
          7.333333333333333
         ],
         "type": "scatter"
        },
        {
         "mode": "lines+markers",
         "name": "p2141-distserve",
         "x": [
          0.0625,
          0.125,
          0.25,
          0.375,
          0.5,
          0.625,
          0.75
         ],
         "y": [
          74.66666666666667,
          69.33333333333334,
          57.333333333333336,
          44.66666666666666,
          30.666666666666664,
          12.666666666666668,
          7.333333333333333
         ],
         "type": "scatter"
        },
        {
         "mode": "lines+markers",
         "name": "p2212-distserve",
         "x": [
          0.0625,
          0.125,
          0.25,
          0.375,
          0.5,
          0.625,
          0.75
         ],
         "y": [
          76.66666666666667,
          74.66666666666667,
          69.33333333333334,
          62.66666666666667,
          54.0,
          47.333333333333336,
          35.333333333333336
         ],
         "type": "scatter"
        },
        {
         "mode": "lines+markers",
         "name": "p2214-distserve",
         "x": [
          0.0625,
          0.125,
          0.25,
          0.375,
          0.5,
          0.625,
          0.75
         ],
         "y": [
          77.0,
          73.5,
          63.5,
          54.50000000000001,
          46.0,
          35.0,
          23.5
         ],
         "type": "scatter"
        },
        {
         "mode": "lines+markers",
         "name": "p2221-distserve",
         "x": [
          0.0625,
          0.125,
          0.25,
          0.375,
          0.5,
          0.625,
          0.75
         ],
         "y": [
          76.66666666666667,
          74.66666666666667,
          69.33333333333334,
          62.66666666666667,
          54.0,
          46.66666666666666,
          33.33333333333333
         ],
         "type": "scatter"
        },
        {
         "mode": "lines+markers",
         "name": "p2222-distserve",
         "x": [
          0.0625,
          0.125,
          0.25,
          0.375,
          0.5,
          0.625,
          0.75
         ],
         "y": [
          77.0,
          73.5,
          63.5,
          54.50000000000001,
          46.0,
          35.0,
          23.5
         ],
         "type": "scatter"
        },
        {
         "mode": "lines+markers",
         "name": "p2241-distserve",
         "x": [
          0.0625,
          0.125,
          0.25,
          0.375,
          0.5,
          0.625,
          0.75
         ],
         "y": [
          77.0,
          73.5,
          63.5,
          51.0,
          33.5,
          18.0,
          10.5
         ],
         "type": "scatter"
        },
        {
         "mode": "lines+markers",
         "name": "p4112-distserve",
         "x": [
          0.0625,
          0.125,
          0.25,
          0.375,
          0.5,
          0.625,
          0.75
         ],
         "y": [
          99.33333333333331,
          99.33333333333331,
          95.33333333333334,
          88.0,
          81.33333333333333,
          77.33333333333333,
          63.33333333333333
         ],
         "type": "scatter"
        },
        {
         "mode": "lines+markers",
         "name": "p4114-distserve",
         "x": [
          0.0625,
          0.125,
          0.25,
          0.375,
          0.5,
          0.625,
          0.75
         ],
         "y": [
          99.5,
          98.5,
          93.5,
          84.0,
          77.0,
          65.0,
          51.5
         ],
         "type": "scatter"
        },
        {
         "mode": "lines+markers",
         "name": "p4121-distserve",
         "x": [
          0.0625,
          0.125,
          0.25,
          0.375,
          0.5,
          0.625,
          0.75
         ],
         "y": [
          99.33333333333331,
          99.33333333333331,
          95.33333333333334,
          88.0,
          81.33333333333333,
          77.33333333333333,
          63.33333333333333
         ],
         "type": "scatter"
        },
        {
         "mode": "lines+markers",
         "name": "p4122-distserve",
         "x": [
          0.0625,
          0.125,
          0.25,
          0.375,
          0.5,
          0.625,
          0.75
         ],
         "y": [
          99.5,
          98.5,
          93.5,
          84.0,
          77.0,
          65.0,
          51.5
         ],
         "type": "scatter"
        },
        {
         "mode": "lines+markers",
         "name": "p4141-distserve",
         "x": [
          0.0625,
          0.125,
          0.25,
          0.375,
          0.5,
          0.625,
          0.75
         ],
         "y": [
          99.5,
          98.5,
          93.5,
          84.0,
          77.0,
          65.0,
          51.5
         ],
         "type": "scatter"
        },
        {
         "mode": "lines+markers",
         "name": "p21-vllm",
         "x": [
          0.0625,
          0.125,
          0.25,
          0.375,
          0.5,
          0.625,
          0.75
         ],
         "y": [
          62.0,
          62.0,
          57.99999999999999,
          56.00000000000001,
          48.0,
          32.0,
          28.000000000000004
         ],
         "type": "scatter"
        },
        {
         "mode": "lines+markers",
         "name": "p22-vllm",
         "x": [
          0.0625,
          0.125,
          0.25,
          0.375,
          0.5,
          0.625,
          0.75
         ],
         "y": [
          66.0,
          60.0,
          26.0,
          10.0,
          7.000000000000001,
          2.0,
          2.0
         ],
         "type": "scatter"
        },
        {
         "mode": "lines+markers",
         "name": "p24-vllm",
         "x": [
          0.0625,
          0.125,
          0.25,
          0.375,
          0.5,
          0.625,
          0.75
         ],
         "y": [
          64.0,
          14.000000000000002,
          4.0,
          1.0,
          1.0,
          0.5,
          0.5
         ],
         "type": "scatter"
        },
        {
         "mode": "lines+markers",
         "name": "p41-vllm",
         "x": [
          0.0625,
          0.125,
          0.25,
          0.375,
          0.5,
          0.625,
          0.75
         ],
         "y": [
          84.0,
          80.0,
          70.0,
          61.0,
          47.0,
          36.0,
          25.0
         ],
         "type": "scatter"
        },
        {
         "mode": "lines+markers",
         "name": "p42-vllm",
         "x": [
          0.0625,
          0.125,
          0.25,
          0.375,
          0.5,
          0.625,
          0.75
         ],
         "y": [
          87.5,
          84.0,
          72.5,
          40.5,
          26.5,
          21.0,
          16.0
         ],
         "type": "scatter"
        }
       ],
       "layout": {
        "template": {
         "data": {
          "histogram2dcontour": [
           {
            "type": "histogram2dcontour",
            "colorbar": {
             "outlinewidth": 0,
             "ticks": ""
            },
            "colorscale": [
             [
              0.0,
              "#0d0887"
             ],
             [
              0.1111111111111111,
              "#46039f"
             ],
             [
              0.2222222222222222,
              "#7201a8"
             ],
             [
              0.3333333333333333,
              "#9c179e"
             ],
             [
              0.4444444444444444,
              "#bd3786"
             ],
             [
              0.5555555555555556,
              "#d8576b"
             ],
             [
              0.6666666666666666,
              "#ed7953"
             ],
             [
              0.7777777777777778,
              "#fb9f3a"
             ],
             [
              0.8888888888888888,
              "#fdca26"
             ],
             [
              1.0,
              "#f0f921"
             ]
            ]
           }
          ],
          "choropleth": [
           {
            "type": "choropleth",
            "colorbar": {
             "outlinewidth": 0,
             "ticks": ""
            }
           }
          ],
          "histogram2d": [
           {
            "type": "histogram2d",
            "colorbar": {
             "outlinewidth": 0,
             "ticks": ""
            },
            "colorscale": [
             [
              0.0,
              "#0d0887"
             ],
             [
              0.1111111111111111,
              "#46039f"
             ],
             [
              0.2222222222222222,
              "#7201a8"
             ],
             [
              0.3333333333333333,
              "#9c179e"
             ],
             [
              0.4444444444444444,
              "#bd3786"
             ],
             [
              0.5555555555555556,
              "#d8576b"
             ],
             [
              0.6666666666666666,
              "#ed7953"
             ],
             [
              0.7777777777777778,
              "#fb9f3a"
             ],
             [
              0.8888888888888888,
              "#fdca26"
             ],
             [
              1.0,
              "#f0f921"
             ]
            ]
           }
          ],
          "heatmap": [
           {
            "type": "heatmap",
            "colorbar": {
             "outlinewidth": 0,
             "ticks": ""
            },
            "colorscale": [
             [
              0.0,
              "#0d0887"
             ],
             [
              0.1111111111111111,
              "#46039f"
             ],
             [
              0.2222222222222222,
              "#7201a8"
             ],
             [
              0.3333333333333333,
              "#9c179e"
             ],
             [
              0.4444444444444444,
              "#bd3786"
             ],
             [
              0.5555555555555556,
              "#d8576b"
             ],
             [
              0.6666666666666666,
              "#ed7953"
             ],
             [
              0.7777777777777778,
              "#fb9f3a"
             ],
             [
              0.8888888888888888,
              "#fdca26"
             ],
             [
              1.0,
              "#f0f921"
             ]
            ]
           }
          ],
          "heatmapgl": [
           {
            "type": "heatmapgl",
            "colorbar": {
             "outlinewidth": 0,
             "ticks": ""
            },
            "colorscale": [
             [
              0.0,
              "#0d0887"
             ],
             [
              0.1111111111111111,
              "#46039f"
             ],
             [
              0.2222222222222222,
              "#7201a8"
             ],
             [
              0.3333333333333333,
              "#9c179e"
             ],
             [
              0.4444444444444444,
              "#bd3786"
             ],
             [
              0.5555555555555556,
              "#d8576b"
             ],
             [
              0.6666666666666666,
              "#ed7953"
             ],
             [
              0.7777777777777778,
              "#fb9f3a"
             ],
             [
              0.8888888888888888,
              "#fdca26"
             ],
             [
              1.0,
              "#f0f921"
             ]
            ]
           }
          ],
          "contourcarpet": [
           {
            "type": "contourcarpet",
            "colorbar": {
             "outlinewidth": 0,
             "ticks": ""
            }
           }
          ],
          "contour": [
           {
            "type": "contour",
            "colorbar": {
             "outlinewidth": 0,
             "ticks": ""
            },
            "colorscale": [
             [
              0.0,
              "#0d0887"
             ],
             [
              0.1111111111111111,
              "#46039f"
             ],
             [
              0.2222222222222222,
              "#7201a8"
             ],
             [
              0.3333333333333333,
              "#9c179e"
             ],
             [
              0.4444444444444444,
              "#bd3786"
             ],
             [
              0.5555555555555556,
              "#d8576b"
             ],
             [
              0.6666666666666666,
              "#ed7953"
             ],
             [
              0.7777777777777778,
              "#fb9f3a"
             ],
             [
              0.8888888888888888,
              "#fdca26"
             ],
             [
              1.0,
              "#f0f921"
             ]
            ]
           }
          ],
          "surface": [
           {
            "type": "surface",
            "colorbar": {
             "outlinewidth": 0,
             "ticks": ""
            },
            "colorscale": [
             [
              0.0,
              "#0d0887"
             ],
             [
              0.1111111111111111,
              "#46039f"
             ],
             [
              0.2222222222222222,
              "#7201a8"
             ],
             [
              0.3333333333333333,
              "#9c179e"
             ],
             [
              0.4444444444444444,
              "#bd3786"
             ],
             [
              0.5555555555555556,
              "#d8576b"
             ],
             [
              0.6666666666666666,
              "#ed7953"
             ],
             [
              0.7777777777777778,
              "#fb9f3a"
             ],
             [
              0.8888888888888888,
              "#fdca26"
             ],
             [
              1.0,
              "#f0f921"
             ]
            ]
           }
          ],
          "mesh3d": [
           {
            "type": "mesh3d",
            "colorbar": {
             "outlinewidth": 0,
             "ticks": ""
            }
           }
          ],
          "scatter": [
           {
            "marker": {
             "line": {
              "color": "#283442"
             }
            },
            "type": "scatter"
           }
          ],
          "parcoords": [
           {
            "type": "parcoords",
            "line": {
             "colorbar": {
              "outlinewidth": 0,
              "ticks": ""
             }
            }
           }
          ],
          "scatterpolargl": [
           {
            "type": "scatterpolargl",
            "marker": {
             "colorbar": {
              "outlinewidth": 0,
              "ticks": ""
             }
            }
           }
          ],
          "bar": [
           {
            "error_x": {
             "color": "#f2f5fa"
            },
            "error_y": {
             "color": "#f2f5fa"
            },
            "marker": {
             "line": {
              "color": "rgb(17,17,17)",
              "width": 0.5
             },
             "pattern": {
              "fillmode": "overlay",
              "size": 10,
              "solidity": 0.2
             }
            },
            "type": "bar"
           }
          ],
          "scattergeo": [
           {
            "type": "scattergeo",
            "marker": {
             "colorbar": {
              "outlinewidth": 0,
              "ticks": ""
             }
            }
           }
          ],
          "scatterpolar": [
           {
            "type": "scatterpolar",
            "marker": {
             "colorbar": {
              "outlinewidth": 0,
              "ticks": ""
             }
            }
           }
          ],
          "histogram": [
           {
            "marker": {
             "pattern": {
              "fillmode": "overlay",
              "size": 10,
              "solidity": 0.2
             }
            },
            "type": "histogram"
           }
          ],
          "scattergl": [
           {
            "marker": {
             "line": {
              "color": "#283442"
             }
            },
            "type": "scattergl"
           }
          ],
          "scatter3d": [
           {
            "type": "scatter3d",
            "line": {
             "colorbar": {
              "outlinewidth": 0,
              "ticks": ""
             }
            },
            "marker": {
             "colorbar": {
              "outlinewidth": 0,
              "ticks": ""
             }
            }
           }
          ],
          "scattermapbox": [
           {
            "type": "scattermapbox",
            "marker": {
             "colorbar": {
              "outlinewidth": 0,
              "ticks": ""
             }
            }
           }
          ],
          "scatterternary": [
           {
            "type": "scatterternary",
            "marker": {
             "colorbar": {
              "outlinewidth": 0,
              "ticks": ""
             }
            }
           }
          ],
          "scattercarpet": [
           {
            "type": "scattercarpet",
            "marker": {
             "colorbar": {
              "outlinewidth": 0,
              "ticks": ""
             }
            }
           }
          ],
          "carpet": [
           {
            "aaxis": {
             "endlinecolor": "#A2B1C6",
             "gridcolor": "#506784",
             "linecolor": "#506784",
             "minorgridcolor": "#506784",
             "startlinecolor": "#A2B1C6"
            },
            "baxis": {
             "endlinecolor": "#A2B1C6",
             "gridcolor": "#506784",
             "linecolor": "#506784",
             "minorgridcolor": "#506784",
             "startlinecolor": "#A2B1C6"
            },
            "type": "carpet"
           }
          ],
          "table": [
           {
            "cells": {
             "fill": {
              "color": "#506784"
             },
             "line": {
              "color": "rgb(17,17,17)"
             }
            },
            "header": {
             "fill": {
              "color": "#2a3f5f"
             },
             "line": {
              "color": "rgb(17,17,17)"
             }
            },
            "type": "table"
           }
          ],
          "barpolar": [
           {
            "marker": {
             "line": {
              "color": "rgb(17,17,17)",
              "width": 0.5
             },
             "pattern": {
              "fillmode": "overlay",
              "size": 10,
              "solidity": 0.2
             }
            },
            "type": "barpolar"
           }
          ],
          "pie": [
           {
            "automargin": true,
            "type": "pie"
           }
          ]
         },
         "layout": {
          "autotypenumbers": "strict",
          "colorway": [
           "#636efa",
           "#EF553B",
           "#00cc96",
           "#ab63fa",
           "#FFA15A",
           "#19d3f3",
           "#FF6692",
           "#B6E880",
           "#FF97FF",
           "#FECB52"
          ],
          "font": {
           "color": "#f2f5fa"
          },
          "hovermode": "closest",
          "hoverlabel": {
           "align": "left"
          },
          "paper_bgcolor": "rgb(17,17,17)",
          "plot_bgcolor": "rgb(17,17,17)",
          "polar": {
           "bgcolor": "rgb(17,17,17)",
           "angularaxis": {
            "gridcolor": "#506784",
            "linecolor": "#506784",
            "ticks": ""
           },
           "radialaxis": {
            "gridcolor": "#506784",
            "linecolor": "#506784",
            "ticks": ""
           }
          },
          "ternary": {
           "bgcolor": "rgb(17,17,17)",
           "aaxis": {
            "gridcolor": "#506784",
            "linecolor": "#506784",
            "ticks": ""
           },
           "baxis": {
            "gridcolor": "#506784",
            "linecolor": "#506784",
            "ticks": ""
           },
           "caxis": {
            "gridcolor": "#506784",
            "linecolor": "#506784",
            "ticks": ""
           }
          },
          "coloraxis": {
           "colorbar": {
            "outlinewidth": 0,
            "ticks": ""
           }
          },
          "colorscale": {
           "sequential": [
            [
             0.0,
             "#0d0887"
            ],
            [
             0.1111111111111111,
             "#46039f"
            ],
            [
             0.2222222222222222,
             "#7201a8"
            ],
            [
             0.3333333333333333,
             "#9c179e"
            ],
            [
             0.4444444444444444,
             "#bd3786"
            ],
            [
             0.5555555555555556,
             "#d8576b"
            ],
            [
             0.6666666666666666,
             "#ed7953"
            ],
            [
             0.7777777777777778,
             "#fb9f3a"
            ],
            [
             0.8888888888888888,
             "#fdca26"
            ],
            [
             1.0,
             "#f0f921"
            ]
           ],
           "sequentialminus": [
            [
             0.0,
             "#0d0887"
            ],
            [
             0.1111111111111111,
             "#46039f"
            ],
            [
             0.2222222222222222,
             "#7201a8"
            ],
            [
             0.3333333333333333,
             "#9c179e"
            ],
            [
             0.4444444444444444,
             "#bd3786"
            ],
            [
             0.5555555555555556,
             "#d8576b"
            ],
            [
             0.6666666666666666,
             "#ed7953"
            ],
            [
             0.7777777777777778,
             "#fb9f3a"
            ],
            [
             0.8888888888888888,
             "#fdca26"
            ],
            [
             1.0,
             "#f0f921"
            ]
           ],
           "diverging": [
            [
             0,
             "#8e0152"
            ],
            [
             0.1,
             "#c51b7d"
            ],
            [
             0.2,
             "#de77ae"
            ],
            [
             0.3,
             "#f1b6da"
            ],
            [
             0.4,
             "#fde0ef"
            ],
            [
             0.5,
             "#f7f7f7"
            ],
            [
             0.6,
             "#e6f5d0"
            ],
            [
             0.7,
             "#b8e186"
            ],
            [
             0.8,
             "#7fbc41"
            ],
            [
             0.9,
             "#4d9221"
            ],
            [
             1,
             "#276419"
            ]
           ]
          },
          "xaxis": {
           "gridcolor": "#283442",
           "linecolor": "#506784",
           "ticks": "",
           "title": {
            "standoff": 15
           },
           "zerolinecolor": "#283442",
           "automargin": true,
           "zerolinewidth": 2
          },
          "yaxis": {
           "gridcolor": "#283442",
           "linecolor": "#506784",
           "ticks": "",
           "title": {
            "standoff": 15
           },
           "zerolinecolor": "#283442",
           "automargin": true,
           "zerolinewidth": 2
          },
          "scene": {
           "xaxis": {
            "backgroundcolor": "rgb(17,17,17)",
            "gridcolor": "#506784",
            "linecolor": "#506784",
            "showbackground": true,
            "ticks": "",
            "zerolinecolor": "#C8D4E3",
            "gridwidth": 2
           },
           "yaxis": {
            "backgroundcolor": "rgb(17,17,17)",
            "gridcolor": "#506784",
            "linecolor": "#506784",
            "showbackground": true,
            "ticks": "",
            "zerolinecolor": "#C8D4E3",
            "gridwidth": 2
           },
           "zaxis": {
            "backgroundcolor": "rgb(17,17,17)",
            "gridcolor": "#506784",
            "linecolor": "#506784",
            "showbackground": true,
            "ticks": "",
            "zerolinecolor": "#C8D4E3",
            "gridwidth": 2
           }
          },
          "shapedefaults": {
           "line": {
            "color": "#f2f5fa"
           }
          },
          "annotationdefaults": {
           "arrowcolor": "#f2f5fa",
           "arrowhead": 0,
           "arrowwidth": 1
          },
          "geo": {
           "bgcolor": "rgb(17,17,17)",
           "landcolor": "rgb(17,17,17)",
           "subunitcolor": "#506784",
           "showland": true,
           "showlakes": true,
           "lakecolor": "rgb(17,17,17)"
          },
          "title": {
           "x": 0.05
          },
          "updatemenudefaults": {
           "bgcolor": "#506784",
           "borderwidth": 0
          },
          "sliderdefaults": {
           "bgcolor": "#C8D4E3",
           "borderwidth": 1,
           "bordercolor": "rgb(17,17,17)",
           "tickwidth": 0
          },
          "mapbox": {
           "style": "dark"
          }
         }
        },
        "title": {
         "text": "Figure 11: Abalation Study (DistServe and vLLM)"
        },
        "xaxis": {
         "title": {
          "text": "Per-GPU Rate (tokens/s)"
         }
        },
        "yaxis": {
         "title": {
          "text": "Attainment (%)"
         }
        },
        "legend": {
         "title": {
          "text": "Configuration"
         }
        }
       },
       "config": {
        "plotlyServerURL": "https://plot.ly"
       }
      },
      "text/html": "<div>                            <div id=\"a1c693a4-9e0e-4450-87a6-e1d8e45128e1\" class=\"plotly-graph-div\" style=\"height:525px; width:100%;\"></div>            <script type=\"text/javascript\">                require([\"plotly\"], function(Plotly) {                    window.PLOTLYENV=window.PLOTLYENV || {};                                    if (document.getElementById(\"a1c693a4-9e0e-4450-87a6-e1d8e45128e1\")) {                    Plotly.newPlot(                        \"a1c693a4-9e0e-4450-87a6-e1d8e45128e1\",                        [{\"mode\":\"lines+markers\",\"name\":\"p2112-distserve\",\"x\":[0.0625,0.125,0.25,0.375,0.5,0.625,0.75],\"y\":[76.0,72.0,66.0,53.0,46.0,35.0,26.0],\"type\":\"scatter\"},{\"mode\":\"lines+markers\",\"name\":\"p2114-distserve\",\"x\":[0.0625,0.125,0.25,0.375,0.5,0.625,0.75],\"y\":[74.66666666666667,69.33333333333334,57.333333333333336,44.66666666666666,30.666666666666664,13.333333333333334,7.333333333333333],\"type\":\"scatter\"},{\"mode\":\"lines+markers\",\"name\":\"p2121-distserve\",\"x\":[0.0625,0.125,0.25,0.375,0.5,0.625,0.75],\"y\":[76.0,72.0,66.0,53.0,46.0,35.0,26.0],\"type\":\"scatter\"},{\"mode\":\"lines+markers\",\"name\":\"p2122-distserve\",\"x\":[0.0625,0.125,0.25,0.375,0.5,0.625,0.75],\"y\":[74.66666666666667,69.33333333333334,57.333333333333336,44.66666666666666,30.666666666666664,13.333333333333334,7.333333333333333],\"type\":\"scatter\"},{\"mode\":\"lines+markers\",\"name\":\"p2141-distserve\",\"x\":[0.0625,0.125,0.25,0.375,0.5,0.625,0.75],\"y\":[74.66666666666667,69.33333333333334,57.333333333333336,44.66666666666666,30.666666666666664,12.666666666666668,7.333333333333333],\"type\":\"scatter\"},{\"mode\":\"lines+markers\",\"name\":\"p2212-distserve\",\"x\":[0.0625,0.125,0.25,0.375,0.5,0.625,0.75],\"y\":[76.66666666666667,74.66666666666667,69.33333333333334,62.66666666666667,54.0,47.333333333333336,35.333333333333336],\"type\":\"scatter\"},{\"mode\":\"lines+markers\",\"name\":\"p2214-distserve\",\"x\":[0.0625,0.125,0.25,0.375,0.5,0.625,0.75],\"y\":[77.0,73.5,63.5,54.50000000000001,46.0,35.0,23.5],\"type\":\"scatter\"},{\"mode\":\"lines+markers\",\"name\":\"p2221-distserve\",\"x\":[0.0625,0.125,0.25,0.375,0.5,0.625,0.75],\"y\":[76.66666666666667,74.66666666666667,69.33333333333334,62.66666666666667,54.0,46.66666666666666,33.33333333333333],\"type\":\"scatter\"},{\"mode\":\"lines+markers\",\"name\":\"p2222-distserve\",\"x\":[0.0625,0.125,0.25,0.375,0.5,0.625,0.75],\"y\":[77.0,73.5,63.5,54.50000000000001,46.0,35.0,23.5],\"type\":\"scatter\"},{\"mode\":\"lines+markers\",\"name\":\"p2241-distserve\",\"x\":[0.0625,0.125,0.25,0.375,0.5,0.625,0.75],\"y\":[77.0,73.5,63.5,51.0,33.5,18.0,10.5],\"type\":\"scatter\"},{\"mode\":\"lines+markers\",\"name\":\"p4112-distserve\",\"x\":[0.0625,0.125,0.25,0.375,0.5,0.625,0.75],\"y\":[99.33333333333331,99.33333333333331,95.33333333333334,88.0,81.33333333333333,77.33333333333333,63.33333333333333],\"type\":\"scatter\"},{\"mode\":\"lines+markers\",\"name\":\"p4114-distserve\",\"x\":[0.0625,0.125,0.25,0.375,0.5,0.625,0.75],\"y\":[99.5,98.5,93.5,84.0,77.0,65.0,51.5],\"type\":\"scatter\"},{\"mode\":\"lines+markers\",\"name\":\"p4121-distserve\",\"x\":[0.0625,0.125,0.25,0.375,0.5,0.625,0.75],\"y\":[99.33333333333331,99.33333333333331,95.33333333333334,88.0,81.33333333333333,77.33333333333333,63.33333333333333],\"type\":\"scatter\"},{\"mode\":\"lines+markers\",\"name\":\"p4122-distserve\",\"x\":[0.0625,0.125,0.25,0.375,0.5,0.625,0.75],\"y\":[99.5,98.5,93.5,84.0,77.0,65.0,51.5],\"type\":\"scatter\"},{\"mode\":\"lines+markers\",\"name\":\"p4141-distserve\",\"x\":[0.0625,0.125,0.25,0.375,0.5,0.625,0.75],\"y\":[99.5,98.5,93.5,84.0,77.0,65.0,51.5],\"type\":\"scatter\"},{\"mode\":\"lines+markers\",\"name\":\"p21-vllm\",\"x\":[0.0625,0.125,0.25,0.375,0.5,0.625,0.75],\"y\":[62.0,62.0,57.99999999999999,56.00000000000001,48.0,32.0,28.000000000000004],\"type\":\"scatter\"},{\"mode\":\"lines+markers\",\"name\":\"p22-vllm\",\"x\":[0.0625,0.125,0.25,0.375,0.5,0.625,0.75],\"y\":[66.0,60.0,26.0,10.0,7.000000000000001,2.0,2.0],\"type\":\"scatter\"},{\"mode\":\"lines+markers\",\"name\":\"p24-vllm\",\"x\":[0.0625,0.125,0.25,0.375,0.5,0.625,0.75],\"y\":[64.0,14.000000000000002,4.0,1.0,1.0,0.5,0.5],\"type\":\"scatter\"},{\"mode\":\"lines+markers\",\"name\":\"p41-vllm\",\"x\":[0.0625,0.125,0.25,0.375,0.5,0.625,0.75],\"y\":[84.0,80.0,70.0,61.0,47.0,36.0,25.0],\"type\":\"scatter\"},{\"mode\":\"lines+markers\",\"name\":\"p42-vllm\",\"x\":[0.0625,0.125,0.25,0.375,0.5,0.625,0.75],\"y\":[87.5,84.0,72.5,40.5,26.5,21.0,16.0],\"type\":\"scatter\"}],                        {\"template\":{\"data\":{\"histogram2dcontour\":[{\"type\":\"histogram2dcontour\",\"colorbar\":{\"outlinewidth\":0,\"ticks\":\"\"},\"colorscale\":[[0.0,\"#0d0887\"],[0.1111111111111111,\"#46039f\"],[0.2222222222222222,\"#7201a8\"],[0.3333333333333333,\"#9c179e\"],[0.4444444444444444,\"#bd3786\"],[0.5555555555555556,\"#d8576b\"],[0.6666666666666666,\"#ed7953\"],[0.7777777777777778,\"#fb9f3a\"],[0.8888888888888888,\"#fdca26\"],[1.0,\"#f0f921\"]]}],\"choropleth\":[{\"type\":\"choropleth\",\"colorbar\":{\"outlinewidth\":0,\"ticks\":\"\"}}],\"histogram2d\":[{\"type\":\"histogram2d\",\"colorbar\":{\"outlinewidth\":0,\"ticks\":\"\"},\"colorscale\":[[0.0,\"#0d0887\"],[0.1111111111111111,\"#46039f\"],[0.2222222222222222,\"#7201a8\"],[0.3333333333333333,\"#9c179e\"],[0.4444444444444444,\"#bd3786\"],[0.5555555555555556,\"#d8576b\"],[0.6666666666666666,\"#ed7953\"],[0.7777777777777778,\"#fb9f3a\"],[0.8888888888888888,\"#fdca26\"],[1.0,\"#f0f921\"]]}],\"heatmap\":[{\"type\":\"heatmap\",\"colorbar\":{\"outlinewidth\":0,\"ticks\":\"\"},\"colorscale\":[[0.0,\"#0d0887\"],[0.1111111111111111,\"#46039f\"],[0.2222222222222222,\"#7201a8\"],[0.3333333333333333,\"#9c179e\"],[0.4444444444444444,\"#bd3786\"],[0.5555555555555556,\"#d8576b\"],[0.6666666666666666,\"#ed7953\"],[0.7777777777777778,\"#fb9f3a\"],[0.8888888888888888,\"#fdca26\"],[1.0,\"#f0f921\"]]}],\"heatmapgl\":[{\"type\":\"heatmapgl\",\"colorbar\":{\"outlinewidth\":0,\"ticks\":\"\"},\"colorscale\":[[0.0,\"#0d0887\"],[0.1111111111111111,\"#46039f\"],[0.2222222222222222,\"#7201a8\"],[0.3333333333333333,\"#9c179e\"],[0.4444444444444444,\"#bd3786\"],[0.5555555555555556,\"#d8576b\"],[0.6666666666666666,\"#ed7953\"],[0.7777777777777778,\"#fb9f3a\"],[0.8888888888888888,\"#fdca26\"],[1.0,\"#f0f921\"]]}],\"contourcarpet\":[{\"type\":\"contourcarpet\",\"colorbar\":{\"outlinewidth\":0,\"ticks\":\"\"}}],\"contour\":[{\"type\":\"contour\",\"colorbar\":{\"outlinewidth\":0,\"ticks\":\"\"},\"colorscale\":[[0.0,\"#0d0887\"],[0.1111111111111111,\"#46039f\"],[0.2222222222222222,\"#7201a8\"],[0.3333333333333333,\"#9c179e\"],[0.4444444444444444,\"#bd3786\"],[0.5555555555555556,\"#d8576b\"],[0.6666666666666666,\"#ed7953\"],[0.7777777777777778,\"#fb9f3a\"],[0.8888888888888888,\"#fdca26\"],[1.0,\"#f0f921\"]]}],\"surface\":[{\"type\":\"surface\",\"colorbar\":{\"outlinewidth\":0,\"ticks\":\"\"},\"colorscale\":[[0.0,\"#0d0887\"],[0.1111111111111111,\"#46039f\"],[0.2222222222222222,\"#7201a8\"],[0.3333333333333333,\"#9c179e\"],[0.4444444444444444,\"#bd3786\"],[0.5555555555555556,\"#d8576b\"],[0.6666666666666666,\"#ed7953\"],[0.7777777777777778,\"#fb9f3a\"],[0.8888888888888888,\"#fdca26\"],[1.0,\"#f0f921\"]]}],\"mesh3d\":[{\"type\":\"mesh3d\",\"colorbar\":{\"outlinewidth\":0,\"ticks\":\"\"}}],\"scatter\":[{\"marker\":{\"line\":{\"color\":\"#283442\"}},\"type\":\"scatter\"}],\"parcoords\":[{\"type\":\"parcoords\",\"line\":{\"colorbar\":{\"outlinewidth\":0,\"ticks\":\"\"}}}],\"scatterpolargl\":[{\"type\":\"scatterpolargl\",\"marker\":{\"colorbar\":{\"outlinewidth\":0,\"ticks\":\"\"}}}],\"bar\":[{\"error_x\":{\"color\":\"#f2f5fa\"},\"error_y\":{\"color\":\"#f2f5fa\"},\"marker\":{\"line\":{\"color\":\"rgb(17,17,17)\",\"width\":0.5},\"pattern\":{\"fillmode\":\"overlay\",\"size\":10,\"solidity\":0.2}},\"type\":\"bar\"}],\"scattergeo\":[{\"type\":\"scattergeo\",\"marker\":{\"colorbar\":{\"outlinewidth\":0,\"ticks\":\"\"}}}],\"scatterpolar\":[{\"type\":\"scatterpolar\",\"marker\":{\"colorbar\":{\"outlinewidth\":0,\"ticks\":\"\"}}}],\"histogram\":[{\"marker\":{\"pattern\":{\"fillmode\":\"overlay\",\"size\":10,\"solidity\":0.2}},\"type\":\"histogram\"}],\"scattergl\":[{\"marker\":{\"line\":{\"color\":\"#283442\"}},\"type\":\"scattergl\"}],\"scatter3d\":[{\"type\":\"scatter3d\",\"line\":{\"colorbar\":{\"outlinewidth\":0,\"ticks\":\"\"}},\"marker\":{\"colorbar\":{\"outlinewidth\":0,\"ticks\":\"\"}}}],\"scattermapbox\":[{\"type\":\"scattermapbox\",\"marker\":{\"colorbar\":{\"outlinewidth\":0,\"ticks\":\"\"}}}],\"scatterternary\":[{\"type\":\"scatterternary\",\"marker\":{\"colorbar\":{\"outlinewidth\":0,\"ticks\":\"\"}}}],\"scattercarpet\":[{\"type\":\"scattercarpet\",\"marker\":{\"colorbar\":{\"outlinewidth\":0,\"ticks\":\"\"}}}],\"carpet\":[{\"aaxis\":{\"endlinecolor\":\"#A2B1C6\",\"gridcolor\":\"#506784\",\"linecolor\":\"#506784\",\"minorgridcolor\":\"#506784\",\"startlinecolor\":\"#A2B1C6\"},\"baxis\":{\"endlinecolor\":\"#A2B1C6\",\"gridcolor\":\"#506784\",\"linecolor\":\"#506784\",\"minorgridcolor\":\"#506784\",\"startlinecolor\":\"#A2B1C6\"},\"type\":\"carpet\"}],\"table\":[{\"cells\":{\"fill\":{\"color\":\"#506784\"},\"line\":{\"color\":\"rgb(17,17,17)\"}},\"header\":{\"fill\":{\"color\":\"#2a3f5f\"},\"line\":{\"color\":\"rgb(17,17,17)\"}},\"type\":\"table\"}],\"barpolar\":[{\"marker\":{\"line\":{\"color\":\"rgb(17,17,17)\",\"width\":0.5},\"pattern\":{\"fillmode\":\"overlay\",\"size\":10,\"solidity\":0.2}},\"type\":\"barpolar\"}],\"pie\":[{\"automargin\":true,\"type\":\"pie\"}]},\"layout\":{\"autotypenumbers\":\"strict\",\"colorway\":[\"#636efa\",\"#EF553B\",\"#00cc96\",\"#ab63fa\",\"#FFA15A\",\"#19d3f3\",\"#FF6692\",\"#B6E880\",\"#FF97FF\",\"#FECB52\"],\"font\":{\"color\":\"#f2f5fa\"},\"hovermode\":\"closest\",\"hoverlabel\":{\"align\":\"left\"},\"paper_bgcolor\":\"rgb(17,17,17)\",\"plot_bgcolor\":\"rgb(17,17,17)\",\"polar\":{\"bgcolor\":\"rgb(17,17,17)\",\"angularaxis\":{\"gridcolor\":\"#506784\",\"linecolor\":\"#506784\",\"ticks\":\"\"},\"radialaxis\":{\"gridcolor\":\"#506784\",\"linecolor\":\"#506784\",\"ticks\":\"\"}},\"ternary\":{\"bgcolor\":\"rgb(17,17,17)\",\"aaxis\":{\"gridcolor\":\"#506784\",\"linecolor\":\"#506784\",\"ticks\":\"\"},\"baxis\":{\"gridcolor\":\"#506784\",\"linecolor\":\"#506784\",\"ticks\":\"\"},\"caxis\":{\"gridcolor\":\"#506784\",\"linecolor\":\"#506784\",\"ticks\":\"\"}},\"coloraxis\":{\"colorbar\":{\"outlinewidth\":0,\"ticks\":\"\"}},\"colorscale\":{\"sequential\":[[0.0,\"#0d0887\"],[0.1111111111111111,\"#46039f\"],[0.2222222222222222,\"#7201a8\"],[0.3333333333333333,\"#9c179e\"],[0.4444444444444444,\"#bd3786\"],[0.5555555555555556,\"#d8576b\"],[0.6666666666666666,\"#ed7953\"],[0.7777777777777778,\"#fb9f3a\"],[0.8888888888888888,\"#fdca26\"],[1.0,\"#f0f921\"]],\"sequentialminus\":[[0.0,\"#0d0887\"],[0.1111111111111111,\"#46039f\"],[0.2222222222222222,\"#7201a8\"],[0.3333333333333333,\"#9c179e\"],[0.4444444444444444,\"#bd3786\"],[0.5555555555555556,\"#d8576b\"],[0.6666666666666666,\"#ed7953\"],[0.7777777777777778,\"#fb9f3a\"],[0.8888888888888888,\"#fdca26\"],[1.0,\"#f0f921\"]],\"diverging\":[[0,\"#8e0152\"],[0.1,\"#c51b7d\"],[0.2,\"#de77ae\"],[0.3,\"#f1b6da\"],[0.4,\"#fde0ef\"],[0.5,\"#f7f7f7\"],[0.6,\"#e6f5d0\"],[0.7,\"#b8e186\"],[0.8,\"#7fbc41\"],[0.9,\"#4d9221\"],[1,\"#276419\"]]},\"xaxis\":{\"gridcolor\":\"#283442\",\"linecolor\":\"#506784\",\"ticks\":\"\",\"title\":{\"standoff\":15},\"zerolinecolor\":\"#283442\",\"automargin\":true,\"zerolinewidth\":2},\"yaxis\":{\"gridcolor\":\"#283442\",\"linecolor\":\"#506784\",\"ticks\":\"\",\"title\":{\"standoff\":15},\"zerolinecolor\":\"#283442\",\"automargin\":true,\"zerolinewidth\":2},\"scene\":{\"xaxis\":{\"backgroundcolor\":\"rgb(17,17,17)\",\"gridcolor\":\"#506784\",\"linecolor\":\"#506784\",\"showbackground\":true,\"ticks\":\"\",\"zerolinecolor\":\"#C8D4E3\",\"gridwidth\":2},\"yaxis\":{\"backgroundcolor\":\"rgb(17,17,17)\",\"gridcolor\":\"#506784\",\"linecolor\":\"#506784\",\"showbackground\":true,\"ticks\":\"\",\"zerolinecolor\":\"#C8D4E3\",\"gridwidth\":2},\"zaxis\":{\"backgroundcolor\":\"rgb(17,17,17)\",\"gridcolor\":\"#506784\",\"linecolor\":\"#506784\",\"showbackground\":true,\"ticks\":\"\",\"zerolinecolor\":\"#C8D4E3\",\"gridwidth\":2}},\"shapedefaults\":{\"line\":{\"color\":\"#f2f5fa\"}},\"annotationdefaults\":{\"arrowcolor\":\"#f2f5fa\",\"arrowhead\":0,\"arrowwidth\":1},\"geo\":{\"bgcolor\":\"rgb(17,17,17)\",\"landcolor\":\"rgb(17,17,17)\",\"subunitcolor\":\"#506784\",\"showland\":true,\"showlakes\":true,\"lakecolor\":\"rgb(17,17,17)\"},\"title\":{\"x\":0.05},\"updatemenudefaults\":{\"bgcolor\":\"#506784\",\"borderwidth\":0},\"sliderdefaults\":{\"bgcolor\":\"#C8D4E3\",\"borderwidth\":1,\"bordercolor\":\"rgb(17,17,17)\",\"tickwidth\":0},\"mapbox\":{\"style\":\"dark\"}}},\"title\":{\"text\":\"Figure 11: Abalation Study (DistServe and vLLM)\"},\"xaxis\":{\"title\":{\"text\":\"Per-GPU Rate (tokens\\u002fs)\"}},\"yaxis\":{\"title\":{\"text\":\"Attainment (%)\"}},\"legend\":{\"title\":{\"text\":\"Configuration\"}}},                        {\"responsive\": true}                    ).then(function(){\n                            \nvar gd = document.getElementById('a1c693a4-9e0e-4450-87a6-e1d8e45128e1');\nvar x = new MutationObserver(function (mutations, observer) {{\n        var display = window.getComputedStyle(gd).display;\n        if (!display || display === 'none') {{\n            console.log([gd, 'removed!']);\n            Plotly.purge(gd);\n            observer.disconnect();\n        }}\n}});\n\n// Listen for the removal of the full notebook cells\nvar notebookContainer = gd.closest('#notebook-container');\nif (notebookContainer) {{\n    x.observe(notebookContainer, {childList: true});\n}}\n\n// Listen for the clearing of the current output cell\nvar outputEl = gd.closest('.output');\nif (outputEl) {{\n    x.observe(outputEl, {childList: true});\n}}\n\n                        })                };                });            </script>        </div>"
     },
     "metadata": {},
     "output_type": "display_data"
    }
   ],
   "source": [
    "if use_plotly:\n",
    "    import plotly.graph_objects as go\n",
    "    \n",
    "    fig = go.Figure()\n",
    "    \n",
    "    # Plot the `figure_11_distserve_high`for some configurations\n",
    "    # tp_prefill = 1, pp_prefill = 1, tp_decode = 1, pp_decode = 1\n",
    "    # x-axis: rate\n",
    "    # y-axis: attainment\n",
    "    # find all combination of tp_prefill, pp_prefill, tp_decode, pp_decode\n",
    "    \n",
    "    configs = figure_11_distserve_high[['tp_prefill', 'pp_prefill', 'tp_decode', 'pp_decode']].drop_duplicates()\n",
    "    df = figure_11_distserve_high\n",
    "    \n",
    "    for tp_prefill, pp_prefill, tp_decode, pp_decode in configs.values:\n",
    "        config_df = df[\n",
    "            (df['tp_prefill'] == tp_prefill) & (df['pp_prefill'] == pp_prefill) &\n",
    "            (df['tp_decode'] == tp_decode) & (df['pp_decode'] == pp_decode)\n",
    "            ]\n",
    "        # plot this inside a plotly plot\n",
    "        fig.add_trace(go.Scatter(\n",
    "            x=config_df['per_gpu_rate'], y=config_df['attainment'],\n",
    "            mode='lines+markers', name=f\"p{tp_prefill}{pp_prefill}{tp_decode}{pp_decode}-distserve\"\n",
    "        ))\n",
    "    \n",
    "    # Plot the `figure_11_vllm_high`for some configurations\n",
    "    # tp_prefill = 1, pp_prefill = 1\n",
    "    # x-axis: rate\n",
    "    # y-axis: attainment\n",
    "    # find all combination of tp_prefill, pp_prefill\n",
    "    \n",
    "    configs = figure_11_vllm_high[['tp_prefill', 'pp_prefill']].drop_duplicates()\n",
    "    df = figure_11_vllm_high\n",
    "    \n",
    "    for tp_prefill, pp_prefill in configs.values:\n",
    "        config_df = df[\n",
    "            (df['tp_prefill'] == tp_prefill) & (df['pp_prefill'] == pp_prefill)\n",
    "            ]\n",
    "        # plot this inside a plotly plot\n",
    "        fig.add_trace(go.Scatter(\n",
    "            x=config_df['per_gpu_rate'], y=config_df['attainment'],\n",
    "            mode='lines+markers', name=f\"p{tp_prefill}{pp_prefill}-vllm\"\n",
    "        ))\n",
    "    \n",
    "    # fig add title\n",
    "    fig.update_layout(\n",
    "        title=\"Figure 11: Abalation Study (DistServe and vLLM)\",\n",
    "        xaxis_title=\"Per-GPU Rate (tokens/s)\",\n",
    "        yaxis_title=\"Attainment (%)\",\n",
    "        legend_title=\"Configuration\"\n",
    "    )\n",
    "    fig.write_html(\"visual/figure_11.full.html\")\n",
    "    if is_notebook_mode:\n",
    "        fig.show()"
   ],
   "metadata": {
    "collapsed": false,
    "ExecuteTime": {
     "end_time": "2024-04-25T03:06:27.243258Z",
     "start_time": "2024-04-25T03:06:27.128007Z"
    }
   },
   "id": "97da25d4cb5d76ff",
   "execution_count": 57
  },
  {
   "cell_type": "code",
   "outputs": [],
   "source": [
    "# Find the best config that has the highest goodput@90 and attainment\n",
    "def get_top_config(df):\n",
    "    max_per_gpu_rate = max(df['per_gpu_rate'].unique())\n",
    "    df2 = df[df['per_gpu_rate'] == max_per_gpu_rate]\n",
    "    df3 = df2.sort_values(by=['goodput@90', 'attainment'], ascending=False, )\n",
    "    r = df3.iloc[0][[\n",
    "        \"tp_prefill\",\n",
    "        \"pp_prefill\",\n",
    "        \"tp_decode\",\n",
    "        \"pp_decode\",\n",
    "    ]]\n",
    "    return r\n",
    "\n",
    "\n",
    "def add_plotly_trace(fig, df: 'DataFrame', trace: str):\n",
    "    tp_prefill, pp_prefill, tp_decode, pp_decode = get_top_config(df)\n",
    "    config_df = df[\n",
    "        (df['tp_prefill'] == tp_prefill) & (df['pp_prefill'] == pp_prefill) &\n",
    "        (df['tp_decode'] == tp_decode) & (df['pp_decode'] == pp_decode)\n",
    "        ]\n",
    "    if 'vllm' in trace:\n",
    "        name = f\"{trace}-p{tp_prefill}{pp_prefill}\"\n",
    "        pass\n",
    "    else:\n",
    "        name = f\"{trace}-p{tp_prefill}{pp_prefill}{tp_decode}{pp_decode}\"\n",
    "        pass\n",
    "\n",
    "    fig.add_trace(go.Scatter(\n",
    "        x=config_df['per_gpu_rate'], y=config_df['attainment'],\n",
    "        mode='lines+markers', name=name\n",
    "    ))\n",
    "    return"
   ],
   "metadata": {
    "collapsed": false,
    "ExecuteTime": {
     "end_time": "2024-04-25T03:06:27.243866Z",
     "start_time": "2024-04-25T03:06:27.143618Z"
    }
   },
   "id": "c48c46744186936b",
   "execution_count": 58
  },
  {
   "cell_type": "code",
   "outputs": [
    {
     "data": {
      "application/vnd.plotly.v1+json": {
       "data": [
        {
         "mode": "lines+markers",
         "name": "disthigh-p4112",
         "x": [
          0.0625,
          0.125,
          0.25,
          0.375,
          0.5,
          0.625,
          0.75
         ],
         "y": [
          99.33333333333331,
          99.33333333333331,
          95.33333333333334,
          88.0,
          81.33333333333333,
          77.33333333333333,
          63.33333333333333
         ],
         "type": "scatter"
        },
        {
         "mode": "lines+markers",
         "name": "distlow-p4112",
         "x": [
          0.0625,
          0.125,
          0.25,
          0.375,
          0.5,
          0.625,
          0.75
         ],
         "y": [
          99.33333333333331,
          99.33333333333331,
          95.33333333333334,
          88.0,
          81.33333333333333,
          77.33333333333333,
          63.33333333333333
         ],
         "type": "scatter"
        },
        {
         "mode": "lines+markers",
         "name": "vllm++-p21",
         "x": [
          0.0625,
          0.125,
          0.25,
          0.375,
          0.5,
          0.625,
          0.75
         ],
         "y": [
          62.0,
          62.0,
          57.99999999999999,
          56.00000000000001,
          48.0,
          32.0,
          28.000000000000004
         ],
         "type": "scatter"
        },
        {
         "mode": "lines+markers",
         "name": "vllm-p21",
         "x": [
          0.0625,
          0.125,
          0.25,
          0.375,
          0.5,
          0.625,
          0.75
         ],
         "y": [
          62.0,
          62.0,
          57.99999999999999,
          56.00000000000001,
          48.0,
          32.0,
          28.000000000000004
         ],
         "type": "scatter"
        }
       ],
       "layout": {
        "template": {
         "data": {
          "histogram2dcontour": [
           {
            "type": "histogram2dcontour",
            "colorbar": {
             "outlinewidth": 0,
             "ticks": ""
            },
            "colorscale": [
             [
              0.0,
              "#0d0887"
             ],
             [
              0.1111111111111111,
              "#46039f"
             ],
             [
              0.2222222222222222,
              "#7201a8"
             ],
             [
              0.3333333333333333,
              "#9c179e"
             ],
             [
              0.4444444444444444,
              "#bd3786"
             ],
             [
              0.5555555555555556,
              "#d8576b"
             ],
             [
              0.6666666666666666,
              "#ed7953"
             ],
             [
              0.7777777777777778,
              "#fb9f3a"
             ],
             [
              0.8888888888888888,
              "#fdca26"
             ],
             [
              1.0,
              "#f0f921"
             ]
            ]
           }
          ],
          "choropleth": [
           {
            "type": "choropleth",
            "colorbar": {
             "outlinewidth": 0,
             "ticks": ""
            }
           }
          ],
          "histogram2d": [
           {
            "type": "histogram2d",
            "colorbar": {
             "outlinewidth": 0,
             "ticks": ""
            },
            "colorscale": [
             [
              0.0,
              "#0d0887"
             ],
             [
              0.1111111111111111,
              "#46039f"
             ],
             [
              0.2222222222222222,
              "#7201a8"
             ],
             [
              0.3333333333333333,
              "#9c179e"
             ],
             [
              0.4444444444444444,
              "#bd3786"
             ],
             [
              0.5555555555555556,
              "#d8576b"
             ],
             [
              0.6666666666666666,
              "#ed7953"
             ],
             [
              0.7777777777777778,
              "#fb9f3a"
             ],
             [
              0.8888888888888888,
              "#fdca26"
             ],
             [
              1.0,
              "#f0f921"
             ]
            ]
           }
          ],
          "heatmap": [
           {
            "type": "heatmap",
            "colorbar": {
             "outlinewidth": 0,
             "ticks": ""
            },
            "colorscale": [
             [
              0.0,
              "#0d0887"
             ],
             [
              0.1111111111111111,
              "#46039f"
             ],
             [
              0.2222222222222222,
              "#7201a8"
             ],
             [
              0.3333333333333333,
              "#9c179e"
             ],
             [
              0.4444444444444444,
              "#bd3786"
             ],
             [
              0.5555555555555556,
              "#d8576b"
             ],
             [
              0.6666666666666666,
              "#ed7953"
             ],
             [
              0.7777777777777778,
              "#fb9f3a"
             ],
             [
              0.8888888888888888,
              "#fdca26"
             ],
             [
              1.0,
              "#f0f921"
             ]
            ]
           }
          ],
          "heatmapgl": [
           {
            "type": "heatmapgl",
            "colorbar": {
             "outlinewidth": 0,
             "ticks": ""
            },
            "colorscale": [
             [
              0.0,
              "#0d0887"
             ],
             [
              0.1111111111111111,
              "#46039f"
             ],
             [
              0.2222222222222222,
              "#7201a8"
             ],
             [
              0.3333333333333333,
              "#9c179e"
             ],
             [
              0.4444444444444444,
              "#bd3786"
             ],
             [
              0.5555555555555556,
              "#d8576b"
             ],
             [
              0.6666666666666666,
              "#ed7953"
             ],
             [
              0.7777777777777778,
              "#fb9f3a"
             ],
             [
              0.8888888888888888,
              "#fdca26"
             ],
             [
              1.0,
              "#f0f921"
             ]
            ]
           }
          ],
          "contourcarpet": [
           {
            "type": "contourcarpet",
            "colorbar": {
             "outlinewidth": 0,
             "ticks": ""
            }
           }
          ],
          "contour": [
           {
            "type": "contour",
            "colorbar": {
             "outlinewidth": 0,
             "ticks": ""
            },
            "colorscale": [
             [
              0.0,
              "#0d0887"
             ],
             [
              0.1111111111111111,
              "#46039f"
             ],
             [
              0.2222222222222222,
              "#7201a8"
             ],
             [
              0.3333333333333333,
              "#9c179e"
             ],
             [
              0.4444444444444444,
              "#bd3786"
             ],
             [
              0.5555555555555556,
              "#d8576b"
             ],
             [
              0.6666666666666666,
              "#ed7953"
             ],
             [
              0.7777777777777778,
              "#fb9f3a"
             ],
             [
              0.8888888888888888,
              "#fdca26"
             ],
             [
              1.0,
              "#f0f921"
             ]
            ]
           }
          ],
          "surface": [
           {
            "type": "surface",
            "colorbar": {
             "outlinewidth": 0,
             "ticks": ""
            },
            "colorscale": [
             [
              0.0,
              "#0d0887"
             ],
             [
              0.1111111111111111,
              "#46039f"
             ],
             [
              0.2222222222222222,
              "#7201a8"
             ],
             [
              0.3333333333333333,
              "#9c179e"
             ],
             [
              0.4444444444444444,
              "#bd3786"
             ],
             [
              0.5555555555555556,
              "#d8576b"
             ],
             [
              0.6666666666666666,
              "#ed7953"
             ],
             [
              0.7777777777777778,
              "#fb9f3a"
             ],
             [
              0.8888888888888888,
              "#fdca26"
             ],
             [
              1.0,
              "#f0f921"
             ]
            ]
           }
          ],
          "mesh3d": [
           {
            "type": "mesh3d",
            "colorbar": {
             "outlinewidth": 0,
             "ticks": ""
            }
           }
          ],
          "scatter": [
           {
            "marker": {
             "line": {
              "color": "#283442"
             }
            },
            "type": "scatter"
           }
          ],
          "parcoords": [
           {
            "type": "parcoords",
            "line": {
             "colorbar": {
              "outlinewidth": 0,
              "ticks": ""
             }
            }
           }
          ],
          "scatterpolargl": [
           {
            "type": "scatterpolargl",
            "marker": {
             "colorbar": {
              "outlinewidth": 0,
              "ticks": ""
             }
            }
           }
          ],
          "bar": [
           {
            "error_x": {
             "color": "#f2f5fa"
            },
            "error_y": {
             "color": "#f2f5fa"
            },
            "marker": {
             "line": {
              "color": "rgb(17,17,17)",
              "width": 0.5
             },
             "pattern": {
              "fillmode": "overlay",
              "size": 10,
              "solidity": 0.2
             }
            },
            "type": "bar"
           }
          ],
          "scattergeo": [
           {
            "type": "scattergeo",
            "marker": {
             "colorbar": {
              "outlinewidth": 0,
              "ticks": ""
             }
            }
           }
          ],
          "scatterpolar": [
           {
            "type": "scatterpolar",
            "marker": {
             "colorbar": {
              "outlinewidth": 0,
              "ticks": ""
             }
            }
           }
          ],
          "histogram": [
           {
            "marker": {
             "pattern": {
              "fillmode": "overlay",
              "size": 10,
              "solidity": 0.2
             }
            },
            "type": "histogram"
           }
          ],
          "scattergl": [
           {
            "marker": {
             "line": {
              "color": "#283442"
             }
            },
            "type": "scattergl"
           }
          ],
          "scatter3d": [
           {
            "type": "scatter3d",
            "line": {
             "colorbar": {
              "outlinewidth": 0,
              "ticks": ""
             }
            },
            "marker": {
             "colorbar": {
              "outlinewidth": 0,
              "ticks": ""
             }
            }
           }
          ],
          "scattermapbox": [
           {
            "type": "scattermapbox",
            "marker": {
             "colorbar": {
              "outlinewidth": 0,
              "ticks": ""
             }
            }
           }
          ],
          "scatterternary": [
           {
            "type": "scatterternary",
            "marker": {
             "colorbar": {
              "outlinewidth": 0,
              "ticks": ""
             }
            }
           }
          ],
          "scattercarpet": [
           {
            "type": "scattercarpet",
            "marker": {
             "colorbar": {
              "outlinewidth": 0,
              "ticks": ""
             }
            }
           }
          ],
          "carpet": [
           {
            "aaxis": {
             "endlinecolor": "#A2B1C6",
             "gridcolor": "#506784",
             "linecolor": "#506784",
             "minorgridcolor": "#506784",
             "startlinecolor": "#A2B1C6"
            },
            "baxis": {
             "endlinecolor": "#A2B1C6",
             "gridcolor": "#506784",
             "linecolor": "#506784",
             "minorgridcolor": "#506784",
             "startlinecolor": "#A2B1C6"
            },
            "type": "carpet"
           }
          ],
          "table": [
           {
            "cells": {
             "fill": {
              "color": "#506784"
             },
             "line": {
              "color": "rgb(17,17,17)"
             }
            },
            "header": {
             "fill": {
              "color": "#2a3f5f"
             },
             "line": {
              "color": "rgb(17,17,17)"
             }
            },
            "type": "table"
           }
          ],
          "barpolar": [
           {
            "marker": {
             "line": {
              "color": "rgb(17,17,17)",
              "width": 0.5
             },
             "pattern": {
              "fillmode": "overlay",
              "size": 10,
              "solidity": 0.2
             }
            },
            "type": "barpolar"
           }
          ],
          "pie": [
           {
            "automargin": true,
            "type": "pie"
           }
          ]
         },
         "layout": {
          "autotypenumbers": "strict",
          "colorway": [
           "#636efa",
           "#EF553B",
           "#00cc96",
           "#ab63fa",
           "#FFA15A",
           "#19d3f3",
           "#FF6692",
           "#B6E880",
           "#FF97FF",
           "#FECB52"
          ],
          "font": {
           "color": "#f2f5fa"
          },
          "hovermode": "closest",
          "hoverlabel": {
           "align": "left"
          },
          "paper_bgcolor": "rgb(17,17,17)",
          "plot_bgcolor": "rgb(17,17,17)",
          "polar": {
           "bgcolor": "rgb(17,17,17)",
           "angularaxis": {
            "gridcolor": "#506784",
            "linecolor": "#506784",
            "ticks": ""
           },
           "radialaxis": {
            "gridcolor": "#506784",
            "linecolor": "#506784",
            "ticks": ""
           }
          },
          "ternary": {
           "bgcolor": "rgb(17,17,17)",
           "aaxis": {
            "gridcolor": "#506784",
            "linecolor": "#506784",
            "ticks": ""
           },
           "baxis": {
            "gridcolor": "#506784",
            "linecolor": "#506784",
            "ticks": ""
           },
           "caxis": {
            "gridcolor": "#506784",
            "linecolor": "#506784",
            "ticks": ""
           }
          },
          "coloraxis": {
           "colorbar": {
            "outlinewidth": 0,
            "ticks": ""
           }
          },
          "colorscale": {
           "sequential": [
            [
             0.0,
             "#0d0887"
            ],
            [
             0.1111111111111111,
             "#46039f"
            ],
            [
             0.2222222222222222,
             "#7201a8"
            ],
            [
             0.3333333333333333,
             "#9c179e"
            ],
            [
             0.4444444444444444,
             "#bd3786"
            ],
            [
             0.5555555555555556,
             "#d8576b"
            ],
            [
             0.6666666666666666,
             "#ed7953"
            ],
            [
             0.7777777777777778,
             "#fb9f3a"
            ],
            [
             0.8888888888888888,
             "#fdca26"
            ],
            [
             1.0,
             "#f0f921"
            ]
           ],
           "sequentialminus": [
            [
             0.0,
             "#0d0887"
            ],
            [
             0.1111111111111111,
             "#46039f"
            ],
            [
             0.2222222222222222,
             "#7201a8"
            ],
            [
             0.3333333333333333,
             "#9c179e"
            ],
            [
             0.4444444444444444,
             "#bd3786"
            ],
            [
             0.5555555555555556,
             "#d8576b"
            ],
            [
             0.6666666666666666,
             "#ed7953"
            ],
            [
             0.7777777777777778,
             "#fb9f3a"
            ],
            [
             0.8888888888888888,
             "#fdca26"
            ],
            [
             1.0,
             "#f0f921"
            ]
           ],
           "diverging": [
            [
             0,
             "#8e0152"
            ],
            [
             0.1,
             "#c51b7d"
            ],
            [
             0.2,
             "#de77ae"
            ],
            [
             0.3,
             "#f1b6da"
            ],
            [
             0.4,
             "#fde0ef"
            ],
            [
             0.5,
             "#f7f7f7"
            ],
            [
             0.6,
             "#e6f5d0"
            ],
            [
             0.7,
             "#b8e186"
            ],
            [
             0.8,
             "#7fbc41"
            ],
            [
             0.9,
             "#4d9221"
            ],
            [
             1,
             "#276419"
            ]
           ]
          },
          "xaxis": {
           "gridcolor": "#283442",
           "linecolor": "#506784",
           "ticks": "",
           "title": {
            "standoff": 15
           },
           "zerolinecolor": "#283442",
           "automargin": true,
           "zerolinewidth": 2
          },
          "yaxis": {
           "gridcolor": "#283442",
           "linecolor": "#506784",
           "ticks": "",
           "title": {
            "standoff": 15
           },
           "zerolinecolor": "#283442",
           "automargin": true,
           "zerolinewidth": 2
          },
          "scene": {
           "xaxis": {
            "backgroundcolor": "rgb(17,17,17)",
            "gridcolor": "#506784",
            "linecolor": "#506784",
            "showbackground": true,
            "ticks": "",
            "zerolinecolor": "#C8D4E3",
            "gridwidth": 2
           },
           "yaxis": {
            "backgroundcolor": "rgb(17,17,17)",
            "gridcolor": "#506784",
            "linecolor": "#506784",
            "showbackground": true,
            "ticks": "",
            "zerolinecolor": "#C8D4E3",
            "gridwidth": 2
           },
           "zaxis": {
            "backgroundcolor": "rgb(17,17,17)",
            "gridcolor": "#506784",
            "linecolor": "#506784",
            "showbackground": true,
            "ticks": "",
            "zerolinecolor": "#C8D4E3",
            "gridwidth": 2
           }
          },
          "shapedefaults": {
           "line": {
            "color": "#f2f5fa"
           }
          },
          "annotationdefaults": {
           "arrowcolor": "#f2f5fa",
           "arrowhead": 0,
           "arrowwidth": 1
          },
          "geo": {
           "bgcolor": "rgb(17,17,17)",
           "landcolor": "rgb(17,17,17)",
           "subunitcolor": "#506784",
           "showland": true,
           "showlakes": true,
           "lakecolor": "rgb(17,17,17)"
          },
          "title": {
           "x": 0.05
          },
          "updatemenudefaults": {
           "bgcolor": "#506784",
           "borderwidth": 0
          },
          "sliderdefaults": {
           "bgcolor": "#C8D4E3",
           "borderwidth": 1,
           "bordercolor": "rgb(17,17,17)",
           "tickwidth": 0
          },
          "mapbox": {
           "style": "dark"
          }
         }
        },
        "title": {
         "text": "Figure 11: Abalation Study (DistServe and vLLM)<br><sup>The figure shows that DistHigh > DistLow > vLLM++ > vLLM (vLLM++ and vLLM overlaps) </sup>"
        },
        "xaxis": {
         "title": {
          "text": "Per-GPU Rate (tokens/s)"
         }
        },
        "yaxis": {
         "title": {
          "text": "Attainment (%)"
         }
        },
        "legend": {
         "title": {
          "text": "Configuration"
         }
        }
       },
       "config": {
        "plotlyServerURL": "https://plot.ly"
       }
      },
      "text/html": "<div>                            <div id=\"df7548fc-a77e-43a9-8142-3765a1a53685\" class=\"plotly-graph-div\" style=\"height:525px; width:100%;\"></div>            <script type=\"text/javascript\">                require([\"plotly\"], function(Plotly) {                    window.PLOTLYENV=window.PLOTLYENV || {};                                    if (document.getElementById(\"df7548fc-a77e-43a9-8142-3765a1a53685\")) {                    Plotly.newPlot(                        \"df7548fc-a77e-43a9-8142-3765a1a53685\",                        [{\"mode\":\"lines+markers\",\"name\":\"disthigh-p4112\",\"x\":[0.0625,0.125,0.25,0.375,0.5,0.625,0.75],\"y\":[99.33333333333331,99.33333333333331,95.33333333333334,88.0,81.33333333333333,77.33333333333333,63.33333333333333],\"type\":\"scatter\"},{\"mode\":\"lines+markers\",\"name\":\"distlow-p4112\",\"x\":[0.0625,0.125,0.25,0.375,0.5,0.625,0.75],\"y\":[99.33333333333331,99.33333333333331,95.33333333333334,88.0,81.33333333333333,77.33333333333333,63.33333333333333],\"type\":\"scatter\"},{\"mode\":\"lines+markers\",\"name\":\"vllm++-p21\",\"x\":[0.0625,0.125,0.25,0.375,0.5,0.625,0.75],\"y\":[62.0,62.0,57.99999999999999,56.00000000000001,48.0,32.0,28.000000000000004],\"type\":\"scatter\"},{\"mode\":\"lines+markers\",\"name\":\"vllm-p21\",\"x\":[0.0625,0.125,0.25,0.375,0.5,0.625,0.75],\"y\":[62.0,62.0,57.99999999999999,56.00000000000001,48.0,32.0,28.000000000000004],\"type\":\"scatter\"}],                        {\"template\":{\"data\":{\"histogram2dcontour\":[{\"type\":\"histogram2dcontour\",\"colorbar\":{\"outlinewidth\":0,\"ticks\":\"\"},\"colorscale\":[[0.0,\"#0d0887\"],[0.1111111111111111,\"#46039f\"],[0.2222222222222222,\"#7201a8\"],[0.3333333333333333,\"#9c179e\"],[0.4444444444444444,\"#bd3786\"],[0.5555555555555556,\"#d8576b\"],[0.6666666666666666,\"#ed7953\"],[0.7777777777777778,\"#fb9f3a\"],[0.8888888888888888,\"#fdca26\"],[1.0,\"#f0f921\"]]}],\"choropleth\":[{\"type\":\"choropleth\",\"colorbar\":{\"outlinewidth\":0,\"ticks\":\"\"}}],\"histogram2d\":[{\"type\":\"histogram2d\",\"colorbar\":{\"outlinewidth\":0,\"ticks\":\"\"},\"colorscale\":[[0.0,\"#0d0887\"],[0.1111111111111111,\"#46039f\"],[0.2222222222222222,\"#7201a8\"],[0.3333333333333333,\"#9c179e\"],[0.4444444444444444,\"#bd3786\"],[0.5555555555555556,\"#d8576b\"],[0.6666666666666666,\"#ed7953\"],[0.7777777777777778,\"#fb9f3a\"],[0.8888888888888888,\"#fdca26\"],[1.0,\"#f0f921\"]]}],\"heatmap\":[{\"type\":\"heatmap\",\"colorbar\":{\"outlinewidth\":0,\"ticks\":\"\"},\"colorscale\":[[0.0,\"#0d0887\"],[0.1111111111111111,\"#46039f\"],[0.2222222222222222,\"#7201a8\"],[0.3333333333333333,\"#9c179e\"],[0.4444444444444444,\"#bd3786\"],[0.5555555555555556,\"#d8576b\"],[0.6666666666666666,\"#ed7953\"],[0.7777777777777778,\"#fb9f3a\"],[0.8888888888888888,\"#fdca26\"],[1.0,\"#f0f921\"]]}],\"heatmapgl\":[{\"type\":\"heatmapgl\",\"colorbar\":{\"outlinewidth\":0,\"ticks\":\"\"},\"colorscale\":[[0.0,\"#0d0887\"],[0.1111111111111111,\"#46039f\"],[0.2222222222222222,\"#7201a8\"],[0.3333333333333333,\"#9c179e\"],[0.4444444444444444,\"#bd3786\"],[0.5555555555555556,\"#d8576b\"],[0.6666666666666666,\"#ed7953\"],[0.7777777777777778,\"#fb9f3a\"],[0.8888888888888888,\"#fdca26\"],[1.0,\"#f0f921\"]]}],\"contourcarpet\":[{\"type\":\"contourcarpet\",\"colorbar\":{\"outlinewidth\":0,\"ticks\":\"\"}}],\"contour\":[{\"type\":\"contour\",\"colorbar\":{\"outlinewidth\":0,\"ticks\":\"\"},\"colorscale\":[[0.0,\"#0d0887\"],[0.1111111111111111,\"#46039f\"],[0.2222222222222222,\"#7201a8\"],[0.3333333333333333,\"#9c179e\"],[0.4444444444444444,\"#bd3786\"],[0.5555555555555556,\"#d8576b\"],[0.6666666666666666,\"#ed7953\"],[0.7777777777777778,\"#fb9f3a\"],[0.8888888888888888,\"#fdca26\"],[1.0,\"#f0f921\"]]}],\"surface\":[{\"type\":\"surface\",\"colorbar\":{\"outlinewidth\":0,\"ticks\":\"\"},\"colorscale\":[[0.0,\"#0d0887\"],[0.1111111111111111,\"#46039f\"],[0.2222222222222222,\"#7201a8\"],[0.3333333333333333,\"#9c179e\"],[0.4444444444444444,\"#bd3786\"],[0.5555555555555556,\"#d8576b\"],[0.6666666666666666,\"#ed7953\"],[0.7777777777777778,\"#fb9f3a\"],[0.8888888888888888,\"#fdca26\"],[1.0,\"#f0f921\"]]}],\"mesh3d\":[{\"type\":\"mesh3d\",\"colorbar\":{\"outlinewidth\":0,\"ticks\":\"\"}}],\"scatter\":[{\"marker\":{\"line\":{\"color\":\"#283442\"}},\"type\":\"scatter\"}],\"parcoords\":[{\"type\":\"parcoords\",\"line\":{\"colorbar\":{\"outlinewidth\":0,\"ticks\":\"\"}}}],\"scatterpolargl\":[{\"type\":\"scatterpolargl\",\"marker\":{\"colorbar\":{\"outlinewidth\":0,\"ticks\":\"\"}}}],\"bar\":[{\"error_x\":{\"color\":\"#f2f5fa\"},\"error_y\":{\"color\":\"#f2f5fa\"},\"marker\":{\"line\":{\"color\":\"rgb(17,17,17)\",\"width\":0.5},\"pattern\":{\"fillmode\":\"overlay\",\"size\":10,\"solidity\":0.2}},\"type\":\"bar\"}],\"scattergeo\":[{\"type\":\"scattergeo\",\"marker\":{\"colorbar\":{\"outlinewidth\":0,\"ticks\":\"\"}}}],\"scatterpolar\":[{\"type\":\"scatterpolar\",\"marker\":{\"colorbar\":{\"outlinewidth\":0,\"ticks\":\"\"}}}],\"histogram\":[{\"marker\":{\"pattern\":{\"fillmode\":\"overlay\",\"size\":10,\"solidity\":0.2}},\"type\":\"histogram\"}],\"scattergl\":[{\"marker\":{\"line\":{\"color\":\"#283442\"}},\"type\":\"scattergl\"}],\"scatter3d\":[{\"type\":\"scatter3d\",\"line\":{\"colorbar\":{\"outlinewidth\":0,\"ticks\":\"\"}},\"marker\":{\"colorbar\":{\"outlinewidth\":0,\"ticks\":\"\"}}}],\"scattermapbox\":[{\"type\":\"scattermapbox\",\"marker\":{\"colorbar\":{\"outlinewidth\":0,\"ticks\":\"\"}}}],\"scatterternary\":[{\"type\":\"scatterternary\",\"marker\":{\"colorbar\":{\"outlinewidth\":0,\"ticks\":\"\"}}}],\"scattercarpet\":[{\"type\":\"scattercarpet\",\"marker\":{\"colorbar\":{\"outlinewidth\":0,\"ticks\":\"\"}}}],\"carpet\":[{\"aaxis\":{\"endlinecolor\":\"#A2B1C6\",\"gridcolor\":\"#506784\",\"linecolor\":\"#506784\",\"minorgridcolor\":\"#506784\",\"startlinecolor\":\"#A2B1C6\"},\"baxis\":{\"endlinecolor\":\"#A2B1C6\",\"gridcolor\":\"#506784\",\"linecolor\":\"#506784\",\"minorgridcolor\":\"#506784\",\"startlinecolor\":\"#A2B1C6\"},\"type\":\"carpet\"}],\"table\":[{\"cells\":{\"fill\":{\"color\":\"#506784\"},\"line\":{\"color\":\"rgb(17,17,17)\"}},\"header\":{\"fill\":{\"color\":\"#2a3f5f\"},\"line\":{\"color\":\"rgb(17,17,17)\"}},\"type\":\"table\"}],\"barpolar\":[{\"marker\":{\"line\":{\"color\":\"rgb(17,17,17)\",\"width\":0.5},\"pattern\":{\"fillmode\":\"overlay\",\"size\":10,\"solidity\":0.2}},\"type\":\"barpolar\"}],\"pie\":[{\"automargin\":true,\"type\":\"pie\"}]},\"layout\":{\"autotypenumbers\":\"strict\",\"colorway\":[\"#636efa\",\"#EF553B\",\"#00cc96\",\"#ab63fa\",\"#FFA15A\",\"#19d3f3\",\"#FF6692\",\"#B6E880\",\"#FF97FF\",\"#FECB52\"],\"font\":{\"color\":\"#f2f5fa\"},\"hovermode\":\"closest\",\"hoverlabel\":{\"align\":\"left\"},\"paper_bgcolor\":\"rgb(17,17,17)\",\"plot_bgcolor\":\"rgb(17,17,17)\",\"polar\":{\"bgcolor\":\"rgb(17,17,17)\",\"angularaxis\":{\"gridcolor\":\"#506784\",\"linecolor\":\"#506784\",\"ticks\":\"\"},\"radialaxis\":{\"gridcolor\":\"#506784\",\"linecolor\":\"#506784\",\"ticks\":\"\"}},\"ternary\":{\"bgcolor\":\"rgb(17,17,17)\",\"aaxis\":{\"gridcolor\":\"#506784\",\"linecolor\":\"#506784\",\"ticks\":\"\"},\"baxis\":{\"gridcolor\":\"#506784\",\"linecolor\":\"#506784\",\"ticks\":\"\"},\"caxis\":{\"gridcolor\":\"#506784\",\"linecolor\":\"#506784\",\"ticks\":\"\"}},\"coloraxis\":{\"colorbar\":{\"outlinewidth\":0,\"ticks\":\"\"}},\"colorscale\":{\"sequential\":[[0.0,\"#0d0887\"],[0.1111111111111111,\"#46039f\"],[0.2222222222222222,\"#7201a8\"],[0.3333333333333333,\"#9c179e\"],[0.4444444444444444,\"#bd3786\"],[0.5555555555555556,\"#d8576b\"],[0.6666666666666666,\"#ed7953\"],[0.7777777777777778,\"#fb9f3a\"],[0.8888888888888888,\"#fdca26\"],[1.0,\"#f0f921\"]],\"sequentialminus\":[[0.0,\"#0d0887\"],[0.1111111111111111,\"#46039f\"],[0.2222222222222222,\"#7201a8\"],[0.3333333333333333,\"#9c179e\"],[0.4444444444444444,\"#bd3786\"],[0.5555555555555556,\"#d8576b\"],[0.6666666666666666,\"#ed7953\"],[0.7777777777777778,\"#fb9f3a\"],[0.8888888888888888,\"#fdca26\"],[1.0,\"#f0f921\"]],\"diverging\":[[0,\"#8e0152\"],[0.1,\"#c51b7d\"],[0.2,\"#de77ae\"],[0.3,\"#f1b6da\"],[0.4,\"#fde0ef\"],[0.5,\"#f7f7f7\"],[0.6,\"#e6f5d0\"],[0.7,\"#b8e186\"],[0.8,\"#7fbc41\"],[0.9,\"#4d9221\"],[1,\"#276419\"]]},\"xaxis\":{\"gridcolor\":\"#283442\",\"linecolor\":\"#506784\",\"ticks\":\"\",\"title\":{\"standoff\":15},\"zerolinecolor\":\"#283442\",\"automargin\":true,\"zerolinewidth\":2},\"yaxis\":{\"gridcolor\":\"#283442\",\"linecolor\":\"#506784\",\"ticks\":\"\",\"title\":{\"standoff\":15},\"zerolinecolor\":\"#283442\",\"automargin\":true,\"zerolinewidth\":2},\"scene\":{\"xaxis\":{\"backgroundcolor\":\"rgb(17,17,17)\",\"gridcolor\":\"#506784\",\"linecolor\":\"#506784\",\"showbackground\":true,\"ticks\":\"\",\"zerolinecolor\":\"#C8D4E3\",\"gridwidth\":2},\"yaxis\":{\"backgroundcolor\":\"rgb(17,17,17)\",\"gridcolor\":\"#506784\",\"linecolor\":\"#506784\",\"showbackground\":true,\"ticks\":\"\",\"zerolinecolor\":\"#C8D4E3\",\"gridwidth\":2},\"zaxis\":{\"backgroundcolor\":\"rgb(17,17,17)\",\"gridcolor\":\"#506784\",\"linecolor\":\"#506784\",\"showbackground\":true,\"ticks\":\"\",\"zerolinecolor\":\"#C8D4E3\",\"gridwidth\":2}},\"shapedefaults\":{\"line\":{\"color\":\"#f2f5fa\"}},\"annotationdefaults\":{\"arrowcolor\":\"#f2f5fa\",\"arrowhead\":0,\"arrowwidth\":1},\"geo\":{\"bgcolor\":\"rgb(17,17,17)\",\"landcolor\":\"rgb(17,17,17)\",\"subunitcolor\":\"#506784\",\"showland\":true,\"showlakes\":true,\"lakecolor\":\"rgb(17,17,17)\"},\"title\":{\"x\":0.05},\"updatemenudefaults\":{\"bgcolor\":\"#506784\",\"borderwidth\":0},\"sliderdefaults\":{\"bgcolor\":\"#C8D4E3\",\"borderwidth\":1,\"bordercolor\":\"rgb(17,17,17)\",\"tickwidth\":0},\"mapbox\":{\"style\":\"dark\"}}},\"title\":{\"text\":\"Figure 11: Abalation Study (DistServe and vLLM)\\u003cbr\\u003e\\u003csup\\u003eThe figure shows that DistHigh \\u003e DistLow \\u003e vLLM++ \\u003e vLLM (vLLM++ and vLLM overlaps) \\u003c\\u002fsup\\u003e\"},\"xaxis\":{\"title\":{\"text\":\"Per-GPU Rate (tokens\\u002fs)\"}},\"yaxis\":{\"title\":{\"text\":\"Attainment (%)\"}},\"legend\":{\"title\":{\"text\":\"Configuration\"}}},                        {\"responsive\": true}                    ).then(function(){\n                            \nvar gd = document.getElementById('df7548fc-a77e-43a9-8142-3765a1a53685');\nvar x = new MutationObserver(function (mutations, observer) {{\n        var display = window.getComputedStyle(gd).display;\n        if (!display || display === 'none') {{\n            console.log([gd, 'removed!']);\n            Plotly.purge(gd);\n            observer.disconnect();\n        }}\n}});\n\n// Listen for the removal of the full notebook cells\nvar notebookContainer = gd.closest('#notebook-container');\nif (notebookContainer) {{\n    x.observe(notebookContainer, {childList: true});\n}}\n\n// Listen for the clearing of the current output cell\nvar outputEl = gd.closest('.output');\nif (outputEl) {{\n    x.observe(outputEl, {childList: true});\n}}\n\n                        })                };                });            </script>        </div>"
     },
     "metadata": {},
     "output_type": "display_data"
    }
   ],
   "source": [
    "if use_plotly:\n",
    "    import plotly.graph_objects as go\n",
    "    \n",
    "    fig = go.Figure()\n",
    "    add_plotly_trace(fig, figure_11_distserve_high, \"disthigh\")\n",
    "    add_plotly_trace(fig, figure_11_distserve_low, \"distlow\")\n",
    "    add_plotly_trace(fig, figure_11_vllm_high, \"vllm++\")\n",
    "    add_plotly_trace(fig, figure_11_vllm_low, \"vllm\")\n",
    "    fig.update_layout(\n",
    "        title=\"Figure 11: Abalation Study (DistServe and vLLM)<br>\"\n",
    "              \"<sup>The figure shows that DistHigh > DistLow > vLLM++ > vLLM (vLLM++ and vLLM overlaps) </sup>\",\n",
    "        xaxis_title=\"Per-GPU Rate (tokens/s)\",\n",
    "        yaxis_title=\"Attainment (%)\",\n",
    "        legend_title=\"Configuration\"\n",
    "    )\n",
    "    fig.write_html(\"visual/figure_11.html\")\n",
    "    if is_notebook_mode:\n",
    "        fig.show()\n"
   ],
   "metadata": {
    "collapsed": false,
    "ExecuteTime": {
     "end_time": "2024-04-25T03:06:27.245059Z",
     "start_time": "2024-04-25T03:06:27.153481Z"
    }
   },
   "id": "a8c4a3d5380bbf97",
   "execution_count": 59
  },
  {
   "cell_type": "code",
   "outputs": [],
   "source": [
    "\n",
    "def add_matplotlib_trace(fig, df: 'DataFrame', trace: str):\n",
    "    tp_prefill, pp_prefill, tp_decode, pp_decode = get_top_config(df)\n",
    "    config_df = df[\n",
    "        (df['tp_prefill'] == tp_prefill) & (df['pp_prefill'] == pp_prefill) &\n",
    "        (df['tp_decode'] == tp_decode) & (df['pp_decode'] == pp_decode)\n",
    "        ]\n",
    "    if 'vllm' in trace:\n",
    "        name = f\"{trace}-p{tp_prefill}{pp_prefill}\"\n",
    "        pass\n",
    "    else:\n",
    "        name = f\"{trace}-p{tp_prefill}{pp_prefill}{tp_decode}{pp_decode}\"\n",
    "        pass\n",
    "\n",
    "    fig.plot(\n",
    "        config_df['per_gpu_rate'], config_df['attainment'],\n",
    "        label=name,\n",
    "        marker='o',\n",
    "    )\n",
    "    return config_df['attainment'].tolist()"
   ],
   "metadata": {
    "collapsed": false,
    "ExecuteTime": {
     "end_time": "2024-04-25T03:06:27.246264Z",
     "start_time": "2024-04-25T03:06:27.183517Z"
    }
   },
   "id": "ff5ff643a25130b2",
   "execution_count": 60
  },
  {
   "cell_type": "code",
   "outputs": [
    {
     "data": {
      "text/plain": "<Figure size 640x480 with 1 Axes>",
      "image/png": "[encoded data removed]"
     },
     "metadata": {},
     "output_type": "display_data"
    }
   ],
   "source": [
    "import matplotlib.pyplot as plt\n",
    "\n",
    "# Plot a line chart with 4 curves\n",
    "# x-axis: per_gpu_rate\n",
    "# y-axis: attainment\n",
    "\n",
    "fig, ax = plt.subplots()\n",
    "a = add_matplotlib_trace(ax, figure_11_distserve_high, \"disthigh\")\n",
    "b = add_matplotlib_trace(ax, figure_11_distserve_low, \"distlow\")\n",
    "c = add_matplotlib_trace(ax, figure_11_vllm_high, \"vllm++\")\n",
    "d = add_matplotlib_trace(ax, figure_11_vllm_low, \"vllm\")\n",
    "\n",
    "plt.title(\"Figure 11: Abalation Study (DistServe and vLLM)\")\n",
    "plt.xlabel(\"Per-GPU Rate (req/s)\")\n",
    "plt.ylabel(\"SLO Attainment (%)\")\n",
    "plt.legend()\n",
    "fig.savefig(\"figure/figure_11a.png\")\n",
    "if is_notebook_mode:\n",
    "    plt.show()\n"
   ],
   "metadata": {
    "collapsed": false,
    "ExecuteTime": {
     "end_time": "2024-04-25T03:06:27.486426Z",
     "start_time": "2024-04-25T03:06:27.192755Z"
    }
   },
   "id": "3c147288371ee90f",
   "execution_count": 61
  },
  {
   "cell_type": "code",
   "outputs": [],
   "source": [
    "data_points = {\n",
    "    \"dist++\": a,\n",
    "    \"dist\": b,\n",
    "    \"vllm++\": c,\n",
    "    \"vllm\": d,\n",
    "}\n",
    "with open(\"figure/figure_11a.json\", \"w\") as f:\n",
    "    import json\n",
    "\n",
    "    json.dump(data_points, f)"
   ],
   "metadata": {
    "collapsed": false,
    "ExecuteTime": {
     "end_time": "2024-04-25T03:06:27.487435Z",
     "start_time": "2024-04-25T03:06:27.473531Z"
    }
   },
   "id": "8998c00690fc1021",
   "execution_count": 62
  }
 ],
 "metadata": {
  "kernelspec": {
   "display_name": "Python 3",
   "language": "python",
   "name": "python3"
  },
  "language_info": {
   "codemirror_mode": {
    "name": "ipython",
    "version": 2
   },
   "file_extension": ".py",
   "mimetype": "text/x-python",
   "name": "python",
   "nbconvert_exporter": "python",
   "pygments_lexer": "ipython2",
   "version": "2.7.6"
  }
 },
 "nbformat": 4,
 "nbformat_minor": 5
}
