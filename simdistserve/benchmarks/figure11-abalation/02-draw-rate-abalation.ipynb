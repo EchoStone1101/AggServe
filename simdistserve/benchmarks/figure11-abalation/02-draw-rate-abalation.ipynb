{
 "cells": [
  {
   "cell_type": "code",
   "outputs": [],
   "source": [
    "is_notebook_mode = 'get_ipython' in globals()"
   ],
   "metadata": {
    "collapsed": false,
    "ExecuteTime": {
     "end_time": "2024-04-23T22:38:15.624808Z",
     "start_time": "2024-04-23T22:38:15.617313Z"
    }
   },
   "id": "bcb5d4e767e36976",
   "execution_count": 72
  },
  {
   "cell_type": "code",
   "outputs": [],
   "source": [
    "from pathlib import Path\n",
    "Path(\"figure\").mkdir(exist_ok=True)\n",
    "Path(\"visual\").mkdir(exist_ok=True)"
   ],
   "metadata": {
    "collapsed": false,
    "ExecuteTime": {
     "end_time": "2024-04-23T22:38:15.654797Z",
     "start_time": "2024-04-23T22:38:15.627920Z"
    }
   },
   "id": "89e460095ffd1517",
   "execution_count": 73
  },
  {
   "cell_type": "code",
   "execution_count": 74,
   "id": "initial_id",
   "metadata": {
    "collapsed": true,
    "ExecuteTime": {
     "end_time": "2024-04-23T22:38:15.657792Z",
     "start_time": "2024-04-23T22:38:15.648789Z"
    }
   },
   "outputs": [],
   "source": [
    "from pathlib import Path\n",
    "from argparse import Namespace\n",
    "import pandas as pd\n",
    "assert Namespace\n",
    "\n",
    "# Get all files with format '*.latency.csv' from root_dir\n",
    "# root_dir = Path(\"fig11-abalation-log\")\n",
    "root_dir = Path(\"result\")\n",
    "latency_file_paths = sorted(list(root_dir.glob(\"*.latency.csv\")))\n",
    "experiment_log_paths = sorted(list(root_dir.glob(\"*.log\")))\n",
    "columns = ['backend', 'rate', 'target', 'attainment', 'latency']"
   ]
  },
  {
   "cell_type": "code",
   "outputs": [],
   "source": [
    "dfs = []\n",
    "namespaces = []\n",
    "for latency_file_path, experiment_log_path in zip(latency_file_paths, experiment_log_paths):\n",
    "    # read experiment_log_path and log the namespace\n",
    "    # with open(experiment_log_path, 'r') as f:\n",
    "    #     exp_args = f.read()\n",
    "    #     exp_args = eval(exp_args)\n",
    "    #     namespaces.append(exp_args)\n",
    "\n",
    "    df = pd.read_csv(latency_file_path)\n",
    "    dfs.append(df)"
   ],
   "metadata": {
    "collapsed": false,
    "ExecuteTime": {
     "end_time": "2024-04-23T22:38:15.742149Z",
     "start_time": "2024-04-23T22:38:15.662082Z"
    }
   },
   "id": "cf162cc0a9334b35",
   "execution_count": 75
  },
  {
   "cell_type": "code",
   "outputs": [],
   "source": [
    "big_df = pd.concat(dfs, ignore_index=True)\n",
    "big_df['ngpu'] = big_df['tp_prefill'] * big_df['pp_prefill'] + big_df['tp_decode'] * big_df['pp_decode']\n",
    "big_df['per_gpu_rate'] = big_df['rate'] / big_df['ngpu']\n",
    "big_df['goodput@90'] = big_df.apply(\n",
    "    lambda x: x['rate'] / x['ngpu'] if x['attainment'] >= 90 else 0,\n",
    "    axis=1,\n",
    ")"
   ],
   "metadata": {
    "collapsed": false,
    "ExecuteTime": {
     "end_time": "2024-04-23T22:38:15.760432Z",
     "start_time": "2024-04-23T22:38:15.727819Z"
    }
   },
   "id": "69a03ddf577d3c5a",
   "execution_count": 76
  },
  {
   "cell_type": "code",
   "outputs": [
    {
     "data": {
      "text/plain": "        backend model_type       pd  rate              target  attainment  \\\n0     distserve    OPT-13B  prefill  10.0               200.0        31.5   \n1     distserve    OPT-13B   decode  10.0               100.0        23.5   \n2     distserve    OPT-13B     both  10.0      (200.0, 100.0)         7.8   \n3     distserve    OPT-13B  prefill  10.0                80.0         9.4   \n4     distserve    OPT-13B   decode  10.0                40.0         4.1   \n...         ...        ...      ...   ...                 ...         ...   \n1870       vllm    OPT-13B   decode   8.0  132.34524687633933        95.0   \n1871       vllm    OPT-13B  prefill   8.0  196.35971804598876        98.0   \n1872       vllm    OPT-13B   decode   8.0  140.73439310969255        98.0   \n1873       vllm    OPT-13B  prefill   8.0  211.18541649065108        99.0   \n1874       vllm    OPT-13B   decode   8.0  152.84390909338418        99.0   \n\n      tp_prefill  pp_prefill  tp_decode  pp_decode  ngpu  per_gpu_rate  \\\n0              1           1          1          1     2           5.0   \n1              1           1          1          1     2           5.0   \n2              1           1          1          1     2           5.0   \n3              1           1          1          1     2           5.0   \n4              1           1          1          1     2           5.0   \n...          ...         ...        ...        ...   ...           ...   \n1870           4           1          0          0     4           2.0   \n1871           4           1          0          0     4           2.0   \n1872           4           1          0          0     4           2.0   \n1873           4           1          0          0     4           2.0   \n1874           4           1          0          0     4           2.0   \n\n      goodput@90  \n0            0.0  \n1            0.0  \n2            0.0  \n3            0.0  \n4            0.0  \n...          ...  \n1870         2.0  \n1871         2.0  \n1872         2.0  \n1873         2.0  \n1874         2.0  \n\n[1875 rows x 13 columns]",
      "text/html": "<div>\n<style scoped>\n    .dataframe tbody tr th:only-of-type {\n        vertical-align: middle;\n    }\n\n    .dataframe tbody tr th {\n        vertical-align: top;\n    }\n\n    .dataframe thead th {\n        text-align: right;\n    }\n</style>\n<table border=\"1\" class=\"dataframe\">\n  <thead>\n    <tr style=\"text-align: right;\">\n      <th></th>\n      <th>backend</th>\n      <th>model_type</th>\n      <th>pd</th>\n      <th>rate</th>\n      <th>target</th>\n      <th>attainment</th>\n      <th>tp_prefill</th>\n      <th>pp_prefill</th>\n      <th>tp_decode</th>\n      <th>pp_decode</th>\n      <th>ngpu</th>\n      <th>per_gpu_rate</th>\n      <th>goodput@90</th>\n    </tr>\n  </thead>\n  <tbody>\n    <tr>\n      <th>0</th>\n      <td>distserve</td>\n      <td>OPT-13B</td>\n      <td>prefill</td>\n      <td>10.0</td>\n      <td>200.0</td>\n      <td>31.5</td>\n      <td>1</td>\n      <td>1</td>\n      <td>1</td>\n      <td>1</td>\n      <td>2</td>\n      <td>5.0</td>\n      <td>0.0</td>\n    </tr>\n    <tr>\n      <th>1</th>\n      <td>distserve</td>\n      <td>OPT-13B</td>\n      <td>decode</td>\n      <td>10.0</td>\n      <td>100.0</td>\n      <td>23.5</td>\n      <td>1</td>\n      <td>1</td>\n      <td>1</td>\n      <td>1</td>\n      <td>2</td>\n      <td>5.0</td>\n      <td>0.0</td>\n    </tr>\n    <tr>\n      <th>2</th>\n      <td>distserve</td>\n      <td>OPT-13B</td>\n      <td>both</td>\n      <td>10.0</td>\n      <td>(200.0, 100.0)</td>\n      <td>7.8</td>\n      <td>1</td>\n      <td>1</td>\n      <td>1</td>\n      <td>1</td>\n      <td>2</td>\n      <td>5.0</td>\n      <td>0.0</td>\n    </tr>\n    <tr>\n      <th>3</th>\n      <td>distserve</td>\n      <td>OPT-13B</td>\n      <td>prefill</td>\n      <td>10.0</td>\n      <td>80.0</td>\n      <td>9.4</td>\n      <td>1</td>\n      <td>1</td>\n      <td>1</td>\n      <td>1</td>\n      <td>2</td>\n      <td>5.0</td>\n      <td>0.0</td>\n    </tr>\n    <tr>\n      <th>4</th>\n      <td>distserve</td>\n      <td>OPT-13B</td>\n      <td>decode</td>\n      <td>10.0</td>\n      <td>40.0</td>\n      <td>4.1</td>\n      <td>1</td>\n      <td>1</td>\n      <td>1</td>\n      <td>1</td>\n      <td>2</td>\n      <td>5.0</td>\n      <td>0.0</td>\n    </tr>\n    <tr>\n      <th>...</th>\n      <td>...</td>\n      <td>...</td>\n      <td>...</td>\n      <td>...</td>\n      <td>...</td>\n      <td>...</td>\n      <td>...</td>\n      <td>...</td>\n      <td>...</td>\n      <td>...</td>\n      <td>...</td>\n      <td>...</td>\n      <td>...</td>\n    </tr>\n    <tr>\n      <th>1870</th>\n      <td>vllm</td>\n      <td>OPT-13B</td>\n      <td>decode</td>\n      <td>8.0</td>\n      <td>132.34524687633933</td>\n      <td>95.0</td>\n      <td>4</td>\n      <td>1</td>\n      <td>0</td>\n      <td>0</td>\n      <td>4</td>\n      <td>2.0</td>\n      <td>2.0</td>\n    </tr>\n    <tr>\n      <th>1871</th>\n      <td>vllm</td>\n      <td>OPT-13B</td>\n      <td>prefill</td>\n      <td>8.0</td>\n      <td>196.35971804598876</td>\n      <td>98.0</td>\n      <td>4</td>\n      <td>1</td>\n      <td>0</td>\n      <td>0</td>\n      <td>4</td>\n      <td>2.0</td>\n      <td>2.0</td>\n    </tr>\n    <tr>\n      <th>1872</th>\n      <td>vllm</td>\n      <td>OPT-13B</td>\n      <td>decode</td>\n      <td>8.0</td>\n      <td>140.73439310969255</td>\n      <td>98.0</td>\n      <td>4</td>\n      <td>1</td>\n      <td>0</td>\n      <td>0</td>\n      <td>4</td>\n      <td>2.0</td>\n      <td>2.0</td>\n    </tr>\n    <tr>\n      <th>1873</th>\n      <td>vllm</td>\n      <td>OPT-13B</td>\n      <td>prefill</td>\n      <td>8.0</td>\n      <td>211.18541649065108</td>\n      <td>99.0</td>\n      <td>4</td>\n      <td>1</td>\n      <td>0</td>\n      <td>0</td>\n      <td>4</td>\n      <td>2.0</td>\n      <td>2.0</td>\n    </tr>\n    <tr>\n      <th>1874</th>\n      <td>vllm</td>\n      <td>OPT-13B</td>\n      <td>decode</td>\n      <td>8.0</td>\n      <td>152.84390909338418</td>\n      <td>99.0</td>\n      <td>4</td>\n      <td>1</td>\n      <td>0</td>\n      <td>0</td>\n      <td>4</td>\n      <td>2.0</td>\n      <td>2.0</td>\n    </tr>\n  </tbody>\n</table>\n<p>1875 rows × 13 columns</p>\n</div>"
     },
     "execution_count": 77,
     "metadata": {},
     "output_type": "execute_result"
    }
   ],
   "source": [
    "big_df"
   ],
   "metadata": {
    "collapsed": false,
    "ExecuteTime": {
     "end_time": "2024-04-23T22:38:15.762982Z",
     "start_time": "2024-04-23T22:38:15.756939Z"
    }
   },
   "id": "d3348ed969bcfabf",
   "execution_count": 77
  },
  {
   "cell_type": "code",
   "outputs": [],
   "source": [
    "max_machine = 4\n",
    "max_gpu_per_node = 8\n",
    "\n",
    "\n",
    "def can_fit_low_affinity_distserve(x):\n",
    "    a, b, c, d = x['tp_prefill'], x['pp_prefill'], x['tp_decode'], x['pp_decode']\n",
    "    for pp_common in range(1, max_machine + 1):\n",
    "        bp = b / pp_common\n",
    "        dp = d / pp_common\n",
    "        # If either bp or dp is not int, skip\n",
    "        if int(bp) != bp or int(dp) != dp:\n",
    "            continue\n",
    "        # Check if the segment can be placed inside a node\n",
    "        if a * bp + c * dp <= max_gpu_per_node:\n",
    "            return True\n",
    "        pass\n",
    "    return False\n",
    "\n",
    "\n",
    "def can_fit_low_affinity(x):\n",
    "    if x['backend'] == 'distserve':\n",
    "        return can_fit_low_affinity_distserve(x)\n",
    "    else:\n",
    "        return True\n",
    "    pass\n",
    "\n",
    "\n",
    "big_df['low_affin'] = big_df.apply(can_fit_low_affinity, axis=1)"
   ],
   "metadata": {
    "collapsed": false,
    "ExecuteTime": {
     "end_time": "2024-04-23T22:38:15.845022Z",
     "start_time": "2024-04-23T22:38:15.765120Z"
    }
   },
   "id": "27819a9a9d826d68",
   "execution_count": 78
  },
  {
   "cell_type": "code",
   "outputs": [
    {
     "data": {
      "text/plain": "        backend model_type       pd  rate              target  attainment  \\\n425   distserve    OPT-13B  prefill   2.0               200.0        90.0   \n426   distserve    OPT-13B   decode   2.0               100.0       100.0   \n427   distserve    OPT-13B     both   2.0      (200.0, 100.0)        90.0   \n428   distserve    OPT-13B  prefill   2.0                80.0        41.5   \n429   distserve    OPT-13B   decode   2.0                40.0        99.5   \n...         ...        ...      ...   ...                 ...         ...   \n1495       vllm    OPT-13B   decode  20.0   917.9229678107389        95.0   \n1496       vllm    OPT-13B  prefill  20.0   574.4072411363082        98.0   \n1497       vllm    OPT-13B   decode  20.0  1019.0298378000538        98.0   \n1498       vllm    OPT-13B  prefill  20.0   641.1012242612086        99.0   \n1499       vllm    OPT-13B   decode  20.0  1088.7791780134748        99.0   \n\n      tp_prefill  pp_prefill  tp_decode  pp_decode  ngpu  per_gpu_rate  \\\n425            1           1          1          1     2           1.0   \n426            1           1          1          1     2           1.0   \n427            1           1          1          1     2           1.0   \n428            1           1          1          1     2           1.0   \n429            1           1          1          1     2           1.0   \n...          ...         ...        ...        ...   ...           ...   \n1495           4           1          0          0     4           5.0   \n1496           4           1          0          0     4           5.0   \n1497           4           1          0          0     4           5.0   \n1498           4           1          0          0     4           5.0   \n1499           4           1          0          0     4           5.0   \n\n      goodput@90  low_affin  \n425          1.0       True  \n426          1.0       True  \n427          1.0       True  \n428          0.0       True  \n429          1.0       True  \n...          ...        ...  \n1495         5.0       True  \n1496         5.0       True  \n1497         5.0       True  \n1498         5.0       True  \n1499         5.0       True  \n\n[1875 rows x 14 columns]",
      "text/html": "<div>\n<style scoped>\n    .dataframe tbody tr th:only-of-type {\n        vertical-align: middle;\n    }\n\n    .dataframe tbody tr th {\n        vertical-align: top;\n    }\n\n    .dataframe thead th {\n        text-align: right;\n    }\n</style>\n<table border=\"1\" class=\"dataframe\">\n  <thead>\n    <tr style=\"text-align: right;\">\n      <th></th>\n      <th>backend</th>\n      <th>model_type</th>\n      <th>pd</th>\n      <th>rate</th>\n      <th>target</th>\n      <th>attainment</th>\n      <th>tp_prefill</th>\n      <th>pp_prefill</th>\n      <th>tp_decode</th>\n      <th>pp_decode</th>\n      <th>ngpu</th>\n      <th>per_gpu_rate</th>\n      <th>goodput@90</th>\n      <th>low_affin</th>\n    </tr>\n  </thead>\n  <tbody>\n    <tr>\n      <th>425</th>\n      <td>distserve</td>\n      <td>OPT-13B</td>\n      <td>prefill</td>\n      <td>2.0</td>\n      <td>200.0</td>\n      <td>90.0</td>\n      <td>1</td>\n      <td>1</td>\n      <td>1</td>\n      <td>1</td>\n      <td>2</td>\n      <td>1.0</td>\n      <td>1.0</td>\n      <td>True</td>\n    </tr>\n    <tr>\n      <th>426</th>\n      <td>distserve</td>\n      <td>OPT-13B</td>\n      <td>decode</td>\n      <td>2.0</td>\n      <td>100.0</td>\n      <td>100.0</td>\n      <td>1</td>\n      <td>1</td>\n      <td>1</td>\n      <td>1</td>\n      <td>2</td>\n      <td>1.0</td>\n      <td>1.0</td>\n      <td>True</td>\n    </tr>\n    <tr>\n      <th>427</th>\n      <td>distserve</td>\n      <td>OPT-13B</td>\n      <td>both</td>\n      <td>2.0</td>\n      <td>(200.0, 100.0)</td>\n      <td>90.0</td>\n      <td>1</td>\n      <td>1</td>\n      <td>1</td>\n      <td>1</td>\n      <td>2</td>\n      <td>1.0</td>\n      <td>1.0</td>\n      <td>True</td>\n    </tr>\n    <tr>\n      <th>428</th>\n      <td>distserve</td>\n      <td>OPT-13B</td>\n      <td>prefill</td>\n      <td>2.0</td>\n      <td>80.0</td>\n      <td>41.5</td>\n      <td>1</td>\n      <td>1</td>\n      <td>1</td>\n      <td>1</td>\n      <td>2</td>\n      <td>1.0</td>\n      <td>0.0</td>\n      <td>True</td>\n    </tr>\n    <tr>\n      <th>429</th>\n      <td>distserve</td>\n      <td>OPT-13B</td>\n      <td>decode</td>\n      <td>2.0</td>\n      <td>40.0</td>\n      <td>99.5</td>\n      <td>1</td>\n      <td>1</td>\n      <td>1</td>\n      <td>1</td>\n      <td>2</td>\n      <td>1.0</td>\n      <td>1.0</td>\n      <td>True</td>\n    </tr>\n    <tr>\n      <th>...</th>\n      <td>...</td>\n      <td>...</td>\n      <td>...</td>\n      <td>...</td>\n      <td>...</td>\n      <td>...</td>\n      <td>...</td>\n      <td>...</td>\n      <td>...</td>\n      <td>...</td>\n      <td>...</td>\n      <td>...</td>\n      <td>...</td>\n      <td>...</td>\n    </tr>\n    <tr>\n      <th>1495</th>\n      <td>vllm</td>\n      <td>OPT-13B</td>\n      <td>decode</td>\n      <td>20.0</td>\n      <td>917.9229678107389</td>\n      <td>95.0</td>\n      <td>4</td>\n      <td>1</td>\n      <td>0</td>\n      <td>0</td>\n      <td>4</td>\n      <td>5.0</td>\n      <td>5.0</td>\n      <td>True</td>\n    </tr>\n    <tr>\n      <th>1496</th>\n      <td>vllm</td>\n      <td>OPT-13B</td>\n      <td>prefill</td>\n      <td>20.0</td>\n      <td>574.4072411363082</td>\n      <td>98.0</td>\n      <td>4</td>\n      <td>1</td>\n      <td>0</td>\n      <td>0</td>\n      <td>4</td>\n      <td>5.0</td>\n      <td>5.0</td>\n      <td>True</td>\n    </tr>\n    <tr>\n      <th>1497</th>\n      <td>vllm</td>\n      <td>OPT-13B</td>\n      <td>decode</td>\n      <td>20.0</td>\n      <td>1019.0298378000538</td>\n      <td>98.0</td>\n      <td>4</td>\n      <td>1</td>\n      <td>0</td>\n      <td>0</td>\n      <td>4</td>\n      <td>5.0</td>\n      <td>5.0</td>\n      <td>True</td>\n    </tr>\n    <tr>\n      <th>1498</th>\n      <td>vllm</td>\n      <td>OPT-13B</td>\n      <td>prefill</td>\n      <td>20.0</td>\n      <td>641.1012242612086</td>\n      <td>99.0</td>\n      <td>4</td>\n      <td>1</td>\n      <td>0</td>\n      <td>0</td>\n      <td>4</td>\n      <td>5.0</td>\n      <td>5.0</td>\n      <td>True</td>\n    </tr>\n    <tr>\n      <th>1499</th>\n      <td>vllm</td>\n      <td>OPT-13B</td>\n      <td>decode</td>\n      <td>20.0</td>\n      <td>1088.7791780134748</td>\n      <td>99.0</td>\n      <td>4</td>\n      <td>1</td>\n      <td>0</td>\n      <td>0</td>\n      <td>4</td>\n      <td>5.0</td>\n      <td>5.0</td>\n      <td>True</td>\n    </tr>\n  </tbody>\n</table>\n<p>1875 rows × 14 columns</p>\n</div>"
     },
     "execution_count": 79,
     "metadata": {},
     "output_type": "execute_result"
    }
   ],
   "source": [
    "big_df.sort_values(by=['backend', 'per_gpu_rate', 'tp_prefill', 'pp_prefill', 'tp_decode', 'pp_decode'])"
   ],
   "metadata": {
    "collapsed": false,
    "ExecuteTime": {
     "end_time": "2024-04-23T22:38:15.866616Z",
     "start_time": "2024-04-23T22:38:15.790044Z"
    }
   },
   "id": "60850f3b183a849",
   "execution_count": 79
  },
  {
   "cell_type": "code",
   "outputs": [],
   "source": [
    "target = '(200.0, 100.0)'\n",
    "figure_11_left_df = big_df[\n",
    "    (big_df['pd'] == 'both')\n",
    "    & (big_df['target'] == target)\n",
    "    ].copy()\n",
    "\n",
    "figure_11_left_df = figure_11_left_df.sort_values(by=[\n",
    "    'backend', 'tp_prefill', 'pp_prefill', 'tp_decode', 'pp_decode',\n",
    "    'rate'\n",
    "])\n",
    "# Choose the config with the best goodput in each group\n",
    "figure_11_distserve_high = figure_11_left_df[\n",
    "    (figure_11_left_df['backend'] == 'distserve')\n",
    "]\n",
    "figure_11_distserve_low = figure_11_left_df[\n",
    "    (figure_11_left_df['backend'] == 'distserve')\n",
    "    & (figure_11_left_df['low_affin'])\n",
    "    ]\n",
    "figure_11_vllm_high = figure_11_left_df[\n",
    "    (figure_11_left_df['backend'] == 'vllm')\n",
    "]\n",
    "figure_11_vllm_low = figure_11_left_df[\n",
    "    (figure_11_left_df['backend'] == 'vllm')\n",
    "    & (figure_11_left_df['pp_prefill'] == 1)\n",
    "    & (figure_11_left_df['tp_prefill'] == 1)\n",
    "    ]\n"
   ],
   "metadata": {
    "collapsed": false,
    "ExecuteTime": {
     "end_time": "2024-04-23T22:38:15.868168Z",
     "start_time": "2024-04-23T22:38:15.808866Z"
    }
   },
   "id": "cbddcd857c4232f2",
   "execution_count": 80
  },
  {
   "cell_type": "code",
   "outputs": [
    {
     "data": {
      "text/plain": "        backend model_type    pd  rate          target  attainment  \\\n427   distserve    OPT-13B  both   2.0  (200.0, 100.0)   90.000000   \n652   distserve    OPT-13B  both   4.0  (200.0, 100.0)   80.750000   \n777   distserve    OPT-13B  both   6.0  (200.0, 100.0)   64.666667   \n902   distserve    OPT-13B  both   8.0  (200.0, 100.0)   19.500000   \n2     distserve    OPT-13B  both  10.0  (200.0, 100.0)    7.800000   \n552   distserve    OPT-13B  both   3.0  (200.0, 100.0)   86.666667   \n802   distserve    OPT-13B  both   6.0  (200.0, 100.0)   65.666667   \n1027  distserve    OPT-13B  both   9.0  (200.0, 100.0)   41.000000   \n27    distserve    OPT-13B  both  12.0  (200.0, 100.0)    5.666667   \n227   distserve    OPT-13B  both  15.0  (200.0, 100.0)    0.800000   \n577   distserve    OPT-13B  both   3.0  (200.0, 100.0)   86.666667   \n827   distserve    OPT-13B  both   6.0  (200.0, 100.0)   64.666667   \n1052  distserve    OPT-13B  both   9.0  (200.0, 100.0)   12.777778   \n52    distserve    OPT-13B  both  12.0  (200.0, 100.0)    1.333333   \n252   distserve    OPT-13B  both  15.0  (200.0, 100.0)    0.733333   \n602   distserve    OPT-13B  both   3.0  (200.0, 100.0)   92.000000   \n852   distserve    OPT-13B  both   6.0  (200.0, 100.0)   87.333333   \n1077  distserve    OPT-13B  both   9.0  (200.0, 100.0)   23.888889   \n77    distserve    OPT-13B  both  12.0  (200.0, 100.0)   10.750000   \n277   distserve    OPT-13B  both  15.0  (200.0, 100.0)    5.666667   \n677   distserve    OPT-13B  both   4.0  (200.0, 100.0)   91.250000   \n927   distserve    OPT-13B  both   8.0  (200.0, 100.0)   81.250000   \n102   distserve    OPT-13B  both  12.0  (200.0, 100.0)   43.250000   \n327   distserve    OPT-13B  both  16.0  (200.0, 100.0)   12.500000   \n452   distserve    OPT-13B  both  20.0  (200.0, 100.0)    2.950000   \n702   distserve    OPT-13B  both   4.0  (200.0, 100.0)   91.250000   \n952   distserve    OPT-13B  both   8.0  (200.0, 100.0)   33.375000   \n127   distserve    OPT-13B  both  12.0  (200.0, 100.0)   10.750000   \n352   distserve    OPT-13B  both  16.0  (200.0, 100.0)    4.687500   \n477   distserve    OPT-13B  both  20.0  (200.0, 100.0)    1.500000   \n627   distserve    OPT-13B  both   3.0  (200.0, 100.0)   98.333333   \n877   distserve    OPT-13B  both   6.0  (200.0, 100.0)   90.500000   \n1102  distserve    OPT-13B  both   9.0  (200.0, 100.0)   82.555556   \n152   distserve    OPT-13B  both  12.0  (200.0, 100.0)   42.083333   \n302   distserve    OPT-13B  both  15.0  (200.0, 100.0)   14.600000   \n727   distserve    OPT-13B  both   4.0  (200.0, 100.0)   97.250000   \n977   distserve    OPT-13B  both   8.0  (200.0, 100.0)   85.875000   \n177   distserve    OPT-13B  both  12.0  (200.0, 100.0)   67.750000   \n377   distserve    OPT-13B  both  16.0  (200.0, 100.0)   43.250000   \n502   distserve    OPT-13B  both  20.0  (200.0, 100.0)    2.550000   \n752   distserve    OPT-13B  both   4.0  (200.0, 100.0)   97.250000   \n1002  distserve    OPT-13B  both   8.0  (200.0, 100.0)   85.875000   \n202   distserve    OPT-13B  both  12.0  (200.0, 100.0)   42.083333   \n402   distserve    OPT-13B  both  16.0  (200.0, 100.0)   10.125000   \n527   distserve    OPT-13B  both  20.0  (200.0, 100.0)    1.200000   \n\n      tp_prefill  pp_prefill  tp_decode  pp_decode  ngpu  per_gpu_rate  \\\n427            1           1          1          1     2           1.0   \n652            1           1          1          1     2           2.0   \n777            1           1          1          1     2           3.0   \n902            1           1          1          1     2           4.0   \n2              1           1          1          1     2           5.0   \n552            1           1          1          2     3           1.0   \n802            1           1          1          2     3           2.0   \n1027           1           1          1          2     3           3.0   \n27             1           1          1          2     3           4.0   \n227            1           1          1          2     3           5.0   \n577            1           1          2          1     3           1.0   \n827            1           1          2          1     3           2.0   \n1052           1           1          2          1     3           3.0   \n52             1           1          2          1     3           4.0   \n252            1           1          2          1     3           5.0   \n602            1           2          1          1     3           1.0   \n852            1           2          1          1     3           2.0   \n1077           1           2          1          1     3           3.0   \n77             1           2          1          1     3           4.0   \n277            1           2          1          1     3           5.0   \n677            1           2          1          2     4           1.0   \n927            1           2          1          2     4           2.0   \n102            1           2          1          2     4           3.0   \n327            1           2          1          2     4           4.0   \n452            1           2          1          2     4           5.0   \n702            1           2          2          1     4           1.0   \n952            1           2          2          1     4           2.0   \n127            1           2          2          1     4           3.0   \n352            1           2          2          1     4           4.0   \n477            1           2          2          1     4           5.0   \n627            2           1          1          1     3           1.0   \n877            2           1          1          1     3           2.0   \n1102           2           1          1          1     3           3.0   \n152            2           1          1          1     3           4.0   \n302            2           1          1          1     3           5.0   \n727            2           1          1          2     4           1.0   \n977            2           1          1          2     4           2.0   \n177            2           1          1          2     4           3.0   \n377            2           1          1          2     4           4.0   \n502            2           1          1          2     4           5.0   \n752            2           1          2          1     4           1.0   \n1002           2           1          2          1     4           2.0   \n202            2           1          2          1     4           3.0   \n402            2           1          2          1     4           4.0   \n527            2           1          2          1     4           5.0   \n\n      goodput@90  low_affin  \n427          1.0       True  \n652          0.0       True  \n777          0.0       True  \n902          0.0       True  \n2            0.0       True  \n552          0.0       True  \n802          0.0       True  \n1027         0.0       True  \n27           0.0       True  \n227          0.0       True  \n577          0.0       True  \n827          0.0       True  \n1052         0.0       True  \n52           0.0       True  \n252          0.0       True  \n602          1.0       True  \n852          0.0       True  \n1077         0.0       True  \n77           0.0       True  \n277          0.0       True  \n677          1.0       True  \n927          0.0       True  \n102          0.0       True  \n327          0.0       True  \n452          0.0       True  \n702          1.0       True  \n952          0.0       True  \n127          0.0       True  \n352          0.0       True  \n477          0.0       True  \n627          1.0       True  \n877          2.0       True  \n1102         0.0       True  \n152          0.0       True  \n302          0.0       True  \n727          1.0       True  \n977          0.0       True  \n177          0.0       True  \n377          0.0       True  \n502          0.0       True  \n752          1.0       True  \n1002         0.0       True  \n202          0.0       True  \n402          0.0       True  \n527          0.0       True  ",
      "text/html": "<div>\n<style scoped>\n    .dataframe tbody tr th:only-of-type {\n        vertical-align: middle;\n    }\n\n    .dataframe tbody tr th {\n        vertical-align: top;\n    }\n\n    .dataframe thead th {\n        text-align: right;\n    }\n</style>\n<table border=\"1\" class=\"dataframe\">\n  <thead>\n    <tr style=\"text-align: right;\">\n      <th></th>\n      <th>backend</th>\n      <th>model_type</th>\n      <th>pd</th>\n      <th>rate</th>\n      <th>target</th>\n      <th>attainment</th>\n      <th>tp_prefill</th>\n      <th>pp_prefill</th>\n      <th>tp_decode</th>\n      <th>pp_decode</th>\n      <th>ngpu</th>\n      <th>per_gpu_rate</th>\n      <th>goodput@90</th>\n      <th>low_affin</th>\n    </tr>\n  </thead>\n  <tbody>\n    <tr>\n      <th>427</th>\n      <td>distserve</td>\n      <td>OPT-13B</td>\n      <td>both</td>\n      <td>2.0</td>\n      <td>(200.0, 100.0)</td>\n      <td>90.000000</td>\n      <td>1</td>\n      <td>1</td>\n      <td>1</td>\n      <td>1</td>\n      <td>2</td>\n      <td>1.0</td>\n      <td>1.0</td>\n      <td>True</td>\n    </tr>\n    <tr>\n      <th>652</th>\n      <td>distserve</td>\n      <td>OPT-13B</td>\n      <td>both</td>\n      <td>4.0</td>\n      <td>(200.0, 100.0)</td>\n      <td>80.750000</td>\n      <td>1</td>\n      <td>1</td>\n      <td>1</td>\n      <td>1</td>\n      <td>2</td>\n      <td>2.0</td>\n      <td>0.0</td>\n      <td>True</td>\n    </tr>\n    <tr>\n      <th>777</th>\n      <td>distserve</td>\n      <td>OPT-13B</td>\n      <td>both</td>\n      <td>6.0</td>\n      <td>(200.0, 100.0)</td>\n      <td>64.666667</td>\n      <td>1</td>\n      <td>1</td>\n      <td>1</td>\n      <td>1</td>\n      <td>2</td>\n      <td>3.0</td>\n      <td>0.0</td>\n      <td>True</td>\n    </tr>\n    <tr>\n      <th>902</th>\n      <td>distserve</td>\n      <td>OPT-13B</td>\n      <td>both</td>\n      <td>8.0</td>\n      <td>(200.0, 100.0)</td>\n      <td>19.500000</td>\n      <td>1</td>\n      <td>1</td>\n      <td>1</td>\n      <td>1</td>\n      <td>2</td>\n      <td>4.0</td>\n      <td>0.0</td>\n      <td>True</td>\n    </tr>\n    <tr>\n      <th>2</th>\n      <td>distserve</td>\n      <td>OPT-13B</td>\n      <td>both</td>\n      <td>10.0</td>\n      <td>(200.0, 100.0)</td>\n      <td>7.800000</td>\n      <td>1</td>\n      <td>1</td>\n      <td>1</td>\n      <td>1</td>\n      <td>2</td>\n      <td>5.0</td>\n      <td>0.0</td>\n      <td>True</td>\n    </tr>\n    <tr>\n      <th>552</th>\n      <td>distserve</td>\n      <td>OPT-13B</td>\n      <td>both</td>\n      <td>3.0</td>\n      <td>(200.0, 100.0)</td>\n      <td>86.666667</td>\n      <td>1</td>\n      <td>1</td>\n      <td>1</td>\n      <td>2</td>\n      <td>3</td>\n      <td>1.0</td>\n      <td>0.0</td>\n      <td>True</td>\n    </tr>\n    <tr>\n      <th>802</th>\n      <td>distserve</td>\n      <td>OPT-13B</td>\n      <td>both</td>\n      <td>6.0</td>\n      <td>(200.0, 100.0)</td>\n      <td>65.666667</td>\n      <td>1</td>\n      <td>1</td>\n      <td>1</td>\n      <td>2</td>\n      <td>3</td>\n      <td>2.0</td>\n      <td>0.0</td>\n      <td>True</td>\n    </tr>\n    <tr>\n      <th>1027</th>\n      <td>distserve</td>\n      <td>OPT-13B</td>\n      <td>both</td>\n      <td>9.0</td>\n      <td>(200.0, 100.0)</td>\n      <td>41.000000</td>\n      <td>1</td>\n      <td>1</td>\n      <td>1</td>\n      <td>2</td>\n      <td>3</td>\n      <td>3.0</td>\n      <td>0.0</td>\n      <td>True</td>\n    </tr>\n    <tr>\n      <th>27</th>\n      <td>distserve</td>\n      <td>OPT-13B</td>\n      <td>both</td>\n      <td>12.0</td>\n      <td>(200.0, 100.0)</td>\n      <td>5.666667</td>\n      <td>1</td>\n      <td>1</td>\n      <td>1</td>\n      <td>2</td>\n      <td>3</td>\n      <td>4.0</td>\n      <td>0.0</td>\n      <td>True</td>\n    </tr>\n    <tr>\n      <th>227</th>\n      <td>distserve</td>\n      <td>OPT-13B</td>\n      <td>both</td>\n      <td>15.0</td>\n      <td>(200.0, 100.0)</td>\n      <td>0.800000</td>\n      <td>1</td>\n      <td>1</td>\n      <td>1</td>\n      <td>2</td>\n      <td>3</td>\n      <td>5.0</td>\n      <td>0.0</td>\n      <td>True</td>\n    </tr>\n    <tr>\n      <th>577</th>\n      <td>distserve</td>\n      <td>OPT-13B</td>\n      <td>both</td>\n      <td>3.0</td>\n      <td>(200.0, 100.0)</td>\n      <td>86.666667</td>\n      <td>1</td>\n      <td>1</td>\n      <td>2</td>\n      <td>1</td>\n      <td>3</td>\n      <td>1.0</td>\n      <td>0.0</td>\n      <td>True</td>\n    </tr>\n    <tr>\n      <th>827</th>\n      <td>distserve</td>\n      <td>OPT-13B</td>\n      <td>both</td>\n      <td>6.0</td>\n      <td>(200.0, 100.0)</td>\n      <td>64.666667</td>\n      <td>1</td>\n      <td>1</td>\n      <td>2</td>\n      <td>1</td>\n      <td>3</td>\n      <td>2.0</td>\n      <td>0.0</td>\n      <td>True</td>\n    </tr>\n    <tr>\n      <th>1052</th>\n      <td>distserve</td>\n      <td>OPT-13B</td>\n      <td>both</td>\n      <td>9.0</td>\n      <td>(200.0, 100.0)</td>\n      <td>12.777778</td>\n      <td>1</td>\n      <td>1</td>\n      <td>2</td>\n      <td>1</td>\n      <td>3</td>\n      <td>3.0</td>\n      <td>0.0</td>\n      <td>True</td>\n    </tr>\n    <tr>\n      <th>52</th>\n      <td>distserve</td>\n      <td>OPT-13B</td>\n      <td>both</td>\n      <td>12.0</td>\n      <td>(200.0, 100.0)</td>\n      <td>1.333333</td>\n      <td>1</td>\n      <td>1</td>\n      <td>2</td>\n      <td>1</td>\n      <td>3</td>\n      <td>4.0</td>\n      <td>0.0</td>\n      <td>True</td>\n    </tr>\n    <tr>\n      <th>252</th>\n      <td>distserve</td>\n      <td>OPT-13B</td>\n      <td>both</td>\n      <td>15.0</td>\n      <td>(200.0, 100.0)</td>\n      <td>0.733333</td>\n      <td>1</td>\n      <td>1</td>\n      <td>2</td>\n      <td>1</td>\n      <td>3</td>\n      <td>5.0</td>\n      <td>0.0</td>\n      <td>True</td>\n    </tr>\n    <tr>\n      <th>602</th>\n      <td>distserve</td>\n      <td>OPT-13B</td>\n      <td>both</td>\n      <td>3.0</td>\n      <td>(200.0, 100.0)</td>\n      <td>92.000000</td>\n      <td>1</td>\n      <td>2</td>\n      <td>1</td>\n      <td>1</td>\n      <td>3</td>\n      <td>1.0</td>\n      <td>1.0</td>\n      <td>True</td>\n    </tr>\n    <tr>\n      <th>852</th>\n      <td>distserve</td>\n      <td>OPT-13B</td>\n      <td>both</td>\n      <td>6.0</td>\n      <td>(200.0, 100.0)</td>\n      <td>87.333333</td>\n      <td>1</td>\n      <td>2</td>\n      <td>1</td>\n      <td>1</td>\n      <td>3</td>\n      <td>2.0</td>\n      <td>0.0</td>\n      <td>True</td>\n    </tr>\n    <tr>\n      <th>1077</th>\n      <td>distserve</td>\n      <td>OPT-13B</td>\n      <td>both</td>\n      <td>9.0</td>\n      <td>(200.0, 100.0)</td>\n      <td>23.888889</td>\n      <td>1</td>\n      <td>2</td>\n      <td>1</td>\n      <td>1</td>\n      <td>3</td>\n      <td>3.0</td>\n      <td>0.0</td>\n      <td>True</td>\n    </tr>\n    <tr>\n      <th>77</th>\n      <td>distserve</td>\n      <td>OPT-13B</td>\n      <td>both</td>\n      <td>12.0</td>\n      <td>(200.0, 100.0)</td>\n      <td>10.750000</td>\n      <td>1</td>\n      <td>2</td>\n      <td>1</td>\n      <td>1</td>\n      <td>3</td>\n      <td>4.0</td>\n      <td>0.0</td>\n      <td>True</td>\n    </tr>\n    <tr>\n      <th>277</th>\n      <td>distserve</td>\n      <td>OPT-13B</td>\n      <td>both</td>\n      <td>15.0</td>\n      <td>(200.0, 100.0)</td>\n      <td>5.666667</td>\n      <td>1</td>\n      <td>2</td>\n      <td>1</td>\n      <td>1</td>\n      <td>3</td>\n      <td>5.0</td>\n      <td>0.0</td>\n      <td>True</td>\n    </tr>\n    <tr>\n      <th>677</th>\n      <td>distserve</td>\n      <td>OPT-13B</td>\n      <td>both</td>\n      <td>4.0</td>\n      <td>(200.0, 100.0)</td>\n      <td>91.250000</td>\n      <td>1</td>\n      <td>2</td>\n      <td>1</td>\n      <td>2</td>\n      <td>4</td>\n      <td>1.0</td>\n      <td>1.0</td>\n      <td>True</td>\n    </tr>\n    <tr>\n      <th>927</th>\n      <td>distserve</td>\n      <td>OPT-13B</td>\n      <td>both</td>\n      <td>8.0</td>\n      <td>(200.0, 100.0)</td>\n      <td>81.250000</td>\n      <td>1</td>\n      <td>2</td>\n      <td>1</td>\n      <td>2</td>\n      <td>4</td>\n      <td>2.0</td>\n      <td>0.0</td>\n      <td>True</td>\n    </tr>\n    <tr>\n      <th>102</th>\n      <td>distserve</td>\n      <td>OPT-13B</td>\n      <td>both</td>\n      <td>12.0</td>\n      <td>(200.0, 100.0)</td>\n      <td>43.250000</td>\n      <td>1</td>\n      <td>2</td>\n      <td>1</td>\n      <td>2</td>\n      <td>4</td>\n      <td>3.0</td>\n      <td>0.0</td>\n      <td>True</td>\n    </tr>\n    <tr>\n      <th>327</th>\n      <td>distserve</td>\n      <td>OPT-13B</td>\n      <td>both</td>\n      <td>16.0</td>\n      <td>(200.0, 100.0)</td>\n      <td>12.500000</td>\n      <td>1</td>\n      <td>2</td>\n      <td>1</td>\n      <td>2</td>\n      <td>4</td>\n      <td>4.0</td>\n      <td>0.0</td>\n      <td>True</td>\n    </tr>\n    <tr>\n      <th>452</th>\n      <td>distserve</td>\n      <td>OPT-13B</td>\n      <td>both</td>\n      <td>20.0</td>\n      <td>(200.0, 100.0)</td>\n      <td>2.950000</td>\n      <td>1</td>\n      <td>2</td>\n      <td>1</td>\n      <td>2</td>\n      <td>4</td>\n      <td>5.0</td>\n      <td>0.0</td>\n      <td>True</td>\n    </tr>\n    <tr>\n      <th>702</th>\n      <td>distserve</td>\n      <td>OPT-13B</td>\n      <td>both</td>\n      <td>4.0</td>\n      <td>(200.0, 100.0)</td>\n      <td>91.250000</td>\n      <td>1</td>\n      <td>2</td>\n      <td>2</td>\n      <td>1</td>\n      <td>4</td>\n      <td>1.0</td>\n      <td>1.0</td>\n      <td>True</td>\n    </tr>\n    <tr>\n      <th>952</th>\n      <td>distserve</td>\n      <td>OPT-13B</td>\n      <td>both</td>\n      <td>8.0</td>\n      <td>(200.0, 100.0)</td>\n      <td>33.375000</td>\n      <td>1</td>\n      <td>2</td>\n      <td>2</td>\n      <td>1</td>\n      <td>4</td>\n      <td>2.0</td>\n      <td>0.0</td>\n      <td>True</td>\n    </tr>\n    <tr>\n      <th>127</th>\n      <td>distserve</td>\n      <td>OPT-13B</td>\n      <td>both</td>\n      <td>12.0</td>\n      <td>(200.0, 100.0)</td>\n      <td>10.750000</td>\n      <td>1</td>\n      <td>2</td>\n      <td>2</td>\n      <td>1</td>\n      <td>4</td>\n      <td>3.0</td>\n      <td>0.0</td>\n      <td>True</td>\n    </tr>\n    <tr>\n      <th>352</th>\n      <td>distserve</td>\n      <td>OPT-13B</td>\n      <td>both</td>\n      <td>16.0</td>\n      <td>(200.0, 100.0)</td>\n      <td>4.687500</td>\n      <td>1</td>\n      <td>2</td>\n      <td>2</td>\n      <td>1</td>\n      <td>4</td>\n      <td>4.0</td>\n      <td>0.0</td>\n      <td>True</td>\n    </tr>\n    <tr>\n      <th>477</th>\n      <td>distserve</td>\n      <td>OPT-13B</td>\n      <td>both</td>\n      <td>20.0</td>\n      <td>(200.0, 100.0)</td>\n      <td>1.500000</td>\n      <td>1</td>\n      <td>2</td>\n      <td>2</td>\n      <td>1</td>\n      <td>4</td>\n      <td>5.0</td>\n      <td>0.0</td>\n      <td>True</td>\n    </tr>\n    <tr>\n      <th>627</th>\n      <td>distserve</td>\n      <td>OPT-13B</td>\n      <td>both</td>\n      <td>3.0</td>\n      <td>(200.0, 100.0)</td>\n      <td>98.333333</td>\n      <td>2</td>\n      <td>1</td>\n      <td>1</td>\n      <td>1</td>\n      <td>3</td>\n      <td>1.0</td>\n      <td>1.0</td>\n      <td>True</td>\n    </tr>\n    <tr>\n      <th>877</th>\n      <td>distserve</td>\n      <td>OPT-13B</td>\n      <td>both</td>\n      <td>6.0</td>\n      <td>(200.0, 100.0)</td>\n      <td>90.500000</td>\n      <td>2</td>\n      <td>1</td>\n      <td>1</td>\n      <td>1</td>\n      <td>3</td>\n      <td>2.0</td>\n      <td>2.0</td>\n      <td>True</td>\n    </tr>\n    <tr>\n      <th>1102</th>\n      <td>distserve</td>\n      <td>OPT-13B</td>\n      <td>both</td>\n      <td>9.0</td>\n      <td>(200.0, 100.0)</td>\n      <td>82.555556</td>\n      <td>2</td>\n      <td>1</td>\n      <td>1</td>\n      <td>1</td>\n      <td>3</td>\n      <td>3.0</td>\n      <td>0.0</td>\n      <td>True</td>\n    </tr>\n    <tr>\n      <th>152</th>\n      <td>distserve</td>\n      <td>OPT-13B</td>\n      <td>both</td>\n      <td>12.0</td>\n      <td>(200.0, 100.0)</td>\n      <td>42.083333</td>\n      <td>2</td>\n      <td>1</td>\n      <td>1</td>\n      <td>1</td>\n      <td>3</td>\n      <td>4.0</td>\n      <td>0.0</td>\n      <td>True</td>\n    </tr>\n    <tr>\n      <th>302</th>\n      <td>distserve</td>\n      <td>OPT-13B</td>\n      <td>both</td>\n      <td>15.0</td>\n      <td>(200.0, 100.0)</td>\n      <td>14.600000</td>\n      <td>2</td>\n      <td>1</td>\n      <td>1</td>\n      <td>1</td>\n      <td>3</td>\n      <td>5.0</td>\n      <td>0.0</td>\n      <td>True</td>\n    </tr>\n    <tr>\n      <th>727</th>\n      <td>distserve</td>\n      <td>OPT-13B</td>\n      <td>both</td>\n      <td>4.0</td>\n      <td>(200.0, 100.0)</td>\n      <td>97.250000</td>\n      <td>2</td>\n      <td>1</td>\n      <td>1</td>\n      <td>2</td>\n      <td>4</td>\n      <td>1.0</td>\n      <td>1.0</td>\n      <td>True</td>\n    </tr>\n    <tr>\n      <th>977</th>\n      <td>distserve</td>\n      <td>OPT-13B</td>\n      <td>both</td>\n      <td>8.0</td>\n      <td>(200.0, 100.0)</td>\n      <td>85.875000</td>\n      <td>2</td>\n      <td>1</td>\n      <td>1</td>\n      <td>2</td>\n      <td>4</td>\n      <td>2.0</td>\n      <td>0.0</td>\n      <td>True</td>\n    </tr>\n    <tr>\n      <th>177</th>\n      <td>distserve</td>\n      <td>OPT-13B</td>\n      <td>both</td>\n      <td>12.0</td>\n      <td>(200.0, 100.0)</td>\n      <td>67.750000</td>\n      <td>2</td>\n      <td>1</td>\n      <td>1</td>\n      <td>2</td>\n      <td>4</td>\n      <td>3.0</td>\n      <td>0.0</td>\n      <td>True</td>\n    </tr>\n    <tr>\n      <th>377</th>\n      <td>distserve</td>\n      <td>OPT-13B</td>\n      <td>both</td>\n      <td>16.0</td>\n      <td>(200.0, 100.0)</td>\n      <td>43.250000</td>\n      <td>2</td>\n      <td>1</td>\n      <td>1</td>\n      <td>2</td>\n      <td>4</td>\n      <td>4.0</td>\n      <td>0.0</td>\n      <td>True</td>\n    </tr>\n    <tr>\n      <th>502</th>\n      <td>distserve</td>\n      <td>OPT-13B</td>\n      <td>both</td>\n      <td>20.0</td>\n      <td>(200.0, 100.0)</td>\n      <td>2.550000</td>\n      <td>2</td>\n      <td>1</td>\n      <td>1</td>\n      <td>2</td>\n      <td>4</td>\n      <td>5.0</td>\n      <td>0.0</td>\n      <td>True</td>\n    </tr>\n    <tr>\n      <th>752</th>\n      <td>distserve</td>\n      <td>OPT-13B</td>\n      <td>both</td>\n      <td>4.0</td>\n      <td>(200.0, 100.0)</td>\n      <td>97.250000</td>\n      <td>2</td>\n      <td>1</td>\n      <td>2</td>\n      <td>1</td>\n      <td>4</td>\n      <td>1.0</td>\n      <td>1.0</td>\n      <td>True</td>\n    </tr>\n    <tr>\n      <th>1002</th>\n      <td>distserve</td>\n      <td>OPT-13B</td>\n      <td>both</td>\n      <td>8.0</td>\n      <td>(200.0, 100.0)</td>\n      <td>85.875000</td>\n      <td>2</td>\n      <td>1</td>\n      <td>2</td>\n      <td>1</td>\n      <td>4</td>\n      <td>2.0</td>\n      <td>0.0</td>\n      <td>True</td>\n    </tr>\n    <tr>\n      <th>202</th>\n      <td>distserve</td>\n      <td>OPT-13B</td>\n      <td>both</td>\n      <td>12.0</td>\n      <td>(200.0, 100.0)</td>\n      <td>42.083333</td>\n      <td>2</td>\n      <td>1</td>\n      <td>2</td>\n      <td>1</td>\n      <td>4</td>\n      <td>3.0</td>\n      <td>0.0</td>\n      <td>True</td>\n    </tr>\n    <tr>\n      <th>402</th>\n      <td>distserve</td>\n      <td>OPT-13B</td>\n      <td>both</td>\n      <td>16.0</td>\n      <td>(200.0, 100.0)</td>\n      <td>10.125000</td>\n      <td>2</td>\n      <td>1</td>\n      <td>2</td>\n      <td>1</td>\n      <td>4</td>\n      <td>4.0</td>\n      <td>0.0</td>\n      <td>True</td>\n    </tr>\n    <tr>\n      <th>527</th>\n      <td>distserve</td>\n      <td>OPT-13B</td>\n      <td>both</td>\n      <td>20.0</td>\n      <td>(200.0, 100.0)</td>\n      <td>1.200000</td>\n      <td>2</td>\n      <td>1</td>\n      <td>2</td>\n      <td>1</td>\n      <td>4</td>\n      <td>5.0</td>\n      <td>0.0</td>\n      <td>True</td>\n    </tr>\n  </tbody>\n</table>\n</div>"
     },
     "execution_count": 81,
     "metadata": {},
     "output_type": "execute_result"
    }
   ],
   "source": [
    "figure_11_distserve_high"
   ],
   "metadata": {
    "collapsed": false,
    "ExecuteTime": {
     "end_time": "2024-04-23T22:38:15.869354Z",
     "start_time": "2024-04-23T22:38:15.830230Z"
    }
   },
   "id": "eefd058d2a113f3b",
   "execution_count": 81
  },
  {
   "cell_type": "code",
   "outputs": [
    {
     "data": {
      "text/plain": "        backend model_type    pd  rate          target  attainment  \\\n427   distserve    OPT-13B  both   2.0  (200.0, 100.0)   90.000000   \n652   distserve    OPT-13B  both   4.0  (200.0, 100.0)   80.750000   \n777   distserve    OPT-13B  both   6.0  (200.0, 100.0)   64.666667   \n902   distserve    OPT-13B  both   8.0  (200.0, 100.0)   19.500000   \n2     distserve    OPT-13B  both  10.0  (200.0, 100.0)    7.800000   \n552   distserve    OPT-13B  both   3.0  (200.0, 100.0)   86.666667   \n802   distserve    OPT-13B  both   6.0  (200.0, 100.0)   65.666667   \n1027  distserve    OPT-13B  both   9.0  (200.0, 100.0)   41.000000   \n27    distserve    OPT-13B  both  12.0  (200.0, 100.0)    5.666667   \n227   distserve    OPT-13B  both  15.0  (200.0, 100.0)    0.800000   \n577   distserve    OPT-13B  both   3.0  (200.0, 100.0)   86.666667   \n827   distserve    OPT-13B  both   6.0  (200.0, 100.0)   64.666667   \n1052  distserve    OPT-13B  both   9.0  (200.0, 100.0)   12.777778   \n52    distserve    OPT-13B  both  12.0  (200.0, 100.0)    1.333333   \n252   distserve    OPT-13B  both  15.0  (200.0, 100.0)    0.733333   \n602   distserve    OPT-13B  both   3.0  (200.0, 100.0)   92.000000   \n852   distserve    OPT-13B  both   6.0  (200.0, 100.0)   87.333333   \n1077  distserve    OPT-13B  both   9.0  (200.0, 100.0)   23.888889   \n77    distserve    OPT-13B  both  12.0  (200.0, 100.0)   10.750000   \n277   distserve    OPT-13B  both  15.0  (200.0, 100.0)    5.666667   \n677   distserve    OPT-13B  both   4.0  (200.0, 100.0)   91.250000   \n927   distserve    OPT-13B  both   8.0  (200.0, 100.0)   81.250000   \n102   distserve    OPT-13B  both  12.0  (200.0, 100.0)   43.250000   \n327   distserve    OPT-13B  both  16.0  (200.0, 100.0)   12.500000   \n452   distserve    OPT-13B  both  20.0  (200.0, 100.0)    2.950000   \n702   distserve    OPT-13B  both   4.0  (200.0, 100.0)   91.250000   \n952   distserve    OPT-13B  both   8.0  (200.0, 100.0)   33.375000   \n127   distserve    OPT-13B  both  12.0  (200.0, 100.0)   10.750000   \n352   distserve    OPT-13B  both  16.0  (200.0, 100.0)    4.687500   \n477   distserve    OPT-13B  both  20.0  (200.0, 100.0)    1.500000   \n627   distserve    OPT-13B  both   3.0  (200.0, 100.0)   98.333333   \n877   distserve    OPT-13B  both   6.0  (200.0, 100.0)   90.500000   \n1102  distserve    OPT-13B  both   9.0  (200.0, 100.0)   82.555556   \n152   distserve    OPT-13B  both  12.0  (200.0, 100.0)   42.083333   \n302   distserve    OPT-13B  both  15.0  (200.0, 100.0)   14.600000   \n727   distserve    OPT-13B  both   4.0  (200.0, 100.0)   97.250000   \n977   distserve    OPT-13B  both   8.0  (200.0, 100.0)   85.875000   \n177   distserve    OPT-13B  both  12.0  (200.0, 100.0)   67.750000   \n377   distserve    OPT-13B  both  16.0  (200.0, 100.0)   43.250000   \n502   distserve    OPT-13B  both  20.0  (200.0, 100.0)    2.550000   \n752   distserve    OPT-13B  both   4.0  (200.0, 100.0)   97.250000   \n1002  distserve    OPT-13B  both   8.0  (200.0, 100.0)   85.875000   \n202   distserve    OPT-13B  both  12.0  (200.0, 100.0)   42.083333   \n402   distserve    OPT-13B  both  16.0  (200.0, 100.0)   10.125000   \n527   distserve    OPT-13B  both  20.0  (200.0, 100.0)    1.200000   \n\n      tp_prefill  pp_prefill  tp_decode  pp_decode  ngpu  per_gpu_rate  \\\n427            1           1          1          1     2           1.0   \n652            1           1          1          1     2           2.0   \n777            1           1          1          1     2           3.0   \n902            1           1          1          1     2           4.0   \n2              1           1          1          1     2           5.0   \n552            1           1          1          2     3           1.0   \n802            1           1          1          2     3           2.0   \n1027           1           1          1          2     3           3.0   \n27             1           1          1          2     3           4.0   \n227            1           1          1          2     3           5.0   \n577            1           1          2          1     3           1.0   \n827            1           1          2          1     3           2.0   \n1052           1           1          2          1     3           3.0   \n52             1           1          2          1     3           4.0   \n252            1           1          2          1     3           5.0   \n602            1           2          1          1     3           1.0   \n852            1           2          1          1     3           2.0   \n1077           1           2          1          1     3           3.0   \n77             1           2          1          1     3           4.0   \n277            1           2          1          1     3           5.0   \n677            1           2          1          2     4           1.0   \n927            1           2          1          2     4           2.0   \n102            1           2          1          2     4           3.0   \n327            1           2          1          2     4           4.0   \n452            1           2          1          2     4           5.0   \n702            1           2          2          1     4           1.0   \n952            1           2          2          1     4           2.0   \n127            1           2          2          1     4           3.0   \n352            1           2          2          1     4           4.0   \n477            1           2          2          1     4           5.0   \n627            2           1          1          1     3           1.0   \n877            2           1          1          1     3           2.0   \n1102           2           1          1          1     3           3.0   \n152            2           1          1          1     3           4.0   \n302            2           1          1          1     3           5.0   \n727            2           1          1          2     4           1.0   \n977            2           1          1          2     4           2.0   \n177            2           1          1          2     4           3.0   \n377            2           1          1          2     4           4.0   \n502            2           1          1          2     4           5.0   \n752            2           1          2          1     4           1.0   \n1002           2           1          2          1     4           2.0   \n202            2           1          2          1     4           3.0   \n402            2           1          2          1     4           4.0   \n527            2           1          2          1     4           5.0   \n\n      goodput@90  low_affin  \n427          1.0       True  \n652          0.0       True  \n777          0.0       True  \n902          0.0       True  \n2            0.0       True  \n552          0.0       True  \n802          0.0       True  \n1027         0.0       True  \n27           0.0       True  \n227          0.0       True  \n577          0.0       True  \n827          0.0       True  \n1052         0.0       True  \n52           0.0       True  \n252          0.0       True  \n602          1.0       True  \n852          0.0       True  \n1077         0.0       True  \n77           0.0       True  \n277          0.0       True  \n677          1.0       True  \n927          0.0       True  \n102          0.0       True  \n327          0.0       True  \n452          0.0       True  \n702          1.0       True  \n952          0.0       True  \n127          0.0       True  \n352          0.0       True  \n477          0.0       True  \n627          1.0       True  \n877          2.0       True  \n1102         0.0       True  \n152          0.0       True  \n302          0.0       True  \n727          1.0       True  \n977          0.0       True  \n177          0.0       True  \n377          0.0       True  \n502          0.0       True  \n752          1.0       True  \n1002         0.0       True  \n202          0.0       True  \n402          0.0       True  \n527          0.0       True  ",
      "text/html": "<div>\n<style scoped>\n    .dataframe tbody tr th:only-of-type {\n        vertical-align: middle;\n    }\n\n    .dataframe tbody tr th {\n        vertical-align: top;\n    }\n\n    .dataframe thead th {\n        text-align: right;\n    }\n</style>\n<table border=\"1\" class=\"dataframe\">\n  <thead>\n    <tr style=\"text-align: right;\">\n      <th></th>\n      <th>backend</th>\n      <th>model_type</th>\n      <th>pd</th>\n      <th>rate</th>\n      <th>target</th>\n      <th>attainment</th>\n      <th>tp_prefill</th>\n      <th>pp_prefill</th>\n      <th>tp_decode</th>\n      <th>pp_decode</th>\n      <th>ngpu</th>\n      <th>per_gpu_rate</th>\n      <th>goodput@90</th>\n      <th>low_affin</th>\n    </tr>\n  </thead>\n  <tbody>\n    <tr>\n      <th>427</th>\n      <td>distserve</td>\n      <td>OPT-13B</td>\n      <td>both</td>\n      <td>2.0</td>\n      <td>(200.0, 100.0)</td>\n      <td>90.000000</td>\n      <td>1</td>\n      <td>1</td>\n      <td>1</td>\n      <td>1</td>\n      <td>2</td>\n      <td>1.0</td>\n      <td>1.0</td>\n      <td>True</td>\n    </tr>\n    <tr>\n      <th>652</th>\n      <td>distserve</td>\n      <td>OPT-13B</td>\n      <td>both</td>\n      <td>4.0</td>\n      <td>(200.0, 100.0)</td>\n      <td>80.750000</td>\n      <td>1</td>\n      <td>1</td>\n      <td>1</td>\n      <td>1</td>\n      <td>2</td>\n      <td>2.0</td>\n      <td>0.0</td>\n      <td>True</td>\n    </tr>\n    <tr>\n      <th>777</th>\n      <td>distserve</td>\n      <td>OPT-13B</td>\n      <td>both</td>\n      <td>6.0</td>\n      <td>(200.0, 100.0)</td>\n      <td>64.666667</td>\n      <td>1</td>\n      <td>1</td>\n      <td>1</td>\n      <td>1</td>\n      <td>2</td>\n      <td>3.0</td>\n      <td>0.0</td>\n      <td>True</td>\n    </tr>\n    <tr>\n      <th>902</th>\n      <td>distserve</td>\n      <td>OPT-13B</td>\n      <td>both</td>\n      <td>8.0</td>\n      <td>(200.0, 100.0)</td>\n      <td>19.500000</td>\n      <td>1</td>\n      <td>1</td>\n      <td>1</td>\n      <td>1</td>\n      <td>2</td>\n      <td>4.0</td>\n      <td>0.0</td>\n      <td>True</td>\n    </tr>\n    <tr>\n      <th>2</th>\n      <td>distserve</td>\n      <td>OPT-13B</td>\n      <td>both</td>\n      <td>10.0</td>\n      <td>(200.0, 100.0)</td>\n      <td>7.800000</td>\n      <td>1</td>\n      <td>1</td>\n      <td>1</td>\n      <td>1</td>\n      <td>2</td>\n      <td>5.0</td>\n      <td>0.0</td>\n      <td>True</td>\n    </tr>\n    <tr>\n      <th>552</th>\n      <td>distserve</td>\n      <td>OPT-13B</td>\n      <td>both</td>\n      <td>3.0</td>\n      <td>(200.0, 100.0)</td>\n      <td>86.666667</td>\n      <td>1</td>\n      <td>1</td>\n      <td>1</td>\n      <td>2</td>\n      <td>3</td>\n      <td>1.0</td>\n      <td>0.0</td>\n      <td>True</td>\n    </tr>\n    <tr>\n      <th>802</th>\n      <td>distserve</td>\n      <td>OPT-13B</td>\n      <td>both</td>\n      <td>6.0</td>\n      <td>(200.0, 100.0)</td>\n      <td>65.666667</td>\n      <td>1</td>\n      <td>1</td>\n      <td>1</td>\n      <td>2</td>\n      <td>3</td>\n      <td>2.0</td>\n      <td>0.0</td>\n      <td>True</td>\n    </tr>\n    <tr>\n      <th>1027</th>\n      <td>distserve</td>\n      <td>OPT-13B</td>\n      <td>both</td>\n      <td>9.0</td>\n      <td>(200.0, 100.0)</td>\n      <td>41.000000</td>\n      <td>1</td>\n      <td>1</td>\n      <td>1</td>\n      <td>2</td>\n      <td>3</td>\n      <td>3.0</td>\n      <td>0.0</td>\n      <td>True</td>\n    </tr>\n    <tr>\n      <th>27</th>\n      <td>distserve</td>\n      <td>OPT-13B</td>\n      <td>both</td>\n      <td>12.0</td>\n      <td>(200.0, 100.0)</td>\n      <td>5.666667</td>\n      <td>1</td>\n      <td>1</td>\n      <td>1</td>\n      <td>2</td>\n      <td>3</td>\n      <td>4.0</td>\n      <td>0.0</td>\n      <td>True</td>\n    </tr>\n    <tr>\n      <th>227</th>\n      <td>distserve</td>\n      <td>OPT-13B</td>\n      <td>both</td>\n      <td>15.0</td>\n      <td>(200.0, 100.0)</td>\n      <td>0.800000</td>\n      <td>1</td>\n      <td>1</td>\n      <td>1</td>\n      <td>2</td>\n      <td>3</td>\n      <td>5.0</td>\n      <td>0.0</td>\n      <td>True</td>\n    </tr>\n    <tr>\n      <th>577</th>\n      <td>distserve</td>\n      <td>OPT-13B</td>\n      <td>both</td>\n      <td>3.0</td>\n      <td>(200.0, 100.0)</td>\n      <td>86.666667</td>\n      <td>1</td>\n      <td>1</td>\n      <td>2</td>\n      <td>1</td>\n      <td>3</td>\n      <td>1.0</td>\n      <td>0.0</td>\n      <td>True</td>\n    </tr>\n    <tr>\n      <th>827</th>\n      <td>distserve</td>\n      <td>OPT-13B</td>\n      <td>both</td>\n      <td>6.0</td>\n      <td>(200.0, 100.0)</td>\n      <td>64.666667</td>\n      <td>1</td>\n      <td>1</td>\n      <td>2</td>\n      <td>1</td>\n      <td>3</td>\n      <td>2.0</td>\n      <td>0.0</td>\n      <td>True</td>\n    </tr>\n    <tr>\n      <th>1052</th>\n      <td>distserve</td>\n      <td>OPT-13B</td>\n      <td>both</td>\n      <td>9.0</td>\n      <td>(200.0, 100.0)</td>\n      <td>12.777778</td>\n      <td>1</td>\n      <td>1</td>\n      <td>2</td>\n      <td>1</td>\n      <td>3</td>\n      <td>3.0</td>\n      <td>0.0</td>\n      <td>True</td>\n    </tr>\n    <tr>\n      <th>52</th>\n      <td>distserve</td>\n      <td>OPT-13B</td>\n      <td>both</td>\n      <td>12.0</td>\n      <td>(200.0, 100.0)</td>\n      <td>1.333333</td>\n      <td>1</td>\n      <td>1</td>\n      <td>2</td>\n      <td>1</td>\n      <td>3</td>\n      <td>4.0</td>\n      <td>0.0</td>\n      <td>True</td>\n    </tr>\n    <tr>\n      <th>252</th>\n      <td>distserve</td>\n      <td>OPT-13B</td>\n      <td>both</td>\n      <td>15.0</td>\n      <td>(200.0, 100.0)</td>\n      <td>0.733333</td>\n      <td>1</td>\n      <td>1</td>\n      <td>2</td>\n      <td>1</td>\n      <td>3</td>\n      <td>5.0</td>\n      <td>0.0</td>\n      <td>True</td>\n    </tr>\n    <tr>\n      <th>602</th>\n      <td>distserve</td>\n      <td>OPT-13B</td>\n      <td>both</td>\n      <td>3.0</td>\n      <td>(200.0, 100.0)</td>\n      <td>92.000000</td>\n      <td>1</td>\n      <td>2</td>\n      <td>1</td>\n      <td>1</td>\n      <td>3</td>\n      <td>1.0</td>\n      <td>1.0</td>\n      <td>True</td>\n    </tr>\n    <tr>\n      <th>852</th>\n      <td>distserve</td>\n      <td>OPT-13B</td>\n      <td>both</td>\n      <td>6.0</td>\n      <td>(200.0, 100.0)</td>\n      <td>87.333333</td>\n      <td>1</td>\n      <td>2</td>\n      <td>1</td>\n      <td>1</td>\n      <td>3</td>\n      <td>2.0</td>\n      <td>0.0</td>\n      <td>True</td>\n    </tr>\n    <tr>\n      <th>1077</th>\n      <td>distserve</td>\n      <td>OPT-13B</td>\n      <td>both</td>\n      <td>9.0</td>\n      <td>(200.0, 100.0)</td>\n      <td>23.888889</td>\n      <td>1</td>\n      <td>2</td>\n      <td>1</td>\n      <td>1</td>\n      <td>3</td>\n      <td>3.0</td>\n      <td>0.0</td>\n      <td>True</td>\n    </tr>\n    <tr>\n      <th>77</th>\n      <td>distserve</td>\n      <td>OPT-13B</td>\n      <td>both</td>\n      <td>12.0</td>\n      <td>(200.0, 100.0)</td>\n      <td>10.750000</td>\n      <td>1</td>\n      <td>2</td>\n      <td>1</td>\n      <td>1</td>\n      <td>3</td>\n      <td>4.0</td>\n      <td>0.0</td>\n      <td>True</td>\n    </tr>\n    <tr>\n      <th>277</th>\n      <td>distserve</td>\n      <td>OPT-13B</td>\n      <td>both</td>\n      <td>15.0</td>\n      <td>(200.0, 100.0)</td>\n      <td>5.666667</td>\n      <td>1</td>\n      <td>2</td>\n      <td>1</td>\n      <td>1</td>\n      <td>3</td>\n      <td>5.0</td>\n      <td>0.0</td>\n      <td>True</td>\n    </tr>\n    <tr>\n      <th>677</th>\n      <td>distserve</td>\n      <td>OPT-13B</td>\n      <td>both</td>\n      <td>4.0</td>\n      <td>(200.0, 100.0)</td>\n      <td>91.250000</td>\n      <td>1</td>\n      <td>2</td>\n      <td>1</td>\n      <td>2</td>\n      <td>4</td>\n      <td>1.0</td>\n      <td>1.0</td>\n      <td>True</td>\n    </tr>\n    <tr>\n      <th>927</th>\n      <td>distserve</td>\n      <td>OPT-13B</td>\n      <td>both</td>\n      <td>8.0</td>\n      <td>(200.0, 100.0)</td>\n      <td>81.250000</td>\n      <td>1</td>\n      <td>2</td>\n      <td>1</td>\n      <td>2</td>\n      <td>4</td>\n      <td>2.0</td>\n      <td>0.0</td>\n      <td>True</td>\n    </tr>\n    <tr>\n      <th>102</th>\n      <td>distserve</td>\n      <td>OPT-13B</td>\n      <td>both</td>\n      <td>12.0</td>\n      <td>(200.0, 100.0)</td>\n      <td>43.250000</td>\n      <td>1</td>\n      <td>2</td>\n      <td>1</td>\n      <td>2</td>\n      <td>4</td>\n      <td>3.0</td>\n      <td>0.0</td>\n      <td>True</td>\n    </tr>\n    <tr>\n      <th>327</th>\n      <td>distserve</td>\n      <td>OPT-13B</td>\n      <td>both</td>\n      <td>16.0</td>\n      <td>(200.0, 100.0)</td>\n      <td>12.500000</td>\n      <td>1</td>\n      <td>2</td>\n      <td>1</td>\n      <td>2</td>\n      <td>4</td>\n      <td>4.0</td>\n      <td>0.0</td>\n      <td>True</td>\n    </tr>\n    <tr>\n      <th>452</th>\n      <td>distserve</td>\n      <td>OPT-13B</td>\n      <td>both</td>\n      <td>20.0</td>\n      <td>(200.0, 100.0)</td>\n      <td>2.950000</td>\n      <td>1</td>\n      <td>2</td>\n      <td>1</td>\n      <td>2</td>\n      <td>4</td>\n      <td>5.0</td>\n      <td>0.0</td>\n      <td>True</td>\n    </tr>\n    <tr>\n      <th>702</th>\n      <td>distserve</td>\n      <td>OPT-13B</td>\n      <td>both</td>\n      <td>4.0</td>\n      <td>(200.0, 100.0)</td>\n      <td>91.250000</td>\n      <td>1</td>\n      <td>2</td>\n      <td>2</td>\n      <td>1</td>\n      <td>4</td>\n      <td>1.0</td>\n      <td>1.0</td>\n      <td>True</td>\n    </tr>\n    <tr>\n      <th>952</th>\n      <td>distserve</td>\n      <td>OPT-13B</td>\n      <td>both</td>\n      <td>8.0</td>\n      <td>(200.0, 100.0)</td>\n      <td>33.375000</td>\n      <td>1</td>\n      <td>2</td>\n      <td>2</td>\n      <td>1</td>\n      <td>4</td>\n      <td>2.0</td>\n      <td>0.0</td>\n      <td>True</td>\n    </tr>\n    <tr>\n      <th>127</th>\n      <td>distserve</td>\n      <td>OPT-13B</td>\n      <td>both</td>\n      <td>12.0</td>\n      <td>(200.0, 100.0)</td>\n      <td>10.750000</td>\n      <td>1</td>\n      <td>2</td>\n      <td>2</td>\n      <td>1</td>\n      <td>4</td>\n      <td>3.0</td>\n      <td>0.0</td>\n      <td>True</td>\n    </tr>\n    <tr>\n      <th>352</th>\n      <td>distserve</td>\n      <td>OPT-13B</td>\n      <td>both</td>\n      <td>16.0</td>\n      <td>(200.0, 100.0)</td>\n      <td>4.687500</td>\n      <td>1</td>\n      <td>2</td>\n      <td>2</td>\n      <td>1</td>\n      <td>4</td>\n      <td>4.0</td>\n      <td>0.0</td>\n      <td>True</td>\n    </tr>\n    <tr>\n      <th>477</th>\n      <td>distserve</td>\n      <td>OPT-13B</td>\n      <td>both</td>\n      <td>20.0</td>\n      <td>(200.0, 100.0)</td>\n      <td>1.500000</td>\n      <td>1</td>\n      <td>2</td>\n      <td>2</td>\n      <td>1</td>\n      <td>4</td>\n      <td>5.0</td>\n      <td>0.0</td>\n      <td>True</td>\n    </tr>\n    <tr>\n      <th>627</th>\n      <td>distserve</td>\n      <td>OPT-13B</td>\n      <td>both</td>\n      <td>3.0</td>\n      <td>(200.0, 100.0)</td>\n      <td>98.333333</td>\n      <td>2</td>\n      <td>1</td>\n      <td>1</td>\n      <td>1</td>\n      <td>3</td>\n      <td>1.0</td>\n      <td>1.0</td>\n      <td>True</td>\n    </tr>\n    <tr>\n      <th>877</th>\n      <td>distserve</td>\n      <td>OPT-13B</td>\n      <td>both</td>\n      <td>6.0</td>\n      <td>(200.0, 100.0)</td>\n      <td>90.500000</td>\n      <td>2</td>\n      <td>1</td>\n      <td>1</td>\n      <td>1</td>\n      <td>3</td>\n      <td>2.0</td>\n      <td>2.0</td>\n      <td>True</td>\n    </tr>\n    <tr>\n      <th>1102</th>\n      <td>distserve</td>\n      <td>OPT-13B</td>\n      <td>both</td>\n      <td>9.0</td>\n      <td>(200.0, 100.0)</td>\n      <td>82.555556</td>\n      <td>2</td>\n      <td>1</td>\n      <td>1</td>\n      <td>1</td>\n      <td>3</td>\n      <td>3.0</td>\n      <td>0.0</td>\n      <td>True</td>\n    </tr>\n    <tr>\n      <th>152</th>\n      <td>distserve</td>\n      <td>OPT-13B</td>\n      <td>both</td>\n      <td>12.0</td>\n      <td>(200.0, 100.0)</td>\n      <td>42.083333</td>\n      <td>2</td>\n      <td>1</td>\n      <td>1</td>\n      <td>1</td>\n      <td>3</td>\n      <td>4.0</td>\n      <td>0.0</td>\n      <td>True</td>\n    </tr>\n    <tr>\n      <th>302</th>\n      <td>distserve</td>\n      <td>OPT-13B</td>\n      <td>both</td>\n      <td>15.0</td>\n      <td>(200.0, 100.0)</td>\n      <td>14.600000</td>\n      <td>2</td>\n      <td>1</td>\n      <td>1</td>\n      <td>1</td>\n      <td>3</td>\n      <td>5.0</td>\n      <td>0.0</td>\n      <td>True</td>\n    </tr>\n    <tr>\n      <th>727</th>\n      <td>distserve</td>\n      <td>OPT-13B</td>\n      <td>both</td>\n      <td>4.0</td>\n      <td>(200.0, 100.0)</td>\n      <td>97.250000</td>\n      <td>2</td>\n      <td>1</td>\n      <td>1</td>\n      <td>2</td>\n      <td>4</td>\n      <td>1.0</td>\n      <td>1.0</td>\n      <td>True</td>\n    </tr>\n    <tr>\n      <th>977</th>\n      <td>distserve</td>\n      <td>OPT-13B</td>\n      <td>both</td>\n      <td>8.0</td>\n      <td>(200.0, 100.0)</td>\n      <td>85.875000</td>\n      <td>2</td>\n      <td>1</td>\n      <td>1</td>\n      <td>2</td>\n      <td>4</td>\n      <td>2.0</td>\n      <td>0.0</td>\n      <td>True</td>\n    </tr>\n    <tr>\n      <th>177</th>\n      <td>distserve</td>\n      <td>OPT-13B</td>\n      <td>both</td>\n      <td>12.0</td>\n      <td>(200.0, 100.0)</td>\n      <td>67.750000</td>\n      <td>2</td>\n      <td>1</td>\n      <td>1</td>\n      <td>2</td>\n      <td>4</td>\n      <td>3.0</td>\n      <td>0.0</td>\n      <td>True</td>\n    </tr>\n    <tr>\n      <th>377</th>\n      <td>distserve</td>\n      <td>OPT-13B</td>\n      <td>both</td>\n      <td>16.0</td>\n      <td>(200.0, 100.0)</td>\n      <td>43.250000</td>\n      <td>2</td>\n      <td>1</td>\n      <td>1</td>\n      <td>2</td>\n      <td>4</td>\n      <td>4.0</td>\n      <td>0.0</td>\n      <td>True</td>\n    </tr>\n    <tr>\n      <th>502</th>\n      <td>distserve</td>\n      <td>OPT-13B</td>\n      <td>both</td>\n      <td>20.0</td>\n      <td>(200.0, 100.0)</td>\n      <td>2.550000</td>\n      <td>2</td>\n      <td>1</td>\n      <td>1</td>\n      <td>2</td>\n      <td>4</td>\n      <td>5.0</td>\n      <td>0.0</td>\n      <td>True</td>\n    </tr>\n    <tr>\n      <th>752</th>\n      <td>distserve</td>\n      <td>OPT-13B</td>\n      <td>both</td>\n      <td>4.0</td>\n      <td>(200.0, 100.0)</td>\n      <td>97.250000</td>\n      <td>2</td>\n      <td>1</td>\n      <td>2</td>\n      <td>1</td>\n      <td>4</td>\n      <td>1.0</td>\n      <td>1.0</td>\n      <td>True</td>\n    </tr>\n    <tr>\n      <th>1002</th>\n      <td>distserve</td>\n      <td>OPT-13B</td>\n      <td>both</td>\n      <td>8.0</td>\n      <td>(200.0, 100.0)</td>\n      <td>85.875000</td>\n      <td>2</td>\n      <td>1</td>\n      <td>2</td>\n      <td>1</td>\n      <td>4</td>\n      <td>2.0</td>\n      <td>0.0</td>\n      <td>True</td>\n    </tr>\n    <tr>\n      <th>202</th>\n      <td>distserve</td>\n      <td>OPT-13B</td>\n      <td>both</td>\n      <td>12.0</td>\n      <td>(200.0, 100.0)</td>\n      <td>42.083333</td>\n      <td>2</td>\n      <td>1</td>\n      <td>2</td>\n      <td>1</td>\n      <td>4</td>\n      <td>3.0</td>\n      <td>0.0</td>\n      <td>True</td>\n    </tr>\n    <tr>\n      <th>402</th>\n      <td>distserve</td>\n      <td>OPT-13B</td>\n      <td>both</td>\n      <td>16.0</td>\n      <td>(200.0, 100.0)</td>\n      <td>10.125000</td>\n      <td>2</td>\n      <td>1</td>\n      <td>2</td>\n      <td>1</td>\n      <td>4</td>\n      <td>4.0</td>\n      <td>0.0</td>\n      <td>True</td>\n    </tr>\n    <tr>\n      <th>527</th>\n      <td>distserve</td>\n      <td>OPT-13B</td>\n      <td>both</td>\n      <td>20.0</td>\n      <td>(200.0, 100.0)</td>\n      <td>1.200000</td>\n      <td>2</td>\n      <td>1</td>\n      <td>2</td>\n      <td>1</td>\n      <td>4</td>\n      <td>5.0</td>\n      <td>0.0</td>\n      <td>True</td>\n    </tr>\n  </tbody>\n</table>\n</div>"
     },
     "execution_count": 82,
     "metadata": {},
     "output_type": "execute_result"
    }
   ],
   "source": [
    "figure_11_distserve_low"
   ],
   "metadata": {
    "collapsed": false,
    "ExecuteTime": {
     "end_time": "2024-04-23T22:38:15.909291Z",
     "start_time": "2024-04-23T22:38:15.848884Z"
    }
   },
   "id": "919167a14ff23dc2",
   "execution_count": 82
  },
  {
   "cell_type": "code",
   "outputs": [
    {
     "data": {
      "text/plain": "     backend model_type    pd  rate          target  attainment  tp_prefill  \\\n1127    vllm    OPT-13B  both   1.0  (200.0, 100.0)   82.000000           1   \n1352    vllm    OPT-13B  both   2.0  (200.0, 100.0)   83.500000           1   \n1502    vllm    OPT-13B  both   3.0  (200.0, 100.0)   75.000000           1   \n1527    vllm    OPT-13B  both   4.0  (200.0, 100.0)   53.750000           1   \n1677    vllm    OPT-13B  both   5.0  (200.0, 100.0)   19.400000           1   \n1377    vllm    OPT-13B  both   2.0  (200.0, 100.0)   89.500000           1   \n1552    vllm    OPT-13B  both   4.0  (200.0, 100.0)   84.500000           1   \n1702    vllm    OPT-13B  both   6.0  (200.0, 100.0)   40.833333           1   \n1752    vllm    OPT-13B  both   8.0  (200.0, 100.0)   11.875000           1   \n1152    vllm    OPT-13B  both  10.0  (200.0, 100.0)    3.400000           1   \n1577    vllm    OPT-13B  both   4.0  (200.0, 100.0)   89.500000           1   \n1777    vllm    OPT-13B  both   8.0  (200.0, 100.0)   31.500000           1   \n1202    vllm    OPT-13B  both  12.0  (200.0, 100.0)    6.583333           1   \n1277    vllm    OPT-13B  both  16.0  (200.0, 100.0)    1.687500           1   \n1427    vllm    OPT-13B  both  20.0  (200.0, 100.0)    0.450000           1   \n1402    vllm    OPT-13B  both   2.0  (200.0, 100.0)   97.000000           2   \n1602    vllm    OPT-13B  both   4.0  (200.0, 100.0)   88.500000           2   \n1727    vllm    OPT-13B  both   6.0  (200.0, 100.0)   43.166667           2   \n1802    vllm    OPT-13B  both   8.0  (200.0, 100.0)    9.750000           2   \n1177    vllm    OPT-13B  both  10.0  (200.0, 100.0)    2.900000           2   \n1627    vllm    OPT-13B  both   4.0  (200.0, 100.0)   97.750000           2   \n1827    vllm    OPT-13B  both   8.0  (200.0, 100.0)   48.000000           2   \n1227    vllm    OPT-13B  both  12.0  (200.0, 100.0)    9.083333           2   \n1302    vllm    OPT-13B  both  16.0  (200.0, 100.0)    2.250000           2   \n1452    vllm    OPT-13B  both  20.0  (200.0, 100.0)    0.450000           2   \n1652    vllm    OPT-13B  both   4.0  (200.0, 100.0)  100.000000           4   \n1852    vllm    OPT-13B  both   8.0  (200.0, 100.0)   62.625000           4   \n1252    vllm    OPT-13B  both  12.0  (200.0, 100.0)    9.416667           4   \n1327    vllm    OPT-13B  both  16.0  (200.0, 100.0)    2.375000           4   \n1477    vllm    OPT-13B  both  20.0  (200.0, 100.0)    0.450000           4   \n\n      pp_prefill  tp_decode  pp_decode  ngpu  per_gpu_rate  goodput@90  \\\n1127           1          0          0     1           1.0         0.0   \n1352           1          0          0     1           2.0         0.0   \n1502           1          0          0     1           3.0         0.0   \n1527           1          0          0     1           4.0         0.0   \n1677           1          0          0     1           5.0         0.0   \n1377           2          0          0     2           1.0         0.0   \n1552           2          0          0     2           2.0         0.0   \n1702           2          0          0     2           3.0         0.0   \n1752           2          0          0     2           4.0         0.0   \n1152           2          0          0     2           5.0         0.0   \n1577           4          0          0     4           1.0         0.0   \n1777           4          0          0     4           2.0         0.0   \n1202           4          0          0     4           3.0         0.0   \n1277           4          0          0     4           4.0         0.0   \n1427           4          0          0     4           5.0         0.0   \n1402           1          0          0     2           1.0         1.0   \n1602           1          0          0     2           2.0         0.0   \n1727           1          0          0     2           3.0         0.0   \n1802           1          0          0     2           4.0         0.0   \n1177           1          0          0     2           5.0         0.0   \n1627           2          0          0     4           1.0         1.0   \n1827           2          0          0     4           2.0         0.0   \n1227           2          0          0     4           3.0         0.0   \n1302           2          0          0     4           4.0         0.0   \n1452           2          0          0     4           5.0         0.0   \n1652           1          0          0     4           1.0         1.0   \n1852           1          0          0     4           2.0         0.0   \n1252           1          0          0     4           3.0         0.0   \n1327           1          0          0     4           4.0         0.0   \n1477           1          0          0     4           5.0         0.0   \n\n      low_affin  \n1127       True  \n1352       True  \n1502       True  \n1527       True  \n1677       True  \n1377       True  \n1552       True  \n1702       True  \n1752       True  \n1152       True  \n1577       True  \n1777       True  \n1202       True  \n1277       True  \n1427       True  \n1402       True  \n1602       True  \n1727       True  \n1802       True  \n1177       True  \n1627       True  \n1827       True  \n1227       True  \n1302       True  \n1452       True  \n1652       True  \n1852       True  \n1252       True  \n1327       True  \n1477       True  ",
      "text/html": "<div>\n<style scoped>\n    .dataframe tbody tr th:only-of-type {\n        vertical-align: middle;\n    }\n\n    .dataframe tbody tr th {\n        vertical-align: top;\n    }\n\n    .dataframe thead th {\n        text-align: right;\n    }\n</style>\n<table border=\"1\" class=\"dataframe\">\n  <thead>\n    <tr style=\"text-align: right;\">\n      <th></th>\n      <th>backend</th>\n      <th>model_type</th>\n      <th>pd</th>\n      <th>rate</th>\n      <th>target</th>\n      <th>attainment</th>\n      <th>tp_prefill</th>\n      <th>pp_prefill</th>\n      <th>tp_decode</th>\n      <th>pp_decode</th>\n      <th>ngpu</th>\n      <th>per_gpu_rate</th>\n      <th>goodput@90</th>\n      <th>low_affin</th>\n    </tr>\n  </thead>\n  <tbody>\n    <tr>\n      <th>1127</th>\n      <td>vllm</td>\n      <td>OPT-13B</td>\n      <td>both</td>\n      <td>1.0</td>\n      <td>(200.0, 100.0)</td>\n      <td>82.000000</td>\n      <td>1</td>\n      <td>1</td>\n      <td>0</td>\n      <td>0</td>\n      <td>1</td>\n      <td>1.0</td>\n      <td>0.0</td>\n      <td>True</td>\n    </tr>\n    <tr>\n      <th>1352</th>\n      <td>vllm</td>\n      <td>OPT-13B</td>\n      <td>both</td>\n      <td>2.0</td>\n      <td>(200.0, 100.0)</td>\n      <td>83.500000</td>\n      <td>1</td>\n      <td>1</td>\n      <td>0</td>\n      <td>0</td>\n      <td>1</td>\n      <td>2.0</td>\n      <td>0.0</td>\n      <td>True</td>\n    </tr>\n    <tr>\n      <th>1502</th>\n      <td>vllm</td>\n      <td>OPT-13B</td>\n      <td>both</td>\n      <td>3.0</td>\n      <td>(200.0, 100.0)</td>\n      <td>75.000000</td>\n      <td>1</td>\n      <td>1</td>\n      <td>0</td>\n      <td>0</td>\n      <td>1</td>\n      <td>3.0</td>\n      <td>0.0</td>\n      <td>True</td>\n    </tr>\n    <tr>\n      <th>1527</th>\n      <td>vllm</td>\n      <td>OPT-13B</td>\n      <td>both</td>\n      <td>4.0</td>\n      <td>(200.0, 100.0)</td>\n      <td>53.750000</td>\n      <td>1</td>\n      <td>1</td>\n      <td>0</td>\n      <td>0</td>\n      <td>1</td>\n      <td>4.0</td>\n      <td>0.0</td>\n      <td>True</td>\n    </tr>\n    <tr>\n      <th>1677</th>\n      <td>vllm</td>\n      <td>OPT-13B</td>\n      <td>both</td>\n      <td>5.0</td>\n      <td>(200.0, 100.0)</td>\n      <td>19.400000</td>\n      <td>1</td>\n      <td>1</td>\n      <td>0</td>\n      <td>0</td>\n      <td>1</td>\n      <td>5.0</td>\n      <td>0.0</td>\n      <td>True</td>\n    </tr>\n    <tr>\n      <th>1377</th>\n      <td>vllm</td>\n      <td>OPT-13B</td>\n      <td>both</td>\n      <td>2.0</td>\n      <td>(200.0, 100.0)</td>\n      <td>89.500000</td>\n      <td>1</td>\n      <td>2</td>\n      <td>0</td>\n      <td>0</td>\n      <td>2</td>\n      <td>1.0</td>\n      <td>0.0</td>\n      <td>True</td>\n    </tr>\n    <tr>\n      <th>1552</th>\n      <td>vllm</td>\n      <td>OPT-13B</td>\n      <td>both</td>\n      <td>4.0</td>\n      <td>(200.0, 100.0)</td>\n      <td>84.500000</td>\n      <td>1</td>\n      <td>2</td>\n      <td>0</td>\n      <td>0</td>\n      <td>2</td>\n      <td>2.0</td>\n      <td>0.0</td>\n      <td>True</td>\n    </tr>\n    <tr>\n      <th>1702</th>\n      <td>vllm</td>\n      <td>OPT-13B</td>\n      <td>both</td>\n      <td>6.0</td>\n      <td>(200.0, 100.0)</td>\n      <td>40.833333</td>\n      <td>1</td>\n      <td>2</td>\n      <td>0</td>\n      <td>0</td>\n      <td>2</td>\n      <td>3.0</td>\n      <td>0.0</td>\n      <td>True</td>\n    </tr>\n    <tr>\n      <th>1752</th>\n      <td>vllm</td>\n      <td>OPT-13B</td>\n      <td>both</td>\n      <td>8.0</td>\n      <td>(200.0, 100.0)</td>\n      <td>11.875000</td>\n      <td>1</td>\n      <td>2</td>\n      <td>0</td>\n      <td>0</td>\n      <td>2</td>\n      <td>4.0</td>\n      <td>0.0</td>\n      <td>True</td>\n    </tr>\n    <tr>\n      <th>1152</th>\n      <td>vllm</td>\n      <td>OPT-13B</td>\n      <td>both</td>\n      <td>10.0</td>\n      <td>(200.0, 100.0)</td>\n      <td>3.400000</td>\n      <td>1</td>\n      <td>2</td>\n      <td>0</td>\n      <td>0</td>\n      <td>2</td>\n      <td>5.0</td>\n      <td>0.0</td>\n      <td>True</td>\n    </tr>\n    <tr>\n      <th>1577</th>\n      <td>vllm</td>\n      <td>OPT-13B</td>\n      <td>both</td>\n      <td>4.0</td>\n      <td>(200.0, 100.0)</td>\n      <td>89.500000</td>\n      <td>1</td>\n      <td>4</td>\n      <td>0</td>\n      <td>0</td>\n      <td>4</td>\n      <td>1.0</td>\n      <td>0.0</td>\n      <td>True</td>\n    </tr>\n    <tr>\n      <th>1777</th>\n      <td>vllm</td>\n      <td>OPT-13B</td>\n      <td>both</td>\n      <td>8.0</td>\n      <td>(200.0, 100.0)</td>\n      <td>31.500000</td>\n      <td>1</td>\n      <td>4</td>\n      <td>0</td>\n      <td>0</td>\n      <td>4</td>\n      <td>2.0</td>\n      <td>0.0</td>\n      <td>True</td>\n    </tr>\n    <tr>\n      <th>1202</th>\n      <td>vllm</td>\n      <td>OPT-13B</td>\n      <td>both</td>\n      <td>12.0</td>\n      <td>(200.0, 100.0)</td>\n      <td>6.583333</td>\n      <td>1</td>\n      <td>4</td>\n      <td>0</td>\n      <td>0</td>\n      <td>4</td>\n      <td>3.0</td>\n      <td>0.0</td>\n      <td>True</td>\n    </tr>\n    <tr>\n      <th>1277</th>\n      <td>vllm</td>\n      <td>OPT-13B</td>\n      <td>both</td>\n      <td>16.0</td>\n      <td>(200.0, 100.0)</td>\n      <td>1.687500</td>\n      <td>1</td>\n      <td>4</td>\n      <td>0</td>\n      <td>0</td>\n      <td>4</td>\n      <td>4.0</td>\n      <td>0.0</td>\n      <td>True</td>\n    </tr>\n    <tr>\n      <th>1427</th>\n      <td>vllm</td>\n      <td>OPT-13B</td>\n      <td>both</td>\n      <td>20.0</td>\n      <td>(200.0, 100.0)</td>\n      <td>0.450000</td>\n      <td>1</td>\n      <td>4</td>\n      <td>0</td>\n      <td>0</td>\n      <td>4</td>\n      <td>5.0</td>\n      <td>0.0</td>\n      <td>True</td>\n    </tr>\n    <tr>\n      <th>1402</th>\n      <td>vllm</td>\n      <td>OPT-13B</td>\n      <td>both</td>\n      <td>2.0</td>\n      <td>(200.0, 100.0)</td>\n      <td>97.000000</td>\n      <td>2</td>\n      <td>1</td>\n      <td>0</td>\n      <td>0</td>\n      <td>2</td>\n      <td>1.0</td>\n      <td>1.0</td>\n      <td>True</td>\n    </tr>\n    <tr>\n      <th>1602</th>\n      <td>vllm</td>\n      <td>OPT-13B</td>\n      <td>both</td>\n      <td>4.0</td>\n      <td>(200.0, 100.0)</td>\n      <td>88.500000</td>\n      <td>2</td>\n      <td>1</td>\n      <td>0</td>\n      <td>0</td>\n      <td>2</td>\n      <td>2.0</td>\n      <td>0.0</td>\n      <td>True</td>\n    </tr>\n    <tr>\n      <th>1727</th>\n      <td>vllm</td>\n      <td>OPT-13B</td>\n      <td>both</td>\n      <td>6.0</td>\n      <td>(200.0, 100.0)</td>\n      <td>43.166667</td>\n      <td>2</td>\n      <td>1</td>\n      <td>0</td>\n      <td>0</td>\n      <td>2</td>\n      <td>3.0</td>\n      <td>0.0</td>\n      <td>True</td>\n    </tr>\n    <tr>\n      <th>1802</th>\n      <td>vllm</td>\n      <td>OPT-13B</td>\n      <td>both</td>\n      <td>8.0</td>\n      <td>(200.0, 100.0)</td>\n      <td>9.750000</td>\n      <td>2</td>\n      <td>1</td>\n      <td>0</td>\n      <td>0</td>\n      <td>2</td>\n      <td>4.0</td>\n      <td>0.0</td>\n      <td>True</td>\n    </tr>\n    <tr>\n      <th>1177</th>\n      <td>vllm</td>\n      <td>OPT-13B</td>\n      <td>both</td>\n      <td>10.0</td>\n      <td>(200.0, 100.0)</td>\n      <td>2.900000</td>\n      <td>2</td>\n      <td>1</td>\n      <td>0</td>\n      <td>0</td>\n      <td>2</td>\n      <td>5.0</td>\n      <td>0.0</td>\n      <td>True</td>\n    </tr>\n    <tr>\n      <th>1627</th>\n      <td>vllm</td>\n      <td>OPT-13B</td>\n      <td>both</td>\n      <td>4.0</td>\n      <td>(200.0, 100.0)</td>\n      <td>97.750000</td>\n      <td>2</td>\n      <td>2</td>\n      <td>0</td>\n      <td>0</td>\n      <td>4</td>\n      <td>1.0</td>\n      <td>1.0</td>\n      <td>True</td>\n    </tr>\n    <tr>\n      <th>1827</th>\n      <td>vllm</td>\n      <td>OPT-13B</td>\n      <td>both</td>\n      <td>8.0</td>\n      <td>(200.0, 100.0)</td>\n      <td>48.000000</td>\n      <td>2</td>\n      <td>2</td>\n      <td>0</td>\n      <td>0</td>\n      <td>4</td>\n      <td>2.0</td>\n      <td>0.0</td>\n      <td>True</td>\n    </tr>\n    <tr>\n      <th>1227</th>\n      <td>vllm</td>\n      <td>OPT-13B</td>\n      <td>both</td>\n      <td>12.0</td>\n      <td>(200.0, 100.0)</td>\n      <td>9.083333</td>\n      <td>2</td>\n      <td>2</td>\n      <td>0</td>\n      <td>0</td>\n      <td>4</td>\n      <td>3.0</td>\n      <td>0.0</td>\n      <td>True</td>\n    </tr>\n    <tr>\n      <th>1302</th>\n      <td>vllm</td>\n      <td>OPT-13B</td>\n      <td>both</td>\n      <td>16.0</td>\n      <td>(200.0, 100.0)</td>\n      <td>2.250000</td>\n      <td>2</td>\n      <td>2</td>\n      <td>0</td>\n      <td>0</td>\n      <td>4</td>\n      <td>4.0</td>\n      <td>0.0</td>\n      <td>True</td>\n    </tr>\n    <tr>\n      <th>1452</th>\n      <td>vllm</td>\n      <td>OPT-13B</td>\n      <td>both</td>\n      <td>20.0</td>\n      <td>(200.0, 100.0)</td>\n      <td>0.450000</td>\n      <td>2</td>\n      <td>2</td>\n      <td>0</td>\n      <td>0</td>\n      <td>4</td>\n      <td>5.0</td>\n      <td>0.0</td>\n      <td>True</td>\n    </tr>\n    <tr>\n      <th>1652</th>\n      <td>vllm</td>\n      <td>OPT-13B</td>\n      <td>both</td>\n      <td>4.0</td>\n      <td>(200.0, 100.0)</td>\n      <td>100.000000</td>\n      <td>4</td>\n      <td>1</td>\n      <td>0</td>\n      <td>0</td>\n      <td>4</td>\n      <td>1.0</td>\n      <td>1.0</td>\n      <td>True</td>\n    </tr>\n    <tr>\n      <th>1852</th>\n      <td>vllm</td>\n      <td>OPT-13B</td>\n      <td>both</td>\n      <td>8.0</td>\n      <td>(200.0, 100.0)</td>\n      <td>62.625000</td>\n      <td>4</td>\n      <td>1</td>\n      <td>0</td>\n      <td>0</td>\n      <td>4</td>\n      <td>2.0</td>\n      <td>0.0</td>\n      <td>True</td>\n    </tr>\n    <tr>\n      <th>1252</th>\n      <td>vllm</td>\n      <td>OPT-13B</td>\n      <td>both</td>\n      <td>12.0</td>\n      <td>(200.0, 100.0)</td>\n      <td>9.416667</td>\n      <td>4</td>\n      <td>1</td>\n      <td>0</td>\n      <td>0</td>\n      <td>4</td>\n      <td>3.0</td>\n      <td>0.0</td>\n      <td>True</td>\n    </tr>\n    <tr>\n      <th>1327</th>\n      <td>vllm</td>\n      <td>OPT-13B</td>\n      <td>both</td>\n      <td>16.0</td>\n      <td>(200.0, 100.0)</td>\n      <td>2.375000</td>\n      <td>4</td>\n      <td>1</td>\n      <td>0</td>\n      <td>0</td>\n      <td>4</td>\n      <td>4.0</td>\n      <td>0.0</td>\n      <td>True</td>\n    </tr>\n    <tr>\n      <th>1477</th>\n      <td>vllm</td>\n      <td>OPT-13B</td>\n      <td>both</td>\n      <td>20.0</td>\n      <td>(200.0, 100.0)</td>\n      <td>0.450000</td>\n      <td>4</td>\n      <td>1</td>\n      <td>0</td>\n      <td>0</td>\n      <td>4</td>\n      <td>5.0</td>\n      <td>0.0</td>\n      <td>True</td>\n    </tr>\n  </tbody>\n</table>\n</div>"
     },
     "execution_count": 83,
     "metadata": {},
     "output_type": "execute_result"
    }
   ],
   "source": [
    "figure_11_vllm_high"
   ],
   "metadata": {
    "collapsed": false,
    "ExecuteTime": {
     "end_time": "2024-04-23T22:38:15.920772Z",
     "start_time": "2024-04-23T22:38:15.865457Z"
    }
   },
   "id": "afb7980c8f37f3ab",
   "execution_count": 83
  },
  {
   "cell_type": "code",
   "outputs": [
    {
     "data": {
      "text/plain": "     backend model_type    pd  rate          target  attainment  tp_prefill  \\\n1127    vllm    OPT-13B  both   1.0  (200.0, 100.0)       82.00           1   \n1352    vllm    OPT-13B  both   2.0  (200.0, 100.0)       83.50           1   \n1502    vllm    OPT-13B  both   3.0  (200.0, 100.0)       75.00           1   \n1527    vllm    OPT-13B  both   4.0  (200.0, 100.0)       53.75           1   \n1677    vllm    OPT-13B  both   5.0  (200.0, 100.0)       19.40           1   \n\n      pp_prefill  tp_decode  pp_decode  ngpu  per_gpu_rate  goodput@90  \\\n1127           1          0          0     1           1.0         0.0   \n1352           1          0          0     1           2.0         0.0   \n1502           1          0          0     1           3.0         0.0   \n1527           1          0          0     1           4.0         0.0   \n1677           1          0          0     1           5.0         0.0   \n\n      low_affin  \n1127       True  \n1352       True  \n1502       True  \n1527       True  \n1677       True  ",
      "text/html": "<div>\n<style scoped>\n    .dataframe tbody tr th:only-of-type {\n        vertical-align: middle;\n    }\n\n    .dataframe tbody tr th {\n        vertical-align: top;\n    }\n\n    .dataframe thead th {\n        text-align: right;\n    }\n</style>\n<table border=\"1\" class=\"dataframe\">\n  <thead>\n    <tr style=\"text-align: right;\">\n      <th></th>\n      <th>backend</th>\n      <th>model_type</th>\n      <th>pd</th>\n      <th>rate</th>\n      <th>target</th>\n      <th>attainment</th>\n      <th>tp_prefill</th>\n      <th>pp_prefill</th>\n      <th>tp_decode</th>\n      <th>pp_decode</th>\n      <th>ngpu</th>\n      <th>per_gpu_rate</th>\n      <th>goodput@90</th>\n      <th>low_affin</th>\n    </tr>\n  </thead>\n  <tbody>\n    <tr>\n      <th>1127</th>\n      <td>vllm</td>\n      <td>OPT-13B</td>\n      <td>both</td>\n      <td>1.0</td>\n      <td>(200.0, 100.0)</td>\n      <td>82.00</td>\n      <td>1</td>\n      <td>1</td>\n      <td>0</td>\n      <td>0</td>\n      <td>1</td>\n      <td>1.0</td>\n      <td>0.0</td>\n      <td>True</td>\n    </tr>\n    <tr>\n      <th>1352</th>\n      <td>vllm</td>\n      <td>OPT-13B</td>\n      <td>both</td>\n      <td>2.0</td>\n      <td>(200.0, 100.0)</td>\n      <td>83.50</td>\n      <td>1</td>\n      <td>1</td>\n      <td>0</td>\n      <td>0</td>\n      <td>1</td>\n      <td>2.0</td>\n      <td>0.0</td>\n      <td>True</td>\n    </tr>\n    <tr>\n      <th>1502</th>\n      <td>vllm</td>\n      <td>OPT-13B</td>\n      <td>both</td>\n      <td>3.0</td>\n      <td>(200.0, 100.0)</td>\n      <td>75.00</td>\n      <td>1</td>\n      <td>1</td>\n      <td>0</td>\n      <td>0</td>\n      <td>1</td>\n      <td>3.0</td>\n      <td>0.0</td>\n      <td>True</td>\n    </tr>\n    <tr>\n      <th>1527</th>\n      <td>vllm</td>\n      <td>OPT-13B</td>\n      <td>both</td>\n      <td>4.0</td>\n      <td>(200.0, 100.0)</td>\n      <td>53.75</td>\n      <td>1</td>\n      <td>1</td>\n      <td>0</td>\n      <td>0</td>\n      <td>1</td>\n      <td>4.0</td>\n      <td>0.0</td>\n      <td>True</td>\n    </tr>\n    <tr>\n      <th>1677</th>\n      <td>vllm</td>\n      <td>OPT-13B</td>\n      <td>both</td>\n      <td>5.0</td>\n      <td>(200.0, 100.0)</td>\n      <td>19.40</td>\n      <td>1</td>\n      <td>1</td>\n      <td>0</td>\n      <td>0</td>\n      <td>1</td>\n      <td>5.0</td>\n      <td>0.0</td>\n      <td>True</td>\n    </tr>\n  </tbody>\n</table>\n</div>"
     },
     "execution_count": 84,
     "metadata": {},
     "output_type": "execute_result"
    }
   ],
   "source": [
    "figure_11_vllm_low"
   ],
   "metadata": {
    "collapsed": false,
    "ExecuteTime": {
     "end_time": "2024-04-23T22:38:15.921831Z",
     "start_time": "2024-04-23T22:38:15.881494Z"
    }
   },
   "id": "f75057473fc9c5ca",
   "execution_count": 84
  },
  {
   "cell_type": "code",
   "outputs": [],
   "source": [],
   "metadata": {
    "collapsed": false,
    "ExecuteTime": {
     "end_time": "2024-04-23T22:38:15.922198Z",
     "start_time": "2024-04-23T22:38:15.883926Z"
    }
   },
   "id": "a769e97e148bf255",
   "execution_count": 84
  },
  {
   "cell_type": "code",
   "outputs": [
    {
     "data": {
      "application/vnd.plotly.v1+json": {
       "data": [
        {
         "mode": "lines+markers",
         "name": "p1111-distserve",
         "x": [
          1.0,
          2.0,
          3.0,
          4.0,
          5.0
         ],
         "y": [
          90.0,
          80.75,
          64.66666666666666,
          19.5,
          7.8
         ],
         "type": "scatter"
        },
        {
         "mode": "lines+markers",
         "name": "p1112-distserve",
         "x": [
          1.0,
          2.0,
          3.0,
          4.0,
          5.0
         ],
         "y": [
          86.66666666666667,
          65.66666666666666,
          41.0,
          5.666666666666666,
          0.8
         ],
         "type": "scatter"
        },
        {
         "mode": "lines+markers",
         "name": "p1121-distserve",
         "x": [
          1.0,
          2.0,
          3.0,
          4.0,
          5.0
         ],
         "y": [
          86.66666666666667,
          64.66666666666666,
          12.777777777777777,
          1.3333333333333337,
          0.7333333333333333
         ],
         "type": "scatter"
        },
        {
         "mode": "lines+markers",
         "name": "p1211-distserve",
         "x": [
          1.0,
          2.0,
          3.0,
          4.0,
          5.0
         ],
         "y": [
          92.0,
          87.33333333333333,
          23.88888888888889,
          10.75,
          5.666666666666666
         ],
         "type": "scatter"
        },
        {
         "mode": "lines+markers",
         "name": "p1212-distserve",
         "x": [
          1.0,
          2.0,
          3.0,
          4.0,
          5.0
         ],
         "y": [
          91.25,
          81.25,
          43.25,
          12.5,
          2.95
         ],
         "type": "scatter"
        },
        {
         "mode": "lines+markers",
         "name": "p1221-distserve",
         "x": [
          1.0,
          2.0,
          3.0,
          4.0,
          5.0
         ],
         "y": [
          91.25,
          33.375,
          10.75,
          4.6875,
          1.5
         ],
         "type": "scatter"
        },
        {
         "mode": "lines+markers",
         "name": "p2111-distserve",
         "x": [
          1.0,
          2.0,
          3.0,
          4.0,
          5.0
         ],
         "y": [
          98.33333333333331,
          90.5,
          82.55555555555556,
          42.083333333333336,
          14.6
         ],
         "type": "scatter"
        },
        {
         "mode": "lines+markers",
         "name": "p2112-distserve",
         "x": [
          1.0,
          2.0,
          3.0,
          4.0,
          5.0
         ],
         "y": [
          97.25,
          85.875,
          67.75,
          43.25,
          2.55
         ],
         "type": "scatter"
        },
        {
         "mode": "lines+markers",
         "name": "p2121-distserve",
         "x": [
          1.0,
          2.0,
          3.0,
          4.0,
          5.0
         ],
         "y": [
          97.25,
          85.875,
          42.083333333333336,
          10.125,
          1.2
         ],
         "type": "scatter"
        }
       ],
       "layout": {
        "template": {
         "data": {
          "histogram2dcontour": [
           {
            "type": "histogram2dcontour",
            "colorbar": {
             "outlinewidth": 0,
             "ticks": ""
            },
            "colorscale": [
             [
              0.0,
              "#0d0887"
             ],
             [
              0.1111111111111111,
              "#46039f"
             ],
             [
              0.2222222222222222,
              "#7201a8"
             ],
             [
              0.3333333333333333,
              "#9c179e"
             ],
             [
              0.4444444444444444,
              "#bd3786"
             ],
             [
              0.5555555555555556,
              "#d8576b"
             ],
             [
              0.6666666666666666,
              "#ed7953"
             ],
             [
              0.7777777777777778,
              "#fb9f3a"
             ],
             [
              0.8888888888888888,
              "#fdca26"
             ],
             [
              1.0,
              "#f0f921"
             ]
            ]
           }
          ],
          "choropleth": [
           {
            "type": "choropleth",
            "colorbar": {
             "outlinewidth": 0,
             "ticks": ""
            }
           }
          ],
          "histogram2d": [
           {
            "type": "histogram2d",
            "colorbar": {
             "outlinewidth": 0,
             "ticks": ""
            },
            "colorscale": [
             [
              0.0,
              "#0d0887"
             ],
             [
              0.1111111111111111,
              "#46039f"
             ],
             [
              0.2222222222222222,
              "#7201a8"
             ],
             [
              0.3333333333333333,
              "#9c179e"
             ],
             [
              0.4444444444444444,
              "#bd3786"
             ],
             [
              0.5555555555555556,
              "#d8576b"
             ],
             [
              0.6666666666666666,
              "#ed7953"
             ],
             [
              0.7777777777777778,
              "#fb9f3a"
             ],
             [
              0.8888888888888888,
              "#fdca26"
             ],
             [
              1.0,
              "#f0f921"
             ]
            ]
           }
          ],
          "heatmap": [
           {
            "type": "heatmap",
            "colorbar": {
             "outlinewidth": 0,
             "ticks": ""
            },
            "colorscale": [
             [
              0.0,
              "#0d0887"
             ],
             [
              0.1111111111111111,
              "#46039f"
             ],
             [
              0.2222222222222222,
              "#7201a8"
             ],
             [
              0.3333333333333333,
              "#9c179e"
             ],
             [
              0.4444444444444444,
              "#bd3786"
             ],
             [
              0.5555555555555556,
              "#d8576b"
             ],
             [
              0.6666666666666666,
              "#ed7953"
             ],
             [
              0.7777777777777778,
              "#fb9f3a"
             ],
             [
              0.8888888888888888,
              "#fdca26"
             ],
             [
              1.0,
              "#f0f921"
             ]
            ]
           }
          ],
          "heatmapgl": [
           {
            "type": "heatmapgl",
            "colorbar": {
             "outlinewidth": 0,
             "ticks": ""
            },
            "colorscale": [
             [
              0.0,
              "#0d0887"
             ],
             [
              0.1111111111111111,
              "#46039f"
             ],
             [
              0.2222222222222222,
              "#7201a8"
             ],
             [
              0.3333333333333333,
              "#9c179e"
             ],
             [
              0.4444444444444444,
              "#bd3786"
             ],
             [
              0.5555555555555556,
              "#d8576b"
             ],
             [
              0.6666666666666666,
              "#ed7953"
             ],
             [
              0.7777777777777778,
              "#fb9f3a"
             ],
             [
              0.8888888888888888,
              "#fdca26"
             ],
             [
              1.0,
              "#f0f921"
             ]
            ]
           }
          ],
          "contourcarpet": [
           {
            "type": "contourcarpet",
            "colorbar": {
             "outlinewidth": 0,
             "ticks": ""
            }
           }
          ],
          "contour": [
           {
            "type": "contour",
            "colorbar": {
             "outlinewidth": 0,
             "ticks": ""
            },
            "colorscale": [
             [
              0.0,
              "#0d0887"
             ],
             [
              0.1111111111111111,
              "#46039f"
             ],
             [
              0.2222222222222222,
              "#7201a8"
             ],
             [
              0.3333333333333333,
              "#9c179e"
             ],
             [
              0.4444444444444444,
              "#bd3786"
             ],
             [
              0.5555555555555556,
              "#d8576b"
             ],
             [
              0.6666666666666666,
              "#ed7953"
             ],
             [
              0.7777777777777778,
              "#fb9f3a"
             ],
             [
              0.8888888888888888,
              "#fdca26"
             ],
             [
              1.0,
              "#f0f921"
             ]
            ]
           }
          ],
          "surface": [
           {
            "type": "surface",
            "colorbar": {
             "outlinewidth": 0,
             "ticks": ""
            },
            "colorscale": [
             [
              0.0,
              "#0d0887"
             ],
             [
              0.1111111111111111,
              "#46039f"
             ],
             [
              0.2222222222222222,
              "#7201a8"
             ],
             [
              0.3333333333333333,
              "#9c179e"
             ],
             [
              0.4444444444444444,
              "#bd3786"
             ],
             [
              0.5555555555555556,
              "#d8576b"
             ],
             [
              0.6666666666666666,
              "#ed7953"
             ],
             [
              0.7777777777777778,
              "#fb9f3a"
             ],
             [
              0.8888888888888888,
              "#fdca26"
             ],
             [
              1.0,
              "#f0f921"
             ]
            ]
           }
          ],
          "mesh3d": [
           {
            "type": "mesh3d",
            "colorbar": {
             "outlinewidth": 0,
             "ticks": ""
            }
           }
          ],
          "scatter": [
           {
            "marker": {
             "line": {
              "color": "#283442"
             }
            },
            "type": "scatter"
           }
          ],
          "parcoords": [
           {
            "type": "parcoords",
            "line": {
             "colorbar": {
              "outlinewidth": 0,
              "ticks": ""
             }
            }
           }
          ],
          "scatterpolargl": [
           {
            "type": "scatterpolargl",
            "marker": {
             "colorbar": {
              "outlinewidth": 0,
              "ticks": ""
             }
            }
           }
          ],
          "bar": [
           {
            "error_x": {
             "color": "#f2f5fa"
            },
            "error_y": {
             "color": "#f2f5fa"
            },
            "marker": {
             "line": {
              "color": "rgb(17,17,17)",
              "width": 0.5
             },
             "pattern": {
              "fillmode": "overlay",
              "size": 10,
              "solidity": 0.2
             }
            },
            "type": "bar"
           }
          ],
          "scattergeo": [
           {
            "type": "scattergeo",
            "marker": {
             "colorbar": {
              "outlinewidth": 0,
              "ticks": ""
             }
            }
           }
          ],
          "scatterpolar": [
           {
            "type": "scatterpolar",
            "marker": {
             "colorbar": {
              "outlinewidth": 0,
              "ticks": ""
             }
            }
           }
          ],
          "histogram": [
           {
            "marker": {
             "pattern": {
              "fillmode": "overlay",
              "size": 10,
              "solidity": 0.2
             }
            },
            "type": "histogram"
           }
          ],
          "scattergl": [
           {
            "marker": {
             "line": {
              "color": "#283442"
             }
            },
            "type": "scattergl"
           }
          ],
          "scatter3d": [
           {
            "type": "scatter3d",
            "line": {
             "colorbar": {
              "outlinewidth": 0,
              "ticks": ""
             }
            },
            "marker": {
             "colorbar": {
              "outlinewidth": 0,
              "ticks": ""
             }
            }
           }
          ],
          "scattermapbox": [
           {
            "type": "scattermapbox",
            "marker": {
             "colorbar": {
              "outlinewidth": 0,
              "ticks": ""
             }
            }
           }
          ],
          "scatterternary": [
           {
            "type": "scatterternary",
            "marker": {
             "colorbar": {
              "outlinewidth": 0,
              "ticks": ""
             }
            }
           }
          ],
          "scattercarpet": [
           {
            "type": "scattercarpet",
            "marker": {
             "colorbar": {
              "outlinewidth": 0,
              "ticks": ""
             }
            }
           }
          ],
          "carpet": [
           {
            "aaxis": {
             "endlinecolor": "#A2B1C6",
             "gridcolor": "#506784",
             "linecolor": "#506784",
             "minorgridcolor": "#506784",
             "startlinecolor": "#A2B1C6"
            },
            "baxis": {
             "endlinecolor": "#A2B1C6",
             "gridcolor": "#506784",
             "linecolor": "#506784",
             "minorgridcolor": "#506784",
             "startlinecolor": "#A2B1C6"
            },
            "type": "carpet"
           }
          ],
          "table": [
           {
            "cells": {
             "fill": {
              "color": "#506784"
             },
             "line": {
              "color": "rgb(17,17,17)"
             }
            },
            "header": {
             "fill": {
              "color": "#2a3f5f"
             },
             "line": {
              "color": "rgb(17,17,17)"
             }
            },
            "type": "table"
           }
          ],
          "barpolar": [
           {
            "marker": {
             "line": {
              "color": "rgb(17,17,17)",
              "width": 0.5
             },
             "pattern": {
              "fillmode": "overlay",
              "size": 10,
              "solidity": 0.2
             }
            },
            "type": "barpolar"
           }
          ],
          "pie": [
           {
            "automargin": true,
            "type": "pie"
           }
          ]
         },
         "layout": {
          "autotypenumbers": "strict",
          "colorway": [
           "#636efa",
           "#EF553B",
           "#00cc96",
           "#ab63fa",
           "#FFA15A",
           "#19d3f3",
           "#FF6692",
           "#B6E880",
           "#FF97FF",
           "#FECB52"
          ],
          "font": {
           "color": "#f2f5fa"
          },
          "hovermode": "closest",
          "hoverlabel": {
           "align": "left"
          },
          "paper_bgcolor": "rgb(17,17,17)",
          "plot_bgcolor": "rgb(17,17,17)",
          "polar": {
           "bgcolor": "rgb(17,17,17)",
           "angularaxis": {
            "gridcolor": "#506784",
            "linecolor": "#506784",
            "ticks": ""
           },
           "radialaxis": {
            "gridcolor": "#506784",
            "linecolor": "#506784",
            "ticks": ""
           }
          },
          "ternary": {
           "bgcolor": "rgb(17,17,17)",
           "aaxis": {
            "gridcolor": "#506784",
            "linecolor": "#506784",
            "ticks": ""
           },
           "baxis": {
            "gridcolor": "#506784",
            "linecolor": "#506784",
            "ticks": ""
           },
           "caxis": {
            "gridcolor": "#506784",
            "linecolor": "#506784",
            "ticks": ""
           }
          },
          "coloraxis": {
           "colorbar": {
            "outlinewidth": 0,
            "ticks": ""
           }
          },
          "colorscale": {
           "sequential": [
            [
             0.0,
             "#0d0887"
            ],
            [
             0.1111111111111111,
             "#46039f"
            ],
            [
             0.2222222222222222,
             "#7201a8"
            ],
            [
             0.3333333333333333,
             "#9c179e"
            ],
            [
             0.4444444444444444,
             "#bd3786"
            ],
            [
             0.5555555555555556,
             "#d8576b"
            ],
            [
             0.6666666666666666,
             "#ed7953"
            ],
            [
             0.7777777777777778,
             "#fb9f3a"
            ],
            [
             0.8888888888888888,
             "#fdca26"
            ],
            [
             1.0,
             "#f0f921"
            ]
           ],
           "sequentialminus": [
            [
             0.0,
             "#0d0887"
            ],
            [
             0.1111111111111111,
             "#46039f"
            ],
            [
             0.2222222222222222,
             "#7201a8"
            ],
            [
             0.3333333333333333,
             "#9c179e"
            ],
            [
             0.4444444444444444,
             "#bd3786"
            ],
            [
             0.5555555555555556,
             "#d8576b"
            ],
            [
             0.6666666666666666,
             "#ed7953"
            ],
            [
             0.7777777777777778,
             "#fb9f3a"
            ],
            [
             0.8888888888888888,
             "#fdca26"
            ],
            [
             1.0,
             "#f0f921"
            ]
           ],
           "diverging": [
            [
             0,
             "#8e0152"
            ],
            [
             0.1,
             "#c51b7d"
            ],
            [
             0.2,
             "#de77ae"
            ],
            [
             0.3,
             "#f1b6da"
            ],
            [
             0.4,
             "#fde0ef"
            ],
            [
             0.5,
             "#f7f7f7"
            ],
            [
             0.6,
             "#e6f5d0"
            ],
            [
             0.7,
             "#b8e186"
            ],
            [
             0.8,
             "#7fbc41"
            ],
            [
             0.9,
             "#4d9221"
            ],
            [
             1,
             "#276419"
            ]
           ]
          },
          "xaxis": {
           "gridcolor": "#283442",
           "linecolor": "#506784",
           "ticks": "",
           "title": {
            "standoff": 15
           },
           "zerolinecolor": "#283442",
           "automargin": true,
           "zerolinewidth": 2
          },
          "yaxis": {
           "gridcolor": "#283442",
           "linecolor": "#506784",
           "ticks": "",
           "title": {
            "standoff": 15
           },
           "zerolinecolor": "#283442",
           "automargin": true,
           "zerolinewidth": 2
          },
          "scene": {
           "xaxis": {
            "backgroundcolor": "rgb(17,17,17)",
            "gridcolor": "#506784",
            "linecolor": "#506784",
            "showbackground": true,
            "ticks": "",
            "zerolinecolor": "#C8D4E3",
            "gridwidth": 2
           },
           "yaxis": {
            "backgroundcolor": "rgb(17,17,17)",
            "gridcolor": "#506784",
            "linecolor": "#506784",
            "showbackground": true,
            "ticks": "",
            "zerolinecolor": "#C8D4E3",
            "gridwidth": 2
           },
           "zaxis": {
            "backgroundcolor": "rgb(17,17,17)",
            "gridcolor": "#506784",
            "linecolor": "#506784",
            "showbackground": true,
            "ticks": "",
            "zerolinecolor": "#C8D4E3",
            "gridwidth": 2
           }
          },
          "shapedefaults": {
           "line": {
            "color": "#f2f5fa"
           }
          },
          "annotationdefaults": {
           "arrowcolor": "#f2f5fa",
           "arrowhead": 0,
           "arrowwidth": 1
          },
          "geo": {
           "bgcolor": "rgb(17,17,17)",
           "landcolor": "rgb(17,17,17)",
           "subunitcolor": "#506784",
           "showland": true,
           "showlakes": true,
           "lakecolor": "rgb(17,17,17)"
          },
          "title": {
           "x": 0.05
          },
          "updatemenudefaults": {
           "bgcolor": "#506784",
           "borderwidth": 0
          },
          "sliderdefaults": {
           "bgcolor": "#C8D4E3",
           "borderwidth": 1,
           "bordercolor": "rgb(17,17,17)",
           "tickwidth": 0
          },
          "mapbox": {
           "style": "dark"
          }
         }
        },
        "title": {
         "text": "DistServe"
        },
        "xaxis": {
         "title": {
          "text": "Per-GPU Rate (tokens/s)"
         }
        },
        "yaxis": {
         "title": {
          "text": "Attainment (%)"
         }
        },
        "legend": {
         "title": {
          "text": "Configuration"
         }
        }
       },
       "config": {
        "plotlyServerURL": "https://plot.ly"
       }
      },
      "text/html": "<div>                            <div id=\"70a02aec-2176-4c16-a4b2-60f72b231fd1\" class=\"plotly-graph-div\" style=\"height:525px; width:100%;\"></div>            <script type=\"text/javascript\">                require([\"plotly\"], function(Plotly) {                    window.PLOTLYENV=window.PLOTLYENV || {};                                    if (document.getElementById(\"70a02aec-2176-4c16-a4b2-60f72b231fd1\")) {                    Plotly.newPlot(                        \"70a02aec-2176-4c16-a4b2-60f72b231fd1\",                        [{\"mode\":\"lines+markers\",\"name\":\"p1111-distserve\",\"x\":[1.0,2.0,3.0,4.0,5.0],\"y\":[90.0,80.75,64.66666666666666,19.5,7.8],\"type\":\"scatter\"},{\"mode\":\"lines+markers\",\"name\":\"p1112-distserve\",\"x\":[1.0,2.0,3.0,4.0,5.0],\"y\":[86.66666666666667,65.66666666666666,41.0,5.666666666666666,0.8],\"type\":\"scatter\"},{\"mode\":\"lines+markers\",\"name\":\"p1121-distserve\",\"x\":[1.0,2.0,3.0,4.0,5.0],\"y\":[86.66666666666667,64.66666666666666,12.777777777777777,1.3333333333333337,0.7333333333333333],\"type\":\"scatter\"},{\"mode\":\"lines+markers\",\"name\":\"p1211-distserve\",\"x\":[1.0,2.0,3.0,4.0,5.0],\"y\":[92.0,87.33333333333333,23.88888888888889,10.75,5.666666666666666],\"type\":\"scatter\"},{\"mode\":\"lines+markers\",\"name\":\"p1212-distserve\",\"x\":[1.0,2.0,3.0,4.0,5.0],\"y\":[91.25,81.25,43.25,12.5,2.95],\"type\":\"scatter\"},{\"mode\":\"lines+markers\",\"name\":\"p1221-distserve\",\"x\":[1.0,2.0,3.0,4.0,5.0],\"y\":[91.25,33.375,10.75,4.6875,1.5],\"type\":\"scatter\"},{\"mode\":\"lines+markers\",\"name\":\"p2111-distserve\",\"x\":[1.0,2.0,3.0,4.0,5.0],\"y\":[98.33333333333331,90.5,82.55555555555556,42.083333333333336,14.6],\"type\":\"scatter\"},{\"mode\":\"lines+markers\",\"name\":\"p2112-distserve\",\"x\":[1.0,2.0,3.0,4.0,5.0],\"y\":[97.25,85.875,67.75,43.25,2.55],\"type\":\"scatter\"},{\"mode\":\"lines+markers\",\"name\":\"p2121-distserve\",\"x\":[1.0,2.0,3.0,4.0,5.0],\"y\":[97.25,85.875,42.083333333333336,10.125,1.2],\"type\":\"scatter\"}],                        {\"template\":{\"data\":{\"histogram2dcontour\":[{\"type\":\"histogram2dcontour\",\"colorbar\":{\"outlinewidth\":0,\"ticks\":\"\"},\"colorscale\":[[0.0,\"#0d0887\"],[0.1111111111111111,\"#46039f\"],[0.2222222222222222,\"#7201a8\"],[0.3333333333333333,\"#9c179e\"],[0.4444444444444444,\"#bd3786\"],[0.5555555555555556,\"#d8576b\"],[0.6666666666666666,\"#ed7953\"],[0.7777777777777778,\"#fb9f3a\"],[0.8888888888888888,\"#fdca26\"],[1.0,\"#f0f921\"]]}],\"choropleth\":[{\"type\":\"choropleth\",\"colorbar\":{\"outlinewidth\":0,\"ticks\":\"\"}}],\"histogram2d\":[{\"type\":\"histogram2d\",\"colorbar\":{\"outlinewidth\":0,\"ticks\":\"\"},\"colorscale\":[[0.0,\"#0d0887\"],[0.1111111111111111,\"#46039f\"],[0.2222222222222222,\"#7201a8\"],[0.3333333333333333,\"#9c179e\"],[0.4444444444444444,\"#bd3786\"],[0.5555555555555556,\"#d8576b\"],[0.6666666666666666,\"#ed7953\"],[0.7777777777777778,\"#fb9f3a\"],[0.8888888888888888,\"#fdca26\"],[1.0,\"#f0f921\"]]}],\"heatmap\":[{\"type\":\"heatmap\",\"colorbar\":{\"outlinewidth\":0,\"ticks\":\"\"},\"colorscale\":[[0.0,\"#0d0887\"],[0.1111111111111111,\"#46039f\"],[0.2222222222222222,\"#7201a8\"],[0.3333333333333333,\"#9c179e\"],[0.4444444444444444,\"#bd3786\"],[0.5555555555555556,\"#d8576b\"],[0.6666666666666666,\"#ed7953\"],[0.7777777777777778,\"#fb9f3a\"],[0.8888888888888888,\"#fdca26\"],[1.0,\"#f0f921\"]]}],\"heatmapgl\":[{\"type\":\"heatmapgl\",\"colorbar\":{\"outlinewidth\":0,\"ticks\":\"\"},\"colorscale\":[[0.0,\"#0d0887\"],[0.1111111111111111,\"#46039f\"],[0.2222222222222222,\"#7201a8\"],[0.3333333333333333,\"#9c179e\"],[0.4444444444444444,\"#bd3786\"],[0.5555555555555556,\"#d8576b\"],[0.6666666666666666,\"#ed7953\"],[0.7777777777777778,\"#fb9f3a\"],[0.8888888888888888,\"#fdca26\"],[1.0,\"#f0f921\"]]}],\"contourcarpet\":[{\"type\":\"contourcarpet\",\"colorbar\":{\"outlinewidth\":0,\"ticks\":\"\"}}],\"contour\":[{\"type\":\"contour\",\"colorbar\":{\"outlinewidth\":0,\"ticks\":\"\"},\"colorscale\":[[0.0,\"#0d0887\"],[0.1111111111111111,\"#46039f\"],[0.2222222222222222,\"#7201a8\"],[0.3333333333333333,\"#9c179e\"],[0.4444444444444444,\"#bd3786\"],[0.5555555555555556,\"#d8576b\"],[0.6666666666666666,\"#ed7953\"],[0.7777777777777778,\"#fb9f3a\"],[0.8888888888888888,\"#fdca26\"],[1.0,\"#f0f921\"]]}],\"surface\":[{\"type\":\"surface\",\"colorbar\":{\"outlinewidth\":0,\"ticks\":\"\"},\"colorscale\":[[0.0,\"#0d0887\"],[0.1111111111111111,\"#46039f\"],[0.2222222222222222,\"#7201a8\"],[0.3333333333333333,\"#9c179e\"],[0.4444444444444444,\"#bd3786\"],[0.5555555555555556,\"#d8576b\"],[0.6666666666666666,\"#ed7953\"],[0.7777777777777778,\"#fb9f3a\"],[0.8888888888888888,\"#fdca26\"],[1.0,\"#f0f921\"]]}],\"mesh3d\":[{\"type\":\"mesh3d\",\"colorbar\":{\"outlinewidth\":0,\"ticks\":\"\"}}],\"scatter\":[{\"marker\":{\"line\":{\"color\":\"#283442\"}},\"type\":\"scatter\"}],\"parcoords\":[{\"type\":\"parcoords\",\"line\":{\"colorbar\":{\"outlinewidth\":0,\"ticks\":\"\"}}}],\"scatterpolargl\":[{\"type\":\"scatterpolargl\",\"marker\":{\"colorbar\":{\"outlinewidth\":0,\"ticks\":\"\"}}}],\"bar\":[{\"error_x\":{\"color\":\"#f2f5fa\"},\"error_y\":{\"color\":\"#f2f5fa\"},\"marker\":{\"line\":{\"color\":\"rgb(17,17,17)\",\"width\":0.5},\"pattern\":{\"fillmode\":\"overlay\",\"size\":10,\"solidity\":0.2}},\"type\":\"bar\"}],\"scattergeo\":[{\"type\":\"scattergeo\",\"marker\":{\"colorbar\":{\"outlinewidth\":0,\"ticks\":\"\"}}}],\"scatterpolar\":[{\"type\":\"scatterpolar\",\"marker\":{\"colorbar\":{\"outlinewidth\":0,\"ticks\":\"\"}}}],\"histogram\":[{\"marker\":{\"pattern\":{\"fillmode\":\"overlay\",\"size\":10,\"solidity\":0.2}},\"type\":\"histogram\"}],\"scattergl\":[{\"marker\":{\"line\":{\"color\":\"#283442\"}},\"type\":\"scattergl\"}],\"scatter3d\":[{\"type\":\"scatter3d\",\"line\":{\"colorbar\":{\"outlinewidth\":0,\"ticks\":\"\"}},\"marker\":{\"colorbar\":{\"outlinewidth\":0,\"ticks\":\"\"}}}],\"scattermapbox\":[{\"type\":\"scattermapbox\",\"marker\":{\"colorbar\":{\"outlinewidth\":0,\"ticks\":\"\"}}}],\"scatterternary\":[{\"type\":\"scatterternary\",\"marker\":{\"colorbar\":{\"outlinewidth\":0,\"ticks\":\"\"}}}],\"scattercarpet\":[{\"type\":\"scattercarpet\",\"marker\":{\"colorbar\":{\"outlinewidth\":0,\"ticks\":\"\"}}}],\"carpet\":[{\"aaxis\":{\"endlinecolor\":\"#A2B1C6\",\"gridcolor\":\"#506784\",\"linecolor\":\"#506784\",\"minorgridcolor\":\"#506784\",\"startlinecolor\":\"#A2B1C6\"},\"baxis\":{\"endlinecolor\":\"#A2B1C6\",\"gridcolor\":\"#506784\",\"linecolor\":\"#506784\",\"minorgridcolor\":\"#506784\",\"startlinecolor\":\"#A2B1C6\"},\"type\":\"carpet\"}],\"table\":[{\"cells\":{\"fill\":{\"color\":\"#506784\"},\"line\":{\"color\":\"rgb(17,17,17)\"}},\"header\":{\"fill\":{\"color\":\"#2a3f5f\"},\"line\":{\"color\":\"rgb(17,17,17)\"}},\"type\":\"table\"}],\"barpolar\":[{\"marker\":{\"line\":{\"color\":\"rgb(17,17,17)\",\"width\":0.5},\"pattern\":{\"fillmode\":\"overlay\",\"size\":10,\"solidity\":0.2}},\"type\":\"barpolar\"}],\"pie\":[{\"automargin\":true,\"type\":\"pie\"}]},\"layout\":{\"autotypenumbers\":\"strict\",\"colorway\":[\"#636efa\",\"#EF553B\",\"#00cc96\",\"#ab63fa\",\"#FFA15A\",\"#19d3f3\",\"#FF6692\",\"#B6E880\",\"#FF97FF\",\"#FECB52\"],\"font\":{\"color\":\"#f2f5fa\"},\"hovermode\":\"closest\",\"hoverlabel\":{\"align\":\"left\"},\"paper_bgcolor\":\"rgb(17,17,17)\",\"plot_bgcolor\":\"rgb(17,17,17)\",\"polar\":{\"bgcolor\":\"rgb(17,17,17)\",\"angularaxis\":{\"gridcolor\":\"#506784\",\"linecolor\":\"#506784\",\"ticks\":\"\"},\"radialaxis\":{\"gridcolor\":\"#506784\",\"linecolor\":\"#506784\",\"ticks\":\"\"}},\"ternary\":{\"bgcolor\":\"rgb(17,17,17)\",\"aaxis\":{\"gridcolor\":\"#506784\",\"linecolor\":\"#506784\",\"ticks\":\"\"},\"baxis\":{\"gridcolor\":\"#506784\",\"linecolor\":\"#506784\",\"ticks\":\"\"},\"caxis\":{\"gridcolor\":\"#506784\",\"linecolor\":\"#506784\",\"ticks\":\"\"}},\"coloraxis\":{\"colorbar\":{\"outlinewidth\":0,\"ticks\":\"\"}},\"colorscale\":{\"sequential\":[[0.0,\"#0d0887\"],[0.1111111111111111,\"#46039f\"],[0.2222222222222222,\"#7201a8\"],[0.3333333333333333,\"#9c179e\"],[0.4444444444444444,\"#bd3786\"],[0.5555555555555556,\"#d8576b\"],[0.6666666666666666,\"#ed7953\"],[0.7777777777777778,\"#fb9f3a\"],[0.8888888888888888,\"#fdca26\"],[1.0,\"#f0f921\"]],\"sequentialminus\":[[0.0,\"#0d0887\"],[0.1111111111111111,\"#46039f\"],[0.2222222222222222,\"#7201a8\"],[0.3333333333333333,\"#9c179e\"],[0.4444444444444444,\"#bd3786\"],[0.5555555555555556,\"#d8576b\"],[0.6666666666666666,\"#ed7953\"],[0.7777777777777778,\"#fb9f3a\"],[0.8888888888888888,\"#fdca26\"],[1.0,\"#f0f921\"]],\"diverging\":[[0,\"#8e0152\"],[0.1,\"#c51b7d\"],[0.2,\"#de77ae\"],[0.3,\"#f1b6da\"],[0.4,\"#fde0ef\"],[0.5,\"#f7f7f7\"],[0.6,\"#e6f5d0\"],[0.7,\"#b8e186\"],[0.8,\"#7fbc41\"],[0.9,\"#4d9221\"],[1,\"#276419\"]]},\"xaxis\":{\"gridcolor\":\"#283442\",\"linecolor\":\"#506784\",\"ticks\":\"\",\"title\":{\"standoff\":15},\"zerolinecolor\":\"#283442\",\"automargin\":true,\"zerolinewidth\":2},\"yaxis\":{\"gridcolor\":\"#283442\",\"linecolor\":\"#506784\",\"ticks\":\"\",\"title\":{\"standoff\":15},\"zerolinecolor\":\"#283442\",\"automargin\":true,\"zerolinewidth\":2},\"scene\":{\"xaxis\":{\"backgroundcolor\":\"rgb(17,17,17)\",\"gridcolor\":\"#506784\",\"linecolor\":\"#506784\",\"showbackground\":true,\"ticks\":\"\",\"zerolinecolor\":\"#C8D4E3\",\"gridwidth\":2},\"yaxis\":{\"backgroundcolor\":\"rgb(17,17,17)\",\"gridcolor\":\"#506784\",\"linecolor\":\"#506784\",\"showbackground\":true,\"ticks\":\"\",\"zerolinecolor\":\"#C8D4E3\",\"gridwidth\":2},\"zaxis\":{\"backgroundcolor\":\"rgb(17,17,17)\",\"gridcolor\":\"#506784\",\"linecolor\":\"#506784\",\"showbackground\":true,\"ticks\":\"\",\"zerolinecolor\":\"#C8D4E3\",\"gridwidth\":2}},\"shapedefaults\":{\"line\":{\"color\":\"#f2f5fa\"}},\"annotationdefaults\":{\"arrowcolor\":\"#f2f5fa\",\"arrowhead\":0,\"arrowwidth\":1},\"geo\":{\"bgcolor\":\"rgb(17,17,17)\",\"landcolor\":\"rgb(17,17,17)\",\"subunitcolor\":\"#506784\",\"showland\":true,\"showlakes\":true,\"lakecolor\":\"rgb(17,17,17)\"},\"title\":{\"x\":0.05},\"updatemenudefaults\":{\"bgcolor\":\"#506784\",\"borderwidth\":0},\"sliderdefaults\":{\"bgcolor\":\"#C8D4E3\",\"borderwidth\":1,\"bordercolor\":\"rgb(17,17,17)\",\"tickwidth\":0},\"mapbox\":{\"style\":\"dark\"}}},\"title\":{\"text\":\"DistServe\"},\"xaxis\":{\"title\":{\"text\":\"Per-GPU Rate (tokens\\u002fs)\"}},\"yaxis\":{\"title\":{\"text\":\"Attainment (%)\"}},\"legend\":{\"title\":{\"text\":\"Configuration\"}}},                        {\"responsive\": true}                    ).then(function(){\n                            \nvar gd = document.getElementById('70a02aec-2176-4c16-a4b2-60f72b231fd1');\nvar x = new MutationObserver(function (mutations, observer) {{\n        var display = window.getComputedStyle(gd).display;\n        if (!display || display === 'none') {{\n            console.log([gd, 'removed!']);\n            Plotly.purge(gd);\n            observer.disconnect();\n        }}\n}});\n\n// Listen for the removal of the full notebook cells\nvar notebookContainer = gd.closest('#notebook-container');\nif (notebookContainer) {{\n    x.observe(notebookContainer, {childList: true});\n}}\n\n// Listen for the clearing of the current output cell\nvar outputEl = gd.closest('.output');\nif (outputEl) {{\n    x.observe(outputEl, {childList: true});\n}}\n\n                        })                };                });            </script>        </div>"
     },
     "metadata": {},
     "output_type": "display_data"
    }
   ],
   "source": [
    "# Plot the `figure_11_distserve_high`for some configurations\n",
    "# tp_prefill = 1, pp_prefill = 1, tp_decode = 1, pp_decode = 1\n",
    "# x-axis: rate\n",
    "# y-axis: attainment\n",
    "# find all combination of tp_prefill, pp_prefill, tp_decode, pp_decode\n",
    "import plotly.graph_objects as go\n",
    "\n",
    "fig = go.Figure()\n",
    "configs = figure_11_distserve_high[['tp_prefill', 'pp_prefill', 'tp_decode', 'pp_decode']].drop_duplicates()\n",
    "df = figure_11_distserve_high\n",
    "\n",
    "for tp_prefill, pp_prefill, tp_decode, pp_decode in configs.values:\n",
    "    config_df = df[\n",
    "        (df['tp_prefill'] == tp_prefill) & (df['pp_prefill'] == pp_prefill) &\n",
    "        (df['tp_decode'] == tp_decode) & (df['pp_decode'] == pp_decode)\n",
    "        ]\n",
    "    # plot this inside a plotly plot\n",
    "    fig.add_trace(go.Scatter(\n",
    "        x=config_df['per_gpu_rate'], y=config_df['attainment'],\n",
    "        mode='lines+markers', name=f\"p{tp_prefill}{pp_prefill}{tp_decode}{pp_decode}-distserve\"\n",
    "    ))\n",
    "\n",
    "# fig add title\n",
    "fig.update_layout(\n",
    "    title=\"DistServe\",\n",
    "    xaxis_title=\"Per-GPU Rate (tokens/s)\",\n",
    "    yaxis_title=\"Attainment (%)\",\n",
    "    legend_title=\"Configuration\"\n",
    ")\n",
    "\n",
    "# Export to html\n",
    "fig.write_html(\"visual/figure_11_distserve_high.html\")\n",
    "if is_notebook_mode:\n",
    "    fig.show()"
   ],
   "metadata": {
    "collapsed": false,
    "ExecuteTime": {
     "end_time": "2024-04-23T22:38:15.987469Z",
     "start_time": "2024-04-23T22:38:15.885745Z"
    }
   },
   "id": "b5f32d90f99e3ad4",
   "execution_count": 85
  },
  {
   "cell_type": "code",
   "outputs": [
    {
     "data": {
      "application/vnd.plotly.v1+json": {
       "data": [
        {
         "mode": "lines+markers",
         "name": "p11-vllm",
         "x": [
          1.0,
          2.0,
          3.0,
          4.0,
          5.0
         ],
         "y": [
          82.0,
          83.5,
          75.0,
          53.75,
          19.4
         ],
         "type": "scatter"
        },
        {
         "mode": "lines+markers",
         "name": "p12-vllm",
         "x": [
          1.0,
          2.0,
          3.0,
          4.0,
          5.0
         ],
         "y": [
          89.5,
          84.5,
          40.833333333333336,
          11.875,
          3.4000000000000004
         ],
         "type": "scatter"
        },
        {
         "mode": "lines+markers",
         "name": "p14-vllm",
         "x": [
          1.0,
          2.0,
          3.0,
          4.0,
          5.0
         ],
         "y": [
          89.5,
          31.5,
          6.583333333333333,
          1.6875,
          0.4499999999999999
         ],
         "type": "scatter"
        },
        {
         "mode": "lines+markers",
         "name": "p21-vllm",
         "x": [
          1.0,
          2.0,
          3.0,
          4.0,
          5.0
         ],
         "y": [
          97.0,
          88.5,
          43.16666666666666,
          9.75,
          2.9000000000000004
         ],
         "type": "scatter"
        },
        {
         "mode": "lines+markers",
         "name": "p22-vllm",
         "x": [
          1.0,
          2.0,
          3.0,
          4.0,
          5.0
         ],
         "y": [
          97.75,
          48.0,
          9.083333333333334,
          2.25,
          0.4499999999999999
         ],
         "type": "scatter"
        },
        {
         "mode": "lines+markers",
         "name": "p41-vllm",
         "x": [
          1.0,
          2.0,
          3.0,
          4.0,
          5.0
         ],
         "y": [
          100.0,
          62.625,
          9.416666666666666,
          2.375,
          0.4499999999999999
         ],
         "type": "scatter"
        }
       ],
       "layout": {
        "template": {
         "data": {
          "histogram2dcontour": [
           {
            "type": "histogram2dcontour",
            "colorbar": {
             "outlinewidth": 0,
             "ticks": ""
            },
            "colorscale": [
             [
              0.0,
              "#0d0887"
             ],
             [
              0.1111111111111111,
              "#46039f"
             ],
             [
              0.2222222222222222,
              "#7201a8"
             ],
             [
              0.3333333333333333,
              "#9c179e"
             ],
             [
              0.4444444444444444,
              "#bd3786"
             ],
             [
              0.5555555555555556,
              "#d8576b"
             ],
             [
              0.6666666666666666,
              "#ed7953"
             ],
             [
              0.7777777777777778,
              "#fb9f3a"
             ],
             [
              0.8888888888888888,
              "#fdca26"
             ],
             [
              1.0,
              "#f0f921"
             ]
            ]
           }
          ],
          "choropleth": [
           {
            "type": "choropleth",
            "colorbar": {
             "outlinewidth": 0,
             "ticks": ""
            }
           }
          ],
          "histogram2d": [
           {
            "type": "histogram2d",
            "colorbar": {
             "outlinewidth": 0,
             "ticks": ""
            },
            "colorscale": [
             [
              0.0,
              "#0d0887"
             ],
             [
              0.1111111111111111,
              "#46039f"
             ],
             [
              0.2222222222222222,
              "#7201a8"
             ],
             [
              0.3333333333333333,
              "#9c179e"
             ],
             [
              0.4444444444444444,
              "#bd3786"
             ],
             [
              0.5555555555555556,
              "#d8576b"
             ],
             [
              0.6666666666666666,
              "#ed7953"
             ],
             [
              0.7777777777777778,
              "#fb9f3a"
             ],
             [
              0.8888888888888888,
              "#fdca26"
             ],
             [
              1.0,
              "#f0f921"
             ]
            ]
           }
          ],
          "heatmap": [
           {
            "type": "heatmap",
            "colorbar": {
             "outlinewidth": 0,
             "ticks": ""
            },
            "colorscale": [
             [
              0.0,
              "#0d0887"
             ],
             [
              0.1111111111111111,
              "#46039f"
             ],
             [
              0.2222222222222222,
              "#7201a8"
             ],
             [
              0.3333333333333333,
              "#9c179e"
             ],
             [
              0.4444444444444444,
              "#bd3786"
             ],
             [
              0.5555555555555556,
              "#d8576b"
             ],
             [
              0.6666666666666666,
              "#ed7953"
             ],
             [
              0.7777777777777778,
              "#fb9f3a"
             ],
             [
              0.8888888888888888,
              "#fdca26"
             ],
             [
              1.0,
              "#f0f921"
             ]
            ]
           }
          ],
          "heatmapgl": [
           {
            "type": "heatmapgl",
            "colorbar": {
             "outlinewidth": 0,
             "ticks": ""
            },
            "colorscale": [
             [
              0.0,
              "#0d0887"
             ],
             [
              0.1111111111111111,
              "#46039f"
             ],
             [
              0.2222222222222222,
              "#7201a8"
             ],
             [
              0.3333333333333333,
              "#9c179e"
             ],
             [
              0.4444444444444444,
              "#bd3786"
             ],
             [
              0.5555555555555556,
              "#d8576b"
             ],
             [
              0.6666666666666666,
              "#ed7953"
             ],
             [
              0.7777777777777778,
              "#fb9f3a"
             ],
             [
              0.8888888888888888,
              "#fdca26"
             ],
             [
              1.0,
              "#f0f921"
             ]
            ]
           }
          ],
          "contourcarpet": [
           {
            "type": "contourcarpet",
            "colorbar": {
             "outlinewidth": 0,
             "ticks": ""
            }
           }
          ],
          "contour": [
           {
            "type": "contour",
            "colorbar": {
             "outlinewidth": 0,
             "ticks": ""
            },
            "colorscale": [
             [
              0.0,
              "#0d0887"
             ],
             [
              0.1111111111111111,
              "#46039f"
             ],
             [
              0.2222222222222222,
              "#7201a8"
             ],
             [
              0.3333333333333333,
              "#9c179e"
             ],
             [
              0.4444444444444444,
              "#bd3786"
             ],
             [
              0.5555555555555556,
              "#d8576b"
             ],
             [
              0.6666666666666666,
              "#ed7953"
             ],
             [
              0.7777777777777778,
              "#fb9f3a"
             ],
             [
              0.8888888888888888,
              "#fdca26"
             ],
             [
              1.0,
              "#f0f921"
             ]
            ]
           }
          ],
          "surface": [
           {
            "type": "surface",
            "colorbar": {
             "outlinewidth": 0,
             "ticks": ""
            },
            "colorscale": [
             [
              0.0,
              "#0d0887"
             ],
             [
              0.1111111111111111,
              "#46039f"
             ],
             [
              0.2222222222222222,
              "#7201a8"
             ],
             [
              0.3333333333333333,
              "#9c179e"
             ],
             [
              0.4444444444444444,
              "#bd3786"
             ],
             [
              0.5555555555555556,
              "#d8576b"
             ],
             [
              0.6666666666666666,
              "#ed7953"
             ],
             [
              0.7777777777777778,
              "#fb9f3a"
             ],
             [
              0.8888888888888888,
              "#fdca26"
             ],
             [
              1.0,
              "#f0f921"
             ]
            ]
           }
          ],
          "mesh3d": [
           {
            "type": "mesh3d",
            "colorbar": {
             "outlinewidth": 0,
             "ticks": ""
            }
           }
          ],
          "scatter": [
           {
            "marker": {
             "line": {
              "color": "#283442"
             }
            },
            "type": "scatter"
           }
          ],
          "parcoords": [
           {
            "type": "parcoords",
            "line": {
             "colorbar": {
              "outlinewidth": 0,
              "ticks": ""
             }
            }
           }
          ],
          "scatterpolargl": [
           {
            "type": "scatterpolargl",
            "marker": {
             "colorbar": {
              "outlinewidth": 0,
              "ticks": ""
             }
            }
           }
          ],
          "bar": [
           {
            "error_x": {
             "color": "#f2f5fa"
            },
            "error_y": {
             "color": "#f2f5fa"
            },
            "marker": {
             "line": {
              "color": "rgb(17,17,17)",
              "width": 0.5
             },
             "pattern": {
              "fillmode": "overlay",
              "size": 10,
              "solidity": 0.2
             }
            },
            "type": "bar"
           }
          ],
          "scattergeo": [
           {
            "type": "scattergeo",
            "marker": {
             "colorbar": {
              "outlinewidth": 0,
              "ticks": ""
             }
            }
           }
          ],
          "scatterpolar": [
           {
            "type": "scatterpolar",
            "marker": {
             "colorbar": {
              "outlinewidth": 0,
              "ticks": ""
             }
            }
           }
          ],
          "histogram": [
           {
            "marker": {
             "pattern": {
              "fillmode": "overlay",
              "size": 10,
              "solidity": 0.2
             }
            },
            "type": "histogram"
           }
          ],
          "scattergl": [
           {
            "marker": {
             "line": {
              "color": "#283442"
             }
            },
            "type": "scattergl"
           }
          ],
          "scatter3d": [
           {
            "type": "scatter3d",
            "line": {
             "colorbar": {
              "outlinewidth": 0,
              "ticks": ""
             }
            },
            "marker": {
             "colorbar": {
              "outlinewidth": 0,
              "ticks": ""
             }
            }
           }
          ],
          "scattermapbox": [
           {
            "type": "scattermapbox",
            "marker": {
             "colorbar": {
              "outlinewidth": 0,
              "ticks": ""
             }
            }
           }
          ],
          "scatterternary": [
           {
            "type": "scatterternary",
            "marker": {
             "colorbar": {
              "outlinewidth": 0,
              "ticks": ""
             }
            }
           }
          ],
          "scattercarpet": [
           {
            "type": "scattercarpet",
            "marker": {
             "colorbar": {
              "outlinewidth": 0,
              "ticks": ""
             }
            }
           }
          ],
          "carpet": [
           {
            "aaxis": {
             "endlinecolor": "#A2B1C6",
             "gridcolor": "#506784",
             "linecolor": "#506784",
             "minorgridcolor": "#506784",
             "startlinecolor": "#A2B1C6"
            },
            "baxis": {
             "endlinecolor": "#A2B1C6",
             "gridcolor": "#506784",
             "linecolor": "#506784",
             "minorgridcolor": "#506784",
             "startlinecolor": "#A2B1C6"
            },
            "type": "carpet"
           }
          ],
          "table": [
           {
            "cells": {
             "fill": {
              "color": "#506784"
             },
             "line": {
              "color": "rgb(17,17,17)"
             }
            },
            "header": {
             "fill": {
              "color": "#2a3f5f"
             },
             "line": {
              "color": "rgb(17,17,17)"
             }
            },
            "type": "table"
           }
          ],
          "barpolar": [
           {
            "marker": {
             "line": {
              "color": "rgb(17,17,17)",
              "width": 0.5
             },
             "pattern": {
              "fillmode": "overlay",
              "size": 10,
              "solidity": 0.2
             }
            },
            "type": "barpolar"
           }
          ],
          "pie": [
           {
            "automargin": true,
            "type": "pie"
           }
          ]
         },
         "layout": {
          "autotypenumbers": "strict",
          "colorway": [
           "#636efa",
           "#EF553B",
           "#00cc96",
           "#ab63fa",
           "#FFA15A",
           "#19d3f3",
           "#FF6692",
           "#B6E880",
           "#FF97FF",
           "#FECB52"
          ],
          "font": {
           "color": "#f2f5fa"
          },
          "hovermode": "closest",
          "hoverlabel": {
           "align": "left"
          },
          "paper_bgcolor": "rgb(17,17,17)",
          "plot_bgcolor": "rgb(17,17,17)",
          "polar": {
           "bgcolor": "rgb(17,17,17)",
           "angularaxis": {
            "gridcolor": "#506784",
            "linecolor": "#506784",
            "ticks": ""
           },
           "radialaxis": {
            "gridcolor": "#506784",
            "linecolor": "#506784",
            "ticks": ""
           }
          },
          "ternary": {
           "bgcolor": "rgb(17,17,17)",
           "aaxis": {
            "gridcolor": "#506784",
            "linecolor": "#506784",
            "ticks": ""
           },
           "baxis": {
            "gridcolor": "#506784",
            "linecolor": "#506784",
            "ticks": ""
           },
           "caxis": {
            "gridcolor": "#506784",
            "linecolor": "#506784",
            "ticks": ""
           }
          },
          "coloraxis": {
           "colorbar": {
            "outlinewidth": 0,
            "ticks": ""
           }
          },
          "colorscale": {
           "sequential": [
            [
             0.0,
             "#0d0887"
            ],
            [
             0.1111111111111111,
             "#46039f"
            ],
            [
             0.2222222222222222,
             "#7201a8"
            ],
            [
             0.3333333333333333,
             "#9c179e"
            ],
            [
             0.4444444444444444,
             "#bd3786"
            ],
            [
             0.5555555555555556,
             "#d8576b"
            ],
            [
             0.6666666666666666,
             "#ed7953"
            ],
            [
             0.7777777777777778,
             "#fb9f3a"
            ],
            [
             0.8888888888888888,
             "#fdca26"
            ],
            [
             1.0,
             "#f0f921"
            ]
           ],
           "sequentialminus": [
            [
             0.0,
             "#0d0887"
            ],
            [
             0.1111111111111111,
             "#46039f"
            ],
            [
             0.2222222222222222,
             "#7201a8"
            ],
            [
             0.3333333333333333,
             "#9c179e"
            ],
            [
             0.4444444444444444,
             "#bd3786"
            ],
            [
             0.5555555555555556,
             "#d8576b"
            ],
            [
             0.6666666666666666,
             "#ed7953"
            ],
            [
             0.7777777777777778,
             "#fb9f3a"
            ],
            [
             0.8888888888888888,
             "#fdca26"
            ],
            [
             1.0,
             "#f0f921"
            ]
           ],
           "diverging": [
            [
             0,
             "#8e0152"
            ],
            [
             0.1,
             "#c51b7d"
            ],
            [
             0.2,
             "#de77ae"
            ],
            [
             0.3,
             "#f1b6da"
            ],
            [
             0.4,
             "#fde0ef"
            ],
            [
             0.5,
             "#f7f7f7"
            ],
            [
             0.6,
             "#e6f5d0"
            ],
            [
             0.7,
             "#b8e186"
            ],
            [
             0.8,
             "#7fbc41"
            ],
            [
             0.9,
             "#4d9221"
            ],
            [
             1,
             "#276419"
            ]
           ]
          },
          "xaxis": {
           "gridcolor": "#283442",
           "linecolor": "#506784",
           "ticks": "",
           "title": {
            "standoff": 15
           },
           "zerolinecolor": "#283442",
           "automargin": true,
           "zerolinewidth": 2
          },
          "yaxis": {
           "gridcolor": "#283442",
           "linecolor": "#506784",
           "ticks": "",
           "title": {
            "standoff": 15
           },
           "zerolinecolor": "#283442",
           "automargin": true,
           "zerolinewidth": 2
          },
          "scene": {
           "xaxis": {
            "backgroundcolor": "rgb(17,17,17)",
            "gridcolor": "#506784",
            "linecolor": "#506784",
            "showbackground": true,
            "ticks": "",
            "zerolinecolor": "#C8D4E3",
            "gridwidth": 2
           },
           "yaxis": {
            "backgroundcolor": "rgb(17,17,17)",
            "gridcolor": "#506784",
            "linecolor": "#506784",
            "showbackground": true,
            "ticks": "",
            "zerolinecolor": "#C8D4E3",
            "gridwidth": 2
           },
           "zaxis": {
            "backgroundcolor": "rgb(17,17,17)",
            "gridcolor": "#506784",
            "linecolor": "#506784",
            "showbackground": true,
            "ticks": "",
            "zerolinecolor": "#C8D4E3",
            "gridwidth": 2
           }
          },
          "shapedefaults": {
           "line": {
            "color": "#f2f5fa"
           }
          },
          "annotationdefaults": {
           "arrowcolor": "#f2f5fa",
           "arrowhead": 0,
           "arrowwidth": 1
          },
          "geo": {
           "bgcolor": "rgb(17,17,17)",
           "landcolor": "rgb(17,17,17)",
           "subunitcolor": "#506784",
           "showland": true,
           "showlakes": true,
           "lakecolor": "rgb(17,17,17)"
          },
          "title": {
           "x": 0.05
          },
          "updatemenudefaults": {
           "bgcolor": "#506784",
           "borderwidth": 0
          },
          "sliderdefaults": {
           "bgcolor": "#C8D4E3",
           "borderwidth": 1,
           "bordercolor": "rgb(17,17,17)",
           "tickwidth": 0
          },
          "mapbox": {
           "style": "dark"
          }
         }
        },
        "title": {
         "text": "vLLM++"
        },
        "xaxis": {
         "title": {
          "text": "Per-GPU Rate (tokens/s)"
         }
        },
        "yaxis": {
         "title": {
          "text": "Attainment (%)"
         }
        },
        "legend": {
         "title": {
          "text": "Configuration"
         }
        }
       },
       "config": {
        "plotlyServerURL": "https://plot.ly"
       }
      },
      "text/html": "<div>                            <div id=\"503ecb9d-47f7-465e-a4cc-3a87eaa4ee39\" class=\"plotly-graph-div\" style=\"height:525px; width:100%;\"></div>            <script type=\"text/javascript\">                require([\"plotly\"], function(Plotly) {                    window.PLOTLYENV=window.PLOTLYENV || {};                                    if (document.getElementById(\"503ecb9d-47f7-465e-a4cc-3a87eaa4ee39\")) {                    Plotly.newPlot(                        \"503ecb9d-47f7-465e-a4cc-3a87eaa4ee39\",                        [{\"mode\":\"lines+markers\",\"name\":\"p11-vllm\",\"x\":[1.0,2.0,3.0,4.0,5.0],\"y\":[82.0,83.5,75.0,53.75,19.4],\"type\":\"scatter\"},{\"mode\":\"lines+markers\",\"name\":\"p12-vllm\",\"x\":[1.0,2.0,3.0,4.0,5.0],\"y\":[89.5,84.5,40.833333333333336,11.875,3.4000000000000004],\"type\":\"scatter\"},{\"mode\":\"lines+markers\",\"name\":\"p14-vllm\",\"x\":[1.0,2.0,3.0,4.0,5.0],\"y\":[89.5,31.5,6.583333333333333,1.6875,0.4499999999999999],\"type\":\"scatter\"},{\"mode\":\"lines+markers\",\"name\":\"p21-vllm\",\"x\":[1.0,2.0,3.0,4.0,5.0],\"y\":[97.0,88.5,43.16666666666666,9.75,2.9000000000000004],\"type\":\"scatter\"},{\"mode\":\"lines+markers\",\"name\":\"p22-vllm\",\"x\":[1.0,2.0,3.0,4.0,5.0],\"y\":[97.75,48.0,9.083333333333334,2.25,0.4499999999999999],\"type\":\"scatter\"},{\"mode\":\"lines+markers\",\"name\":\"p41-vllm\",\"x\":[1.0,2.0,3.0,4.0,5.0],\"y\":[100.0,62.625,9.416666666666666,2.375,0.4499999999999999],\"type\":\"scatter\"}],                        {\"template\":{\"data\":{\"histogram2dcontour\":[{\"type\":\"histogram2dcontour\",\"colorbar\":{\"outlinewidth\":0,\"ticks\":\"\"},\"colorscale\":[[0.0,\"#0d0887\"],[0.1111111111111111,\"#46039f\"],[0.2222222222222222,\"#7201a8\"],[0.3333333333333333,\"#9c179e\"],[0.4444444444444444,\"#bd3786\"],[0.5555555555555556,\"#d8576b\"],[0.6666666666666666,\"#ed7953\"],[0.7777777777777778,\"#fb9f3a\"],[0.8888888888888888,\"#fdca26\"],[1.0,\"#f0f921\"]]}],\"choropleth\":[{\"type\":\"choropleth\",\"colorbar\":{\"outlinewidth\":0,\"ticks\":\"\"}}],\"histogram2d\":[{\"type\":\"histogram2d\",\"colorbar\":{\"outlinewidth\":0,\"ticks\":\"\"},\"colorscale\":[[0.0,\"#0d0887\"],[0.1111111111111111,\"#46039f\"],[0.2222222222222222,\"#7201a8\"],[0.3333333333333333,\"#9c179e\"],[0.4444444444444444,\"#bd3786\"],[0.5555555555555556,\"#d8576b\"],[0.6666666666666666,\"#ed7953\"],[0.7777777777777778,\"#fb9f3a\"],[0.8888888888888888,\"#fdca26\"],[1.0,\"#f0f921\"]]}],\"heatmap\":[{\"type\":\"heatmap\",\"colorbar\":{\"outlinewidth\":0,\"ticks\":\"\"},\"colorscale\":[[0.0,\"#0d0887\"],[0.1111111111111111,\"#46039f\"],[0.2222222222222222,\"#7201a8\"],[0.3333333333333333,\"#9c179e\"],[0.4444444444444444,\"#bd3786\"],[0.5555555555555556,\"#d8576b\"],[0.6666666666666666,\"#ed7953\"],[0.7777777777777778,\"#fb9f3a\"],[0.8888888888888888,\"#fdca26\"],[1.0,\"#f0f921\"]]}],\"heatmapgl\":[{\"type\":\"heatmapgl\",\"colorbar\":{\"outlinewidth\":0,\"ticks\":\"\"},\"colorscale\":[[0.0,\"#0d0887\"],[0.1111111111111111,\"#46039f\"],[0.2222222222222222,\"#7201a8\"],[0.3333333333333333,\"#9c179e\"],[0.4444444444444444,\"#bd3786\"],[0.5555555555555556,\"#d8576b\"],[0.6666666666666666,\"#ed7953\"],[0.7777777777777778,\"#fb9f3a\"],[0.8888888888888888,\"#fdca26\"],[1.0,\"#f0f921\"]]}],\"contourcarpet\":[{\"type\":\"contourcarpet\",\"colorbar\":{\"outlinewidth\":0,\"ticks\":\"\"}}],\"contour\":[{\"type\":\"contour\",\"colorbar\":{\"outlinewidth\":0,\"ticks\":\"\"},\"colorscale\":[[0.0,\"#0d0887\"],[0.1111111111111111,\"#46039f\"],[0.2222222222222222,\"#7201a8\"],[0.3333333333333333,\"#9c179e\"],[0.4444444444444444,\"#bd3786\"],[0.5555555555555556,\"#d8576b\"],[0.6666666666666666,\"#ed7953\"],[0.7777777777777778,\"#fb9f3a\"],[0.8888888888888888,\"#fdca26\"],[1.0,\"#f0f921\"]]}],\"surface\":[{\"type\":\"surface\",\"colorbar\":{\"outlinewidth\":0,\"ticks\":\"\"},\"colorscale\":[[0.0,\"#0d0887\"],[0.1111111111111111,\"#46039f\"],[0.2222222222222222,\"#7201a8\"],[0.3333333333333333,\"#9c179e\"],[0.4444444444444444,\"#bd3786\"],[0.5555555555555556,\"#d8576b\"],[0.6666666666666666,\"#ed7953\"],[0.7777777777777778,\"#fb9f3a\"],[0.8888888888888888,\"#fdca26\"],[1.0,\"#f0f921\"]]}],\"mesh3d\":[{\"type\":\"mesh3d\",\"colorbar\":{\"outlinewidth\":0,\"ticks\":\"\"}}],\"scatter\":[{\"marker\":{\"line\":{\"color\":\"#283442\"}},\"type\":\"scatter\"}],\"parcoords\":[{\"type\":\"parcoords\",\"line\":{\"colorbar\":{\"outlinewidth\":0,\"ticks\":\"\"}}}],\"scatterpolargl\":[{\"type\":\"scatterpolargl\",\"marker\":{\"colorbar\":{\"outlinewidth\":0,\"ticks\":\"\"}}}],\"bar\":[{\"error_x\":{\"color\":\"#f2f5fa\"},\"error_y\":{\"color\":\"#f2f5fa\"},\"marker\":{\"line\":{\"color\":\"rgb(17,17,17)\",\"width\":0.5},\"pattern\":{\"fillmode\":\"overlay\",\"size\":10,\"solidity\":0.2}},\"type\":\"bar\"}],\"scattergeo\":[{\"type\":\"scattergeo\",\"marker\":{\"colorbar\":{\"outlinewidth\":0,\"ticks\":\"\"}}}],\"scatterpolar\":[{\"type\":\"scatterpolar\",\"marker\":{\"colorbar\":{\"outlinewidth\":0,\"ticks\":\"\"}}}],\"histogram\":[{\"marker\":{\"pattern\":{\"fillmode\":\"overlay\",\"size\":10,\"solidity\":0.2}},\"type\":\"histogram\"}],\"scattergl\":[{\"marker\":{\"line\":{\"color\":\"#283442\"}},\"type\":\"scattergl\"}],\"scatter3d\":[{\"type\":\"scatter3d\",\"line\":{\"colorbar\":{\"outlinewidth\":0,\"ticks\":\"\"}},\"marker\":{\"colorbar\":{\"outlinewidth\":0,\"ticks\":\"\"}}}],\"scattermapbox\":[{\"type\":\"scattermapbox\",\"marker\":{\"colorbar\":{\"outlinewidth\":0,\"ticks\":\"\"}}}],\"scatterternary\":[{\"type\":\"scatterternary\",\"marker\":{\"colorbar\":{\"outlinewidth\":0,\"ticks\":\"\"}}}],\"scattercarpet\":[{\"type\":\"scattercarpet\",\"marker\":{\"colorbar\":{\"outlinewidth\":0,\"ticks\":\"\"}}}],\"carpet\":[{\"aaxis\":{\"endlinecolor\":\"#A2B1C6\",\"gridcolor\":\"#506784\",\"linecolor\":\"#506784\",\"minorgridcolor\":\"#506784\",\"startlinecolor\":\"#A2B1C6\"},\"baxis\":{\"endlinecolor\":\"#A2B1C6\",\"gridcolor\":\"#506784\",\"linecolor\":\"#506784\",\"minorgridcolor\":\"#506784\",\"startlinecolor\":\"#A2B1C6\"},\"type\":\"carpet\"}],\"table\":[{\"cells\":{\"fill\":{\"color\":\"#506784\"},\"line\":{\"color\":\"rgb(17,17,17)\"}},\"header\":{\"fill\":{\"color\":\"#2a3f5f\"},\"line\":{\"color\":\"rgb(17,17,17)\"}},\"type\":\"table\"}],\"barpolar\":[{\"marker\":{\"line\":{\"color\":\"rgb(17,17,17)\",\"width\":0.5},\"pattern\":{\"fillmode\":\"overlay\",\"size\":10,\"solidity\":0.2}},\"type\":\"barpolar\"}],\"pie\":[{\"automargin\":true,\"type\":\"pie\"}]},\"layout\":{\"autotypenumbers\":\"strict\",\"colorway\":[\"#636efa\",\"#EF553B\",\"#00cc96\",\"#ab63fa\",\"#FFA15A\",\"#19d3f3\",\"#FF6692\",\"#B6E880\",\"#FF97FF\",\"#FECB52\"],\"font\":{\"color\":\"#f2f5fa\"},\"hovermode\":\"closest\",\"hoverlabel\":{\"align\":\"left\"},\"paper_bgcolor\":\"rgb(17,17,17)\",\"plot_bgcolor\":\"rgb(17,17,17)\",\"polar\":{\"bgcolor\":\"rgb(17,17,17)\",\"angularaxis\":{\"gridcolor\":\"#506784\",\"linecolor\":\"#506784\",\"ticks\":\"\"},\"radialaxis\":{\"gridcolor\":\"#506784\",\"linecolor\":\"#506784\",\"ticks\":\"\"}},\"ternary\":{\"bgcolor\":\"rgb(17,17,17)\",\"aaxis\":{\"gridcolor\":\"#506784\",\"linecolor\":\"#506784\",\"ticks\":\"\"},\"baxis\":{\"gridcolor\":\"#506784\",\"linecolor\":\"#506784\",\"ticks\":\"\"},\"caxis\":{\"gridcolor\":\"#506784\",\"linecolor\":\"#506784\",\"ticks\":\"\"}},\"coloraxis\":{\"colorbar\":{\"outlinewidth\":0,\"ticks\":\"\"}},\"colorscale\":{\"sequential\":[[0.0,\"#0d0887\"],[0.1111111111111111,\"#46039f\"],[0.2222222222222222,\"#7201a8\"],[0.3333333333333333,\"#9c179e\"],[0.4444444444444444,\"#bd3786\"],[0.5555555555555556,\"#d8576b\"],[0.6666666666666666,\"#ed7953\"],[0.7777777777777778,\"#fb9f3a\"],[0.8888888888888888,\"#fdca26\"],[1.0,\"#f0f921\"]],\"sequentialminus\":[[0.0,\"#0d0887\"],[0.1111111111111111,\"#46039f\"],[0.2222222222222222,\"#7201a8\"],[0.3333333333333333,\"#9c179e\"],[0.4444444444444444,\"#bd3786\"],[0.5555555555555556,\"#d8576b\"],[0.6666666666666666,\"#ed7953\"],[0.7777777777777778,\"#fb9f3a\"],[0.8888888888888888,\"#fdca26\"],[1.0,\"#f0f921\"]],\"diverging\":[[0,\"#8e0152\"],[0.1,\"#c51b7d\"],[0.2,\"#de77ae\"],[0.3,\"#f1b6da\"],[0.4,\"#fde0ef\"],[0.5,\"#f7f7f7\"],[0.6,\"#e6f5d0\"],[0.7,\"#b8e186\"],[0.8,\"#7fbc41\"],[0.9,\"#4d9221\"],[1,\"#276419\"]]},\"xaxis\":{\"gridcolor\":\"#283442\",\"linecolor\":\"#506784\",\"ticks\":\"\",\"title\":{\"standoff\":15},\"zerolinecolor\":\"#283442\",\"automargin\":true,\"zerolinewidth\":2},\"yaxis\":{\"gridcolor\":\"#283442\",\"linecolor\":\"#506784\",\"ticks\":\"\",\"title\":{\"standoff\":15},\"zerolinecolor\":\"#283442\",\"automargin\":true,\"zerolinewidth\":2},\"scene\":{\"xaxis\":{\"backgroundcolor\":\"rgb(17,17,17)\",\"gridcolor\":\"#506784\",\"linecolor\":\"#506784\",\"showbackground\":true,\"ticks\":\"\",\"zerolinecolor\":\"#C8D4E3\",\"gridwidth\":2},\"yaxis\":{\"backgroundcolor\":\"rgb(17,17,17)\",\"gridcolor\":\"#506784\",\"linecolor\":\"#506784\",\"showbackground\":true,\"ticks\":\"\",\"zerolinecolor\":\"#C8D4E3\",\"gridwidth\":2},\"zaxis\":{\"backgroundcolor\":\"rgb(17,17,17)\",\"gridcolor\":\"#506784\",\"linecolor\":\"#506784\",\"showbackground\":true,\"ticks\":\"\",\"zerolinecolor\":\"#C8D4E3\",\"gridwidth\":2}},\"shapedefaults\":{\"line\":{\"color\":\"#f2f5fa\"}},\"annotationdefaults\":{\"arrowcolor\":\"#f2f5fa\",\"arrowhead\":0,\"arrowwidth\":1},\"geo\":{\"bgcolor\":\"rgb(17,17,17)\",\"landcolor\":\"rgb(17,17,17)\",\"subunitcolor\":\"#506784\",\"showland\":true,\"showlakes\":true,\"lakecolor\":\"rgb(17,17,17)\"},\"title\":{\"x\":0.05},\"updatemenudefaults\":{\"bgcolor\":\"#506784\",\"borderwidth\":0},\"sliderdefaults\":{\"bgcolor\":\"#C8D4E3\",\"borderwidth\":1,\"bordercolor\":\"rgb(17,17,17)\",\"tickwidth\":0},\"mapbox\":{\"style\":\"dark\"}}},\"title\":{\"text\":\"vLLM++\"},\"xaxis\":{\"title\":{\"text\":\"Per-GPU Rate (tokens\\u002fs)\"}},\"yaxis\":{\"title\":{\"text\":\"Attainment (%)\"}},\"legend\":{\"title\":{\"text\":\"Configuration\"}}},                        {\"responsive\": true}                    ).then(function(){\n                            \nvar gd = document.getElementById('503ecb9d-47f7-465e-a4cc-3a87eaa4ee39');\nvar x = new MutationObserver(function (mutations, observer) {{\n        var display = window.getComputedStyle(gd).display;\n        if (!display || display === 'none') {{\n            console.log([gd, 'removed!']);\n            Plotly.purge(gd);\n            observer.disconnect();\n        }}\n}});\n\n// Listen for the removal of the full notebook cells\nvar notebookContainer = gd.closest('#notebook-container');\nif (notebookContainer) {{\n    x.observe(notebookContainer, {childList: true});\n}}\n\n// Listen for the clearing of the current output cell\nvar outputEl = gd.closest('.output');\nif (outputEl) {{\n    x.observe(outputEl, {childList: true});\n}}\n\n                        })                };                });            </script>        </div>"
     },
     "metadata": {},
     "output_type": "display_data"
    }
   ],
   "source": [
    "# Plot the `figure_11_vllm_high`for some configurations\n",
    "# tp_prefill = 1, pp_prefill = 1\n",
    "# x-axis: rate\n",
    "# y-axis: attainment\n",
    "# find all combination of tp_prefill, pp_prefill\n",
    "import plotly.graph_objects as go\n",
    "\n",
    "fig = go.Figure()\n",
    "configs = figure_11_vllm_high[['tp_prefill', 'pp_prefill']].drop_duplicates()\n",
    "df = figure_11_vllm_high\n",
    "\n",
    "for tp_prefill, pp_prefill in configs.values:\n",
    "    config_df = df[\n",
    "        (df['tp_prefill'] == tp_prefill) & (df['pp_prefill'] == pp_prefill)\n",
    "        ]\n",
    "    # plot this inside a plotly plot\n",
    "    fig.add_trace(go.Scatter(\n",
    "        x=config_df['per_gpu_rate'], y=config_df['attainment'],\n",
    "        mode='lines+markers', name=f\"p{tp_prefill}{pp_prefill}-vllm\"\n",
    "    ))\n",
    "\n",
    "# fig add title\n",
    "fig.update_layout(\n",
    "    title=\"vLLM++\",\n",
    "    xaxis_title=\"Per-GPU Rate (tokens/s)\",\n",
    "    yaxis_title=\"Attainment (%)\",\n",
    "    legend_title=\"Configuration\"\n",
    ")\n",
    "# Export to html\n",
    "fig.write_html(\"visual/figure_11_vllm_high.html\")\n",
    "if is_notebook_mode:\n",
    "    fig.show()"
   ],
   "metadata": {
    "collapsed": false,
    "ExecuteTime": {
     "end_time": "2024-04-23T22:38:16.043759Z",
     "start_time": "2024-04-23T22:38:15.928578Z"
    }
   },
   "id": "850a4845f690b806",
   "execution_count": 86
  },
  {
   "cell_type": "code",
   "outputs": [
    {
     "data": {
      "application/vnd.plotly.v1+json": {
       "data": [
        {
         "mode": "lines+markers",
         "name": "p1111-distserve",
         "x": [
          1.0,
          2.0,
          3.0,
          4.0,
          5.0
         ],
         "y": [
          90.0,
          80.75,
          64.66666666666666,
          19.5,
          7.8
         ],
         "type": "scatter"
        },
        {
         "mode": "lines+markers",
         "name": "p1112-distserve",
         "x": [
          1.0,
          2.0,
          3.0,
          4.0,
          5.0
         ],
         "y": [
          86.66666666666667,
          65.66666666666666,
          41.0,
          5.666666666666666,
          0.8
         ],
         "type": "scatter"
        },
        {
         "mode": "lines+markers",
         "name": "p1121-distserve",
         "x": [
          1.0,
          2.0,
          3.0,
          4.0,
          5.0
         ],
         "y": [
          86.66666666666667,
          64.66666666666666,
          12.777777777777777,
          1.3333333333333337,
          0.7333333333333333
         ],
         "type": "scatter"
        },
        {
         "mode": "lines+markers",
         "name": "p1211-distserve",
         "x": [
          1.0,
          2.0,
          3.0,
          4.0,
          5.0
         ],
         "y": [
          92.0,
          87.33333333333333,
          23.88888888888889,
          10.75,
          5.666666666666666
         ],
         "type": "scatter"
        },
        {
         "mode": "lines+markers",
         "name": "p1212-distserve",
         "x": [
          1.0,
          2.0,
          3.0,
          4.0,
          5.0
         ],
         "y": [
          91.25,
          81.25,
          43.25,
          12.5,
          2.95
         ],
         "type": "scatter"
        },
        {
         "mode": "lines+markers",
         "name": "p1221-distserve",
         "x": [
          1.0,
          2.0,
          3.0,
          4.0,
          5.0
         ],
         "y": [
          91.25,
          33.375,
          10.75,
          4.6875,
          1.5
         ],
         "type": "scatter"
        },
        {
         "mode": "lines+markers",
         "name": "p2111-distserve",
         "x": [
          1.0,
          2.0,
          3.0,
          4.0,
          5.0
         ],
         "y": [
          98.33333333333331,
          90.5,
          82.55555555555556,
          42.083333333333336,
          14.6
         ],
         "type": "scatter"
        },
        {
         "mode": "lines+markers",
         "name": "p2112-distserve",
         "x": [
          1.0,
          2.0,
          3.0,
          4.0,
          5.0
         ],
         "y": [
          97.25,
          85.875,
          67.75,
          43.25,
          2.55
         ],
         "type": "scatter"
        },
        {
         "mode": "lines+markers",
         "name": "p2121-distserve",
         "x": [
          1.0,
          2.0,
          3.0,
          4.0,
          5.0
         ],
         "y": [
          97.25,
          85.875,
          42.083333333333336,
          10.125,
          1.2
         ],
         "type": "scatter"
        },
        {
         "mode": "lines+markers",
         "name": "p11-vllm",
         "x": [
          1.0,
          2.0,
          3.0,
          4.0,
          5.0
         ],
         "y": [
          82.0,
          83.5,
          75.0,
          53.75,
          19.4
         ],
         "type": "scatter"
        },
        {
         "mode": "lines+markers",
         "name": "p12-vllm",
         "x": [
          1.0,
          2.0,
          3.0,
          4.0,
          5.0
         ],
         "y": [
          89.5,
          84.5,
          40.833333333333336,
          11.875,
          3.4000000000000004
         ],
         "type": "scatter"
        },
        {
         "mode": "lines+markers",
         "name": "p14-vllm",
         "x": [
          1.0,
          2.0,
          3.0,
          4.0,
          5.0
         ],
         "y": [
          89.5,
          31.5,
          6.583333333333333,
          1.6875,
          0.4499999999999999
         ],
         "type": "scatter"
        },
        {
         "mode": "lines+markers",
         "name": "p21-vllm",
         "x": [
          1.0,
          2.0,
          3.0,
          4.0,
          5.0
         ],
         "y": [
          97.0,
          88.5,
          43.16666666666666,
          9.75,
          2.9000000000000004
         ],
         "type": "scatter"
        },
        {
         "mode": "lines+markers",
         "name": "p22-vllm",
         "x": [
          1.0,
          2.0,
          3.0,
          4.0,
          5.0
         ],
         "y": [
          97.75,
          48.0,
          9.083333333333334,
          2.25,
          0.4499999999999999
         ],
         "type": "scatter"
        },
        {
         "mode": "lines+markers",
         "name": "p41-vllm",
         "x": [
          1.0,
          2.0,
          3.0,
          4.0,
          5.0
         ],
         "y": [
          100.0,
          62.625,
          9.416666666666666,
          2.375,
          0.4499999999999999
         ],
         "type": "scatter"
        }
       ],
       "layout": {
        "template": {
         "data": {
          "histogram2dcontour": [
           {
            "type": "histogram2dcontour",
            "colorbar": {
             "outlinewidth": 0,
             "ticks": ""
            },
            "colorscale": [
             [
              0.0,
              "#0d0887"
             ],
             [
              0.1111111111111111,
              "#46039f"
             ],
             [
              0.2222222222222222,
              "#7201a8"
             ],
             [
              0.3333333333333333,
              "#9c179e"
             ],
             [
              0.4444444444444444,
              "#bd3786"
             ],
             [
              0.5555555555555556,
              "#d8576b"
             ],
             [
              0.6666666666666666,
              "#ed7953"
             ],
             [
              0.7777777777777778,
              "#fb9f3a"
             ],
             [
              0.8888888888888888,
              "#fdca26"
             ],
             [
              1.0,
              "#f0f921"
             ]
            ]
           }
          ],
          "choropleth": [
           {
            "type": "choropleth",
            "colorbar": {
             "outlinewidth": 0,
             "ticks": ""
            }
           }
          ],
          "histogram2d": [
           {
            "type": "histogram2d",
            "colorbar": {
             "outlinewidth": 0,
             "ticks": ""
            },
            "colorscale": [
             [
              0.0,
              "#0d0887"
             ],
             [
              0.1111111111111111,
              "#46039f"
             ],
             [
              0.2222222222222222,
              "#7201a8"
             ],
             [
              0.3333333333333333,
              "#9c179e"
             ],
             [
              0.4444444444444444,
              "#bd3786"
             ],
             [
              0.5555555555555556,
              "#d8576b"
             ],
             [
              0.6666666666666666,
              "#ed7953"
             ],
             [
              0.7777777777777778,
              "#fb9f3a"
             ],
             [
              0.8888888888888888,
              "#fdca26"
             ],
             [
              1.0,
              "#f0f921"
             ]
            ]
           }
          ],
          "heatmap": [
           {
            "type": "heatmap",
            "colorbar": {
             "outlinewidth": 0,
             "ticks": ""
            },
            "colorscale": [
             [
              0.0,
              "#0d0887"
             ],
             [
              0.1111111111111111,
              "#46039f"
             ],
             [
              0.2222222222222222,
              "#7201a8"
             ],
             [
              0.3333333333333333,
              "#9c179e"
             ],
             [
              0.4444444444444444,
              "#bd3786"
             ],
             [
              0.5555555555555556,
              "#d8576b"
             ],
             [
              0.6666666666666666,
              "#ed7953"
             ],
             [
              0.7777777777777778,
              "#fb9f3a"
             ],
             [
              0.8888888888888888,
              "#fdca26"
             ],
             [
              1.0,
              "#f0f921"
             ]
            ]
           }
          ],
          "heatmapgl": [
           {
            "type": "heatmapgl",
            "colorbar": {
             "outlinewidth": 0,
             "ticks": ""
            },
            "colorscale": [
             [
              0.0,
              "#0d0887"
             ],
             [
              0.1111111111111111,
              "#46039f"
             ],
             [
              0.2222222222222222,
              "#7201a8"
             ],
             [
              0.3333333333333333,
              "#9c179e"
             ],
             [
              0.4444444444444444,
              "#bd3786"
             ],
             [
              0.5555555555555556,
              "#d8576b"
             ],
             [
              0.6666666666666666,
              "#ed7953"
             ],
             [
              0.7777777777777778,
              "#fb9f3a"
             ],
             [
              0.8888888888888888,
              "#fdca26"
             ],
             [
              1.0,
              "#f0f921"
             ]
            ]
           }
          ],
          "contourcarpet": [
           {
            "type": "contourcarpet",
            "colorbar": {
             "outlinewidth": 0,
             "ticks": ""
            }
           }
          ],
          "contour": [
           {
            "type": "contour",
            "colorbar": {
             "outlinewidth": 0,
             "ticks": ""
            },
            "colorscale": [
             [
              0.0,
              "#0d0887"
             ],
             [
              0.1111111111111111,
              "#46039f"
             ],
             [
              0.2222222222222222,
              "#7201a8"
             ],
             [
              0.3333333333333333,
              "#9c179e"
             ],
             [
              0.4444444444444444,
              "#bd3786"
             ],
             [
              0.5555555555555556,
              "#d8576b"
             ],
             [
              0.6666666666666666,
              "#ed7953"
             ],
             [
              0.7777777777777778,
              "#fb9f3a"
             ],
             [
              0.8888888888888888,
              "#fdca26"
             ],
             [
              1.0,
              "#f0f921"
             ]
            ]
           }
          ],
          "surface": [
           {
            "type": "surface",
            "colorbar": {
             "outlinewidth": 0,
             "ticks": ""
            },
            "colorscale": [
             [
              0.0,
              "#0d0887"
             ],
             [
              0.1111111111111111,
              "#46039f"
             ],
             [
              0.2222222222222222,
              "#7201a8"
             ],
             [
              0.3333333333333333,
              "#9c179e"
             ],
             [
              0.4444444444444444,
              "#bd3786"
             ],
             [
              0.5555555555555556,
              "#d8576b"
             ],
             [
              0.6666666666666666,
              "#ed7953"
             ],
             [
              0.7777777777777778,
              "#fb9f3a"
             ],
             [
              0.8888888888888888,
              "#fdca26"
             ],
             [
              1.0,
              "#f0f921"
             ]
            ]
           }
          ],
          "mesh3d": [
           {
            "type": "mesh3d",
            "colorbar": {
             "outlinewidth": 0,
             "ticks": ""
            }
           }
          ],
          "scatter": [
           {
            "marker": {
             "line": {
              "color": "#283442"
             }
            },
            "type": "scatter"
           }
          ],
          "parcoords": [
           {
            "type": "parcoords",
            "line": {
             "colorbar": {
              "outlinewidth": 0,
              "ticks": ""
             }
            }
           }
          ],
          "scatterpolargl": [
           {
            "type": "scatterpolargl",
            "marker": {
             "colorbar": {
              "outlinewidth": 0,
              "ticks": ""
             }
            }
           }
          ],
          "bar": [
           {
            "error_x": {
             "color": "#f2f5fa"
            },
            "error_y": {
             "color": "#f2f5fa"
            },
            "marker": {
             "line": {
              "color": "rgb(17,17,17)",
              "width": 0.5
             },
             "pattern": {
              "fillmode": "overlay",
              "size": 10,
              "solidity": 0.2
             }
            },
            "type": "bar"
           }
          ],
          "scattergeo": [
           {
            "type": "scattergeo",
            "marker": {
             "colorbar": {
              "outlinewidth": 0,
              "ticks": ""
             }
            }
           }
          ],
          "scatterpolar": [
           {
            "type": "scatterpolar",
            "marker": {
             "colorbar": {
              "outlinewidth": 0,
              "ticks": ""
             }
            }
           }
          ],
          "histogram": [
           {
            "marker": {
             "pattern": {
              "fillmode": "overlay",
              "size": 10,
              "solidity": 0.2
             }
            },
            "type": "histogram"
           }
          ],
          "scattergl": [
           {
            "marker": {
             "line": {
              "color": "#283442"
             }
            },
            "type": "scattergl"
           }
          ],
          "scatter3d": [
           {
            "type": "scatter3d",
            "line": {
             "colorbar": {
              "outlinewidth": 0,
              "ticks": ""
             }
            },
            "marker": {
             "colorbar": {
              "outlinewidth": 0,
              "ticks": ""
             }
            }
           }
          ],
          "scattermapbox": [
           {
            "type": "scattermapbox",
            "marker": {
             "colorbar": {
              "outlinewidth": 0,
              "ticks": ""
             }
            }
           }
          ],
          "scatterternary": [
           {
            "type": "scatterternary",
            "marker": {
             "colorbar": {
              "outlinewidth": 0,
              "ticks": ""
             }
            }
           }
          ],
          "scattercarpet": [
           {
            "type": "scattercarpet",
            "marker": {
             "colorbar": {
              "outlinewidth": 0,
              "ticks": ""
             }
            }
           }
          ],
          "carpet": [
           {
            "aaxis": {
             "endlinecolor": "#A2B1C6",
             "gridcolor": "#506784",
             "linecolor": "#506784",
             "minorgridcolor": "#506784",
             "startlinecolor": "#A2B1C6"
            },
            "baxis": {
             "endlinecolor": "#A2B1C6",
             "gridcolor": "#506784",
             "linecolor": "#506784",
             "minorgridcolor": "#506784",
             "startlinecolor": "#A2B1C6"
            },
            "type": "carpet"
           }
          ],
          "table": [
           {
            "cells": {
             "fill": {
              "color": "#506784"
             },
             "line": {
              "color": "rgb(17,17,17)"
             }
            },
            "header": {
             "fill": {
              "color": "#2a3f5f"
             },
             "line": {
              "color": "rgb(17,17,17)"
             }
            },
            "type": "table"
           }
          ],
          "barpolar": [
           {
            "marker": {
             "line": {
              "color": "rgb(17,17,17)",
              "width": 0.5
             },
             "pattern": {
              "fillmode": "overlay",
              "size": 10,
              "solidity": 0.2
             }
            },
            "type": "barpolar"
           }
          ],
          "pie": [
           {
            "automargin": true,
            "type": "pie"
           }
          ]
         },
         "layout": {
          "autotypenumbers": "strict",
          "colorway": [
           "#636efa",
           "#EF553B",
           "#00cc96",
           "#ab63fa",
           "#FFA15A",
           "#19d3f3",
           "#FF6692",
           "#B6E880",
           "#FF97FF",
           "#FECB52"
          ],
          "font": {
           "color": "#f2f5fa"
          },
          "hovermode": "closest",
          "hoverlabel": {
           "align": "left"
          },
          "paper_bgcolor": "rgb(17,17,17)",
          "plot_bgcolor": "rgb(17,17,17)",
          "polar": {
           "bgcolor": "rgb(17,17,17)",
           "angularaxis": {
            "gridcolor": "#506784",
            "linecolor": "#506784",
            "ticks": ""
           },
           "radialaxis": {
            "gridcolor": "#506784",
            "linecolor": "#506784",
            "ticks": ""
           }
          },
          "ternary": {
           "bgcolor": "rgb(17,17,17)",
           "aaxis": {
            "gridcolor": "#506784",
            "linecolor": "#506784",
            "ticks": ""
           },
           "baxis": {
            "gridcolor": "#506784",
            "linecolor": "#506784",
            "ticks": ""
           },
           "caxis": {
            "gridcolor": "#506784",
            "linecolor": "#506784",
            "ticks": ""
           }
          },
          "coloraxis": {
           "colorbar": {
            "outlinewidth": 0,
            "ticks": ""
           }
          },
          "colorscale": {
           "sequential": [
            [
             0.0,
             "#0d0887"
            ],
            [
             0.1111111111111111,
             "#46039f"
            ],
            [
             0.2222222222222222,
             "#7201a8"
            ],
            [
             0.3333333333333333,
             "#9c179e"
            ],
            [
             0.4444444444444444,
             "#bd3786"
            ],
            [
             0.5555555555555556,
             "#d8576b"
            ],
            [
             0.6666666666666666,
             "#ed7953"
            ],
            [
             0.7777777777777778,
             "#fb9f3a"
            ],
            [
             0.8888888888888888,
             "#fdca26"
            ],
            [
             1.0,
             "#f0f921"
            ]
           ],
           "sequentialminus": [
            [
             0.0,
             "#0d0887"
            ],
            [
             0.1111111111111111,
             "#46039f"
            ],
            [
             0.2222222222222222,
             "#7201a8"
            ],
            [
             0.3333333333333333,
             "#9c179e"
            ],
            [
             0.4444444444444444,
             "#bd3786"
            ],
            [
             0.5555555555555556,
             "#d8576b"
            ],
            [
             0.6666666666666666,
             "#ed7953"
            ],
            [
             0.7777777777777778,
             "#fb9f3a"
            ],
            [
             0.8888888888888888,
             "#fdca26"
            ],
            [
             1.0,
             "#f0f921"
            ]
           ],
           "diverging": [
            [
             0,
             "#8e0152"
            ],
            [
             0.1,
             "#c51b7d"
            ],
            [
             0.2,
             "#de77ae"
            ],
            [
             0.3,
             "#f1b6da"
            ],
            [
             0.4,
             "#fde0ef"
            ],
            [
             0.5,
             "#f7f7f7"
            ],
            [
             0.6,
             "#e6f5d0"
            ],
            [
             0.7,
             "#b8e186"
            ],
            [
             0.8,
             "#7fbc41"
            ],
            [
             0.9,
             "#4d9221"
            ],
            [
             1,
             "#276419"
            ]
           ]
          },
          "xaxis": {
           "gridcolor": "#283442",
           "linecolor": "#506784",
           "ticks": "",
           "title": {
            "standoff": 15
           },
           "zerolinecolor": "#283442",
           "automargin": true,
           "zerolinewidth": 2
          },
          "yaxis": {
           "gridcolor": "#283442",
           "linecolor": "#506784",
           "ticks": "",
           "title": {
            "standoff": 15
           },
           "zerolinecolor": "#283442",
           "automargin": true,
           "zerolinewidth": 2
          },
          "scene": {
           "xaxis": {
            "backgroundcolor": "rgb(17,17,17)",
            "gridcolor": "#506784",
            "linecolor": "#506784",
            "showbackground": true,
            "ticks": "",
            "zerolinecolor": "#C8D4E3",
            "gridwidth": 2
           },
           "yaxis": {
            "backgroundcolor": "rgb(17,17,17)",
            "gridcolor": "#506784",
            "linecolor": "#506784",
            "showbackground": true,
            "ticks": "",
            "zerolinecolor": "#C8D4E3",
            "gridwidth": 2
           },
           "zaxis": {
            "backgroundcolor": "rgb(17,17,17)",
            "gridcolor": "#506784",
            "linecolor": "#506784",
            "showbackground": true,
            "ticks": "",
            "zerolinecolor": "#C8D4E3",
            "gridwidth": 2
           }
          },
          "shapedefaults": {
           "line": {
            "color": "#f2f5fa"
           }
          },
          "annotationdefaults": {
           "arrowcolor": "#f2f5fa",
           "arrowhead": 0,
           "arrowwidth": 1
          },
          "geo": {
           "bgcolor": "rgb(17,17,17)",
           "landcolor": "rgb(17,17,17)",
           "subunitcolor": "#506784",
           "showland": true,
           "showlakes": true,
           "lakecolor": "rgb(17,17,17)"
          },
          "title": {
           "x": 0.05
          },
          "updatemenudefaults": {
           "bgcolor": "#506784",
           "borderwidth": 0
          },
          "sliderdefaults": {
           "bgcolor": "#C8D4E3",
           "borderwidth": 1,
           "bordercolor": "rgb(17,17,17)",
           "tickwidth": 0
          },
          "mapbox": {
           "style": "dark"
          }
         }
        },
        "title": {
         "text": "Figure 11: Abalation Study (DistServe and vLLM)"
        },
        "xaxis": {
         "title": {
          "text": "Per-GPU Rate (tokens/s)"
         }
        },
        "yaxis": {
         "title": {
          "text": "Attainment (%)"
         }
        },
        "legend": {
         "title": {
          "text": "Configuration"
         }
        }
       },
       "config": {
        "plotlyServerURL": "https://plot.ly"
       }
      },
      "text/html": "<div>                            <div id=\"9be310af-a90b-48d4-bd8c-a4a214eabce7\" class=\"plotly-graph-div\" style=\"height:525px; width:100%;\"></div>            <script type=\"text/javascript\">                require([\"plotly\"], function(Plotly) {                    window.PLOTLYENV=window.PLOTLYENV || {};                                    if (document.getElementById(\"9be310af-a90b-48d4-bd8c-a4a214eabce7\")) {                    Plotly.newPlot(                        \"9be310af-a90b-48d4-bd8c-a4a214eabce7\",                        [{\"mode\":\"lines+markers\",\"name\":\"p1111-distserve\",\"x\":[1.0,2.0,3.0,4.0,5.0],\"y\":[90.0,80.75,64.66666666666666,19.5,7.8],\"type\":\"scatter\"},{\"mode\":\"lines+markers\",\"name\":\"p1112-distserve\",\"x\":[1.0,2.0,3.0,4.0,5.0],\"y\":[86.66666666666667,65.66666666666666,41.0,5.666666666666666,0.8],\"type\":\"scatter\"},{\"mode\":\"lines+markers\",\"name\":\"p1121-distserve\",\"x\":[1.0,2.0,3.0,4.0,5.0],\"y\":[86.66666666666667,64.66666666666666,12.777777777777777,1.3333333333333337,0.7333333333333333],\"type\":\"scatter\"},{\"mode\":\"lines+markers\",\"name\":\"p1211-distserve\",\"x\":[1.0,2.0,3.0,4.0,5.0],\"y\":[92.0,87.33333333333333,23.88888888888889,10.75,5.666666666666666],\"type\":\"scatter\"},{\"mode\":\"lines+markers\",\"name\":\"p1212-distserve\",\"x\":[1.0,2.0,3.0,4.0,5.0],\"y\":[91.25,81.25,43.25,12.5,2.95],\"type\":\"scatter\"},{\"mode\":\"lines+markers\",\"name\":\"p1221-distserve\",\"x\":[1.0,2.0,3.0,4.0,5.0],\"y\":[91.25,33.375,10.75,4.6875,1.5],\"type\":\"scatter\"},{\"mode\":\"lines+markers\",\"name\":\"p2111-distserve\",\"x\":[1.0,2.0,3.0,4.0,5.0],\"y\":[98.33333333333331,90.5,82.55555555555556,42.083333333333336,14.6],\"type\":\"scatter\"},{\"mode\":\"lines+markers\",\"name\":\"p2112-distserve\",\"x\":[1.0,2.0,3.0,4.0,5.0],\"y\":[97.25,85.875,67.75,43.25,2.55],\"type\":\"scatter\"},{\"mode\":\"lines+markers\",\"name\":\"p2121-distserve\",\"x\":[1.0,2.0,3.0,4.0,5.0],\"y\":[97.25,85.875,42.083333333333336,10.125,1.2],\"type\":\"scatter\"},{\"mode\":\"lines+markers\",\"name\":\"p11-vllm\",\"x\":[1.0,2.0,3.0,4.0,5.0],\"y\":[82.0,83.5,75.0,53.75,19.4],\"type\":\"scatter\"},{\"mode\":\"lines+markers\",\"name\":\"p12-vllm\",\"x\":[1.0,2.0,3.0,4.0,5.0],\"y\":[89.5,84.5,40.833333333333336,11.875,3.4000000000000004],\"type\":\"scatter\"},{\"mode\":\"lines+markers\",\"name\":\"p14-vllm\",\"x\":[1.0,2.0,3.0,4.0,5.0],\"y\":[89.5,31.5,6.583333333333333,1.6875,0.4499999999999999],\"type\":\"scatter\"},{\"mode\":\"lines+markers\",\"name\":\"p21-vllm\",\"x\":[1.0,2.0,3.0,4.0,5.0],\"y\":[97.0,88.5,43.16666666666666,9.75,2.9000000000000004],\"type\":\"scatter\"},{\"mode\":\"lines+markers\",\"name\":\"p22-vllm\",\"x\":[1.0,2.0,3.0,4.0,5.0],\"y\":[97.75,48.0,9.083333333333334,2.25,0.4499999999999999],\"type\":\"scatter\"},{\"mode\":\"lines+markers\",\"name\":\"p41-vllm\",\"x\":[1.0,2.0,3.0,4.0,5.0],\"y\":[100.0,62.625,9.416666666666666,2.375,0.4499999999999999],\"type\":\"scatter\"}],                        {\"template\":{\"data\":{\"histogram2dcontour\":[{\"type\":\"histogram2dcontour\",\"colorbar\":{\"outlinewidth\":0,\"ticks\":\"\"},\"colorscale\":[[0.0,\"#0d0887\"],[0.1111111111111111,\"#46039f\"],[0.2222222222222222,\"#7201a8\"],[0.3333333333333333,\"#9c179e\"],[0.4444444444444444,\"#bd3786\"],[0.5555555555555556,\"#d8576b\"],[0.6666666666666666,\"#ed7953\"],[0.7777777777777778,\"#fb9f3a\"],[0.8888888888888888,\"#fdca26\"],[1.0,\"#f0f921\"]]}],\"choropleth\":[{\"type\":\"choropleth\",\"colorbar\":{\"outlinewidth\":0,\"ticks\":\"\"}}],\"histogram2d\":[{\"type\":\"histogram2d\",\"colorbar\":{\"outlinewidth\":0,\"ticks\":\"\"},\"colorscale\":[[0.0,\"#0d0887\"],[0.1111111111111111,\"#46039f\"],[0.2222222222222222,\"#7201a8\"],[0.3333333333333333,\"#9c179e\"],[0.4444444444444444,\"#bd3786\"],[0.5555555555555556,\"#d8576b\"],[0.6666666666666666,\"#ed7953\"],[0.7777777777777778,\"#fb9f3a\"],[0.8888888888888888,\"#fdca26\"],[1.0,\"#f0f921\"]]}],\"heatmap\":[{\"type\":\"heatmap\",\"colorbar\":{\"outlinewidth\":0,\"ticks\":\"\"},\"colorscale\":[[0.0,\"#0d0887\"],[0.1111111111111111,\"#46039f\"],[0.2222222222222222,\"#7201a8\"],[0.3333333333333333,\"#9c179e\"],[0.4444444444444444,\"#bd3786\"],[0.5555555555555556,\"#d8576b\"],[0.6666666666666666,\"#ed7953\"],[0.7777777777777778,\"#fb9f3a\"],[0.8888888888888888,\"#fdca26\"],[1.0,\"#f0f921\"]]}],\"heatmapgl\":[{\"type\":\"heatmapgl\",\"colorbar\":{\"outlinewidth\":0,\"ticks\":\"\"},\"colorscale\":[[0.0,\"#0d0887\"],[0.1111111111111111,\"#46039f\"],[0.2222222222222222,\"#7201a8\"],[0.3333333333333333,\"#9c179e\"],[0.4444444444444444,\"#bd3786\"],[0.5555555555555556,\"#d8576b\"],[0.6666666666666666,\"#ed7953\"],[0.7777777777777778,\"#fb9f3a\"],[0.8888888888888888,\"#fdca26\"],[1.0,\"#f0f921\"]]}],\"contourcarpet\":[{\"type\":\"contourcarpet\",\"colorbar\":{\"outlinewidth\":0,\"ticks\":\"\"}}],\"contour\":[{\"type\":\"contour\",\"colorbar\":{\"outlinewidth\":0,\"ticks\":\"\"},\"colorscale\":[[0.0,\"#0d0887\"],[0.1111111111111111,\"#46039f\"],[0.2222222222222222,\"#7201a8\"],[0.3333333333333333,\"#9c179e\"],[0.4444444444444444,\"#bd3786\"],[0.5555555555555556,\"#d8576b\"],[0.6666666666666666,\"#ed7953\"],[0.7777777777777778,\"#fb9f3a\"],[0.8888888888888888,\"#fdca26\"],[1.0,\"#f0f921\"]]}],\"surface\":[{\"type\":\"surface\",\"colorbar\":{\"outlinewidth\":0,\"ticks\":\"\"},\"colorscale\":[[0.0,\"#0d0887\"],[0.1111111111111111,\"#46039f\"],[0.2222222222222222,\"#7201a8\"],[0.3333333333333333,\"#9c179e\"],[0.4444444444444444,\"#bd3786\"],[0.5555555555555556,\"#d8576b\"],[0.6666666666666666,\"#ed7953\"],[0.7777777777777778,\"#fb9f3a\"],[0.8888888888888888,\"#fdca26\"],[1.0,\"#f0f921\"]]}],\"mesh3d\":[{\"type\":\"mesh3d\",\"colorbar\":{\"outlinewidth\":0,\"ticks\":\"\"}}],\"scatter\":[{\"marker\":{\"line\":{\"color\":\"#283442\"}},\"type\":\"scatter\"}],\"parcoords\":[{\"type\":\"parcoords\",\"line\":{\"colorbar\":{\"outlinewidth\":0,\"ticks\":\"\"}}}],\"scatterpolargl\":[{\"type\":\"scatterpolargl\",\"marker\":{\"colorbar\":{\"outlinewidth\":0,\"ticks\":\"\"}}}],\"bar\":[{\"error_x\":{\"color\":\"#f2f5fa\"},\"error_y\":{\"color\":\"#f2f5fa\"},\"marker\":{\"line\":{\"color\":\"rgb(17,17,17)\",\"width\":0.5},\"pattern\":{\"fillmode\":\"overlay\",\"size\":10,\"solidity\":0.2}},\"type\":\"bar\"}],\"scattergeo\":[{\"type\":\"scattergeo\",\"marker\":{\"colorbar\":{\"outlinewidth\":0,\"ticks\":\"\"}}}],\"scatterpolar\":[{\"type\":\"scatterpolar\",\"marker\":{\"colorbar\":{\"outlinewidth\":0,\"ticks\":\"\"}}}],\"histogram\":[{\"marker\":{\"pattern\":{\"fillmode\":\"overlay\",\"size\":10,\"solidity\":0.2}},\"type\":\"histogram\"}],\"scattergl\":[{\"marker\":{\"line\":{\"color\":\"#283442\"}},\"type\":\"scattergl\"}],\"scatter3d\":[{\"type\":\"scatter3d\",\"line\":{\"colorbar\":{\"outlinewidth\":0,\"ticks\":\"\"}},\"marker\":{\"colorbar\":{\"outlinewidth\":0,\"ticks\":\"\"}}}],\"scattermapbox\":[{\"type\":\"scattermapbox\",\"marker\":{\"colorbar\":{\"outlinewidth\":0,\"ticks\":\"\"}}}],\"scatterternary\":[{\"type\":\"scatterternary\",\"marker\":{\"colorbar\":{\"outlinewidth\":0,\"ticks\":\"\"}}}],\"scattercarpet\":[{\"type\":\"scattercarpet\",\"marker\":{\"colorbar\":{\"outlinewidth\":0,\"ticks\":\"\"}}}],\"carpet\":[{\"aaxis\":{\"endlinecolor\":\"#A2B1C6\",\"gridcolor\":\"#506784\",\"linecolor\":\"#506784\",\"minorgridcolor\":\"#506784\",\"startlinecolor\":\"#A2B1C6\"},\"baxis\":{\"endlinecolor\":\"#A2B1C6\",\"gridcolor\":\"#506784\",\"linecolor\":\"#506784\",\"minorgridcolor\":\"#506784\",\"startlinecolor\":\"#A2B1C6\"},\"type\":\"carpet\"}],\"table\":[{\"cells\":{\"fill\":{\"color\":\"#506784\"},\"line\":{\"color\":\"rgb(17,17,17)\"}},\"header\":{\"fill\":{\"color\":\"#2a3f5f\"},\"line\":{\"color\":\"rgb(17,17,17)\"}},\"type\":\"table\"}],\"barpolar\":[{\"marker\":{\"line\":{\"color\":\"rgb(17,17,17)\",\"width\":0.5},\"pattern\":{\"fillmode\":\"overlay\",\"size\":10,\"solidity\":0.2}},\"type\":\"barpolar\"}],\"pie\":[{\"automargin\":true,\"type\":\"pie\"}]},\"layout\":{\"autotypenumbers\":\"strict\",\"colorway\":[\"#636efa\",\"#EF553B\",\"#00cc96\",\"#ab63fa\",\"#FFA15A\",\"#19d3f3\",\"#FF6692\",\"#B6E880\",\"#FF97FF\",\"#FECB52\"],\"font\":{\"color\":\"#f2f5fa\"},\"hovermode\":\"closest\",\"hoverlabel\":{\"align\":\"left\"},\"paper_bgcolor\":\"rgb(17,17,17)\",\"plot_bgcolor\":\"rgb(17,17,17)\",\"polar\":{\"bgcolor\":\"rgb(17,17,17)\",\"angularaxis\":{\"gridcolor\":\"#506784\",\"linecolor\":\"#506784\",\"ticks\":\"\"},\"radialaxis\":{\"gridcolor\":\"#506784\",\"linecolor\":\"#506784\",\"ticks\":\"\"}},\"ternary\":{\"bgcolor\":\"rgb(17,17,17)\",\"aaxis\":{\"gridcolor\":\"#506784\",\"linecolor\":\"#506784\",\"ticks\":\"\"},\"baxis\":{\"gridcolor\":\"#506784\",\"linecolor\":\"#506784\",\"ticks\":\"\"},\"caxis\":{\"gridcolor\":\"#506784\",\"linecolor\":\"#506784\",\"ticks\":\"\"}},\"coloraxis\":{\"colorbar\":{\"outlinewidth\":0,\"ticks\":\"\"}},\"colorscale\":{\"sequential\":[[0.0,\"#0d0887\"],[0.1111111111111111,\"#46039f\"],[0.2222222222222222,\"#7201a8\"],[0.3333333333333333,\"#9c179e\"],[0.4444444444444444,\"#bd3786\"],[0.5555555555555556,\"#d8576b\"],[0.6666666666666666,\"#ed7953\"],[0.7777777777777778,\"#fb9f3a\"],[0.8888888888888888,\"#fdca26\"],[1.0,\"#f0f921\"]],\"sequentialminus\":[[0.0,\"#0d0887\"],[0.1111111111111111,\"#46039f\"],[0.2222222222222222,\"#7201a8\"],[0.3333333333333333,\"#9c179e\"],[0.4444444444444444,\"#bd3786\"],[0.5555555555555556,\"#d8576b\"],[0.6666666666666666,\"#ed7953\"],[0.7777777777777778,\"#fb9f3a\"],[0.8888888888888888,\"#fdca26\"],[1.0,\"#f0f921\"]],\"diverging\":[[0,\"#8e0152\"],[0.1,\"#c51b7d\"],[0.2,\"#de77ae\"],[0.3,\"#f1b6da\"],[0.4,\"#fde0ef\"],[0.5,\"#f7f7f7\"],[0.6,\"#e6f5d0\"],[0.7,\"#b8e186\"],[0.8,\"#7fbc41\"],[0.9,\"#4d9221\"],[1,\"#276419\"]]},\"xaxis\":{\"gridcolor\":\"#283442\",\"linecolor\":\"#506784\",\"ticks\":\"\",\"title\":{\"standoff\":15},\"zerolinecolor\":\"#283442\",\"automargin\":true,\"zerolinewidth\":2},\"yaxis\":{\"gridcolor\":\"#283442\",\"linecolor\":\"#506784\",\"ticks\":\"\",\"title\":{\"standoff\":15},\"zerolinecolor\":\"#283442\",\"automargin\":true,\"zerolinewidth\":2},\"scene\":{\"xaxis\":{\"backgroundcolor\":\"rgb(17,17,17)\",\"gridcolor\":\"#506784\",\"linecolor\":\"#506784\",\"showbackground\":true,\"ticks\":\"\",\"zerolinecolor\":\"#C8D4E3\",\"gridwidth\":2},\"yaxis\":{\"backgroundcolor\":\"rgb(17,17,17)\",\"gridcolor\":\"#506784\",\"linecolor\":\"#506784\",\"showbackground\":true,\"ticks\":\"\",\"zerolinecolor\":\"#C8D4E3\",\"gridwidth\":2},\"zaxis\":{\"backgroundcolor\":\"rgb(17,17,17)\",\"gridcolor\":\"#506784\",\"linecolor\":\"#506784\",\"showbackground\":true,\"ticks\":\"\",\"zerolinecolor\":\"#C8D4E3\",\"gridwidth\":2}},\"shapedefaults\":{\"line\":{\"color\":\"#f2f5fa\"}},\"annotationdefaults\":{\"arrowcolor\":\"#f2f5fa\",\"arrowhead\":0,\"arrowwidth\":1},\"geo\":{\"bgcolor\":\"rgb(17,17,17)\",\"landcolor\":\"rgb(17,17,17)\",\"subunitcolor\":\"#506784\",\"showland\":true,\"showlakes\":true,\"lakecolor\":\"rgb(17,17,17)\"},\"title\":{\"x\":0.05},\"updatemenudefaults\":{\"bgcolor\":\"#506784\",\"borderwidth\":0},\"sliderdefaults\":{\"bgcolor\":\"#C8D4E3\",\"borderwidth\":1,\"bordercolor\":\"rgb(17,17,17)\",\"tickwidth\":0},\"mapbox\":{\"style\":\"dark\"}}},\"title\":{\"text\":\"Figure 11: Abalation Study (DistServe and vLLM)\"},\"xaxis\":{\"title\":{\"text\":\"Per-GPU Rate (tokens\\u002fs)\"}},\"yaxis\":{\"title\":{\"text\":\"Attainment (%)\"}},\"legend\":{\"title\":{\"text\":\"Configuration\"}}},                        {\"responsive\": true}                    ).then(function(){\n                            \nvar gd = document.getElementById('9be310af-a90b-48d4-bd8c-a4a214eabce7');\nvar x = new MutationObserver(function (mutations, observer) {{\n        var display = window.getComputedStyle(gd).display;\n        if (!display || display === 'none') {{\n            console.log([gd, 'removed!']);\n            Plotly.purge(gd);\n            observer.disconnect();\n        }}\n}});\n\n// Listen for the removal of the full notebook cells\nvar notebookContainer = gd.closest('#notebook-container');\nif (notebookContainer) {{\n    x.observe(notebookContainer, {childList: true});\n}}\n\n// Listen for the clearing of the current output cell\nvar outputEl = gd.closest('.output');\nif (outputEl) {{\n    x.observe(outputEl, {childList: true});\n}}\n\n                        })                };                });            </script>        </div>"
     },
     "metadata": {},
     "output_type": "display_data"
    }
   ],
   "source": [
    "import plotly.graph_objects as go\n",
    "\n",
    "fig = go.Figure()\n",
    "\n",
    "# Plot the `figure_11_distserve_high`for some configurations\n",
    "# tp_prefill = 1, pp_prefill = 1, tp_decode = 1, pp_decode = 1\n",
    "# x-axis: rate\n",
    "# y-axis: attainment\n",
    "# find all combination of tp_prefill, pp_prefill, tp_decode, pp_decode\n",
    "\n",
    "configs = figure_11_distserve_high[['tp_prefill', 'pp_prefill', 'tp_decode', 'pp_decode']].drop_duplicates()\n",
    "df = figure_11_distserve_high\n",
    "\n",
    "for tp_prefill, pp_prefill, tp_decode, pp_decode in configs.values:\n",
    "    config_df = df[\n",
    "        (df['tp_prefill'] == tp_prefill) & (df['pp_prefill'] == pp_prefill) &\n",
    "        (df['tp_decode'] == tp_decode) & (df['pp_decode'] == pp_decode)\n",
    "        ]\n",
    "    # plot this inside a plotly plot\n",
    "    fig.add_trace(go.Scatter(\n",
    "        x=config_df['per_gpu_rate'], y=config_df['attainment'],\n",
    "        mode='lines+markers', name=f\"p{tp_prefill}{pp_prefill}{tp_decode}{pp_decode}-distserve\"\n",
    "    ))\n",
    "\n",
    "# Plot the `figure_11_vllm_high`for some configurations\n",
    "# tp_prefill = 1, pp_prefill = 1\n",
    "# x-axis: rate\n",
    "# y-axis: attainment\n",
    "# find all combination of tp_prefill, pp_prefill\n",
    "\n",
    "configs = figure_11_vllm_high[['tp_prefill', 'pp_prefill']].drop_duplicates()\n",
    "df = figure_11_vllm_high\n",
    "\n",
    "for tp_prefill, pp_prefill in configs.values:\n",
    "    config_df = df[\n",
    "        (df['tp_prefill'] == tp_prefill) & (df['pp_prefill'] == pp_prefill)\n",
    "        ]\n",
    "    # plot this inside a plotly plot\n",
    "    fig.add_trace(go.Scatter(\n",
    "        x=config_df['per_gpu_rate'], y=config_df['attainment'],\n",
    "        mode='lines+markers', name=f\"p{tp_prefill}{pp_prefill}-vllm\"\n",
    "    ))\n",
    "\n",
    "# fig add title\n",
    "fig.update_layout(\n",
    "    title=\"Figure 11: Abalation Study (DistServe and vLLM)\",\n",
    "    xaxis_title=\"Per-GPU Rate (tokens/s)\",\n",
    "    yaxis_title=\"Attainment (%)\",\n",
    "    legend_title=\"Configuration\"\n",
    ")\n",
    "fig.write_html(\"visual/figure_11.full.html\")\n",
    "if is_notebook_mode:\n",
    "    fig.show()"
   ],
   "metadata": {
    "collapsed": false,
    "ExecuteTime": {
     "end_time": "2024-04-23T22:38:16.069053Z",
     "start_time": "2024-04-23T22:38:15.968791Z"
    }
   },
   "id": "97da25d4cb5d76ff",
   "execution_count": 87
  },
  {
   "cell_type": "code",
   "outputs": [],
   "source": [
    "# Find the best config that has the highest goodput@90 and attainment\n",
    "def get_top_config(df):\n",
    "    max_per_gpu_rate = max(df['per_gpu_rate'].unique())\n",
    "    df2 = df[df['per_gpu_rate'] == max_per_gpu_rate]\n",
    "    df3 = df2.sort_values(by=['goodput@90', 'attainment'], ascending=False, )\n",
    "    r = df3.iloc[0][[\n",
    "        \"tp_prefill\",\n",
    "        \"pp_prefill\",\n",
    "        \"tp_decode\",\n",
    "        \"pp_decode\",\n",
    "    ]]\n",
    "    return r\n",
    "\n",
    "\n",
    "\n",
    "def add_plotly_trace(fig, df: 'DataFrame', trace: str):\n",
    "    tp_prefill, pp_prefill, tp_decode, pp_decode = get_top_config(df)\n",
    "    config_df = df[\n",
    "        (df['tp_prefill'] == tp_prefill) & (df['pp_prefill'] == pp_prefill) &\n",
    "        (df['tp_decode'] == tp_decode) & (df['pp_decode'] == pp_decode)\n",
    "        ]\n",
    "    if 'vllm' in trace:\n",
    "        name = f\"{trace}-p{tp_prefill}{pp_prefill}\"\n",
    "        pass\n",
    "    else:\n",
    "        name = f\"{trace}-p{tp_prefill}{pp_prefill}{tp_decode}{pp_decode}\"\n",
    "        pass\n",
    "\n",
    "    fig.add_trace(go.Scatter(\n",
    "        x=config_df['per_gpu_rate'], y=config_df['attainment'],\n",
    "        mode='lines+markers', name=name\n",
    "    ))\n",
    "    return"
   ],
   "metadata": {
    "collapsed": false,
    "ExecuteTime": {
     "end_time": "2024-04-23T22:38:16.070059Z",
     "start_time": "2024-04-23T22:38:15.993516Z"
    }
   },
   "id": "c48c46744186936b",
   "execution_count": 88
  },
  {
   "cell_type": "code",
   "outputs": [
    {
     "data": {
      "application/vnd.plotly.v1+json": {
       "data": [
        {
         "mode": "lines+markers",
         "name": "disthigh-p2111",
         "x": [
          1.0,
          2.0,
          3.0,
          4.0,
          5.0
         ],
         "y": [
          98.33333333333331,
          90.5,
          82.55555555555556,
          42.083333333333336,
          14.6
         ],
         "type": "scatter"
        },
        {
         "mode": "lines+markers",
         "name": "distlow-p2111",
         "x": [
          1.0,
          2.0,
          3.0,
          4.0,
          5.0
         ],
         "y": [
          98.33333333333331,
          90.5,
          82.55555555555556,
          42.083333333333336,
          14.6
         ],
         "type": "scatter"
        },
        {
         "mode": "lines+markers",
         "name": "vllm++-p11",
         "x": [
          1.0,
          2.0,
          3.0,
          4.0,
          5.0
         ],
         "y": [
          82.0,
          83.5,
          75.0,
          53.75,
          19.4
         ],
         "type": "scatter"
        },
        {
         "mode": "lines+markers",
         "name": "vllm-p11",
         "x": [
          1.0,
          2.0,
          3.0,
          4.0,
          5.0
         ],
         "y": [
          82.0,
          83.5,
          75.0,
          53.75,
          19.4
         ],
         "type": "scatter"
        }
       ],
       "layout": {
        "template": {
         "data": {
          "histogram2dcontour": [
           {
            "type": "histogram2dcontour",
            "colorbar": {
             "outlinewidth": 0,
             "ticks": ""
            },
            "colorscale": [
             [
              0.0,
              "#0d0887"
             ],
             [
              0.1111111111111111,
              "#46039f"
             ],
             [
              0.2222222222222222,
              "#7201a8"
             ],
             [
              0.3333333333333333,
              "#9c179e"
             ],
             [
              0.4444444444444444,
              "#bd3786"
             ],
             [
              0.5555555555555556,
              "#d8576b"
             ],
             [
              0.6666666666666666,
              "#ed7953"
             ],
             [
              0.7777777777777778,
              "#fb9f3a"
             ],
             [
              0.8888888888888888,
              "#fdca26"
             ],
             [
              1.0,
              "#f0f921"
             ]
            ]
           }
          ],
          "choropleth": [
           {
            "type": "choropleth",
            "colorbar": {
             "outlinewidth": 0,
             "ticks": ""
            }
           }
          ],
          "histogram2d": [
           {
            "type": "histogram2d",
            "colorbar": {
             "outlinewidth": 0,
             "ticks": ""
            },
            "colorscale": [
             [
              0.0,
              "#0d0887"
             ],
             [
              0.1111111111111111,
              "#46039f"
             ],
             [
              0.2222222222222222,
              "#7201a8"
             ],
             [
              0.3333333333333333,
              "#9c179e"
             ],
             [
              0.4444444444444444,
              "#bd3786"
             ],
             [
              0.5555555555555556,
              "#d8576b"
             ],
             [
              0.6666666666666666,
              "#ed7953"
             ],
             [
              0.7777777777777778,
              "#fb9f3a"
             ],
             [
              0.8888888888888888,
              "#fdca26"
             ],
             [
              1.0,
              "#f0f921"
             ]
            ]
           }
          ],
          "heatmap": [
           {
            "type": "heatmap",
            "colorbar": {
             "outlinewidth": 0,
             "ticks": ""
            },
            "colorscale": [
             [
              0.0,
              "#0d0887"
             ],
             [
              0.1111111111111111,
              "#46039f"
             ],
             [
              0.2222222222222222,
              "#7201a8"
             ],
             [
              0.3333333333333333,
              "#9c179e"
             ],
             [
              0.4444444444444444,
              "#bd3786"
             ],
             [
              0.5555555555555556,
              "#d8576b"
             ],
             [
              0.6666666666666666,
              "#ed7953"
             ],
             [
              0.7777777777777778,
              "#fb9f3a"
             ],
             [
              0.8888888888888888,
              "#fdca26"
             ],
             [
              1.0,
              "#f0f921"
             ]
            ]
           }
          ],
          "heatmapgl": [
           {
            "type": "heatmapgl",
            "colorbar": {
             "outlinewidth": 0,
             "ticks": ""
            },
            "colorscale": [
             [
              0.0,
              "#0d0887"
             ],
             [
              0.1111111111111111,
              "#46039f"
             ],
             [
              0.2222222222222222,
              "#7201a8"
             ],
             [
              0.3333333333333333,
              "#9c179e"
             ],
             [
              0.4444444444444444,
              "#bd3786"
             ],
             [
              0.5555555555555556,
              "#d8576b"
             ],
             [
              0.6666666666666666,
              "#ed7953"
             ],
             [
              0.7777777777777778,
              "#fb9f3a"
             ],
             [
              0.8888888888888888,
              "#fdca26"
             ],
             [
              1.0,
              "#f0f921"
             ]
            ]
           }
          ],
          "contourcarpet": [
           {
            "type": "contourcarpet",
            "colorbar": {
             "outlinewidth": 0,
             "ticks": ""
            }
           }
          ],
          "contour": [
           {
            "type": "contour",
            "colorbar": {
             "outlinewidth": 0,
             "ticks": ""
            },
            "colorscale": [
             [
              0.0,
              "#0d0887"
             ],
             [
              0.1111111111111111,
              "#46039f"
             ],
             [
              0.2222222222222222,
              "#7201a8"
             ],
             [
              0.3333333333333333,
              "#9c179e"
             ],
             [
              0.4444444444444444,
              "#bd3786"
             ],
             [
              0.5555555555555556,
              "#d8576b"
             ],
             [
              0.6666666666666666,
              "#ed7953"
             ],
             [
              0.7777777777777778,
              "#fb9f3a"
             ],
             [
              0.8888888888888888,
              "#fdca26"
             ],
             [
              1.0,
              "#f0f921"
             ]
            ]
           }
          ],
          "surface": [
           {
            "type": "surface",
            "colorbar": {
             "outlinewidth": 0,
             "ticks": ""
            },
            "colorscale": [
             [
              0.0,
              "#0d0887"
             ],
             [
              0.1111111111111111,
              "#46039f"
             ],
             [
              0.2222222222222222,
              "#7201a8"
             ],
             [
              0.3333333333333333,
              "#9c179e"
             ],
             [
              0.4444444444444444,
              "#bd3786"
             ],
             [
              0.5555555555555556,
              "#d8576b"
             ],
             [
              0.6666666666666666,
              "#ed7953"
             ],
             [
              0.7777777777777778,
              "#fb9f3a"
             ],
             [
              0.8888888888888888,
              "#fdca26"
             ],
             [
              1.0,
              "#f0f921"
             ]
            ]
           }
          ],
          "mesh3d": [
           {
            "type": "mesh3d",
            "colorbar": {
             "outlinewidth": 0,
             "ticks": ""
            }
           }
          ],
          "scatter": [
           {
            "marker": {
             "line": {
              "color": "#283442"
             }
            },
            "type": "scatter"
           }
          ],
          "parcoords": [
           {
            "type": "parcoords",
            "line": {
             "colorbar": {
              "outlinewidth": 0,
              "ticks": ""
             }
            }
           }
          ],
          "scatterpolargl": [
           {
            "type": "scatterpolargl",
            "marker": {
             "colorbar": {
              "outlinewidth": 0,
              "ticks": ""
             }
            }
           }
          ],
          "bar": [
           {
            "error_x": {
             "color": "#f2f5fa"
            },
            "error_y": {
             "color": "#f2f5fa"
            },
            "marker": {
             "line": {
              "color": "rgb(17,17,17)",
              "width": 0.5
             },
             "pattern": {
              "fillmode": "overlay",
              "size": 10,
              "solidity": 0.2
             }
            },
            "type": "bar"
           }
          ],
          "scattergeo": [
           {
            "type": "scattergeo",
            "marker": {
             "colorbar": {
              "outlinewidth": 0,
              "ticks": ""
             }
            }
           }
          ],
          "scatterpolar": [
           {
            "type": "scatterpolar",
            "marker": {
             "colorbar": {
              "outlinewidth": 0,
              "ticks": ""
             }
            }
           }
          ],
          "histogram": [
           {
            "marker": {
             "pattern": {
              "fillmode": "overlay",
              "size": 10,
              "solidity": 0.2
             }
            },
            "type": "histogram"
           }
          ],
          "scattergl": [
           {
            "marker": {
             "line": {
              "color": "#283442"
             }
            },
            "type": "scattergl"
           }
          ],
          "scatter3d": [
           {
            "type": "scatter3d",
            "line": {
             "colorbar": {
              "outlinewidth": 0,
              "ticks": ""
             }
            },
            "marker": {
             "colorbar": {
              "outlinewidth": 0,
              "ticks": ""
             }
            }
           }
          ],
          "scattermapbox": [
           {
            "type": "scattermapbox",
            "marker": {
             "colorbar": {
              "outlinewidth": 0,
              "ticks": ""
             }
            }
           }
          ],
          "scatterternary": [
           {
            "type": "scatterternary",
            "marker": {
             "colorbar": {
              "outlinewidth": 0,
              "ticks": ""
             }
            }
           }
          ],
          "scattercarpet": [
           {
            "type": "scattercarpet",
            "marker": {
             "colorbar": {
              "outlinewidth": 0,
              "ticks": ""
             }
            }
           }
          ],
          "carpet": [
           {
            "aaxis": {
             "endlinecolor": "#A2B1C6",
             "gridcolor": "#506784",
             "linecolor": "#506784",
             "minorgridcolor": "#506784",
             "startlinecolor": "#A2B1C6"
            },
            "baxis": {
             "endlinecolor": "#A2B1C6",
             "gridcolor": "#506784",
             "linecolor": "#506784",
             "minorgridcolor": "#506784",
             "startlinecolor": "#A2B1C6"
            },
            "type": "carpet"
           }
          ],
          "table": [
           {
            "cells": {
             "fill": {
              "color": "#506784"
             },
             "line": {
              "color": "rgb(17,17,17)"
             }
            },
            "header": {
             "fill": {
              "color": "#2a3f5f"
             },
             "line": {
              "color": "rgb(17,17,17)"
             }
            },
            "type": "table"
           }
          ],
          "barpolar": [
           {
            "marker": {
             "line": {
              "color": "rgb(17,17,17)",
              "width": 0.5
             },
             "pattern": {
              "fillmode": "overlay",
              "size": 10,
              "solidity": 0.2
             }
            },
            "type": "barpolar"
           }
          ],
          "pie": [
           {
            "automargin": true,
            "type": "pie"
           }
          ]
         },
         "layout": {
          "autotypenumbers": "strict",
          "colorway": [
           "#636efa",
           "#EF553B",
           "#00cc96",
           "#ab63fa",
           "#FFA15A",
           "#19d3f3",
           "#FF6692",
           "#B6E880",
           "#FF97FF",
           "#FECB52"
          ],
          "font": {
           "color": "#f2f5fa"
          },
          "hovermode": "closest",
          "hoverlabel": {
           "align": "left"
          },
          "paper_bgcolor": "rgb(17,17,17)",
          "plot_bgcolor": "rgb(17,17,17)",
          "polar": {
           "bgcolor": "rgb(17,17,17)",
           "angularaxis": {
            "gridcolor": "#506784",
            "linecolor": "#506784",
            "ticks": ""
           },
           "radialaxis": {
            "gridcolor": "#506784",
            "linecolor": "#506784",
            "ticks": ""
           }
          },
          "ternary": {
           "bgcolor": "rgb(17,17,17)",
           "aaxis": {
            "gridcolor": "#506784",
            "linecolor": "#506784",
            "ticks": ""
           },
           "baxis": {
            "gridcolor": "#506784",
            "linecolor": "#506784",
            "ticks": ""
           },
           "caxis": {
            "gridcolor": "#506784",
            "linecolor": "#506784",
            "ticks": ""
           }
          },
          "coloraxis": {
           "colorbar": {
            "outlinewidth": 0,
            "ticks": ""
           }
          },
          "colorscale": {
           "sequential": [
            [
             0.0,
             "#0d0887"
            ],
            [
             0.1111111111111111,
             "#46039f"
            ],
            [
             0.2222222222222222,
             "#7201a8"
            ],
            [
             0.3333333333333333,
             "#9c179e"
            ],
            [
             0.4444444444444444,
             "#bd3786"
            ],
            [
             0.5555555555555556,
             "#d8576b"
            ],
            [
             0.6666666666666666,
             "#ed7953"
            ],
            [
             0.7777777777777778,
             "#fb9f3a"
            ],
            [
             0.8888888888888888,
             "#fdca26"
            ],
            [
             1.0,
             "#f0f921"
            ]
           ],
           "sequentialminus": [
            [
             0.0,
             "#0d0887"
            ],
            [
             0.1111111111111111,
             "#46039f"
            ],
            [
             0.2222222222222222,
             "#7201a8"
            ],
            [
             0.3333333333333333,
             "#9c179e"
            ],
            [
             0.4444444444444444,
             "#bd3786"
            ],
            [
             0.5555555555555556,
             "#d8576b"
            ],
            [
             0.6666666666666666,
             "#ed7953"
            ],
            [
             0.7777777777777778,
             "#fb9f3a"
            ],
            [
             0.8888888888888888,
             "#fdca26"
            ],
            [
             1.0,
             "#f0f921"
            ]
           ],
           "diverging": [
            [
             0,
             "#8e0152"
            ],
            [
             0.1,
             "#c51b7d"
            ],
            [
             0.2,
             "#de77ae"
            ],
            [
             0.3,
             "#f1b6da"
            ],
            [
             0.4,
             "#fde0ef"
            ],
            [
             0.5,
             "#f7f7f7"
            ],
            [
             0.6,
             "#e6f5d0"
            ],
            [
             0.7,
             "#b8e186"
            ],
            [
             0.8,
             "#7fbc41"
            ],
            [
             0.9,
             "#4d9221"
            ],
            [
             1,
             "#276419"
            ]
           ]
          },
          "xaxis": {
           "gridcolor": "#283442",
           "linecolor": "#506784",
           "ticks": "",
           "title": {
            "standoff": 15
           },
           "zerolinecolor": "#283442",
           "automargin": true,
           "zerolinewidth": 2
          },
          "yaxis": {
           "gridcolor": "#283442",
           "linecolor": "#506784",
           "ticks": "",
           "title": {
            "standoff": 15
           },
           "zerolinecolor": "#283442",
           "automargin": true,
           "zerolinewidth": 2
          },
          "scene": {
           "xaxis": {
            "backgroundcolor": "rgb(17,17,17)",
            "gridcolor": "#506784",
            "linecolor": "#506784",
            "showbackground": true,
            "ticks": "",
            "zerolinecolor": "#C8D4E3",
            "gridwidth": 2
           },
           "yaxis": {
            "backgroundcolor": "rgb(17,17,17)",
            "gridcolor": "#506784",
            "linecolor": "#506784",
            "showbackground": true,
            "ticks": "",
            "zerolinecolor": "#C8D4E3",
            "gridwidth": 2
           },
           "zaxis": {
            "backgroundcolor": "rgb(17,17,17)",
            "gridcolor": "#506784",
            "linecolor": "#506784",
            "showbackground": true,
            "ticks": "",
            "zerolinecolor": "#C8D4E3",
            "gridwidth": 2
           }
          },
          "shapedefaults": {
           "line": {
            "color": "#f2f5fa"
           }
          },
          "annotationdefaults": {
           "arrowcolor": "#f2f5fa",
           "arrowhead": 0,
           "arrowwidth": 1
          },
          "geo": {
           "bgcolor": "rgb(17,17,17)",
           "landcolor": "rgb(17,17,17)",
           "subunitcolor": "#506784",
           "showland": true,
           "showlakes": true,
           "lakecolor": "rgb(17,17,17)"
          },
          "title": {
           "x": 0.05
          },
          "updatemenudefaults": {
           "bgcolor": "#506784",
           "borderwidth": 0
          },
          "sliderdefaults": {
           "bgcolor": "#C8D4E3",
           "borderwidth": 1,
           "bordercolor": "rgb(17,17,17)",
           "tickwidth": 0
          },
          "mapbox": {
           "style": "dark"
          }
         }
        },
        "title": {
         "text": "Figure 11: Abalation Study (DistServe and vLLM)<br><sup>The figure shows that DistHigh > DistLow > vLLM++ > vLLM (vLLM++ and vLLM overlaps) </sup>"
        },
        "xaxis": {
         "title": {
          "text": "Per-GPU Rate (tokens/s)"
         }
        },
        "yaxis": {
         "title": {
          "text": "Attainment (%)"
         }
        },
        "legend": {
         "title": {
          "text": "Configuration"
         }
        }
       },
       "config": {
        "plotlyServerURL": "https://plot.ly"
       }
      },
      "text/html": "<div>                            <div id=\"d39fbd48-f987-43ad-80f0-4b23a715f993\" class=\"plotly-graph-div\" style=\"height:525px; width:100%;\"></div>            <script type=\"text/javascript\">                require([\"plotly\"], function(Plotly) {                    window.PLOTLYENV=window.PLOTLYENV || {};                                    if (document.getElementById(\"d39fbd48-f987-43ad-80f0-4b23a715f993\")) {                    Plotly.newPlot(                        \"d39fbd48-f987-43ad-80f0-4b23a715f993\",                        [{\"mode\":\"lines+markers\",\"name\":\"disthigh-p2111\",\"x\":[1.0,2.0,3.0,4.0,5.0],\"y\":[98.33333333333331,90.5,82.55555555555556,42.083333333333336,14.6],\"type\":\"scatter\"},{\"mode\":\"lines+markers\",\"name\":\"distlow-p2111\",\"x\":[1.0,2.0,3.0,4.0,5.0],\"y\":[98.33333333333331,90.5,82.55555555555556,42.083333333333336,14.6],\"type\":\"scatter\"},{\"mode\":\"lines+markers\",\"name\":\"vllm++-p11\",\"x\":[1.0,2.0,3.0,4.0,5.0],\"y\":[82.0,83.5,75.0,53.75,19.4],\"type\":\"scatter\"},{\"mode\":\"lines+markers\",\"name\":\"vllm-p11\",\"x\":[1.0,2.0,3.0,4.0,5.0],\"y\":[82.0,83.5,75.0,53.75,19.4],\"type\":\"scatter\"}],                        {\"template\":{\"data\":{\"histogram2dcontour\":[{\"type\":\"histogram2dcontour\",\"colorbar\":{\"outlinewidth\":0,\"ticks\":\"\"},\"colorscale\":[[0.0,\"#0d0887\"],[0.1111111111111111,\"#46039f\"],[0.2222222222222222,\"#7201a8\"],[0.3333333333333333,\"#9c179e\"],[0.4444444444444444,\"#bd3786\"],[0.5555555555555556,\"#d8576b\"],[0.6666666666666666,\"#ed7953\"],[0.7777777777777778,\"#fb9f3a\"],[0.8888888888888888,\"#fdca26\"],[1.0,\"#f0f921\"]]}],\"choropleth\":[{\"type\":\"choropleth\",\"colorbar\":{\"outlinewidth\":0,\"ticks\":\"\"}}],\"histogram2d\":[{\"type\":\"histogram2d\",\"colorbar\":{\"outlinewidth\":0,\"ticks\":\"\"},\"colorscale\":[[0.0,\"#0d0887\"],[0.1111111111111111,\"#46039f\"],[0.2222222222222222,\"#7201a8\"],[0.3333333333333333,\"#9c179e\"],[0.4444444444444444,\"#bd3786\"],[0.5555555555555556,\"#d8576b\"],[0.6666666666666666,\"#ed7953\"],[0.7777777777777778,\"#fb9f3a\"],[0.8888888888888888,\"#fdca26\"],[1.0,\"#f0f921\"]]}],\"heatmap\":[{\"type\":\"heatmap\",\"colorbar\":{\"outlinewidth\":0,\"ticks\":\"\"},\"colorscale\":[[0.0,\"#0d0887\"],[0.1111111111111111,\"#46039f\"],[0.2222222222222222,\"#7201a8\"],[0.3333333333333333,\"#9c179e\"],[0.4444444444444444,\"#bd3786\"],[0.5555555555555556,\"#d8576b\"],[0.6666666666666666,\"#ed7953\"],[0.7777777777777778,\"#fb9f3a\"],[0.8888888888888888,\"#fdca26\"],[1.0,\"#f0f921\"]]}],\"heatmapgl\":[{\"type\":\"heatmapgl\",\"colorbar\":{\"outlinewidth\":0,\"ticks\":\"\"},\"colorscale\":[[0.0,\"#0d0887\"],[0.1111111111111111,\"#46039f\"],[0.2222222222222222,\"#7201a8\"],[0.3333333333333333,\"#9c179e\"],[0.4444444444444444,\"#bd3786\"],[0.5555555555555556,\"#d8576b\"],[0.6666666666666666,\"#ed7953\"],[0.7777777777777778,\"#fb9f3a\"],[0.8888888888888888,\"#fdca26\"],[1.0,\"#f0f921\"]]}],\"contourcarpet\":[{\"type\":\"contourcarpet\",\"colorbar\":{\"outlinewidth\":0,\"ticks\":\"\"}}],\"contour\":[{\"type\":\"contour\",\"colorbar\":{\"outlinewidth\":0,\"ticks\":\"\"},\"colorscale\":[[0.0,\"#0d0887\"],[0.1111111111111111,\"#46039f\"],[0.2222222222222222,\"#7201a8\"],[0.3333333333333333,\"#9c179e\"],[0.4444444444444444,\"#bd3786\"],[0.5555555555555556,\"#d8576b\"],[0.6666666666666666,\"#ed7953\"],[0.7777777777777778,\"#fb9f3a\"],[0.8888888888888888,\"#fdca26\"],[1.0,\"#f0f921\"]]}],\"surface\":[{\"type\":\"surface\",\"colorbar\":{\"outlinewidth\":0,\"ticks\":\"\"},\"colorscale\":[[0.0,\"#0d0887\"],[0.1111111111111111,\"#46039f\"],[0.2222222222222222,\"#7201a8\"],[0.3333333333333333,\"#9c179e\"],[0.4444444444444444,\"#bd3786\"],[0.5555555555555556,\"#d8576b\"],[0.6666666666666666,\"#ed7953\"],[0.7777777777777778,\"#fb9f3a\"],[0.8888888888888888,\"#fdca26\"],[1.0,\"#f0f921\"]]}],\"mesh3d\":[{\"type\":\"mesh3d\",\"colorbar\":{\"outlinewidth\":0,\"ticks\":\"\"}}],\"scatter\":[{\"marker\":{\"line\":{\"color\":\"#283442\"}},\"type\":\"scatter\"}],\"parcoords\":[{\"type\":\"parcoords\",\"line\":{\"colorbar\":{\"outlinewidth\":0,\"ticks\":\"\"}}}],\"scatterpolargl\":[{\"type\":\"scatterpolargl\",\"marker\":{\"colorbar\":{\"outlinewidth\":0,\"ticks\":\"\"}}}],\"bar\":[{\"error_x\":{\"color\":\"#f2f5fa\"},\"error_y\":{\"color\":\"#f2f5fa\"},\"marker\":{\"line\":{\"color\":\"rgb(17,17,17)\",\"width\":0.5},\"pattern\":{\"fillmode\":\"overlay\",\"size\":10,\"solidity\":0.2}},\"type\":\"bar\"}],\"scattergeo\":[{\"type\":\"scattergeo\",\"marker\":{\"colorbar\":{\"outlinewidth\":0,\"ticks\":\"\"}}}],\"scatterpolar\":[{\"type\":\"scatterpolar\",\"marker\":{\"colorbar\":{\"outlinewidth\":0,\"ticks\":\"\"}}}],\"histogram\":[{\"marker\":{\"pattern\":{\"fillmode\":\"overlay\",\"size\":10,\"solidity\":0.2}},\"type\":\"histogram\"}],\"scattergl\":[{\"marker\":{\"line\":{\"color\":\"#283442\"}},\"type\":\"scattergl\"}],\"scatter3d\":[{\"type\":\"scatter3d\",\"line\":{\"colorbar\":{\"outlinewidth\":0,\"ticks\":\"\"}},\"marker\":{\"colorbar\":{\"outlinewidth\":0,\"ticks\":\"\"}}}],\"scattermapbox\":[{\"type\":\"scattermapbox\",\"marker\":{\"colorbar\":{\"outlinewidth\":0,\"ticks\":\"\"}}}],\"scatterternary\":[{\"type\":\"scatterternary\",\"marker\":{\"colorbar\":{\"outlinewidth\":0,\"ticks\":\"\"}}}],\"scattercarpet\":[{\"type\":\"scattercarpet\",\"marker\":{\"colorbar\":{\"outlinewidth\":0,\"ticks\":\"\"}}}],\"carpet\":[{\"aaxis\":{\"endlinecolor\":\"#A2B1C6\",\"gridcolor\":\"#506784\",\"linecolor\":\"#506784\",\"minorgridcolor\":\"#506784\",\"startlinecolor\":\"#A2B1C6\"},\"baxis\":{\"endlinecolor\":\"#A2B1C6\",\"gridcolor\":\"#506784\",\"linecolor\":\"#506784\",\"minorgridcolor\":\"#506784\",\"startlinecolor\":\"#A2B1C6\"},\"type\":\"carpet\"}],\"table\":[{\"cells\":{\"fill\":{\"color\":\"#506784\"},\"line\":{\"color\":\"rgb(17,17,17)\"}},\"header\":{\"fill\":{\"color\":\"#2a3f5f\"},\"line\":{\"color\":\"rgb(17,17,17)\"}},\"type\":\"table\"}],\"barpolar\":[{\"marker\":{\"line\":{\"color\":\"rgb(17,17,17)\",\"width\":0.5},\"pattern\":{\"fillmode\":\"overlay\",\"size\":10,\"solidity\":0.2}},\"type\":\"barpolar\"}],\"pie\":[{\"automargin\":true,\"type\":\"pie\"}]},\"layout\":{\"autotypenumbers\":\"strict\",\"colorway\":[\"#636efa\",\"#EF553B\",\"#00cc96\",\"#ab63fa\",\"#FFA15A\",\"#19d3f3\",\"#FF6692\",\"#B6E880\",\"#FF97FF\",\"#FECB52\"],\"font\":{\"color\":\"#f2f5fa\"},\"hovermode\":\"closest\",\"hoverlabel\":{\"align\":\"left\"},\"paper_bgcolor\":\"rgb(17,17,17)\",\"plot_bgcolor\":\"rgb(17,17,17)\",\"polar\":{\"bgcolor\":\"rgb(17,17,17)\",\"angularaxis\":{\"gridcolor\":\"#506784\",\"linecolor\":\"#506784\",\"ticks\":\"\"},\"radialaxis\":{\"gridcolor\":\"#506784\",\"linecolor\":\"#506784\",\"ticks\":\"\"}},\"ternary\":{\"bgcolor\":\"rgb(17,17,17)\",\"aaxis\":{\"gridcolor\":\"#506784\",\"linecolor\":\"#506784\",\"ticks\":\"\"},\"baxis\":{\"gridcolor\":\"#506784\",\"linecolor\":\"#506784\",\"ticks\":\"\"},\"caxis\":{\"gridcolor\":\"#506784\",\"linecolor\":\"#506784\",\"ticks\":\"\"}},\"coloraxis\":{\"colorbar\":{\"outlinewidth\":0,\"ticks\":\"\"}},\"colorscale\":{\"sequential\":[[0.0,\"#0d0887\"],[0.1111111111111111,\"#46039f\"],[0.2222222222222222,\"#7201a8\"],[0.3333333333333333,\"#9c179e\"],[0.4444444444444444,\"#bd3786\"],[0.5555555555555556,\"#d8576b\"],[0.6666666666666666,\"#ed7953\"],[0.7777777777777778,\"#fb9f3a\"],[0.8888888888888888,\"#fdca26\"],[1.0,\"#f0f921\"]],\"sequentialminus\":[[0.0,\"#0d0887\"],[0.1111111111111111,\"#46039f\"],[0.2222222222222222,\"#7201a8\"],[0.3333333333333333,\"#9c179e\"],[0.4444444444444444,\"#bd3786\"],[0.5555555555555556,\"#d8576b\"],[0.6666666666666666,\"#ed7953\"],[0.7777777777777778,\"#fb9f3a\"],[0.8888888888888888,\"#fdca26\"],[1.0,\"#f0f921\"]],\"diverging\":[[0,\"#8e0152\"],[0.1,\"#c51b7d\"],[0.2,\"#de77ae\"],[0.3,\"#f1b6da\"],[0.4,\"#fde0ef\"],[0.5,\"#f7f7f7\"],[0.6,\"#e6f5d0\"],[0.7,\"#b8e186\"],[0.8,\"#7fbc41\"],[0.9,\"#4d9221\"],[1,\"#276419\"]]},\"xaxis\":{\"gridcolor\":\"#283442\",\"linecolor\":\"#506784\",\"ticks\":\"\",\"title\":{\"standoff\":15},\"zerolinecolor\":\"#283442\",\"automargin\":true,\"zerolinewidth\":2},\"yaxis\":{\"gridcolor\":\"#283442\",\"linecolor\":\"#506784\",\"ticks\":\"\",\"title\":{\"standoff\":15},\"zerolinecolor\":\"#283442\",\"automargin\":true,\"zerolinewidth\":2},\"scene\":{\"xaxis\":{\"backgroundcolor\":\"rgb(17,17,17)\",\"gridcolor\":\"#506784\",\"linecolor\":\"#506784\",\"showbackground\":true,\"ticks\":\"\",\"zerolinecolor\":\"#C8D4E3\",\"gridwidth\":2},\"yaxis\":{\"backgroundcolor\":\"rgb(17,17,17)\",\"gridcolor\":\"#506784\",\"linecolor\":\"#506784\",\"showbackground\":true,\"ticks\":\"\",\"zerolinecolor\":\"#C8D4E3\",\"gridwidth\":2},\"zaxis\":{\"backgroundcolor\":\"rgb(17,17,17)\",\"gridcolor\":\"#506784\",\"linecolor\":\"#506784\",\"showbackground\":true,\"ticks\":\"\",\"zerolinecolor\":\"#C8D4E3\",\"gridwidth\":2}},\"shapedefaults\":{\"line\":{\"color\":\"#f2f5fa\"}},\"annotationdefaults\":{\"arrowcolor\":\"#f2f5fa\",\"arrowhead\":0,\"arrowwidth\":1},\"geo\":{\"bgcolor\":\"rgb(17,17,17)\",\"landcolor\":\"rgb(17,17,17)\",\"subunitcolor\":\"#506784\",\"showland\":true,\"showlakes\":true,\"lakecolor\":\"rgb(17,17,17)\"},\"title\":{\"x\":0.05},\"updatemenudefaults\":{\"bgcolor\":\"#506784\",\"borderwidth\":0},\"sliderdefaults\":{\"bgcolor\":\"#C8D4E3\",\"borderwidth\":1,\"bordercolor\":\"rgb(17,17,17)\",\"tickwidth\":0},\"mapbox\":{\"style\":\"dark\"}}},\"title\":{\"text\":\"Figure 11: Abalation Study (DistServe and vLLM)\\u003cbr\\u003e\\u003csup\\u003eThe figure shows that DistHigh \\u003e DistLow \\u003e vLLM++ \\u003e vLLM (vLLM++ and vLLM overlaps) \\u003c\\u002fsup\\u003e\"},\"xaxis\":{\"title\":{\"text\":\"Per-GPU Rate (tokens\\u002fs)\"}},\"yaxis\":{\"title\":{\"text\":\"Attainment (%)\"}},\"legend\":{\"title\":{\"text\":\"Configuration\"}}},                        {\"responsive\": true}                    ).then(function(){\n                            \nvar gd = document.getElementById('d39fbd48-f987-43ad-80f0-4b23a715f993');\nvar x = new MutationObserver(function (mutations, observer) {{\n        var display = window.getComputedStyle(gd).display;\n        if (!display || display === 'none') {{\n            console.log([gd, 'removed!']);\n            Plotly.purge(gd);\n            observer.disconnect();\n        }}\n}});\n\n// Listen for the removal of the full notebook cells\nvar notebookContainer = gd.closest('#notebook-container');\nif (notebookContainer) {{\n    x.observe(notebookContainer, {childList: true});\n}}\n\n// Listen for the clearing of the current output cell\nvar outputEl = gd.closest('.output');\nif (outputEl) {{\n    x.observe(outputEl, {childList: true});\n}}\n\n                        })                };                });            </script>        </div>"
     },
     "metadata": {},
     "output_type": "display_data"
    }
   ],
   "source": [
    "import plotly.graph_objects as go\n",
    "\n",
    "fig = go.Figure()\n",
    "add_plotly_trace(fig, figure_11_distserve_high, \"disthigh\")\n",
    "add_plotly_trace(fig, figure_11_distserve_low, \"distlow\")\n",
    "add_plotly_trace(fig, figure_11_vllm_high, \"vllm++\")\n",
    "add_plotly_trace(fig, figure_11_vllm_low, \"vllm\")\n",
    "fig.update_layout(\n",
    "    title=\"Figure 11: Abalation Study (DistServe and vLLM)<br>\"\n",
    "          \"<sup>The figure shows that DistHigh > DistLow > vLLM++ > vLLM (vLLM++ and vLLM overlaps) </sup>\",\n",
    "    xaxis_title=\"Per-GPU Rate (tokens/s)\",\n",
    "    yaxis_title=\"Attainment (%)\",\n",
    "    legend_title=\"Configuration\"\n",
    ")\n",
    "fig.write_html(\"visual/figure_11.html\")\n",
    "if is_notebook_mode:\n",
    "    fig.show()\n"
   ],
   "metadata": {
    "collapsed": false,
    "ExecuteTime": {
     "end_time": "2024-04-23T22:38:16.121356Z",
     "start_time": "2024-04-23T22:38:16.002302Z"
    }
   },
   "id": "a8c4a3d5380bbf97",
   "execution_count": 89
  },
  {
   "cell_type": "code",
   "outputs": [],
   "source": [
    "\n",
    "def add_matplotlib_trace(fig, df: 'DataFrame', trace: str):\n",
    "    tp_prefill, pp_prefill, tp_decode, pp_decode = get_top_config(df)\n",
    "    config_df = df[\n",
    "        (df['tp_prefill'] == tp_prefill) & (df['pp_prefill'] == pp_prefill) &\n",
    "        (df['tp_decode'] == tp_decode) & (df['pp_decode'] == pp_decode)\n",
    "        ]\n",
    "    if 'vllm' in trace:\n",
    "        name = f\"{trace}-p{tp_prefill}{pp_prefill}\"\n",
    "        pass\n",
    "    else:\n",
    "        name = f\"{trace}-p{tp_prefill}{pp_prefill}{tp_decode}{pp_decode}\"\n",
    "        pass\n",
    "\n",
    "    fig.plot(\n",
    "        config_df['per_gpu_rate'], config_df['attainment'],\n",
    "        label=name,\n",
    "        marker='o',\n",
    "    )\n",
    "    return"
   ],
   "metadata": {
    "collapsed": false,
    "ExecuteTime": {
     "end_time": "2024-04-23T22:38:16.129742Z",
     "start_time": "2024-04-23T22:38:16.033597Z"
    }
   },
   "id": "ff5ff643a25130b2",
   "execution_count": 90
  },
  {
   "cell_type": "code",
   "outputs": [
    {
     "data": {
      "text/plain": "<Figure size 640x480 with 1 Axes>",
      "image/png": "[encoded data removed]"
     },
     "metadata": {},
     "output_type": "display_data"
    }
   ],
   "source": [
    "import matplotlib.pyplot as plt\n",
    "\n",
    "# Plot a line chart with 4 curves\n",
    "# x-axis: per_gpu_rate\n",
    "# y-axis: attainment\n",
    "\n",
    "fig, ax = plt.subplots()\n",
    "add_matplotlib_trace(ax, figure_11_distserve_high, \"disthigh\")\n",
    "add_matplotlib_trace(ax, figure_11_distserve_low, \"distlow\")\n",
    "add_matplotlib_trace(ax, figure_11_vllm_high, \"vllm++\")\n",
    "add_matplotlib_trace(ax, figure_11_vllm_low, \"vllm\")\n",
    "plt.title(\"Figure 11: Abalation Study (DistServe and vLLM)\")\n",
    "plt.xlabel(\"Per-GPU Rate (req/s)\")\n",
    "plt.ylabel(\"SLO Attainment (%)\")\n",
    "plt.legend()\n",
    "fig.savefig(\"figure/figure_11a.png\")\n",
    "if is_notebook_mode:\n",
    "    plt.show()\n"
   ],
   "metadata": {
    "collapsed": false,
    "ExecuteTime": {
     "end_time": "2024-04-23T22:38:16.298266Z",
     "start_time": "2024-04-23T22:38:16.076652Z"
    }
   },
   "id": "3c147288371ee90f",
   "execution_count": 91
  }
 ],
 "metadata": {
  "kernelspec": {
   "display_name": "Python 3",
   "language": "python",
   "name": "python3"
  },
  "language_info": {
   "codemirror_mode": {
    "name": "ipython",
    "version": 2
   },
   "file_extension": ".py",
   "mimetype": "text/x-python",
   "name": "python",
   "nbconvert_exporter": "python",
   "pygments_lexer": "ipython2",
   "version": "2.7.6"
  }
 },
 "nbformat": 4,
 "nbformat_minor": 5
}
