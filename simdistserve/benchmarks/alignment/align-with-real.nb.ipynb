{
 "cells": [
  {
   "cell_type": "code",
   "execution_count": 10,
   "id": "initial_id",
   "metadata": {
    "collapsed": true,
    "ExecuteTime": {
     "end_time": "2024-04-21T16:54:04.921663Z",
     "start_time": "2024-04-21T16:54:04.912773Z"
    }
   },
   "outputs": [],
   "source": [
    "from simdistserve.benchmarks.simulate_dist import parse_args\n",
    "from simdistserve.benchmarks.simulate_dist import run_experiment"
   ]
  },
  {
   "cell_type": "code",
   "outputs": [],
   "source": [
    "tp_prefill, pp_prefill, tp_decode, pp_decode = 2, 1, 1, 1\n",
    "args = [\n",
    "    '--arrival', 'poisson',\n",
    "    '--seed', '0',\n",
    "    '--backend', 'distserve',\n",
    "    '--prefill-containment', '90',  # P90\n",
    "    '--prefill-target', '200',  # ms\n",
    "    '--decode-containment', '90',  # P90\n",
    "    '--decode-target', '100',  # ms\n",
    "    '--model', 'opt_13b',\n",
    "    '--workload', 'data-ground-truth/opt-13b-sharegpt-workload/distserve-c21d11-300-3.exp',\n",
    "    '--output', '',\n",
    "    '--rate', f'3',\n",
    "    '--N', '300',\n",
    "    '--pp-prefill', f'{pp_prefill}',\n",
    "    '--pp-decode', f'{pp_decode}',\n",
    "    '--tp-prefill', f'{tp_prefill}',\n",
    "    '--tp-decode', f'{tp_decode}',\n",
    "\n",
    "]\n",
    "args = parse_args(args_=args)\n",
    "p_contained, d_contained, latency_df = run_experiment(args)"
   ],
   "metadata": {
    "collapsed": false,
    "ExecuteTime": {
     "end_time": "2024-04-21T16:26:11.244258Z",
     "start_time": "2024-04-21T16:26:07.135109Z"
    }
   },
   "id": "6519fcec44c9f2d3",
   "execution_count": 8
  },
  {
   "cell_type": "code",
   "outputs": [
    {
     "data": {
      "text/plain": "      backend model_type       pd  rate          target  attainment  \\\n0   distserve    OPT-13B  prefill   1.0           200.0        99.8   \n1   distserve    OPT-13B   decode   1.0           100.0       100.0   \n2   distserve    OPT-13B     both   1.0  (200.0, 100.0)        99.8   \n3   distserve    OPT-13B  prefill   1.0            80.0        65.8   \n4   distserve    OPT-13B   decode   1.0            40.0       100.0   \n5   distserve    OPT-13B     both   1.0    (80.0, 40.0)        65.8   \n6   distserve    OPT-13B  prefill   1.0           120.0        90.4   \n7   distserve    OPT-13B   decode   1.0            60.0       100.0   \n8   distserve    OPT-13B     both   1.0   (120.0, 60.0)        90.4   \n9   distserve    OPT-13B  prefill   1.0           160.0        98.9   \n10  distserve    OPT-13B   decode   1.0            80.0       100.0   \n11  distserve    OPT-13B     both   1.0   (160.0, 80.0)        98.9   \n12  distserve    OPT-13B  prefill   1.0           240.0        99.9   \n13  distserve    OPT-13B   decode   1.0           120.0       100.0   \n14  distserve    OPT-13B     both   1.0  (240.0, 120.0)        99.9   \n15  distserve    OPT-13B  prefill   1.0      109.522761        85.0   \n16  distserve    OPT-13B   decode   1.0       19.875962        85.0   \n17  distserve    OPT-13B  prefill   1.0       119.04446        90.0   \n18  distserve    OPT-13B   decode   1.0       20.248801        90.0   \n19  distserve    OPT-13B  prefill   1.0      130.825943        95.0   \n20  distserve    OPT-13B   decode   1.0       21.039941        95.0   \n21  distserve    OPT-13B  prefill   1.0      145.170221        98.0   \n22  distserve    OPT-13B   decode   1.0       21.755348        98.0   \n23  distserve    OPT-13B  prefill   1.0      166.138189        99.0   \n24  distserve    OPT-13B   decode   1.0       23.108501        99.0   \n\n    tp_prefill  pp_prefill  tp_decode  pp_decode  \n0            2           1          1          1  \n1            2           1          1          1  \n2            2           1          1          1  \n3            2           1          1          1  \n4            2           1          1          1  \n5            2           1          1          1  \n6            2           1          1          1  \n7            2           1          1          1  \n8            2           1          1          1  \n9            2           1          1          1  \n10           2           1          1          1  \n11           2           1          1          1  \n12           2           1          1          1  \n13           2           1          1          1  \n14           2           1          1          1  \n15           2           1          1          1  \n16           2           1          1          1  \n17           2           1          1          1  \n18           2           1          1          1  \n19           2           1          1          1  \n20           2           1          1          1  \n21           2           1          1          1  \n22           2           1          1          1  \n23           2           1          1          1  \n24           2           1          1          1  ",
      "text/html": "<div>\n<style scoped>\n    .dataframe tbody tr th:only-of-type {\n        vertical-align: middle;\n    }\n\n    .dataframe tbody tr th {\n        vertical-align: top;\n    }\n\n    .dataframe thead th {\n        text-align: right;\n    }\n</style>\n<table border=\"1\" class=\"dataframe\">\n  <thead>\n    <tr style=\"text-align: right;\">\n      <th></th>\n      <th>backend</th>\n      <th>model_type</th>\n      <th>pd</th>\n      <th>rate</th>\n      <th>target</th>\n      <th>attainment</th>\n      <th>tp_prefill</th>\n      <th>pp_prefill</th>\n      <th>tp_decode</th>\n      <th>pp_decode</th>\n    </tr>\n  </thead>\n  <tbody>\n    <tr>\n      <th>0</th>\n      <td>distserve</td>\n      <td>OPT-13B</td>\n      <td>prefill</td>\n      <td>1.0</td>\n      <td>200.0</td>\n      <td>99.8</td>\n      <td>2</td>\n      <td>1</td>\n      <td>1</td>\n      <td>1</td>\n    </tr>\n    <tr>\n      <th>1</th>\n      <td>distserve</td>\n      <td>OPT-13B</td>\n      <td>decode</td>\n      <td>1.0</td>\n      <td>100.0</td>\n      <td>100.0</td>\n      <td>2</td>\n      <td>1</td>\n      <td>1</td>\n      <td>1</td>\n    </tr>\n    <tr>\n      <th>2</th>\n      <td>distserve</td>\n      <td>OPT-13B</td>\n      <td>both</td>\n      <td>1.0</td>\n      <td>(200.0, 100.0)</td>\n      <td>99.8</td>\n      <td>2</td>\n      <td>1</td>\n      <td>1</td>\n      <td>1</td>\n    </tr>\n    <tr>\n      <th>3</th>\n      <td>distserve</td>\n      <td>OPT-13B</td>\n      <td>prefill</td>\n      <td>1.0</td>\n      <td>80.0</td>\n      <td>65.8</td>\n      <td>2</td>\n      <td>1</td>\n      <td>1</td>\n      <td>1</td>\n    </tr>\n    <tr>\n      <th>4</th>\n      <td>distserve</td>\n      <td>OPT-13B</td>\n      <td>decode</td>\n      <td>1.0</td>\n      <td>40.0</td>\n      <td>100.0</td>\n      <td>2</td>\n      <td>1</td>\n      <td>1</td>\n      <td>1</td>\n    </tr>\n    <tr>\n      <th>5</th>\n      <td>distserve</td>\n      <td>OPT-13B</td>\n      <td>both</td>\n      <td>1.0</td>\n      <td>(80.0, 40.0)</td>\n      <td>65.8</td>\n      <td>2</td>\n      <td>1</td>\n      <td>1</td>\n      <td>1</td>\n    </tr>\n    <tr>\n      <th>6</th>\n      <td>distserve</td>\n      <td>OPT-13B</td>\n      <td>prefill</td>\n      <td>1.0</td>\n      <td>120.0</td>\n      <td>90.4</td>\n      <td>2</td>\n      <td>1</td>\n      <td>1</td>\n      <td>1</td>\n    </tr>\n    <tr>\n      <th>7</th>\n      <td>distserve</td>\n      <td>OPT-13B</td>\n      <td>decode</td>\n      <td>1.0</td>\n      <td>60.0</td>\n      <td>100.0</td>\n      <td>2</td>\n      <td>1</td>\n      <td>1</td>\n      <td>1</td>\n    </tr>\n    <tr>\n      <th>8</th>\n      <td>distserve</td>\n      <td>OPT-13B</td>\n      <td>both</td>\n      <td>1.0</td>\n      <td>(120.0, 60.0)</td>\n      <td>90.4</td>\n      <td>2</td>\n      <td>1</td>\n      <td>1</td>\n      <td>1</td>\n    </tr>\n    <tr>\n      <th>9</th>\n      <td>distserve</td>\n      <td>OPT-13B</td>\n      <td>prefill</td>\n      <td>1.0</td>\n      <td>160.0</td>\n      <td>98.9</td>\n      <td>2</td>\n      <td>1</td>\n      <td>1</td>\n      <td>1</td>\n    </tr>\n    <tr>\n      <th>10</th>\n      <td>distserve</td>\n      <td>OPT-13B</td>\n      <td>decode</td>\n      <td>1.0</td>\n      <td>80.0</td>\n      <td>100.0</td>\n      <td>2</td>\n      <td>1</td>\n      <td>1</td>\n      <td>1</td>\n    </tr>\n    <tr>\n      <th>11</th>\n      <td>distserve</td>\n      <td>OPT-13B</td>\n      <td>both</td>\n      <td>1.0</td>\n      <td>(160.0, 80.0)</td>\n      <td>98.9</td>\n      <td>2</td>\n      <td>1</td>\n      <td>1</td>\n      <td>1</td>\n    </tr>\n    <tr>\n      <th>12</th>\n      <td>distserve</td>\n      <td>OPT-13B</td>\n      <td>prefill</td>\n      <td>1.0</td>\n      <td>240.0</td>\n      <td>99.9</td>\n      <td>2</td>\n      <td>1</td>\n      <td>1</td>\n      <td>1</td>\n    </tr>\n    <tr>\n      <th>13</th>\n      <td>distserve</td>\n      <td>OPT-13B</td>\n      <td>decode</td>\n      <td>1.0</td>\n      <td>120.0</td>\n      <td>100.0</td>\n      <td>2</td>\n      <td>1</td>\n      <td>1</td>\n      <td>1</td>\n    </tr>\n    <tr>\n      <th>14</th>\n      <td>distserve</td>\n      <td>OPT-13B</td>\n      <td>both</td>\n      <td>1.0</td>\n      <td>(240.0, 120.0)</td>\n      <td>99.9</td>\n      <td>2</td>\n      <td>1</td>\n      <td>1</td>\n      <td>1</td>\n    </tr>\n    <tr>\n      <th>15</th>\n      <td>distserve</td>\n      <td>OPT-13B</td>\n      <td>prefill</td>\n      <td>1.0</td>\n      <td>109.522761</td>\n      <td>85.0</td>\n      <td>2</td>\n      <td>1</td>\n      <td>1</td>\n      <td>1</td>\n    </tr>\n    <tr>\n      <th>16</th>\n      <td>distserve</td>\n      <td>OPT-13B</td>\n      <td>decode</td>\n      <td>1.0</td>\n      <td>19.875962</td>\n      <td>85.0</td>\n      <td>2</td>\n      <td>1</td>\n      <td>1</td>\n      <td>1</td>\n    </tr>\n    <tr>\n      <th>17</th>\n      <td>distserve</td>\n      <td>OPT-13B</td>\n      <td>prefill</td>\n      <td>1.0</td>\n      <td>119.04446</td>\n      <td>90.0</td>\n      <td>2</td>\n      <td>1</td>\n      <td>1</td>\n      <td>1</td>\n    </tr>\n    <tr>\n      <th>18</th>\n      <td>distserve</td>\n      <td>OPT-13B</td>\n      <td>decode</td>\n      <td>1.0</td>\n      <td>20.248801</td>\n      <td>90.0</td>\n      <td>2</td>\n      <td>1</td>\n      <td>1</td>\n      <td>1</td>\n    </tr>\n    <tr>\n      <th>19</th>\n      <td>distserve</td>\n      <td>OPT-13B</td>\n      <td>prefill</td>\n      <td>1.0</td>\n      <td>130.825943</td>\n      <td>95.0</td>\n      <td>2</td>\n      <td>1</td>\n      <td>1</td>\n      <td>1</td>\n    </tr>\n    <tr>\n      <th>20</th>\n      <td>distserve</td>\n      <td>OPT-13B</td>\n      <td>decode</td>\n      <td>1.0</td>\n      <td>21.039941</td>\n      <td>95.0</td>\n      <td>2</td>\n      <td>1</td>\n      <td>1</td>\n      <td>1</td>\n    </tr>\n    <tr>\n      <th>21</th>\n      <td>distserve</td>\n      <td>OPT-13B</td>\n      <td>prefill</td>\n      <td>1.0</td>\n      <td>145.170221</td>\n      <td>98.0</td>\n      <td>2</td>\n      <td>1</td>\n      <td>1</td>\n      <td>1</td>\n    </tr>\n    <tr>\n      <th>22</th>\n      <td>distserve</td>\n      <td>OPT-13B</td>\n      <td>decode</td>\n      <td>1.0</td>\n      <td>21.755348</td>\n      <td>98.0</td>\n      <td>2</td>\n      <td>1</td>\n      <td>1</td>\n      <td>1</td>\n    </tr>\n    <tr>\n      <th>23</th>\n      <td>distserve</td>\n      <td>OPT-13B</td>\n      <td>prefill</td>\n      <td>1.0</td>\n      <td>166.138189</td>\n      <td>99.0</td>\n      <td>2</td>\n      <td>1</td>\n      <td>1</td>\n      <td>1</td>\n    </tr>\n    <tr>\n      <th>24</th>\n      <td>distserve</td>\n      <td>OPT-13B</td>\n      <td>decode</td>\n      <td>1.0</td>\n      <td>23.108501</td>\n      <td>99.0</td>\n      <td>2</td>\n      <td>1</td>\n      <td>1</td>\n      <td>1</td>\n    </tr>\n  </tbody>\n</table>\n</div>"
     },
     "execution_count": 9,
     "metadata": {},
     "output_type": "execute_result"
    }
   ],
   "source": [
    "latency_df"
   ],
   "metadata": {
    "collapsed": false,
    "ExecuteTime": {
     "end_time": "2024-04-21T16:26:11.262848Z",
     "start_time": "2024-04-21T16:26:11.245142Z"
    }
   },
   "id": "29d88eb9113f81ae",
   "execution_count": 9
  },
  {
   "cell_type": "code",
   "outputs": [],
   "source": [],
   "metadata": {
    "collapsed": false
   },
   "id": "59e565a42e25135a"
  }
 ],
 "metadata": {
  "kernelspec": {
   "display_name": "Python 3",
   "language": "python",
   "name": "python3"
  },
  "language_info": {
   "codemirror_mode": {
    "name": "ipython",
    "version": 2
   },
   "file_extension": ".py",
   "mimetype": "text/x-python",
   "name": "python",
   "nbconvert_exporter": "python",
   "pygments_lexer": "ipython2",
   "version": "2.7.6"
  }
 },
 "nbformat": 4,
 "nbformat_minor": 5
}
