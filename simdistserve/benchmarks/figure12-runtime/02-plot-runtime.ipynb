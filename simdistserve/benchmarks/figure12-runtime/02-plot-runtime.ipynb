{
 "cells": [
  {
   "cell_type": "code",
   "execution_count": null,
   "id": "initial_id",
   "metadata": {
    "collapsed": true
   },
   "outputs": [],
   "source": [
    "import matplotlib.pyplot as plt\n",
    "\n",
    "fontsize = 20\n",
    "plt.rcParams.update({'font.size': fontsize})\n",
    "\n",
    "fig = plt.figure(figsize = (10, 5))\n",
    "\n",
    "data = {'2':5, '4':15, '8':30, '16':35, '32': 100}\n",
    "  \n",
    " \n",
    "# creating the bar plot\n",
    "plt.grid(axis='y', linestyle='--', linewidth=0.5, zorder=0)\n",
    "plt.bar(data.keys(), data.values(), width = 0.4, zorder=3)\n",
    " \n",
    "plt.xlabel(\"The number of GPUs\")\n",
    "plt.ylabel(\"Time (s)\")\n",
    "plt.savefig(\"runtime.pdf\", bbox_inches=\"tight\")"
   ]
  }
 ],
 "metadata": {
  "kernelspec": {
   "display_name": "Python 3",
   "language": "python",
   "name": "python3"
  },
  "language_info": {
   "codemirror_mode": {
    "name": "ipython",
    "version": 2
   },
   "file_extension": ".py",
   "mimetype": "text/x-python",
   "name": "python",
   "nbconvert_exporter": "python",
   "pygments_lexer": "ipython2",
   "version": "2.7.6"
  }
 },
 "nbformat": 4,
 "nbformat_minor": 5
}
